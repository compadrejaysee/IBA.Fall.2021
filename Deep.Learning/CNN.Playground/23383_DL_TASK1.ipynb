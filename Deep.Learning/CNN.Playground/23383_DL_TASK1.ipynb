{
  "nbformat": 4,
  "nbformat_minor": 0,
  "metadata": {
    "colab": {
      "name": "DL2.ipynb",
      "provenance": []
    },
    "kernelspec": {
      "name": "python3",
      "display_name": "Python 3"
    },
    "language_info": {
      "name": "python"
    },
    "accelerator": "GPU"
  },
  "cells": [
    {
      "cell_type": "code",
      "metadata": {
        "id": "zMsYetBc9Opx"
      },
      "source": [
        "import tensorflow as tf\n",
        "from tensorflow.keras import datasets, layers, models\n",
        "import matplotlib.pyplot as plt\n",
        "import numpy as np"
      ],
      "execution_count": 1,
      "outputs": []
    },
    {
      "cell_type": "code",
      "metadata": {
        "id": "kXg503kbAyCG",
        "colab": {
          "base_uri": "https://localhost:8080/"
        },
        "outputId": "c12ca36e-c473-42c7-9305-c54861ba88fa"
      },
      "source": [
        "(train_img1, train_labels1), (test_img1, test_labels1) = datasets.cifar10.load_data()"
      ],
      "execution_count": 2,
      "outputs": [
        {
          "output_type": "stream",
          "name": "stdout",
          "text": [
            "Downloading data from https://www.cs.toronto.edu/~kriz/cifar-10-python.tar.gz\n",
            "170500096/170498071 [==============================] - 2s 0us/step\n",
            "170508288/170498071 [==============================] - 2s 0us/step\n"
          ]
        }
      ]
    },
    {
      "cell_type": "markdown",
      "metadata": {
        "id": "SbcDmcixBkx-"
      },
      "source": [
        "400 training, 200 validation and 200 testing."
      ]
    },
    {
      "cell_type": "code",
      "metadata": {
        "id": "MOw_MrJZA593"
      },
      "source": [
        "train_count = 40000\n",
        "valid_count = 10000\n",
        "test_count = 10000\n",
        "num_classes = 10\n",
        "\n",
        "## select datasets up to the count defined above\n",
        "train_img, train_labels = train_img1[0:train_count], train_labels1[0:train_count]\n",
        "valid_img, valid_labels = train_img1[train_count: train_count + valid_count], train_labels1[train_count: train_count + valid_count]\n",
        "test_img, test_labels = test_img1[0:test_count], test_labels1[0:test_count]\n",
        "\n",
        "# Normalize pixel values to be between 0 and 1\n",
        "# train_img, valid_img, test_img = train_img / 255.0, valid_img / 255.0 , test_img / 255.0"
      ],
      "execution_count": 3,
      "outputs": []
    },
    {
      "cell_type": "code",
      "metadata": {
        "colab": {
          "base_uri": "https://localhost:8080/",
          "height": 176
        },
        "id": "jELJR_YlIzB-",
        "outputId": "1546dc97-a628-4b79-99a1-01079e5d0e84"
      },
      "source": [
        "plt.figure(figsize=(2,2))\n",
        "plt.imshow(train_img[3])"
      ],
      "execution_count": 9,
      "outputs": [
        {
          "output_type": "execute_result",
          "data": {
            "text/plain": [
              "<matplotlib.image.AxesImage at 0x7f92568ca950>"
            ]
          },
          "metadata": {},
          "execution_count": 9
        },
        {
          "output_type": "display_data",
          "data": {
            "image/png": "[encoded data removed]",
            "text/plain": [
              "<Figure size 144x144 with 1 Axes>"
            ]
          },
          "metadata": {
            "needs_background": "light"
          }
        }
      ]
    },
    {
      "cell_type": "code",
      "metadata": {
        "id": "7q3pV-PFJJZP"
      },
      "source": [
        " train_img, valid_img, test_img = train_img / 255.0, valid_img / 255.0 , test_img / 255.0"
      ],
      "execution_count": 11,
      "outputs": []
    },
    {
      "cell_type": "code",
      "metadata": {
        "id": "bU2rPnU2nkhU"
      },
      "source": [
        "test_labels = test_labels.reshape(-1,)\n",
        "valid_labels = valid_labels.reshape(-1,)\n",
        "train_labels = train_labels.reshape(-1,)"
      ],
      "execution_count": 14,
      "outputs": []
    },
    {
      "cell_type": "code",
      "metadata": {
        "id": "tvHlhXV6KUeq"
      },
      "source": [
        "\n",
        "def run_model(filters, neurons_1st, neurons_2nd , epochs, learning_rate, trainx, trainy, validx, validy, testx, testy, images_shape=(32,32,3)):\n",
        "  cnn_model = models.Sequential()\n",
        "  cnn_model.add(layers.Conv2D(filters=filters, kernel_size =(3, 3), activation='relu', input_shape=images_shape))\n",
        "  cnn_model.add(layers.MaxPooling2D(pool_size=(2, 2)))\n",
        "  cnn_model.add(layers.Flatten())\n",
        "  cnn_model.add(layers.Dense(neurons_1st, activation='relu'))\n",
        "  cnn_model.add(layers.Dense(neurons_2nd,  activation=\"softmax\"))\n",
        "\n",
        "  cnn_model.compile(optimizer=tf.keras.optimizers.Adam(learning_rate=learning_rate), loss=tf.keras.losses.SparseCategoricalCrossentropy(from_logits=True), metrics=['accuracy'])\n",
        "\n",
        "# cnn_model_params = cnn_model.fit(train_img, train_labels, batch_size=32, epochs=10, validation_data=(valid_img, valid_labels))\n",
        "\n",
        "  cnn_model_params = cnn_model.fit(trainx, trainy, epochs=epochs, validation_data=(validx, validy))\n",
        "\n",
        "  test_loss, test_acc = cnn_model.evaluate(testx,  testy, verbose=2)\n",
        "  \n",
        "  return cnn_model, cnn_model_params , (test_loss, test_acc)"
      ],
      "execution_count": 6,
      "outputs": []
    },
    {
      "cell_type": "code",
      "metadata": {
        "colab": {
          "base_uri": "https://localhost:8080/"
        },
        "id": "Z9hTAz5LL64K",
        "outputId": "bc6935f9-233c-4c4a-a935-bcf54b5a48cc"
      },
      "source": [
        "cifar_model, cifar_history, test_history = run_model(32,132,10,20,1e-3,train_img, train_labels, valid_img, valid_labels, test_img, test_labels)"
      ],
      "execution_count": 16,
      "outputs": [
        {
          "output_type": "stream",
          "name": "stdout",
          "text": [
            "Epoch 1/20\n"
          ]
        },
        {
          "output_type": "stream",
          "name": "stderr",
          "text": [
            "/usr/local/lib/python3.7/dist-packages/keras/backend.py:4907: UserWarning: \"`sparse_categorical_crossentropy` received `from_logits=True`, but the `output` argument was produced by a sigmoid or softmax activation and thus does not represent logits. Was this intended?\"\n",
            "  '\"`sparse_categorical_crossentropy` received `from_logits=True`, but '\n"
          ]
        },
        {
          "output_type": "stream",
          "name": "stdout",
          "text": [
            "1250/1250 [==============================] - 37s 6ms/step - loss: 1.5024 - accuracy: 0.4611 - val_loss: 3.1670 - val_accuracy: 0.1016\n",
            "Epoch 2/20\n",
            "1250/1250 [==============================] - 7s 5ms/step - loss: 1.2008 - accuracy: 0.5764 - val_loss: 3.1934 - val_accuracy: 0.1016\n",
            "Epoch 3/20\n",
            "1250/1250 [==============================] - 7s 5ms/step - loss: 1.0844 - accuracy: 0.6175 - val_loss: 3.6505 - val_accuracy: 0.0952\n",
            "Epoch 4/20\n",
            "1250/1250 [==============================] - 7s 5ms/step - loss: 1.0046 - accuracy: 0.6478 - val_loss: 3.9426 - val_accuracy: 0.0952\n",
            "Epoch 5/20\n",
            "1250/1250 [==============================] - 7s 6ms/step - loss: 0.9355 - accuracy: 0.6707 - val_loss: 3.5960 - val_accuracy: 0.0952\n",
            "Epoch 6/20\n",
            "1250/1250 [==============================] - 7s 6ms/step - loss: 0.8770 - accuracy: 0.6927 - val_loss: 3.8501 - val_accuracy: 0.0952\n",
            "Epoch 7/20\n",
            "1250/1250 [==============================] - 7s 6ms/step - loss: 0.8155 - accuracy: 0.7162 - val_loss: 3.5158 - val_accuracy: 0.1016\n",
            "Epoch 8/20\n",
            "1250/1250 [==============================] - 7s 5ms/step - loss: 0.7599 - accuracy: 0.7333 - val_loss: 3.9272 - val_accuracy: 0.0952\n",
            "Epoch 9/20\n",
            "1250/1250 [==============================] - 7s 5ms/step - loss: 0.7088 - accuracy: 0.7508 - val_loss: 3.8177 - val_accuracy: 0.0997\n",
            "Epoch 10/20\n",
            "1250/1250 [==============================] - 7s 6ms/step - loss: 0.6561 - accuracy: 0.7709 - val_loss: 3.8387 - val_accuracy: 0.0952\n",
            "Epoch 11/20\n",
            "1250/1250 [==============================] - 7s 6ms/step - loss: 0.6029 - accuracy: 0.7893 - val_loss: 3.6346 - val_accuracy: 0.0952\n",
            "Epoch 12/20\n",
            "1250/1250 [==============================] - 7s 5ms/step - loss: 0.5615 - accuracy: 0.8028 - val_loss: 3.6223 - val_accuracy: 0.0997\n",
            "Epoch 13/20\n",
            "1250/1250 [==============================] - 7s 5ms/step - loss: 0.5176 - accuracy: 0.8187 - val_loss: 3.1942 - val_accuracy: 0.0997\n",
            "Epoch 14/20\n",
            "1250/1250 [==============================] - 7s 6ms/step - loss: 0.4696 - accuracy: 0.8340 - val_loss: 3.1318 - val_accuracy: 0.0952\n",
            "Epoch 15/20\n",
            "1250/1250 [==============================] - 7s 5ms/step - loss: 0.4309 - accuracy: 0.8506 - val_loss: 3.7244 - val_accuracy: 0.0997\n",
            "Epoch 16/20\n",
            "1250/1250 [==============================] - 7s 5ms/step - loss: 0.3967 - accuracy: 0.8630 - val_loss: 3.7579 - val_accuracy: 0.1014\n",
            "Epoch 17/20\n",
            "1250/1250 [==============================] - 7s 6ms/step - loss: 0.3607 - accuracy: 0.8743 - val_loss: 3.7636 - val_accuracy: 0.1014\n",
            "Epoch 18/20\n",
            "1250/1250 [==============================] - 7s 6ms/step - loss: 0.3229 - accuracy: 0.8876 - val_loss: 3.8850 - val_accuracy: 0.1014\n",
            "Epoch 19/20\n",
            "1250/1250 [==============================] - 7s 6ms/step - loss: 0.2883 - accuracy: 0.8979 - val_loss: 3.7392 - val_accuracy: 0.1016\n",
            "Epoch 20/20\n",
            "1250/1250 [==============================] - 7s 5ms/step - loss: 0.2666 - accuracy: 0.9084 - val_loss: 5.1158 - val_accuracy: 0.1014\n",
            "313/313 - 1s - loss: 5.1144 - accuracy: 0.1000\n"
          ]
        }
      ]
    },
    {
      "cell_type": "code",
      "metadata": {
        "colab": {
          "base_uri": "https://localhost:8080/",
          "height": 296
        },
        "id": "KL_KbV5XyuX2",
        "outputId": "5ba1f22c-9ca8-4d26-c768-30a82233bd74"
      },
      "source": [
        "plt.plot(cifar_history.history['accuracy'], label='accuracy')\n",
        "plt.plot(cifar_history.history['val_accuracy'], label = 'val_accuracy')\n",
        "plt.xlabel('Epoch')\n",
        "plt.ylabel('Accuracy')\n",
        "plt.legend(loc='best')"
      ],
      "execution_count": 17,
      "outputs": [
        {
          "output_type": "execute_result",
          "data": {
            "text/plain": [
              "<matplotlib.legend.Legend at 0x7f9250471f10>"
            ]
          },
          "metadata": {},
          "execution_count": 17
        },
        {
          "output_type": "display_data",
          "data": {
            "image/png": "[encoded data removed]",
            "text/plain": [
              "<Figure size 432x288 with 1 Axes>"
            ]
          },
          "metadata": {
            "needs_background": "light"
          }
        }
      ]
    },
    {
      "cell_type": "code",
      "metadata": {
        "id": "rifW6HtR4w4r"
      },
      "source": [
        ""
      ],
      "execution_count": null,
      "outputs": []
    },
    {
      "cell_type": "markdown",
      "metadata": {
        "id": "upMaAEgY5alc"
      },
      "source": [
        "# Fashion-MNIST"
      ]
    },
    {
      "cell_type": "code",
      "metadata": {
        "colab": {
          "base_uri": "https://localhost:8080/"
        },
        "id": "l8SX9uxT5k7_",
        "outputId": "2b47417e-8008-427e-d6c0-1cda20adad67"
      },
      "source": [
        "(train_img1, train_labels1), (test_img1, test_labels1) = datasets.fashion_mnist.load_data()\n",
        "train_count = 50000\n",
        "valid_count = 10000\n",
        "test_count = 10000\n",
        "num_classes = 10\n",
        "\n",
        "## select datasets up to the count defined above\n",
        "train_img, train_labels = train_img1[0:train_count], train_labels1[0:train_count]\n",
        "valid_img, valid_labels = train_img1[train_count: train_count + valid_count], train_labels1[train_count: train_count + valid_count]\n",
        "test_img, test_labels = test_img1[0:test_count], test_labels1[0:test_count]\n"
      ],
      "execution_count": 2,
      "outputs": [
        {
          "output_type": "stream",
          "name": "stdout",
          "text": [
            "Downloading data from https://storage.googleapis.com/tensorflow/tf-keras-datasets/train-labels-idx1-ubyte.gz\n",
            "32768/29515 [=================================] - 0s 0us/step\n",
            "40960/29515 [=========================================] - 0s 0us/step\n",
            "Downloading data from https://storage.googleapis.com/tensorflow/tf-keras-datasets/train-images-idx3-ubyte.gz\n",
            "26427392/26421880 [==============================] - 0s 0us/step\n",
            "26435584/26421880 [==============================] - 0s 0us/step\n",
            "Downloading data from https://storage.googleapis.com/tensorflow/tf-keras-datasets/t10k-labels-idx1-ubyte.gz\n",
            "16384/5148 [===============================================================================================] - 0s 0us/step\n",
            "Downloading data from https://storage.googleapis.com/tensorflow/tf-keras-datasets/t10k-images-idx3-ubyte.gz\n",
            "4423680/4422102 [==============================] - 0s 0us/step\n",
            "4431872/4422102 [==============================] - 0s 0us/step\n"
          ]
        }
      ]
    },
    {
      "cell_type": "code",
      "metadata": {
        "colab": {
          "base_uri": "https://localhost:8080/",
          "height": 282
        },
        "id": "c_a05BxwKkXC",
        "outputId": "13a9571c-1968-46bb-8ecf-80279471d3f5"
      },
      "source": [
        "plt.imshow(train_img[4])"
      ],
      "execution_count": 3,
      "outputs": [
        {
          "output_type": "execute_result",
          "data": {
            "text/plain": [
              "<matplotlib.image.AxesImage at 0x7f27076cbfd0>"
            ]
          },
          "metadata": {},
          "execution_count": 3
        },
        {
          "output_type": "display_data",
          "data": {
            "image/png": "[encoded data removed]",
            "text/plain": [
              "<Figure size 432x288 with 1 Axes>"
            ]
          },
          "metadata": {
            "needs_background": "light"
          }
        }
      ]
    },
    {
      "cell_type": "code",
      "metadata": {
        "id": "qHhqHxKiLarA"
      },
      "source": [
        "## reshape data into (28, 28, 1)\n",
        "train_img = train_img.reshape(train_count, 28, 28, 1)\n",
        "valid_img = valid_img.reshape(valid_count, 28, 28, 1)\n",
        "test_img = test_img.reshape(test_count, 28, 28, 1)"
      ],
      "execution_count": 4,
      "outputs": []
    },
    {
      "cell_type": "code",
      "metadata": {
        "colab": {
          "base_uri": "https://localhost:8080/"
        },
        "id": "3EqeYtrP5_h6",
        "outputId": "2be66b2a-a607-4d5b-b4ba-55e0113777f4"
      },
      "source": [
        "mnist_model, mnist_history, test_history = run_model(32,132,10,20,1e-3,train_img, train_labels, valid_img, valid_labels, test_img, test_labels, images_shape=(28,28,1))"
      ],
      "execution_count": 7,
      "outputs": [
        {
          "output_type": "stream",
          "name": "stdout",
          "text": [
            "Epoch 1/20\n"
          ]
        },
        {
          "output_type": "stream",
          "name": "stderr",
          "text": [
            "/usr/local/lib/python3.7/dist-packages/keras/backend.py:4907: UserWarning: \"`sparse_categorical_crossentropy` received `from_logits=True`, but the `output` argument was produced by a sigmoid or softmax activation and thus does not represent logits. Was this intended?\"\n",
            "  '\"`sparse_categorical_crossentropy` received `from_logits=True`, but '\n"
          ]
        },
        {
          "output_type": "stream",
          "name": "stdout",
          "text": [
            "1563/1563 [==============================] - 39s 6ms/step - loss: 1.0117 - accuracy: 0.8412 - val_loss: 0.3517 - val_accuracy: 0.8779\n",
            "Epoch 2/20\n",
            "1563/1563 [==============================] - 9s 6ms/step - loss: 0.2938 - accuracy: 0.8941 - val_loss: 0.3317 - val_accuracy: 0.8843\n",
            "Epoch 3/20\n",
            "1563/1563 [==============================] - 9s 6ms/step - loss: 0.2527 - accuracy: 0.9083 - val_loss: 0.3360 - val_accuracy: 0.8843\n",
            "Epoch 4/20\n",
            "1563/1563 [==============================] - 9s 6ms/step - loss: 0.2264 - accuracy: 0.9163 - val_loss: 0.3235 - val_accuracy: 0.8927\n",
            "Epoch 5/20\n",
            "1563/1563 [==============================] - 9s 6ms/step - loss: 0.2078 - accuracy: 0.9225 - val_loss: 0.3470 - val_accuracy: 0.8910\n",
            "Epoch 6/20\n",
            "1563/1563 [==============================] - 9s 6ms/step - loss: 0.1892 - accuracy: 0.9297 - val_loss: 0.3702 - val_accuracy: 0.8958\n",
            "Epoch 7/20\n",
            "1563/1563 [==============================] - 9s 6ms/step - loss: 0.1764 - accuracy: 0.9360 - val_loss: 0.3864 - val_accuracy: 0.8951\n",
            "Epoch 8/20\n",
            "1563/1563 [==============================] - 9s 6ms/step - loss: 0.1571 - accuracy: 0.9417 - val_loss: 0.4003 - val_accuracy: 0.8962\n",
            "Epoch 9/20\n",
            "1563/1563 [==============================] - 9s 5ms/step - loss: 0.1423 - accuracy: 0.9479 - val_loss: 0.4023 - val_accuracy: 0.8910\n",
            "Epoch 10/20\n",
            "1563/1563 [==============================] - 9s 6ms/step - loss: 0.1289 - accuracy: 0.9535 - val_loss: 0.4833 - val_accuracy: 0.8806\n",
            "Epoch 11/20\n",
            "1563/1563 [==============================] - 9s 6ms/step - loss: 0.1174 - accuracy: 0.9566 - val_loss: 0.5184 - val_accuracy: 0.8814\n",
            "Epoch 12/20\n",
            "1563/1563 [==============================] - 8s 5ms/step - loss: 0.1106 - accuracy: 0.9600 - val_loss: 0.5551 - val_accuracy: 0.8841\n",
            "Epoch 13/20\n",
            "1563/1563 [==============================] - 8s 5ms/step - loss: 0.1053 - accuracy: 0.9628 - val_loss: 0.5457 - val_accuracy: 0.8931\n",
            "Epoch 14/20\n",
            "1563/1563 [==============================] - 9s 5ms/step - loss: 0.0911 - accuracy: 0.9674 - val_loss: 0.6250 - val_accuracy: 0.8891\n",
            "Epoch 15/20\n",
            "1563/1563 [==============================] - 9s 6ms/step - loss: 0.0857 - accuracy: 0.9692 - val_loss: 0.6976 - val_accuracy: 0.8917\n",
            "Epoch 16/20\n",
            "1563/1563 [==============================] - 9s 6ms/step - loss: 0.0831 - accuracy: 0.9715 - val_loss: 0.6410 - val_accuracy: 0.8923\n",
            "Epoch 17/20\n",
            "1563/1563 [==============================] - 9s 6ms/step - loss: 0.0809 - accuracy: 0.9721 - val_loss: 0.7366 - val_accuracy: 0.8874\n",
            "Epoch 18/20\n",
            "1563/1563 [==============================] - 9s 6ms/step - loss: 0.0743 - accuracy: 0.9748 - val_loss: 0.7223 - val_accuracy: 0.8874\n",
            "Epoch 19/20\n",
            "1563/1563 [==============================] - 9s 6ms/step - loss: 0.0742 - accuracy: 0.9736 - val_loss: 0.7941 - val_accuracy: 0.8877\n",
            "Epoch 20/20\n",
            "1563/1563 [==============================] - 9s 6ms/step - loss: 0.0700 - accuracy: 0.9762 - val_loss: 0.8748 - val_accuracy: 0.8818\n",
            "313/313 - 1s - loss: 0.9016 - accuracy: 0.8852\n"
          ]
        }
      ]
    },
    {
      "cell_type": "code",
      "metadata": {
        "colab": {
          "base_uri": "https://localhost:8080/"
        },
        "id": "aBIPwmQi7MKT",
        "outputId": "9714917e-3aaa-4a7e-9da1-67ba86f85dda"
      },
      "source": [
        "### test accuracy\n",
        "test_history[1]"
      ],
      "execution_count": 8,
      "outputs": [
        {
          "output_type": "execute_result",
          "data": {
            "text/plain": [
              "0.885200023651123"
            ]
          },
          "metadata": {},
          "execution_count": 8
        }
      ]
    },
    {
      "cell_type": "code",
      "metadata": {
        "colab": {
          "base_uri": "https://localhost:8080/",
          "height": 296
        },
        "id": "_2ADstKu99rq",
        "outputId": "ada44c04-478e-4649-ee21-2fd7cadabd57"
      },
      "source": [
        "plt.plot(mnist_history.history['accuracy'], label='accuracy')\n",
        "plt.plot(mnist_history.history['val_accuracy'], label = 'val_accuracy')\n",
        "plt.xlabel('Epoch')\n",
        "plt.ylabel('Accuracy')\n",
        "plt.legend(loc='best')"
      ],
      "execution_count": 10,
      "outputs": [
        {
          "output_type": "execute_result",
          "data": {
            "text/plain": [
              "<matplotlib.legend.Legend at 0x7f2707b79050>"
            ]
          },
          "metadata": {},
          "execution_count": 10
        },
        {
          "output_type": "display_data",
          "data": {
            "image/png": "[encoded data removed]",
            "text/plain": [
              "<Figure size 432x288 with 1 Axes>"
            ]
          },
          "metadata": {
            "needs_background": "light"
          }
        }
      ]
    },
    {
      "cell_type": "markdown",
      "metadata": {
        "id": "wwzxYaj3FXN-"
      },
      "source": [
        "looking the grpahs for both these models we see that accuracy increases with each epochs. \n",
        "\n",
        "Cifar's accuracy starts from 0.46 whereas fashion mnist accuracy starts from 0.84 when using just a 1 convulation + pooling layer. \n",
        "\n",
        "Validation of Cifar's data performed poorly where as validation for fashion mnist reolved around 0.88 which is much better.\n",
        "\n",
        "It seems due to the images being coloured in case of cifar, model validation performed poorly. model was overfitted in this case. maybe using a more sophisticated model either by increasing the c+p layer, or using batch normalization, or using neurons dropout might increasing the validation accuracy and will not overfit the model\n",
        "\n",
        "in case of fashion mnist, since the images were grayscaled, using the simple model was enough to classify the images. increasing the complexity might only increasing the accuracy by few amount."
      ]
    }
  ]
}