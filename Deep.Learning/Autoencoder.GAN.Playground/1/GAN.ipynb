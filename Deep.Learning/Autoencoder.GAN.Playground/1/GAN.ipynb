{
  "nbformat": 4,
  "nbformat_minor": 0,
  "metadata": {
    "colab": {
      "name": "GAN.ipynb",
      "provenance": [],
      "collapsed_sections": []
    },
    "kernelspec": {
      "name": "python3",
      "display_name": "Python 3"
    },
    "language_info": {
      "name": "python"
    }
  },
  "cells": [
    {
      "cell_type": "markdown",
      "source": [
        "### Install Libs"
      ],
      "metadata": {
        "id": "bnnq5PJNBFg9"
      }
    },
    {
      "cell_type": "code",
      "source": [
        "!pip install rdt"
      ],
      "metadata": {
        "colab": {
          "base_uri": "https://localhost:8080/",
          "height": 954
        },
        "id": "TCjbktMov266",
        "outputId": "e67d92bc-eb82-43d0-ef99-d0d4eec689c2"
      },
      "execution_count": 1,
      "outputs": [
        {
          "output_type": "stream",
          "name": "stdout",
          "text": [
            "Collecting rdt\n",
            "  Downloading rdt-0.6.2-py2.py3-none-any.whl (35 kB)\n",
            "Collecting scikit-learn<1,>=0.24\n",
            "  Downloading scikit_learn-0.24.2-cp37-cp37m-manylinux2010_x86_64.whl (22.3 MB)\n",
            "\u001b[K     |████████████████████████████████| 22.3 MB 1.6 MB/s \n",
            "\u001b[?25hCollecting psutil<6,>=5.7\n",
            "  Downloading psutil-5.9.0-cp37-cp37m-manylinux_2_12_x86_64.manylinux2010_x86_64.manylinux_2_17_x86_64.manylinux2014_x86_64.whl (280 kB)\n",
            "\u001b[K     |████████████████████████████████| 280 kB 52.6 MB/s \n",
            "\u001b[?25hCollecting numpy<2,>=1.20.0\n",
            "  Downloading numpy-1.21.5-cp37-cp37m-manylinux_2_12_x86_64.manylinux2010_x86_64.whl (15.7 MB)\n",
            "\u001b[K     |████████████████████████████████| 15.7 MB 46.3 MB/s \n",
            "\u001b[?25hRequirement already satisfied: pandas<2,>=1.1.3 in /usr/local/lib/python3.7/dist-packages (from rdt) (1.1.5)\n",
            "Collecting pyyaml<6,>=5.4.1\n",
            "  Downloading PyYAML-5.4.1-cp37-cp37m-manylinux1_x86_64.whl (636 kB)\n",
            "\u001b[K     |████████████████████████████████| 636 kB 58.4 MB/s \n",
            "\u001b[?25hCollecting scipy<2,>=1.5.4\n",
            "  Downloading scipy-1.7.3-cp37-cp37m-manylinux_2_12_x86_64.manylinux2010_x86_64.whl (38.1 MB)\n",
            "\u001b[K     |████████████████████████████████| 38.1 MB 1.1 MB/s \n",
            "\u001b[?25hRequirement already satisfied: python-dateutil>=2.7.3 in /usr/local/lib/python3.7/dist-packages (from pandas<2,>=1.1.3->rdt) (2.8.2)\n",
            "Requirement already satisfied: pytz>=2017.2 in /usr/local/lib/python3.7/dist-packages (from pandas<2,>=1.1.3->rdt) (2018.9)\n",
            "Requirement already satisfied: six>=1.5 in /usr/local/lib/python3.7/dist-packages (from python-dateutil>=2.7.3->pandas<2,>=1.1.3->rdt) (1.15.0)\n",
            "Requirement already satisfied: joblib>=0.11 in /usr/local/lib/python3.7/dist-packages (from scikit-learn<1,>=0.24->rdt) (1.1.0)\n",
            "Requirement already satisfied: threadpoolctl>=2.0.0 in /usr/local/lib/python3.7/dist-packages (from scikit-learn<1,>=0.24->rdt) (3.0.0)\n",
            "Installing collected packages: numpy, scipy, scikit-learn, pyyaml, psutil, rdt\n",
            "  Attempting uninstall: numpy\n",
            "    Found existing installation: numpy 1.19.5\n",
            "    Uninstalling numpy-1.19.5:\n",
            "      Successfully uninstalled numpy-1.19.5\n",
            "  Attempting uninstall: scipy\n",
            "    Found existing installation: scipy 1.4.1\n",
            "    Uninstalling scipy-1.4.1:\n",
            "      Successfully uninstalled scipy-1.4.1\n",
            "  Attempting uninstall: scikit-learn\n",
            "    Found existing installation: scikit-learn 1.0.1\n",
            "    Uninstalling scikit-learn-1.0.1:\n",
            "      Successfully uninstalled scikit-learn-1.0.1\n",
            "  Attempting uninstall: pyyaml\n",
            "    Found existing installation: PyYAML 3.13\n",
            "    Uninstalling PyYAML-3.13:\n",
            "      Successfully uninstalled PyYAML-3.13\n",
            "  Attempting uninstall: psutil\n",
            "    Found existing installation: psutil 5.4.8\n",
            "    Uninstalling psutil-5.4.8:\n",
            "      Successfully uninstalled psutil-5.4.8\n",
            "\u001b[31mERROR: pip's dependency resolver does not currently take into account all the packages that are installed. This behaviour is the source of the following dependency conflicts.\n",
            "yellowbrick 1.3.post1 requires numpy<1.20,>=1.16.0, but you have numpy 1.21.5 which is incompatible.\n",
            "datascience 0.10.6 requires folium==0.2.1, but you have folium 0.8.3 which is incompatible.\n",
            "albumentations 0.1.12 requires imgaug<0.2.7,>=0.2.5, but you have imgaug 0.2.9 which is incompatible.\u001b[0m\n",
            "Successfully installed numpy-1.21.5 psutil-5.9.0 pyyaml-5.4.1 rdt-0.6.2 scikit-learn-0.24.2 scipy-1.7.3\n"
          ]
        },
        {
          "output_type": "display_data",
          "data": {
            "application/vnd.colab-display-data+json": {
              "pip_warning": {
                "packages": [
                  "numpy",
                  "psutil"
                ]
              }
            }
          },
          "metadata": {}
        }
      ]
    },
    {
      "cell_type": "code",
      "source": [
        "from google.colab import drive\n",
        "drive.mount('/content/drive')"
      ],
      "metadata": {
        "colab": {
          "base_uri": "https://localhost:8080/"
        },
        "id": "QkHj-sgzSU68",
        "outputId": "20c3b117-8c82-452f-c461-4c6274e0fc4b"
      },
      "execution_count": 9,
      "outputs": [
        {
          "output_type": "stream",
          "name": "stdout",
          "text": [
            "Mounted at /content/drive\n"
          ]
        }
      ]
    },
    {
      "cell_type": "markdown",
      "source": [
        "### DATA PROCESSING"
      ],
      "metadata": {
        "id": "CYW-qsEgBPEY"
      }
    },
    {
      "cell_type": "code",
      "source": [
        "import pandas as pd\n",
        "import numpy as np\n",
        "from rdt.transformers import OneHotEncodingTransformer\n",
        "from sklearn import preprocessing\n",
        "import random\n",
        "import torch as T\n",
        "import torch.nn as nn\n",
        "import torch.optim as optim\n",
        "import torch.utils.data\n",
        "import matplotlib.pyplot as plt\n",
        "class DataProcessing():\n",
        "  def __init__(self, df,disc_name,cont_name):\n",
        "        super(DataProcessing, self).__init__()\n",
        "        self.data=df[disc_name+cont_name]\n",
        "        self.disc_colmns=disc_name\n",
        "        self.cont_colmns=cont_name\n",
        "  def show(self):\n",
        "    print(self.data)\n",
        "  def transformData(self):\n",
        "    new_data=[]\n",
        "    for i in range(len(self.disc_colmns)):\n",
        "      ohe = OneHotEncodingTransformer()\n",
        "      fit_data = pd.DataFrame(self.data, columns=[self.disc_colmns[i]])\n",
        "      ohe.fit(fit_data, self.disc_colmns[i])\n",
        "      num_categories = len(ohe.dummies)\n",
        "      print(num_categories)\n",
        "      if i==0:\n",
        "        new_data=ohe.transform(fit_data).to_numpy()\n",
        "      else:\n",
        "        new_data=np.concatenate((new_data, ohe.transform(fit_data).to_numpy()), axis=1)\n",
        "    self.transformations=[]\n",
        "    for i in range(len(self.cont_colmns)):\n",
        "      scaler = preprocessing.StandardScaler()\n",
        "      fit_data = pd.DataFrame(self.data, columns=[self.cont_colmns[i]]).to_numpy()\n",
        "      scaler.fit(fit_data)\n",
        "      new_data=np.concatenate((new_data, scaler.transform(fit_data)), axis=1)\n",
        "      self.transformations.append((scaler.mean_,scaler.scale_))\n",
        "    print('Before Transformation: ')\n",
        "    print(self.data.head(5))\n",
        "    print('After Transformation: ')\n",
        "    df=pd.DataFrame(new_data,columns=['Outcomes1','Outcomes2','Pregnancies','Glucose','BloodPressure','SkinThickness','Insulin','BMI','DiabetesPedigree','Age'])\n",
        "    print(df.head(5))\n",
        "    return new_data\n",
        "  def transformBack(self,data):\n",
        "    clmns=columns=['Outcomes1','Outcomes2','Pregnancies','Glucose','BloodPressure','SkinThickness','Insulin','BMI','DiabetesPedigree','Age']\n",
        "    df_prev=pd.DataFrame(data,columns=clmns)\n",
        "    new_datan=[]\n",
        "    \n",
        "    print(len(self.cont_colmns))\n",
        "    for j in range(len(data)):\n",
        "      new_data=[]\n",
        "      new_data.append(np.argmax(data[j,0:2]))\n",
        "      for i in range(len(self.cont_colmns)):\n",
        "        m_,v_=self.transformations[i]\n",
        "        new_data.append(np.rint(v_*data[j,1+i]+m_))\n",
        "      new_datan.append(new_data)\n",
        "    print('Synthesized Data (Normed): ')\n",
        "    print(df_prev.head(5))\n",
        "    print('Synthesized Data (De-Normed): ')\n",
        "    df=pd.DataFrame(new_datan,columns=['Outcomes','Pregnancies','Glucose','BloodPressure','SkinThickness','Insulin','BMI','DiabetesPedigree','Age'])\n",
        "    print(df.head(5))\n",
        "def GHData():\n",
        "  df=pd.read_csv('/content/drive/MyDrive/DL/diabetes.csv')\n",
        "  dp=DataProcessing(df,['Outcomes'],['Pregnancies','Glucose','BloodPressure','SkinThickness','Insulin','BMI','DiabetesPedigree','Age'])\n",
        "  transform_data=dp.transformData()\n",
        "  print('Dimension of Dataset: ', transform_data.shape)\n",
        "  return transform_data,dp  "
      ],
      "metadata": {
        "id": "soQet-eWtGzI"
      },
      "execution_count": 8,
      "outputs": []
    },
    {
      "cell_type": "code",
      "source": [
        "vv,dp=GHData()"
      ],
      "metadata": {
        "colab": {
          "base_uri": "https://localhost:8080/"
        },
        "id": "r72dcUBaWuKz",
        "outputId": "b9d56ad0-909f-4c46-9018-f3110b22eeb1"
      },
      "execution_count": 10,
      "outputs": [
        {
          "output_type": "stream",
          "name": "stdout",
          "text": [
            "2\n",
            "Before Transformation: \n",
            "   Outcomes  Pregnancies  Glucose  ...   BMI  DiabetesPedigree  Age\n",
            "0         1            6      148  ...  33.6             0.627   50\n",
            "1         0            1       85  ...  26.6             0.351   31\n",
            "2         1            8      183  ...  23.3             0.672   32\n",
            "3         0            1       89  ...  28.1             0.167   21\n",
            "4         1            0      137  ...  43.1             2.288   33\n",
            "\n",
            "[5 rows x 9 columns]\n",
            "After Transformation: \n",
            "   Outcomes1  Outcomes2  Pregnancies  ...       BMI  DiabetesPedigree       Age\n",
            "0        1.0        0.0     0.639947  ...  0.204013          0.468492  1.425995\n",
            "1        0.0        1.0    -0.844885  ... -0.684422         -0.365061 -0.190672\n",
            "2        1.0        0.0     1.233880  ... -1.103255          0.604397 -0.105584\n",
            "3        0.0        1.0    -0.844885  ... -0.494043         -0.920763 -1.041549\n",
            "4        1.0        0.0    -1.141852  ...  1.409746          5.484909 -0.020496\n",
            "\n",
            "[5 rows x 10 columns]\n",
            "Dimension of Dataset:  (768, 10)\n"
          ]
        }
      ]
    },
    {
      "cell_type": "code",
      "source": [
        "# Set random seed for reproducibility\n",
        "manualSeed = 999\n",
        "print(\"Random Seed: \", manualSeed)\n",
        "random.seed(manualSeed)\n",
        "torch.manual_seed(manualSeed)"
      ],
      "metadata": {
        "id": "Gt9IIj4WDv0e",
        "colab": {
          "base_uri": "https://localhost:8080/"
        },
        "outputId": "a0e650ca-3a99-4565-e969-21a0c01ae35d"
      },
      "execution_count": 11,
      "outputs": [
        {
          "output_type": "stream",
          "name": "stdout",
          "text": [
            "Random Seed:  999\n"
          ]
        },
        {
          "output_type": "execute_result",
          "data": {
            "text/plain": [
              "<torch._C.Generator at 0x7f2322170a70>"
            ]
          },
          "metadata": {},
          "execution_count": 11
        }
      ]
    },
    {
      "cell_type": "code",
      "source": [
        "batch_size = 64\n",
        "num_epochs = 100\n",
        "lr = 0.0002\n",
        "beta1 = 0.5"
      ],
      "metadata": {
        "id": "YG27tbHAopkP"
      },
      "execution_count": 12,
      "outputs": []
    },
    {
      "cell_type": "code",
      "source": [
        "device = T.device(\"cpu\") \n",
        "\n",
        "#####################  Dataset ################################################\n",
        "\n",
        "class PIMADataset(T.utils.data.Dataset):\n",
        "\n",
        "  def __init__(self, data, n_rows=None):\n",
        "    self.x_data = T.tensor(data, dtype=T.float32).to(device) \n",
        "\n",
        "  def __len__(self):\n",
        "    return len(self.x_data)\n",
        "\n",
        "  def __getitem__(self, idx):\n",
        "    return self.x_data[idx]\n",
        "# Create dataset \n",
        "print(\"Creating PIMA Dataset \")\n",
        "data,dp=GHData()\n",
        "data_ds = PIMADataset(data) \n",
        "data_ldr = T.utils.data.DataLoader(data_ds, batch_size=batch_size,\n",
        "    shuffle=True)"
      ],
      "metadata": {
        "colab": {
          "base_uri": "https://localhost:8080/"
        },
        "id": "AI5x7gwmpD2O",
        "outputId": "c7bc7c24-0920-4947-dea1-96ae4992abe4"
      },
      "execution_count": 13,
      "outputs": [
        {
          "output_type": "stream",
          "name": "stdout",
          "text": [
            "Creating PIMA Dataset \n",
            "2\n",
            "Before Transformation: \n",
            "   Outcomes  Pregnancies  Glucose  ...   BMI  DiabetesPedigree  Age\n",
            "0         1            6      148  ...  33.6             0.627   50\n",
            "1         0            1       85  ...  26.6             0.351   31\n",
            "2         1            8      183  ...  23.3             0.672   32\n",
            "3         0            1       89  ...  28.1             0.167   21\n",
            "4         1            0      137  ...  43.1             2.288   33\n",
            "\n",
            "[5 rows x 9 columns]\n",
            "After Transformation: \n",
            "   Outcomes1  Outcomes2  Pregnancies  ...       BMI  DiabetesPedigree       Age\n",
            "0        1.0        0.0     0.639947  ...  0.204013          0.468492  1.425995\n",
            "1        0.0        1.0    -0.844885  ... -0.684422         -0.365061 -0.190672\n",
            "2        1.0        0.0     1.233880  ... -1.103255          0.604397 -0.105584\n",
            "3        0.0        1.0    -0.844885  ... -0.494043         -0.920763 -1.041549\n",
            "4        1.0        0.0    -1.141852  ...  1.409746          5.484909 -0.020496\n",
            "\n",
            "[5 rows x 10 columns]\n",
            "Dimension of Dataset:  (768, 10)\n"
          ]
        }
      ]
    },
    {
      "cell_type": "markdown",
      "source": [
        "### GeNeratOR"
      ],
      "metadata": {
        "id": "lqsHbdyJqO5O"
      }
    },
    {
      "cell_type": "code",
      "source": [
        "import numpy as np\n",
        "import torch as T\n",
        "class Generator(nn.Module):\n",
        "  def __init__(self):\n",
        "    super(Generator, self).__init__()\n",
        "    self.input_dim = 100\n",
        "    self.out_dim1 = 2\n",
        "    self.out_dim2 = 8\n",
        "    no=[64, 128, 64]\n",
        "    self.fc1 = T.nn.Linear(self.input_dim, no[0])\n",
        "    self.fc2 = T.nn.Linear(no[0], no[1])\n",
        "    self.fc3 = T.nn.Linear(no[1], no[2])\n",
        "    self.fc4 = T.nn.Linear(no[2], self.out_dim1)\n",
        "    self.fc5 = T.nn.Linear(no[2], self.out_dim2)\n",
        "  def forward(self, x):\n",
        "    z = T.relu(self.fc1(x))    \n",
        "    z = T.relu(self.fc2(z))    \n",
        "    z = T.relu(self.fc3(z))   \n",
        "    z1 = T.sigmoid(self.fc4(z))    \n",
        "    z2 = self.fc5(z) \n",
        "    z = T.cat((z1,z2),1)    \n",
        "    return z"
      ],
      "metadata": {
        "id": "E-1XseVOqUiw"
      },
      "execution_count": 14,
      "outputs": []
    },
    {
      "cell_type": "code",
      "source": [
        "netG = Generator()"
      ],
      "metadata": {
        "id": "5VXPDlQosJqD"
      },
      "execution_count": 15,
      "outputs": []
    },
    {
      "cell_type": "markdown",
      "source": [
        "### Discriminator"
      ],
      "metadata": {
        "id": "2QtWrkKys-vZ"
      }
    },
    {
      "cell_type": "code",
      "source": [
        "class Discriminator(nn.Module):\n",
        "  def __init__(self):\n",
        "    super(Discriminator, self).__init__()\n",
        "    self.input_dim = 10\n",
        "    no=[64, 128, 64, 10]\n",
        "    self.fc1 = T.nn.Linear(self.input_dim, no[0])\n",
        "    self.fc2 = T.nn.Linear(no[0], no[1])\n",
        "    self.fc3 = T.nn.Linear(no[1], no[2])  \n",
        "    self.fc4 = T.nn.Linear(no[2], no[3])  \n",
        "    \n",
        "  def forward(self, x):\n",
        "    z = T.relu(self.fc1(x))    \n",
        "    z = T.relu(self.fc2(z))    \n",
        "    z = T.relu(self.fc3(z))   \n",
        "    z = T.sigmoid(self.fc4(z))     \n",
        "    return z"
      ],
      "metadata": {
        "id": "ZzHRNN-Ps-Qs"
      },
      "execution_count": 16,
      "outputs": []
    },
    {
      "cell_type": "code",
      "source": [
        "# Create the Discriminator\n",
        "netD = Discriminator()"
      ],
      "metadata": {
        "id": "k84Af_3rv7h8"
      },
      "execution_count": 17,
      "outputs": []
    },
    {
      "cell_type": "markdown",
      "source": [
        "### Loss Functions and Optimizers"
      ],
      "metadata": {
        "id": "9pIMkyh5vrYt"
      }
    },
    {
      "cell_type": "code",
      "source": [
        "# Initialize BCELoss function\n",
        "criterion = nn.BCELoss()\n",
        "\n",
        "# Create batch of latent vectors that we will use to visualize\n",
        "#  the progression of the generator\n",
        "fixed_noise = torch.randn(64, 100)\n",
        "\n",
        "# Establish convention for real and fake labels during training\n",
        "real_label = 1.\n",
        "fake_label = 0.\n",
        "\n",
        "# Setup Adam optimizers for both G and D\n",
        "optimizerD = optim.Adam(netD.parameters(), lr=0.001, betas=(beta1, 0.999))\n",
        "optimizerG = optim.Adam(netG.parameters(), lr=0.001, betas=(beta1, 0.999))"
      ],
      "metadata": {
        "id": "Ze8H2Tk4vrEw"
      },
      "execution_count": 18,
      "outputs": []
    },
    {
      "cell_type": "markdown",
      "source": [
        "### Training"
      ],
      "metadata": {
        "id": "JjH6wB_MwngU"
      }
    },
    {
      "cell_type": "code",
      "source": [
        "# Training Loop\n",
        "\n",
        "data_list = []  # Contain synthesized Data \n",
        "G_losses = []  # Generator Loss after eah EPOCH \n",
        "D_losses = []  # Discrminator Loss after eah EPOCH \n",
        "iters = 0\n",
        "\n",
        "print(\"Starting Training Loop...\")\n",
        "# For each epoch\n",
        "for epoch in range(num_epochs):\n",
        "    # For each batch in the dataloader\n",
        "    for i, data in enumerate(data_ldr, 0):\n",
        "\n",
        "        ############################\n",
        "        # (1) Update D network: maximize log(D(x)) + log(1 - D(G(z)))\n",
        "        ###########################\n",
        "        ## Train with all-real batch\n",
        "        netD.zero_grad()\n",
        "        # Format batch\n",
        "        real_cpu = data\n",
        "        b_size = real_cpu.size(0)\n",
        "        label = torch.full((b_size,10), real_label, dtype=torch.float, device=device).view(-1)\n",
        "        # Forward pass real batch through D\n",
        "        output = netD(real_cpu).view(-1)\n",
        "        # Calculate loss on all-real batch\n",
        "        errD_real = criterion(output, label)\n",
        "        # Calculate gradients for D in backward pass\n",
        "        errD_real.backward()\n",
        "        D_x = output.mean().item()\n",
        "\n",
        "        ## Train with all-fake batch\n",
        "        # Generate batch of latent vectors\n",
        "        noise = torch.randn(b_size, 100)\n",
        "        # Generate fake image batch with G\n",
        "        \n",
        "        fake = netG(noise)\n",
        "        label.fill_(fake_label)\n",
        "        # Classify all fake batch with D\n",
        "        output = netD(fake.detach()).view(-1)\n",
        "        # Calculate D's loss on the all-fake batch\n",
        "        errD_fake = criterion(output,label)\n",
        "        # Calculate the gradients for this batch, accumulated (summed) with previous gradients\n",
        "        errD_fake.backward()\n",
        "        D_G_z1 = output.mean().item()\n",
        "        # Compute error of D as sum over the fake and the real batches\n",
        "        errD = errD_real + errD_fake\n",
        "        # Update D\n",
        "        optimizerD.step()\n",
        "\n",
        "        ############################\n",
        "        # (2) Update G network: maximize log(D(G(z)))\n",
        "        ###########################\n",
        "        netG.zero_grad()\n",
        "        label.fill_(real_label)  # fake labels are real for generator cost\n",
        "        # Since we just updated D, perform another forward pass of all-fake batch through D\n",
        "        output = netD(fake).view(-1)\n",
        "        # Calculate G's loss based on this output\n",
        "        errG = criterion(output, label)\n",
        "        # Calculate gradients for G\n",
        "        errG.backward()\n",
        "        D_G_z2 = output.mean().item()\n",
        "        # Update G\n",
        "        optimizerG.step()\n",
        "\n",
        "        # Output training stats\n",
        "        if i % 50 == 0:\n",
        "            print('[%d/%d][%d/%d]\\tLoss_D: %.4f\\tLoss_G: %.4f\\tD(x): %.4f\\tD(G(z)): %.4f / %.4f'\n",
        "                  % (epoch, num_epochs, i, len(data_ldr),\n",
        "                     errD.item(), errG.item(), D_x, D_G_z1, D_G_z2))\n",
        "\n",
        "        # Save Losses for plotting later\n",
        "        G_losses.append(errG.item())\n",
        "        D_losses.append(errD.item())\n",
        "\n",
        "        # Check how the generator is doing by saving G's output on fixed_noise\n",
        "        if (iters % 500 == 0) or ((epoch == num_epochs-1) and (i == len(data_ldr)-1)):\n",
        "            with torch.no_grad():\n",
        "                fake = netG(fixed_noise).detach().cpu()\n",
        "            data_list.append(fake)\n",
        "\n",
        "        iters += 1"
      ],
      "metadata": {
        "colab": {
          "base_uri": "https://localhost:8080/"
        },
        "id": "gB_6HcrHwiOW",
        "outputId": "df4d2396-633e-4be9-adbf-76ccd5e6b872"
      },
      "execution_count": 19,
      "outputs": [
        {
          "output_type": "stream",
          "name": "stdout",
          "text": [
            "Starting Training Loop...\n",
            "[0/100][0/12]\tLoss_D: 1.3874\tLoss_G: 0.6657\tD(x): 0.5152\tD(G(z)): 0.5144 / 0.5142\n",
            "[1/100][0/12]\tLoss_D: 1.3004\tLoss_G: 0.6772\tD(x): 0.5636\tD(G(z)): 0.5153 / 0.5082\n",
            "[2/100][0/12]\tLoss_D: 0.9362\tLoss_G: 0.7882\tD(x): 0.7598\tD(G(z)): 0.4781 / 0.4552\n",
            "[3/100][0/12]\tLoss_D: 1.1281\tLoss_G: 0.9911\tD(x): 0.6606\tD(G(z)): 0.4876 / 0.3751\n",
            "[4/100][0/12]\tLoss_D: 0.5725\tLoss_G: 1.3383\tD(x): 0.8396\tD(G(z)): 0.3090 / 0.2667\n",
            "[5/100][0/12]\tLoss_D: 0.9721\tLoss_G: 1.8236\tD(x): 0.5452\tD(G(z)): 0.2273 / 0.1681\n",
            "[6/100][0/12]\tLoss_D: 1.1250\tLoss_G: 1.5350\tD(x): 0.5836\tD(G(z)): 0.3556 / 0.2184\n",
            "[7/100][0/12]\tLoss_D: 0.5939\tLoss_G: 1.7979\tD(x): 0.8183\tD(G(z)): 0.2824 / 0.1697\n",
            "[8/100][0/12]\tLoss_D: 1.0976\tLoss_G: 1.7011\tD(x): 0.5981\tD(G(z)): 0.2491 / 0.1850\n",
            "[9/100][0/12]\tLoss_D: 1.3692\tLoss_G: 1.3649\tD(x): 0.5816\tD(G(z)): 0.4358 / 0.2589\n",
            "[10/100][0/12]\tLoss_D: 0.6378\tLoss_G: 1.7908\tD(x): 0.7315\tD(G(z)): 0.2226 / 0.1779\n",
            "[11/100][0/12]\tLoss_D: 1.0674\tLoss_G: 1.3394\tD(x): 0.6746\tD(G(z)): 0.3276 / 0.2634\n",
            "[12/100][0/12]\tLoss_D: 0.6870\tLoss_G: 1.4243\tD(x): 0.7737\tD(G(z)): 0.3051 / 0.2419\n",
            "[13/100][0/12]\tLoss_D: 0.7336\tLoss_G: 1.5684\tD(x): 0.7811\tD(G(z)): 0.3001 / 0.2097\n",
            "[14/100][0/12]\tLoss_D: 1.4095\tLoss_G: 1.6772\tD(x): 0.5331\tD(G(z)): 0.3453 / 0.1959\n",
            "[15/100][0/12]\tLoss_D: 1.3696\tLoss_G: 1.1569\tD(x): 0.5579\tD(G(z)): 0.4021 / 0.3151\n",
            "[16/100][0/12]\tLoss_D: 1.2347\tLoss_G: 1.0966\tD(x): 0.5806\tD(G(z)): 0.3824 / 0.3343\n",
            "[17/100][0/12]\tLoss_D: 1.0352\tLoss_G: 1.0114\tD(x): 0.6535\tD(G(z)): 0.4038 / 0.3658\n",
            "[18/100][0/12]\tLoss_D: 0.9399\tLoss_G: 1.2773\tD(x): 0.6339\tD(G(z)): 0.3197 / 0.2805\n",
            "[19/100][0/12]\tLoss_D: 0.4769\tLoss_G: 1.6623\tD(x): 0.8385\tD(G(z)): 0.2415 / 0.1940\n",
            "[20/100][0/12]\tLoss_D: 1.4098\tLoss_G: 1.6514\tD(x): 0.5857\tD(G(z)): 0.3874 / 0.2082\n",
            "[21/100][0/12]\tLoss_D: 0.9730\tLoss_G: 1.4091\tD(x): 0.6383\tD(G(z)): 0.3228 / 0.2477\n",
            "[22/100][0/12]\tLoss_D: 0.8981\tLoss_G: 1.5239\tD(x): 0.6766\tD(G(z)): 0.2864 / 0.2194\n",
            "[23/100][0/12]\tLoss_D: 0.8117\tLoss_G: 1.5360\tD(x): 0.6829\tD(G(z)): 0.2481 / 0.2156\n",
            "[24/100][0/12]\tLoss_D: 0.6183\tLoss_G: 1.4481\tD(x): 0.7961\tD(G(z)): 0.2636 / 0.2353\n",
            "[25/100][0/12]\tLoss_D: 0.5107\tLoss_G: 1.5560\tD(x): 0.8368\tD(G(z)): 0.2423 / 0.2163\n",
            "[26/100][0/12]\tLoss_D: 1.2472\tLoss_G: 1.5656\tD(x): 0.6215\tD(G(z)): 0.3524 / 0.2149\n",
            "[27/100][0/12]\tLoss_D: 0.8833\tLoss_G: 2.0672\tD(x): 0.6186\tD(G(z)): 0.1890 / 0.1287\n",
            "[28/100][0/12]\tLoss_D: 0.4917\tLoss_G: 1.7876\tD(x): 0.8104\tD(G(z)): 0.1921 / 0.1714\n",
            "[29/100][0/12]\tLoss_D: 0.4969\tLoss_G: 1.6537\tD(x): 0.8264\tD(G(z)): 0.2173 / 0.1965\n",
            "[30/100][0/12]\tLoss_D: 0.6316\tLoss_G: 1.6618\tD(x): 0.8284\tD(G(z)): 0.2811 / 0.2005\n",
            "[31/100][0/12]\tLoss_D: 1.6430\tLoss_G: 1.4275\tD(x): 0.5672\tD(G(z)): 0.4755 / 0.2524\n",
            "[32/100][0/12]\tLoss_D: 0.5743\tLoss_G: 2.1751\tD(x): 0.7685\tD(G(z)): 0.1649 / 0.1143\n",
            "[33/100][0/12]\tLoss_D: 0.5892\tLoss_G: 3.1289\tD(x): 0.8108\tD(G(z)): 0.1812 / 0.0499\n",
            "[34/100][0/12]\tLoss_D: 1.0691\tLoss_G: 2.2771\tD(x): 0.5955\tD(G(z)): 0.1862 / 0.1073\n",
            "[35/100][0/12]\tLoss_D: 0.5822\tLoss_G: 1.8051\tD(x): 0.7944\tD(G(z)): 0.1999 / 0.1678\n",
            "[36/100][0/12]\tLoss_D: 0.5084\tLoss_G: 1.5456\tD(x): 0.8550\tD(G(z)): 0.2489 / 0.2144\n",
            "[37/100][0/12]\tLoss_D: 1.1458\tLoss_G: 1.7491\tD(x): 0.7065\tD(G(z)): 0.3947 / 0.1981\n",
            "[38/100][0/12]\tLoss_D: 1.4007\tLoss_G: 1.7136\tD(x): 0.7029\tD(G(z)): 0.4809 / 0.1869\n",
            "[39/100][0/12]\tLoss_D: 1.1116\tLoss_G: 1.9895\tD(x): 0.5540\tD(G(z)): 0.2093 / 0.1419\n",
            "[40/100][0/12]\tLoss_D: 0.6862\tLoss_G: 1.8686\tD(x): 0.7542\tD(G(z)): 0.2108 / 0.1577\n",
            "[41/100][0/12]\tLoss_D: 0.8145\tLoss_G: 1.3871\tD(x): 0.7706\tD(G(z)): 0.3406 / 0.2752\n",
            "[42/100][0/12]\tLoss_D: 1.1251\tLoss_G: 1.2424\tD(x): 0.6630\tD(G(z)): 0.3691 / 0.3230\n",
            "[43/100][0/12]\tLoss_D: 1.3632\tLoss_G: 1.1302\tD(x): 0.4957\tD(G(z)): 0.4108 / 0.3382\n",
            "[44/100][0/12]\tLoss_D: 0.7584\tLoss_G: 1.5214\tD(x): 0.6940\tD(G(z)): 0.2749 / 0.2312\n",
            "[45/100][0/12]\tLoss_D: 0.7846\tLoss_G: 1.4754\tD(x): 0.6724\tD(G(z)): 0.2547 / 0.2337\n",
            "[46/100][0/12]\tLoss_D: 1.0345\tLoss_G: 1.2719\tD(x): 0.6113\tD(G(z)): 0.3330 / 0.2932\n",
            "[47/100][0/12]\tLoss_D: 0.9735\tLoss_G: 1.2639\tD(x): 0.6709\tD(G(z)): 0.3519 / 0.2945\n",
            "[48/100][0/12]\tLoss_D: 1.2601\tLoss_G: 1.3935\tD(x): 0.6301\tD(G(z)): 0.3878 / 0.2715\n",
            "[49/100][0/12]\tLoss_D: 1.0751\tLoss_G: 1.4478\tD(x): 0.6340\tD(G(z)): 0.3721 / 0.2497\n",
            "[50/100][0/12]\tLoss_D: 1.0654\tLoss_G: 2.0955\tD(x): 0.5918\tD(G(z)): 0.2809 / 0.1421\n",
            "[51/100][0/12]\tLoss_D: 0.7554\tLoss_G: 1.6376\tD(x): 0.7729\tD(G(z)): 0.2614 / 0.2218\n",
            "[52/100][0/12]\tLoss_D: 1.1695\tLoss_G: 0.8820\tD(x): 0.7272\tD(G(z)): 0.5044 / 0.4262\n",
            "[53/100][0/12]\tLoss_D: 0.6103\tLoss_G: 1.7403\tD(x): 0.7851\tD(G(z)): 0.2613 / 0.1816\n",
            "[54/100][0/12]\tLoss_D: 1.0531\tLoss_G: 1.6659\tD(x): 0.6384\tD(G(z)): 0.2946 / 0.2064\n",
            "[55/100][0/12]\tLoss_D: 0.9820\tLoss_G: 1.6757\tD(x): 0.6231\tD(G(z)): 0.2344 / 0.2147\n",
            "[56/100][0/12]\tLoss_D: 0.9550\tLoss_G: 1.5344\tD(x): 0.6468\tD(G(z)): 0.2725 / 0.2197\n",
            "[57/100][0/12]\tLoss_D: 0.8608\tLoss_G: 1.4233\tD(x): 0.7224\tD(G(z)): 0.3179 / 0.2494\n",
            "[58/100][0/12]\tLoss_D: 0.8536\tLoss_G: 1.4237\tD(x): 0.6547\tD(G(z)): 0.2764 / 0.2469\n",
            "[59/100][0/12]\tLoss_D: 0.6225\tLoss_G: 1.4451\tD(x): 0.7784\tD(G(z)): 0.2698 / 0.2459\n",
            "[60/100][0/12]\tLoss_D: 0.6416\tLoss_G: 1.3350\tD(x): 0.7726\tD(G(z)): 0.2792 / 0.2662\n",
            "[61/100][0/12]\tLoss_D: 1.2261\tLoss_G: 1.0927\tD(x): 0.6818\tD(G(z)): 0.4284 / 0.3638\n",
            "[62/100][0/12]\tLoss_D: 0.8776\tLoss_G: 1.5496\tD(x): 0.6584\tD(G(z)): 0.2525 / 0.2235\n",
            "[63/100][0/12]\tLoss_D: 1.0244\tLoss_G: 1.5128\tD(x): 0.6487\tD(G(z)): 0.3178 / 0.2297\n",
            "[64/100][0/12]\tLoss_D: 0.8098\tLoss_G: 1.4307\tD(x): 0.6802\tD(G(z)): 0.2762 / 0.2448\n",
            "[65/100][0/12]\tLoss_D: 0.6450\tLoss_G: 1.5906\tD(x): 0.7271\tD(G(z)): 0.2323 / 0.2169\n",
            "[66/100][0/12]\tLoss_D: 0.7236\tLoss_G: 1.6873\tD(x): 0.7192\tD(G(z)): 0.2668 / 0.1918\n",
            "[67/100][0/12]\tLoss_D: 1.1313\tLoss_G: 1.3966\tD(x): 0.7505\tD(G(z)): 0.4475 / 0.2772\n",
            "[68/100][0/12]\tLoss_D: 0.8003\tLoss_G: 1.7093\tD(x): 0.6891\tD(G(z)): 0.2743 / 0.1899\n",
            "[69/100][0/12]\tLoss_D: 1.4683\tLoss_G: 1.3799\tD(x): 0.6066\tD(G(z)): 0.3892 / 0.2684\n",
            "[70/100][0/12]\tLoss_D: 0.6030\tLoss_G: 1.7103\tD(x): 0.8001\tD(G(z)): 0.2720 / 0.1970\n",
            "[71/100][0/12]\tLoss_D: 1.1723\tLoss_G: 1.4748\tD(x): 0.5534\tD(G(z)): 0.2956 / 0.2491\n",
            "[72/100][0/12]\tLoss_D: 0.7296\tLoss_G: 1.5048\tD(x): 0.7920\tD(G(z)): 0.3514 / 0.2421\n",
            "[73/100][0/12]\tLoss_D: 1.1555\tLoss_G: 1.3803\tD(x): 0.6287\tD(G(z)): 0.3369 / 0.2715\n",
            "[74/100][0/12]\tLoss_D: 0.6604\tLoss_G: 1.6582\tD(x): 0.7448\tD(G(z)): 0.2548 / 0.1928\n",
            "[75/100][0/12]\tLoss_D: 0.9872\tLoss_G: 1.4876\tD(x): 0.7595\tD(G(z)): 0.3850 / 0.2684\n",
            "[76/100][0/12]\tLoss_D: 0.9766\tLoss_G: 1.8346\tD(x): 0.6994\tD(G(z)): 0.3342 / 0.1733\n",
            "[77/100][0/12]\tLoss_D: 1.3359\tLoss_G: 1.2778\tD(x): 0.5400\tD(G(z)): 0.3588 / 0.2947\n",
            "[78/100][0/12]\tLoss_D: 1.0227\tLoss_G: 1.2507\tD(x): 0.6297\tD(G(z)): 0.3195 / 0.2946\n",
            "[79/100][0/12]\tLoss_D: 1.0529\tLoss_G: 1.1278\tD(x): 0.6480\tD(G(z)): 0.3873 / 0.3354\n",
            "[80/100][0/12]\tLoss_D: 0.8967\tLoss_G: 1.2449\tD(x): 0.6855\tD(G(z)): 0.3173 / 0.2955\n",
            "[81/100][0/12]\tLoss_D: 1.2143\tLoss_G: 1.0801\tD(x): 0.6690\tD(G(z)): 0.4531 / 0.3847\n",
            "[82/100][0/12]\tLoss_D: 1.0534\tLoss_G: 1.3061\tD(x): 0.6595\tD(G(z)): 0.3928 / 0.2810\n",
            "[83/100][0/12]\tLoss_D: 0.9851\tLoss_G: 1.5197\tD(x): 0.5883\tD(G(z)): 0.2742 / 0.2318\n",
            "[84/100][0/12]\tLoss_D: 0.8896\tLoss_G: 1.4433\tD(x): 0.6923\tD(G(z)): 0.3152 / 0.2524\n",
            "[85/100][0/12]\tLoss_D: 1.7262\tLoss_G: 1.8654\tD(x): 0.4329\tD(G(z)): 0.4066 / 0.1782\n",
            "[86/100][0/12]\tLoss_D: 0.6530\tLoss_G: 1.9755\tD(x): 0.7638\tD(G(z)): 0.2242 / 0.1545\n",
            "[87/100][0/12]\tLoss_D: 1.2842\tLoss_G: 1.3219\tD(x): 0.5635\tD(G(z)): 0.3887 / 0.3127\n",
            "[88/100][0/12]\tLoss_D: 1.2614\tLoss_G: 0.8838\tD(x): 0.6030\tD(G(z)): 0.4767 / 0.4266\n",
            "[89/100][0/12]\tLoss_D: 0.8072\tLoss_G: 1.2908\tD(x): 0.7221\tD(G(z)): 0.3251 / 0.2824\n",
            "[90/100][0/12]\tLoss_D: 0.9476\tLoss_G: 1.6812\tD(x): 0.6817\tD(G(z)): 0.3408 / 0.2269\n",
            "[91/100][0/12]\tLoss_D: 1.0975\tLoss_G: 1.2156\tD(x): 0.6229\tD(G(z)): 0.3635 / 0.3204\n",
            "[92/100][0/12]\tLoss_D: 1.2304\tLoss_G: 0.9676\tD(x): 0.5657\tD(G(z)): 0.4170 / 0.3902\n",
            "[93/100][0/12]\tLoss_D: 1.0077\tLoss_G: 1.0616\tD(x): 0.6909\tD(G(z)): 0.4066 / 0.3717\n",
            "[94/100][0/12]\tLoss_D: 1.1316\tLoss_G: 1.0116\tD(x): 0.6325\tD(G(z)): 0.4222 / 0.3792\n",
            "[95/100][0/12]\tLoss_D: 1.1601\tLoss_G: 1.2793\tD(x): 0.5689\tD(G(z)): 0.3660 / 0.3083\n",
            "[96/100][0/12]\tLoss_D: 1.4167\tLoss_G: 1.0704\tD(x): 0.5117\tD(G(z)): 0.4064 / 0.3713\n",
            "[97/100][0/12]\tLoss_D: 1.2435\tLoss_G: 0.9375\tD(x): 0.6069\tD(G(z)): 0.4748 / 0.4086\n",
            "[98/100][0/12]\tLoss_D: 0.8822\tLoss_G: 1.1747\tD(x): 0.6799\tD(G(z)): 0.3373 / 0.3238\n",
            "[99/100][0/12]\tLoss_D: 1.0654\tLoss_G: 1.2634\tD(x): 0.6078\tD(G(z)): 0.3634 / 0.3084\n"
          ]
        }
      ]
    },
    {
      "cell_type": "markdown",
      "source": [
        "### Results"
      ],
      "metadata": {
        "id": "w8lVycUw9p3l"
      }
    },
    {
      "cell_type": "code",
      "source": [
        "plt.figure(figsize=(10,5))\n",
        "plt.title(\"Generator and Discriminator Loss During Training\")\n",
        "plt.plot(G_losses,label=\"G\")\n",
        "plt.plot(D_losses,label=\"D\")\n",
        "plt.xlabel(\"iterations\")\n",
        "plt.ylabel(\"Loss\")\n",
        "plt.legend()\n",
        "plt.show()"
      ],
      "metadata": {
        "colab": {
          "base_uri": "https://localhost:8080/",
          "height": 350
        },
        "id": "BkKzjfkl9pP2",
        "outputId": "c0d51c34-0dd5-4a1a-c318-8209aec9a122"
      },
      "execution_count": 20,
      "outputs": [
        {
          "output_type": "display_data",
          "data": {
            "image/png": "[encoded data removed]",
            "text/plain": [
              "<Figure size 720x360 with 1 Axes>"
            ]
          },
          "metadata": {
            "needs_background": "light"
          }
        }
      ]
    },
    {
      "cell_type": "markdown",
      "source": [
        "### **Show Synthesized/Generated Data**"
      ],
      "metadata": {
        "id": "mdRM2aIP6zMr"
      }
    },
    {
      "cell_type": "code",
      "source": [
        "dp.transformBack(np.array(data_list[0]))"
      ],
      "metadata": {
        "colab": {
          "base_uri": "https://localhost:8080/"
        },
        "id": "cnHiguJA-z6I",
        "outputId": "5d1c6f11-5e03-4eac-fa34-b8ba211bdb8f"
      },
      "execution_count": 21,
      "outputs": [
        {
          "output_type": "stream",
          "name": "stdout",
          "text": [
            "8\n",
            "Synthesized Data (Normed): \n",
            "   Outcomes1  Outcomes2  Pregnancies  ...       BMI  DiabetesPedigree       Age\n",
            "0   0.478522   0.527264    -0.067991  ...  0.119275         -0.135048  0.047332\n",
            "1   0.490200   0.540165    -0.005680  ...  0.196951         -0.109635  0.022048\n",
            "2   0.490978   0.543076    -0.107856  ...  0.164045         -0.090534  0.059127\n",
            "3   0.498474   0.557347    -0.012689  ...  0.165514         -0.122702 -0.042001\n",
            "4   0.488375   0.553935    -0.065039  ...  0.100603         -0.087465  0.050818\n",
            "\n",
            "[5 rows x 10 columns]\n",
            "Synthesized Data (De-Normed): \n",
            "   Outcomes Pregnancies  Glucose  ...     BMI DiabetesPedigree     Age\n",
            "0         1       [6.0]  [119.0]  ...  [31.0]            [1.0]  [32.0]\n",
            "1         1       [6.0]  [121.0]  ...  [31.0]            [1.0]  [32.0]\n",
            "2         1       [6.0]  [117.0]  ...  [31.0]            [1.0]  [32.0]\n",
            "3         1       [6.0]  [120.0]  ...  [31.0]            [1.0]  [32.0]\n",
            "4         1       [6.0]  [119.0]  ...  [31.0]            [1.0]  [32.0]\n",
            "\n",
            "[5 rows x 9 columns]\n"
          ]
        }
      ]
    }
  ]
}