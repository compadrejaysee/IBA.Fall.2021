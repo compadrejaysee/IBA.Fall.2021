{
 "cells": [
  {
   "cell_type": "code",
   "execution_count": 59,
   "metadata": {},
   "outputs": [],
   "source": [
    "import tensorflow as tf\n",
    "from tensorflow.keras import layers, backend\n",
    "import pandas as pd\n",
    "import MLtemplate as ml\n",
    "from sklearn.model_selection import train_test_split\n",
    "from sklearn.preprocessing import StandardScaler\n",
    "import numpy as np\n",
    "import sklearn.metrics\n",
    "from scipy.stats import wasserstein_distance\n",
    "import matplotlib.pyplot as plt\n"
   ]
  },
  {
   "cell_type": "code",
   "execution_count": 2,
   "metadata": {},
   "outputs": [
    {
     "data": {
      "text/html": [
       "<div>\n",
       "<style scoped>\n",
       "    .dataframe tbody tr th:only-of-type {\n",
       "        vertical-align: middle;\n",
       "    }\n",
       "\n",
       "    .dataframe tbody tr th {\n",
       "        vertical-align: top;\n",
       "    }\n",
       "\n",
       "    .dataframe thead th {\n",
       "        text-align: right;\n",
       "    }\n",
       "</style>\n",
       "<table border=\"1\" class=\"dataframe\">\n",
       "  <thead>\n",
       "    <tr style=\"text-align: right;\">\n",
       "      <th></th>\n",
       "      <th>Age</th>\n",
       "      <th>Sex</th>\n",
       "      <th>ChestPainType</th>\n",
       "      <th>RestingBP</th>\n",
       "      <th>Cholesterol</th>\n",
       "      <th>FastingBS</th>\n",
       "      <th>RestingECG</th>\n",
       "      <th>MaxHR</th>\n",
       "      <th>ExerciseAngina</th>\n",
       "      <th>Oldpeak</th>\n",
       "      <th>ST_Slope</th>\n",
       "      <th>HeartDisease</th>\n",
       "    </tr>\n",
       "  </thead>\n",
       "  <tbody>\n",
       "    <tr>\n",
       "      <th>0</th>\n",
       "      <td>40</td>\n",
       "      <td>M</td>\n",
       "      <td>ATA</td>\n",
       "      <td>140</td>\n",
       "      <td>289</td>\n",
       "      <td>0</td>\n",
       "      <td>Normal</td>\n",
       "      <td>172</td>\n",
       "      <td>N</td>\n",
       "      <td>0.0</td>\n",
       "      <td>Up</td>\n",
       "      <td>0</td>\n",
       "    </tr>\n",
       "    <tr>\n",
       "      <th>1</th>\n",
       "      <td>49</td>\n",
       "      <td>F</td>\n",
       "      <td>NAP</td>\n",
       "      <td>160</td>\n",
       "      <td>180</td>\n",
       "      <td>0</td>\n",
       "      <td>Normal</td>\n",
       "      <td>156</td>\n",
       "      <td>N</td>\n",
       "      <td>1.0</td>\n",
       "      <td>Flat</td>\n",
       "      <td>1</td>\n",
       "    </tr>\n",
       "    <tr>\n",
       "      <th>2</th>\n",
       "      <td>37</td>\n",
       "      <td>M</td>\n",
       "      <td>ATA</td>\n",
       "      <td>130</td>\n",
       "      <td>283</td>\n",
       "      <td>0</td>\n",
       "      <td>ST</td>\n",
       "      <td>98</td>\n",
       "      <td>N</td>\n",
       "      <td>0.0</td>\n",
       "      <td>Up</td>\n",
       "      <td>0</td>\n",
       "    </tr>\n",
       "    <tr>\n",
       "      <th>3</th>\n",
       "      <td>48</td>\n",
       "      <td>F</td>\n",
       "      <td>ASY</td>\n",
       "      <td>138</td>\n",
       "      <td>214</td>\n",
       "      <td>0</td>\n",
       "      <td>Normal</td>\n",
       "      <td>108</td>\n",
       "      <td>Y</td>\n",
       "      <td>1.5</td>\n",
       "      <td>Flat</td>\n",
       "      <td>1</td>\n",
       "    </tr>\n",
       "    <tr>\n",
       "      <th>4</th>\n",
       "      <td>54</td>\n",
       "      <td>M</td>\n",
       "      <td>NAP</td>\n",
       "      <td>150</td>\n",
       "      <td>195</td>\n",
       "      <td>0</td>\n",
       "      <td>Normal</td>\n",
       "      <td>122</td>\n",
       "      <td>N</td>\n",
       "      <td>0.0</td>\n",
       "      <td>Up</td>\n",
       "      <td>0</td>\n",
       "    </tr>\n",
       "  </tbody>\n",
       "</table>\n",
       "</div>"
      ],
      "text/plain": [
       "   Age Sex ChestPainType  RestingBP  Cholesterol  FastingBS RestingECG  MaxHR  \\\n",
       "0   40   M           ATA        140          289          0     Normal    172   \n",
       "1   49   F           NAP        160          180          0     Normal    156   \n",
       "2   37   M           ATA        130          283          0         ST     98   \n",
       "3   48   F           ASY        138          214          0     Normal    108   \n",
       "4   54   M           NAP        150          195          0     Normal    122   \n",
       "\n",
       "  ExerciseAngina  Oldpeak ST_Slope  HeartDisease  \n",
       "0              N      0.0       Up             0  \n",
       "1              N      1.0     Flat             1  \n",
       "2              N      0.0       Up             0  \n",
       "3              Y      1.5     Flat             1  \n",
       "4              N      0.0       Up             0  "
      ]
     },
     "execution_count": 2,
     "metadata": {},
     "output_type": "execute_result"
    }
   ],
   "source": [
    "heartdf = pd.read_csv(\"heart.csv\")\n",
    "heartdf.head(5)"
   ]
  },
  {
   "cell_type": "code",
   "execution_count": 5,
   "metadata": {},
   "outputs": [
    {
     "name": "stdout",
     "output_type": "stream",
     "text": [
      "Age               0\n",
      "Sex               0\n",
      "ChestPainType     0\n",
      "RestingBP         0\n",
      "Cholesterol       0\n",
      "FastingBS         0\n",
      "RestingECG        0\n",
      "MaxHR             0\n",
      "ExerciseAngina    0\n",
      "Oldpeak           0\n",
      "ST_Slope          0\n",
      "HeartDisease      0\n",
      "dtype: int64\n"
     ]
    }
   ],
   "source": [
    "ml.missing_values(heartdf)"
   ]
  },
  {
   "cell_type": "code",
   "execution_count": 92,
   "metadata": {},
   "outputs": [
    {
     "data": {
      "text/html": [
       "<div>\n",
       "<style scoped>\n",
       "    .dataframe tbody tr th:only-of-type {\n",
       "        vertical-align: middle;\n",
       "    }\n",
       "\n",
       "    .dataframe tbody tr th {\n",
       "        vertical-align: top;\n",
       "    }\n",
       "\n",
       "    .dataframe thead th {\n",
       "        text-align: right;\n",
       "    }\n",
       "</style>\n",
       "<table border=\"1\" class=\"dataframe\">\n",
       "  <thead>\n",
       "    <tr style=\"text-align: right;\">\n",
       "      <th></th>\n",
       "      <th>Age</th>\n",
       "      <th>RestingBP</th>\n",
       "      <th>Cholesterol</th>\n",
       "      <th>FastingBS</th>\n",
       "      <th>MaxHR</th>\n",
       "      <th>Oldpeak</th>\n",
       "      <th>HeartDisease</th>\n",
       "    </tr>\n",
       "  </thead>\n",
       "  <tbody>\n",
       "    <tr>\n",
       "      <th>count</th>\n",
       "      <td>918.000000</td>\n",
       "      <td>918.000000</td>\n",
       "      <td>918.000000</td>\n",
       "      <td>918.000000</td>\n",
       "      <td>918.000000</td>\n",
       "      <td>918.000000</td>\n",
       "      <td>918.000000</td>\n",
       "    </tr>\n",
       "    <tr>\n",
       "      <th>mean</th>\n",
       "      <td>53.510893</td>\n",
       "      <td>132.396514</td>\n",
       "      <td>198.799564</td>\n",
       "      <td>0.233115</td>\n",
       "      <td>136.809368</td>\n",
       "      <td>0.887364</td>\n",
       "      <td>0.553377</td>\n",
       "    </tr>\n",
       "    <tr>\n",
       "      <th>std</th>\n",
       "      <td>9.432617</td>\n",
       "      <td>18.514154</td>\n",
       "      <td>109.384145</td>\n",
       "      <td>0.423046</td>\n",
       "      <td>25.460334</td>\n",
       "      <td>1.066570</td>\n",
       "      <td>0.497414</td>\n",
       "    </tr>\n",
       "    <tr>\n",
       "      <th>min</th>\n",
       "      <td>28.000000</td>\n",
       "      <td>0.000000</td>\n",
       "      <td>0.000000</td>\n",
       "      <td>0.000000</td>\n",
       "      <td>60.000000</td>\n",
       "      <td>-2.600000</td>\n",
       "      <td>0.000000</td>\n",
       "    </tr>\n",
       "    <tr>\n",
       "      <th>25%</th>\n",
       "      <td>47.000000</td>\n",
       "      <td>120.000000</td>\n",
       "      <td>173.250000</td>\n",
       "      <td>0.000000</td>\n",
       "      <td>120.000000</td>\n",
       "      <td>0.000000</td>\n",
       "      <td>0.000000</td>\n",
       "    </tr>\n",
       "    <tr>\n",
       "      <th>50%</th>\n",
       "      <td>54.000000</td>\n",
       "      <td>130.000000</td>\n",
       "      <td>223.000000</td>\n",
       "      <td>0.000000</td>\n",
       "      <td>138.000000</td>\n",
       "      <td>0.600000</td>\n",
       "      <td>1.000000</td>\n",
       "    </tr>\n",
       "    <tr>\n",
       "      <th>75%</th>\n",
       "      <td>60.000000</td>\n",
       "      <td>140.000000</td>\n",
       "      <td>267.000000</td>\n",
       "      <td>0.000000</td>\n",
       "      <td>156.000000</td>\n",
       "      <td>1.500000</td>\n",
       "      <td>1.000000</td>\n",
       "    </tr>\n",
       "    <tr>\n",
       "      <th>max</th>\n",
       "      <td>77.000000</td>\n",
       "      <td>200.000000</td>\n",
       "      <td>603.000000</td>\n",
       "      <td>1.000000</td>\n",
       "      <td>202.000000</td>\n",
       "      <td>6.200000</td>\n",
       "      <td>1.000000</td>\n",
       "    </tr>\n",
       "  </tbody>\n",
       "</table>\n",
       "</div>"
      ],
      "text/plain": [
       "              Age   RestingBP  Cholesterol   FastingBS       MaxHR  \\\n",
       "count  918.000000  918.000000   918.000000  918.000000  918.000000   \n",
       "mean    53.510893  132.396514   198.799564    0.233115  136.809368   \n",
       "std      9.432617   18.514154   109.384145    0.423046   25.460334   \n",
       "min     28.000000    0.000000     0.000000    0.000000   60.000000   \n",
       "25%     47.000000  120.000000   173.250000    0.000000  120.000000   \n",
       "50%     54.000000  130.000000   223.000000    0.000000  138.000000   \n",
       "75%     60.000000  140.000000   267.000000    0.000000  156.000000   \n",
       "max     77.000000  200.000000   603.000000    1.000000  202.000000   \n",
       "\n",
       "          Oldpeak  HeartDisease  \n",
       "count  918.000000    918.000000  \n",
       "mean     0.887364      0.553377  \n",
       "std      1.066570      0.497414  \n",
       "min     -2.600000      0.000000  \n",
       "25%      0.000000      0.000000  \n",
       "50%      0.600000      1.000000  \n",
       "75%      1.500000      1.000000  \n",
       "max      6.200000      1.000000  "
      ]
     },
     "execution_count": 92,
     "metadata": {},
     "output_type": "execute_result"
    }
   ],
   "source": [
    "heartdf.describe()"
   ]
  },
  {
   "cell_type": "code",
   "execution_count": 7,
   "metadata": {},
   "outputs": [
    {
     "name": "stdout",
     "output_type": "stream",
     "text": [
      "M    725\n",
      "F    193\n",
      "Name: Sex, dtype: int64\n",
      "\n",
      "\n"
     ]
    },
    {
     "name": "stderr",
     "output_type": "stream",
     "text": [
      "C:\\Users\\BabarBinAsifKhan\\AppData\\Local\\Programs\\Python\\Python39\\lib\\site-packages\\seaborn\\_decorators.py:36: FutureWarning: Pass the following variables as keyword args: x, y. From version 0.12, the only valid positional argument will be `data`, and passing other arguments without an explicit keyword will result in an error or misinterpretation.\n",
      "  warnings.warn(\n"
     ]
    },
    {
     "data": {
      "image/png": "[encoded data removed]",
      "text/plain": [
       "<Figure size 432x288 with 1 Axes>"
      ]
     },
     "metadata": {
      "needs_background": "light"
     },
     "output_type": "display_data"
    },
    {
     "name": "stdout",
     "output_type": "stream",
     "text": [
      "ASY    496\n",
      "NAP    203\n",
      "ATA    173\n",
      "TA      46\n",
      "Name: ChestPainType, dtype: int64\n",
      "\n",
      "\n"
     ]
    },
    {
     "name": "stderr",
     "output_type": "stream",
     "text": [
      "C:\\Users\\BabarBinAsifKhan\\AppData\\Local\\Programs\\Python\\Python39\\lib\\site-packages\\seaborn\\_decorators.py:36: FutureWarning: Pass the following variables as keyword args: x, y. From version 0.12, the only valid positional argument will be `data`, and passing other arguments without an explicit keyword will result in an error or misinterpretation.\n",
      "  warnings.warn(\n"
     ]
    },
    {
     "data": {
      "image/png": "[encoded data removed]",
      "text/plain": [
       "<Figure size 432x288 with 1 Axes>"
      ]
     },
     "metadata": {
      "needs_background": "light"
     },
     "output_type": "display_data"
    },
    {
     "name": "stderr",
     "output_type": "stream",
     "text": [
      "C:\\Users\\BabarBinAsifKhan\\AppData\\Local\\Programs\\Python\\Python39\\lib\\site-packages\\seaborn\\_decorators.py:36: FutureWarning: Pass the following variables as keyword args: x, y. From version 0.12, the only valid positional argument will be `data`, and passing other arguments without an explicit keyword will result in an error or misinterpretation.\n",
      "  warnings.warn(\n"
     ]
    },
    {
     "name": "stdout",
     "output_type": "stream",
     "text": [
      "Normal    552\n",
      "LVH       188\n",
      "ST        178\n",
      "Name: RestingECG, dtype: int64\n",
      "\n",
      "\n"
     ]
    },
    {
     "data": {
      "image/png": "[encoded data removed]",
      "text/plain": [
       "<Figure size 432x288 with 1 Axes>"
      ]
     },
     "metadata": {
      "needs_background": "light"
     },
     "output_type": "display_data"
    },
    {
     "name": "stdout",
     "output_type": "stream",
     "text": [
      "N    547\n",
      "Y    371\n",
      "Name: ExerciseAngina, dtype: int64\n",
      "\n",
      "\n"
     ]
    },
    {
     "name": "stderr",
     "output_type": "stream",
     "text": [
      "C:\\Users\\BabarBinAsifKhan\\AppData\\Local\\Programs\\Python\\Python39\\lib\\site-packages\\seaborn\\_decorators.py:36: FutureWarning: Pass the following variables as keyword args: x, y. From version 0.12, the only valid positional argument will be `data`, and passing other arguments without an explicit keyword will result in an error or misinterpretation.\n",
      "  warnings.warn(\n"
     ]
    },
    {
     "data": {
      "image/png": "[encoded data removed]",
      "text/plain": [
       "<Figure size 432x288 with 1 Axes>"
      ]
     },
     "metadata": {
      "needs_background": "light"
     },
     "output_type": "display_data"
    },
    {
     "name": "stdout",
     "output_type": "stream",
     "text": [
      "Flat    460\n",
      "Up      395\n",
      "Down     63\n",
      "Name: ST_Slope, dtype: int64\n",
      "\n",
      "\n"
     ]
    },
    {
     "name": "stderr",
     "output_type": "stream",
     "text": [
      "C:\\Users\\BabarBinAsifKhan\\AppData\\Local\\Programs\\Python\\Python39\\lib\\site-packages\\seaborn\\_decorators.py:36: FutureWarning: Pass the following variables as keyword args: x, y. From version 0.12, the only valid positional argument will be `data`, and passing other arguments without an explicit keyword will result in an error or misinterpretation.\n",
      "  warnings.warn(\n"
     ]
    },
    {
     "data": {
      "image/png": "[encoded data removed]",
      "text/plain": [
       "<Figure size 432x288 with 1 Axes>"
      ]
     },
     "metadata": {
      "needs_background": "light"
     },
     "output_type": "display_data"
    }
   ],
   "source": [
    "ml.categ_analysis(heartdf, [\"Sex\" , \"ChestPainType\", \"RestingECG\", \"ExerciseAngina\", \"ST_Slope\"])"
   ]
  },
  {
   "cell_type": "code",
   "execution_count": 11,
   "metadata": {},
   "outputs": [],
   "source": [
    "newheartdf = pd.get_dummies(heartdf, drop_first=True)"
   ]
  },
  {
   "cell_type": "code",
   "execution_count": 40,
   "metadata": {},
   "outputs": [],
   "source": [
    "X_train, X_test, y_train, y_test = train_test_split(newheartdf, newheartdf[\"HeartDisease\"], test_size=0.20)\n",
    "X_train, X_test = ml.standard_scale(X_train,X_test)"
   ]
  },
  {
   "cell_type": "markdown",
   "metadata": {},
   "source": [
    "# Vanilla Autoencoder"
   ]
  },
  {
   "cell_type": "code",
   "execution_count": 41,
   "metadata": {},
   "outputs": [],
   "source": [
    "\n",
    "input_data = layers.Input(shape=(16,))\n",
    "\n",
    "encoded = layers.Dense(5, activation='sigmoid')(input_data)\n",
    "decoded = layers.Dense(16, activation='sigmoid')(encoded)\n",
    "\n",
    "autoencoder = tf.keras.Model(input_data, decoded)\n",
    "\n",
    "# encoder = tf.keras.Model(input_data, encoded)\n",
    "\n",
    "# # # This is our encoded (5-dimensional) input\n",
    "# encoded_input = tf.keras.Input(shape=(5,))\n",
    "# # # Retrieve the last layer of the autoencoder model\n",
    "# decoder_layer = autoencoder.layers[-1]\n",
    "# # # Create the decoder model\n",
    "# decoder = tf.keras.Model(encoded_input, decoder_layer(encoded_input))\n",
    "\n"
   ]
  },
  {
   "cell_type": "code",
   "execution_count": 42,
   "metadata": {},
   "outputs": [],
   "source": [
    "autoencoder.compile(optimizer='adam', loss='mse', metrics=['accuracy'])"
   ]
  },
  {
   "cell_type": "code",
   "execution_count": 43,
   "metadata": {},
   "outputs": [
    {
     "name": "stdout",
     "output_type": "stream",
     "text": [
      "Epoch 1/50\n",
      "3/3 [==============================] - 0s 65ms/step - loss: 1.2653 - accuracy: 0.0014 - val_loss: 1.2926 - val_accuracy: 0.0000e+00\n",
      "Epoch 2/50\n",
      "3/3 [==============================] - 0s 13ms/step - loss: 1.2624 - accuracy: 0.0014 - val_loss: 1.2897 - val_accuracy: 0.0000e+00\n",
      "Epoch 3/50\n",
      "3/3 [==============================] - 0s 18ms/step - loss: 1.2595 - accuracy: 0.0014 - val_loss: 1.2867 - val_accuracy: 0.0000e+00\n",
      "Epoch 4/50\n",
      "3/3 [==============================] - 0s 15ms/step - loss: 1.2567 - accuracy: 0.0014 - val_loss: 1.2839 - val_accuracy: 0.0000e+00\n",
      "Epoch 5/50\n",
      "3/3 [==============================] - 0s 13ms/step - loss: 1.2538 - accuracy: 0.0014 - val_loss: 1.2810 - val_accuracy: 0.0000e+00\n",
      "Epoch 6/50\n",
      "3/3 [==============================] - 0s 17ms/step - loss: 1.2510 - accuracy: 0.0014 - val_loss: 1.2781 - val_accuracy: 0.0000e+00\n",
      "Epoch 7/50\n",
      "3/3 [==============================] - 0s 18ms/step - loss: 1.2482 - accuracy: 0.0014 - val_loss: 1.2753 - val_accuracy: 0.0000e+00\n",
      "Epoch 8/50\n",
      "3/3 [==============================] - 0s 14ms/step - loss: 1.2454 - accuracy: 0.0014 - val_loss: 1.2725 - val_accuracy: 0.0000e+00\n",
      "Epoch 9/50\n",
      "3/3 [==============================] - 0s 20ms/step - loss: 1.2426 - accuracy: 0.0014 - val_loss: 1.2697 - val_accuracy: 0.0000e+00\n",
      "Epoch 10/50\n",
      "3/3 [==============================] - 0s 13ms/step - loss: 1.2399 - accuracy: 0.0014 - val_loss: 1.2669 - val_accuracy: 0.0000e+00\n",
      "Epoch 11/50\n",
      "3/3 [==============================] - 0s 12ms/step - loss: 1.2371 - accuracy: 0.0014 - val_loss: 1.2642 - val_accuracy: 0.0000e+00\n",
      "Epoch 12/50\n",
      "3/3 [==============================] - 0s 20ms/step - loss: 1.2344 - accuracy: 0.0014 - val_loss: 1.2615 - val_accuracy: 0.0000e+00\n",
      "Epoch 13/50\n",
      "3/3 [==============================] - 0s 12ms/step - loss: 1.2317 - accuracy: 0.0014 - val_loss: 1.2587 - val_accuracy: 0.0000e+00\n",
      "Epoch 14/50\n",
      "3/3 [==============================] - 0s 12ms/step - loss: 1.2290 - accuracy: 0.0014 - val_loss: 1.2561 - val_accuracy: 0.0000e+00\n",
      "Epoch 15/50\n",
      "3/3 [==============================] - 0s 16ms/step - loss: 1.2264 - accuracy: 0.0014 - val_loss: 1.2534 - val_accuracy: 0.0000e+00\n",
      "Epoch 16/50\n",
      "3/3 [==============================] - 0s 12ms/step - loss: 1.2238 - accuracy: 0.0014 - val_loss: 1.2507 - val_accuracy: 0.0000e+00\n",
      "Epoch 17/50\n",
      "3/3 [==============================] - 0s 13ms/step - loss: 1.2211 - accuracy: 0.0014 - val_loss: 1.2481 - val_accuracy: 0.0000e+00\n",
      "Epoch 18/50\n",
      "3/3 [==============================] - 0s 58ms/step - loss: 1.2186 - accuracy: 0.0014 - val_loss: 1.2455 - val_accuracy: 0.0000e+00\n",
      "Epoch 19/50\n",
      "3/3 [==============================] - 0s 21ms/step - loss: 1.2160 - accuracy: 0.0014 - val_loss: 1.2429 - val_accuracy: 0.0000e+00\n",
      "Epoch 20/50\n",
      "3/3 [==============================] - 0s 27ms/step - loss: 1.2134 - accuracy: 0.0014 - val_loss: 1.2404 - val_accuracy: 0.0000e+00\n",
      "Epoch 21/50\n",
      "3/3 [==============================] - 0s 21ms/step - loss: 1.2109 - accuracy: 0.0027 - val_loss: 1.2378 - val_accuracy: 0.0000e+00\n",
      "Epoch 22/50\n",
      "3/3 [==============================] - 0s 19ms/step - loss: 1.2084 - accuracy: 0.0027 - val_loss: 1.2353 - val_accuracy: 0.0000e+00\n",
      "Epoch 23/50\n",
      "3/3 [==============================] - 0s 14ms/step - loss: 1.2059 - accuracy: 0.0027 - val_loss: 1.2327 - val_accuracy: 0.0000e+00\n",
      "Epoch 24/50\n",
      "3/3 [==============================] - 0s 17ms/step - loss: 1.2034 - accuracy: 0.0041 - val_loss: 1.2302 - val_accuracy: 0.0000e+00\n",
      "Epoch 25/50\n",
      "3/3 [==============================] - 0s 17ms/step - loss: 1.2009 - accuracy: 0.0041 - val_loss: 1.2278 - val_accuracy: 0.0000e+00\n",
      "Epoch 26/50\n",
      "3/3 [==============================] - 0s 14ms/step - loss: 1.1985 - accuracy: 0.0041 - val_loss: 1.2253 - val_accuracy: 0.0000e+00\n",
      "Epoch 27/50\n",
      "3/3 [==============================] - 0s 14ms/step - loss: 1.1960 - accuracy: 0.0041 - val_loss: 1.2228 - val_accuracy: 0.0000e+00\n",
      "Epoch 28/50\n",
      "3/3 [==============================] - 0s 16ms/step - loss: 1.1936 - accuracy: 0.0041 - val_loss: 1.2204 - val_accuracy: 0.0000e+00\n",
      "Epoch 29/50\n",
      "3/3 [==============================] - 0s 13ms/step - loss: 1.1913 - accuracy: 0.0041 - val_loss: 1.2180 - val_accuracy: 0.0000e+00\n",
      "Epoch 30/50\n",
      "3/3 [==============================] - 0s 13ms/step - loss: 1.1889 - accuracy: 0.0041 - val_loss: 1.2156 - val_accuracy: 0.0000e+00\n",
      "Epoch 31/50\n",
      "3/3 [==============================] - 0s 12ms/step - loss: 1.1865 - accuracy: 0.0041 - val_loss: 1.2132 - val_accuracy: 0.0000e+00\n",
      "Epoch 32/50\n",
      "3/3 [==============================] - 0s 12ms/step - loss: 1.1842 - accuracy: 0.0041 - val_loss: 1.2109 - val_accuracy: 0.0000e+00\n",
      "Epoch 33/50\n",
      "3/3 [==============================] - 0s 12ms/step - loss: 1.1819 - accuracy: 0.0041 - val_loss: 1.2085 - val_accuracy: 0.0000e+00\n",
      "Epoch 34/50\n",
      "3/3 [==============================] - 0s 15ms/step - loss: 1.1796 - accuracy: 0.0041 - val_loss: 1.2062 - val_accuracy: 0.0000e+00\n",
      "Epoch 35/50\n",
      "3/3 [==============================] - 0s 15ms/step - loss: 1.1773 - accuracy: 0.0041 - val_loss: 1.2039 - val_accuracy: 0.0000e+00\n",
      "Epoch 36/50\n",
      "3/3 [==============================] - 0s 14ms/step - loss: 1.1750 - accuracy: 0.0041 - val_loss: 1.2016 - val_accuracy: 0.0000e+00\n",
      "Epoch 37/50\n",
      "3/3 [==============================] - 0s 13ms/step - loss: 1.1728 - accuracy: 0.0041 - val_loss: 1.1993 - val_accuracy: 0.0000e+00\n",
      "Epoch 38/50\n",
      "3/3 [==============================] - 0s 12ms/step - loss: 1.1705 - accuracy: 0.0041 - val_loss: 1.1970 - val_accuracy: 0.0000e+00\n",
      "Epoch 39/50\n",
      "3/3 [==============================] - 0s 10ms/step - loss: 1.1683 - accuracy: 0.0041 - val_loss: 1.1947 - val_accuracy: 0.0000e+00\n",
      "Epoch 40/50\n",
      "3/3 [==============================] - 0s 12ms/step - loss: 1.1661 - accuracy: 0.0041 - val_loss: 1.1925 - val_accuracy: 0.0000e+00\n",
      "Epoch 41/50\n",
      "3/3 [==============================] - 0s 13ms/step - loss: 1.1639 - accuracy: 0.0027 - val_loss: 1.1903 - val_accuracy: 0.0000e+00\n",
      "Epoch 42/50\n",
      "3/3 [==============================] - 0s 15ms/step - loss: 1.1617 - accuracy: 0.0027 - val_loss: 1.1881 - val_accuracy: 0.0000e+00\n",
      "Epoch 43/50\n",
      "3/3 [==============================] - 0s 19ms/step - loss: 1.1596 - accuracy: 0.0027 - val_loss: 1.1859 - val_accuracy: 0.0000e+00\n",
      "Epoch 44/50\n",
      "3/3 [==============================] - 0s 15ms/step - loss: 1.1574 - accuracy: 0.0027 - val_loss: 1.1837 - val_accuracy: 0.0000e+00\n",
      "Epoch 45/50\n",
      "3/3 [==============================] - 0s 15ms/step - loss: 1.1553 - accuracy: 0.0027 - val_loss: 1.1815 - val_accuracy: 0.0000e+00\n",
      "Epoch 46/50\n",
      "3/3 [==============================] - 0s 17ms/step - loss: 1.1532 - accuracy: 0.0027 - val_loss: 1.1793 - val_accuracy: 0.0000e+00\n",
      "Epoch 47/50\n",
      "3/3 [==============================] - 0s 18ms/step - loss: 1.1510 - accuracy: 0.0027 - val_loss: 1.1772 - val_accuracy: 0.0054\n",
      "Epoch 48/50\n",
      "3/3 [==============================] - 0s 17ms/step - loss: 1.1490 - accuracy: 0.0027 - val_loss: 1.1750 - val_accuracy: 0.0054\n",
      "Epoch 49/50\n",
      "3/3 [==============================] - 0s 17ms/step - loss: 1.1469 - accuracy: 0.0027 - val_loss: 1.1729 - val_accuracy: 0.0054\n",
      "Epoch 50/50\n",
      "3/3 [==============================] - 0s 16ms/step - loss: 1.1448 - accuracy: 0.0027 - val_loss: 1.1708 - val_accuracy: 0.0054\n"
     ]
    },
    {
     "data": {
      "text/plain": [
       "<keras.callbacks.History at 0x1e37cc99550>"
      ]
     },
     "execution_count": 43,
     "metadata": {},
     "output_type": "execute_result"
    }
   ],
   "source": [
    "autoencoder.fit(X_train, X_train,\n",
    "                epochs=50,\n",
    "                batch_size=256,\n",
    "                shuffle=True,\n",
    "                validation_data=(X_test, X_test))"
   ]
  },
  {
   "cell_type": "code",
   "execution_count": 49,
   "metadata": {},
   "outputs": [],
   "source": [
    "X_train_predict = autoencoder.predict(X_train)\n",
    "X_test_predict = autoencoder.predict(X_test)\n"
   ]
  },
  {
   "cell_type": "markdown",
   "metadata": {},
   "source": [
    "### MSE "
   ]
  },
  {
   "cell_type": "code",
   "execution_count": 51,
   "metadata": {},
   "outputs": [
    {
     "name": "stdout",
     "output_type": "stream",
     "text": [
      "For X_train: 1.1434397269893473\n",
      "For X_test: 1.1708236669118328\n"
     ]
    }
   ],
   "source": [
    "print( \"For X_train: \" + str(sklearn.metrics.mean_squared_error(X_train,X_train_predict)))\n",
    "print( \"For X_test: \" + str(sklearn.metrics.mean_squared_error(X_test,X_test_predict)))"
   ]
  },
  {
   "cell_type": "code",
   "execution_count": 57,
   "metadata": {},
   "outputs": [
    {
     "data": {
      "text/plain": [
       "array([[0.35146356, 0.40383497, 0.5058786 , ..., 0.36062098, 0.28851745,\n",
       "        0.36418337],\n",
       "       [0.46091005, 0.40636504, 0.42899808, ..., 0.3853016 , 0.27236834,\n",
       "        0.36464232],\n",
       "       [0.40256473, 0.3827113 , 0.44646612, ..., 0.34983128, 0.22547957,\n",
       "        0.33801746],\n",
       "       ...,\n",
       "       [0.36130622, 0.3982346 , 0.43873885, ..., 0.33488834, 0.25876772,\n",
       "        0.38577595],\n",
       "       [0.36838603, 0.38666928, 0.5133166 , ..., 0.3441348 , 0.2113449 ,\n",
       "        0.29574516],\n",
       "       [0.3507301 , 0.41091293, 0.47601193, ..., 0.34506553, 0.3299627 ,\n",
       "        0.41683438]], dtype=float32)"
      ]
     },
     "execution_count": 57,
     "metadata": {},
     "output_type": "execute_result"
    }
   ],
   "source": [
    "X_train_predict"
   ]
  },
  {
   "cell_type": "code",
   "execution_count": 65,
   "metadata": {},
   "outputs": [],
   "source": [
    "def plot_reconstruction_error(trainx, decoded_data):\n",
    "    plt.plot(trainx[0], 'b')\n",
    "    plt.plot(decoded_data[0], 'r')\n",
    "    plt.fill_between(np.arange(16), decoded_data[0], trainx[0], color='lightcoral')\n",
    "    plt.legend(labels=[\"Input\", \"Reconstruction\", \"Error\"])\n",
    "    plt.show()"
   ]
  },
  {
   "cell_type": "code",
   "execution_count": 66,
   "metadata": {},
   "outputs": [
    {
     "data": {
      "image/png": "[encoded data removed]",
      "text/plain": [
       "<Figure size 432x288 with 1 Axes>"
      ]
     },
     "metadata": {
      "needs_background": "light"
     },
     "output_type": "display_data"
    }
   ],
   "source": [
    "plot_reconstruction_error(X_train, X_train_predict)"
   ]
  },
  {
   "cell_type": "markdown",
   "metadata": {},
   "source": [
    "from the above chart it seems that reconstriction did not happen properly as errors are too much"
   ]
  },
  {
   "cell_type": "markdown",
   "metadata": {},
   "source": [
    "### wasserstein distance"
   ]
  },
  {
   "cell_type": "code",
   "execution_count": null,
   "metadata": {},
   "outputs": [],
   "source": [
    "tf.keras.losses.kullback_leibler_divergence(X_train,c)"
   ]
  },
  {
   "cell_type": "markdown",
   "metadata": {},
   "source": [
    "# Variational Autoencoder"
   ]
  },
  {
   "cell_type": "markdown",
   "metadata": {},
   "source": [
    "### define sampling"
   ]
  },
  {
   "cell_type": "code",
   "execution_count": 70,
   "metadata": {},
   "outputs": [],
   "source": [
    "latent_dim = 2\n",
    "intermediate_dim = 5\n",
    "original_dim = 16"
   ]
  },
  {
   "cell_type": "code",
   "execution_count": 82,
   "metadata": {},
   "outputs": [],
   "source": [
    "from tensorflow.keras import backend as K"
   ]
  },
  {
   "cell_type": "code",
   "execution_count": 83,
   "metadata": {},
   "outputs": [],
   "source": [
    "def sampling(distribution):\n",
    "    dist_mean, dist_var = distribution\n",
    "    epsilon = K.random_normal(shape=(K.shape(dist_mean)[0], latent_dim), mean=0., stddev=1)\n",
    "    return dist_mean + K.exp(dist_var) * epsilon"
   ]
  },
  {
   "cell_type": "code",
   "execution_count": 148,
   "metadata": {},
   "outputs": [],
   "source": [
    "x = layers.Input(shape=(original_dim,), name=\"input\")\n",
    "# intermediate layer\n",
    "h = layers.Dense(intermediate_dim, activation='relu', name=\"encoding\")(x)\n",
    "# defining the mean of the latent space\n",
    "dist_mean = layers.Dense(latent_dim, name=\"mean\")(h)\n",
    "# defining the log variance of the latent space\n",
    "dist_var = layers.Dense(latent_dim, name=\"variance\")(h)\n",
    "# note that \"output_shape\" isn't necessary with the TensorFlow backend\n",
    "z = layers.Lambda(sampling, output_shape=(latent_dim,))([dist_mean, dist_var])\n",
    "# defining the encoder as a keras model\n",
    "encoder2 = tf.keras.Model(x, [dist_mean, dist_var,z], name=\"encoder\")\n",
    "# print out summary of what we just did\n",
    "\n",
    "# Input to the decoder\n",
    "input_decoder = layers.Input(shape=(latent_dim,), name=\"decoder_input\")\n",
    "# taking the latent space to intermediate dimension\n",
    "decoder_h = layers.Dense(intermediate_dim, activation='relu', name=\"decoder_h\")(input_decoder)\n",
    "# getting the mean from the original dimension\n",
    "x_decoded = layers.Dense(original_dim, activation='sigmoid', name=\"flat_decoded\")(decoder_h)\n",
    "# defining the decoder as a keras model\n",
    "decoder2 = tf.keras.Model(input_decoder, x_decoded, name=\"decoder\")\n",
    "\n",
    "\n",
    "encoded = encoder2(x)[2]\n",
    "\n",
    "decoded = decoder2(encoded)\n",
    "\n",
    "autoencoder_vae =  tf.keras.Model(x,decoded)\n"
   ]
  },
  {
   "cell_type": "code",
   "execution_count": 150,
   "metadata": {},
   "outputs": [
    {
     "name": "stdout",
     "output_type": "stream",
     "text": [
      "Model: \"model_33\"\n",
      "_________________________________________________________________\n",
      " Layer (type)                Output Shape              Param #   \n",
      "=================================================================\n",
      " input (InputLayer)          [(None, 16)]              0         \n",
      "                                                                 \n",
      " encoder (Functional)        [(None, 2),               109       \n",
      "                              (None, 2),                         \n",
      "                              (None, 2)]                         \n",
      "                                                                 \n",
      " decoder (Functional)        (None, 16)                111       \n",
      "                                                                 \n",
      "=================================================================\n",
      "Total params: 220\n",
      "Trainable params: 220\n",
      "Non-trainable params: 0\n",
      "_________________________________________________________________\n"
     ]
    }
   ],
   "source": [
    "autoencoder_vae.summary()"
   ]
  },
  {
   "cell_type": "code",
   "execution_count": 151,
   "metadata": {},
   "outputs": [],
   "source": [
    "# def total_vae_loss(dist_mean, dist_var):\n",
    "reconstruction_loss = tf.keras.losses.mse(x, decoded)\n",
    "reconstruction_loss_batch = reconstruction_loss\n",
    "reconstruction_loss_batch *= original_dim\n",
    "kl_loss = 1 + dist_var - K.square(dist_mean) - K.exp(dist_var)\n",
    "kl_loss = K.sum(kl_loss, axis=-1)\n",
    "kl_loss *= -0.5\n",
    "kl_loss_batch = kl_loss\n",
    "total_loss = K.mean(reconstruction_loss_batch + kl_loss_batch)\n",
    "    # return total_loss\n"
   ]
  },
  {
   "cell_type": "code",
   "execution_count": 152,
   "metadata": {},
   "outputs": [],
   "source": [
    "autoencoder_vae.add_loss(total_loss)\n",
    "# autoencoder_vae.compile( optimizer='adam', metrics=['rsme'])"
   ]
  },
  {
   "cell_type": "code",
   "execution_count": 161,
   "metadata": {},
   "outputs": [],
   "source": [
    "autoencoder_vae.compile( optimizer='adam', metrics=[tf.keras.metrics.RootMeanSquaredError(), tf.keras.metrics.KLDivergence()])"
   ]
  },
  {
   "cell_type": "code",
   "execution_count": 175,
   "metadata": {},
   "outputs": [
    {
     "name": "stdout",
     "output_type": "stream",
     "text": [
      "Epoch 1/100\n",
      "12/12 [==============================] - 0s 7ms/step - loss: 16.2351 - root_mean_squared_error: 1.0031 - kullback_leibler_divergence: 11.1791 - val_loss: 16.6184 - val_root_mean_squared_error: 1.0144 - val_kullback_leibler_divergence: 11.1846\n",
      "Epoch 2/100\n",
      "12/12 [==============================] - 0s 4ms/step - loss: 16.2406 - root_mean_squared_error: 1.0034 - kullback_leibler_divergence: 11.2418 - val_loss: 16.6413 - val_root_mean_squared_error: 1.0149 - val_kullback_leibler_divergence: 11.6666\n",
      "Epoch 3/100\n",
      "12/12 [==============================] - 0s 4ms/step - loss: 16.1585 - root_mean_squared_error: 1.0011 - kullback_leibler_divergence: 11.5268 - val_loss: 16.6247 - val_root_mean_squared_error: 1.0145 - val_kullback_leibler_divergence: 11.7530\n",
      "Epoch 4/100\n",
      "12/12 [==============================] - 0s 4ms/step - loss: 16.1518 - root_mean_squared_error: 1.0018 - kullback_leibler_divergence: 11.4179 - val_loss: 16.5894 - val_root_mean_squared_error: 1.0134 - val_kullback_leibler_divergence: 11.7690\n",
      "Epoch 5/100\n",
      "12/12 [==============================] - 0s 3ms/step - loss: 16.1756 - root_mean_squared_error: 1.0009 - kullback_leibler_divergence: 11.6045 - val_loss: 16.5450 - val_root_mean_squared_error: 1.0121 - val_kullback_leibler_divergence: 12.3839\n",
      "Epoch 6/100\n",
      "12/12 [==============================] - 0s 4ms/step - loss: 16.0537 - root_mean_squared_error: 0.9994 - kullback_leibler_divergence: 11.6431 - val_loss: 16.5396 - val_root_mean_squared_error: 1.0118 - val_kullback_leibler_divergence: 12.0988\n",
      "Epoch 7/100\n",
      "12/12 [==============================] - 0s 4ms/step - loss: 16.1338 - root_mean_squared_error: 0.9982 - kullback_leibler_divergence: 12.0590 - val_loss: 16.5505 - val_root_mean_squared_error: 1.0123 - val_kullback_leibler_divergence: 12.5000\n",
      "Epoch 8/100\n",
      "12/12 [==============================] - 0s 5ms/step - loss: 16.1138 - root_mean_squared_error: 0.9996 - kullback_leibler_divergence: 11.8051 - val_loss: 16.5418 - val_root_mean_squared_error: 1.0119 - val_kullback_leibler_divergence: 12.2370\n",
      "Epoch 9/100\n",
      "12/12 [==============================] - 0s 4ms/step - loss: 16.1597 - root_mean_squared_error: 0.9996 - kullback_leibler_divergence: 12.0452 - val_loss: 16.4819 - val_root_mean_squared_error: 1.0100 - val_kullback_leibler_divergence: 12.4476\n",
      "Epoch 10/100\n",
      "12/12 [==============================] - 0s 5ms/step - loss: 16.0632 - root_mean_squared_error: 0.9983 - kullback_leibler_divergence: 12.1259 - val_loss: 16.4634 - val_root_mean_squared_error: 1.0096 - val_kullback_leibler_divergence: 12.4302\n",
      "Epoch 11/100\n",
      "12/12 [==============================] - 0s 5ms/step - loss: 16.1700 - root_mean_squared_error: 0.9987 - kullback_leibler_divergence: 11.8688 - val_loss: 16.5064 - val_root_mean_squared_error: 1.0109 - val_kullback_leibler_divergence: 12.2181\n",
      "Epoch 12/100\n",
      "12/12 [==============================] - 0s 5ms/step - loss: 16.0193 - root_mean_squared_error: 0.9977 - kullback_leibler_divergence: 12.0908 - val_loss: 16.5135 - val_root_mean_squared_error: 1.0111 - val_kullback_leibler_divergence: 12.1057\n",
      "Epoch 13/100\n",
      "12/12 [==============================] - 0s 4ms/step - loss: 16.0562 - root_mean_squared_error: 0.9976 - kullback_leibler_divergence: 12.0310 - val_loss: 16.4806 - val_root_mean_squared_error: 1.0098 - val_kullback_leibler_divergence: 12.6983\n",
      "Epoch 14/100\n",
      "12/12 [==============================] - 0s 4ms/step - loss: 16.1233 - root_mean_squared_error: 0.9981 - kullback_leibler_divergence: 12.2029 - val_loss: 16.4892 - val_root_mean_squared_error: 1.0098 - val_kullback_leibler_divergence: 12.6753\n",
      "Epoch 15/100\n",
      "12/12 [==============================] - 0s 5ms/step - loss: 16.0895 - root_mean_squared_error: 0.9964 - kullback_leibler_divergence: 12.8499 - val_loss: 16.5777 - val_root_mean_squared_error: 1.0128 - val_kullback_leibler_divergence: 12.4992\n",
      "Epoch 16/100\n",
      "12/12 [==============================] - 0s 4ms/step - loss: 16.0815 - root_mean_squared_error: 0.9982 - kullback_leibler_divergence: 12.3421 - val_loss: 16.5051 - val_root_mean_squared_error: 1.0107 - val_kullback_leibler_divergence: 12.3274\n",
      "Epoch 17/100\n",
      "12/12 [==============================] - 0s 5ms/step - loss: 16.0851 - root_mean_squared_error: 0.9966 - kullback_leibler_divergence: 12.7169 - val_loss: 16.4507 - val_root_mean_squared_error: 1.0087 - val_kullback_leibler_divergence: 13.0484\n",
      "Epoch 18/100\n",
      "12/12 [==============================] - 0s 5ms/step - loss: 15.9763 - root_mean_squared_error: 0.9961 - kullback_leibler_divergence: 12.6226 - val_loss: 16.4100 - val_root_mean_squared_error: 1.0073 - val_kullback_leibler_divergence: 13.4383\n",
      "Epoch 19/100\n",
      "12/12 [==============================] - 0s 4ms/step - loss: 16.0642 - root_mean_squared_error: 0.9961 - kullback_leibler_divergence: 12.7929 - val_loss: 16.3874 - val_root_mean_squared_error: 1.0063 - val_kullback_leibler_divergence: 13.4826\n",
      "Epoch 20/100\n",
      "12/12 [==============================] - 0s 4ms/step - loss: 16.0269 - root_mean_squared_error: 0.9950 - kullback_leibler_divergence: 12.4146 - val_loss: 16.3722 - val_root_mean_squared_error: 1.0056 - val_kullback_leibler_divergence: 13.0913\n",
      "Epoch 21/100\n",
      "12/12 [==============================] - 0s 4ms/step - loss: 15.9020 - root_mean_squared_error: 0.9935 - kullback_leibler_divergence: 12.4133 - val_loss: 16.4071 - val_root_mean_squared_error: 1.0065 - val_kullback_leibler_divergence: 12.7986\n",
      "Epoch 22/100\n",
      "12/12 [==============================] - 0s 5ms/step - loss: 15.9466 - root_mean_squared_error: 0.9939 - kullback_leibler_divergence: 12.5654 - val_loss: 16.3712 - val_root_mean_squared_error: 1.0054 - val_kullback_leibler_divergence: 12.6572\n",
      "Epoch 23/100\n",
      "12/12 [==============================] - 0s 5ms/step - loss: 15.9325 - root_mean_squared_error: 0.9939 - kullback_leibler_divergence: 12.4614 - val_loss: 16.3778 - val_root_mean_squared_error: 1.0057 - val_kullback_leibler_divergence: 12.2499\n",
      "Epoch 24/100\n",
      "12/12 [==============================] - 0s 4ms/step - loss: 15.8249 - root_mean_squared_error: 0.9917 - kullback_leibler_divergence: 12.7693 - val_loss: 16.3911 - val_root_mean_squared_error: 1.0061 - val_kullback_leibler_divergence: 13.0682\n",
      "Epoch 25/100\n",
      "12/12 [==============================] - 0s 4ms/step - loss: 15.9780 - root_mean_squared_error: 0.9929 - kullback_leibler_divergence: 12.2145 - val_loss: 16.3683 - val_root_mean_squared_error: 1.0053 - val_kullback_leibler_divergence: 12.4073\n",
      "Epoch 26/100\n",
      "12/12 [==============================] - 0s 3ms/step - loss: 15.9607 - root_mean_squared_error: 0.9921 - kullback_leibler_divergence: 12.2188 - val_loss: 16.3788 - val_root_mean_squared_error: 1.0053 - val_kullback_leibler_divergence: 13.2134\n",
      "Epoch 27/100\n",
      "12/12 [==============================] - 0s 4ms/step - loss: 15.9697 - root_mean_squared_error: 0.9915 - kullback_leibler_divergence: 12.7153 - val_loss: 16.3835 - val_root_mean_squared_error: 1.0048 - val_kullback_leibler_divergence: 12.6548\n",
      "Epoch 28/100\n",
      "12/12 [==============================] - 0s 4ms/step - loss: 15.9171 - root_mean_squared_error: 0.9915 - kullback_leibler_divergence: 12.4307 - val_loss: 16.3397 - val_root_mean_squared_error: 1.0033 - val_kullback_leibler_divergence: 12.4374\n",
      "Epoch 29/100\n",
      "12/12 [==============================] - 0s 4ms/step - loss: 16.0413 - root_mean_squared_error: 0.9897 - kullback_leibler_divergence: 12.0772 - val_loss: 16.3982 - val_root_mean_squared_error: 1.0048 - val_kullback_leibler_divergence: 12.7425\n",
      "Epoch 30/100\n",
      "12/12 [==============================] - 0s 3ms/step - loss: 15.8773 - root_mean_squared_error: 0.9878 - kullback_leibler_divergence: 12.2431 - val_loss: 16.2796 - val_root_mean_squared_error: 1.0009 - val_kullback_leibler_divergence: 12.9971\n",
      "Epoch 31/100\n",
      "12/12 [==============================] - 0s 4ms/step - loss: 15.7572 - root_mean_squared_error: 0.9883 - kullback_leibler_divergence: 12.1180 - val_loss: 16.3828 - val_root_mean_squared_error: 1.0039 - val_kullback_leibler_divergence: 12.8237\n",
      "Epoch 32/100\n",
      "12/12 [==============================] - 0s 4ms/step - loss: 15.8778 - root_mean_squared_error: 0.9875 - kullback_leibler_divergence: 12.4532 - val_loss: 16.3496 - val_root_mean_squared_error: 1.0023 - val_kullback_leibler_divergence: 12.5198\n",
      "Epoch 33/100\n",
      "12/12 [==============================] - 0s 3ms/step - loss: 15.8371 - root_mean_squared_error: 0.9867 - kullback_leibler_divergence: 12.1273 - val_loss: 16.2598 - val_root_mean_squared_error: 0.9995 - val_kullback_leibler_divergence: 12.1701\n",
      "Epoch 34/100\n",
      "12/12 [==============================] - 0s 4ms/step - loss: 15.7538 - root_mean_squared_error: 0.9855 - kullback_leibler_divergence: 11.9569 - val_loss: 16.3051 - val_root_mean_squared_error: 1.0008 - val_kullback_leibler_divergence: 12.1853\n",
      "Epoch 35/100\n",
      "12/12 [==============================] - 0s 4ms/step - loss: 15.7190 - root_mean_squared_error: 0.9838 - kullback_leibler_divergence: 11.7647 - val_loss: 16.2206 - val_root_mean_squared_error: 0.9978 - val_kullback_leibler_divergence: 12.5461\n",
      "Epoch 36/100\n",
      "12/12 [==============================] - 0s 4ms/step - loss: 15.7728 - root_mean_squared_error: 0.9844 - kullback_leibler_divergence: 11.9919 - val_loss: 16.1598 - val_root_mean_squared_error: 0.9952 - val_kullback_leibler_divergence: 12.3184\n",
      "Epoch 37/100\n",
      "12/12 [==============================] - 0s 4ms/step - loss: 15.6821 - root_mean_squared_error: 0.9819 - kullback_leibler_divergence: 11.6649 - val_loss: 16.2794 - val_root_mean_squared_error: 0.9983 - val_kullback_leibler_divergence: 12.1150\n",
      "Epoch 38/100\n",
      "12/12 [==============================] - 0s 4ms/step - loss: 15.8169 - root_mean_squared_error: 0.9813 - kullback_leibler_divergence: 11.5151 - val_loss: 16.1088 - val_root_mean_squared_error: 0.9923 - val_kullback_leibler_divergence: 11.7649\n",
      "Epoch 39/100\n",
      "12/12 [==============================] - 0s 4ms/step - loss: 15.7183 - root_mean_squared_error: 0.9780 - kullback_leibler_divergence: 11.3451 - val_loss: 16.1018 - val_root_mean_squared_error: 0.9914 - val_kullback_leibler_divergence: 11.3175\n",
      "Epoch 40/100\n",
      "12/12 [==============================] - 0s 4ms/step - loss: 15.6524 - root_mean_squared_error: 0.9775 - kullback_leibler_divergence: 11.2622 - val_loss: 16.0282 - val_root_mean_squared_error: 0.9887 - val_kullback_leibler_divergence: 11.6033\n",
      "Epoch 41/100\n",
      "12/12 [==============================] - 0s 3ms/step - loss: 15.6118 - root_mean_squared_error: 0.9758 - kullback_leibler_divergence: 11.2467 - val_loss: 16.0179 - val_root_mean_squared_error: 0.9883 - val_kullback_leibler_divergence: 11.4981\n",
      "Epoch 42/100\n",
      "12/12 [==============================] - 0s 3ms/step - loss: 15.6081 - root_mean_squared_error: 0.9757 - kullback_leibler_divergence: 11.1780 - val_loss: 15.9986 - val_root_mean_squared_error: 0.9874 - val_kullback_leibler_divergence: 11.3907\n",
      "Epoch 43/100\n",
      "12/12 [==============================] - 0s 4ms/step - loss: 15.5741 - root_mean_squared_error: 0.9734 - kullback_leibler_divergence: 10.7753 - val_loss: 15.9497 - val_root_mean_squared_error: 0.9852 - val_kullback_leibler_divergence: 11.3081\n",
      "Epoch 44/100\n",
      "12/12 [==============================] - 0s 4ms/step - loss: 15.5738 - root_mean_squared_error: 0.9715 - kullback_leibler_divergence: 10.8386 - val_loss: 15.9521 - val_root_mean_squared_error: 0.9842 - val_kullback_leibler_divergence: 11.2296\n",
      "Epoch 45/100\n",
      "12/12 [==============================] - 0s 4ms/step - loss: 15.5889 - root_mean_squared_error: 0.9702 - kullback_leibler_divergence: 10.6027 - val_loss: 16.0433 - val_root_mean_squared_error: 0.9862 - val_kullback_leibler_divergence: 11.0482\n",
      "Epoch 46/100\n",
      "12/12 [==============================] - 0s 4ms/step - loss: 15.4600 - root_mean_squared_error: 0.9669 - kullback_leibler_divergence: 10.4212 - val_loss: 15.8069 - val_root_mean_squared_error: 0.9783 - val_kullback_leibler_divergence: 10.8969\n",
      "Epoch 47/100\n",
      "12/12 [==============================] - 0s 4ms/step - loss: 15.3710 - root_mean_squared_error: 0.9653 - kullback_leibler_divergence: 10.3743 - val_loss: 15.7887 - val_root_mean_squared_error: 0.9772 - val_kullback_leibler_divergence: 10.5888\n",
      "Epoch 48/100\n",
      "12/12 [==============================] - 0s 4ms/step - loss: 15.4528 - root_mean_squared_error: 0.9633 - kullback_leibler_divergence: 10.0506 - val_loss: 15.7449 - val_root_mean_squared_error: 0.9758 - val_kullback_leibler_divergence: 10.9670\n",
      "Epoch 49/100\n",
      "12/12 [==============================] - 0s 3ms/step - loss: 15.3844 - root_mean_squared_error: 0.9632 - kullback_leibler_divergence: 9.9993 - val_loss: 15.6858 - val_root_mean_squared_error: 0.9734 - val_kullback_leibler_divergence: 10.6137\n",
      "Epoch 50/100\n",
      "12/12 [==============================] - 0s 4ms/step - loss: 15.3252 - root_mean_squared_error: 0.9615 - kullback_leibler_divergence: 10.2011 - val_loss: 15.7026 - val_root_mean_squared_error: 0.9733 - val_kullback_leibler_divergence: 10.6151\n",
      "Epoch 51/100\n",
      "12/12 [==============================] - 0s 4ms/step - loss: 15.3024 - root_mean_squared_error: 0.9601 - kullback_leibler_divergence: 9.8377 - val_loss: 15.6403 - val_root_mean_squared_error: 0.9712 - val_kullback_leibler_divergence: 10.3936\n",
      "Epoch 52/100\n",
      "12/12 [==============================] - 0s 3ms/step - loss: 15.2189 - root_mean_squared_error: 0.9590 - kullback_leibler_divergence: 9.8083 - val_loss: 15.7203 - val_root_mean_squared_error: 0.9735 - val_kullback_leibler_divergence: 10.7881\n",
      "Epoch 53/100\n",
      "12/12 [==============================] - 0s 4ms/step - loss: 15.2116 - root_mean_squared_error: 0.9562 - kullback_leibler_divergence: 9.7745 - val_loss: 15.5384 - val_root_mean_squared_error: 0.9679 - val_kullback_leibler_divergence: 10.2874\n",
      "Epoch 54/100\n",
      "12/12 [==============================] - 0s 4ms/step - loss: 15.1647 - root_mean_squared_error: 0.9560 - kullback_leibler_divergence: 9.8241 - val_loss: 15.4596 - val_root_mean_squared_error: 0.9656 - val_kullback_leibler_divergence: 10.2576\n",
      "Epoch 55/100\n",
      "12/12 [==============================] - 0s 4ms/step - loss: 15.2270 - root_mean_squared_error: 0.9568 - kullback_leibler_divergence: 9.7128 - val_loss: 15.5104 - val_root_mean_squared_error: 0.9663 - val_kullback_leibler_divergence: 10.2790\n",
      "Epoch 56/100\n",
      "12/12 [==============================] - 0s 5ms/step - loss: 15.1621 - root_mean_squared_error: 0.9545 - kullback_leibler_divergence: 9.8275 - val_loss: 15.4146 - val_root_mean_squared_error: 0.9618 - val_kullback_leibler_divergence: 10.2468\n",
      "Epoch 57/100\n",
      "12/12 [==============================] - 0s 5ms/step - loss: 15.1728 - root_mean_squared_error: 0.9541 - kullback_leibler_divergence: 9.8054 - val_loss: 15.5292 - val_root_mean_squared_error: 0.9654 - val_kullback_leibler_divergence: 10.2956\n",
      "Epoch 58/100\n",
      "12/12 [==============================] - 0s 4ms/step - loss: 15.1441 - root_mean_squared_error: 0.9530 - kullback_leibler_divergence: 9.5318 - val_loss: 15.4379 - val_root_mean_squared_error: 0.9626 - val_kullback_leibler_divergence: 9.9081\n",
      "Epoch 59/100\n",
      "12/12 [==============================] - 0s 5ms/step - loss: 15.1452 - root_mean_squared_error: 0.9516 - kullback_leibler_divergence: 9.5101 - val_loss: 15.4738 - val_root_mean_squared_error: 0.9640 - val_kullback_leibler_divergence: 9.8781\n",
      "Epoch 60/100\n",
      "12/12 [==============================] - 0s 5ms/step - loss: 15.1073 - root_mean_squared_error: 0.9514 - kullback_leibler_divergence: 9.5835 - val_loss: 15.3896 - val_root_mean_squared_error: 0.9610 - val_kullback_leibler_divergence: 10.0132\n",
      "Epoch 61/100\n",
      "12/12 [==============================] - 0s 4ms/step - loss: 15.0530 - root_mean_squared_error: 0.9498 - kullback_leibler_divergence: 9.4222 - val_loss: 15.3552 - val_root_mean_squared_error: 0.9597 - val_kullback_leibler_divergence: 10.0291\n",
      "Epoch 62/100\n",
      "12/12 [==============================] - 0s 4ms/step - loss: 15.0284 - root_mean_squared_error: 0.9502 - kullback_leibler_divergence: 9.4611 - val_loss: 15.2890 - val_root_mean_squared_error: 0.9572 - val_kullback_leibler_divergence: 9.8997\n",
      "Epoch 63/100\n",
      "12/12 [==============================] - 0s 4ms/step - loss: 15.0200 - root_mean_squared_error: 0.9481 - kullback_leibler_divergence: 9.4858 - val_loss: 15.3551 - val_root_mean_squared_error: 0.9598 - val_kullback_leibler_divergence: 10.0219\n",
      "Epoch 64/100\n",
      "12/12 [==============================] - 0s 3ms/step - loss: 14.9668 - root_mean_squared_error: 0.9462 - kullback_leibler_divergence: 9.3979 - val_loss: 15.2813 - val_root_mean_squared_error: 0.9574 - val_kullback_leibler_divergence: 9.7615\n",
      "Epoch 65/100\n",
      "12/12 [==============================] - 0s 4ms/step - loss: 15.0252 - root_mean_squared_error: 0.9468 - kullback_leibler_divergence: 9.3077 - val_loss: 15.1808 - val_root_mean_squared_error: 0.9544 - val_kullback_leibler_divergence: 9.8637\n",
      "Epoch 66/100\n",
      "12/12 [==============================] - 0s 4ms/step - loss: 14.9160 - root_mean_squared_error: 0.9447 - kullback_leibler_divergence: 9.3398 - val_loss: 15.3284 - val_root_mean_squared_error: 0.9586 - val_kullback_leibler_divergence: 10.0472\n",
      "Epoch 67/100\n",
      "12/12 [==============================] - 0s 4ms/step - loss: 14.9510 - root_mean_squared_error: 0.9447 - kullback_leibler_divergence: 9.5018 - val_loss: 15.2229 - val_root_mean_squared_error: 0.9548 - val_kullback_leibler_divergence: 9.7289\n",
      "Epoch 68/100\n",
      "12/12 [==============================] - 0s 4ms/step - loss: 14.8879 - root_mean_squared_error: 0.9439 - kullback_leibler_divergence: 9.3031 - val_loss: 15.2461 - val_root_mean_squared_error: 0.9553 - val_kullback_leibler_divergence: 9.7981\n",
      "Epoch 69/100\n",
      "12/12 [==============================] - 0s 4ms/step - loss: 14.9699 - root_mean_squared_error: 0.9441 - kullback_leibler_divergence: 9.3196 - val_loss: 15.1691 - val_root_mean_squared_error: 0.9526 - val_kullback_leibler_divergence: 10.0658\n",
      "Epoch 70/100\n",
      "12/12 [==============================] - 0s 4ms/step - loss: 14.9173 - root_mean_squared_error: 0.9437 - kullback_leibler_divergence: 9.4132 - val_loss: 15.2024 - val_root_mean_squared_error: 0.9534 - val_kullback_leibler_divergence: 9.9631\n",
      "Epoch 71/100\n",
      "12/12 [==============================] - 0s 4ms/step - loss: 14.8230 - root_mean_squared_error: 0.9417 - kullback_leibler_divergence: 9.3643 - val_loss: 15.2291 - val_root_mean_squared_error: 0.9543 - val_kullback_leibler_divergence: 9.7203\n",
      "Epoch 72/100\n",
      "12/12 [==============================] - 0s 4ms/step - loss: 14.9256 - root_mean_squared_error: 0.9427 - kullback_leibler_divergence: 9.4189 - val_loss: 15.1315 - val_root_mean_squared_error: 0.9507 - val_kullback_leibler_divergence: 9.7091\n",
      "Epoch 73/100\n",
      "12/12 [==============================] - 0s 4ms/step - loss: 14.7851 - root_mean_squared_error: 0.9405 - kullback_leibler_divergence: 9.2466 - val_loss: 15.1572 - val_root_mean_squared_error: 0.9515 - val_kullback_leibler_divergence: 9.7795\n",
      "Epoch 74/100\n",
      "12/12 [==============================] - 0s 4ms/step - loss: 14.8106 - root_mean_squared_error: 0.9397 - kullback_leibler_divergence: 9.1722 - val_loss: 15.0934 - val_root_mean_squared_error: 0.9498 - val_kullback_leibler_divergence: 9.7360\n",
      "Epoch 75/100\n",
      "12/12 [==============================] - 0s 4ms/step - loss: 14.7977 - root_mean_squared_error: 0.9394 - kullback_leibler_divergence: 9.2069 - val_loss: 15.0088 - val_root_mean_squared_error: 0.9469 - val_kullback_leibler_divergence: 9.4866\n",
      "Epoch 76/100\n",
      "12/12 [==============================] - 0s 4ms/step - loss: 14.8128 - root_mean_squared_error: 0.9411 - kullback_leibler_divergence: 9.2183 - val_loss: 15.1596 - val_root_mean_squared_error: 0.9517 - val_kullback_leibler_divergence: 10.0291\n",
      "Epoch 77/100\n",
      "12/12 [==============================] - 0s 4ms/step - loss: 14.7651 - root_mean_squared_error: 0.9385 - kullback_leibler_divergence: 9.0608 - val_loss: 15.0546 - val_root_mean_squared_error: 0.9481 - val_kullback_leibler_divergence: 9.4789\n",
      "Epoch 78/100\n",
      "12/12 [==============================] - 0s 4ms/step - loss: 14.8981 - root_mean_squared_error: 0.9395 - kullback_leibler_divergence: 9.2236 - val_loss: 15.0696 - val_root_mean_squared_error: 0.9478 - val_kullback_leibler_divergence: 9.8612\n",
      "Epoch 79/100\n",
      "12/12 [==============================] - 0s 3ms/step - loss: 14.7052 - root_mean_squared_error: 0.9375 - kullback_leibler_divergence: 9.1703 - val_loss: 15.0921 - val_root_mean_squared_error: 0.9475 - val_kullback_leibler_divergence: 9.5528\n",
      "Epoch 80/100\n",
      "12/12 [==============================] - 0s 5ms/step - loss: 14.8140 - root_mean_squared_error: 0.9368 - kullback_leibler_divergence: 9.1521 - val_loss: 15.0036 - val_root_mean_squared_error: 0.9448 - val_kullback_leibler_divergence: 9.4697\n",
      "Epoch 81/100\n",
      "12/12 [==============================] - 0s 4ms/step - loss: 14.8202 - root_mean_squared_error: 0.9363 - kullback_leibler_divergence: 9.0944 - val_loss: 15.1177 - val_root_mean_squared_error: 0.9485 - val_kullback_leibler_divergence: 9.6101\n",
      "Epoch 82/100\n",
      "12/12 [==============================] - 0s 3ms/step - loss: 14.7578 - root_mean_squared_error: 0.9359 - kullback_leibler_divergence: 9.2222 - val_loss: 15.0757 - val_root_mean_squared_error: 0.9466 - val_kullback_leibler_divergence: 9.6454\n",
      "Epoch 83/100\n",
      "12/12 [==============================] - 0s 4ms/step - loss: 14.8155 - root_mean_squared_error: 0.9348 - kullback_leibler_divergence: 9.0466 - val_loss: 14.9968 - val_root_mean_squared_error: 0.9444 - val_kullback_leibler_divergence: 9.3545\n",
      "Epoch 84/100\n",
      "12/12 [==============================] - 0s 4ms/step - loss: 14.6651 - root_mean_squared_error: 0.9339 - kullback_leibler_divergence: 9.1073 - val_loss: 15.0532 - val_root_mean_squared_error: 0.9461 - val_kullback_leibler_divergence: 9.7525\n",
      "Epoch 85/100\n",
      "12/12 [==============================] - 0s 3ms/step - loss: 14.7768 - root_mean_squared_error: 0.9341 - kullback_leibler_divergence: 8.9919 - val_loss: 15.0280 - val_root_mean_squared_error: 0.9447 - val_kullback_leibler_divergence: 9.5138\n",
      "Epoch 86/100\n",
      "12/12 [==============================] - 0s 4ms/step - loss: 14.6784 - root_mean_squared_error: 0.9326 - kullback_leibler_divergence: 8.8602 - val_loss: 14.9713 - val_root_mean_squared_error: 0.9428 - val_kullback_leibler_divergence: 9.3825\n",
      "Epoch 87/100\n",
      "12/12 [==============================] - 0s 5ms/step - loss: 14.5571 - root_mean_squared_error: 0.9304 - kullback_leibler_divergence: 9.0499 - val_loss: 15.0047 - val_root_mean_squared_error: 0.9446 - val_kullback_leibler_divergence: 9.4595\n",
      "Epoch 88/100\n",
      "12/12 [==============================] - 0s 4ms/step - loss: 14.5724 - root_mean_squared_error: 0.9321 - kullback_leibler_divergence: 9.0092 - val_loss: 14.9463 - val_root_mean_squared_error: 0.9428 - val_kullback_leibler_divergence: 9.6018\n",
      "Epoch 89/100\n",
      "12/12 [==============================] - 0s 3ms/step - loss: 14.6440 - root_mean_squared_error: 0.9298 - kullback_leibler_divergence: 9.0419 - val_loss: 14.9574 - val_root_mean_squared_error: 0.9426 - val_kullback_leibler_divergence: 9.4565\n",
      "Epoch 90/100\n",
      "12/12 [==============================] - 0s 4ms/step - loss: 14.6487 - root_mean_squared_error: 0.9306 - kullback_leibler_divergence: 8.9841 - val_loss: 14.9703 - val_root_mean_squared_error: 0.9425 - val_kullback_leibler_divergence: 9.6478\n",
      "Epoch 91/100\n",
      "12/12 [==============================] - 0s 5ms/step - loss: 14.6429 - root_mean_squared_error: 0.9320 - kullback_leibler_divergence: 8.9661 - val_loss: 14.9536 - val_root_mean_squared_error: 0.9415 - val_kullback_leibler_divergence: 9.1605\n",
      "Epoch 92/100\n",
      "12/12 [==============================] - 0s 3ms/step - loss: 14.5252 - root_mean_squared_error: 0.9292 - kullback_leibler_divergence: 8.9673 - val_loss: 14.9836 - val_root_mean_squared_error: 0.9421 - val_kullback_leibler_divergence: 9.4597\n",
      "Epoch 93/100\n",
      "12/12 [==============================] - 0s 4ms/step - loss: 14.5231 - root_mean_squared_error: 0.9280 - kullback_leibler_divergence: 8.9635 - val_loss: 14.9341 - val_root_mean_squared_error: 0.9403 - val_kullback_leibler_divergence: 9.5164\n",
      "Epoch 94/100\n",
      "12/12 [==============================] - 0s 5ms/step - loss: 14.5985 - root_mean_squared_error: 0.9275 - kullback_leibler_divergence: 8.9262 - val_loss: 15.0005 - val_root_mean_squared_error: 0.9428 - val_kullback_leibler_divergence: 9.5617\n",
      "Epoch 95/100\n",
      "12/12 [==============================] - 0s 4ms/step - loss: 14.5124 - root_mean_squared_error: 0.9283 - kullback_leibler_divergence: 8.9812 - val_loss: 14.8683 - val_root_mean_squared_error: 0.9382 - val_kullback_leibler_divergence: 9.3908\n",
      "Epoch 96/100\n",
      "12/12 [==============================] - 0s 4ms/step - loss: 14.5214 - root_mean_squared_error: 0.9266 - kullback_leibler_divergence: 8.8656 - val_loss: 14.8560 - val_root_mean_squared_error: 0.9379 - val_kullback_leibler_divergence: 9.5957\n",
      "Epoch 97/100\n",
      "12/12 [==============================] - 0s 4ms/step - loss: 14.5178 - root_mean_squared_error: 0.9264 - kullback_leibler_divergence: 8.9472 - val_loss: 14.8470 - val_root_mean_squared_error: 0.9374 - val_kullback_leibler_divergence: 9.2500\n",
      "Epoch 98/100\n",
      "12/12 [==============================] - 0s 4ms/step - loss: 14.4219 - root_mean_squared_error: 0.9246 - kullback_leibler_divergence: 9.0599 - val_loss: 14.9304 - val_root_mean_squared_error: 0.9398 - val_kullback_leibler_divergence: 9.7034\n",
      "Epoch 99/100\n",
      "12/12 [==============================] - 0s 4ms/step - loss: 14.5224 - root_mean_squared_error: 0.9253 - kullback_leibler_divergence: 9.0456 - val_loss: 14.9753 - val_root_mean_squared_error: 0.9413 - val_kullback_leibler_divergence: 9.2933\n",
      "Epoch 100/100\n",
      "12/12 [==============================] - 0s 4ms/step - loss: 14.4718 - root_mean_squared_error: 0.9247 - kullback_leibler_divergence: 9.0307 - val_loss: 14.7943 - val_root_mean_squared_error: 0.9348 - val_kullback_leibler_divergence: 9.5150\n"
     ]
    }
   ],
   "source": [
    "history = autoencoder_vae.fit(X_train, X_train,\n",
    "                epochs=100,\n",
    "                batch_size=64,\n",
    "                shuffle=True,\n",
    "                validation_data=(X_test, X_test))"
   ]
  },
  {
   "cell_type": "code",
   "execution_count": 176,
   "metadata": {},
   "outputs": [
    {
     "data": {
      "text/plain": [
       "Text(0.5, 1.0, 'VAL RSME')"
      ]
     },
     "execution_count": 176,
     "metadata": {},
     "output_type": "execute_result"
    },
    {
     "data": {
      "image/png": "[encoded data removed]",
      "text/plain": [
       "<Figure size 432x288 with 1 Axes>"
      ]
     },
     "metadata": {
      "needs_background": "light"
     },
     "output_type": "display_data"
    }
   ],
   "source": [
    "plt.plot(history.history[\"root_mean_squared_error\"])\n",
    "plt.title(\"Training RSME\")\n",
    "plt.plot(history.history[\"val_root_mean_squared_error\"])\n",
    "plt.title(\"VAL RSME\")"
   ]
  },
  {
   "cell_type": "code",
   "execution_count": 177,
   "metadata": {},
   "outputs": [
    {
     "data": {
      "text/plain": [
       "Text(0.5, 1.0, 'VAL KL Divergence')"
      ]
     },
     "execution_count": 177,
     "metadata": {},
     "output_type": "execute_result"
    },
    {
     "data": {
      "image/png": "[encoded data removed]",
      "text/plain": [
       "<Figure size 432x288 with 1 Axes>"
      ]
     },
     "metadata": {
      "needs_background": "light"
     },
     "output_type": "display_data"
    }
   ],
   "source": [
    "plt.plot(history.history[\"kullback_leibler_divergence\"])\n",
    "plt.title(\"Training KL Divergence\")\n",
    "plt.plot(history.history[\"val_kullback_leibler_divergence\"])\n",
    "plt.title(\"VAL KL Divergence\")"
   ]
  },
  {
   "cell_type": "code",
   "execution_count": 178,
   "metadata": {},
   "outputs": [],
   "source": [
    "X_train_predict = autoencoder_vae.predict(X_train)\n",
    "X_test_predict = autoencoder_vae.predict(X_test)"
   ]
  },
  {
   "cell_type": "code",
   "execution_count": 179,
   "metadata": {},
   "outputs": [
    {
     "data": {
      "image/png": "[encoded data removed]",
      "text/plain": [
       "<Figure size 432x288 with 1 Axes>"
      ]
     },
     "metadata": {
      "needs_background": "light"
     },
     "output_type": "display_data"
    }
   ],
   "source": [
    "plot_reconstruction_error(X_train, X_train_predict)"
   ]
  },
  {
   "cell_type": "markdown",
   "metadata": {},
   "source": [
    "# GANS"
   ]
  },
  {
   "cell_type": "code",
   "execution_count": 263,
   "metadata": {},
   "outputs": [],
   "source": [
    "def generate_latent_space(latent_dim, n_samples):\n",
    "    x_input = np.random.randn(latent_dim * n_samples)  \n",
    "    z_input = x_input.reshape(n_samples, latent_dim)\n",
    "    return z_input\n",
    "\n",
    "def generate_real_samples(X_train, n_samples):\n",
    "    ix = np.random.randint(0, X_train.shape[0], n_samples) \n",
    "    X = X_train[ix]  \n",
    "    y = np.ones((n_samples, 1)) \n",
    "    return X, y\n",
    "\n",
    "def generate_fake_samples(generator, latent_dim, n_samples):\n",
    "    print(latent_dim)\n",
    "    print(n_samples)\n",
    "    z_input = generate_latent_space(latent_dim, n_samples)\n",
    "    print(z_input.shape)\n",
    "    images = generator.predict(z_input)  \n",
    "    y = np.zeros((n_samples, 1))\n",
    "    return images, y\n",
    "\n",
    "\n"
   ]
  },
  {
   "cell_type": "code",
   "execution_count": 259,
   "metadata": {},
   "outputs": [
    {
     "data": {
      "text/plain": [
       "(64, 100)"
      ]
     },
     "execution_count": 259,
     "metadata": {},
     "output_type": "execute_result"
    }
   ],
   "source": [
    "np.random.randn((64* 100)).reshape(64,100).shape"
   ]
  },
  {
   "cell_type": "code",
   "execution_count": 272,
   "metadata": {},
   "outputs": [],
   "source": [
    "def build_generator(input_shape, z_dim):\n",
    "\n",
    "    model = tf.keras.models.Sequential()\n",
    "\n",
    "    model.add(layers.Dense(128, input_dim=z_dim, activation=\"tanh\"))\n",
    "\n",
    "    # # Leaky ReLU activation\n",
    "    # model.add(LeakyReLU(alpha=0.01))\n",
    "\n",
    "    # Output layer with tanh activation\n",
    "    model.add(layers.Dense(16, activation='tanh'))\n",
    "\n",
    "    # Reshape the Generator output to image dimensions\n",
    "    # model.add(Reshape(img_shape))\n",
    "\n",
    "    return model"
   ]
  },
  {
   "cell_type": "code",
   "execution_count": 273,
   "metadata": {},
   "outputs": [],
   "source": [
    "def build_discriminator(img_shape):\n",
    "\n",
    "    model = tf.keras.models.Sequential()\n",
    "\n",
    "    # Flatten the input image\n",
    "    # model.add(Flatten(input_shape=img_shape))\n",
    "\n",
    "    # Fully connected layer\n",
    "    model.add(layers.Dense(128, activation=\"tanh\"))\n",
    "\n",
    "    # # Leaky ReLU activation\n",
    "    # model.add(LeakyReLU(alpha=0.01))\n",
    "\n",
    "    # Output layer with sigmoid activation\n",
    "    model.add(layers.Dense(1, activation='sigmoid'))\n",
    "\n",
    "    return model"
   ]
  },
  {
   "cell_type": "code",
   "execution_count": 274,
   "metadata": {},
   "outputs": [],
   "source": [
    "def build_gan(generator, discriminator):\n",
    "\n",
    "    model = tf.keras.models.Sequential()\n",
    "\n",
    "    # Combined Generator -> Discriminator model\n",
    "    model.add(generator)\n",
    "    model.add(discriminator)\n",
    "\n",
    "    return model"
   ]
  },
  {
   "cell_type": "code",
   "execution_count": 275,
   "metadata": {},
   "outputs": [],
   "source": [
    "\n",
    "input_shape = 16\n",
    "z_dim = 100"
   ]
  },
  {
   "cell_type": "code",
   "execution_count": 276,
   "metadata": {},
   "outputs": [],
   "source": [
    "discriminator = build_discriminator(input_shape)\n",
    "discriminator.compile(loss='mse', optimizer='adam', metrics=[tf.keras.metrics.RootMeanSquaredError(), tf.keras.metrics.KLDivergence(), \"accuracy\"])\n",
    "\n",
    "# Build the Generator\n",
    "generator = build_generator(input_shape, z_dim)\n",
    "\n",
    "# Keep Discriminator’s parameters constant for Generator training\n",
    "discriminator.trainable = False\n",
    "\n",
    "# Build and compile GAN model with fixed Discriminator to train the Generator\n",
    "gan_model = build_gan(generator, discriminator)\n",
    "gan_model.compile(loss='mse', optimizer='adam')"
   ]
  },
  {
   "cell_type": "code",
   "execution_count": 266,
   "metadata": {},
   "outputs": [
    {
     "name": "stdout",
     "output_type": "stream",
     "text": [
      "Model: \"sequential_31\"\n",
      "_________________________________________________________________\n",
      " Layer (type)                Output Shape              Param #   \n",
      "=================================================================\n",
      " dense_55 (Dense)            (None, 128)               2176      \n",
      "                                                                 \n",
      " dense_56 (Dense)            (None, 1)                 129       \n",
      "                                                                 \n",
      "=================================================================\n",
      "Total params: 2,305\n",
      "Trainable params: 0\n",
      "Non-trainable params: 2,305\n",
      "_________________________________________________________________\n"
     ]
    }
   ],
   "source": [
    "discriminator.summary()"
   ]
  },
  {
   "cell_type": "code",
   "execution_count": 267,
   "metadata": {},
   "outputs": [
    {
     "name": "stdout",
     "output_type": "stream",
     "text": [
      "Model: \"sequential_32\"\n",
      "_________________________________________________________________\n",
      " Layer (type)                Output Shape              Param #   \n",
      "=================================================================\n",
      " dense_57 (Dense)            (None, 128)               12928     \n",
      "                                                                 \n",
      " dense_58 (Dense)            (None, 16)                2064      \n",
      "                                                                 \n",
      "=================================================================\n",
      "Total params: 14,992\n",
      "Trainable params: 14,992\n",
      "Non-trainable params: 0\n",
      "_________________________________________________________________\n"
     ]
    }
   ],
   "source": [
    "generator.summary()"
   ]
  },
  {
   "cell_type": "code",
   "execution_count": 268,
   "metadata": {},
   "outputs": [
    {
     "name": "stdout",
     "output_type": "stream",
     "text": [
      "Model: \"sequential_33\"\n",
      "_________________________________________________________________\n",
      " Layer (type)                Output Shape              Param #   \n",
      "=================================================================\n",
      " sequential_32 (Sequential)  (None, 16)                14992     \n",
      "                                                                 \n",
      " sequential_31 (Sequential)  (None, 1)                 2305      \n",
      "                                                                 \n",
      "=================================================================\n",
      "Total params: 17,297\n",
      "Trainable params: 14,992\n",
      "Non-trainable params: 2,305\n",
      "_________________________________________________________________\n"
     ]
    }
   ],
   "source": [
    "gan_model.summary()"
   ]
  },
  {
   "cell_type": "code",
   "execution_count": 277,
   "metadata": {},
   "outputs": [],
   "source": [
    "losses = []\n",
    "accuracies = []\n",
    "\n",
    "def training_model(generative,discriminative, gan_model, X_train, latent_dim, n_epochs, batch_size):\n",
    "    train_batch = int(X_train.shape[0] / batch_size)\n",
    "    n_steps = train_batch * n_epochs\n",
    "    for iter in range(n_steps):\n",
    "        actual_x, actual_y = generate_real_samples(X_train, batch_size)\n",
    "        d_loss_r,d_rmse_r, d_kl_r, d_acc_r = discriminative.train_on_batch(actual_x, actual_y)\n",
    "        fake_x, fake_y = generate_fake_samples(gan_model, latent_dim, batch_size)\n",
    "        d_loss_f, d_rsme_f, d_kl_f, d_acc_f = discriminative.train_on_batch(fake_x, fake_y)\n",
    "        z_input = generate_latent_space(latent_dim, batch_size) \n",
    "        y_gan = np.ones((batch_size, 1)) \n",
    "        g_loss,g_rmse, g_kl, g_acc = gan_model.train_on_batch(z_input, y_gan)\n",
    "        print(\"Iteration: \" +str(iter+1) + \", \" + \"Discriminative loss : \" + str(d_loss_r) + \",\" + \"Discriminative acc: \" + str(d_acc_r))\n",
    "        # , d_loss_f,d_acc_f, g_loss,g_acc))\n",
    "        if (iiter+1) % (train_batch * 1) == 0:\n",
    "            # summarize_performance(iter, g_model, latent_dim)\n",
    "            losses.append((d_loss_r, g_loss))"
   ]
  },
  {
   "cell_type": "code",
   "execution_count": 278,
   "metadata": {},
   "outputs": [
    {
     "name": "stdout",
     "output_type": "stream",
     "text": [
      "WARNING:tensorflow:5 out of the last 1510 calls to <function Model.make_train_function.<locals>.train_function at 0x000001E37FAB04C0> triggered tf.function retracing. Tracing is expensive and the excessive number of tracings could be due to (1) creating @tf.function repeatedly in a loop, (2) passing tensors with different shapes, (3) passing Python objects instead of tensors. For (1), please define your @tf.function outside of the loop. For (2), @tf.function has experimental_relax_shapes=True option that relaxes argument shapes that can avoid unnecessary retracing. For (3), please refer to https://www.tensorflow.org/guide/function#controlling_retracing and https://www.tensorflow.org/api_docs/python/tf/function for  more details.\n",
      "100\n",
      "64\n",
      "(64, 100)\n"
     ]
    },
    {
     "ename": "ValueError",
     "evalue": "in user code:\n\n    File \"C:\\Users\\BabarBinAsifKhan\\AppData\\Local\\Programs\\Python\\Python39\\lib\\site-packages\\keras\\engine\\training.py\", line 878, in train_function  *\n        return step_function(self, iterator)\n    File \"C:\\Users\\BabarBinAsifKhan\\AppData\\Local\\Programs\\Python\\Python39\\lib\\site-packages\\keras\\engine\\training.py\", line 867, in step_function  **\n        outputs = model.distribute_strategy.run(run_step, args=(data,))\n    File \"C:\\Users\\BabarBinAsifKhan\\AppData\\Local\\Programs\\Python\\Python39\\lib\\site-packages\\keras\\engine\\training.py\", line 860, in run_step  **\n        outputs = model.train_step(data)\n    File \"C:\\Users\\BabarBinAsifKhan\\AppData\\Local\\Programs\\Python\\Python39\\lib\\site-packages\\keras\\engine\\training.py\", line 808, in train_step\n        y_pred = self(x, training=True)\n    File \"C:\\Users\\BabarBinAsifKhan\\AppData\\Local\\Programs\\Python\\Python39\\lib\\site-packages\\keras\\utils\\traceback_utils.py\", line 67, in error_handler\n        raise e.with_traceback(filtered_tb) from None\n    File \"C:\\Users\\BabarBinAsifKhan\\AppData\\Local\\Programs\\Python\\Python39\\lib\\site-packages\\keras\\engine\\input_spec.py\", line 247, in assert_input_compatibility\n        raise ValueError(\n\n    ValueError: Exception encountered when calling layer \"sequential_34\" (type Sequential).\n    \n    Input 0 of layer \"dense_59\" is incompatible with the layer: expected axis -1of input shape to have value 16, but received input with shape (64, 1)\n    \n    Call arguments received:\n      • inputs=tf.Tensor(shape=(64, 1), dtype=float32)\n      • training=True\n      • mask=None\n",
     "output_type": "error",
     "traceback": [
      "\u001b[1;31m---------------------------------------------------------------------------\u001b[0m",
      "\u001b[1;31mValueError\u001b[0m                                Traceback (most recent call last)",
      "\u001b[1;32mC:\\Users\\BABARB~1\\AppData\\Local\\Temp/ipykernel_8220/2631593481.py\u001b[0m in \u001b[0;36m<module>\u001b[1;34m\u001b[0m\n\u001b[1;32m----> 1\u001b[1;33m \u001b[0mtraining_model\u001b[0m\u001b[1;33m(\u001b[0m\u001b[0mgenerator\u001b[0m\u001b[1;33m,\u001b[0m\u001b[0mdiscriminator\u001b[0m\u001b[1;33m,\u001b[0m \u001b[0mgan_model\u001b[0m\u001b[1;33m,\u001b[0m \u001b[0mX_train\u001b[0m\u001b[1;33m,\u001b[0m \u001b[0mz_dim\u001b[0m\u001b[1;33m,\u001b[0m \u001b[1;36m100\u001b[0m\u001b[1;33m,\u001b[0m \u001b[1;36m64\u001b[0m\u001b[1;33m)\u001b[0m\u001b[1;33m\u001b[0m\u001b[1;33m\u001b[0m\u001b[0m\n\u001b[0m",
      "\u001b[1;32mC:\\Users\\BABARB~1\\AppData\\Local\\Temp/ipykernel_8220/1073594873.py\u001b[0m in \u001b[0;36mtraining_model\u001b[1;34m(generative, discriminative, gan_model, X_train, latent_dim, n_epochs, batch_size)\u001b[0m\n\u001b[0;32m      9\u001b[0m         \u001b[0md_loss_r\u001b[0m\u001b[1;33m,\u001b[0m\u001b[0md_rmse_r\u001b[0m\u001b[1;33m,\u001b[0m \u001b[0md_kl_r\u001b[0m\u001b[1;33m,\u001b[0m \u001b[0md_acc_r\u001b[0m \u001b[1;33m=\u001b[0m \u001b[0mdiscriminative\u001b[0m\u001b[1;33m.\u001b[0m\u001b[0mtrain_on_batch\u001b[0m\u001b[1;33m(\u001b[0m\u001b[0mactual_x\u001b[0m\u001b[1;33m,\u001b[0m \u001b[0mactual_y\u001b[0m\u001b[1;33m)\u001b[0m\u001b[1;33m\u001b[0m\u001b[1;33m\u001b[0m\u001b[0m\n\u001b[0;32m     10\u001b[0m         \u001b[0mfake_x\u001b[0m\u001b[1;33m,\u001b[0m \u001b[0mfake_y\u001b[0m \u001b[1;33m=\u001b[0m \u001b[0mgenerate_fake_samples\u001b[0m\u001b[1;33m(\u001b[0m\u001b[0mgan_model\u001b[0m\u001b[1;33m,\u001b[0m \u001b[0mlatent_dim\u001b[0m\u001b[1;33m,\u001b[0m \u001b[0mbatch_size\u001b[0m\u001b[1;33m)\u001b[0m\u001b[1;33m\u001b[0m\u001b[1;33m\u001b[0m\u001b[0m\n\u001b[1;32m---> 11\u001b[1;33m         \u001b[0md_loss_f\u001b[0m\u001b[1;33m,\u001b[0m \u001b[0md_rsme_f\u001b[0m\u001b[1;33m,\u001b[0m \u001b[0md_kl_f\u001b[0m\u001b[1;33m,\u001b[0m \u001b[0md_acc_f\u001b[0m \u001b[1;33m=\u001b[0m \u001b[0mdiscriminative\u001b[0m\u001b[1;33m.\u001b[0m\u001b[0mtrain_on_batch\u001b[0m\u001b[1;33m(\u001b[0m\u001b[0mfake_x\u001b[0m\u001b[1;33m,\u001b[0m \u001b[0mfake_y\u001b[0m\u001b[1;33m)\u001b[0m\u001b[1;33m\u001b[0m\u001b[1;33m\u001b[0m\u001b[0m\n\u001b[0m\u001b[0;32m     12\u001b[0m         \u001b[0mz_input\u001b[0m \u001b[1;33m=\u001b[0m \u001b[0mgenerate_latent_space\u001b[0m\u001b[1;33m(\u001b[0m\u001b[0mlatent_dim\u001b[0m\u001b[1;33m,\u001b[0m \u001b[0mbatch_size\u001b[0m\u001b[1;33m)\u001b[0m\u001b[1;33m\u001b[0m\u001b[1;33m\u001b[0m\u001b[0m\n\u001b[0;32m     13\u001b[0m         \u001b[0my_gan\u001b[0m \u001b[1;33m=\u001b[0m \u001b[0mnp\u001b[0m\u001b[1;33m.\u001b[0m\u001b[0mones\u001b[0m\u001b[1;33m(\u001b[0m\u001b[1;33m(\u001b[0m\u001b[0mbatch_size\u001b[0m\u001b[1;33m,\u001b[0m \u001b[1;36m1\u001b[0m\u001b[1;33m)\u001b[0m\u001b[1;33m)\u001b[0m\u001b[1;33m\u001b[0m\u001b[1;33m\u001b[0m\u001b[0m\n",
      "\u001b[1;32m~\\AppData\\Local\\Programs\\Python\\Python39\\lib\\site-packages\\keras\\engine\\training.py\u001b[0m in \u001b[0;36mtrain_on_batch\u001b[1;34m(self, x, y, sample_weight, class_weight, reset_metrics, return_dict)\u001b[0m\n\u001b[0;32m   1898\u001b[0m                                                     class_weight)\n\u001b[0;32m   1899\u001b[0m       \u001b[0mself\u001b[0m\u001b[1;33m.\u001b[0m\u001b[0mtrain_function\u001b[0m \u001b[1;33m=\u001b[0m \u001b[0mself\u001b[0m\u001b[1;33m.\u001b[0m\u001b[0mmake_train_function\u001b[0m\u001b[1;33m(\u001b[0m\u001b[1;33m)\u001b[0m\u001b[1;33m\u001b[0m\u001b[1;33m\u001b[0m\u001b[0m\n\u001b[1;32m-> 1900\u001b[1;33m       \u001b[0mlogs\u001b[0m \u001b[1;33m=\u001b[0m \u001b[0mself\u001b[0m\u001b[1;33m.\u001b[0m\u001b[0mtrain_function\u001b[0m\u001b[1;33m(\u001b[0m\u001b[0miterator\u001b[0m\u001b[1;33m)\u001b[0m\u001b[1;33m\u001b[0m\u001b[1;33m\u001b[0m\u001b[0m\n\u001b[0m\u001b[0;32m   1901\u001b[0m \u001b[1;33m\u001b[0m\u001b[0m\n\u001b[0;32m   1902\u001b[0m     \u001b[0mlogs\u001b[0m \u001b[1;33m=\u001b[0m \u001b[0mtf_utils\u001b[0m\u001b[1;33m.\u001b[0m\u001b[0msync_to_numpy_or_python_type\u001b[0m\u001b[1;33m(\u001b[0m\u001b[0mlogs\u001b[0m\u001b[1;33m)\u001b[0m\u001b[1;33m\u001b[0m\u001b[1;33m\u001b[0m\u001b[0m\n",
      "\u001b[1;32m~\\AppData\\Local\\Programs\\Python\\Python39\\lib\\site-packages\\tensorflow\\python\\util\\traceback_utils.py\u001b[0m in \u001b[0;36merror_handler\u001b[1;34m(*args, **kwargs)\u001b[0m\n\u001b[0;32m    151\u001b[0m     \u001b[1;32mexcept\u001b[0m \u001b[0mException\u001b[0m \u001b[1;32mas\u001b[0m \u001b[0me\u001b[0m\u001b[1;33m:\u001b[0m\u001b[1;33m\u001b[0m\u001b[1;33m\u001b[0m\u001b[0m\n\u001b[0;32m    152\u001b[0m       \u001b[0mfiltered_tb\u001b[0m \u001b[1;33m=\u001b[0m \u001b[0m_process_traceback_frames\u001b[0m\u001b[1;33m(\u001b[0m\u001b[0me\u001b[0m\u001b[1;33m.\u001b[0m\u001b[0m__traceback__\u001b[0m\u001b[1;33m)\u001b[0m\u001b[1;33m\u001b[0m\u001b[1;33m\u001b[0m\u001b[0m\n\u001b[1;32m--> 153\u001b[1;33m       \u001b[1;32mraise\u001b[0m \u001b[0me\u001b[0m\u001b[1;33m.\u001b[0m\u001b[0mwith_traceback\u001b[0m\u001b[1;33m(\u001b[0m\u001b[0mfiltered_tb\u001b[0m\u001b[1;33m)\u001b[0m \u001b[1;32mfrom\u001b[0m \u001b[1;32mNone\u001b[0m\u001b[1;33m\u001b[0m\u001b[1;33m\u001b[0m\u001b[0m\n\u001b[0m\u001b[0;32m    154\u001b[0m     \u001b[1;32mfinally\u001b[0m\u001b[1;33m:\u001b[0m\u001b[1;33m\u001b[0m\u001b[1;33m\u001b[0m\u001b[0m\n\u001b[0;32m    155\u001b[0m       \u001b[1;32mdel\u001b[0m \u001b[0mfiltered_tb\u001b[0m\u001b[1;33m\u001b[0m\u001b[1;33m\u001b[0m\u001b[0m\n",
      "\u001b[1;32m~\\AppData\\Local\\Programs\\Python\\Python39\\lib\\site-packages\\tensorflow\\python\\framework\\func_graph.py\u001b[0m in \u001b[0;36mautograph_handler\u001b[1;34m(*args, **kwargs)\u001b[0m\n\u001b[0;32m   1127\u001b[0m           \u001b[1;32mexcept\u001b[0m \u001b[0mException\u001b[0m \u001b[1;32mas\u001b[0m \u001b[0me\u001b[0m\u001b[1;33m:\u001b[0m  \u001b[1;31m# pylint:disable=broad-except\u001b[0m\u001b[1;33m\u001b[0m\u001b[1;33m\u001b[0m\u001b[0m\n\u001b[0;32m   1128\u001b[0m             \u001b[1;32mif\u001b[0m \u001b[0mhasattr\u001b[0m\u001b[1;33m(\u001b[0m\u001b[0me\u001b[0m\u001b[1;33m,\u001b[0m \u001b[1;34m\"ag_error_metadata\"\u001b[0m\u001b[1;33m)\u001b[0m\u001b[1;33m:\u001b[0m\u001b[1;33m\u001b[0m\u001b[1;33m\u001b[0m\u001b[0m\n\u001b[1;32m-> 1129\u001b[1;33m               \u001b[1;32mraise\u001b[0m \u001b[0me\u001b[0m\u001b[1;33m.\u001b[0m\u001b[0mag_error_metadata\u001b[0m\u001b[1;33m.\u001b[0m\u001b[0mto_exception\u001b[0m\u001b[1;33m(\u001b[0m\u001b[0me\u001b[0m\u001b[1;33m)\u001b[0m\u001b[1;33m\u001b[0m\u001b[1;33m\u001b[0m\u001b[0m\n\u001b[0m\u001b[0;32m   1130\u001b[0m             \u001b[1;32melse\u001b[0m\u001b[1;33m:\u001b[0m\u001b[1;33m\u001b[0m\u001b[1;33m\u001b[0m\u001b[0m\n\u001b[0;32m   1131\u001b[0m               \u001b[1;32mraise\u001b[0m\u001b[1;33m\u001b[0m\u001b[1;33m\u001b[0m\u001b[0m\n",
      "\u001b[1;31mValueError\u001b[0m: in user code:\n\n    File \"C:\\Users\\BabarBinAsifKhan\\AppData\\Local\\Programs\\Python\\Python39\\lib\\site-packages\\keras\\engine\\training.py\", line 878, in train_function  *\n        return step_function(self, iterator)\n    File \"C:\\Users\\BabarBinAsifKhan\\AppData\\Local\\Programs\\Python\\Python39\\lib\\site-packages\\keras\\engine\\training.py\", line 867, in step_function  **\n        outputs = model.distribute_strategy.run(run_step, args=(data,))\n    File \"C:\\Users\\BabarBinAsifKhan\\AppData\\Local\\Programs\\Python\\Python39\\lib\\site-packages\\keras\\engine\\training.py\", line 860, in run_step  **\n        outputs = model.train_step(data)\n    File \"C:\\Users\\BabarBinAsifKhan\\AppData\\Local\\Programs\\Python\\Python39\\lib\\site-packages\\keras\\engine\\training.py\", line 808, in train_step\n        y_pred = self(x, training=True)\n    File \"C:\\Users\\BabarBinAsifKhan\\AppData\\Local\\Programs\\Python\\Python39\\lib\\site-packages\\keras\\utils\\traceback_utils.py\", line 67, in error_handler\n        raise e.with_traceback(filtered_tb) from None\n    File \"C:\\Users\\BabarBinAsifKhan\\AppData\\Local\\Programs\\Python\\Python39\\lib\\site-packages\\keras\\engine\\input_spec.py\", line 247, in assert_input_compatibility\n        raise ValueError(\n\n    ValueError: Exception encountered when calling layer \"sequential_34\" (type Sequential).\n    \n    Input 0 of layer \"dense_59\" is incompatible with the layer: expected axis -1of input shape to have value 16, but received input with shape (64, 1)\n    \n    Call arguments received:\n      • inputs=tf.Tensor(shape=(64, 1), dtype=float32)\n      • training=True\n      • mask=None\n"
     ]
    }
   ],
   "source": [
    "training_model(generator,discriminator, gan_model, X_train, z_dim, 100, 64)"
   ]
  }
 ],
 "metadata": {
  "interpreter": {
   "hash": "ab300e542198f4740520b230a8686cef27802a0ff73f91e4975ff04eb92810d9"
  },
  "kernelspec": {
   "display_name": "Python 3.9.7 64-bit",
   "language": "python",
   "name": "python3"
  },
  "language_info": {
   "codemirror_mode": {
    "name": "ipython",
    "version": 3
   },
   "file_extension": ".py",
   "mimetype": "text/x-python",
   "name": "python",
   "nbconvert_exporter": "python",
   "pygments_lexer": "ipython3",
   "version": "3.9.7"
  },
  "orig_nbformat": 4
 },
 "nbformat": 4,
 "nbformat_minor": 2
}
