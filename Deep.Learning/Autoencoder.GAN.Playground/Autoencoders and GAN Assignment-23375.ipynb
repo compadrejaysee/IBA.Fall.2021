{
 "cells": [
  {
   "cell_type": "markdown",
   "id": "5b4c58fd",
   "metadata": {},
   "source": [
    "## Dataset\n",
    "For this assignment, I'll be using a US ETF Funds Prices Dataset from Yahoo! Finance. The dataset was taken from Kaggle:\n",
    "\n",
    "https://www.kaggle.com/stefanoleone992/mutual-funds-and-etfs?select=ETF+prices.csv\n",
    "\n",
    "The dataset simply contains the changing prices of ETF funds in the US."
   ]
  },
  {
   "cell_type": "code",
   "execution_count": 1,
   "id": "db1de9d3",
   "metadata": {},
   "outputs": [],
   "source": [
    "%run MLTemplate.ipynb"
   ]
  },
  {
   "cell_type": "code",
   "execution_count": 2,
   "id": "18bd4224",
   "metadata": {},
   "outputs": [],
   "source": [
    "from tensorflow.keras.losses import binary_crossentropy as BCE, CategoricalCrossentropy as CCE\n",
    "from scipy.stats import wasserstein_distance as wasd\n",
    "from tqdm import tqdm\n",
    "from tensorflow.keras.initializers import RandomNormal\n",
    "from tensorflow.keras.layers import Embedding as embed, multiply"
   ]
  },
  {
   "cell_type": "code",
   "execution_count": 4,
   "id": "ead790f9",
   "metadata": {},
   "outputs": [
    {
     "name": "stdout",
     "output_type": "stream",
     "text": [
      "What is the file type? (csv or excel)\n",
      "csv\n",
      "What encoding do you want? (latin1 or unicode_escape)\n",
      "latin1\n",
      "What is the filepath:E:\\Deep Learning\\Assignments\\GANs and AE\\ETF prices.csv\n"
     ]
    }
   ],
   "source": [
    "df = loadfile()"
   ]
  },
  {
   "cell_type": "code",
   "execution_count": 4,
   "id": "82f73740",
   "metadata": {},
   "outputs": [
    {
     "data": {
      "text/html": [
       "<div>\n",
       "<style scoped>\n",
       "    .dataframe tbody tr th:only-of-type {\n",
       "        vertical-align: middle;\n",
       "    }\n",
       "\n",
       "    .dataframe tbody tr th {\n",
       "        vertical-align: top;\n",
       "    }\n",
       "\n",
       "    .dataframe thead th {\n",
       "        text-align: right;\n",
       "    }\n",
       "</style>\n",
       "<table border=\"1\" class=\"dataframe\">\n",
       "  <thead>\n",
       "    <tr style=\"text-align: right;\">\n",
       "      <th></th>\n",
       "      <th>fund_symbol</th>\n",
       "      <th>price_date</th>\n",
       "      <th>open</th>\n",
       "      <th>high</th>\n",
       "      <th>low</th>\n",
       "      <th>close</th>\n",
       "      <th>adj_close</th>\n",
       "      <th>volume</th>\n",
       "    </tr>\n",
       "  </thead>\n",
       "  <tbody>\n",
       "    <tr>\n",
       "      <th>0</th>\n",
       "      <td>AAA</td>\n",
       "      <td>2020-09-09</td>\n",
       "      <td>25.10</td>\n",
       "      <td>25.12</td>\n",
       "      <td>25.07</td>\n",
       "      <td>25.07</td>\n",
       "      <td>24.85</td>\n",
       "      <td>17300</td>\n",
       "    </tr>\n",
       "    <tr>\n",
       "      <th>1</th>\n",
       "      <td>AAA</td>\n",
       "      <td>2020-09-10</td>\n",
       "      <td>25.06</td>\n",
       "      <td>25.07</td>\n",
       "      <td>25.05</td>\n",
       "      <td>25.07</td>\n",
       "      <td>24.85</td>\n",
       "      <td>23500</td>\n",
       "    </tr>\n",
       "    <tr>\n",
       "      <th>2</th>\n",
       "      <td>AAA</td>\n",
       "      <td>2020-09-11</td>\n",
       "      <td>25.04</td>\n",
       "      <td>25.05</td>\n",
       "      <td>25.02</td>\n",
       "      <td>25.03</td>\n",
       "      <td>24.81</td>\n",
       "      <td>33400</td>\n",
       "    </tr>\n",
       "    <tr>\n",
       "      <th>3</th>\n",
       "      <td>AAA</td>\n",
       "      <td>2020-09-14</td>\n",
       "      <td>25.01</td>\n",
       "      <td>25.06</td>\n",
       "      <td>25.01</td>\n",
       "      <td>25.02</td>\n",
       "      <td>24.80</td>\n",
       "      <td>13100</td>\n",
       "    </tr>\n",
       "    <tr>\n",
       "      <th>4</th>\n",
       "      <td>AAA</td>\n",
       "      <td>2020-09-15</td>\n",
       "      <td>25.02</td>\n",
       "      <td>25.03</td>\n",
       "      <td>25.01</td>\n",
       "      <td>25.01</td>\n",
       "      <td>24.79</td>\n",
       "      <td>12100</td>\n",
       "    </tr>\n",
       "  </tbody>\n",
       "</table>\n",
       "</div>"
      ],
      "text/plain": [
       "  fund_symbol  price_date   open   high    low  close  adj_close  volume\n",
       "0         AAA  2020-09-09  25.10  25.12  25.07  25.07      24.85   17300\n",
       "1         AAA  2020-09-10  25.06  25.07  25.05  25.07      24.85   23500\n",
       "2         AAA  2020-09-11  25.04  25.05  25.02  25.03      24.81   33400\n",
       "3         AAA  2020-09-14  25.01  25.06  25.01  25.02      24.80   13100\n",
       "4         AAA  2020-09-15  25.02  25.03  25.01  25.01      24.79   12100"
      ]
     },
     "execution_count": 4,
     "metadata": {},
     "output_type": "execute_result"
    }
   ],
   "source": [
    "df.head()"
   ]
  },
  {
   "cell_type": "code",
   "execution_count": 5,
   "id": "b68ef736",
   "metadata": {},
   "outputs": [
    {
     "name": "stdout",
     "output_type": "stream",
     "text": [
      "The columns and rows of the dataset are (3866030, 8)\n",
      "The number of values in the dataset is 30928240\n",
      "  fund_symbol  price_date   open   high    low  close  adj_close  volume\n",
      "0         AAA  2020-09-09  25.10  25.12  25.07  25.07      24.85   17300\n",
      "1         AAA  2020-09-10  25.06  25.07  25.05  25.07      24.85   23500\n",
      "2         AAA  2020-09-11  25.04  25.05  25.02  25.03      24.81   33400\n",
      "3         AAA  2020-09-14  25.01  25.06  25.01  25.02      24.80   13100\n",
      "4         AAA  2020-09-15  25.02  25.03  25.01  25.01      24.79   12100\n",
      "5         AAA  2020-09-16  24.97  24.98  24.97  24.97      24.75   14100\n",
      "6         AAA  2020-09-17  24.99  25.00  24.98  24.98      24.76   15200\n",
      "7         AAA  2020-09-18  24.97  24.98  24.97  24.98      24.76    5300\n",
      "8         AAA  2020-09-21  24.99  24.99  24.98  24.98      24.76    8600\n",
      "9         AAA  2020-09-22  24.98  24.99  24.98  24.98      24.76    8100\n",
      "        fund_symbol  price_date   open   high    low  close  adj_close  volume\n",
      "3866020         ZSL  2021-11-16  23.62  24.09  23.40  24.02      24.02  239000\n",
      "3866021         ZSL  2021-11-17  23.47  23.72  23.23  23.56      23.56  103300\n",
      "3866022         ZSL  2021-11-18  23.90  24.08  23.72  24.01      24.01  107700\n",
      "3866023         ZSL  2021-11-19  23.92  24.48  23.68  24.45      24.45  203600\n",
      "3866024         ZSL  2021-11-22  24.66  25.42  24.41  25.32      25.32  232500\n",
      "3866025         ZSL  2021-11-23  26.81  27.21  26.30  26.35      26.35  190900\n",
      "3866026         ZSL  2021-11-24  26.79  26.96  26.57  26.69      26.69  109000\n",
      "3866027         ZSL  2021-11-26  26.67  28.14  26.67  27.72      27.72  205500\n",
      "3866028         ZSL  2021-11-29  27.89  28.56  27.80  28.27      28.27  411900\n",
      "3866029         ZSL  2021-11-30  28.15  28.73  25.91  28.49      28.49  219400\n",
      "fund_symbol     object\n",
      "price_date      object\n",
      "open           float64\n",
      "high           float64\n",
      "low            float64\n",
      "close          float64\n",
      "adj_close      float64\n",
      "volume           int64\n",
      "dtype: object\n",
      "Index(['fund_symbol', 'price_date', 'open', 'high', 'low', 'close',\n",
      "       'adj_close', 'volume'],\n",
      "      dtype='object')\n"
     ]
    },
    {
     "data": {
      "text/html": [
       "<div>\n",
       "<style scoped>\n",
       "    .dataframe tbody tr th:only-of-type {\n",
       "        vertical-align: middle;\n",
       "    }\n",
       "\n",
       "    .dataframe tbody tr th {\n",
       "        vertical-align: top;\n",
       "    }\n",
       "\n",
       "    .dataframe thead th {\n",
       "        text-align: right;\n",
       "    }\n",
       "</style>\n",
       "<table border=\"1\" class=\"dataframe\">\n",
       "  <thead>\n",
       "    <tr style=\"text-align: right;\">\n",
       "      <th></th>\n",
       "      <th>open</th>\n",
       "      <th>high</th>\n",
       "      <th>low</th>\n",
       "      <th>close</th>\n",
       "      <th>adj_close</th>\n",
       "      <th>volume</th>\n",
       "    </tr>\n",
       "  </thead>\n",
       "  <tbody>\n",
       "    <tr>\n",
       "      <th>count</th>\n",
       "      <td>3.866030e+06</td>\n",
       "      <td>3.866030e+06</td>\n",
       "      <td>3.866030e+06</td>\n",
       "      <td>3.866030e+06</td>\n",
       "      <td>3.866030e+06</td>\n",
       "      <td>3.866030e+06</td>\n",
       "    </tr>\n",
       "    <tr>\n",
       "      <th>mean</th>\n",
       "      <td>1.202537e+05</td>\n",
       "      <td>1.262811e+05</td>\n",
       "      <td>1.149734e+05</td>\n",
       "      <td>1.196726e+05</td>\n",
       "      <td>1.196579e+05</td>\n",
       "      <td>1.026745e+06</td>\n",
       "    </tr>\n",
       "    <tr>\n",
       "      <th>std</th>\n",
       "      <td>1.149917e+07</td>\n",
       "      <td>1.208270e+07</td>\n",
       "      <td>1.097204e+07</td>\n",
       "      <td>1.143655e+07</td>\n",
       "      <td>1.143655e+07</td>\n",
       "      <td>1.275733e+07</td>\n",
       "    </tr>\n",
       "    <tr>\n",
       "      <th>min</th>\n",
       "      <td>0.000000e+00</td>\n",
       "      <td>0.000000e+00</td>\n",
       "      <td>0.000000e+00</td>\n",
       "      <td>0.000000e+00</td>\n",
       "      <td>0.000000e+00</td>\n",
       "      <td>0.000000e+00</td>\n",
       "    </tr>\n",
       "    <tr>\n",
       "      <th>25%</th>\n",
       "      <td>2.486000e+01</td>\n",
       "      <td>2.494000e+01</td>\n",
       "      <td>2.476000e+01</td>\n",
       "      <td>2.485000e+01</td>\n",
       "      <td>2.229000e+01</td>\n",
       "      <td>3.553000e+03</td>\n",
       "    </tr>\n",
       "    <tr>\n",
       "      <th>50%</th>\n",
       "      <td>3.388000e+01</td>\n",
       "      <td>3.406000e+01</td>\n",
       "      <td>3.368000e+01</td>\n",
       "      <td>3.387000e+01</td>\n",
       "      <td>3.108000e+01</td>\n",
       "      <td>2.133900e+04</td>\n",
       "    </tr>\n",
       "    <tr>\n",
       "      <th>75%</th>\n",
       "      <td>5.417000e+01</td>\n",
       "      <td>5.441000e+01</td>\n",
       "      <td>5.390000e+01</td>\n",
       "      <td>5.416000e+01</td>\n",
       "      <td>5.007000e+01</td>\n",
       "      <td>1.269000e+05</td>\n",
       "    </tr>\n",
       "    <tr>\n",
       "      <th>max</th>\n",
       "      <td>2.656750e+09</td>\n",
       "      <td>2.808750e+09</td>\n",
       "      <td>2.609750e+09</td>\n",
       "      <td>2.808750e+09</td>\n",
       "      <td>2.808750e+09</td>\n",
       "      <td>2.987062e+09</td>\n",
       "    </tr>\n",
       "  </tbody>\n",
       "</table>\n",
       "</div>"
      ],
      "text/plain": [
       "               open          high           low         close     adj_close  \\\n",
       "count  3.866030e+06  3.866030e+06  3.866030e+06  3.866030e+06  3.866030e+06   \n",
       "mean   1.202537e+05  1.262811e+05  1.149734e+05  1.196726e+05  1.196579e+05   \n",
       "std    1.149917e+07  1.208270e+07  1.097204e+07  1.143655e+07  1.143655e+07   \n",
       "min    0.000000e+00  0.000000e+00  0.000000e+00  0.000000e+00  0.000000e+00   \n",
       "25%    2.486000e+01  2.494000e+01  2.476000e+01  2.485000e+01  2.229000e+01   \n",
       "50%    3.388000e+01  3.406000e+01  3.368000e+01  3.387000e+01  3.108000e+01   \n",
       "75%    5.417000e+01  5.441000e+01  5.390000e+01  5.416000e+01  5.007000e+01   \n",
       "max    2.656750e+09  2.808750e+09  2.609750e+09  2.808750e+09  2.808750e+09   \n",
       "\n",
       "             volume  \n",
       "count  3.866030e+06  \n",
       "mean   1.026745e+06  \n",
       "std    1.275733e+07  \n",
       "min    0.000000e+00  \n",
       "25%    3.553000e+03  \n",
       "50%    2.133900e+04  \n",
       "75%    1.269000e+05  \n",
       "max    2.987062e+09  "
      ]
     },
     "execution_count": 5,
     "metadata": {},
     "output_type": "execute_result"
    }
   ],
   "source": [
    "description(df,10)"
   ]
  },
  {
   "cell_type": "code",
   "execution_count": 6,
   "id": "33065eea",
   "metadata": {},
   "outputs": [
    {
     "data": {
      "text/plain": [
       "fund_symbol    0\n",
       "price_date     0\n",
       "open           0\n",
       "high           0\n",
       "low            0\n",
       "close          0\n",
       "adj_close      0\n",
       "volume         0\n",
       "dtype: int64"
      ]
     },
     "execution_count": 6,
     "metadata": {},
     "output_type": "execute_result"
    }
   ],
   "source": [
    "null(df)"
   ]
  },
  {
   "cell_type": "markdown",
   "id": "39989b0c",
   "metadata": {},
   "source": [
    "## Preparing Dataset"
   ]
  },
  {
   "cell_type": "code",
   "execution_count": 5,
   "id": "7cf4cd7b",
   "metadata": {},
   "outputs": [],
   "source": [
    "#encoding fund_symbol to make dataset completely numeric, aside from the price_date data\n",
    "le = preprocessing.LabelEncoder()\n",
    "le.fit(df['fund_symbol'])\n",
    "df['fund_symbol'] = le.transform(df['fund_symbol'])"
   ]
  },
  {
   "cell_type": "code",
   "execution_count": 6,
   "id": "4ee8da23",
   "metadata": {},
   "outputs": [
    {
     "data": {
      "text/html": [
       "<div>\n",
       "<style scoped>\n",
       "    .dataframe tbody tr th:only-of-type {\n",
       "        vertical-align: middle;\n",
       "    }\n",
       "\n",
       "    .dataframe tbody tr th {\n",
       "        vertical-align: top;\n",
       "    }\n",
       "\n",
       "    .dataframe thead th {\n",
       "        text-align: right;\n",
       "    }\n",
       "</style>\n",
       "<table border=\"1\" class=\"dataframe\">\n",
       "  <thead>\n",
       "    <tr style=\"text-align: right;\">\n",
       "      <th></th>\n",
       "      <th>fund_symbol</th>\n",
       "      <th>price_date</th>\n",
       "      <th>open</th>\n",
       "      <th>high</th>\n",
       "      <th>low</th>\n",
       "      <th>close</th>\n",
       "      <th>adj_close</th>\n",
       "      <th>volume</th>\n",
       "    </tr>\n",
       "  </thead>\n",
       "  <tbody>\n",
       "    <tr>\n",
       "      <th>0</th>\n",
       "      <td>0</td>\n",
       "      <td>2020-09-09</td>\n",
       "      <td>25.10</td>\n",
       "      <td>25.12</td>\n",
       "      <td>25.07</td>\n",
       "      <td>25.07</td>\n",
       "      <td>24.85</td>\n",
       "      <td>17300</td>\n",
       "    </tr>\n",
       "    <tr>\n",
       "      <th>1</th>\n",
       "      <td>0</td>\n",
       "      <td>2020-09-10</td>\n",
       "      <td>25.06</td>\n",
       "      <td>25.07</td>\n",
       "      <td>25.05</td>\n",
       "      <td>25.07</td>\n",
       "      <td>24.85</td>\n",
       "      <td>23500</td>\n",
       "    </tr>\n",
       "    <tr>\n",
       "      <th>2</th>\n",
       "      <td>0</td>\n",
       "      <td>2020-09-11</td>\n",
       "      <td>25.04</td>\n",
       "      <td>25.05</td>\n",
       "      <td>25.02</td>\n",
       "      <td>25.03</td>\n",
       "      <td>24.81</td>\n",
       "      <td>33400</td>\n",
       "    </tr>\n",
       "    <tr>\n",
       "      <th>3</th>\n",
       "      <td>0</td>\n",
       "      <td>2020-09-14</td>\n",
       "      <td>25.01</td>\n",
       "      <td>25.06</td>\n",
       "      <td>25.01</td>\n",
       "      <td>25.02</td>\n",
       "      <td>24.80</td>\n",
       "      <td>13100</td>\n",
       "    </tr>\n",
       "    <tr>\n",
       "      <th>4</th>\n",
       "      <td>0</td>\n",
       "      <td>2020-09-15</td>\n",
       "      <td>25.02</td>\n",
       "      <td>25.03</td>\n",
       "      <td>25.01</td>\n",
       "      <td>25.01</td>\n",
       "      <td>24.79</td>\n",
       "      <td>12100</td>\n",
       "    </tr>\n",
       "    <tr>\n",
       "      <th>...</th>\n",
       "      <td>...</td>\n",
       "      <td>...</td>\n",
       "      <td>...</td>\n",
       "      <td>...</td>\n",
       "      <td>...</td>\n",
       "      <td>...</td>\n",
       "      <td>...</td>\n",
       "      <td>...</td>\n",
       "    </tr>\n",
       "    <tr>\n",
       "      <th>3866025</th>\n",
       "      <td>2309</td>\n",
       "      <td>2021-11-23</td>\n",
       "      <td>26.81</td>\n",
       "      <td>27.21</td>\n",
       "      <td>26.30</td>\n",
       "      <td>26.35</td>\n",
       "      <td>26.35</td>\n",
       "      <td>190900</td>\n",
       "    </tr>\n",
       "    <tr>\n",
       "      <th>3866026</th>\n",
       "      <td>2309</td>\n",
       "      <td>2021-11-24</td>\n",
       "      <td>26.79</td>\n",
       "      <td>26.96</td>\n",
       "      <td>26.57</td>\n",
       "      <td>26.69</td>\n",
       "      <td>26.69</td>\n",
       "      <td>109000</td>\n",
       "    </tr>\n",
       "    <tr>\n",
       "      <th>3866027</th>\n",
       "      <td>2309</td>\n",
       "      <td>2021-11-26</td>\n",
       "      <td>26.67</td>\n",
       "      <td>28.14</td>\n",
       "      <td>26.67</td>\n",
       "      <td>27.72</td>\n",
       "      <td>27.72</td>\n",
       "      <td>205500</td>\n",
       "    </tr>\n",
       "    <tr>\n",
       "      <th>3866028</th>\n",
       "      <td>2309</td>\n",
       "      <td>2021-11-29</td>\n",
       "      <td>27.89</td>\n",
       "      <td>28.56</td>\n",
       "      <td>27.80</td>\n",
       "      <td>28.27</td>\n",
       "      <td>28.27</td>\n",
       "      <td>411900</td>\n",
       "    </tr>\n",
       "    <tr>\n",
       "      <th>3866029</th>\n",
       "      <td>2309</td>\n",
       "      <td>2021-11-30</td>\n",
       "      <td>28.15</td>\n",
       "      <td>28.73</td>\n",
       "      <td>25.91</td>\n",
       "      <td>28.49</td>\n",
       "      <td>28.49</td>\n",
       "      <td>219400</td>\n",
       "    </tr>\n",
       "  </tbody>\n",
       "</table>\n",
       "<p>3866030 rows × 8 columns</p>\n",
       "</div>"
      ],
      "text/plain": [
       "         fund_symbol  price_date   open   high    low  close  adj_close  \\\n",
       "0                  0  2020-09-09  25.10  25.12  25.07  25.07      24.85   \n",
       "1                  0  2020-09-10  25.06  25.07  25.05  25.07      24.85   \n",
       "2                  0  2020-09-11  25.04  25.05  25.02  25.03      24.81   \n",
       "3                  0  2020-09-14  25.01  25.06  25.01  25.02      24.80   \n",
       "4                  0  2020-09-15  25.02  25.03  25.01  25.01      24.79   \n",
       "...              ...         ...    ...    ...    ...    ...        ...   \n",
       "3866025         2309  2021-11-23  26.81  27.21  26.30  26.35      26.35   \n",
       "3866026         2309  2021-11-24  26.79  26.96  26.57  26.69      26.69   \n",
       "3866027         2309  2021-11-26  26.67  28.14  26.67  27.72      27.72   \n",
       "3866028         2309  2021-11-29  27.89  28.56  27.80  28.27      28.27   \n",
       "3866029         2309  2021-11-30  28.15  28.73  25.91  28.49      28.49   \n",
       "\n",
       "         volume  \n",
       "0         17300  \n",
       "1         23500  \n",
       "2         33400  \n",
       "3         13100  \n",
       "4         12100  \n",
       "...         ...  \n",
       "3866025  190900  \n",
       "3866026  109000  \n",
       "3866027  205500  \n",
       "3866028  411900  \n",
       "3866029  219400  \n",
       "\n",
       "[3866030 rows x 8 columns]"
      ]
     },
     "execution_count": 6,
     "metadata": {},
     "output_type": "execute_result"
    }
   ],
   "source": [
    "df"
   ]
  },
  {
   "cell_type": "code",
   "execution_count": 7,
   "id": "745c6293",
   "metadata": {},
   "outputs": [],
   "source": [
    "df.to_csv(\"dataset.csv\")"
   ]
  },
  {
   "cell_type": "code",
   "execution_count": 8,
   "id": "cdb8acc6",
   "metadata": {},
   "outputs": [
    {
     "data": {
      "text/plain": [
       "1948    7263\n",
       "587     6472\n",
       "586     6472\n",
       "589     6472\n",
       "380     6007\n",
       "        ... \n",
       "146       98\n",
       "976       95\n",
       "2199      94\n",
       "1349      92\n",
       "1234      89\n",
       "Name: fund_symbol, Length: 2310, dtype: int64"
      ]
     },
     "execution_count": 8,
     "metadata": {},
     "output_type": "execute_result"
    }
   ],
   "source": [
    "df['fund_symbol'].value_counts()\n",
    "#Slicing dataset to select rows with 'fund_symbol' 1948"
   ]
  },
  {
   "cell_type": "code",
   "execution_count": 7,
   "id": "431566cb",
   "metadata": {},
   "outputs": [],
   "source": [
    "AEdata = df[df['fund_symbol']==1948]"
   ]
  },
  {
   "cell_type": "code",
   "execution_count": 8,
   "id": "45e6f72a",
   "metadata": {},
   "outputs": [
    {
     "data": {
      "text/html": [
       "<div>\n",
       "<style scoped>\n",
       "    .dataframe tbody tr th:only-of-type {\n",
       "        vertical-align: middle;\n",
       "    }\n",
       "\n",
       "    .dataframe tbody tr th {\n",
       "        vertical-align: top;\n",
       "    }\n",
       "\n",
       "    .dataframe thead th {\n",
       "        text-align: right;\n",
       "    }\n",
       "</style>\n",
       "<table border=\"1\" class=\"dataframe\">\n",
       "  <thead>\n",
       "    <tr style=\"text-align: right;\">\n",
       "      <th></th>\n",
       "      <th>fund_symbol</th>\n",
       "      <th>price_date</th>\n",
       "      <th>open</th>\n",
       "      <th>high</th>\n",
       "      <th>low</th>\n",
       "      <th>close</th>\n",
       "      <th>adj_close</th>\n",
       "      <th>volume</th>\n",
       "    </tr>\n",
       "  </thead>\n",
       "  <tbody>\n",
       "    <tr>\n",
       "      <th>3262244</th>\n",
       "      <td>1948</td>\n",
       "      <td>1993-01-29</td>\n",
       "      <td>43.97</td>\n",
       "      <td>43.97</td>\n",
       "      <td>43.75</td>\n",
       "      <td>43.94</td>\n",
       "      <td>25.80</td>\n",
       "      <td>1003200</td>\n",
       "    </tr>\n",
       "    <tr>\n",
       "      <th>3262245</th>\n",
       "      <td>1948</td>\n",
       "      <td>1993-02-01</td>\n",
       "      <td>43.97</td>\n",
       "      <td>44.25</td>\n",
       "      <td>43.97</td>\n",
       "      <td>44.25</td>\n",
       "      <td>25.98</td>\n",
       "      <td>480500</td>\n",
       "    </tr>\n",
       "    <tr>\n",
       "      <th>3262246</th>\n",
       "      <td>1948</td>\n",
       "      <td>1993-02-02</td>\n",
       "      <td>44.22</td>\n",
       "      <td>44.38</td>\n",
       "      <td>44.12</td>\n",
       "      <td>44.34</td>\n",
       "      <td>26.04</td>\n",
       "      <td>201300</td>\n",
       "    </tr>\n",
       "    <tr>\n",
       "      <th>3262247</th>\n",
       "      <td>1948</td>\n",
       "      <td>1993-02-03</td>\n",
       "      <td>44.41</td>\n",
       "      <td>44.84</td>\n",
       "      <td>44.38</td>\n",
       "      <td>44.81</td>\n",
       "      <td>26.31</td>\n",
       "      <td>529400</td>\n",
       "    </tr>\n",
       "    <tr>\n",
       "      <th>3262248</th>\n",
       "      <td>1948</td>\n",
       "      <td>1993-02-04</td>\n",
       "      <td>44.97</td>\n",
       "      <td>45.09</td>\n",
       "      <td>44.47</td>\n",
       "      <td>45.00</td>\n",
       "      <td>26.42</td>\n",
       "      <td>531500</td>\n",
       "    </tr>\n",
       "    <tr>\n",
       "      <th>...</th>\n",
       "      <td>...</td>\n",
       "      <td>...</td>\n",
       "      <td>...</td>\n",
       "      <td>...</td>\n",
       "      <td>...</td>\n",
       "      <td>...</td>\n",
       "      <td>...</td>\n",
       "      <td>...</td>\n",
       "    </tr>\n",
       "    <tr>\n",
       "      <th>3269502</th>\n",
       "      <td>1948</td>\n",
       "      <td>2021-11-23</td>\n",
       "      <td>467.22</td>\n",
       "      <td>469.10</td>\n",
       "      <td>464.45</td>\n",
       "      <td>468.19</td>\n",
       "      <td>468.19</td>\n",
       "      <td>73206500</td>\n",
       "    </tr>\n",
       "    <tr>\n",
       "      <th>3269503</th>\n",
       "      <td>1948</td>\n",
       "      <td>2021-11-24</td>\n",
       "      <td>466.06</td>\n",
       "      <td>469.57</td>\n",
       "      <td>465.19</td>\n",
       "      <td>469.44</td>\n",
       "      <td>469.44</td>\n",
       "      <td>61858800</td>\n",
       "    </tr>\n",
       "    <tr>\n",
       "      <th>3269504</th>\n",
       "      <td>1948</td>\n",
       "      <td>2021-11-26</td>\n",
       "      <td>462.34</td>\n",
       "      <td>463.90</td>\n",
       "      <td>457.77</td>\n",
       "      <td>458.97</td>\n",
       "      <td>458.97</td>\n",
       "      <td>112669600</td>\n",
       "    </tr>\n",
       "    <tr>\n",
       "      <th>3269505</th>\n",
       "      <td>1948</td>\n",
       "      <td>2021-11-29</td>\n",
       "      <td>464.07</td>\n",
       "      <td>466.56</td>\n",
       "      <td>461.73</td>\n",
       "      <td>464.60</td>\n",
       "      <td>464.60</td>\n",
       "      <td>86268800</td>\n",
       "    </tr>\n",
       "    <tr>\n",
       "      <th>3269506</th>\n",
       "      <td>1948</td>\n",
       "      <td>2021-11-30</td>\n",
       "      <td>462.00</td>\n",
       "      <td>464.03</td>\n",
       "      <td>455.30</td>\n",
       "      <td>455.56</td>\n",
       "      <td>455.56</td>\n",
       "      <td>148559600</td>\n",
       "    </tr>\n",
       "  </tbody>\n",
       "</table>\n",
       "<p>7263 rows × 8 columns</p>\n",
       "</div>"
      ],
      "text/plain": [
       "         fund_symbol  price_date    open    high     low   close  adj_close  \\\n",
       "3262244         1948  1993-01-29   43.97   43.97   43.75   43.94      25.80   \n",
       "3262245         1948  1993-02-01   43.97   44.25   43.97   44.25      25.98   \n",
       "3262246         1948  1993-02-02   44.22   44.38   44.12   44.34      26.04   \n",
       "3262247         1948  1993-02-03   44.41   44.84   44.38   44.81      26.31   \n",
       "3262248         1948  1993-02-04   44.97   45.09   44.47   45.00      26.42   \n",
       "...              ...         ...     ...     ...     ...     ...        ...   \n",
       "3269502         1948  2021-11-23  467.22  469.10  464.45  468.19     468.19   \n",
       "3269503         1948  2021-11-24  466.06  469.57  465.19  469.44     469.44   \n",
       "3269504         1948  2021-11-26  462.34  463.90  457.77  458.97     458.97   \n",
       "3269505         1948  2021-11-29  464.07  466.56  461.73  464.60     464.60   \n",
       "3269506         1948  2021-11-30  462.00  464.03  455.30  455.56     455.56   \n",
       "\n",
       "            volume  \n",
       "3262244    1003200  \n",
       "3262245     480500  \n",
       "3262246     201300  \n",
       "3262247     529400  \n",
       "3262248     531500  \n",
       "...            ...  \n",
       "3269502   73206500  \n",
       "3269503   61858800  \n",
       "3269504  112669600  \n",
       "3269505   86268800  \n",
       "3269506  148559600  \n",
       "\n",
       "[7263 rows x 8 columns]"
      ]
     },
     "execution_count": 8,
     "metadata": {},
     "output_type": "execute_result"
    }
   ],
   "source": [
    "AEdata"
   ]
  },
  {
   "cell_type": "code",
   "execution_count": 9,
   "id": "4c8d1275",
   "metadata": {},
   "outputs": [],
   "source": [
    "#selecting relevant dataset columns\n",
    "AEdata = AEdata[['open', 'high', 'low', 'adj_close']]"
   ]
  },
  {
   "cell_type": "code",
   "execution_count": 10,
   "id": "970131fc",
   "metadata": {},
   "outputs": [
    {
     "data": {
      "text/html": [
       "<div>\n",
       "<style scoped>\n",
       "    .dataframe tbody tr th:only-of-type {\n",
       "        vertical-align: middle;\n",
       "    }\n",
       "\n",
       "    .dataframe tbody tr th {\n",
       "        vertical-align: top;\n",
       "    }\n",
       "\n",
       "    .dataframe thead th {\n",
       "        text-align: right;\n",
       "    }\n",
       "</style>\n",
       "<table border=\"1\" class=\"dataframe\">\n",
       "  <thead>\n",
       "    <tr style=\"text-align: right;\">\n",
       "      <th></th>\n",
       "      <th>open</th>\n",
       "      <th>high</th>\n",
       "      <th>low</th>\n",
       "      <th>adj_close</th>\n",
       "    </tr>\n",
       "  </thead>\n",
       "  <tbody>\n",
       "    <tr>\n",
       "      <th>3262244</th>\n",
       "      <td>43.97</td>\n",
       "      <td>43.97</td>\n",
       "      <td>43.75</td>\n",
       "      <td>25.80</td>\n",
       "    </tr>\n",
       "    <tr>\n",
       "      <th>3262245</th>\n",
       "      <td>43.97</td>\n",
       "      <td>44.25</td>\n",
       "      <td>43.97</td>\n",
       "      <td>25.98</td>\n",
       "    </tr>\n",
       "    <tr>\n",
       "      <th>3262246</th>\n",
       "      <td>44.22</td>\n",
       "      <td>44.38</td>\n",
       "      <td>44.12</td>\n",
       "      <td>26.04</td>\n",
       "    </tr>\n",
       "    <tr>\n",
       "      <th>3262247</th>\n",
       "      <td>44.41</td>\n",
       "      <td>44.84</td>\n",
       "      <td>44.38</td>\n",
       "      <td>26.31</td>\n",
       "    </tr>\n",
       "    <tr>\n",
       "      <th>3262248</th>\n",
       "      <td>44.97</td>\n",
       "      <td>45.09</td>\n",
       "      <td>44.47</td>\n",
       "      <td>26.42</td>\n",
       "    </tr>\n",
       "    <tr>\n",
       "      <th>...</th>\n",
       "      <td>...</td>\n",
       "      <td>...</td>\n",
       "      <td>...</td>\n",
       "      <td>...</td>\n",
       "    </tr>\n",
       "    <tr>\n",
       "      <th>3269502</th>\n",
       "      <td>467.22</td>\n",
       "      <td>469.10</td>\n",
       "      <td>464.45</td>\n",
       "      <td>468.19</td>\n",
       "    </tr>\n",
       "    <tr>\n",
       "      <th>3269503</th>\n",
       "      <td>466.06</td>\n",
       "      <td>469.57</td>\n",
       "      <td>465.19</td>\n",
       "      <td>469.44</td>\n",
       "    </tr>\n",
       "    <tr>\n",
       "      <th>3269504</th>\n",
       "      <td>462.34</td>\n",
       "      <td>463.90</td>\n",
       "      <td>457.77</td>\n",
       "      <td>458.97</td>\n",
       "    </tr>\n",
       "    <tr>\n",
       "      <th>3269505</th>\n",
       "      <td>464.07</td>\n",
       "      <td>466.56</td>\n",
       "      <td>461.73</td>\n",
       "      <td>464.60</td>\n",
       "    </tr>\n",
       "    <tr>\n",
       "      <th>3269506</th>\n",
       "      <td>462.00</td>\n",
       "      <td>464.03</td>\n",
       "      <td>455.30</td>\n",
       "      <td>455.56</td>\n",
       "    </tr>\n",
       "  </tbody>\n",
       "</table>\n",
       "<p>7263 rows × 4 columns</p>\n",
       "</div>"
      ],
      "text/plain": [
       "           open    high     low  adj_close\n",
       "3262244   43.97   43.97   43.75      25.80\n",
       "3262245   43.97   44.25   43.97      25.98\n",
       "3262246   44.22   44.38   44.12      26.04\n",
       "3262247   44.41   44.84   44.38      26.31\n",
       "3262248   44.97   45.09   44.47      26.42\n",
       "...         ...     ...     ...        ...\n",
       "3269502  467.22  469.10  464.45     468.19\n",
       "3269503  466.06  469.57  465.19     469.44\n",
       "3269504  462.34  463.90  457.77     458.97\n",
       "3269505  464.07  466.56  461.73     464.60\n",
       "3269506  462.00  464.03  455.30     455.56\n",
       "\n",
       "[7263 rows x 4 columns]"
      ]
     },
     "execution_count": 10,
     "metadata": {},
     "output_type": "execute_result"
    }
   ],
   "source": [
    "AEdata"
   ]
  },
  {
   "cell_type": "code",
   "execution_count": 11,
   "id": "0794b0fb",
   "metadata": {},
   "outputs": [
    {
     "data": {
      "text/plain": [
       "<AxesSubplot:xlabel='open'>"
      ]
     },
     "execution_count": 11,
     "metadata": {},
     "output_type": "execute_result"
    },
    {
     "data": {
      "image/png": "[encoded data removed]",
      "text/plain": [
       "<Figure size 1440x720 with 1 Axes>"
      ]
     },
     "metadata": {
      "needs_background": "light"
     },
     "output_type": "display_data"
    }
   ],
   "source": [
    "#plotting data\n",
    "AEdata.plot(x = 'open', y= 'adj_close')"
   ]
  },
  {
   "cell_type": "code",
   "execution_count": 12,
   "id": "e1700e28",
   "metadata": {},
   "outputs": [
    {
     "name": "stdout",
     "output_type": "stream",
     "text": [
      "What is the label columnadj_close\n"
     ]
    }
   ],
   "source": [
    "#Apply train-test-split\n",
    "X_train, X_test, y_train, y_test = splitting(AEdata)"
   ]
  },
  {
   "cell_type": "code",
   "execution_count": 13,
   "id": "b01cd366",
   "metadata": {},
   "outputs": [],
   "source": [
    "X_train = X_train.values\n",
    "X_test = X_test.values\n",
    "y_train = y_train.values\n",
    "y_test = y_test.values"
   ]
  },
  {
   "cell_type": "code",
   "execution_count": 14,
   "id": "f19d2e19",
   "metadata": {},
   "outputs": [
    {
     "data": {
      "text/plain": [
       "((4866, 3), (4866,))"
      ]
     },
     "execution_count": 14,
     "metadata": {},
     "output_type": "execute_result"
    }
   ],
   "source": [
    "X_train.shape, y_train.shape"
   ]
  },
  {
   "cell_type": "markdown",
   "id": "f8416f74",
   "metadata": {},
   "source": [
    "## Scaling Data"
   ]
  },
  {
   "cell_type": "code",
   "execution_count": 31,
   "id": "c01ed052",
   "metadata": {},
   "outputs": [],
   "source": [
    "#Defining scaling function\n",
    "def scaler(X_train, X_test):\n",
    "    scaler = MMS()\n",
    "    scaler.fit(X_train)\n",
    "    X_train = scaler.transform(X_train)\n",
    "    X_test = scaler.transform(X_test)\n",
    "    return X_train, X_test, scaler"
   ]
  },
  {
   "cell_type": "code",
   "execution_count": 16,
   "id": "68d925bb",
   "metadata": {},
   "outputs": [],
   "source": [
    "scX_train, scX_test, scalermodel = scaler(X_train, X_test)"
   ]
  },
  {
   "cell_type": "code",
   "execution_count": 17,
   "id": "93cf9ca0",
   "metadata": {},
   "outputs": [
    {
     "data": {
      "text/plain": [
       "array([[0.00417488, 0.00402424, 0.00389955],\n",
       "       [0.07873628, 0.07858964, 0.07620569],\n",
       "       [0.13737217, 0.13829812, 0.13751791],\n",
       "       ...,\n",
       "       [0.31262314, 0.31283779, 0.31377293],\n",
       "       [0.35404353, 0.35621534, 0.35575184],\n",
       "       [0.05577446, 0.05530989, 0.05630858]])"
      ]
     },
     "execution_count": 17,
     "metadata": {},
     "output_type": "execute_result"
    }
   ],
   "source": [
    "scX_train"
   ]
  },
  {
   "cell_type": "code",
   "execution_count": 18,
   "id": "1160237a",
   "metadata": {},
   "outputs": [
    {
     "data": {
      "text/plain": [
       "array([[0.12731025, 0.13067078, 0.12671193],\n",
       "       [0.58577259, 0.58419316, 0.5849327 ],\n",
       "       [0.40456422, 0.40544208, 0.40381498],\n",
       "       ...,\n",
       "       [0.09942302, 0.10123769, 0.09793512],\n",
       "       [0.16190543, 0.16344962, 0.16138505],\n",
       "       [0.05959752, 0.06003603, 0.06009068]])"
      ]
     },
     "execution_count": 18,
     "metadata": {},
     "output_type": "execute_result"
    }
   ],
   "source": [
    "scX_test"
   ]
  },
  {
   "cell_type": "code",
   "execution_count": 19,
   "id": "c643d7c4",
   "metadata": {},
   "outputs": [],
   "source": [
    "#Creating validation set\n",
    "scX_train, scX_val, y_train, y_val = tts(scX_train, y_train, test_size = 0.33)"
   ]
  },
  {
   "cell_type": "markdown",
   "id": "fa981be0",
   "metadata": {},
   "source": [
    "## Defining a Vanilla Autoencoder/Decoder Function"
   ]
  },
  {
   "cell_type": "code",
   "execution_count": 26,
   "id": "e044b16a",
   "metadata": {},
   "outputs": [],
   "source": [
    "def AE(n_inputs):\n",
    "    #defining visible layer/encoder\n",
    "    vlayer = Input(shape = (n_inputs,))\n",
    "    e = Dense(n_inputs*2)(vlayer)\n",
    "    e = BN()(e)\n",
    "    e = relu()(e)\n",
    "    #defining bottleneck\n",
    "    n_bottleneck = n_inputs\n",
    "    blayer = Dense(n_bottleneck)(e)\n",
    "    #defining decoder\n",
    "    d = Dense(n_inputs*2)(blayer)\n",
    "    d = BN()(d)\n",
    "    d = relu()(d)\n",
    "    #output\n",
    "    out = Dense(n_inputs, activation = 'linear')(d)\n",
    "    model = Model(inputs = vlayer, outputs = out)\n",
    "    model.compile(optimizer = 'adam', loss = 'mse')\n",
    "    plot_model(model, 'autoencoder.png', show_shapes=True)\n",
    "    return model\n",
    "\n",
    "def history(model, X_train, Xval):\n",
    "    return model.fit(X_train, X_train, epochs = 100, batch_size = 32, verbose = 2, validation_data = (Xval, Xval))\n",
    "\n",
    "def evalmodel(modelfit, model, X_train, X_test):\n",
    "    plt.title('Mean Squared Error')\n",
    "    plt.plot(modelfit.history['loss'], label = 'training data')\n",
    "    plt.plot(modelfit.history['val_loss'], label = 'validation data')\n",
    "    plt.legend()\n",
    "    plt.show()\n",
    "    \n",
    "    predictions = model.predict(X_test)\n",
    "    return predictions"
   ]
  },
  {
   "cell_type": "code",
   "execution_count": 27,
   "id": "9d20199d",
   "metadata": {},
   "outputs": [
    {
     "name": "stdout",
     "output_type": "stream",
     "text": [
      "('You must install pydot (`pip install pydot`) and install graphviz (see instructions at https://graphviz.gitlab.io/download/) ', 'for plot_model/model_to_dot to work.')\n"
     ]
    }
   ],
   "source": [
    "newmodel = AE(scX_train.shape[1])"
   ]
  },
  {
   "cell_type": "code",
   "execution_count": 28,
   "id": "2d773363",
   "metadata": {
    "scrolled": true
   },
   "outputs": [
    {
     "name": "stdout",
     "output_type": "stream",
     "text": [
      "Epoch 1/100\n",
      "102/102 - 4s - loss: 0.1355 - val_loss: 0.0685 - 4s/epoch - 40ms/step\n",
      "Epoch 2/100\n",
      "102/102 - 1s - loss: 0.0238 - val_loss: 0.0383 - 716ms/epoch - 7ms/step\n",
      "Epoch 3/100\n",
      "102/102 - 1s - loss: 0.0142 - val_loss: 0.0217 - 640ms/epoch - 6ms/step\n",
      "Epoch 4/100\n",
      "102/102 - 1s - loss: 0.0103 - val_loss: 0.0121 - 644ms/epoch - 6ms/step\n",
      "Epoch 5/100\n",
      "102/102 - 1s - loss: 0.0078 - val_loss: 0.0081 - 656ms/epoch - 6ms/step\n",
      "Epoch 6/100\n",
      "102/102 - 1s - loss: 0.0055 - val_loss: 0.0071 - 660ms/epoch - 6ms/step\n",
      "Epoch 7/100\n",
      "102/102 - 1s - loss: 0.0043 - val_loss: 0.0047 - 656ms/epoch - 6ms/step\n",
      "Epoch 8/100\n",
      "102/102 - 1s - loss: 0.0037 - val_loss: 0.0035 - 672ms/epoch - 7ms/step\n",
      "Epoch 9/100\n",
      "102/102 - 1s - loss: 0.0032 - val_loss: 0.0027 - 656ms/epoch - 6ms/step\n",
      "Epoch 10/100\n",
      "102/102 - 1s - loss: 0.0034 - val_loss: 0.0026 - 656ms/epoch - 6ms/step\n",
      "Epoch 11/100\n",
      "102/102 - 1s - loss: 0.0022 - val_loss: 0.0021 - 664ms/epoch - 7ms/step\n",
      "Epoch 12/100\n",
      "102/102 - 1s - loss: 0.0027 - val_loss: 0.0019 - 636ms/epoch - 6ms/step\n",
      "Epoch 13/100\n",
      "102/102 - 1s - loss: 0.0020 - val_loss: 9.5962e-04 - 636ms/epoch - 6ms/step\n",
      "Epoch 14/100\n",
      "102/102 - 1s - loss: 0.0023 - val_loss: 6.8052e-04 - 628ms/epoch - 6ms/step\n",
      "Epoch 15/100\n",
      "102/102 - 1s - loss: 0.0020 - val_loss: 7.2115e-04 - 636ms/epoch - 6ms/step\n",
      "Epoch 16/100\n",
      "102/102 - 1s - loss: 0.0019 - val_loss: 9.0322e-04 - 636ms/epoch - 6ms/step\n",
      "Epoch 17/100\n",
      "102/102 - 1s - loss: 0.0028 - val_loss: 4.7281e-04 - 636ms/epoch - 6ms/step\n",
      "Epoch 18/100\n",
      "102/102 - 1s - loss: 0.0020 - val_loss: 5.9196e-04 - 644ms/epoch - 6ms/step\n",
      "Epoch 19/100\n",
      "102/102 - 1s - loss: 0.0021 - val_loss: 2.7036e-04 - 632ms/epoch - 6ms/step\n",
      "Epoch 20/100\n",
      "102/102 - 1s - loss: 0.0025 - val_loss: 2.2443e-04 - 640ms/epoch - 6ms/step\n",
      "Epoch 21/100\n",
      "102/102 - 1s - loss: 0.0026 - val_loss: 2.0698e-04 - 672ms/epoch - 7ms/step\n",
      "Epoch 22/100\n",
      "102/102 - 1s - loss: 0.0018 - val_loss: 4.0498e-04 - 700ms/epoch - 7ms/step\n",
      "Epoch 23/100\n",
      "102/102 - 1s - loss: 0.0017 - val_loss: 9.5366e-04 - 816ms/epoch - 8ms/step\n",
      "Epoch 24/100\n",
      "102/102 - 1s - loss: 0.0016 - val_loss: 0.0020 - 720ms/epoch - 7ms/step\n",
      "Epoch 25/100\n",
      "102/102 - 1s - loss: 0.0020 - val_loss: 0.0028 - 656ms/epoch - 6ms/step\n",
      "Epoch 26/100\n",
      "102/102 - 1s - loss: 0.0018 - val_loss: 0.0038 - 660ms/epoch - 6ms/step\n",
      "Epoch 27/100\n",
      "102/102 - 1s - loss: 0.0019 - val_loss: 0.0068 - 696ms/epoch - 7ms/step\n",
      "Epoch 28/100\n",
      "102/102 - 1s - loss: 0.0016 - val_loss: 0.0031 - 680ms/epoch - 7ms/step\n",
      "Epoch 29/100\n",
      "102/102 - 1s - loss: 0.0016 - val_loss: 0.0018 - 668ms/epoch - 7ms/step\n",
      "Epoch 30/100\n",
      "102/102 - 1s - loss: 0.0021 - val_loss: 0.0022 - 660ms/epoch - 6ms/step\n",
      "Epoch 31/100\n",
      "102/102 - 1s - loss: 0.0017 - val_loss: 0.0015 - 688ms/epoch - 7ms/step\n",
      "Epoch 32/100\n",
      "102/102 - 1s - loss: 0.0017 - val_loss: 0.0014 - 708ms/epoch - 7ms/step\n",
      "Epoch 33/100\n",
      "102/102 - 1s - loss: 0.0021 - val_loss: 2.2574e-04 - 712ms/epoch - 7ms/step\n",
      "Epoch 34/100\n",
      "102/102 - 1s - loss: 0.0016 - val_loss: 1.6949e-04 - 712ms/epoch - 7ms/step\n",
      "Epoch 35/100\n",
      "102/102 - 1s - loss: 0.0015 - val_loss: 8.1496e-04 - 684ms/epoch - 7ms/step\n",
      "Epoch 36/100\n",
      "102/102 - 1s - loss: 0.0016 - val_loss: 2.6160e-04 - 648ms/epoch - 6ms/step\n",
      "Epoch 37/100\n",
      "102/102 - 1s - loss: 0.0020 - val_loss: 9.9142e-04 - 676ms/epoch - 7ms/step\n",
      "Epoch 38/100\n",
      "102/102 - 1s - loss: 0.0012 - val_loss: 2.3299e-04 - 724ms/epoch - 7ms/step\n",
      "Epoch 39/100\n",
      "102/102 - 1s - loss: 0.0014 - val_loss: 1.1750e-04 - 680ms/epoch - 7ms/step\n",
      "Epoch 40/100\n",
      "102/102 - 1s - loss: 0.0014 - val_loss: 5.1665e-04 - 644ms/epoch - 6ms/step\n",
      "Epoch 41/100\n",
      "102/102 - 1s - loss: 0.0016 - val_loss: 9.7469e-05 - 724ms/epoch - 7ms/step\n",
      "Epoch 42/100\n",
      "102/102 - 1s - loss: 0.0017 - val_loss: 6.4021e-04 - 724ms/epoch - 7ms/step\n",
      "Epoch 43/100\n",
      "102/102 - 1s - loss: 0.0018 - val_loss: 5.8309e-04 - 720ms/epoch - 7ms/step\n",
      "Epoch 44/100\n",
      "102/102 - 1s - loss: 0.0019 - val_loss: 1.8851e-04 - 656ms/epoch - 6ms/step\n",
      "Epoch 45/100\n",
      "102/102 - 1s - loss: 0.0015 - val_loss: 3.3618e-04 - 664ms/epoch - 7ms/step\n",
      "Epoch 46/100\n",
      "102/102 - 1s - loss: 0.0017 - val_loss: 8.6262e-04 - 676ms/epoch - 7ms/step\n",
      "Epoch 47/100\n",
      "102/102 - 1s - loss: 0.0015 - val_loss: 2.0041e-04 - 692ms/epoch - 7ms/step\n",
      "Epoch 48/100\n",
      "102/102 - 1s - loss: 0.0017 - val_loss: 2.3473e-04 - 696ms/epoch - 7ms/step\n",
      "Epoch 49/100\n",
      "102/102 - 1s - loss: 0.0015 - val_loss: 4.2785e-04 - 652ms/epoch - 6ms/step\n",
      "Epoch 50/100\n",
      "102/102 - 1s - loss: 0.0017 - val_loss: 5.6921e-04 - 656ms/epoch - 6ms/step\n",
      "Epoch 51/100\n",
      "102/102 - 1s - loss: 0.0015 - val_loss: 3.5704e-04 - 660ms/epoch - 6ms/step\n",
      "Epoch 52/100\n",
      "102/102 - 1s - loss: 0.0016 - val_loss: 3.7195e-04 - 640ms/epoch - 6ms/step\n",
      "Epoch 53/100\n",
      "102/102 - 1s - loss: 0.0015 - val_loss: 6.9551e-04 - 668ms/epoch - 7ms/step\n",
      "Epoch 54/100\n",
      "102/102 - 1s - loss: 0.0018 - val_loss: 7.7487e-04 - 672ms/epoch - 7ms/step\n",
      "Epoch 55/100\n",
      "102/102 - 1s - loss: 0.0013 - val_loss: 7.8373e-04 - 720ms/epoch - 7ms/step\n",
      "Epoch 56/100\n",
      "102/102 - 1s - loss: 0.0014 - val_loss: 4.8521e-04 - 804ms/epoch - 8ms/step\n",
      "Epoch 57/100\n",
      "102/102 - 1s - loss: 0.0015 - val_loss: 3.1112e-04 - 821ms/epoch - 8ms/step\n",
      "Epoch 58/100\n",
      "102/102 - 1s - loss: 0.0015 - val_loss: 4.7787e-04 - 704ms/epoch - 7ms/step\n",
      "Epoch 59/100\n",
      "102/102 - 1s - loss: 0.0016 - val_loss: 6.5515e-04 - 644ms/epoch - 6ms/step\n",
      "Epoch 60/100\n",
      "102/102 - 1s - loss: 0.0018 - val_loss: 0.0010 - 624ms/epoch - 6ms/step\n",
      "Epoch 61/100\n",
      "102/102 - 1s - loss: 0.0016 - val_loss: 0.0017 - 632ms/epoch - 6ms/step\n",
      "Epoch 62/100\n",
      "102/102 - 1s - loss: 0.0017 - val_loss: 7.0477e-04 - 648ms/epoch - 6ms/step\n",
      "Epoch 63/100\n",
      "102/102 - 1s - loss: 0.0012 - val_loss: 5.8134e-04 - 664ms/epoch - 7ms/step\n",
      "Epoch 64/100\n",
      "102/102 - 1s - loss: 0.0017 - val_loss: 0.0014 - 656ms/epoch - 6ms/step\n",
      "Epoch 65/100\n",
      "102/102 - 1s - loss: 0.0016 - val_loss: 4.1193e-04 - 688ms/epoch - 7ms/step\n",
      "Epoch 66/100\n",
      "102/102 - 1s - loss: 0.0014 - val_loss: 4.1932e-04 - 624ms/epoch - 6ms/step\n",
      "Epoch 67/100\n",
      "102/102 - 1s - loss: 0.0015 - val_loss: 4.6082e-04 - 632ms/epoch - 6ms/step\n",
      "Epoch 68/100\n",
      "102/102 - 1s - loss: 0.0013 - val_loss: 2.3366e-04 - 636ms/epoch - 6ms/step\n",
      "Epoch 69/100\n",
      "102/102 - 1s - loss: 0.0017 - val_loss: 0.0015 - 636ms/epoch - 6ms/step\n",
      "Epoch 70/100\n",
      "102/102 - 1s - loss: 0.0015 - val_loss: 5.5399e-04 - 652ms/epoch - 6ms/step\n",
      "Epoch 71/100\n",
      "102/102 - 1s - loss: 0.0014 - val_loss: 2.9706e-04 - 648ms/epoch - 6ms/step\n",
      "Epoch 72/100\n",
      "102/102 - 1s - loss: 0.0016 - val_loss: 9.7573e-04 - 624ms/epoch - 6ms/step\n",
      "Epoch 73/100\n",
      "102/102 - 1s - loss: 0.0014 - val_loss: 0.0021 - 628ms/epoch - 6ms/step\n",
      "Epoch 74/100\n",
      "102/102 - 1s - loss: 0.0017 - val_loss: 6.0347e-04 - 652ms/epoch - 6ms/step\n",
      "Epoch 75/100\n",
      "102/102 - 1s - loss: 0.0016 - val_loss: 0.0039 - 632ms/epoch - 6ms/step\n",
      "Epoch 76/100\n",
      "102/102 - 1s - loss: 0.0015 - val_loss: 0.0020 - 652ms/epoch - 6ms/step\n",
      "Epoch 77/100\n",
      "102/102 - 1s - loss: 0.0012 - val_loss: 0.0024 - 668ms/epoch - 7ms/step\n",
      "Epoch 78/100\n",
      "102/102 - 1s - loss: 0.0013 - val_loss: 6.4395e-04 - 676ms/epoch - 7ms/step\n",
      "Epoch 79/100\n",
      "102/102 - 1s - loss: 0.0012 - val_loss: 4.8522e-04 - 704ms/epoch - 7ms/step\n",
      "Epoch 80/100\n",
      "102/102 - 1s - loss: 0.0014 - val_loss: 6.7065e-04 - 708ms/epoch - 7ms/step\n",
      "Epoch 81/100\n",
      "102/102 - 1s - loss: 0.0015 - val_loss: 4.1062e-04 - 676ms/epoch - 7ms/step\n",
      "Epoch 82/100\n",
      "102/102 - 1s - loss: 0.0012 - val_loss: 1.6589e-04 - 684ms/epoch - 7ms/step\n",
      "Epoch 83/100\n",
      "102/102 - 1s - loss: 0.0013 - val_loss: 2.5993e-04 - 660ms/epoch - 6ms/step\n",
      "Epoch 84/100\n",
      "102/102 - 1s - loss: 0.0012 - val_loss: 8.6382e-04 - 644ms/epoch - 6ms/step\n",
      "Epoch 85/100\n",
      "102/102 - 1s - loss: 0.0015 - val_loss: 7.3255e-04 - 668ms/epoch - 7ms/step\n",
      "Epoch 86/100\n",
      "102/102 - 1s - loss: 0.0015 - val_loss: 4.3218e-04 - 648ms/epoch - 6ms/step\n",
      "Epoch 87/100\n",
      "102/102 - 1s - loss: 0.0016 - val_loss: 2.9099e-04 - 688ms/epoch - 7ms/step\n",
      "Epoch 88/100\n",
      "102/102 - 1s - loss: 0.0015 - val_loss: 0.0027 - 652ms/epoch - 6ms/step\n",
      "Epoch 89/100\n",
      "102/102 - 1s - loss: 0.0013 - val_loss: 7.8920e-04 - 637ms/epoch - 6ms/step\n",
      "Epoch 90/100\n",
      "102/102 - 1s - loss: 0.0011 - val_loss: 1.8276e-04 - 668ms/epoch - 7ms/step\n",
      "Epoch 91/100\n",
      "102/102 - 1s - loss: 0.0015 - val_loss: 0.0021 - 692ms/epoch - 7ms/step\n",
      "Epoch 92/100\n",
      "102/102 - 1s - loss: 0.0017 - val_loss: 3.0558e-04 - 708ms/epoch - 7ms/step\n",
      "Epoch 93/100\n",
      "102/102 - 1s - loss: 0.0014 - val_loss: 2.2163e-04 - 636ms/epoch - 6ms/step\n",
      "Epoch 94/100\n",
      "102/102 - 1s - loss: 0.0012 - val_loss: 3.2956e-04 - 660ms/epoch - 6ms/step\n",
      "Epoch 95/100\n",
      "102/102 - 1s - loss: 0.0012 - val_loss: 3.5466e-04 - 672ms/epoch - 7ms/step\n",
      "Epoch 96/100\n",
      "102/102 - 1s - loss: 0.0014 - val_loss: 2.0122e-04 - 708ms/epoch - 7ms/step\n",
      "Epoch 97/100\n",
      "102/102 - 1s - loss: 0.0013 - val_loss: 0.0012 - 676ms/epoch - 7ms/step\n",
      "Epoch 98/100\n",
      "102/102 - 1s - loss: 0.0016 - val_loss: 0.0024 - 664ms/epoch - 7ms/step\n",
      "Epoch 99/100\n",
      "102/102 - 1s - loss: 0.0014 - val_loss: 3.7213e-04 - 656ms/epoch - 6ms/step\n",
      "Epoch 100/100\n",
      "102/102 - 1s - loss: 0.0012 - val_loss: 2.9647e-04 - 644ms/epoch - 6ms/step\n"
     ]
    }
   ],
   "source": [
    "modelfit = history(newmodel, scX_train, scX_val)"
   ]
  },
  {
   "cell_type": "code",
   "execution_count": 53,
   "id": "5184ba51",
   "metadata": {},
   "outputs": [
    {
     "data": {
      "image/png": "[encoded data removed]",
      "text/plain": [
       "<Figure size 1440x720 with 1 Axes>"
      ]
     },
     "metadata": {
      "needs_background": "light"
     },
     "output_type": "display_data"
    }
   ],
   "source": [
    "predictions = evalmodel(modelfit, newmodel, X_train, X_test)"
   ]
  },
  {
   "cell_type": "markdown",
   "id": "f2626a44",
   "metadata": {},
   "source": [
    "# Using Autoencoder Model to Train a Different Predictive Model"
   ]
  },
  {
   "cell_type": "code",
   "execution_count": 32,
   "id": "fdb7d2b6",
   "metadata": {},
   "outputs": [],
   "source": [
    "y_train = y_train.reshape((len(y_train), 1))\n",
    "y_test = y_test.reshape((len(y_test), 1))\n",
    "y_train, y_test, scaler = scaler(y_train,y_test)"
   ]
  },
  {
   "cell_type": "code",
   "execution_count": 33,
   "id": "7a58013d",
   "metadata": {},
   "outputs": [
    {
     "data": {
      "text/plain": [
       "(array([[0.19913469],\n",
       "        [0.07339388],\n",
       "        [0.11997206],\n",
       "        ...,\n",
       "        [0.17353584],\n",
       "        [0.33447507],\n",
       "        [0.19579963]]),\n",
       " array([[0.0888298 ],\n",
       "        [0.56862789],\n",
       "        [0.38968385],\n",
       "        ...,\n",
       "        [0.07634585],\n",
       "        [0.1464272 ],\n",
       "        [0.04175586]]))"
      ]
     },
     "execution_count": 33,
     "metadata": {},
     "output_type": "execute_result"
    }
   ],
   "source": [
    "y_train, y_test"
   ]
  },
  {
   "cell_type": "code",
   "execution_count": 34,
   "id": "f27f4796",
   "metadata": {},
   "outputs": [],
   "source": [
    "#defining model\n",
    "def pretrainedaemodel(X_train, y_train, X_test, y_test, scaler):\n",
    "    model = SVR()\n",
    "    model.fit(X_train, y_train)\n",
    "    yhat = model.predict(X_test)\n",
    "    yhat = yhat.reshape(len(yhat),1)\n",
    "    yhat = scaler.inverse_transform(yhat)\n",
    "    y_test = scaler.inverse_transform(y_test)\n",
    "    score = MAE(y_test, yhat)\n",
    "    print(\"The mean absolute error is\",score,'.')"
   ]
  },
  {
   "cell_type": "code",
   "execution_count": 35,
   "id": "631eda97",
   "metadata": {},
   "outputs": [
    {
     "name": "stdout",
     "output_type": "stream",
     "text": [
      "The mean absolute error is 0.05596999370320474 .\n"
     ]
    }
   ],
   "source": [
    "pretrainedaemodel(scX_train, y_train, scX_test, y_test, scaler)"
   ]
  },
  {
   "cell_type": "code",
   "execution_count": 36,
   "id": "2a18c3d6",
   "metadata": {},
   "outputs": [],
   "source": [
    "#Using encoded data on the pretrained model to achieve better results\n",
    "X_trainencode = newmodel.predict(scX_train)\n",
    "X_testencode = newmodel.predict(scX_test)"
   ]
  },
  {
   "cell_type": "code",
   "execution_count": 37,
   "id": "89946398",
   "metadata": {},
   "outputs": [
    {
     "name": "stdout",
     "output_type": "stream",
     "text": [
      "The mean absolute error is 0.0467705798149825 .\n"
     ]
    }
   ],
   "source": [
    "pretrainedaemodel(X_trainencode, y_train, X_testencode, y_test, scaler)\n",
    "#Though the difference made is minimal, it's significant\n",
    "#enough to use encoded data in future problems since it clearly performs\n",
    "#better. "
   ]
  },
  {
   "cell_type": "markdown",
   "id": "10eea663",
   "metadata": {},
   "source": [
    "## Defining a Variational Autoencoder/Decoder Function\n"
   ]
  },
  {
   "cell_type": "code",
   "execution_count": 38,
   "id": "b6044ba7",
   "metadata": {},
   "outputs": [],
   "source": [
    "import imageio\n",
    "import glob \n",
    "import os\n",
    "import time\n",
    "import cv2\n",
    "from IPython import display\n",
    "from tensorflow import keras\n",
    "from tensorflow.keras import layers\n",
    "from tensorflow.keras import backend as K\n",
    "from tensorflow import GradientTape"
   ]
  },
  {
   "cell_type": "code",
   "execution_count": 39,
   "id": "4e7ddafd",
   "metadata": {},
   "outputs": [
    {
     "data": {
      "text/plain": [
       "(3, 64, 2)"
      ]
     },
     "execution_count": 39,
     "metadata": {},
     "output_type": "execute_result"
    }
   ],
   "source": [
    "#creating dimensions\n",
    "import math\n",
    "dim = scX_train.shape[1]\n",
    "inter_dim = 64\n",
    "latent_dim = 2\n",
    "dim, inter_dim, latent_dim"
   ]
  },
  {
   "cell_type": "code",
   "execution_count": 40,
   "id": "ae268d78",
   "metadata": {},
   "outputs": [],
   "source": [
    "#creating variational autoencoder layers\n",
    "\n",
    "#Part 1: Creating Encoder\n",
    "#visible layer or input\n",
    "vlayer = Input(shape = (dim,))\n",
    "#hidden layer\n",
    "hidden = Dense(inter_dim, activation = 'relu')(vlayer)\n",
    "#2nd hidden layer\n",
    "z_mean = Dense(latent_dim)(hidden)\n",
    "#third hidden layer\n",
    "z_log_var = Dense(latent_dim)(hidden)"
   ]
  },
  {
   "cell_type": "code",
   "execution_count": 41,
   "id": "203e9262",
   "metadata": {},
   "outputs": [],
   "source": [
    "#Creating sampling layer\n",
    "def sampling(inputs):\n",
    "    z_mean, z_log_var = inputs\n",
    "    epsilon = K.random_normal(shape=(K.shape(z_mean)[0], latent_dim), mean = 0, stddev = 0.1)\n",
    "    return z_mean + K.exp(z_log_var)*epsilon"
   ]
  },
  {
   "cell_type": "code",
   "execution_count": 42,
   "id": "0f1a8286",
   "metadata": {},
   "outputs": [],
   "source": [
    "z = Lambda(sampling)([z_mean, z_log_var])"
   ]
  },
  {
   "cell_type": "code",
   "execution_count": 43,
   "id": "f6c28efe",
   "metadata": {},
   "outputs": [],
   "source": [
    "encoder = Model(vlayer, [z_mean, z_log_var, z])"
   ]
  },
  {
   "cell_type": "code",
   "execution_count": 44,
   "id": "2af11ea4",
   "metadata": {},
   "outputs": [
    {
     "name": "stdout",
     "output_type": "stream",
     "text": [
      "Model: \"model_1\"\n",
      "__________________________________________________________________________________________________\n",
      " Layer (type)                   Output Shape         Param #     Connected to                     \n",
      "==================================================================================================\n",
      " input_2 (InputLayer)           [(None, 3)]          0           []                               \n",
      "                                                                                                  \n",
      " dense_4 (Dense)                (None, 64)           256         ['input_2[0][0]']                \n",
      "                                                                                                  \n",
      " dense_5 (Dense)                (None, 2)            130         ['dense_4[0][0]']                \n",
      "                                                                                                  \n",
      " dense_6 (Dense)                (None, 2)            130         ['dense_4[0][0]']                \n",
      "                                                                                                  \n",
      " lambda (Lambda)                (None, 2)            0           ['dense_5[0][0]',                \n",
      "                                                                  'dense_6[0][0]']                \n",
      "                                                                                                  \n",
      "==================================================================================================\n",
      "Total params: 516\n",
      "Trainable params: 516\n",
      "Non-trainable params: 0\n",
      "__________________________________________________________________________________________________\n"
     ]
    }
   ],
   "source": [
    "encoder.summary()"
   ]
  },
  {
   "cell_type": "code",
   "execution_count": 45,
   "id": "836b0062",
   "metadata": {},
   "outputs": [],
   "source": [
    "#Part 2: Creating Decoder\n",
    "#input layer\n",
    "lat_in = Input(shape = (latent_dim,))\n",
    "#hidden layer\n",
    "x = Dense(inter_dim, activation = 'relu')(lat_in)\n",
    "#output layer\n",
    "out = Dense(dim, activation = 'sigmoid')(x)\n",
    "\n",
    "decoder = Model(lat_in, out)\n"
   ]
  },
  {
   "cell_type": "code",
   "execution_count": 46,
   "id": "c6ac5a0c",
   "metadata": {},
   "outputs": [
    {
     "name": "stdout",
     "output_type": "stream",
     "text": [
      "Model: \"model_2\"\n",
      "_________________________________________________________________\n",
      " Layer (type)                Output Shape              Param #   \n",
      "=================================================================\n",
      " input_3 (InputLayer)        [(None, 2)]               0         \n",
      "                                                                 \n",
      " dense_7 (Dense)             (None, 64)                192       \n",
      "                                                                 \n",
      " dense_8 (Dense)             (None, 3)                 195       \n",
      "                                                                 \n",
      "=================================================================\n",
      "Total params: 387\n",
      "Trainable params: 387\n",
      "Non-trainable params: 0\n",
      "_________________________________________________________________\n"
     ]
    }
   ],
   "source": [
    "decoder.summary()"
   ]
  },
  {
   "cell_type": "code",
   "execution_count": 47,
   "id": "4d8422f7",
   "metadata": {},
   "outputs": [],
   "source": [
    "#Combining Encoder and Decoder\n",
    "output = decoder(encoder(vlayer)[2])"
   ]
  },
  {
   "cell_type": "code",
   "execution_count": 48,
   "id": "d03fe107",
   "metadata": {},
   "outputs": [],
   "source": [
    "VarAE = Model(vlayer, output)"
   ]
  },
  {
   "cell_type": "code",
   "execution_count": 49,
   "id": "e5ebb550",
   "metadata": {},
   "outputs": [],
   "source": [
    "reconstruction_loss = BCE(vlayer, output)\n",
    "reconstruction_loss *= dim\n",
    "kl_loss = 1 + z_log_var - K.square(z_mean) - K.exp(z_log_var)\n",
    "kl_loss = K.sum(kl_loss, axis=-1)\n",
    "kl_loss *= -0.5\n",
    "vae_loss = K.mean(reconstruction_loss + kl_loss)\n",
    "VarAE.add_loss(vae_loss)"
   ]
  },
  {
   "cell_type": "code",
   "execution_count": 50,
   "id": "9d746b09",
   "metadata": {},
   "outputs": [],
   "source": [
    "VarAE.compile(optimizer = 'adam')"
   ]
  },
  {
   "cell_type": "code",
   "execution_count": 51,
   "id": "28f8f970",
   "metadata": {},
   "outputs": [
    {
     "name": "stdout",
     "output_type": "stream",
     "text": [
      "Model: \"model_3\"\n",
      "__________________________________________________________________________________________________\n",
      " Layer (type)                   Output Shape         Param #     Connected to                     \n",
      "==================================================================================================\n",
      " input_2 (InputLayer)           [(None, 3)]          0           []                               \n",
      "                                                                                                  \n",
      " model_1 (Functional)           [(None, 2),          516         ['input_2[0][0]']                \n",
      "                                 (None, 2),                                                       \n",
      "                                 (None, 2)]                                                       \n",
      "                                                                                                  \n",
      " model_2 (Functional)           (None, 3)            387         ['model_1[0][2]']                \n",
      "                                                                                                  \n",
      " dense_4 (Dense)                (None, 64)           256         ['input_2[0][0]']                \n",
      "                                                                                                  \n",
      " dense_6 (Dense)                (None, 2)            130         ['dense_4[0][0]']                \n",
      "                                                                                                  \n",
      " dense_5 (Dense)                (None, 2)            130         ['dense_4[0][0]']                \n",
      "                                                                                                  \n",
      " tf.__operators__.add (TFOpLamb  (None, 2)           0           ['dense_6[0][0]']                \n",
      " da)                                                                                              \n",
      "                                                                                                  \n",
      " tf.math.square (TFOpLambda)    (None, 2)            0           ['dense_5[0][0]']                \n",
      "                                                                                                  \n",
      " tf.cast (TFOpLambda)           (None, 3)            0           ['input_2[0][0]']                \n",
      "                                                                                                  \n",
      " tf.convert_to_tensor (TFOpLamb  (None, 3)           0           ['model_2[0][0]']                \n",
      " da)                                                                                              \n",
      "                                                                                                  \n",
      " tf.math.subtract (TFOpLambda)  (None, 2)            0           ['tf.__operators__.add[0][0]',   \n",
      "                                                                  'tf.math.square[0][0]']         \n",
      "                                                                                                  \n",
      " tf.math.exp (TFOpLambda)       (None, 2)            0           ['dense_6[0][0]']                \n",
      "                                                                                                  \n",
      " tf.keras.backend.binary_crosse  (None, 3)           0           ['tf.cast[0][0]',                \n",
      " ntropy (TFOpLambda)                                              'tf.convert_to_tensor[0][0]']   \n",
      "                                                                                                  \n",
      " tf.math.subtract_1 (TFOpLambda  (None, 2)           0           ['tf.math.subtract[0][0]',       \n",
      " )                                                                'tf.math.exp[0][0]']            \n",
      "                                                                                                  \n",
      " tf.math.reduce_mean (TFOpLambd  (None,)             0           ['tf.keras.backend.binary_crossen\n",
      " a)                                                              tropy[0][0]']                    \n",
      "                                                                                                  \n",
      " tf.math.reduce_sum (TFOpLambda  (None,)             0           ['tf.math.subtract_1[0][0]']     \n",
      " )                                                                                                \n",
      "                                                                                                  \n",
      " tf.math.multiply (TFOpLambda)  (None,)              0           ['tf.math.reduce_mean[0][0]']    \n",
      "                                                                                                  \n",
      " tf.math.multiply_1 (TFOpLambda  (None,)             0           ['tf.math.reduce_sum[0][0]']     \n",
      " )                                                                                                \n",
      "                                                                                                  \n",
      " tf.__operators__.add_1 (TFOpLa  (None,)             0           ['tf.math.multiply[0][0]',       \n",
      " mbda)                                                            'tf.math.multiply_1[0][0]']     \n",
      "                                                                                                  \n",
      " tf.math.reduce_mean_1 (TFOpLam  ()                  0           ['tf.__operators__.add_1[0][0]'] \n",
      " bda)                                                                                             \n",
      "                                                                                                  \n",
      " add_loss (AddLoss)             ()                   0           ['tf.math.reduce_mean_1[0][0]']  \n",
      "                                                                                                  \n",
      "==================================================================================================\n",
      "Total params: 903\n",
      "Trainable params: 903\n",
      "Non-trainable params: 0\n",
      "__________________________________________________________________________________________________\n"
     ]
    }
   ],
   "source": [
    "VarAE.summary()"
   ]
  },
  {
   "cell_type": "code",
   "execution_count": 52,
   "id": "1f7c55fa",
   "metadata": {},
   "outputs": [
    {
     "data": {
      "text/plain": [
       "3"
      ]
     },
     "execution_count": 52,
     "metadata": {},
     "output_type": "execute_result"
    }
   ],
   "source": [
    "scX_train.shape[1]"
   ]
  },
  {
   "cell_type": "code",
   "execution_count": 55,
   "id": "943b5d56",
   "metadata": {
    "scrolled": true
   },
   "outputs": [
    {
     "name": "stdout",
     "output_type": "stream",
     "text": [
      "Epoch 1/25\n",
      "204/204 [==============================] - 2s 7ms/step - loss: 1.4583 - val_loss: 1.4462\n",
      "Epoch 2/25\n",
      "204/204 [==============================] - 2s 7ms/step - loss: 1.4581 - val_loss: 1.4453\n",
      "Epoch 3/25\n",
      "204/204 [==============================] - 1s 7ms/step - loss: 1.4590 - val_loss: 1.4506\n",
      "Epoch 4/25\n",
      "204/204 [==============================] - 1s 7ms/step - loss: 1.4599 - val_loss: 1.4457\n",
      "Epoch 5/25\n",
      "204/204 [==============================] - 1s 7ms/step - loss: 1.4583 - val_loss: 1.4483\n",
      "Epoch 6/25\n",
      "204/204 [==============================] - 1s 7ms/step - loss: 1.4584 - val_loss: 1.4494\n",
      "Epoch 7/25\n",
      "204/204 [==============================] - 1s 7ms/step - loss: 1.4582 - val_loss: 1.4462\n",
      "Epoch 8/25\n",
      "204/204 [==============================] - 1s 7ms/step - loss: 1.4576 - val_loss: 1.4458\n",
      "Epoch 9/25\n",
      "204/204 [==============================] - 1s 7ms/step - loss: 1.4579 - val_loss: 1.4447\n",
      "Epoch 10/25\n",
      "204/204 [==============================] - 1s 7ms/step - loss: 1.4583 - val_loss: 1.4455\n",
      "Epoch 11/25\n",
      "204/204 [==============================] - 1s 7ms/step - loss: 1.4582 - val_loss: 1.4465\n",
      "Epoch 12/25\n",
      "204/204 [==============================] - 1s 7ms/step - loss: 1.4570 - val_loss: 1.4440\n",
      "Epoch 13/25\n",
      "204/204 [==============================] - 1s 7ms/step - loss: 1.4556 - val_loss: 1.4476\n",
      "Epoch 14/25\n",
      "204/204 [==============================] - 1s 7ms/step - loss: 1.4573 - val_loss: 1.4462\n",
      "Epoch 15/25\n",
      "204/204 [==============================] - 1s 7ms/step - loss: 1.4565 - val_loss: 1.4460\n",
      "Epoch 16/25\n",
      "204/204 [==============================] - 1s 7ms/step - loss: 1.4562 - val_loss: 1.4450\n",
      "Epoch 17/25\n",
      "204/204 [==============================] - 1s 7ms/step - loss: 1.4586 - val_loss: 1.4455\n",
      "Epoch 18/25\n",
      "204/204 [==============================] - 1s 7ms/step - loss: 1.4552 - val_loss: 1.4474\n",
      "Epoch 19/25\n",
      "204/204 [==============================] - 1s 7ms/step - loss: 1.4582 - val_loss: 1.4419\n",
      "Epoch 20/25\n",
      "204/204 [==============================] - 1s 7ms/step - loss: 1.4581 - val_loss: 1.4448\n",
      "Epoch 21/25\n",
      "204/204 [==============================] - 1s 7ms/step - loss: 1.4551 - val_loss: 1.4448\n",
      "Epoch 22/25\n",
      "204/204 [==============================] - 1s 7ms/step - loss: 1.4579 - val_loss: 1.4457\n",
      "Epoch 23/25\n",
      "204/204 [==============================] - 1s 7ms/step - loss: 1.4562 - val_loss: 1.4462\n",
      "Epoch 24/25\n",
      "204/204 [==============================] - 1s 7ms/step - loss: 1.4567 - val_loss: 1.4460\n",
      "Epoch 25/25\n",
      "204/204 [==============================] - 1s 7ms/step - loss: 1.4578 - val_loss: 1.4446\n"
     ]
    }
   ],
   "source": [
    "#Fitting Variational Autoencoder model to training data\n",
    "modelfit = VarAE.fit(scX_train, scX_train, epochs = 25, batch_size = 16, validation_data = (scX_test, scX_test))"
   ]
  },
  {
   "cell_type": "code",
   "execution_count": 56,
   "id": "dae4d52b",
   "metadata": {
    "scrolled": true
   },
   "outputs": [
    {
     "data": {
      "image/png": "[encoded data removed]",
      "text/plain": [
       "<Figure size 1440x720 with 1 Axes>"
      ]
     },
     "metadata": {
      "needs_background": "light"
     },
     "output_type": "display_data"
    }
   ],
   "source": [
    "predictions = evalmodel(modelfit, VarAE, X_train, X_test)"
   ]
  },
  {
   "cell_type": "markdown",
   "id": "ed60cdb5",
   "metadata": {},
   "source": [
    "# Designing GANs"
   ]
  },
  {
   "cell_type": "code",
   "execution_count": 67,
   "id": "4713c506",
   "metadata": {},
   "outputs": [],
   "source": [
    "class gantrain():\n",
    "    def __init__(self):\n",
    "        self.latent_dim = 32\n",
    "        self.out_shape = 29\n",
    "        self.num_classes = 2\n",
    "        self.clip_value = 0.01\n",
    "        optimizer = Adam(0.0002, 0.5)\n",
    "        #optimizer = RMSprop(lr=0.00005)\n",
    "\n",
    "        # build discriminator\n",
    "        self.discriminator = self.build_discriminator()\n",
    "        self.discriminator.compile(loss=['binary_crossentropy'],\n",
    "                                   optimizer=optimizer,\n",
    "                                   metrics=['accuracy'])\n",
    "\n",
    "        # build generator\n",
    "        self.generator = self.build_generator()\n",
    "\n",
    "        # generating new data samples\n",
    "        noise = Input(shape=(self.latent_dim,))\n",
    "        label = Input(shape=(1,))\n",
    "        gen_samples = self.generator([noise, label])\n",
    "\n",
    "        self.discriminator.trainable = False\n",
    "\n",
    "        # passing gen samples through disc. \n",
    "        valid = self.discriminator([gen_samples, label])\n",
    "\n",
    "        # combining both models\n",
    "        self.combined = Model([noise, label], valid)\n",
    "        self.combined.compile(loss=['binary_crossentropy'],\n",
    "                              optimizer=optimizer,\n",
    "                             metrics=['accuracy'])\n",
    "        self.combined.summary()\n",
    "\n",
    "    def wasserstein_loss(self, y_true, y_pred):\n",
    "        return K.mean(y_true * y_pred)\n",
    "\n",
    "    def build_generator(self):\n",
    "        init = RandomNormal(mean=0.0, stddev=0.02)\n",
    "        model = Sequential()\n",
    "\n",
    "        model.add(Dense(128, input_dim=self.latent_dim))\n",
    "        #model.add(Dropout(0.2))\n",
    "        model.add(lrelu(alpha=0.2))\n",
    "        model.add(BN(momentum=0.8))\n",
    "\n",
    "        model.add(Dense(256))\n",
    "        #model.add(Dropout(0.2))\n",
    "        model.add(lrelu(alpha=0.2))\n",
    "        model.add(BN(momentum=0.8))\n",
    "\n",
    "        model.add(Dense(512))\n",
    "        #model.add(Dropout(0.2))\n",
    "        model.add(lrelu(alpha=0.2))\n",
    "        model.add(BN(momentum=0.8))\n",
    "\n",
    "        model.add(Dense(self.out_shape, activation='tanh'))\n",
    "        model.summary()\n",
    "\n",
    "        noise = Input(shape=(self.latent_dim,))\n",
    "        label = Input(shape=(1,), dtype='int32')\n",
    "        label_embedding = Flatten()(embed(self.num_classes, self.latent_dim)(label))\n",
    "        \n",
    "        model_input = multiply([noise, label_embedding])\n",
    "        gen_sample = model(model_input)\n",
    "\n",
    "        return Model([noise, label], gen_sample, name=\"Generator\")\n",
    "\n",
    "    \n",
    "    def build_discriminator(self):\n",
    "        init = RandomNormal(mean=0.0, stddev=0.02)\n",
    "        model = Sequential()\n",
    "\n",
    "        model.add(Dense(512, input_dim=self.out_shape, kernel_initializer=init))\n",
    "        model.add(lrelu(alpha=0.2))\n",
    "        \n",
    "        model.add(Dense(256, kernel_initializer=init))\n",
    "        model.add(lrelu(alpha=0.2))\n",
    "        model.add(Dropout(0.4))\n",
    "        \n",
    "        model.add(Dense(128, kernel_initializer=init))\n",
    "        model.add(lrelu(alpha=0.2))\n",
    "        model.add(Dropout(0.4))\n",
    "        \n",
    "        model.add(Dense(1, activation='sigmoid'))\n",
    "        model.summary()\n",
    "        \n",
    "        gen_sample = Input(shape=(self.out_shape,))\n",
    "        label = Input(shape=(1,), dtype='int32')\n",
    "        label_embedding = Flatten()(embed(self.num_classes, self.out_shape)(label))\n",
    "\n",
    "        model_input = multiply([gen_sample, label_embedding])\n",
    "        validity = model(model_input)\n",
    "\n",
    "        return Model(inputs=[gen_sample, label], outputs=validity, name=\"Discriminator\")\n",
    "\n",
    "\n",
    "    def train(self, X_train, y_train, pos_index, neg_index, epochs, batch_size=32, sample_interval=50):\n",
    "\n",
    "        # Adversarial ground truths\n",
    "        valid = np.ones((batch_size, 1))\n",
    "        fake = np.zeros((batch_size, 1))\n",
    "\n",
    "        for epoch in range(epochs):\n",
    "            \n",
    "            #  Train Discriminator with 8 sample from postivite class and rest with negative class\n",
    "            idx1 = np.random.choice(pos_index, 8)\n",
    "            idx0 = np.random.choice(neg_index, batch_size-8)\n",
    "            idx = np.concatenate((idx1, idx0))\n",
    "            samples, labels = X_train[idx], y_train[idx]\n",
    "            samples, labels = np.random.shuffle(samples, labels)\n",
    "            # Sample noise as generator input\n",
    "            noise = np.random.normal(0, 1, (batch_size, self.latent_dim))\n",
    "\n",
    "            # Generate a half batch of new labels\n",
    "            gen_samples = self.generator.predict([noise, labels])\n",
    "\n",
    "            # label smoothing\n",
    "            if epoch < epochs//1.5:\n",
    "                valid_smooth = (valid+0.1)-(np.random.random(valid.shape)*0.1)\n",
    "                fake_smooth = (fake-0.1)+(np.random.random(fake.shape)*0.1)\n",
    "            else:\n",
    "                valid_smooth = valid \n",
    "                fake_smooth = fake\n",
    "                \n",
    "            # Train the discriminator\n",
    "            self.discriminator.trainable = True\n",
    "            d_loss_real = self.discriminator.train_on_batch([samples, labels], valid_smooth)\n",
    "            d_loss_fake = self.discriminator.train_on_batch([gen_samples, labels], fake_smooth)\n",
    "            d_loss = 0.5 * np.add(d_loss_real, d_loss_fake)\n",
    "\n",
    "            # Train Generator\n",
    "            # Condition on labels\n",
    "            self.discriminator.trainable = False\n",
    "            sampled_labels = np.random.randint(0, 2, batch_size).reshape(-1, 1)\n",
    "            # Train the generator\n",
    "            g_loss = self.combined.train_on_batch([noise, sampled_labels], valid)\n",
    "\n",
    "            # Plot the progress\n",
    "            if (epoch+1)%sample_interval==0:\n",
    "                print (f\"{epoch} [D loss: {d_loss[0]}, acc.: {100*d_loss[1]}] [G loss: {g_loss}]\")"
   ]
  },
  {
   "cell_type": "code",
   "execution_count": 68,
   "id": "6a1324fd",
   "metadata": {
    "scrolled": true
   },
   "outputs": [
    {
     "name": "stdout",
     "output_type": "stream",
     "text": [
      "Model: \"sequential_2\"\n",
      "_________________________________________________________________\n",
      " Layer (type)                Output Shape              Param #   \n",
      "=================================================================\n",
      " dense_17 (Dense)            (None, 512)               15360     \n",
      "                                                                 \n",
      " leaky_re_lu_6 (LeakyReLU)   (None, 512)               0         \n",
      "                                                                 \n",
      " dense_18 (Dense)            (None, 256)               131328    \n",
      "                                                                 \n",
      " leaky_re_lu_7 (LeakyReLU)   (None, 256)               0         \n",
      "                                                                 \n",
      " dropout_2 (Dropout)         (None, 256)               0         \n",
      "                                                                 \n",
      " dense_19 (Dense)            (None, 128)               32896     \n",
      "                                                                 \n",
      " leaky_re_lu_8 (LeakyReLU)   (None, 128)               0         \n",
      "                                                                 \n",
      " dropout_3 (Dropout)         (None, 128)               0         \n",
      "                                                                 \n",
      " dense_20 (Dense)            (None, 1)                 129       \n",
      "                                                                 \n",
      "=================================================================\n",
      "Total params: 179,713\n",
      "Trainable params: 179,713\n",
      "Non-trainable params: 0\n",
      "_________________________________________________________________\n",
      "Model: \"sequential_3\"\n",
      "_________________________________________________________________\n",
      " Layer (type)                Output Shape              Param #   \n",
      "=================================================================\n",
      " dense_21 (Dense)            (None, 128)               4224      \n",
      "                                                                 \n",
      " leaky_re_lu_9 (LeakyReLU)   (None, 128)               0         \n",
      "                                                                 \n",
      " batch_normalization_5 (Batc  (None, 128)              512       \n",
      " hNormalization)                                                 \n",
      "                                                                 \n",
      " dense_22 (Dense)            (None, 256)               33024     \n",
      "                                                                 \n",
      " leaky_re_lu_10 (LeakyReLU)  (None, 256)               0         \n",
      "                                                                 \n",
      " batch_normalization_6 (Batc  (None, 256)              1024      \n",
      " hNormalization)                                                 \n",
      "                                                                 \n",
      " dense_23 (Dense)            (None, 512)               131584    \n",
      "                                                                 \n",
      " leaky_re_lu_11 (LeakyReLU)  (None, 512)               0         \n",
      "                                                                 \n",
      " batch_normalization_7 (Batc  (None, 512)              2048      \n",
      " hNormalization)                                                 \n",
      "                                                                 \n",
      " dense_24 (Dense)            (None, 29)                14877     \n",
      "                                                                 \n",
      "=================================================================\n",
      "Total params: 187,293\n",
      "Trainable params: 185,501\n",
      "Non-trainable params: 1,792\n",
      "_________________________________________________________________\n",
      "Model: \"model_5\"\n",
      "__________________________________________________________________________________________________\n",
      " Layer (type)                   Output Shape         Param #     Connected to                     \n",
      "==================================================================================================\n",
      " input_14 (InputLayer)          [(None, 32)]         0           []                               \n",
      "                                                                                                  \n",
      " input_15 (InputLayer)          [(None, 1)]          0           []                               \n",
      "                                                                                                  \n",
      " Generator (Functional)         (None, 29)           187357      ['input_14[0][0]',               \n",
      "                                                                  'input_15[0][0]']               \n",
      "                                                                                                  \n",
      " Discriminator (Functional)     (None, 1)            179771      ['Generator[0][0]',              \n",
      "                                                                  'input_15[0][0]']               \n",
      "                                                                                                  \n",
      "==================================================================================================\n",
      "Total params: 367,128\n",
      "Trainable params: 185,565\n",
      "Non-trainable params: 181,563\n",
      "__________________________________________________________________________________________________\n"
     ]
    }
   ],
   "source": [
    "GAN = gantrain()"
   ]
  },
  {
   "cell_type": "code",
   "execution_count": 69,
   "id": "98ccf986",
   "metadata": {},
   "outputs": [],
   "source": [
    "y_train = y_train.reshape(-1,1)"
   ]
  },
  {
   "cell_type": "code",
   "execution_count": 70,
   "id": "236c64ce",
   "metadata": {},
   "outputs": [
    {
     "ename": "TypeError",
     "evalue": "RandomState.shuffle() takes exactly one argument (2 given)",
     "output_type": "error",
     "traceback": [
      "\u001b[1;31m---------------------------------------------------------------------------\u001b[0m",
      "\u001b[1;31mTypeError\u001b[0m                                 Traceback (most recent call last)",
      "\u001b[1;32m~\\AppData\\Local\\Temp/ipykernel_2920/2266903896.py\u001b[0m in \u001b[0;36m<module>\u001b[1;34m\u001b[0m\n\u001b[0;32m      5\u001b[0m \u001b[0mneg_index\u001b[0m \u001b[1;33m=\u001b[0m \u001b[0mnp\u001b[0m\u001b[1;33m.\u001b[0m\u001b[0mwhere\u001b[0m\u001b[1;33m(\u001b[0m\u001b[0my_train\u001b[0m\u001b[1;33m==\u001b[0m\u001b[1;36m0\u001b[0m\u001b[1;33m)\u001b[0m\u001b[1;33m[\u001b[0m\u001b[1;36m0\u001b[0m\u001b[1;33m]\u001b[0m\u001b[1;33m\u001b[0m\u001b[1;33m\u001b[0m\u001b[0m\n\u001b[0;32m      6\u001b[0m \u001b[1;33m\u001b[0m\u001b[0m\n\u001b[1;32m----> 7\u001b[1;33m \u001b[0mGAN\u001b[0m\u001b[1;33m.\u001b[0m\u001b[0mtrain\u001b[0m\u001b[1;33m(\u001b[0m\u001b[0mX_train\u001b[0m\u001b[1;33m,\u001b[0m \u001b[0my_train\u001b[0m\u001b[1;33m,\u001b[0m \u001b[0mpos_index\u001b[0m\u001b[1;33m,\u001b[0m \u001b[0mneg_index\u001b[0m\u001b[1;33m,\u001b[0m \u001b[1;36m2000\u001b[0m\u001b[1;33m,\u001b[0m \u001b[0mbatch_size\u001b[0m\u001b[1;33m=\u001b[0m\u001b[1;36m32\u001b[0m\u001b[1;33m,\u001b[0m \u001b[0msample_interval\u001b[0m\u001b[1;33m=\u001b[0m\u001b[1;36m50\u001b[0m\u001b[1;33m)\u001b[0m\u001b[1;33m\u001b[0m\u001b[1;33m\u001b[0m\u001b[0m\n\u001b[0m",
      "\u001b[1;32m~\\AppData\\Local\\Temp/ipykernel_2920/463787769.py\u001b[0m in \u001b[0;36mtrain\u001b[1;34m(self, X_train, y_train, pos_index, neg_index, epochs, batch_size, sample_interval)\u001b[0m\n\u001b[0;32m    110\u001b[0m             \u001b[0midx\u001b[0m \u001b[1;33m=\u001b[0m \u001b[0mnp\u001b[0m\u001b[1;33m.\u001b[0m\u001b[0mconcatenate\u001b[0m\u001b[1;33m(\u001b[0m\u001b[1;33m(\u001b[0m\u001b[0midx1\u001b[0m\u001b[1;33m,\u001b[0m \u001b[0midx0\u001b[0m\u001b[1;33m)\u001b[0m\u001b[1;33m)\u001b[0m\u001b[1;33m\u001b[0m\u001b[1;33m\u001b[0m\u001b[0m\n\u001b[0;32m    111\u001b[0m             \u001b[0msamples\u001b[0m\u001b[1;33m,\u001b[0m \u001b[0mlabels\u001b[0m \u001b[1;33m=\u001b[0m \u001b[0mX_train\u001b[0m\u001b[1;33m[\u001b[0m\u001b[0midx\u001b[0m\u001b[1;33m]\u001b[0m\u001b[1;33m,\u001b[0m \u001b[0my_train\u001b[0m\u001b[1;33m[\u001b[0m\u001b[0midx\u001b[0m\u001b[1;33m]\u001b[0m\u001b[1;33m\u001b[0m\u001b[1;33m\u001b[0m\u001b[0m\n\u001b[1;32m--> 112\u001b[1;33m             \u001b[0msamples\u001b[0m\u001b[1;33m,\u001b[0m \u001b[0mlabels\u001b[0m \u001b[1;33m=\u001b[0m \u001b[0mnp\u001b[0m\u001b[1;33m.\u001b[0m\u001b[0mrandom\u001b[0m\u001b[1;33m.\u001b[0m\u001b[0mshuffle\u001b[0m\u001b[1;33m(\u001b[0m\u001b[0msamples\u001b[0m\u001b[1;33m,\u001b[0m \u001b[0mlabels\u001b[0m\u001b[1;33m)\u001b[0m\u001b[1;33m\u001b[0m\u001b[1;33m\u001b[0m\u001b[0m\n\u001b[0m\u001b[0;32m    113\u001b[0m             \u001b[1;31m# Sample noise as generator input\u001b[0m\u001b[1;33m\u001b[0m\u001b[1;33m\u001b[0m\u001b[0m\n\u001b[0;32m    114\u001b[0m             \u001b[0mnoise\u001b[0m \u001b[1;33m=\u001b[0m \u001b[0mnp\u001b[0m\u001b[1;33m.\u001b[0m\u001b[0mrandom\u001b[0m\u001b[1;33m.\u001b[0m\u001b[0mnormal\u001b[0m\u001b[1;33m(\u001b[0m\u001b[1;36m0\u001b[0m\u001b[1;33m,\u001b[0m \u001b[1;36m1\u001b[0m\u001b[1;33m,\u001b[0m \u001b[1;33m(\u001b[0m\u001b[0mbatch_size\u001b[0m\u001b[1;33m,\u001b[0m \u001b[0mself\u001b[0m\u001b[1;33m.\u001b[0m\u001b[0mlatent_dim\u001b[0m\u001b[1;33m)\u001b[0m\u001b[1;33m)\u001b[0m\u001b[1;33m\u001b[0m\u001b[1;33m\u001b[0m\u001b[0m\n",
      "\u001b[1;31mTypeError\u001b[0m: RandomState.shuffle() takes exactly one argument (2 given)"
     ]
    }
   ],
   "source": [
    "\n",
    "iterations = 15000\n",
    "batch_size = 100\n",
    "sample_interval = 750\n",
    "pos_index = np.where(y_train==1)[0]\n",
    "neg_index = np.where(y_train==0)[0]\n",
    "\n",
    "GAN.train(X_train, y_train, pos_index, neg_index, 2000, batch_size=32, sample_interval=50)\n",
    "#unusual problem with the function. "
   ]
  },
  {
   "cell_type": "markdown",
   "id": "a80b9847",
   "metadata": {},
   "source": [
    "Using both the Autoencoders and Variational Autoencoders supplied and us with good models which reduced the error overall. However, the Variational Autoencoder performed worse than the vanilla autoencoder. \n",
    "\n",
    "The GAN Model, though generated, didn't supply us with a result due to coding errors. "
   ]
  }
 ],
 "metadata": {
  "kernelspec": {
   "display_name": "Python 3 (ipykernel)",
   "language": "python",
   "name": "python3"
  },
  "language_info": {
   "codemirror_mode": {
    "name": "ipython",
    "version": 3
   },
   "file_extension": ".py",
   "mimetype": "text/x-python",
   "name": "python",
   "nbconvert_exporter": "python",
   "pygments_lexer": "ipython3",
   "version": "3.9.7"
  }
 },
 "nbformat": 4,
 "nbformat_minor": 5
}
