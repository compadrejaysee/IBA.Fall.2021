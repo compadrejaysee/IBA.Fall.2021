{
 "cells": [
  {
   "cell_type": "markdown",
   "metadata": {
    "colab_type": "text",
    "id": "woGbDlTgOco_"
   },
   "source": [
    "# GAN\n"
   ]
  },
  {
   "cell_type": "code",
   "execution_count": 10,
   "metadata": {
    "colab": {
     "base_uri": "https://localhost:8080/",
     "height": 101
    },
    "colab_type": "code",
    "id": "mxG3Hnm3NPeU",
    "outputId": "fdb1dd8e-d115-4057-a90f-4b5e5ded60c9"
   },
   "outputs": [
    {
     "name": "stderr",
     "output_type": "stream",
     "text": [
      "UsageError: Line magic function `%tensorflow_version` not found.\n"
     ]
    }
   ],
   "source": [
    "#imports\n",
    "import pandas as pd\n",
    "import numpy as np\n",
    "import matplotlib.pyplot as plt\n",
    "import seaborn as sns\n",
    "%matplotlib inline\n",
    "\n",
    "import tensorflow as tf\n",
    "%tensorflow_version 1.x\n",
    "print(tf.__version__)\n",
    "\n",
    "import warnings\n",
    "warnings.filterwarnings(\"ignore\")\n",
    "\n"
   ]
  },
  {
   "cell_type": "code",
   "execution_count": 31,
   "metadata": {},
   "outputs": [],
   "source": [
    "from keras.layers import Input, Dense, Reshape, Flatten, Dropout, BatchNormalization, Embedding\n",
    "from keras.layers.advanced_activations import LeakyReLU\n",
    "from keras.layers.merge import concatenate\n",
    "from keras.models import Sequential, Model\n",
    "#from keras.optimizers import Adam\n",
    "#from keras.utils import to_categorical\n",
    "from keras.layers.advanced_activations import LeakyReLU\n",
    "from keras.utils.vis_utils import plot_model\n",
    "from sklearn.preprocessing import MinMaxScaler, OneHotEncoder, LabelEncoder\n",
    "import scipy.stats"
   ]
  },
  {
   "cell_type": "markdown",
   "metadata": {
    "colab_type": "text",
    "id": "Zwq1ytb7OwGO"
   },
   "source": [
    "### Dataframe\n"
   ]
  },
  {
   "cell_type": "code",
   "execution_count": 6,
   "metadata": {
    "colab": {
     "base_uri": "https://localhost:8080/",
     "height": 424
    },
    "colab_type": "code",
    "id": "ufpLTQy1OBuP",
    "outputId": "d48b8d79-782c-421c-bddb-4fe2540b98fe"
   },
   "outputs": [
    {
     "data": {
      "text/html": [
       "<div>\n",
       "<style scoped>\n",
       "    .dataframe tbody tr th:only-of-type {\n",
       "        vertical-align: middle;\n",
       "    }\n",
       "\n",
       "    .dataframe tbody tr th {\n",
       "        vertical-align: top;\n",
       "    }\n",
       "\n",
       "    .dataframe thead th {\n",
       "        text-align: right;\n",
       "    }\n",
       "</style>\n",
       "<table border=\"1\" class=\"dataframe\">\n",
       "  <thead>\n",
       "    <tr style=\"text-align: right;\">\n",
       "      <th></th>\n",
       "      <th>patient_id</th>\n",
       "      <th>Gender</th>\n",
       "      <th>Height</th>\n",
       "      <th>Weight</th>\n",
       "      <th>bmi</th>\n",
       "      <th>bmi_class</th>\n",
       "      <th>2017</th>\n",
       "      <th>2018</th>\n",
       "      <th>2019</th>\n",
       "      <th>2020</th>\n",
       "    </tr>\n",
       "  </thead>\n",
       "  <tbody>\n",
       "    <tr>\n",
       "      <th>0</th>\n",
       "      <td>90329</td>\n",
       "      <td>Male</td>\n",
       "      <td>1.875714</td>\n",
       "      <td>109.721075</td>\n",
       "      <td>31.19</td>\n",
       "      <td>severely overweight</td>\n",
       "      <td>laakarikaynti 2</td>\n",
       "      <td>laakarikaynti 4</td>\n",
       "      <td>laakarikaynti 2</td>\n",
       "      <td>laakarikaynti 1</td>\n",
       "    </tr>\n",
       "    <tr>\n",
       "      <th>1</th>\n",
       "      <td>82793</td>\n",
       "      <td>Male</td>\n",
       "      <td>1.747060</td>\n",
       "      <td>73.622792</td>\n",
       "      <td>24.12</td>\n",
       "      <td>healthy</td>\n",
       "      <td>ei jatkotoimenpiteita</td>\n",
       "      <td>laakarikaynti 1</td>\n",
       "      <td>ei jatkotoimenpiteita</td>\n",
       "      <td>ei jatkotoimenpiteita</td>\n",
       "    </tr>\n",
       "    <tr>\n",
       "      <th>2</th>\n",
       "      <td>98691</td>\n",
       "      <td>Male</td>\n",
       "      <td>1.882397</td>\n",
       "      <td>96.497629</td>\n",
       "      <td>27.23</td>\n",
       "      <td>overweight</td>\n",
       "      <td>laakarikaynti 2</td>\n",
       "      <td>laakarikaynti 1</td>\n",
       "      <td>laakarikaynti 1</td>\n",
       "      <td>laakarikaynti 2</td>\n",
       "    </tr>\n",
       "    <tr>\n",
       "      <th>3</th>\n",
       "      <td>20430</td>\n",
       "      <td>Male</td>\n",
       "      <td>1.821967</td>\n",
       "      <td>99.809586</td>\n",
       "      <td>30.07</td>\n",
       "      <td>severely overweight</td>\n",
       "      <td>laakarikaynti 1</td>\n",
       "      <td>ei jatkotoimenpiteita</td>\n",
       "      <td>laakarikaynti 2</td>\n",
       "      <td>ei jatkotoimenpiteita</td>\n",
       "    </tr>\n",
       "    <tr>\n",
       "      <th>4</th>\n",
       "      <td>96554</td>\n",
       "      <td>Male</td>\n",
       "      <td>1.774998</td>\n",
       "      <td>93.598695</td>\n",
       "      <td>29.71</td>\n",
       "      <td>overweight</td>\n",
       "      <td>laakarikaynti 4</td>\n",
       "      <td>laakarikaynti 4</td>\n",
       "      <td>laakarikaynti 4</td>\n",
       "      <td>laakarikaynti 3</td>\n",
       "    </tr>\n",
       "    <tr>\n",
       "      <th>...</th>\n",
       "      <td>...</td>\n",
       "      <td>...</td>\n",
       "      <td>...</td>\n",
       "      <td>...</td>\n",
       "      <td>...</td>\n",
       "      <td>...</td>\n",
       "      <td>...</td>\n",
       "      <td>...</td>\n",
       "      <td>...</td>\n",
       "      <td>...</td>\n",
       "    </tr>\n",
       "    <tr>\n",
       "      <th>9995</th>\n",
       "      <td>51506</td>\n",
       "      <td>Female</td>\n",
       "      <td>1.680785</td>\n",
       "      <td>62.041210</td>\n",
       "      <td>21.96</td>\n",
       "      <td>healthy</td>\n",
       "      <td>ei jatkotoimenpiteita</td>\n",
       "      <td>ei jatkotoimenpiteita</td>\n",
       "      <td>laakarikaynti 1</td>\n",
       "      <td>ei jatkotoimenpiteita</td>\n",
       "    </tr>\n",
       "    <tr>\n",
       "      <th>9996</th>\n",
       "      <td>38900</td>\n",
       "      <td>Female</td>\n",
       "      <td>1.703506</td>\n",
       "      <td>77.504378</td>\n",
       "      <td>26.71</td>\n",
       "      <td>overweight</td>\n",
       "      <td>laakarikaynti 3</td>\n",
       "      <td>laakarikaynti 2</td>\n",
       "      <td>laakarikaynti 4</td>\n",
       "      <td>ei jatkotoimenpiteita</td>\n",
       "    </tr>\n",
       "    <tr>\n",
       "      <th>9997</th>\n",
       "      <td>26718</td>\n",
       "      <td>Female</td>\n",
       "      <td>1.622247</td>\n",
       "      <td>58.275424</td>\n",
       "      <td>22.14</td>\n",
       "      <td>healthy</td>\n",
       "      <td>ei jatkotoimenpiteita</td>\n",
       "      <td>ei jatkotoimenpiteita</td>\n",
       "      <td>ei jatkotoimenpiteita</td>\n",
       "      <td>laakarikaynti 1</td>\n",
       "    </tr>\n",
       "    <tr>\n",
       "      <th>9998</th>\n",
       "      <td>67447</td>\n",
       "      <td>Female</td>\n",
       "      <td>1.753470</td>\n",
       "      <td>74.322226</td>\n",
       "      <td>24.17</td>\n",
       "      <td>healthy</td>\n",
       "      <td>ei jatkotoimenpiteita</td>\n",
       "      <td>laakarikaynti 1</td>\n",
       "      <td>laakarikaynti 1</td>\n",
       "      <td>ei jatkotoimenpiteita</td>\n",
       "    </tr>\n",
       "    <tr>\n",
       "      <th>9999</th>\n",
       "      <td>70063</td>\n",
       "      <td>Female</td>\n",
       "      <td>1.573384</td>\n",
       "      <td>51.550366</td>\n",
       "      <td>20.82</td>\n",
       "      <td>healthy</td>\n",
       "      <td>ei jatkotoimenpiteita</td>\n",
       "      <td>ei jatkotoimenpiteita</td>\n",
       "      <td>ei jatkotoimenpiteita</td>\n",
       "      <td>ei jatkotoimenpiteita</td>\n",
       "    </tr>\n",
       "  </tbody>\n",
       "</table>\n",
       "<p>10000 rows × 10 columns</p>\n",
       "</div>"
      ],
      "text/plain": [
       "      patient_id  Gender    Height      Weight    bmi            bmi_class  \\\n",
       "0          90329    Male  1.875714  109.721075  31.19  severely overweight   \n",
       "1          82793    Male  1.747060   73.622792  24.12              healthy   \n",
       "2          98691    Male  1.882397   96.497629  27.23           overweight   \n",
       "3          20430    Male  1.821967   99.809586  30.07  severely overweight   \n",
       "4          96554    Male  1.774998   93.598695  29.71           overweight   \n",
       "...          ...     ...       ...         ...    ...                  ...   \n",
       "9995       51506  Female  1.680785   62.041210  21.96              healthy   \n",
       "9996       38900  Female  1.703506   77.504378  26.71           overweight   \n",
       "9997       26718  Female  1.622247   58.275424  22.14              healthy   \n",
       "9998       67447  Female  1.753470   74.322226  24.17              healthy   \n",
       "9999       70063  Female  1.573384   51.550366  20.82              healthy   \n",
       "\n",
       "                       2017                   2018                   2019  \\\n",
       "0           laakarikaynti 2        laakarikaynti 4        laakarikaynti 2   \n",
       "1     ei jatkotoimenpiteita        laakarikaynti 1  ei jatkotoimenpiteita   \n",
       "2           laakarikaynti 2        laakarikaynti 1        laakarikaynti 1   \n",
       "3           laakarikaynti 1  ei jatkotoimenpiteita        laakarikaynti 2   \n",
       "4           laakarikaynti 4        laakarikaynti 4        laakarikaynti 4   \n",
       "...                     ...                    ...                    ...   \n",
       "9995  ei jatkotoimenpiteita  ei jatkotoimenpiteita        laakarikaynti 1   \n",
       "9996        laakarikaynti 3        laakarikaynti 2        laakarikaynti 4   \n",
       "9997  ei jatkotoimenpiteita  ei jatkotoimenpiteita  ei jatkotoimenpiteita   \n",
       "9998  ei jatkotoimenpiteita        laakarikaynti 1        laakarikaynti 1   \n",
       "9999  ei jatkotoimenpiteita  ei jatkotoimenpiteita  ei jatkotoimenpiteita   \n",
       "\n",
       "                       2020  \n",
       "0           laakarikaynti 1  \n",
       "1     ei jatkotoimenpiteita  \n",
       "2           laakarikaynti 2  \n",
       "3     ei jatkotoimenpiteita  \n",
       "4           laakarikaynti 3  \n",
       "...                     ...  \n",
       "9995  ei jatkotoimenpiteita  \n",
       "9996  ei jatkotoimenpiteita  \n",
       "9997        laakarikaynti 1  \n",
       "9998  ei jatkotoimenpiteita  \n",
       "9999  ei jatkotoimenpiteita  \n",
       "\n",
       "[10000 rows x 10 columns]"
      ]
     },
     "execution_count": 6,
     "metadata": {},
     "output_type": "execute_result"
    }
   ],
   "source": [
    "df = pd.read_csv(\"bmi_data_events.csv\")\n",
    "df"
   ]
  },
  {
   "cell_type": "markdown",
   "metadata": {
    "colab_type": "text",
    "id": "RF9UI98At095"
   },
   "source": [
    "#### Categorical and numerical data"
   ]
  },
  {
   "cell_type": "code",
   "execution_count": 7,
   "metadata": {
    "colab": {
     "base_uri": "https://localhost:8080/",
     "height": 424
    },
    "colab_type": "code",
    "id": "QsFdYRYMtmju",
    "outputId": "a5e51122-4489-44cd-baac-2ca64f946a89"
   },
   "outputs": [
    {
     "data": {
      "text/html": [
       "<div>\n",
       "<style scoped>\n",
       "    .dataframe tbody tr th:only-of-type {\n",
       "        vertical-align: middle;\n",
       "    }\n",
       "\n",
       "    .dataframe tbody tr th {\n",
       "        vertical-align: top;\n",
       "    }\n",
       "\n",
       "    .dataframe thead th {\n",
       "        text-align: right;\n",
       "    }\n",
       "</style>\n",
       "<table border=\"1\" class=\"dataframe\">\n",
       "  <thead>\n",
       "    <tr style=\"text-align: right;\">\n",
       "      <th></th>\n",
       "      <th>patient_id</th>\n",
       "      <th>Height</th>\n",
       "      <th>Weight</th>\n",
       "      <th>bmi</th>\n",
       "    </tr>\n",
       "  </thead>\n",
       "  <tbody>\n",
       "    <tr>\n",
       "      <th>0</th>\n",
       "      <td>90329</td>\n",
       "      <td>1.875714</td>\n",
       "      <td>109.721075</td>\n",
       "      <td>31.19</td>\n",
       "    </tr>\n",
       "    <tr>\n",
       "      <th>1</th>\n",
       "      <td>82793</td>\n",
       "      <td>1.747060</td>\n",
       "      <td>73.622792</td>\n",
       "      <td>24.12</td>\n",
       "    </tr>\n",
       "    <tr>\n",
       "      <th>2</th>\n",
       "      <td>98691</td>\n",
       "      <td>1.882397</td>\n",
       "      <td>96.497629</td>\n",
       "      <td>27.23</td>\n",
       "    </tr>\n",
       "    <tr>\n",
       "      <th>3</th>\n",
       "      <td>20430</td>\n",
       "      <td>1.821967</td>\n",
       "      <td>99.809586</td>\n",
       "      <td>30.07</td>\n",
       "    </tr>\n",
       "    <tr>\n",
       "      <th>4</th>\n",
       "      <td>96554</td>\n",
       "      <td>1.774998</td>\n",
       "      <td>93.598695</td>\n",
       "      <td>29.71</td>\n",
       "    </tr>\n",
       "    <tr>\n",
       "      <th>...</th>\n",
       "      <td>...</td>\n",
       "      <td>...</td>\n",
       "      <td>...</td>\n",
       "      <td>...</td>\n",
       "    </tr>\n",
       "    <tr>\n",
       "      <th>9995</th>\n",
       "      <td>51506</td>\n",
       "      <td>1.680785</td>\n",
       "      <td>62.041210</td>\n",
       "      <td>21.96</td>\n",
       "    </tr>\n",
       "    <tr>\n",
       "      <th>9996</th>\n",
       "      <td>38900</td>\n",
       "      <td>1.703506</td>\n",
       "      <td>77.504378</td>\n",
       "      <td>26.71</td>\n",
       "    </tr>\n",
       "    <tr>\n",
       "      <th>9997</th>\n",
       "      <td>26718</td>\n",
       "      <td>1.622247</td>\n",
       "      <td>58.275424</td>\n",
       "      <td>22.14</td>\n",
       "    </tr>\n",
       "    <tr>\n",
       "      <th>9998</th>\n",
       "      <td>67447</td>\n",
       "      <td>1.753470</td>\n",
       "      <td>74.322226</td>\n",
       "      <td>24.17</td>\n",
       "    </tr>\n",
       "    <tr>\n",
       "      <th>9999</th>\n",
       "      <td>70063</td>\n",
       "      <td>1.573384</td>\n",
       "      <td>51.550366</td>\n",
       "      <td>20.82</td>\n",
       "    </tr>\n",
       "  </tbody>\n",
       "</table>\n",
       "<p>10000 rows × 4 columns</p>\n",
       "</div>"
      ],
      "text/plain": [
       "      patient_id    Height      Weight    bmi\n",
       "0          90329  1.875714  109.721075  31.19\n",
       "1          82793  1.747060   73.622792  24.12\n",
       "2          98691  1.882397   96.497629  27.23\n",
       "3          20430  1.821967   99.809586  30.07\n",
       "4          96554  1.774998   93.598695  29.71\n",
       "...          ...       ...         ...    ...\n",
       "9995       51506  1.680785   62.041210  21.96\n",
       "9996       38900  1.703506   77.504378  26.71\n",
       "9997       26718  1.622247   58.275424  22.14\n",
       "9998       67447  1.753470   74.322226  24.17\n",
       "9999       70063  1.573384   51.550366  20.82\n",
       "\n",
       "[10000 rows x 4 columns]"
      ]
     },
     "execution_count": 7,
     "metadata": {},
     "output_type": "execute_result"
    }
   ],
   "source": [
    "numerical_data = df.select_dtypes(\"number\")\n",
    "categorical_data = df.select_dtypes(\"object\")\n",
    "numerical_data"
   ]
  },
  {
   "cell_type": "markdown",
   "metadata": {
    "colab_type": "text",
    "id": "WmMK-rRqPBr0"
   },
   "source": [
    "### Data preprocessing"
   ]
  },
  {
   "cell_type": "markdown",
   "metadata": {
    "colab_type": "text",
    "id": "rz1TabhsBVNZ"
   },
   "source": [
    "#### numerical data"
   ]
  },
  {
   "cell_type": "code",
   "execution_count": 14,
   "metadata": {},
   "outputs": [],
   "source": [
    "from sklearn.preprocessing import MinMaxScaler"
   ]
  },
  {
   "cell_type": "code",
   "execution_count": 15,
   "metadata": {
    "colab": {
     "base_uri": "https://localhost:8080/",
     "height": 146
    },
    "colab_type": "code",
    "id": "mKPbaDhDkv4L",
    "outputId": "b7385931-6c31-42f7-fa9c-8d446d655f32"
   },
   "outputs": [
    {
     "data": {
      "text/plain": [
       "array([[0.90343165, 0.79172838, 0.863139  , 0.89533561],\n",
       "       [0.82805733, 0.58695829, 0.4754764 , 0.49317406],\n",
       "       [0.98706754, 0.8023644 , 0.72113127, 0.67007964],\n",
       "       ...,\n",
       "       [0.26720077, 0.38830089, 0.31065968, 0.38054608],\n",
       "       [0.67456817, 0.59715974, 0.48298768, 0.4960182 ],\n",
       "       [0.70073314, 0.31052854, 0.23843869, 0.30546075]])"
      ]
     },
     "execution_count": 15,
     "metadata": {},
     "output_type": "execute_result"
    }
   ],
   "source": [
    "#Rescaleing data between 0-1\n",
    "mms = MinMaxScaler()\n",
    "numerical_data_rescaled = mms.fit_transform(numerical_data)\n",
    "numerical_data_rescaled"
   ]
  },
  {
   "cell_type": "markdown",
   "metadata": {
    "colab_type": "text",
    "id": "fPokXfFWP32f"
   },
   "source": [
    "#### Categorical data"
   ]
  },
  {
   "cell_type": "code",
   "execution_count": 16,
   "metadata": {
    "colab": {
     "base_uri": "https://localhost:8080/",
     "height": 461
    },
    "colab_type": "code",
    "id": "yuG10X3QzO2L",
    "outputId": "fd4c64b1-98c8-4a40-cd79-9584a810c819"
   },
   "outputs": [
    {
     "data": {
      "text/html": [
       "<div>\n",
       "<style scoped>\n",
       "    .dataframe tbody tr th:only-of-type {\n",
       "        vertical-align: middle;\n",
       "    }\n",
       "\n",
       "    .dataframe tbody tr th {\n",
       "        vertical-align: top;\n",
       "    }\n",
       "\n",
       "    .dataframe thead th {\n",
       "        text-align: right;\n",
       "    }\n",
       "</style>\n",
       "<table border=\"1\" class=\"dataframe\">\n",
       "  <thead>\n",
       "    <tr style=\"text-align: right;\">\n",
       "      <th></th>\n",
       "      <th>Gender_Female</th>\n",
       "      <th>Gender_Male</th>\n",
       "      <th>bmi_class_healthy</th>\n",
       "      <th>bmi_class_overweight</th>\n",
       "      <th>bmi_class_severely overweight</th>\n",
       "      <th>bmi_class_underweight</th>\n",
       "      <th>2017_ei jatkotoimenpiteita</th>\n",
       "      <th>2017_laakarikaynti 1</th>\n",
       "      <th>2017_laakarikaynti 2</th>\n",
       "      <th>2017_laakarikaynti 3</th>\n",
       "      <th>...</th>\n",
       "      <th>2019_ei jatkotoimenpiteita</th>\n",
       "      <th>2019_laakarikaynti 1</th>\n",
       "      <th>2019_laakarikaynti 2</th>\n",
       "      <th>2019_laakarikaynti 3</th>\n",
       "      <th>2019_laakarikaynti 4</th>\n",
       "      <th>2020_ei jatkotoimenpiteita</th>\n",
       "      <th>2020_laakarikaynti 1</th>\n",
       "      <th>2020_laakarikaynti 2</th>\n",
       "      <th>2020_laakarikaynti 3</th>\n",
       "      <th>2020_laakarikaynti 4</th>\n",
       "    </tr>\n",
       "  </thead>\n",
       "  <tbody>\n",
       "    <tr>\n",
       "      <th>0</th>\n",
       "      <td>0</td>\n",
       "      <td>1</td>\n",
       "      <td>0</td>\n",
       "      <td>0</td>\n",
       "      <td>1</td>\n",
       "      <td>0</td>\n",
       "      <td>0</td>\n",
       "      <td>0</td>\n",
       "      <td>1</td>\n",
       "      <td>0</td>\n",
       "      <td>...</td>\n",
       "      <td>0</td>\n",
       "      <td>0</td>\n",
       "      <td>1</td>\n",
       "      <td>0</td>\n",
       "      <td>0</td>\n",
       "      <td>0</td>\n",
       "      <td>1</td>\n",
       "      <td>0</td>\n",
       "      <td>0</td>\n",
       "      <td>0</td>\n",
       "    </tr>\n",
       "    <tr>\n",
       "      <th>1</th>\n",
       "      <td>0</td>\n",
       "      <td>1</td>\n",
       "      <td>1</td>\n",
       "      <td>0</td>\n",
       "      <td>0</td>\n",
       "      <td>0</td>\n",
       "      <td>1</td>\n",
       "      <td>0</td>\n",
       "      <td>0</td>\n",
       "      <td>0</td>\n",
       "      <td>...</td>\n",
       "      <td>1</td>\n",
       "      <td>0</td>\n",
       "      <td>0</td>\n",
       "      <td>0</td>\n",
       "      <td>0</td>\n",
       "      <td>1</td>\n",
       "      <td>0</td>\n",
       "      <td>0</td>\n",
       "      <td>0</td>\n",
       "      <td>0</td>\n",
       "    </tr>\n",
       "    <tr>\n",
       "      <th>2</th>\n",
       "      <td>0</td>\n",
       "      <td>1</td>\n",
       "      <td>0</td>\n",
       "      <td>1</td>\n",
       "      <td>0</td>\n",
       "      <td>0</td>\n",
       "      <td>0</td>\n",
       "      <td>0</td>\n",
       "      <td>1</td>\n",
       "      <td>0</td>\n",
       "      <td>...</td>\n",
       "      <td>0</td>\n",
       "      <td>1</td>\n",
       "      <td>0</td>\n",
       "      <td>0</td>\n",
       "      <td>0</td>\n",
       "      <td>0</td>\n",
       "      <td>0</td>\n",
       "      <td>1</td>\n",
       "      <td>0</td>\n",
       "      <td>0</td>\n",
       "    </tr>\n",
       "    <tr>\n",
       "      <th>3</th>\n",
       "      <td>0</td>\n",
       "      <td>1</td>\n",
       "      <td>0</td>\n",
       "      <td>0</td>\n",
       "      <td>1</td>\n",
       "      <td>0</td>\n",
       "      <td>0</td>\n",
       "      <td>1</td>\n",
       "      <td>0</td>\n",
       "      <td>0</td>\n",
       "      <td>...</td>\n",
       "      <td>0</td>\n",
       "      <td>0</td>\n",
       "      <td>1</td>\n",
       "      <td>0</td>\n",
       "      <td>0</td>\n",
       "      <td>1</td>\n",
       "      <td>0</td>\n",
       "      <td>0</td>\n",
       "      <td>0</td>\n",
       "      <td>0</td>\n",
       "    </tr>\n",
       "    <tr>\n",
       "      <th>4</th>\n",
       "      <td>0</td>\n",
       "      <td>1</td>\n",
       "      <td>0</td>\n",
       "      <td>1</td>\n",
       "      <td>0</td>\n",
       "      <td>0</td>\n",
       "      <td>0</td>\n",
       "      <td>0</td>\n",
       "      <td>0</td>\n",
       "      <td>0</td>\n",
       "      <td>...</td>\n",
       "      <td>0</td>\n",
       "      <td>0</td>\n",
       "      <td>0</td>\n",
       "      <td>0</td>\n",
       "      <td>1</td>\n",
       "      <td>0</td>\n",
       "      <td>0</td>\n",
       "      <td>0</td>\n",
       "      <td>1</td>\n",
       "      <td>0</td>\n",
       "    </tr>\n",
       "    <tr>\n",
       "      <th>...</th>\n",
       "      <td>...</td>\n",
       "      <td>...</td>\n",
       "      <td>...</td>\n",
       "      <td>...</td>\n",
       "      <td>...</td>\n",
       "      <td>...</td>\n",
       "      <td>...</td>\n",
       "      <td>...</td>\n",
       "      <td>...</td>\n",
       "      <td>...</td>\n",
       "      <td>...</td>\n",
       "      <td>...</td>\n",
       "      <td>...</td>\n",
       "      <td>...</td>\n",
       "      <td>...</td>\n",
       "      <td>...</td>\n",
       "      <td>...</td>\n",
       "      <td>...</td>\n",
       "      <td>...</td>\n",
       "      <td>...</td>\n",
       "      <td>...</td>\n",
       "    </tr>\n",
       "    <tr>\n",
       "      <th>9995</th>\n",
       "      <td>1</td>\n",
       "      <td>0</td>\n",
       "      <td>1</td>\n",
       "      <td>0</td>\n",
       "      <td>0</td>\n",
       "      <td>0</td>\n",
       "      <td>1</td>\n",
       "      <td>0</td>\n",
       "      <td>0</td>\n",
       "      <td>0</td>\n",
       "      <td>...</td>\n",
       "      <td>0</td>\n",
       "      <td>1</td>\n",
       "      <td>0</td>\n",
       "      <td>0</td>\n",
       "      <td>0</td>\n",
       "      <td>1</td>\n",
       "      <td>0</td>\n",
       "      <td>0</td>\n",
       "      <td>0</td>\n",
       "      <td>0</td>\n",
       "    </tr>\n",
       "    <tr>\n",
       "      <th>9996</th>\n",
       "      <td>1</td>\n",
       "      <td>0</td>\n",
       "      <td>0</td>\n",
       "      <td>1</td>\n",
       "      <td>0</td>\n",
       "      <td>0</td>\n",
       "      <td>0</td>\n",
       "      <td>0</td>\n",
       "      <td>0</td>\n",
       "      <td>1</td>\n",
       "      <td>...</td>\n",
       "      <td>0</td>\n",
       "      <td>0</td>\n",
       "      <td>0</td>\n",
       "      <td>0</td>\n",
       "      <td>1</td>\n",
       "      <td>1</td>\n",
       "      <td>0</td>\n",
       "      <td>0</td>\n",
       "      <td>0</td>\n",
       "      <td>0</td>\n",
       "    </tr>\n",
       "    <tr>\n",
       "      <th>9997</th>\n",
       "      <td>1</td>\n",
       "      <td>0</td>\n",
       "      <td>1</td>\n",
       "      <td>0</td>\n",
       "      <td>0</td>\n",
       "      <td>0</td>\n",
       "      <td>1</td>\n",
       "      <td>0</td>\n",
       "      <td>0</td>\n",
       "      <td>0</td>\n",
       "      <td>...</td>\n",
       "      <td>1</td>\n",
       "      <td>0</td>\n",
       "      <td>0</td>\n",
       "      <td>0</td>\n",
       "      <td>0</td>\n",
       "      <td>0</td>\n",
       "      <td>1</td>\n",
       "      <td>0</td>\n",
       "      <td>0</td>\n",
       "      <td>0</td>\n",
       "    </tr>\n",
       "    <tr>\n",
       "      <th>9998</th>\n",
       "      <td>1</td>\n",
       "      <td>0</td>\n",
       "      <td>1</td>\n",
       "      <td>0</td>\n",
       "      <td>0</td>\n",
       "      <td>0</td>\n",
       "      <td>1</td>\n",
       "      <td>0</td>\n",
       "      <td>0</td>\n",
       "      <td>0</td>\n",
       "      <td>...</td>\n",
       "      <td>0</td>\n",
       "      <td>1</td>\n",
       "      <td>0</td>\n",
       "      <td>0</td>\n",
       "      <td>0</td>\n",
       "      <td>1</td>\n",
       "      <td>0</td>\n",
       "      <td>0</td>\n",
       "      <td>0</td>\n",
       "      <td>0</td>\n",
       "    </tr>\n",
       "    <tr>\n",
       "      <th>9999</th>\n",
       "      <td>1</td>\n",
       "      <td>0</td>\n",
       "      <td>1</td>\n",
       "      <td>0</td>\n",
       "      <td>0</td>\n",
       "      <td>0</td>\n",
       "      <td>1</td>\n",
       "      <td>0</td>\n",
       "      <td>0</td>\n",
       "      <td>0</td>\n",
       "      <td>...</td>\n",
       "      <td>1</td>\n",
       "      <td>0</td>\n",
       "      <td>0</td>\n",
       "      <td>0</td>\n",
       "      <td>0</td>\n",
       "      <td>1</td>\n",
       "      <td>0</td>\n",
       "      <td>0</td>\n",
       "      <td>0</td>\n",
       "      <td>0</td>\n",
       "    </tr>\n",
       "  </tbody>\n",
       "</table>\n",
       "<p>10000 rows × 26 columns</p>\n",
       "</div>"
      ],
      "text/plain": [
       "      Gender_Female  Gender_Male  bmi_class_healthy  bmi_class_overweight  \\\n",
       "0                 0            1                  0                     0   \n",
       "1                 0            1                  1                     0   \n",
       "2                 0            1                  0                     1   \n",
       "3                 0            1                  0                     0   \n",
       "4                 0            1                  0                     1   \n",
       "...             ...          ...                ...                   ...   \n",
       "9995              1            0                  1                     0   \n",
       "9996              1            0                  0                     1   \n",
       "9997              1            0                  1                     0   \n",
       "9998              1            0                  1                     0   \n",
       "9999              1            0                  1                     0   \n",
       "\n",
       "      bmi_class_severely overweight  bmi_class_underweight  \\\n",
       "0                                 1                      0   \n",
       "1                                 0                      0   \n",
       "2                                 0                      0   \n",
       "3                                 1                      0   \n",
       "4                                 0                      0   \n",
       "...                             ...                    ...   \n",
       "9995                              0                      0   \n",
       "9996                              0                      0   \n",
       "9997                              0                      0   \n",
       "9998                              0                      0   \n",
       "9999                              0                      0   \n",
       "\n",
       "      2017_ei jatkotoimenpiteita  2017_laakarikaynti 1  2017_laakarikaynti 2  \\\n",
       "0                              0                     0                     1   \n",
       "1                              1                     0                     0   \n",
       "2                              0                     0                     1   \n",
       "3                              0                     1                     0   \n",
       "4                              0                     0                     0   \n",
       "...                          ...                   ...                   ...   \n",
       "9995                           1                     0                     0   \n",
       "9996                           0                     0                     0   \n",
       "9997                           1                     0                     0   \n",
       "9998                           1                     0                     0   \n",
       "9999                           1                     0                     0   \n",
       "\n",
       "      2017_laakarikaynti 3  ...  2019_ei jatkotoimenpiteita  \\\n",
       "0                        0  ...                           0   \n",
       "1                        0  ...                           1   \n",
       "2                        0  ...                           0   \n",
       "3                        0  ...                           0   \n",
       "4                        0  ...                           0   \n",
       "...                    ...  ...                         ...   \n",
       "9995                     0  ...                           0   \n",
       "9996                     1  ...                           0   \n",
       "9997                     0  ...                           1   \n",
       "9998                     0  ...                           0   \n",
       "9999                     0  ...                           1   \n",
       "\n",
       "      2019_laakarikaynti 1  2019_laakarikaynti 2  2019_laakarikaynti 3  \\\n",
       "0                        0                     1                     0   \n",
       "1                        0                     0                     0   \n",
       "2                        1                     0                     0   \n",
       "3                        0                     1                     0   \n",
       "4                        0                     0                     0   \n",
       "...                    ...                   ...                   ...   \n",
       "9995                     1                     0                     0   \n",
       "9996                     0                     0                     0   \n",
       "9997                     0                     0                     0   \n",
       "9998                     1                     0                     0   \n",
       "9999                     0                     0                     0   \n",
       "\n",
       "      2019_laakarikaynti 4  2020_ei jatkotoimenpiteita  2020_laakarikaynti 1  \\\n",
       "0                        0                           0                     1   \n",
       "1                        0                           1                     0   \n",
       "2                        0                           0                     0   \n",
       "3                        0                           1                     0   \n",
       "4                        1                           0                     0   \n",
       "...                    ...                         ...                   ...   \n",
       "9995                     0                           1                     0   \n",
       "9996                     1                           1                     0   \n",
       "9997                     0                           0                     1   \n",
       "9998                     0                           1                     0   \n",
       "9999                     0                           1                     0   \n",
       "\n",
       "      2020_laakarikaynti 2  2020_laakarikaynti 3  2020_laakarikaynti 4  \n",
       "0                        0                     0                     0  \n",
       "1                        0                     0                     0  \n",
       "2                        1                     0                     0  \n",
       "3                        0                     0                     0  \n",
       "4                        0                     1                     0  \n",
       "...                    ...                   ...                   ...  \n",
       "9995                     0                     0                     0  \n",
       "9996                     0                     0                     0  \n",
       "9997                     0                     0                     0  \n",
       "9998                     0                     0                     0  \n",
       "9999                     0                     0                     0  \n",
       "\n",
       "[10000 rows x 26 columns]"
      ]
     },
     "execution_count": 16,
     "metadata": {},
     "output_type": "execute_result"
    }
   ],
   "source": [
    "ohe_data = pd.get_dummies(categorical_data)\n",
    "ohe_data"
   ]
  },
  {
   "cell_type": "code",
   "execution_count": 17,
   "metadata": {
    "colab": {},
    "colab_type": "code",
    "id": "zG-L_hXImNsu"
   },
   "outputs": [],
   "source": [
    "gender_ohe = ohe_data.iloc[:, 0:2]\n",
    "bmi_class_ohe = ohe_data.iloc[:, 2:6]\n",
    "events_ohe = ohe_data.iloc[:, 6:]"
   ]
  },
  {
   "cell_type": "code",
   "execution_count": 18,
   "metadata": {
    "colab": {
     "base_uri": "https://localhost:8080/",
     "height": 90
    },
    "colab_type": "code",
    "id": "V5KoMwExY7Ck",
    "outputId": "5ca637b4-1c6f-44e3-e132-fa49bec36db0"
   },
   "outputs": [
    {
     "name": "stdout",
     "output_type": "stream",
     "text": [
      "numerical data shape: (10000, 4)\n",
      "gender ohe data shape: (10000, 2)\n",
      "bmi class ohe data shape: (10000, 4)\n",
      "events ohe data shape: (10000, 20)\n"
     ]
    }
   ],
   "source": [
    "print(\"numerical data shape:\", numerical_data_rescaled.shape)\n",
    "print(\"gender ohe data shape:\", gender_ohe.shape)\n",
    "print(\"bmi class ohe data shape:\", bmi_class_ohe.shape)\n",
    "print(\"events ohe data shape:\", events_ohe.shape)"
   ]
  },
  {
   "cell_type": "markdown",
   "metadata": {
    "colab_type": "text",
    "id": "4j5sP6etQjsk"
   },
   "source": [
    "# GAN for generating numerical data\n",
    "\n",
    "#### Generator\n",
    " * Generator takes input from the random normal distribution (latent_dim)\n",
    " * Output the same number of columns as the original (n_columns)\n",
    " * Generator will not be compiled, because we update generator based on the discriminators error\n"
   ]
  },
  {
   "cell_type": "code",
   "execution_count": 19,
   "metadata": {
    "colab": {},
    "colab_type": "code",
    "id": "gnN_I9PyMRef"
   },
   "outputs": [],
   "source": [
    "def build_generator(n_columns, latent_dim):\n",
    "    model = Sequential()\n",
    "    model.add(Dense(32, kernel_initializer = \"he_uniform\", input_dim=latent_dim))\n",
    "    model.add(LeakyReLU(0.2))\n",
    "    model.add(BatchNormalization(momentum=0.8))\n",
    "    model.add(Dense(64,  kernel_initializer = \"he_uniform\"))\n",
    "    model.add(LeakyReLU(0.2))\n",
    "    model.add(BatchNormalization(momentum=0.8))\n",
    "    model.add(Dense(128,  kernel_initializer = \"he_uniform\"))\n",
    "    model.add(LeakyReLU(0.2))\n",
    "    model.add(BatchNormalization(momentum=0.8))\n",
    "    model.add(Dense(n_columns, activation = \"sigmoid\"))\n",
    "    return model"
   ]
  },
  {
   "cell_type": "markdown",
   "metadata": {
    "colab_type": "text",
    "id": "lBgc88kBax0s"
   },
   "source": [
    "#### Initialize generator "
   ]
  },
  {
   "cell_type": "code",
   "execution_count": 21,
   "metadata": {},
   "outputs": [],
   "source": [
    "from keras.models import Sequential, Model"
   ]
  },
  {
   "cell_type": "code",
   "execution_count": 26,
   "metadata": {
    "colab": {
     "base_uri": "https://localhost:8080/",
     "height": 1000
    },
    "colab_type": "code",
    "id": "QJPCPO-tY2qq",
    "outputId": "5b2e6efb-fccc-4820-cc19-5d4d6d3d6456"
   },
   "outputs": [],
   "source": [
    "latent_dim = 50\n",
    "generator = build_generator(numerical_data_rescaled.shape[1], latent_dim)\n"
   ]
  },
  {
   "cell_type": "markdown",
   "metadata": {
    "colab_type": "text",
    "id": "mcI9m-r-V4z5"
   },
   "source": [
    "#### Discriminator\n",
    " * Dicscriminator input is the generator output\n",
    " * Outputs classification (real or generated data)"
   ]
  },
  {
   "cell_type": "code",
   "execution_count": 37,
   "metadata": {
    "colab": {},
    "colab_type": "code",
    "id": "iQvs-o8PV4Xw"
   },
   "outputs": [],
   "source": [
    "def build_discriminator(inputs_n):\n",
    "\tmodel = Sequential()\n",
    "\tmodel.add(Dense(128,  kernel_initializer = \"he_uniform\", input_dim = inputs_n))\n",
    "\tmodel.add(LeakyReLU(0.2))\n",
    "\tmodel.add(Dense(64,  kernel_initializer = \"he_uniform\"))\n",
    "\tmodel.add(LeakyReLU(0.2))\n",
    "\tmodel.add(Dense(32,  kernel_initializer = \"he_uniform\"))\n",
    "\tmodel.add(LeakyReLU(0.2))\n",
    "\tmodel.add(Dense(16,  kernel_initializer = \"he_uniform\"))\n",
    "\tmodel.add(LeakyReLU(0.2))\n",
    "\tmodel.add(Dense(1, activation = \"sigmoid\"))\n",
    "\tmodel.compile(loss = \"binary_crossentropy\", optimizer = 'adam', metrics = [\"accuracy\"])\n",
    "\treturn model"
   ]
  },
  {
   "cell_type": "markdown",
   "metadata": {
    "colab_type": "text",
    "id": "uj3EltfEa4Xx"
   },
   "source": [
    "#### Initialize discriminator and plot model\n"
   ]
  },
  {
   "cell_type": "code",
   "execution_count": 38,
   "metadata": {
    "colab": {
     "base_uri": "https://localhost:8080/",
     "height": 1000
    },
    "colab_type": "code",
    "id": "l5nceyVKa9p6",
    "outputId": "7bdc8518-a7ae-41d2-92a6-3e57da485285"
   },
   "outputs": [],
   "source": [
    "discriminator = build_discriminator(numerical_data_rescaled.shape[1])\n"
   ]
  },
  {
   "cell_type": "markdown",
   "metadata": {
    "colab_type": "text",
    "id": "Tu4U0CMvYgWc"
   },
   "source": [
    "#### GAN\n",
    " * Satck generator and discriminator\n",
    " * GAN input is generator input\n",
    " * GAN output classification generated or original data (discriminator output)\n",
    " "
   ]
  },
  {
   "cell_type": "code",
   "execution_count": 42,
   "metadata": {
    "colab": {},
    "colab_type": "code",
    "id": "HFbg837iV3-g"
   },
   "outputs": [],
   "source": [
    "def build_gan(generator, discriminator):\n",
    "\t# make weights in the discriminator not trainable\n",
    "\tdiscriminator.trainable = False\n",
    "\t# connect generator and dicriminator\n",
    "\tmodel = Sequential()\n",
    "\t# add generator\n",
    "\tmodel.add(generator)\n",
    "\t# add the discriminator\n",
    "\tmodel.add(discriminator)\n",
    "\t# compile model\n",
    "\tmodel.compile(loss = \"binary_crossentropy\", optimizer = 'adam')\n",
    "\treturn model"
   ]
  },
  {
   "cell_type": "markdown",
   "metadata": {
    "colab_type": "text",
    "id": "KgFi8EdFdFQe"
   },
   "source": [
    "#### Compile GAN and plot model"
   ]
  },
  {
   "cell_type": "code",
   "execution_count": 43,
   "metadata": {
    "colab": {
     "base_uri": "https://localhost:8080/",
     "height": 312
    },
    "colab_type": "code",
    "id": "y3p5-jZLdI5m",
    "outputId": "ebcc0ac8-3e70-456a-ac7b-de9836e7090f"
   },
   "outputs": [],
   "source": [
    "gan = build_gan(generator, discriminator)\n"
   ]
  },
  {
   "cell_type": "markdown",
   "metadata": {
    "colab_type": "text",
    "id": "HWAWrcZMdg3u"
   },
   "source": [
    "#### GAN training"
   ]
  },
  {
   "cell_type": "code",
   "execution_count": 58,
   "metadata": {
    "colab": {},
    "colab_type": "code",
    "id": "sN20hUYBdE3W"
   },
   "outputs": [],
   "source": [
    "def train(gan, generator, discriminator, data, latent_dim, n_epochs, n_batch, n_eval):\n",
    "    #Half batch size for updateting discriminator\n",
    "    half_batch = int(n_batch / 2)\n",
    "\n",
    "    #lists for stats from the model\n",
    "    generator_loss = []\n",
    "    discriminator_loss = []\n",
    "\n",
    "    #generate class labels for fake = 0 and real = 1\n",
    "    valid = np.ones((half_batch, 1))\n",
    "    fake = np.zeros((half_batch, 1))\n",
    "    y_gan = np.ones((n_batch, 1))\n",
    "    #training loop\n",
    "    for i in range(n_epochs):\n",
    "        \n",
    "        #select random batch from the real numerical data\n",
    "        idx = np.random.randint(0, data.shape[0], half_batch)\n",
    "        real_data = data[idx]\n",
    "        \n",
    "        #generate fake samples from the noise\n",
    "        noise = np.random.normal(0, 1, (half_batch, latent_dim))\n",
    "        fake_data = generator.predict(noise)\n",
    "\n",
    "        #train the discriminator and return losses\n",
    "        d_loss_real, _ = discriminator.train_on_batch(real_data, valid)\n",
    "        d_loss_fake, _ = discriminator.train_on_batch(fake_data, fake)\n",
    "\n",
    "        d_loss = 0.5 * np.add(d_loss_real, d_loss_fake)\n",
    "        discriminator_loss.append(d_loss)\n",
    "\n",
    "        #generate noise for generator input and  train the generator (to have the discriminator label samples as valid)\n",
    "        noise = np.random.normal(0, 1, (n_batch, latent_dim))\n",
    "        g_loss = gan.train_on_batch(noise, y_gan)\n",
    "        generator_loss.append(g_loss)\n",
    "\n",
    "        #evaluate progress\n",
    "        #if (i+1) % n_eval == 0:\n",
    "        print (\"Epoch: %d [Generator loss: %f] [Discriminator loss: %f]\" % (i + 1, g_loss, d_loss))\n",
    "\n",
    "    #plot losses after training\n",
    "    plt.figure(figsize = (20, 10))\n",
    "    plt.plot(generator_loss, label = \"Generator loss\")\n",
    "    plt.plot(discriminator_loss, label = \"Discriminator loss\")\n",
    "    plt.title(\"Stats from training GAN\")\n",
    "    plt.legend()\n",
    "    plt.grid()\n",
    "    "
   ]
  },
  {
   "cell_type": "code",
   "execution_count": 59,
   "metadata": {
    "colab": {
     "base_uri": "https://localhost:8080/",
     "height": 974
    },
    "colab_type": "code",
    "id": "b0nHk4dHjDAZ",
    "outputId": "ce11395c-01e2-47b0-fde5-a4e9735a51ee"
   },
   "outputs": [
    {
     "name": "stdout",
     "output_type": "stream",
     "text": [
      "Epoch: 1 [Generator loss: 0.697277] [Discriminator loss: 0.702741]\n",
      "Epoch: 2 [Generator loss: 0.706214] [Discriminator loss: 0.705413]\n",
      "Epoch: 3 [Generator loss: 0.711099] [Discriminator loss: 0.703652]\n",
      "Epoch: 4 [Generator loss: 0.720046] [Discriminator loss: 0.708507]\n",
      "Epoch: 5 [Generator loss: 0.721177] [Discriminator loss: 0.713297]\n",
      "Epoch: 6 [Generator loss: 0.725089] [Discriminator loss: 0.715437]\n",
      "Epoch: 7 [Generator loss: 0.726046] [Discriminator loss: 0.711347]\n",
      "Epoch: 8 [Generator loss: 0.727197] [Discriminator loss: 0.718283]\n",
      "Epoch: 9 [Generator loss: 0.728746] [Discriminator loss: 0.706770]\n",
      "Epoch: 10 [Generator loss: 0.730094] [Discriminator loss: 0.712605]\n",
      "Epoch: 11 [Generator loss: 0.729778] [Discriminator loss: 0.710289]\n",
      "Epoch: 12 [Generator loss: 0.730270] [Discriminator loss: 0.707326]\n",
      "Epoch: 13 [Generator loss: 0.732490] [Discriminator loss: 0.717646]\n",
      "Epoch: 14 [Generator loss: 0.736784] [Discriminator loss: 0.698649]\n",
      "Epoch: 15 [Generator loss: 0.745274] [Discriminator loss: 0.697649]\n",
      "Epoch: 16 [Generator loss: 0.752681] [Discriminator loss: 0.701237]\n",
      "Epoch: 17 [Generator loss: 0.762522] [Discriminator loss: 0.682108]\n",
      "Epoch: 18 [Generator loss: 0.767678] [Discriminator loss: 0.689303]\n",
      "Epoch: 19 [Generator loss: 0.777415] [Discriminator loss: 0.678067]\n",
      "Epoch: 20 [Generator loss: 0.778959] [Discriminator loss: 0.689692]\n",
      "Epoch: 21 [Generator loss: 0.786321] [Discriminator loss: 0.688071]\n",
      "Epoch: 22 [Generator loss: 0.783419] [Discriminator loss: 0.688184]\n",
      "Epoch: 23 [Generator loss: 0.787271] [Discriminator loss: 0.682826]\n",
      "Epoch: 24 [Generator loss: 0.788711] [Discriminator loss: 0.687327]\n",
      "Epoch: 25 [Generator loss: 0.781921] [Discriminator loss: 0.695513]\n",
      "Epoch: 26 [Generator loss: 0.783240] [Discriminator loss: 0.694188]\n",
      "Epoch: 27 [Generator loss: 0.778822] [Discriminator loss: 0.685352]\n",
      "Epoch: 28 [Generator loss: 0.771517] [Discriminator loss: 0.701041]\n",
      "Epoch: 29 [Generator loss: 0.762192] [Discriminator loss: 0.699229]\n",
      "Epoch: 30 [Generator loss: 0.753870] [Discriminator loss: 0.700409]\n",
      "Epoch: 31 [Generator loss: 0.750984] [Discriminator loss: 0.709300]\n",
      "Epoch: 32 [Generator loss: 0.744911] [Discriminator loss: 0.709634]\n",
      "Epoch: 33 [Generator loss: 0.745582] [Discriminator loss: 0.716323]\n",
      "Epoch: 34 [Generator loss: 0.751515] [Discriminator loss: 0.712921]\n",
      "Epoch: 35 [Generator loss: 0.753198] [Discriminator loss: 0.715979]\n",
      "Epoch: 36 [Generator loss: 0.758411] [Discriminator loss: 0.713793]\n",
      "Epoch: 37 [Generator loss: 0.758843] [Discriminator loss: 0.715481]\n",
      "Epoch: 38 [Generator loss: 0.759408] [Discriminator loss: 0.714434]\n",
      "Epoch: 39 [Generator loss: 0.760800] [Discriminator loss: 0.709652]\n",
      "Epoch: 40 [Generator loss: 0.760084] [Discriminator loss: 0.705321]\n",
      "Epoch: 41 [Generator loss: 0.756475] [Discriminator loss: 0.704149]\n",
      "Epoch: 42 [Generator loss: 0.752009] [Discriminator loss: 0.700856]\n",
      "Epoch: 43 [Generator loss: 0.745388] [Discriminator loss: 0.699352]\n",
      "Epoch: 44 [Generator loss: 0.742583] [Discriminator loss: 0.695911]\n",
      "Epoch: 45 [Generator loss: 0.736437] [Discriminator loss: 0.696163]\n",
      "Epoch: 46 [Generator loss: 0.731958] [Discriminator loss: 0.686370]\n",
      "Epoch: 47 [Generator loss: 0.726397] [Discriminator loss: 0.684867]\n",
      "Epoch: 48 [Generator loss: 0.724335] [Discriminator loss: 0.683306]\n",
      "Epoch: 49 [Generator loss: 0.722835] [Discriminator loss: 0.682648]\n",
      "Epoch: 50 [Generator loss: 0.722912] [Discriminator loss: 0.683760]\n",
      "Epoch: 51 [Generator loss: 0.722823] [Discriminator loss: 0.676624]\n",
      "Epoch: 52 [Generator loss: 0.725036] [Discriminator loss: 0.677202]\n",
      "Epoch: 53 [Generator loss: 0.730241] [Discriminator loss: 0.669841]\n",
      "Epoch: 54 [Generator loss: 0.730067] [Discriminator loss: 0.674745]\n",
      "Epoch: 55 [Generator loss: 0.727911] [Discriminator loss: 0.673975]\n",
      "Epoch: 56 [Generator loss: 0.730687] [Discriminator loss: 0.674271]\n",
      "Epoch: 57 [Generator loss: 0.730537] [Discriminator loss: 0.678743]\n",
      "Epoch: 58 [Generator loss: 0.727527] [Discriminator loss: 0.678393]\n",
      "Epoch: 59 [Generator loss: 0.729958] [Discriminator loss: 0.672972]\n",
      "Epoch: 60 [Generator loss: 0.730397] [Discriminator loss: 0.681698]\n",
      "Epoch: 61 [Generator loss: 0.730110] [Discriminator loss: 0.679682]\n",
      "Epoch: 62 [Generator loss: 0.727207] [Discriminator loss: 0.678269]\n",
      "Epoch: 63 [Generator loss: 0.725212] [Discriminator loss: 0.678988]\n",
      "Epoch: 64 [Generator loss: 0.726441] [Discriminator loss: 0.683021]\n",
      "Epoch: 65 [Generator loss: 0.722676] [Discriminator loss: 0.688148]\n",
      "Epoch: 66 [Generator loss: 0.714255] [Discriminator loss: 0.696970]\n",
      "Epoch: 67 [Generator loss: 0.707929] [Discriminator loss: 0.690900]\n",
      "Epoch: 68 [Generator loss: 0.710117] [Discriminator loss: 0.691316]\n",
      "Epoch: 69 [Generator loss: 0.704612] [Discriminator loss: 0.702300]\n",
      "Epoch: 70 [Generator loss: 0.697695] [Discriminator loss: 0.702473]\n",
      "Epoch: 71 [Generator loss: 0.695840] [Discriminator loss: 0.699909]\n",
      "Epoch: 72 [Generator loss: 0.691082] [Discriminator loss: 0.701535]\n",
      "Epoch: 73 [Generator loss: 0.687646] [Discriminator loss: 0.702339]\n",
      "Epoch: 74 [Generator loss: 0.691598] [Discriminator loss: 0.698002]\n",
      "Epoch: 75 [Generator loss: 0.685854] [Discriminator loss: 0.697735]\n",
      "Epoch: 76 [Generator loss: 0.690826] [Discriminator loss: 0.703883]\n",
      "Epoch: 77 [Generator loss: 0.688890] [Discriminator loss: 0.700153]\n",
      "Epoch: 78 [Generator loss: 0.692120] [Discriminator loss: 0.694500]\n",
      "Epoch: 79 [Generator loss: 0.701050] [Discriminator loss: 0.696910]\n",
      "Epoch: 80 [Generator loss: 0.703608] [Discriminator loss: 0.694961]\n",
      "Epoch: 81 [Generator loss: 0.708776] [Discriminator loss: 0.698002]\n",
      "Epoch: 82 [Generator loss: 0.713256] [Discriminator loss: 0.693914]\n",
      "Epoch: 83 [Generator loss: 0.714353] [Discriminator loss: 0.688638]\n",
      "Epoch: 84 [Generator loss: 0.719931] [Discriminator loss: 0.690168]\n",
      "Epoch: 85 [Generator loss: 0.723347] [Discriminator loss: 0.690676]\n",
      "Epoch: 86 [Generator loss: 0.728382] [Discriminator loss: 0.687445]\n",
      "Epoch: 87 [Generator loss: 0.728200] [Discriminator loss: 0.681877]\n",
      "Epoch: 88 [Generator loss: 0.732373] [Discriminator loss: 0.690471]\n",
      "Epoch: 89 [Generator loss: 0.735088] [Discriminator loss: 0.679486]\n",
      "Epoch: 90 [Generator loss: 0.735711] [Discriminator loss: 0.677076]\n",
      "Epoch: 91 [Generator loss: 0.739128] [Discriminator loss: 0.684858]\n",
      "Epoch: 92 [Generator loss: 0.740365] [Discriminator loss: 0.686744]\n",
      "Epoch: 93 [Generator loss: 0.747759] [Discriminator loss: 0.696497]\n",
      "Epoch: 94 [Generator loss: 0.739058] [Discriminator loss: 0.688224]\n",
      "Epoch: 95 [Generator loss: 0.741714] [Discriminator loss: 0.693744]\n",
      "Epoch: 96 [Generator loss: 0.740087] [Discriminator loss: 0.700481]\n",
      "Epoch: 97 [Generator loss: 0.732397] [Discriminator loss: 0.697131]\n",
      "Epoch: 98 [Generator loss: 0.731762] [Discriminator loss: 0.693835]\n",
      "Epoch: 99 [Generator loss: 0.727725] [Discriminator loss: 0.703033]\n",
      "Epoch: 100 [Generator loss: 0.720529] [Discriminator loss: 0.707861]\n"
     ]
    },
    {
     "data": {
      "image/png": "[encoded data removed]",
      "text/plain": [
       "<Figure size 1440x720 with 1 Axes>"
      ]
     },
     "metadata": {
      "needs_background": "light"
     },
     "output_type": "display_data"
    }
   ],
   "source": [
    "train(gan, generator, discriminator, numerical_data_rescaled, latent_dim, n_epochs = 100, n_batch = 1024, n_eval = 250)"
   ]
  },
  {
   "cell_type": "markdown",
   "metadata": {
    "colab_type": "text",
    "id": "BSwYhNBLoWo8"
   },
   "source": [
    "### Generating numerical data with generator\n",
    "\n",
    "\n"
   ]
  },
  {
   "cell_type": "code",
   "execution_count": 46,
   "metadata": {
    "colab": {
     "base_uri": "https://localhost:8080/",
     "height": 146
    },
    "colab_type": "code",
    "id": "JZ-_zplxvigi",
    "outputId": "789957b6-997c-4502-8da5-0fa4e32a8a11"
   },
   "outputs": [
    {
     "data": {
      "text/plain": [
       "array([[0.05668381, 0.46570823, 0.46869963, 0.58335334],\n",
       "       [0.12829313, 0.3638177 , 0.09543583, 0.43815267],\n",
       "       [0.09659386, 0.20309213, 0.09719786, 0.20532724],\n",
       "       ...,\n",
       "       [0.9999596 , 0.985214  , 0.99832195, 0.9929483 ],\n",
       "       [0.9973967 , 0.9102522 , 0.94117016, 0.98163044],\n",
       "       [0.99735117, 0.9482455 , 0.9802422 , 0.9200922 ]], dtype=float32)"
      ]
     },
     "execution_count": 46,
     "metadata": {},
     "output_type": "execute_result"
    }
   ],
   "source": [
    "noise = np.random.normal(0, 1, (10000, latent_dim))\n",
    "generated_numerical_data = generator.predict(noise)\n",
    "generated_numerical_data"
   ]
  },
  {
   "cell_type": "markdown",
   "metadata": {
    "colab_type": "text",
    "id": "PbN2QwxHrFZH"
   },
   "source": [
    "### Converting the generated data to similar as the original"
   ]
  },
  {
   "cell_type": "code",
   "execution_count": 47,
   "metadata": {
    "colab": {
     "base_uri": "https://localhost:8080/",
     "height": 424
    },
    "colab_type": "code",
    "id": "etRBEvNMv2f5",
    "outputId": "b96b8abd-e803-4ebf-8eae-4ba1326c6d96"
   },
   "outputs": [
    {
     "data": {
      "text/html": [
       "<div>\n",
       "<style scoped>\n",
       "    .dataframe tbody tr th:only-of-type {\n",
       "        vertical-align: middle;\n",
       "    }\n",
       "\n",
       "    .dataframe tbody tr th {\n",
       "        vertical-align: top;\n",
       "    }\n",
       "\n",
       "    .dataframe thead th {\n",
       "        text-align: right;\n",
       "    }\n",
       "</style>\n",
       "<table border=\"1\" class=\"dataframe\">\n",
       "  <thead>\n",
       "    <tr style=\"text-align: right;\">\n",
       "      <th></th>\n",
       "      <th>patient_id</th>\n",
       "      <th>Height</th>\n",
       "      <th>Weight</th>\n",
       "      <th>bmi</th>\n",
       "    </tr>\n",
       "  </thead>\n",
       "  <tbody>\n",
       "    <tr>\n",
       "      <th>0</th>\n",
       "      <td>5670.304199</td>\n",
       "      <td>1.670881</td>\n",
       "      <td>72.991753</td>\n",
       "      <td>25.705351</td>\n",
       "    </tr>\n",
       "    <tr>\n",
       "      <th>1</th>\n",
       "      <td>12829.875977</td>\n",
       "      <td>1.606865</td>\n",
       "      <td>38.234257</td>\n",
       "      <td>23.152725</td>\n",
       "    </tr>\n",
       "    <tr>\n",
       "      <th>2</th>\n",
       "      <td>9660.549805</td>\n",
       "      <td>1.505883</td>\n",
       "      <td>38.398335</td>\n",
       "      <td>19.059654</td>\n",
       "    </tr>\n",
       "    <tr>\n",
       "      <th>3</th>\n",
       "      <td>99910.539062</td>\n",
       "      <td>1.985025</td>\n",
       "      <td>120.923660</td>\n",
       "      <td>32.756638</td>\n",
       "    </tr>\n",
       "    <tr>\n",
       "      <th>4</th>\n",
       "      <td>48352.468750</td>\n",
       "      <td>1.932742</td>\n",
       "      <td>114.055809</td>\n",
       "      <td>27.995317</td>\n",
       "    </tr>\n",
       "    <tr>\n",
       "      <th>...</th>\n",
       "      <td>...</td>\n",
       "      <td>...</td>\n",
       "      <td>...</td>\n",
       "      <td>...</td>\n",
       "    </tr>\n",
       "    <tr>\n",
       "      <th>9995</th>\n",
       "      <td>66019.335938</td>\n",
       "      <td>1.767809</td>\n",
       "      <td>66.614502</td>\n",
       "      <td>30.052277</td>\n",
       "    </tr>\n",
       "    <tr>\n",
       "      <th>9996</th>\n",
       "      <td>61596.644531</td>\n",
       "      <td>1.653139</td>\n",
       "      <td>50.125835</td>\n",
       "      <td>25.918068</td>\n",
       "    </tr>\n",
       "    <tr>\n",
       "      <th>9997</th>\n",
       "      <td>99979.960938</td>\n",
       "      <td>1.997278</td>\n",
       "      <td>122.309013</td>\n",
       "      <td>32.906033</td>\n",
       "    </tr>\n",
       "    <tr>\n",
       "      <th>9998</th>\n",
       "      <td>99723.718750</td>\n",
       "      <td>1.950181</td>\n",
       "      <td>116.987167</td>\n",
       "      <td>32.707062</td>\n",
       "    </tr>\n",
       "    <tr>\n",
       "      <th>9999</th>\n",
       "      <td>99719.164062</td>\n",
       "      <td>1.974051</td>\n",
       "      <td>120.625465</td>\n",
       "      <td>31.625221</td>\n",
       "    </tr>\n",
       "  </tbody>\n",
       "</table>\n",
       "<p>10000 rows × 4 columns</p>\n",
       "</div>"
      ],
      "text/plain": [
       "        patient_id    Height      Weight        bmi\n",
       "0      5670.304199  1.670881   72.991753  25.705351\n",
       "1     12829.875977  1.606865   38.234257  23.152725\n",
       "2      9660.549805  1.505883   38.398335  19.059654\n",
       "3     99910.539062  1.985025  120.923660  32.756638\n",
       "4     48352.468750  1.932742  114.055809  27.995317\n",
       "...            ...       ...         ...        ...\n",
       "9995  66019.335938  1.767809   66.614502  30.052277\n",
       "9996  61596.644531  1.653139   50.125835  25.918068\n",
       "9997  99979.960938  1.997278  122.309013  32.906033\n",
       "9998  99723.718750  1.950181  116.987167  32.707062\n",
       "9999  99719.164062  1.974051  120.625465  31.625221\n",
       "\n",
       "[10000 rows x 4 columns]"
      ]
     },
     "execution_count": 47,
     "metadata": {},
     "output_type": "execute_result"
    }
   ],
   "source": [
    "generated_numerical_data = mms.inverse_transform(generated_numerical_data)\n",
    "gen_df = pd.DataFrame(data = generated_numerical_data, columns = numerical_data.columns)\n",
    "gen_df"
   ]
  },
  {
   "cell_type": "markdown",
   "metadata": {
    "colab_type": "text",
    "id": "GoZpBm7VsiM5"
   },
   "source": [
    "### Comaparing original and generated data\n",
    " * Normal distribution\n",
    " * mean, std, var\n",
    " * correlation matrix"
   ]
  },
  {
   "cell_type": "code",
   "execution_count": 48,
   "metadata": {
    "colab": {},
    "colab_type": "code",
    "id": "ab3igbKXoV_C"
   },
   "outputs": [],
   "source": [
    "def normal_distribution(r, f):\n",
    "\n",
    "\tr_x = np.linspace(r.min(), r.max(), len(r))\n",
    "\tf_x = np.linspace(f.min(), f.max(), len(f))\n",
    "\n",
    "\tr_y = scipy.stats.norm.pdf(r_x, r.mean(), r.std())\n",
    "\tf_y = scipy.stats.norm.pdf(f_x, f.mean(), f.std())\n",
    " \n",
    "\tn, bins, patches = plt.hist([r, f], density = True, alpha = 0.5, color = [\"green\", \"red\"])\n",
    "\txmin, xmax = plt.xlim()\n",
    "\n",
    "\tplt.plot(r_x, r_y, color = \"green\", label = \"Original data\", alpha = 0.5)\n",
    "\tplt.plot(f_x, f_y, color = \"red\", label = \"Generated data\", alpha = 0.5)\n",
    "\ttitle = f\"Original data mean {np.round(r.mean(), 4)}, Original data std {np.round(r.std(), 4)}, Original data var {np.round(r.var(), 4)}\\nGenerated data mean {np.round(f.mean(), 4)}, Generated data {np.round(f.std(), 4)}, Generated data var {np.round(f.var(), 2)}\"\n",
    "\tplt.title(title)\n",
    "\tplt.legend()\n",
    "\tplt.grid()\n",
    "\tplt.show()\n",
    " "
   ]
  },
  {
   "cell_type": "code",
   "execution_count": 49,
   "metadata": {
    "colab": {
     "base_uri": "https://localhost:8080/",
     "height": 1000
    },
    "colab_type": "code",
    "id": "3RULjItVspBW",
    "outputId": "26167b0b-2cf1-4806-eee4-d6af5a0e78ed"
   },
   "outputs": [
    {
     "name": "stdout",
     "output_type": "stream",
     "text": [
      "patient_id Normal distribution\n"
     ]
    },
    {
     "data": {
      "image/png": "[encoded data removed]",
      "text/plain": [
       "<Figure size 432x288 with 1 Axes>"
      ]
     },
     "metadata": {
      "needs_background": "light"
     },
     "output_type": "display_data"
    },
    {
     "name": "stdout",
     "output_type": "stream",
     "text": [
      "Height Normal distribution\n"
     ]
    },
    {
     "data": {
      "image/png": "[encoded data removed]",
      "text/plain": [
       "<Figure size 432x288 with 1 Axes>"
      ]
     },
     "metadata": {
      "needs_background": "light"
     },
     "output_type": "display_data"
    },
    {
     "name": "stdout",
     "output_type": "stream",
     "text": [
      "Weight Normal distribution\n"
     ]
    },
    {
     "data": {
      "image/png": "[encoded data removed]",
      "text/plain": [
       "<Figure size 432x288 with 1 Axes>"
      ]
     },
     "metadata": {
      "needs_background": "light"
     },
     "output_type": "display_data"
    },
    {
     "name": "stdout",
     "output_type": "stream",
     "text": [
      "bmi Normal distribution\n"
     ]
    },
    {
     "data": {
      "image/png": "[encoded data removed]",
      "text/plain": [
       "<Figure size 432x288 with 1 Axes>"
      ]
     },
     "metadata": {
      "needs_background": "light"
     },
     "output_type": "display_data"
    }
   ],
   "source": [
    "for column in gen_df.columns:\n",
    "    print(column, \"Normal distribution\")\n",
    "    normal_distribution(numerical_data[column], gen_df[column])"
   ]
  },
  {
   "cell_type": "code",
   "execution_count": 50,
   "metadata": {
    "colab": {
     "base_uri": "https://localhost:8080/",
     "height": 307
    },
    "colab_type": "code",
    "id": "X5kaZ3p1rz2k",
    "outputId": "d0eb8db5-5918-465a-b459-5c9337bf4ec6"
   },
   "outputs": [
    {
     "name": "stdout",
     "output_type": "stream",
     "text": [
      "Original data\n"
     ]
    },
    {
     "data": {
      "text/plain": [
       "<AxesSubplot:>"
      ]
     },
     "execution_count": 50,
     "metadata": {},
     "output_type": "execute_result"
    },
    {
     "data": {
      "image/png": "[encoded data removed]",
      "text/plain": [
       "<Figure size 432x288 with 2 Axes>"
      ]
     },
     "metadata": {
      "needs_background": "light"
     },
     "output_type": "display_data"
    }
   ],
   "source": [
    "#correlation matrix compareing\n",
    "print(\"Original data\")\n",
    "sns.heatmap(numerical_data.corr(), annot = True)"
   ]
  },
  {
   "cell_type": "code",
   "execution_count": 51,
   "metadata": {
    "colab": {
     "base_uri": "https://localhost:8080/",
     "height": 307
    },
    "colab_type": "code",
    "id": "A--nKjXtsWLk",
    "outputId": "0d6738d8-3f72-4468-add7-207014b7cc59"
   },
   "outputs": [
    {
     "name": "stdout",
     "output_type": "stream",
     "text": [
      "Generated data\n"
     ]
    },
    {
     "data": {
      "text/plain": [
       "<AxesSubplot:>"
      ]
     },
     "execution_count": 51,
     "metadata": {},
     "output_type": "execute_result"
    },
    {
     "data": {
      "image/png": "[encoded data removed]",
      "text/plain": [
       "<Figure size 432x288 with 2 Axes>"
      ]
     },
     "metadata": {
      "needs_background": "light"
     },
     "output_type": "display_data"
    }
   ],
   "source": [
    "print(\"Generated data\")\n",
    "sns.heatmap(gen_df.corr(), annot = True)"
   ]
  },
  {
   "cell_type": "markdown",
   "metadata": {
    "colab_type": "text",
    "id": "BgXjim3Tb9FH"
   },
   "source": [
    "# *Results*\n",
    " * normal distribution, mean, standard deviation and variance are very similar compared to the original\n",
    " * The correlation is very similar compared to the original\n"
   ]
  },
  {
   "cell_type": "markdown",
   "metadata": {
    "colab_type": "text",
    "id": "PlNKE1zYckuN"
   },
   "source": [
    "--------------------------------------------------------------------------------"
   ]
  }
 ],
 "metadata": {
  "colab": {
   "collapsed_sections": [],
   "name": "opinnöytetyö_GAN_Engl.ipynb",
   "provenance": []
  },
  "kernelspec": {
   "display_name": "Python 3",
   "language": "python",
   "name": "python3"
  }
 },
 "nbformat": 4,
 "nbformat_minor": 1
}
