{
 "cells": [
  {
   "cell_type": "code",
   "execution_count": 1,
   "metadata": {},
   "outputs": [],
   "source": [
    "import numpy as np\n",
    "import matplotlib.pyplot as plt\n",
    "from scipy.stats import norm\n",
    "import pandas as pd\n",
    "import numpy as np\n",
    "import statsmodels.stats.api as sms\n",
    "import matplotlib.pyplot as plt\n",
    "import scipy\n",
    "from scipy import stats\n",
    "import numpy as np\n",
    "import scipy.stats"
   ]
  },
  {
   "cell_type": "markdown",
   "metadata": {},
   "source": [
    "# Q1: Calculate the filled-up area under each normal/gaussian curve "
   ]
  },
  {
   "cell_type": "code",
   "execution_count": 2,
   "metadata": {},
   "outputs": [
    {
     "name": "stdout",
     "output_type": "stream",
     "text": [
      "I- Area under the Gaussian Curve for z=0.75 is: 0.7733726476231317\n",
      "********************************\n",
      "II- Area under the Gaussian Curve for z=-0.75 is: 0.7733726476231317\n",
      "********************************\n",
      "III- Area under the Gaussian Curve for -0.6=<z=<1.2 is: 0.6106772120282182\n",
      "********************************\n",
      "IV- Area under the Gaussian Curve for -0.9=<z=<1.6 is: 0.7008702044315323\n",
      "********************************\n"
     ]
    }
   ],
   "source": [
    "#part I\n",
    "x1=0.75\n",
    "y1 = norm.cdf(x1,0,1)\n",
    "print('I- Area under the Gaussian Curve for z=0.75 is:', y1)\n",
    "print('********************************')\n",
    "#part II\n",
    "x2=-0.75\n",
    "y2 = norm.cdf(x2,0,1)\n",
    "print('II- Area under the Gaussian Curve for z=-0.75 is:', y1)\n",
    "print('********************************')\n",
    "#part III\n",
    "x3=-0.6\n",
    "y3 = norm.cdf(x3,0,1)\n",
    "x4=1.2\n",
    "y4 = norm.cdf(x4,0,1)\n",
    "print('III- Area under the Gaussian Curve for -0.6=<z=<1.2 is:', y4-y3)\n",
    "print('********************************')\n",
    "#part IV\n",
    "x5=-0.9\n",
    "y5 = norm.cdf(x5,0,1)\n",
    "x6=1.2\n",
    "y6 = norm.cdf(x6,0,1)\n",
    "print('IV- Area under the Gaussian Curve for -0.9=<z=<1.6 is:', y6-y5)\n",
    "\n",
    "print('********************************')"
   ]
  },
  {
   "cell_type": "markdown",
   "metadata": {},
   "source": [
    "# Q2: Assume that temperatures are distributed according to the standard normal distribution. Find the probability that a random temp measurement complies with the following requirements:\n",
    "#less than −5.5∘0\n",
    "#less than 4.44\n",
    "#greater than 29.99\n",
    "#greater than −15.5\n",
    "#between 15∘ and 40∘\n",
    "#between −23.00∘ and −2.00∘\n",
    "#greater than 0∘\n"
   ]
  },
  {
   "cell_type": "code",
   "execution_count": 3,
   "metadata": {},
   "outputs": [
    {
     "name": "stdout",
     "output_type": "stream",
     "text": [
      "Assuming standard normal distribution\n",
      "********************************\n",
      "I- Area under the Gaussian Curve for z<-0.5 is: 1.898956246588768e-08\n",
      "********************************\n",
      "II- Area under the Gaussian Curve for z< 4.4 is: 0.9999955020561114\n",
      "********************************\n",
      "III- Area under the Gaussian Curve for z > 29.99 is: 0.0\n",
      "********************************\n",
      "IV- Area under the Gaussian Curve for z> -15.5 is: 1.0\n",
      "********************************\n",
      "V- Area under the Gaussian Curve for 15=<z=<40 is: 0.0\n",
      "********************************\n",
      "diff= 0.999995483066549\n",
      "VI- Area under the Gaussian Curve for-23=< z=<-2.0 is: 0.022750131948179195\n",
      "********************************\n",
      "VII- Area under the Gaussian Curve for z>0.0 is: 0.5\n",
      "********************************\n"
     ]
    }
   ],
   "source": [
    "#Part 1 (less than −5.5∘0)\n",
    "\n",
    "print('Assuming standard normal distribution')\n",
    "print('********************************')\n",
    "x1=-5.5\n",
    "y1 = norm.cdf(x1,0,1)\n",
    "print('I- Area under the Gaussian Curve for z<-0.5 is:', y1)\n",
    "print('********************************')\n",
    "\n",
    "#Part II (less than 4.44)\n",
    "x2=4.44\n",
    "y2 = norm.cdf(x2,0,1)\n",
    "\n",
    "print('II- Area under the Gaussian Curve for z< 4.4 is:', y2)\n",
    "print('********************************')\n",
    "#Part III (greater than 29.99)\n",
    "x3=29.99\n",
    "y3 = norm.cdf(x3,0,1)\n",
    "\n",
    "print('III- Area under the Gaussian Curve for z > 29.99 is:', 1-y3)\n",
    "print('********************************')\n",
    "\n",
    "\n",
    "#Part IV (greater than −15.5)\n",
    "x4=-15.5\n",
    "y4 = norm.cdf(x4,0,1)\n",
    "\n",
    "print('IV- Area under the Gaussian Curve for z> -15.5 is:', 1-y4)\n",
    "print('********************************')\n",
    "#Part V (between 15∘ and 40∘)\n",
    "x5=15\n",
    "y5 = norm.cdf(x5,0,1)\n",
    "\n",
    "x6=40\n",
    "y6 = norm.cdf(x6,0,1)\n",
    "\n",
    "\n",
    "print('V- Area under the Gaussian Curve for 15=<z=<40 is:', y6-y5)\n",
    "print('********************************')\n",
    "#Part VI (between −23.00∘ and −2.00∘)\n",
    "x7=-23\n",
    "y7 = norm.cdf(x7,0,1)\n",
    "\n",
    "x8=-2\n",
    "y8 = norm.cdf(x8,0,1)\n",
    "\n",
    "print(\"diff=\", y2-y1)\n",
    "print('VI- Area under the Gaussian Curve for-23=< z=<-2.0 is:', y8-y7)\n",
    "print('********************************')\n",
    "#Part VII (greater than 0∘)\n",
    "x9=0\n",
    "y9 = norm.cdf(x9,0,1)\n",
    "\n",
    "print('VII- Area under the Gaussian Curve for z>0.0 is:', 1-y9)\n",
    "print('********************************')\n"
   ]
  },
  {
   "cell_type": "markdown",
   "metadata": {},
   "source": [
    "# Q3: Find z-scores corresponding to the filled-up area below:"
   ]
  },
  {
   "cell_type": "code",
   "execution_count": 4,
   "metadata": {},
   "outputs": [],
   "source": [
    "import scipy.stats as st"
   ]
  },
  {
   "cell_type": "code",
   "execution_count": 5,
   "metadata": {},
   "outputs": [
    {
     "name": "stdout",
     "output_type": "stream",
     "text": [
      "Assuming standard normal distribution\n",
      "********************************\n",
      "I- Z-Score for CDF (Area under the Gaussian Curve) of 0.9798 is: 2.0496356380817193\n",
      "********************************\n",
      "II- Z-Score for CDF (Area under the Gaussian Curve) of 0.2546 is: -0.6600838842403063\n",
      "********************************\n",
      "III- Z-Score for CDF (Area under the Gaussian Curve) of 0.2546 is: -0.6600838842403063\n",
      "********************************\n",
      "IV- Z-Score for CDF (Area under the Gaussian Curve) of 0.9418 is: -1.5700649575278007\n",
      "********************************\n"
     ]
    }
   ],
   "source": [
    "print('Assuming standard normal distribution')\n",
    "print('********************************')\n",
    "#Part I\n",
    "x1=0.9798\n",
    "y1=st.norm.ppf(x1)\n",
    "print('I- Z-Score for CDF (Area under the Gaussian Curve) of 0.9798 is:', y1)\n",
    "\n",
    "print('********************************')\n",
    "#Part II\n",
    "x2=0.2546\n",
    "y2=st.norm.ppf(x2)\n",
    "\n",
    "print('II- Z-Score for CDF (Area under the Gaussian Curve) of 0.2546 is:', y2)\n",
    "\n",
    "print('********************************')\n",
    "#Part III\n",
    "x3=0.2546\n",
    "y3=st.norm.ppf(x3)\n",
    "print('III- Z-Score for CDF (Area under the Gaussian Curve) of 0.2546 is:', y3)\n",
    "\n",
    "print('********************************')\n",
    "#Part IV\n",
    "x4=0.9418\n",
    "y4=st.norm.ppf(1-x4)\n",
    "\n",
    "print('IV- Z-Score for CDF (Area under the Gaussian Curve) of 0.9418 is:', y4)\n",
    "print('********************************')\n"
   ]
  },
  {
   "cell_type": "markdown",
   "metadata": {},
   "source": [
    "# Q4: Estimate the following probabilities:\n",
    "#P(z>3.30)\n",
    "•\tP(−0.43<z<1.54)\n",
    "•\tP(z>−3.1)\n",
    "•\tP(z<−4.5)\n"
   ]
  },
  {
   "cell_type": "code",
   "execution_count": 6,
   "metadata": {},
   "outputs": [
    {
     "name": "stdout",
     "output_type": "stream",
     "text": [
      "Assuming standard normal distribution\n",
      "********************************\n",
      "I- Probability of z>3.30 is: 0.0004834241423837815\n",
      "********************************\n",
      "II- Probability of −0.43<z<1.54 is: 0.6046220026927305\n",
      "********************************\n",
      "III- Probability of z>−3.1 is: 0.9990323967867817\n",
      "********************************\n",
      "IV- Probability of z<−4.5 is: 3.3976731247300535e-06\n",
      "********************************\n"
     ]
    }
   ],
   "source": [
    "print('Assuming standard normal distribution')\n",
    "print('********************************')\n",
    "#Par I (P(z>3.30))\n",
    "x1=3.30\n",
    "y1=norm.cdf(x1,0,1)\n",
    "print('I- Probability of z>3.30 is:', 1-y1)\n",
    "\n",
    "print('********************************')\n",
    "#Part II (P(−0.43<z<1.54))\n",
    "x2=-0.43\n",
    "x3=1.54\n",
    "y2=norm.cdf(x2,0,1)\n",
    "y3=norm.cdf(x3,0,1)\n",
    "print('II- Probability of −0.43<z<1.54 is:', y3-y2)\n",
    "print('********************************')\n",
    "#Part III (P(z>−3.1))\n",
    "x4=-3.1\n",
    "y4=norm.cdf(x4,0,1)\n",
    "print('III- Probability of z>−3.1 is:', 1-y4)\n",
    "print('********************************')\n",
    "#Part IV (P(z<−4.5))\n",
    "x5=-4.5\n",
    "y5=norm.cdf(x5,0,1)\n",
    "print('IV- Probability of z<−4.5 is:', y5)\n",
    "print('********************************')"
   ]
  },
  {
   "cell_type": "markdown",
   "metadata": {},
   "source": [
    "# Q5: Estimate the value of m:"
   ]
  },
  {
   "cell_type": "code",
   "execution_count": 7,
   "metadata": {},
   "outputs": [
    {
     "name": "stdout",
     "output_type": "stream",
     "text": [
      "Assuming standard normal distribution\n",
      "********************************\n",
      "I- m for P(z<m)=0.9664 is: 1.8303340685028076\n",
      "********************************\n",
      "II- m for P(z<m)=0.3050 is: -0.5100734569685949\n",
      "********************************\n",
      "III- m for P(z>m)=0.0078 is: 2.418141713222739\n",
      "********************************\n"
     ]
    }
   ],
   "source": [
    "#q5\n",
    "print('Assuming standard normal distribution')\n",
    "print('********************************')\n",
    "#Part I\n",
    "x1=0.9664\n",
    "y1=st.norm.ppf(x1)\n",
    "print('I- m for P(z<m)=0.9664 is:', y1)\n",
    "print('********************************')\n",
    "#Part II\n",
    "x2=0.3050\n",
    "y2=st.norm.ppf(x2)\n",
    "print('II- m for P(z<m)=0.3050 is:', y2)\n",
    "print('********************************')\n",
    "#Part III\n",
    "x3=0.0078\n",
    "y3=st.norm.ppf(1-x3)\n",
    "print('III- m for P(z>m)=0.0078 is:', y3)\n",
    "print('********************************')\n"
   ]
  },
  {
   "cell_type": "markdown",
   "metadata": {},
   "source": [
    "# Q6: The following normal have mean 100 and sd 15, find x:"
   ]
  },
  {
   "cell_type": "code",
   "execution_count": 8,
   "metadata": {},
   "outputs": [
    {
     "name": "stdout",
     "output_type": "stream",
     "text": [
      "Assuming standard normal\n",
      "********************************\n",
      "I- X for CDF=0.6 with Mean=100 and SD=15 is: 103.80020654703699\n",
      "********************************\n",
      "II- X for CDF=0.8 with Mean=100 and SD=15 is: 112.62431850359371\n",
      "********************************\n",
      "III- X for CDF=0.99 with Mean=100 and SD=15 is: 134.8952181106126\n",
      "********************************\n"
     ]
    }
   ],
   "source": [
    "#q6\n",
    "print('Assuming standard normal')\n",
    "print('********************************')\n",
    "mu=100\n",
    "sigma=15\n",
    "#Part I\n",
    "y1=st.norm.ppf(0.6)\n",
    "print(\"I- X for CDF=0.6 with Mean=100 and SD=15 is:\", mu+(y1*sigma))\n",
    "print('********************************')\n",
    "y2=st.norm.ppf(0.8)\n",
    "print(\"II- X for CDF=0.8 with Mean=100 and SD=15 is:\", mu+(y2*sigma))\n",
    "print('********************************')\n",
    "y3=st.norm.ppf(0.99)\n",
    "print(\"III- X for CDF=0.99 with Mean=100 and SD=15 is:\", mu+(y3*sigma))\n",
    "print('********************************')\n"
   ]
  },
  {
   "cell_type": "markdown",
   "metadata": {},
   "source": [
    "# Q7: The average salary for freshmen professors is PKR 50,000. Assume normal distribution with standard deviation 2140. \n",
    "•\tWhat is the probability that a randomly selected first-year teacher makes between 15,000 and 35,000 each year? \n",
    "•\tWhat is the probability that a randomly selected freshman prof has a salary less than 22,000?\n",
    "•\tWhat is the probability that a randomly selected freshman prof has a salary at least 12,000?\n",
    "•\tWhat is 90th percentile salary?\n"
   ]
  },
  {
   "cell_type": "code",
   "execution_count": 10,
   "metadata": {},
   "outputs": [
    {
     "name": "stdout",
     "output_type": "stream",
     "text": [
      "Assuming Normal Distribution with Mean=50,000 and SD= 2140\n",
      "********************************\n",
      "I- Probability that 15,000=< Salary=<35,000 is: 1.197175112041309e-12\n",
      "********************************\n",
      "II- Probability that Salary<22,000 is: 2.029374580583214e-39\n",
      "********************************\n",
      "III- Probability that salary is at least 12,000 is: 1.0\n",
      "********************************\n",
      "90th Percentile Salary= 52742.52035026545\n",
      "********************************\n"
     ]
    }
   ],
   "source": [
    "#Q7\n",
    "print('Assuming Normal Distribution with Mean=50,000 and SD= 2140')\n",
    "mu=50000\n",
    "sigma=2140\n",
    "print('********************************')\n",
    "#part I\n",
    "x1=15000\n",
    "x2=35000\n",
    "\n",
    "y1=norm.cdf(x1,mu,sigma)\n",
    "y2=norm.cdf(x2,mu,sigma)\n",
    "print('I- Probability that 15,000=< Salary=<35,000 is:',y2-y1)\n",
    "print('********************************')\n",
    "#Part II\n",
    "x3=22000\n",
    "y3=norm.cdf(x3,mu,sigma)\n",
    "print('II- Probability that Salary<22,000 is:',y3)\n",
    "\n",
    "print('********************************')\n",
    "x4=12000\n",
    "y4=norm.cdf(x4,mu,sigma)\n",
    "print('III- Probability that salary is at least 12,000 is:',1-y4)\n",
    "\n",
    "print('********************************')\n",
    "x5=0.9\n",
    "y5=st.norm.ppf(x5)\n",
    "print(\"90th Percentile Salary=\", mu+(y5*sigma))\n",
    "print('********************************')"
   ]
  },
  {
   "cell_type": "markdown",
   "metadata": {},
   "source": [
    "# Confidence Interval"
   ]
  },
  {
   "cell_type": "markdown",
   "metadata": {},
   "source": [
    "# Q1: Construct a 95% confidence interval for the mean height of male Pakistanis. Forty-nine male Pakistanis are surveyed. The sample mean is 71 inches. The sample standard deviation is 2.8 inches. \n",
    "•\tState the CI interval\n",
    "•\tDraw the graph\n",
    "•\tCalculate the error bound\n",
    "•\tWhat will happen to the level of confidence obtained if 2,000 male Pakistanis are surveyed instead of 49? Why?\n"
   ]
  },
  {
   "cell_type": "code",
   "execution_count": 11,
   "metadata": {},
   "outputs": [
    {
     "data": {
      "text/plain": [
       "1.959963984540054"
      ]
     },
     "execution_count": 11,
     "metadata": {},
     "output_type": "execute_result"
    }
   ],
   "source": [
    "x1=0.975\n",
    "y1=st.norm.ppf(x1)\n",
    "y1"
   ]
  },
  {
   "cell_type": "code",
   "execution_count": 12,
   "metadata": {},
   "outputs": [
    {
     "name": "stdout",
     "output_type": "stream",
     "text": [
      "Q-1: Confedence Interval\n",
      "********************************\n",
      "********************************\n",
      "Part-I\n",
      "********************************\n",
      "Method-I\n",
      "lower bound= 70.21601440618397\n",
      "Upper bound= 71.78398559381603\n",
      "The CI is: ( 70.21601440618397 71.78398559381603 )\n",
      "********************************\n",
      "Method-II\n",
      "The CI is: (70.21601440618397, 71.78398559381603)\n",
      "********************************\n",
      "********************************\n",
      "Part-II\n"
     ]
    },
    {
     "data": {
      "image/png": "[encoded data removed]",
      "text/plain": [
       "<Figure size 432x288 with 1 Axes>"
      ]
     },
     "metadata": {
      "needs_background": "light"
     },
     "output_type": "display_data"
    },
    {
     "name": "stdout",
     "output_type": "stream",
     "text": [
      "********************************\n",
      "********************************\n",
      "Part-III\n",
      "ERROR Bound= 0.7839855938160215\n",
      "********************************\n",
      "********************************\n",
      "Part-IV\n",
      "The confidence interval will narrow down because of an increase in sample size. Due to an increase in sample size the variability (variance) will decrease and consequently the uncertainty will reduce. Which will ultimately reduce the interval and variance from the true population mean (under CLT).\n"
     ]
    }
   ],
   "source": [
    "#qCI-Q1\n",
    "print('Q-1: Confedence Interval')\n",
    "mu=71\n",
    "sigma=2.8\n",
    "n=49\n",
    "print('********************************')\n",
    "print('********************************')\n",
    "print(\"Part-I\")\n",
    "print('********************************')\n",
    "print('Method-I')\n",
    "\n",
    "#To calculate Z-Score\n",
    "x1=0.975 #Two tail\n",
    "y1=st.norm.ppf(x1)\n",
    "z_score = y1 #the Z-score for 95% \n",
    "\n",
    "lcb = mu - z_score* (sigma/(np.sqrt(n))) #lower limit of the CI\n",
    "print('lower bound=', lcb)\n",
    "ucb = mu+ z_score* (sigma/(np.sqrt(n))) #upper limit of the CI\n",
    "print('Upper bound=', ucb)\n",
    "print('The CI is: (',lcb , ucb,')' )\n",
    "print('********************************')\n",
    "print('Method-II')\n",
    "\n",
    "print('The CI is:', stats.norm.interval(0.95, loc=mu, scale=sigma/np.sqrt(n)))\n",
    "\n",
    "print('********************************')\n",
    "print('********************************')\n",
    "print(\"Part-II\")\n",
    "from scipy.stats import norm\n",
    "from matplotlib import pyplot\n",
    "\n",
    "# define distribution parameters\n",
    "mu=71\n",
    "sigma=2.8\n",
    "n=49\n",
    "\n",
    "# create distribution\n",
    "dist = norm(mu, sigma)\n",
    "\n",
    "# plot pdf\n",
    "values = [value for value in range(55, 85)]\n",
    "probabilities = [dist.pdf(value) for value in values]\n",
    "pyplot.plot(values, probabilities)\n",
    "\n",
    "pyplot.show()\n",
    "\n",
    "print('********************************')\n",
    "print('********************************')\n",
    "print(\"Part-III\")\n",
    "#Error bound\n",
    "\n",
    "\n",
    "\n",
    "EB=z_score*((sigma)/(np.sqrt(n)))\n",
    "print ('ERROR Bound=',EB)\n",
    "#x=\n",
    "print('********************************')\n",
    "print('********************************')\n",
    "print(\"Part-IV\")\n",
    "\n",
    "print('The confidence interval will narrow down because of an increase in sample size. Due to an increase in sample size the variability (variance) will decrease and consequently the uncertainty will reduce. Which will ultimately reduce the interval and variance from the true population mean (under CLT).')"
   ]
  },
  {
   "cell_type": "markdown",
   "metadata": {},
   "source": [
    "# Q2: We do a survey to estimate the time needed to complete one person’s tax forms. We randomly survey 1000 people. The mean is 33.8 hours with sd of 6.5 hours. Assume normality"
   ]
  },
  {
   "cell_type": "code",
   "execution_count": 13,
   "metadata": {},
   "outputs": [
    {
     "name": "stdout",
     "output_type": "stream",
     "text": [
      "Q-2: Confedence Interval\n",
      "********************************\n",
      "********************************\n",
      "Part-I\n",
      "********************************\n",
      "Method-I\n",
      "lower bound= 33.3365795774051\n",
      "Upper bound= 33.863420422594906\n",
      "The CI is: ( 33.3365795774051 33.863420422594906 )\n",
      "********************************\n",
      "Method-II\n",
      "The CI is: (33.26190354788089, 33.93809645211911)\n",
      "********************************\n",
      "********************************\n",
      "Part-II\n"
     ]
    },
    {
     "data": {
      "image/png": "[encoded data removed]",
      "text/plain": [
       "<Figure size 432x288 with 1 Axes>"
      ]
     },
     "metadata": {
      "needs_background": "light"
     },
     "output_type": "display_data"
    },
    {
     "name": "stdout",
     "output_type": "stream",
     "text": [
      "********************************\n",
      "********************************\n",
      "Part-III\n",
      "ERROR Bound= 0.26342042259490767\n",
      "********************************\n"
     ]
    }
   ],
   "source": [
    "print('Q-2: Confedence Interval')\n",
    "mu=33.6\n",
    "sigma=6.5\n",
    "n=1000\n",
    "print('********************************')\n",
    "print('********************************')\n",
    "print(\"Part-I\")\n",
    "print('********************************')\n",
    "print('Method-I')\n",
    "\n",
    "#To calculate Z-Score\n",
    "x1=0.90 #Two tail\n",
    "y1=st.norm.ppf(x1)\n",
    "z_score = y1 #the Z-score for 90% \n",
    "\n",
    "lcb = mu - z_score* (sigma/(np.sqrt(n))) #lower limit of the CI\n",
    "print('lower bound=', lcb)\n",
    "ucb = mu+ z_score* (sigma/(np.sqrt(n))) #upper limit of the CI\n",
    "print('Upper bound=', ucb)\n",
    "print('The CI is: (',lcb , ucb,')' )\n",
    "print('********************************')\n",
    "print('Method-II')\n",
    "\n",
    "print('The CI is:', stats.norm.interval(0.90, loc=mu, scale=sigma/np.sqrt(n)))\n",
    "\n",
    "print('********************************')\n",
    "print('********************************')\n",
    "print(\"Part-II\")\n",
    "\n",
    "from scipy.stats import norm\n",
    "from matplotlib import pyplot\n",
    "\n",
    "# define distribution parameters\n",
    "mu=33.6\n",
    "sigma=6.5\n",
    "n=1000\n",
    "\n",
    "# create distribution\n",
    "dist = norm(mu, sigma)\n",
    "\n",
    "# plot pdf\n",
    "values = [value for value in range(0, 80)]\n",
    "probabilities = [dist.pdf(value) for value in values]\n",
    "pyplot.plot(values, probabilities)\n",
    "\n",
    "pyplot.show()\n",
    "\n",
    "print('********************************')\n",
    "print('********************************')\n",
    "print(\"Part-III\")\n",
    "#Error bound\n",
    "\n",
    "\n",
    "\n",
    "EB=z_score*((sigma)/(np.sqrt(n)))\n",
    "print ('ERROR Bound=',EB)\n",
    "#x=\n",
    "print('********************************')"
   ]
  },
  {
   "cell_type": "markdown",
   "metadata": {},
   "source": [
    "# Q3: The average height of children has a normal distribution with standard deviation of 3.4 inches. We are interested in estimating the mean height of children at school to within two inches with 93% confidence. How many children must you measure?"
   ]
  },
  {
   "cell_type": "code",
   "execution_count": 14,
   "metadata": {},
   "outputs": [
    {
     "name": "stdout",
     "output_type": "stream",
     "text": [
      "Q-3: Confedence Interval\n",
      "********************************\n",
      "Z for P(z)=0.965 is: 1.8119106729525973\n",
      "Number of Children to be Measured is: 9.487928628735055\n",
      "About 10 Children to be measured\n"
     ]
    }
   ],
   "source": [
    "print('Q-3: Confedence Interval')\n",
    "\n",
    "sigma=3.4\n",
    "EB=2\n",
    "print('********************************')\n",
    "x1=0.965 #Considering two tail 0.93+(0.07/2)=0.965 \n",
    "y1=st.norm.ppf(x1) #the z-score \n",
    "print('Z for P(z)=0.965 is:', y1)\n",
    "n=((y1*sigma)**2)/(EB**2)\n",
    "print('Number of Children to be Measured is:', n)\n",
    "print('About 10 Children to be measured')\n",
    "\n",
    "\n"
   ]
  },
  {
   "cell_type": "markdown",
   "metadata": {},
   "source": [
    "# Central Limit Theorem \n"
   ]
  },
  {
   "cell_type": "markdown",
   "metadata": {},
   "source": [
    "# Q1: Model any problem from the agricultural domain in Python and demonstrate the central limit theorem (like dice roll and coin toss example).\n"
   ]
  },
  {
   "cell_type": "markdown",
   "metadata": {},
   "source": [
    "Central Limit Theorem suggests that if you randomly draw a sample of your customers, say 1000 customers, this sample itself might not be normally distributed. But if you now repeat the experiment say 100 times, then the 100 means of those 100 samples (of 1000 customers) will make up a normal distribution.\n",
    "\n",
    "Insurer can effectively pool a large number of individuals to reduce the risk. However, the risk can be effectively pooled only when the random loss is independent. If the crop yields are independent across the country (may be correlated within a region), then the risk of expected loss can be effectively share through the common pooled resources. However, if the crop yields are not independent (are correlated) in the country among growers, then the crop insurance markets cannot survive without government subsidy. In this case it has heavier left tail and does not have the common normal distribution.\n",
    "\n",
    "However, if we have a large number of farmers in the insurance scheme or the large variety of crops then under the Central Limit Theorem (CLT), the loss can be effectively modeled with the standard Normal distribution. \n",
    "\n",
    "Even though the assumption of i.i.d. losses is strong and unrealistic, results are much simplified under this assumption and can help to see some key issues in risk pooling. When there is large number of farmers or large veriety of crops grown by the farmers, the loss function has\n",
    "\n",
    "E(SN)=Nμ\n",
    "\n",
    "var(SN)=Nσ^2\n",
    "\n",
    "here µ and σ^2 are the mean and variance of loss from each exposure unit. The central limit theorem implies that, when N is large, SN is approximately normally distributed and thus, for any 0 < α < 1, \n",
    "\n",
    "〖plim〗_(n→∞) (|(SN) ̅-Nμ|)→N(0,Nσ^2 )\n",
    "\n",
    "Her, we assume that losses are random variable and simulate it. \n",
    "\n"
   ]
  },
  {
   "cell_type": "code",
   "execution_count": 15,
   "metadata": {},
   "outputs": [
    {
     "data": {
      "image/png": "[encoded data removed]",
      "text/plain": [
       "<Figure size 432x288 with 6 Axes>"
      ]
     },
     "metadata": {
      "needs_background": "light"
     },
     "output_type": "display_data"
    }
   ],
   "source": [
    "import numpy as np  \n",
    "import matplotlib.pyplot as plt  \n",
    "%matplotlib inline \n",
    "numIterations = np.asarray([10,50,100,200,500,1000]); #number of i.i.d RVs  \n",
    "\n",
    "experiment = 'Farmers' #valid values: 'dice', 'coins'  \n",
    "\n",
    "maxNumForExperiment = {'Farmers':10} #max numbers represented on dice or coins nSamp=100000 \n",
    "\n",
    "nSamp=1000000\n",
    "\n",
    "k = maxNumForExperiment[experiment] \n",
    "\n",
    "fig, fig_axes = plt.subplots(ncols=3, nrows=2, constrained_layout=True) \n",
    "\n",
    "for i,N in enumerate(numIterations):  \n",
    "    y = np.random.randint(low=1,high=k+1,size=(N,nSamp)).sum(axis=0)  \n",
    "    row = i//3;col=i%3;  \n",
    "    bins=np.arange(start=min(y),stop=max(y)+2,step=1)  \n",
    "    fig_axes[row,col].hist(y,bins=bins,density=True)  \n",
    "    fig_axes[row,col].set_title('N={} {}'.format(N,experiment)) \n",
    "    \n",
    "plt.show() "
   ]
  },
  {
   "cell_type": "code",
   "execution_count": 1,
   "metadata": {},
   "outputs": [
    {
     "data": {
      "image/png": "[encoded data removed]",
      "text/plain": [
       "<Figure size 1440x1080 with 6 Axes>"
      ]
     },
     "metadata": {
      "needs_background": "light"
     },
     "output_type": "display_data"
    }
   ],
   "source": [
    "#Assuming the Gamma Distribution and then simulate it over a large number of farmers\n",
    "import numpy as np\n",
    "import random\n",
    "import matplotlib.pyplot as plt\n",
    "import scipy.stats as stats\n",
    "\n",
    "# Step 1\n",
    "# build gamma distribution as population\n",
    "shape, scale = 2., 2.  # mean=4, std=2*sqrt(2)\n",
    "s = np.random.gamma(shape, scale, 1000000)\n",
    "\n",
    "# Step 2\n",
    "## sample from population with different number of sampling\n",
    "# a list of sample mean\n",
    "meansample = []\n",
    "# number of sample\n",
    "numofsample = [10, 100, 1000,2500,5000,10000,25000,50000]\n",
    "# sample size\n",
    "samplesize = 500\n",
    "# for each number of sampling (1000 to 50000)\n",
    "for i in numofsample:\n",
    "    # collect mean of each sample\n",
    "    eachmeansample = []\n",
    "    # for each sampling\n",
    "    for j in range(0,i):\n",
    "        # sampling 500 sample from population\n",
    "        rc = random.choices(s, k=samplesize)\n",
    "        # collect mean of each sample\n",
    "        eachmeansample.append(sum(rc)/len(rc))\n",
    "    # add mean of each sampling to the list\n",
    "    meansample.append(eachmeansample)\n",
    "   \n",
    "# Step 3\n",
    "# I will import the list above, so I make the code after this line run only when I call this file directly\n",
    "if __name__ == \"__main__\":   \n",
    "    # plot\n",
    "    cols = 2\n",
    "    rows = 3\n",
    "    fig, ax = plt.subplots(rows, cols, figsize=(20,15))\n",
    "    n = 0\n",
    "    for i in range(0, rows):\n",
    "        for j in range(0, cols):\n",
    "            ax[i, j].hist(meansample[n], 200, density=True)\n",
    "            ax[i, j].set_title(label=\"number of sampling :\" + str(numofsample[n]))\n",
    "            n += 1\n",
    "    plt.show()"
   ]
  },
  {
   "cell_type": "markdown",
   "metadata": {},
   "source": [
    "# Other Probability Distributions \n"
   ]
  },
  {
   "cell_type": "markdown",
   "metadata": {},
   "source": [
    "# Q1: Create a notebook which clearly demonstrates the basic concepts and hands-on of Logistic, Log-Logistic, Logit-Normal distributions along with the logit function. You need to add comments in your own words. "
   ]
  },
  {
   "cell_type": "markdown",
   "metadata": {},
   "source": [
    "# Logistic Distribution"
   ]
  },
  {
   "cell_type": "markdown",
   "metadata": {},
   "source": [
    "The Logistic distribution is a continuous distribution and helps to describe the growth of data in statistical terms. It is used to for predicting how the growth will happen by taking in certain data. It resembles the normal distribution in certain ways, but has heavier tails. The application of such distribution is in the fields of economics, finance, logistic regression, machine learning and neural networks.\n",
    "It has three parameters, which are: \n",
    "1. loc – mean of the data which is 0 by default.\n",
    "2. scale – it is the standard deviation which predicts the flatness of the distribution, which by default is 1.\n",
    "3. size – it will depict the shape of the array.\n",
    "\n",
    "If we provide only the size, then the rest of two parameters will be taken by default (which are of standard normal distribution.\n",
    "The difference between the Normal and Logistic Distribution is that the logistic distribution has heavier tails and therefore, has more area under them.\n"
   ]
  },
  {
   "cell_type": "code",
   "execution_count": 16,
   "metadata": {},
   "outputs": [
    {
     "data": {
      "image/png": "[encoded data removed]",
      "text/plain": [
       "<Figure size 432x288 with 1 Axes>"
      ]
     },
     "metadata": {
      "needs_background": "light"
     },
     "output_type": "display_data"
    }
   ],
   "source": [
    "from scipy.stats import logistic\n",
    "import numpy as np\n",
    "import matplotlib.pyplot as plt\n",
    "fig, ax = plt.subplots(1, 1)\n",
    "\n",
    "#the 4 moments\n",
    "mean, var, skew, kurt = logistic.stats(moments='mvsk')\n",
    "\n",
    "#draw the pdf\n",
    "x = np.linspace(logistic.ppf(0.01),logistic.ppf(0.99), 100)\n",
    "ax.plot(x, logistic.pdf(x),'r-', lw=5, alpha=0.6, label='logistic pdf')\n",
    "\n",
    "#you can do the same thing as above by using an object of a logistic function with \"frozen\" parameters\n",
    "rv = logistic()\n",
    "ax.plot(x, rv.pdf(x), 'k-', lw=2, label='frozen pdf')\n",
    "\n",
    "vals = logistic.ppf([0.001, 0.5, 0.999])\n",
    "np.allclose([0.001, 0.5, 0.999], logistic.cdf(vals))\n",
    "\n",
    "r = logistic.rvs(size=1000)\n",
    "\n",
    "#also draw the histogram and compare with it\n",
    "ax.hist(r, density=True, histtype='stepfilled', alpha=0.2)\n",
    "ax.legend(loc='best', frameon=False)\n",
    "plt.show()"
   ]
  },
  {
   "cell_type": "markdown",
   "metadata": {},
   "source": [
    "# Log-Logistic Distributions"
   ]
  },
  {
   "cell_type": "markdown",
   "metadata": {},
   "source": [
    "The log-logistic distribution (Fisk distribution) is a continuous probability distribution for a non-negative random variable. The log-logistic distribution is the probability distribution of a random variable whose logarithm has a logistic distribution. It is similar in shape to the log-normal distribution but has heavier tails. \n",
    "It is used in survival analysis as a parametric model for events whose rate increases initially and decreases later, such as mortality rate from cancer following diagnosis or treatment. It is widely used to model the distribution of wealth or income.\n"
   ]
  },
  {
   "cell_type": "code",
   "execution_count": 17,
   "metadata": {},
   "outputs": [
    {
     "data": {
      "image/png": "[encoded data removed]",
      "text/plain": [
       "<Figure size 432x288 with 1 Axes>"
      ]
     },
     "metadata": {
      "needs_background": "light"
     },
     "output_type": "display_data"
    }
   ],
   "source": [
    "from scipy.stats import fisk\n",
    "import matplotlib.pyplot as plt\n",
    "fig, ax = plt.subplots(1, 1)\n",
    "c = 3.09 #Shape parameter\n",
    "#the first four moments:\n",
    "mean, var, skew, kurt = fisk.stats(c, moments='mvsk')\n",
    "\n",
    "#to draw the pdf (Display the probability density function-pdf:\n",
    "x = np.linspace(fisk.ppf(0.01, c),\n",
    "                fisk.ppf(0.99, c), 100)\n",
    "ax.plot(x, fisk.pdf(x, c),\n",
    "       'r-', lw=5, alpha=0.6, label='fisk/Log Logistic pdf')\n",
    "\n",
    "#the distribution object can be called (as a function) to fix the shape, location and scale parameters. \n",
    "#This returns a “frozen” RV object holding the given parameters fixed.\n",
    "#Freeze the distribution and display the frozen pdf:\n",
    "    \n",
    "rv = fisk(c)\n",
    "ax.plot(x, rv.pdf(x), 'k-', lw=2, label='frozen pdf')\n",
    "# to see the accuracy of cdf and ppf:\n",
    "vals = fisk.ppf([0.001, 0.5, 0.999], c)\n",
    "np.allclose([0.001, 0.5, 0.999], fisk.cdf(vals, c))\n",
    "#to generate random numbers:\n",
    "r = fisk.rvs(c, size=1000)\n",
    "# draw the histogram and compare both\n",
    "ax.hist(r, density=True, histtype='stepfilled', alpha=0.2)\n",
    "ax.legend(loc='best', frameon=False)\n",
    "plt.show()"
   ]
  },
  {
   "cell_type": "markdown",
   "metadata": {},
   "source": [
    "# Logit-Normal distributions"
   ]
  },
  {
   "attachments": {
    "image.png": {
     "image/png": "[encoded data removed]"
    }
   },
   "cell_type": "markdown",
   "metadata": {},
   "source": [
    "Logit-Normal Distributions\n",
    "The logit-normal distribution is a continuous probability distribution of a random variable whose logit has a normal distribution. If Y is a random variable with a normal distribution, and P is the standard logistic function, then X = P(Y) has a logit-normal distribution. Similarly, if X is logit-normally distributed, then Y = logit(X)= log (X/(1-X)) is normally distributed. \n",
    "Mostly variables expressed as proportion (values bounded by zero and one but zero and one never occur) are modeled as logit-normal.\n",
    "The probability density function (PDF) of a logit-normal distribution, for 0 < x < 1, is:\n",
    "      ![image.png](attachment:image.png)\n",
    "where μ and σ are the mean and standard deviation of the variable’s logit. It takes two parameters which are loc (mean) and scale (standard deviation)\n"
   ]
  },
  {
   "cell_type": "code",
   "execution_count": 18,
   "metadata": {},
   "outputs": [
    {
     "name": "stderr",
     "output_type": "stream",
     "text": [
      "<ipython-input-18-d4267e329032>:24: UserWarning: Matplotlib is currently using module://ipykernel.pylab.backend_inline, which is a non-GUI backend, so cannot show the figure.\n",
      "  fig.show()\n"
     ]
    },
    {
     "data": {
      "image/png": "[encoded data removed]",
      "text/plain": [
       "<Figure size 432x288 with 1 Axes>"
      ]
     },
     "metadata": {
      "needs_background": "light"
     },
     "output_type": "display_data"
    }
   ],
   "source": [
    "import numpy as np\n",
    "import matplotlib.pyplot as plt\n",
    "from scipy.special import logit\n",
    "from scipy.stats import norm, rv_continuous\n",
    "\n",
    "\n",
    "class LogitNormal(rv_continuous):\n",
    "    def __init__(self, scale=1, loc=0):\n",
    "        super().__init__(self)\n",
    "        self.scale = scale\n",
    "        self.loc = loc\n",
    "\n",
    "    def _pdf(self, x):\n",
    "        return norm.pdf(logit(x), loc=self.loc, scale=self.scale)/(x*(1-x))\n",
    "\n",
    "\n",
    "fig, ax = plt.subplots()\n",
    "values = np.linspace(10e-10, 1-10e-10, 1000)\n",
    "sigma, mu = 0.5, .001\n",
    "ax.plot(\n",
    "    values, LogitNormal(scale=sigma, loc=mu).pdf(values), label='Logit-Normal pdf'\n",
    ")\n",
    "ax.legend()\n",
    "fig.show()"
   ]
  },
  {
   "cell_type": "markdown",
   "metadata": {},
   "source": [
    "# Logit Function"
   ]
  },
  {
   "cell_type": "markdown",
   "metadata": {},
   "source": [
    "The logit function is the quantile function associated with the standard logistic distribution. Logit is the inverse of the standard logistic function σ(x)=1/(1+e^x), since the logit can be define as\n",
    "\n",
    " logit(p)=σ^(-1) (p)=log(p/(1-p))       for p∈(0,1)\n",
    "\n",
    "Thus the logit is a type of function that maps probability values from (0,1) to real numbers in (-∞,+∞). It has many uses in data analysis and machine learning, especially in data transformations.\n",
    "\n"
   ]
  },
  {
   "cell_type": "code",
   "execution_count": 19,
   "metadata": {},
   "outputs": [
    {
     "name": "stdout",
     "output_type": "stream",
     "text": [
      "[       -inf -1.09861229  0.          1.09861229         inf]\n",
      "[0.1   0.75  0.999]\n"
     ]
    },
    {
     "data": {
      "image/png": "[encoded data removed]",
      "text/plain": [
       "<Figure size 432x288 with 1 Axes>"
      ]
     },
     "metadata": {
      "needs_background": "light"
     },
     "output_type": "display_data"
    }
   ],
   "source": [
    "from scipy.special import logit, expit\n",
    "# to obtain logit of values\n",
    "z=logit([0, 0.25, 0.5, 0.75, 1])\n",
    "\n",
    "print(z)\n",
    "#expit is the inverse of logit:\n",
    "z1=expit(logit([0.1, 0.75, 0.999]))\n",
    "print(z1)\n",
    "\n",
    "#Plot logit(x) for x in [0, 1]:\n",
    "\n",
    "import matplotlib.pyplot as plt\n",
    "x = np.linspace(0, 1, 501)\n",
    "y = logit(x)\n",
    "plt.plot(x, y)\n",
    "plt.grid()\n",
    "plt.ylim(-6, 6)\n",
    "plt.xlabel('x')\n",
    "plt.title('logit(x)')\n",
    "plt.show()"
   ]
  },
  {
   "cell_type": "code",
   "execution_count": null,
   "metadata": {},
   "outputs": [],
   "source": []
  }
 ],
 "metadata": {
  "kernelspec": {
   "display_name": "Python 3",
   "language": "python",
   "name": "python3"
  },
  "language_info": {
   "codemirror_mode": {
    "name": "ipython",
    "version": 3
   },
   "file_extension": ".py",
   "mimetype": "text/x-python",
   "name": "python",
   "nbconvert_exporter": "python",
   "pygments_lexer": "ipython3",
   "version": "3.8.5"
  }
 },
 "nbformat": 4,
 "nbformat_minor": 4
}
