{
  "nbformat": 4,
  "nbformat_minor": 0,
  "metadata": {
    "kernelspec": {
      "display_name": "Python 3",
      "language": "python",
      "name": "python3"
    },
    "language_info": {
      "codemirror_mode": {
        "name": "ipython",
        "version": 3
      },
      "file_extension": ".py",
      "mimetype": "text/x-python",
      "name": "python",
      "nbconvert_exporter": "python",
      "pygments_lexer": "ipython3",
      "version": "3.8.5"
    },
    "colab": {
      "name": "All other questions.ipynb",
      "provenance": [],
      "collapsed_sections": [
        "IedukUDYc89B",
        "hhGWUgT2e_Wi",
        "8GsOTfd4h_Hw",
        "FWFF4Aewi97c",
        "xPFZIo2cwsZ4",
        "OE85fd3Wy0Hi",
        "1CCKCrOa7SBc",
        "bqabBHrmHcv8",
        "EJ-NofQ0gBa2"
      ]
    }
  },
  "cells": [
    {
      "cell_type": "markdown",
      "metadata": {
        "id": "NpxdKMxgdLmB"
      },
      "source": [
        "# Assignment 01"
      ]
    },
    {
      "cell_type": "code",
      "metadata": {
        "id": "YDjVOQnPdMoa"
      },
      "source": [
        "import scipy.stats as st\n",
        "import math\n",
        "from math import sqrt, ceil\n",
        "import numpy as np\n",
        "from numpy.random import normal\n",
        "from matplotlib import pyplot\n",
        "from scipy.special import logit, expit\n",
        "from scipy.stats import norm, rv_continuous, logistic, fisk\n",
        "import pandas as pd\n"
      ],
      "execution_count": 1,
      "outputs": []
    },
    {
      "cell_type": "markdown",
      "metadata": {
        "id": "4IBxZBkUc8M1"
      },
      "source": [
        "## **Normal Distribution**"
      ]
    },
    {
      "cell_type": "markdown",
      "metadata": {
        "id": "IedukUDYc89B"
      },
      "source": [
        "### **Q1: Calculate the filled-up area under each normal/gaussian curve below:**"
      ]
    },
    {
      "cell_type": "markdown",
      "metadata": {
        "id": "cgIOi_FAl_Dw"
      },
      "source": [
        "**a) z = 0.75**"
      ]
    },
    {
      "cell_type": "code",
      "metadata": {
        "colab": {
          "base_uri": "https://localhost:8080/"
        },
        "id": "g5Y1_oJySAZV",
        "outputId": "dab354b6-5e70-47c8-87fd-5b73fe95c1f4"
      },
      "source": [
        "z = 0.75\n",
        "print(\"Probability is: \", st.norm.cdf(z))\n"
      ],
      "execution_count": 34,
      "outputs": [
        {
          "output_type": "stream",
          "text": [
            "Probability is:  0.7733726476231317\n"
          ],
          "name": "stdout"
        }
      ]
    },
    {
      "cell_type": "markdown",
      "metadata": {
        "id": "5NqSj8AWmAIX"
      },
      "source": [
        "**b) z = -0.75**\n"
      ]
    },
    {
      "cell_type": "code",
      "metadata": {
        "colab": {
          "base_uri": "https://localhost:8080/"
        },
        "id": "SkO1W3kbd72v",
        "outputId": "9259c4c2-6bb0-457c-b2f8-773b53897c1b"
      },
      "source": [
        "z = -0.75\n",
        "print(\"Probability is: \", 1-st.norm.cdf(z))"
      ],
      "execution_count": 52,
      "outputs": [
        {
          "output_type": "stream",
          "text": [
            "Probability is:  0.7733726476231317\n"
          ],
          "name": "stdout"
        }
      ]
    },
    {
      "cell_type": "markdown",
      "metadata": {
        "id": "0mavciS1mBN-"
      },
      "source": [
        "**c) z = -0.6, z = 1.2**"
      ]
    },
    {
      "cell_type": "code",
      "metadata": {
        "colab": {
          "base_uri": "https://localhost:8080/"
        },
        "id": "7DAGiIT2d-M_",
        "outputId": "b1a9f797-cf1b-4423-8012-8ae9a676c5c6"
      },
      "source": [
        "z_1 = -0.6\n",
        "z_2 = 1.2\n",
        "p_1 = st.norm.cdf(z_1)\n",
        "p_2 = st.norm.cdf(z_2)\n",
        "p_final = p_2-p_1\n",
        "print(\"Probability is: \", p_final)"
      ],
      "execution_count": 4,
      "outputs": [
        {
          "output_type": "execute_result",
          "data": {
            "text/plain": [
              "0.6106772120282182"
            ]
          },
          "metadata": {},
          "execution_count": 4
        }
      ]
    },
    {
      "cell_type": "markdown",
      "metadata": {
        "id": "IOSAuQUdmCjm"
      },
      "source": [
        "**d) z = -0.9 , z = 1.6**"
      ]
    },
    {
      "cell_type": "code",
      "metadata": {
        "colab": {
          "base_uri": "https://localhost:8080/"
        },
        "id": "ZK3xfw5Rd-BE",
        "outputId": "af1534c9-3c84-4f1e-d1d1-d1b27afa641c"
      },
      "source": [
        "z_1 = -0.9\n",
        "z_2 = 1.6\n",
        "p_1 = st.norm.cdf(z_1)\n",
        "p_2 = st.norm.cdf(z_2)\n",
        "p_final = p_2-p_1\n",
        "print(\"Probability is: \", p_final)"
      ],
      "execution_count": 32,
      "outputs": [
        {
          "output_type": "stream",
          "text": [
            "Probability is:  0.7611405829536826\n"
          ],
          "name": "stdout"
        }
      ]
    },
    {
      "cell_type": "markdown",
      "metadata": {
        "id": "hhGWUgT2e_Wi"
      },
      "source": [
        "### **Q2: Assume that temperatures are distributed according to the standard normal distribution. Find the probability that a random temp measurement complies with the following requirements:**"
      ]
    },
    {
      "cell_type": "markdown",
      "metadata": {
        "id": "IbDebzcAmDuj"
      },
      "source": [
        "**a) Less than -5.5**"
      ]
    },
    {
      "cell_type": "code",
      "metadata": {
        "colab": {
          "base_uri": "https://localhost:8080/"
        },
        "id": "TA0KGZF1Zwna",
        "outputId": "a8f62ec7-54e5-486f-cbf0-fb27267f4dc5"
      },
      "source": [
        "z = -5.5\n",
        "print(\"Probability is: \", st.norm.cdf(z))"
      ],
      "execution_count": 31,
      "outputs": [
        {
          "output_type": "stream",
          "text": [
            "Probability is:  1.898956246588768e-08\n"
          ],
          "name": "stdout"
        }
      ]
    },
    {
      "cell_type": "markdown",
      "metadata": {
        "id": "Bn-qniRJmHB_"
      },
      "source": [
        "**b) Less than 4.44**"
      ]
    },
    {
      "cell_type": "code",
      "metadata": {
        "colab": {
          "base_uri": "https://localhost:8080/"
        },
        "id": "azA3CMtvfdkH",
        "outputId": "9df02ef2-212a-4c8d-9aba-7322d1269c6a"
      },
      "source": [
        "z = 4.44\n",
        "print(\"Probability is: \", st.norm.cdf(z))"
      ],
      "execution_count": 30,
      "outputs": [
        {
          "output_type": "stream",
          "text": [
            "Probability is:  0.9999955020561114\n"
          ],
          "name": "stdout"
        }
      ]
    },
    {
      "cell_type": "markdown",
      "metadata": {
        "id": "itoq1jyHmH0H"
      },
      "source": [
        "**c) Greater than 29.99**"
      ]
    },
    {
      "cell_type": "code",
      "metadata": {
        "colab": {
          "base_uri": "https://localhost:8080/"
        },
        "id": "HhAhUTBOfdTV",
        "outputId": "e873c3ec-2a66-4528-ff40-5330893807c3"
      },
      "source": [
        "z = 29.99\n",
        "print(\"Probability is: \", 1-st.norm.cdf(z))"
      ],
      "execution_count": 29,
      "outputs": [
        {
          "output_type": "stream",
          "text": [
            "Probability is:  0.0\n"
          ],
          "name": "stdout"
        }
      ]
    },
    {
      "cell_type": "markdown",
      "metadata": {
        "id": "u5Vul6N9oU9P"
      },
      "source": [
        "**d) Greater than −15.5**"
      ]
    },
    {
      "cell_type": "code",
      "metadata": {
        "colab": {
          "base_uri": "https://localhost:8080/"
        },
        "id": "CBGIyrBzfdP5",
        "outputId": "b6ae56fa-3aa1-4a19-a3a2-87e5439e349b"
      },
      "source": [
        "z = -15.5\n",
        "print(\"Probability is: \", 1-st.norm.cdf(z))"
      ],
      "execution_count": 28,
      "outputs": [
        {
          "output_type": "stream",
          "text": [
            "Probability is:  1.0\n"
          ],
          "name": "stdout"
        }
      ]
    },
    {
      "cell_type": "markdown",
      "metadata": {
        "id": "7m9Hc3EnoXVh"
      },
      "source": [
        "**e) Between 15 and 40**"
      ]
    },
    {
      "cell_type": "code",
      "metadata": {
        "colab": {
          "base_uri": "https://localhost:8080/"
        },
        "id": "U7mCsa0YhCS5",
        "outputId": "2586588a-cce3-4e40-9903-37d31ef061f0"
      },
      "source": [
        "z_1 = 15\n",
        "z_2 = 40\n",
        "p_1 = st.norm.cdf(z_1)\n",
        "p_2 = st.norm.cdf(z_2)\n",
        "p_final = p_2-p_1\n",
        "print(\"Probability is: \", p_final)"
      ],
      "execution_count": 12,
      "outputs": [
        {
          "output_type": "execute_result",
          "data": {
            "text/plain": [
              "0.0"
            ]
          },
          "metadata": {},
          "execution_count": 12
        }
      ]
    },
    {
      "cell_type": "markdown",
      "metadata": {
        "id": "wko3beedoZdU"
      },
      "source": [
        "**f) Between −23 and −2**"
      ]
    },
    {
      "cell_type": "code",
      "metadata": {
        "colab": {
          "base_uri": "https://localhost:8080/"
        },
        "id": "ONjZguDuhCJ5",
        "outputId": "991ff8b6-f1c7-4b0a-c247-d07dcfeded77"
      },
      "source": [
        "z_1 = -23\n",
        "z_2 = -2\n",
        "p_1 = st.norm.cdf(z_1)\n",
        "p_2 = st.norm.cdf(z_2)\n",
        "p_final = p_2-p_1\n",
        "print(\"Probability is: \", p_final)"
      ],
      "execution_count": 13,
      "outputs": [
        {
          "output_type": "execute_result",
          "data": {
            "text/plain": [
              "0.022750131948179195"
            ]
          },
          "metadata": {},
          "execution_count": 13
        }
      ]
    },
    {
      "cell_type": "markdown",
      "metadata": {
        "id": "ntRKnUYsocpu"
      },
      "source": [
        "**g) Greater than 0**"
      ]
    },
    {
      "cell_type": "code",
      "metadata": {
        "colab": {
          "base_uri": "https://localhost:8080/"
        },
        "id": "68TzH3gAhB9Q",
        "outputId": "67e796e6-edec-4bf6-bf0e-25e920d2fc82"
      },
      "source": [
        "z = 0\n",
        "print(\"Probability is: \", 1-st.norm.cdf(z))"
      ],
      "execution_count": 27,
      "outputs": [
        {
          "output_type": "stream",
          "text": [
            "Probability is:  0.5\n"
          ],
          "name": "stdout"
        }
      ]
    },
    {
      "cell_type": "markdown",
      "metadata": {
        "id": "8GsOTfd4h_Hw"
      },
      "source": [
        "### **Q3: Find z-scores corresponding to the filled-up area below:**"
      ]
    },
    {
      "cell_type": "markdown",
      "metadata": {
        "id": "iHbhgUhUofLd"
      },
      "source": [
        "**a) Area = 0.9798**"
      ]
    },
    {
      "cell_type": "code",
      "metadata": {
        "colab": {
          "base_uri": "https://localhost:8080/"
        },
        "id": "4uNc3sWFc4bd",
        "outputId": "ddfb2732-3c2b-4d9b-c900-2a7e1e0d5e16"
      },
      "source": [
        "a = 0.9798\n",
        "print(\"z-score: \",st.norm.ppf(a))"
      ],
      "execution_count": 23,
      "outputs": [
        {
          "output_type": "stream",
          "text": [
            "z-score:  2.0496356380817193\n"
          ],
          "name": "stdout"
        }
      ]
    },
    {
      "cell_type": "markdown",
      "metadata": {
        "id": "A-nEUN4soif4"
      },
      "source": [
        "**b) Area = 0.2546**"
      ]
    },
    {
      "cell_type": "code",
      "metadata": {
        "colab": {
          "base_uri": "https://localhost:8080/"
        },
        "id": "fWXsrmGaiVgl",
        "outputId": "db3f2eb4-64ac-44fc-e639-a8f126f4c925"
      },
      "source": [
        "a = 0.2546\n",
        "print(\"z-score: \",st.norm.ppf(a))"
      ],
      "execution_count": 24,
      "outputs": [
        {
          "output_type": "stream",
          "text": [
            "z-score:  -0.6600838842403063\n"
          ],
          "name": "stdout"
        }
      ]
    },
    {
      "cell_type": "markdown",
      "metadata": {
        "id": "_QDiK4BuolRv"
      },
      "source": [
        "**c) Area = 0.2546 (Part B and C are same as per assignment)**"
      ]
    },
    {
      "cell_type": "code",
      "metadata": {
        "colab": {
          "base_uri": "https://localhost:8080/"
        },
        "id": "D2JPRQBTiVRk",
        "outputId": "3506cda8-623a-4367-9f88-5821cee4b8d9"
      },
      "source": [
        "a = 0.2546\n",
        "print(\"z-score: \",st.norm.ppf(a))"
      ],
      "execution_count": 25,
      "outputs": [
        {
          "output_type": "stream",
          "text": [
            "z-score:  -0.6600838842403063\n"
          ],
          "name": "stdout"
        }
      ]
    },
    {
      "cell_type": "markdown",
      "metadata": {
        "id": "sd3lwMjuooAO"
      },
      "source": [
        "**d) Area = 0.9418**"
      ]
    },
    {
      "cell_type": "code",
      "metadata": {
        "colab": {
          "base_uri": "https://localhost:8080/"
        },
        "id": "QMt9ZhKGiVHA",
        "outputId": "c8d15545-0761-49d8-8aa2-8cd2faf8d6dc"
      },
      "source": [
        "a = 0.9418\n",
        "a_n = 1-a\n",
        "print(\"z-score: \", st.norm.ppf(a_n))"
      ],
      "execution_count": 62,
      "outputs": [
        {
          "output_type": "stream",
          "text": [
            "z-score:  -1.5700649575278007\n"
          ],
          "name": "stdout"
        }
      ]
    },
    {
      "cell_type": "markdown",
      "metadata": {
        "id": "FWFF4Aewi97c"
      },
      "source": [
        "### **Q4: Estimate the following probabilities:**"
      ]
    },
    {
      "cell_type": "markdown",
      "metadata": {
        "id": "mM7G8wUFl5Ef"
      },
      "source": [
        "**a) P(z>3.30)**"
      ]
    },
    {
      "cell_type": "code",
      "metadata": {
        "colab": {
          "base_uri": "https://localhost:8080/"
        },
        "id": "Uj9gOVNelnzy",
        "outputId": "85c35399-11b0-407c-c535-448b8390ad88"
      },
      "source": [
        "z = 3.30\n",
        "print(\"The probability is: \",st.norm.cdf(z))"
      ],
      "execution_count": 36,
      "outputs": [
        {
          "output_type": "stream",
          "text": [
            "The probability is:  0.9995165758576162\n"
          ],
          "name": "stdout"
        }
      ]
    },
    {
      "cell_type": "markdown",
      "metadata": {
        "id": "FBKXFcGmrKLY"
      },
      "source": [
        "**b) P(−0.43<z<1.54)**"
      ]
    },
    {
      "cell_type": "code",
      "metadata": {
        "colab": {
          "base_uri": "https://localhost:8080/"
        },
        "id": "Ei0GhFptjXHC",
        "outputId": "4fbbf3fd-c353-4542-e62d-ef791d6fa733"
      },
      "source": [
        "z_1 = -0.43\n",
        "z_2 = 1.54\n",
        "p_1 = st.norm.cdf(z_1)\n",
        "p_2 = st.norm.cdf(z_2)\n",
        "p_final = p_2-p_1\n",
        "print(\"The probability is: \",p_final)"
      ],
      "execution_count": 37,
      "outputs": [
        {
          "output_type": "stream",
          "text": [
            "The probability is:  0.6046220026927305\n"
          ],
          "name": "stdout"
        }
      ]
    },
    {
      "cell_type": "markdown",
      "metadata": {
        "id": "4MDsvt78s0T7"
      },
      "source": [
        "**c) P(z>−3.1)**"
      ]
    },
    {
      "cell_type": "code",
      "metadata": {
        "colab": {
          "base_uri": "https://localhost:8080/"
        },
        "id": "2KTFu5mBdl0w",
        "outputId": "bf0597c0-87d4-4d71-f092-1eec8b60e7a1"
      },
      "source": [
        "z = -3.1\n",
        "print(\"The probability is: \",1-st.norm.cdf(z))"
      ],
      "execution_count": 38,
      "outputs": [
        {
          "output_type": "stream",
          "text": [
            "The probability is:  0.9990323967867817\n"
          ],
          "name": "stdout"
        }
      ]
    },
    {
      "cell_type": "markdown",
      "metadata": {
        "id": "Z3CrLlzpwkx6"
      },
      "source": [
        "**d) P(z<−4.5)**"
      ]
    },
    {
      "cell_type": "code",
      "metadata": {
        "colab": {
          "base_uri": "https://localhost:8080/"
        },
        "id": "enO8nbYpwmgn",
        "outputId": "21669d9f-6aff-4aff-e313-5728d3b8821c"
      },
      "source": [
        "z = -4.5\n",
        "print(\"The probability is: \",st.norm.cdf(z))"
      ],
      "execution_count": 39,
      "outputs": [
        {
          "output_type": "stream",
          "text": [
            "The probability is:  3.3976731247300535e-06\n"
          ],
          "name": "stdout"
        }
      ]
    },
    {
      "cell_type": "markdown",
      "metadata": {
        "id": "xPFZIo2cwsZ4"
      },
      "source": [
        "### **Q5: Estimate the value of m:**"
      ]
    },
    {
      "cell_type": "markdown",
      "metadata": {
        "id": "4lseJ6fDw6Wi"
      },
      "source": [
        "**a) P(z<m)=0.9664**"
      ]
    },
    {
      "cell_type": "code",
      "metadata": {
        "colab": {
          "base_uri": "https://localhost:8080/"
        },
        "id": "ahhVeWV6j5UA",
        "outputId": "6fe7210e-c5e9-4330-d222-0306efcfb763"
      },
      "source": [
        "p = 0.9664\n",
        "print(\"The value of m is: \",st.norm.ppf(p))"
      ],
      "execution_count": 40,
      "outputs": [
        {
          "output_type": "stream",
          "text": [
            "The value of m is:  1.8303340685028076\n"
          ],
          "name": "stdout"
        }
      ]
    },
    {
      "cell_type": "markdown",
      "metadata": {
        "id": "kDUwwKGkxN6E"
      },
      "source": [
        "**b) P(z<m)=0.3050**"
      ]
    },
    {
      "cell_type": "code",
      "metadata": {
        "colab": {
          "base_uri": "https://localhost:8080/"
        },
        "id": "kIDLjAKMxRcX",
        "outputId": "b74a561a-5189-4f12-8e6d-3100c5e6938b"
      },
      "source": [
        "p = 0.3050\n",
        "print(\"The value of m is: \",st.norm.ppf(p))"
      ],
      "execution_count": 41,
      "outputs": [
        {
          "output_type": "stream",
          "text": [
            "The value of m is:  -0.5100734569685949\n"
          ],
          "name": "stdout"
        }
      ]
    },
    {
      "cell_type": "markdown",
      "metadata": {
        "id": "MIbbJr_wxWNb"
      },
      "source": [
        "**c) P(z>m)=0.0078**"
      ]
    },
    {
      "cell_type": "code",
      "metadata": {
        "colab": {
          "base_uri": "https://localhost:8080/"
        },
        "id": "5s-iZb46xZGw",
        "outputId": "fa1740e4-e525-45f7-945c-b40b43ac0c2a"
      },
      "source": [
        "p = 0.0078\n",
        "p_n = 1-p\n",
        "print(\"The value of m is: \",st.norm.ppf(p_n))"
      ],
      "execution_count": 67,
      "outputs": [
        {
          "output_type": "stream",
          "text": [
            "The value of m is:  2.418141713222739\n"
          ],
          "name": "stdout"
        }
      ]
    },
    {
      "cell_type": "markdown",
      "metadata": {
        "id": "OE85fd3Wy0Hi"
      },
      "source": [
        "### **Q6: The following normal have mean 100 and sd 15, find x:**"
      ]
    },
    {
      "cell_type": "markdown",
      "metadata": {
        "id": "U4AJmME0zST_"
      },
      "source": [
        "**a) Area = 0.6**"
      ]
    },
    {
      "cell_type": "code",
      "metadata": {
        "colab": {
          "base_uri": "https://localhost:8080/"
        },
        "id": "jvLIkeTHmf2W",
        "outputId": "78d52321-e2c6-43ea-ea4a-d6371488cc1f"
      },
      "source": [
        "mu = 100\n",
        "sd = 15\n",
        "a = 0.6\n",
        "print(\"The value of x is: \",st.norm(mu, sd).ppf(a)) # gives the z-score for a p-value when prob is distributed with a mean and a std deviation"
      ],
      "execution_count": 43,
      "outputs": [
        {
          "output_type": "stream",
          "text": [
            "The value of x is:  103.80020654703699\n"
          ],
          "name": "stdout"
        }
      ]
    },
    {
      "cell_type": "markdown",
      "metadata": {
        "id": "KTY57Sew0Hbf"
      },
      "source": [
        "**b) Area = 0.8**"
      ]
    },
    {
      "cell_type": "code",
      "metadata": {
        "colab": {
          "base_uri": "https://localhost:8080/"
        },
        "id": "057JOBqn0KOo",
        "outputId": "91abe313-a906-4910-fe3f-547e527acc76"
      },
      "source": [
        "mu = 100\n",
        "sd = 15\n",
        "a = 0.8\n",
        "a_n = 1-a\n",
        "print(\"The value of x is: \",st.norm(mu, sd).ppf(a_n))"
      ],
      "execution_count": 69,
      "outputs": [
        {
          "output_type": "stream",
          "text": [
            "The value of x is:  87.37568149640629\n"
          ],
          "name": "stdout"
        }
      ]
    },
    {
      "cell_type": "markdown",
      "metadata": {
        "id": "R5DudDLA0ZoU"
      },
      "source": [
        "**c) Area = 0.99**"
      ]
    },
    {
      "cell_type": "code",
      "metadata": {
        "colab": {
          "base_uri": "https://localhost:8080/"
        },
        "id": "HV4pUHrU0lBy",
        "outputId": "6fbb8a10-4cc5-44e3-ec08-8dd8aa21b98d"
      },
      "source": [
        "mu = 100\n",
        "sd = 15\n",
        "a = 0.99\n",
        "print(\"The value of x is: \",st.norm(mu, sd).ppf(a))"
      ],
      "execution_count": 45,
      "outputs": [
        {
          "output_type": "stream",
          "text": [
            "The value of x is:  134.8952181106126\n"
          ],
          "name": "stdout"
        }
      ]
    },
    {
      "cell_type": "markdown",
      "metadata": {
        "id": "1CCKCrOa7SBc"
      },
      "source": [
        "### **Q7: The average salary for freshmen professors is PKR 50,000. Assume normal distribution with standard deviation 2140.**"
      ]
    },
    {
      "cell_type": "markdown",
      "metadata": {
        "id": "yBioH9lD7f3n"
      },
      "source": [
        "**a) What is the probability that a randomly selected first-year teacher makes between 15,000 and 35,000 each year?**"
      ]
    },
    {
      "cell_type": "code",
      "metadata": {
        "colab": {
          "base_uri": "https://localhost:8080/"
        },
        "id": "UNNYcoeUsjyU",
        "outputId": "f4f49675-419b-4ba9-bf4d-7804971ff43d"
      },
      "source": [
        "mu = 50000\n",
        "sd = 2140\n",
        "z_1 = 15000\n",
        "z_2 = 35000\n",
        "p_1 = st.norm(mu, sd).cdf(z_1)\n",
        "p_2 = st.norm(mu, sd).cdf(z_2)\n",
        "p_final = p_2 - p_1\n",
        "print(\"The probability is: \",p_final)"
      ],
      "execution_count": 72,
      "outputs": [
        {
          "output_type": "stream",
          "text": [
            "The probability is:  1.197175112041309e-12\n"
          ],
          "name": "stdout"
        }
      ]
    },
    {
      "cell_type": "markdown",
      "metadata": {
        "id": "GN2c0feA9Ts_"
      },
      "source": [
        "**b) What is the probability that a randomly selected freshman prof has a salary less than 22,000?**"
      ]
    },
    {
      "cell_type": "code",
      "metadata": {
        "colab": {
          "base_uri": "https://localhost:8080/"
        },
        "id": "kpi0Kg0_9fqa",
        "outputId": "f39c72ad-fd80-4866-a8e9-c121208fc786"
      },
      "source": [
        "mu = 50000\n",
        "sd = 2140\n",
        "z = 22000\n",
        "p = st.norm(mu, sd).cdf(z)\n",
        "print(\"The probability is: \",p)"
      ],
      "execution_count": 73,
      "outputs": [
        {
          "output_type": "stream",
          "text": [
            "The probability is:  2.029374580583214e-39\n"
          ],
          "name": "stdout"
        }
      ]
    },
    {
      "cell_type": "markdown",
      "metadata": {
        "id": "Qqc9NwhY9tXB"
      },
      "source": [
        "**c) What is the probability that a randomly selected freshman prof has a salary at least 12,000?**"
      ]
    },
    {
      "cell_type": "code",
      "metadata": {
        "colab": {
          "base_uri": "https://localhost:8080/"
        },
        "id": "DjkYPGmw9sjf",
        "outputId": "8bea6b44-d39c-4180-e8d8-be7a0ecb4f0c"
      },
      "source": [
        "mu = 50000\n",
        "sd = 2140\n",
        "z = 12000\n",
        "p = st.norm(mu, sd).cdf(z)\n",
        "print(\"The probability is: \",1-p)"
      ],
      "execution_count": 79,
      "outputs": [
        {
          "output_type": "stream",
          "text": [
            "The probability is:  1.0\n"
          ],
          "name": "stdout"
        }
      ]
    },
    {
      "cell_type": "markdown",
      "metadata": {
        "id": "BtUNOYZo-LZM"
      },
      "source": [
        "**d) What is 90th percentile salary?**"
      ]
    },
    {
      "cell_type": "code",
      "metadata": {
        "colab": {
          "base_uri": "https://localhost:8080/"
        },
        "id": "1j4JaAVMAq_e",
        "outputId": "d9cb1908-7cba-4ef6-a805-c60ecd1a813e"
      },
      "source": [
        "mu = 50000\n",
        "sd = 2140\n",
        "p = 0.90\n",
        "z = st.norm(mu,sd).ppf(p)\n",
        "print (\"The 90th percentile salary is: \", z)"
      ],
      "execution_count": 81,
      "outputs": [
        {
          "output_type": "stream",
          "text": [
            "The 90th percentile salary is:  52742.52035026545\n"
          ],
          "name": "stdout"
        }
      ]
    },
    {
      "cell_type": "markdown",
      "metadata": {
        "id": "bqabBHrmHcv8"
      },
      "source": [
        "## **Confidence Interval**"
      ]
    },
    {
      "cell_type": "markdown",
      "metadata": {
        "id": "TCSi1L7XIgJq"
      },
      "source": [
        "### **Q1: Construct a 95% confidence interval for the mean height of male Pakistanis. Forty-nine male Pakistanis are surveyed. The sample mean is 71 inches. The sample standard deviation is 2.8 inches.**"
      ]
    },
    {
      "cell_type": "code",
      "metadata": {
        "colab": {
          "base_uri": "https://localhost:8080/",
          "height": 1000
        },
        "id": "Ohk_ypAjTtjk",
        "outputId": "8548355f-6e53-49ae-afc8-67441bf89ad5"
      },
      "source": [
        "mu = 71\n",
        "sd = 2.8\n",
        "n = 49\n",
        "lower, upper = st.norm.interval(0.95, loc=mu, scale=sd/sqrt(n))\n",
        "err_bound = (upper-lower)/2\n",
        "\n",
        "print('a) 95%% confidence interval is between: %.1f and %.1f' % (lower, upper))\n",
        "print(' Error Bound is: %.1f\\n' % (err_bound))  \n",
        "\n",
        "x = np.linspace(mu - 3*sd, mu + 3*sd, 49)\n",
        "x.sort\n",
        "pdf = st.norm.pdf(x, mu, sd)\n",
        "pyplot.figure(figsize = (10,7))\n",
        "pyplot.plot(x, pdf)\n",
        "pyplot.title('n = 49', loc = 'center', fontsize = '20')\n",
        "\n",
        "pyplot.axvline(x=lower, ymax=0.92, color='r', label = 'Lower Bound'+ ' ' + str(round(lower,1)))\n",
        "pyplot.axvline(x=upper, ymax=0.92, color='r', label = 'Upper Bound'+ ' ' + str(round(upper,1)))\n",
        "pyplot.axvline(x=mu, ymax=0.96, color='y', ls = '--', label = 'Mean'+ ' ' + str(mu))\n",
        "pyplot.legend()\n",
        "pyplot.show()\n",
        "\n",
        "print('\\n\\n\\nb) Ïf the sample size is increased from 49 to 2000, the confidence interval will decrease in size because all other factors are kept constant hence the only change will occur in the variablility of the population as shown below: \\n'  )\n",
        "\n",
        "n_ = 2000\n",
        "lower_, upper_ = st.norm.interval(0.95, loc=mu, scale=sd/sqrt(n_))\n",
        "err_bound_ = (upper-lower)/2\n",
        "\n",
        "print('95%% confidence interval is between: %.1f and %.1f' % (lower_, upper_))\n",
        "print('Error Bound is: %.1f\\n' % (err_bound_))  \n",
        "\n",
        "x_ = np.linspace(mu - 3*sd, mu + 3*sd, 49)\n",
        "x_.sort\n",
        "pdf_ = st.norm.pdf(x_, mu, sd)\n",
        "pyplot.figure(figsize = (10,7))\n",
        "pyplot.plot(x_, pdf_)\n",
        "pyplot.title('n = 2000', loc = 'center', fontsize = '20')\n",
        "\n",
        "pyplot.axvline(x=lower_, ymax=0.92, color='r', label = 'Lower Bound'+ ' ' + str(round(lower_,1)))\n",
        "pyplot.axvline(x=upper_, ymax=0.92, color='r', label = 'Upper Bound'+ ' ' + str(round(upper_,1)))\n",
        "pyplot.axvline(x=mu, ymax=0.96, color='y', ls = '--', label = 'Mean'+ ' ' + str(mu))\n",
        "pyplot.legend()\n",
        "pyplot.show()\n"
      ],
      "execution_count": 85,
      "outputs": [
        {
          "output_type": "stream",
          "text": [
            "a) 95% confidence interval is between: 70.2 and 71.8\n",
            " Error Bound is: 0.8\n",
            "\n"
          ],
          "name": "stdout"
        },
        {
          "output_type": "display_data",
          "data": {
            "image/png": "[encoded data removed]",
            "text/plain": [
              "<Figure size 720x504 with 1 Axes>"
            ]
          },
          "metadata": {
            "needs_background": "light"
          }
        },
        {
          "output_type": "stream",
          "text": [
            "\n",
            "\n",
            "\n",
            "b) Ïf the sample size is increased from 49 to 2000, the confidence interval will decrease in size because all other factors are kept constant hence the only change will occur in the variablility of the population as shown below: \n",
            "\n",
            "95% confidence interval is between: 70.9 and 71.1\n",
            "Error Bound is: 0.8\n",
            "\n"
          ],
          "name": "stdout"
        },
        {
          "output_type": "display_data",
          "data": {
            "image/png": "[encoded data removed]",
            "text/plain": [
              "<Figure size 720x504 with 1 Axes>"
            ]
          },
          "metadata": {
            "needs_background": "light"
          }
        }
      ]
    },
    {
      "cell_type": "markdown",
      "metadata": {
        "id": "RVjZDKs4KI5r"
      },
      "source": [
        "### **Q2) We do a survey to estimate the time needed to complete one person’s tax forms. We randomly survey 1000 people. The mean is 33.8 hours with sd of 6.5 hours. Assume normality.**"
      ]
    },
    {
      "cell_type": "code",
      "metadata": {
        "colab": {
          "base_uri": "https://localhost:8080/",
          "height": 499
        },
        "id": "FtiXLuJt9XvF",
        "outputId": "73ea37dc-fec3-4497-8e42-f030cd33d4fc"
      },
      "source": [
        "mu = 33.8\n",
        "sd = 6.5\n",
        "n = 1000\n",
        "lower, upper = st.norm.interval(0.95, loc=mu, scale=sd/sqrt(n))\n",
        "err_bound = (upper-lower)/2\n",
        "\n",
        "print('Assuming normality (95%% confidence interval) is between: %.1f and %.1f' % (lower, upper))\n",
        "print('Error Bound is: %.1f\\n' % (err_bound))  \n",
        "\n",
        "x = np.linspace(mu - 3*sd, mu + 3*sd, 49)\n",
        "x.sort\n",
        "pdf = st.norm.pdf(x, mu, sd)\n",
        "pyplot.figure(figsize = (10,7))\n",
        "pyplot.plot(x, pdf)\n",
        "pyplot.title('n = 1000', loc = 'center', fontsize = '20')\n",
        "\n",
        "pyplot.axvline(x=lower, ymax=0.95, color='r', label = 'Lower Bound'+ ' ' + str(round(lower,1)))\n",
        "pyplot.axvline(x=upper, ymax=0.95, color='r', label = 'Upper Bound'+ ' ' + str(round(upper,1)))\n",
        "pyplot.axvline(x=mu, ymax=0.96, color='y', ls = '--', label = 'Mean'+ ' ' + str(mu))\n",
        "pyplot.legend()\n",
        "pyplot.show()\n",
        "\n"
      ],
      "execution_count": 86,
      "outputs": [
        {
          "output_type": "stream",
          "text": [
            "Assuming normality (95% confidence interval) is between: 33.4 and 34.2\n",
            "Error Bound is: 0.4\n",
            "\n"
          ],
          "name": "stdout"
        },
        {
          "output_type": "display_data",
          "data": {
            "image/png": "[encoded data removed]",
            "text/plain": [
              "<Figure size 720x504 with 1 Axes>"
            ]
          },
          "metadata": {
            "needs_background": "light"
          }
        }
      ]
    },
    {
      "cell_type": "markdown",
      "metadata": {
        "id": "vpCHARl5KZQv"
      },
      "source": [
        "### **Q3: The average height of children has a normal distribution with standard deviation of 3.4 inches. We are interested in estimating the mean height of children at school to within two inches with 93% confidence. How many children must you measure**"
      ]
    },
    {
      "cell_type": "code",
      "metadata": {
        "colab": {
          "base_uri": "https://localhost:8080/"
        },
        "id": "hqdshpmEDNI-",
        "outputId": "50288aa8-1ed4-4408-9b06-4c7c7d2171ff"
      },
      "source": [
        "ci = 0.93\n",
        "sd = 3.4\n",
        "p = 1 - ((1-ci)/2)\n",
        "z = st.norm.ppf(p)\n",
        "\n",
        "n = (z*sd/2)**2\n",
        "n = ceil(n)\n",
        "#lower, upper = st.norm.interval(0.93, loc=mu, scale=sd/sqrt(n))\n",
        "#print('Assuming normality (95%% confidence interval) is between: %.1f and %.1f' % (lower, upper))\n",
        "print('Sample of children to be taken is: %.1f\\n' % (n))"
      ],
      "execution_count": 87,
      "outputs": [
        {
          "output_type": "stream",
          "text": [
            "Sample of children to be taken is: 10.0\n",
            "\n"
          ],
          "name": "stdout"
        }
      ]
    },
    {
      "cell_type": "markdown",
      "metadata": {
        "id": "EJ-NofQ0gBa2"
      },
      "source": [
        "## **Central Limit Theorem**"
      ]
    },
    {
      "cell_type": "markdown",
      "metadata": {
        "id": "SbyPGi4J-DUL"
      },
      "source": [
        "The problem modelled here is a very simple. Using CLT we are going to identify whether the rainfall (essentail for agrigarian activities) follows CLT or not. \n",
        "The data used for this model is the average rainfall recorded per month since Jan-1940 to Jul-2021. The file named 'Rainfall Data' is just drag and dropped into colab notebook for usage. "
      ]
    },
    {
      "cell_type": "code",
      "metadata": {
        "colab": {
          "base_uri": "https://localhost:8080/",
          "height": 1000
        },
        "id": "HINKrjATg7sb",
        "outputId": "8d596784-8761-48b6-8039-1361e487b169"
      },
      "source": [
        "mean_list = []\n",
        "\n",
        "numIterations = np.asarray([2,4,6,10,50,100,500])\n",
        "\n",
        "for i,N in enumerate(numIterations):\n",
        "  for j in range(1,N):\n",
        "    #print(j)\n",
        "    sample = df.sample(frac = 0.50, replace = False)\n",
        "    d = sample['Rainfall ']\n",
        "    mean = sum(d)/len(d)\n",
        "    mean_list.append(mean)\n",
        "    #print(mean_list)\n",
        "  mu, std = norm.fit(mean_list)\n",
        "\n",
        "# Plot the histogram.\n",
        "  pyplot.hist(mean_list, bins=25, density=True, alpha=0.6, color='g')\n",
        "\n",
        "# Plot the PDF.\n",
        "  xmin, xmax = pyplot.xlim()\n",
        "  x = np.linspace(xmin, xmax, 100)\n",
        "  p = norm.pdf(x, mu, std)\n",
        "  pyplot.plot(x, p, 'k', linewidth=2)\n",
        "  title = \"Fit results: n = %.2f,  std = %.2f\" % (N, std)\n",
        "  pyplot.title(title)\n",
        "\n",
        "  pyplot.show()\n",
        "\n"
      ],
      "execution_count": 75,
      "outputs": [
        {
          "output_type": "stream",
          "text": [
            "/usr/local/lib/python3.7/dist-packages/scipy/stats/_distn_infrastructure.py:1740: RuntimeWarning: divide by zero encountered in true_divide\n",
            "  x = np.asarray((x - loc)/scale, dtype=dtyp)\n"
          ],
          "name": "stderr"
        },
        {
          "output_type": "display_data",
          "data": {
            "image/png": "[encoded data removed]",
            "text/plain": [
              "<Figure size 432x288 with 1 Axes>"
            ]
          },
          "metadata": {
            "needs_background": "light"
          }
        },
        {
          "output_type": "display_data",
          "data": {
            "image/png": "[encoded data removed]",
            "text/plain": [
              "<Figure size 432x288 with 1 Axes>"
            ]
          },
          "metadata": {
            "needs_background": "light"
          }
        },
        {
          "output_type": "display_data",
          "data": {
            "image/png": "[encoded data removed]",
            "text/plain": [
              "<Figure size 432x288 with 1 Axes>"
            ]
          },
          "metadata": {
            "needs_background": "light"
          }
        },
        {
          "output_type": "display_data",
          "data": {
            "image/png": "[encoded data removed]",
            "text/plain": [
              "<Figure size 432x288 with 1 Axes>"
            ]
          },
          "metadata": {
            "needs_background": "light"
          }
        },
        {
          "output_type": "display_data",
          "data": {
            "image/png": "[encoded data removed]",
            "text/plain": [
              "<Figure size 432x288 with 1 Axes>"
            ]
          },
          "metadata": {
            "needs_background": "light"
          }
        },
        {
          "output_type": "display_data",
          "data": {
            "image/png": "[encoded data removed]",
            "text/plain": [
              "<Figure size 432x288 with 1 Axes>"
            ]
          },
          "metadata": {
            "needs_background": "light"
          }
        },
        {
          "output_type": "display_data",
          "data": {
            "image/png": "[encoded data removed]",
            "text/plain": [
              "<Figure size 432x288 with 1 Axes>"
            ]
          },
          "metadata": {
            "needs_background": "light"
          }
        }
      ]
    }
  ]
}