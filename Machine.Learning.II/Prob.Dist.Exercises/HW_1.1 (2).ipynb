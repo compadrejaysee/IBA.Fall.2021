{
 "cells": [
  {
   "cell_type": "markdown",
   "metadata": {},
   "source": [
    "### Homework 1"
   ]
  },
  {
   "cell_type": "code",
   "execution_count": 71,
   "metadata": {},
   "outputs": [],
   "source": [
    "import numpy as np\n",
    "import pandas as pd\n",
    "import scipy.stats as stats\n",
    "import numpy as np\n",
    "import matplotlib.pyplot as plt\n",
    "from scipy.stats import norm\n",
    "# if using a Jupyter notebook, inlcude:\n",
    "%matplotlib inline"
   ]
  },
  {
   "cell_type": "markdown",
   "metadata": {},
   "source": [
    "### Q1"
   ]
  },
  {
   "cell_type": "code",
   "execution_count": 4,
   "metadata": {},
   "outputs": [
    {
     "name": "stdout",
     "output_type": "stream",
     "text": [
      "For z score 0.75: 0.7733726476231317\n"
     ]
    }
   ],
   "source": [
    "print('For z score 0.75:',stats.norm.cdf(0.75)) "
   ]
  },
  {
   "cell_type": "code",
   "execution_count": 5,
   "metadata": {},
   "outputs": [
    {
     "name": "stdout",
     "output_type": "stream",
     "text": [
      "For z score -0.75: 0.2266273523768682\n"
     ]
    }
   ],
   "source": [
    "print('For z score -0.75:',stats.norm.cdf(-0.75)) "
   ]
  },
  {
   "cell_type": "code",
   "execution_count": 7,
   "metadata": {},
   "outputs": [
    {
     "name": "stdout",
     "output_type": "stream",
     "text": [
      "For z score between -0.6 and 1.2 : 0.6106772120282182\n"
     ]
    }
   ],
   "source": [
    "print('For z score between -0.6 and 1.2 :',stats.norm.cdf(1.2)-stats.norm.cdf(-0.6)) "
   ]
  },
  {
   "cell_type": "code",
   "execution_count": 8,
   "metadata": {},
   "outputs": [
    {
     "name": "stdout",
     "output_type": "stream",
     "text": [
      "For z score between -0.9 and 1.6 : 0.7611405829536826\n"
     ]
    }
   ],
   "source": [
    "print('For z score between -0.9 and 1.6 :',stats.norm.cdf(1.6)-stats.norm.cdf(-0.9)) "
   ]
  },
  {
   "cell_type": "markdown",
   "metadata": {},
   "source": [
    "### Q2"
   ]
  },
  {
   "cell_type": "code",
   "execution_count": 9,
   "metadata": {},
   "outputs": [
    {
     "name": "stdout",
     "output_type": "stream",
     "text": [
      "For z score less than -5.5 : 1.898956246588768e-08\n"
     ]
    }
   ],
   "source": [
    "print('For z score less than -5.5 :',stats.norm.cdf(-5.5)) "
   ]
  },
  {
   "cell_type": "code",
   "execution_count": 12,
   "metadata": {},
   "outputs": [
    {
     "name": "stdout",
     "output_type": "stream",
     "text": [
      "For z score less than 4.44 : 0.9999955020561114\n"
     ]
    }
   ],
   "source": [
    "print('For z score less than 4.44 :',stats.norm.cdf(4.44)) "
   ]
  },
  {
   "cell_type": "code",
   "execution_count": 13,
   "metadata": {},
   "outputs": [
    {
     "name": "stdout",
     "output_type": "stream",
     "text": [
      "For z score greater than 29.99 : 0.0\n"
     ]
    }
   ],
   "source": [
    "print('For z score greater than 29.99 :',1-stats.norm.cdf(29.99))"
   ]
  },
  {
   "cell_type": "code",
   "execution_count": 14,
   "metadata": {},
   "outputs": [
    {
     "name": "stdout",
     "output_type": "stream",
     "text": [
      "For z score greater than -15.5 : 1.0\n"
     ]
    }
   ],
   "source": [
    "print('For z score greater than -15.5 :',1-stats.norm.cdf(-15.5))"
   ]
  },
  {
   "cell_type": "code",
   "execution_count": 15,
   "metadata": {},
   "outputs": [
    {
     "name": "stdout",
     "output_type": "stream",
     "text": [
      "For z score between 15 and 40 : 0.0\n"
     ]
    }
   ],
   "source": [
    "print('For z score between 15 and 40 :',stats.norm.cdf(40)-stats.norm.cdf(15))"
   ]
  },
  {
   "cell_type": "code",
   "execution_count": 16,
   "metadata": {},
   "outputs": [
    {
     "name": "stdout",
     "output_type": "stream",
     "text": [
      "For z score between 15 and 40 : 0.022750131948179195\n"
     ]
    }
   ],
   "source": [
    "print('For z score between -2 and -23 :',stats.norm.cdf(-2)-stats.norm.cdf(-23))"
   ]
  },
  {
   "cell_type": "code",
   "execution_count": 17,
   "metadata": {},
   "outputs": [
    {
     "name": "stdout",
     "output_type": "stream",
     "text": [
      "For z score greater than 0 : 0.5\n"
     ]
    }
   ],
   "source": [
    "print('For z score greater than 0 :',stats.norm.cdf(0))"
   ]
  },
  {
   "cell_type": "markdown",
   "metadata": {},
   "source": [
    "### Q3"
   ]
  },
  {
   "cell_type": "code",
   "execution_count": 20,
   "metadata": {},
   "outputs": [
    {
     "name": "stdout",
     "output_type": "stream",
     "text": [
      "Probability will be 0.9798 for z < 2.0496356380817193\n"
     ]
    }
   ],
   "source": [
    "print('Probability will be 0.9798 for z <' ,stats.norm.ppf(0.9798))"
   ]
  },
  {
   "cell_type": "code",
   "execution_count": 24,
   "metadata": {},
   "outputs": [
    {
     "name": "stdout",
     "output_type": "stream",
     "text": [
      "Probability will be 0.9798 for z < -0.6600838842403063\n"
     ]
    }
   ],
   "source": [
    "print('Probability will be 0.9798 for z <' ,stats.norm.ppf(0.2546))"
   ]
  },
  {
   "cell_type": "code",
   "execution_count": 25,
   "metadata": {},
   "outputs": [
    {
     "name": "stdout",
     "output_type": "stream",
     "text": [
      "Probability will be 0.9798 for z < -0.6600838842403063\n"
     ]
    }
   ],
   "source": [
    "print('Probability will be 0.9798 for z <' ,stats.norm.ppf(0.2546))"
   ]
  },
  {
   "cell_type": "code",
   "execution_count": 23,
   "metadata": {},
   "outputs": [
    {
     "name": "stdout",
     "output_type": "stream",
     "text": [
      "Probability will be 0.9798 for z > -1.5700649575278007\n"
     ]
    }
   ],
   "source": [
    "print('Probability will be 0.9798 for z >' ,stats.norm.ppf(1-0.9418))"
   ]
  },
  {
   "cell_type": "markdown",
   "metadata": {},
   "source": [
    "### Q4"
   ]
  },
  {
   "cell_type": "code",
   "execution_count": 27,
   "metadata": {},
   "outputs": [
    {
     "name": "stdout",
     "output_type": "stream",
     "text": [
      "z > 3.3: 0.0004834241423837815\n"
     ]
    }
   ],
   "source": [
    "print('z > 3.3:',1-stats.norm.cdf(3.3)) "
   ]
  },
  {
   "cell_type": "code",
   "execution_count": 29,
   "metadata": {},
   "outputs": [
    {
     "name": "stdout",
     "output_type": "stream",
     "text": [
      "-0.43 < z < 1.54: 0.6046220026927305\n"
     ]
    }
   ],
   "source": [
    "print('-0.43 < z < 1.54:',stats.norm.cdf(1.54)-stats.norm.cdf(-0.43)) "
   ]
  },
  {
   "cell_type": "code",
   "execution_count": 30,
   "metadata": {},
   "outputs": [
    {
     "name": "stdout",
     "output_type": "stream",
     "text": [
      "z > -3.1: 0.9990323967867817\n"
     ]
    }
   ],
   "source": [
    "print('z > -3.1:',1-stats.norm.cdf(-3.1)) "
   ]
  },
  {
   "cell_type": "code",
   "execution_count": 32,
   "metadata": {},
   "outputs": [
    {
     "name": "stdout",
     "output_type": "stream",
     "text": [
      "z < -4.5 : 3.3976731247300535e-06\n"
     ]
    }
   ],
   "source": [
    "print('z < -4.5 :',stats.norm.cdf(-4.5)) "
   ]
  },
  {
   "cell_type": "markdown",
   "metadata": {},
   "source": [
    "### Q5"
   ]
  },
  {
   "cell_type": "code",
   "execution_count": 33,
   "metadata": {},
   "outputs": [
    {
     "name": "stdout",
     "output_type": "stream",
     "text": [
      "Probability will be 0.9644 for z < 1.804199740635136\n"
     ]
    }
   ],
   "source": [
    "print('Probability will be 0.9644 for z <' ,stats.norm.ppf(0.9644))"
   ]
  },
  {
   "cell_type": "code",
   "execution_count": 34,
   "metadata": {},
   "outputs": [
    {
     "name": "stdout",
     "output_type": "stream",
     "text": [
      "Probability will be 0.9644 for z < -0.5100734569685949\n"
     ]
    }
   ],
   "source": [
    "print('Probability will be 0.3050 for z <' ,stats.norm.ppf(0.3050))"
   ]
  },
  {
   "cell_type": "code",
   "execution_count": 35,
   "metadata": {},
   "outputs": [
    {
     "name": "stdout",
     "output_type": "stream",
     "text": [
      "Probability will be 0.0078 for z > 2.418141713222739\n"
     ]
    }
   ],
   "source": [
    "print('Probability will be 0.0078 for z >' ,stats.norm.ppf(1-0.0078))"
   ]
  },
  {
   "cell_type": "markdown",
   "metadata": {},
   "source": [
    "### Q6"
   ]
  },
  {
   "cell_type": "code",
   "execution_count": 36,
   "metadata": {},
   "outputs": [
    {
     "name": "stdout",
     "output_type": "stream",
     "text": [
      "Probability will be 0.6 for x < 103.80020654703699\n"
     ]
    }
   ],
   "source": [
    "print('Probability will be 0.6 for x <' ,stats.norm(100, 15).ppf(0.6))"
   ]
  },
  {
   "cell_type": "code",
   "execution_count": 37,
   "metadata": {},
   "outputs": [
    {
     "name": "stdout",
     "output_type": "stream",
     "text": [
      "Probability will be 0.8 for x > 87.37568149640629\n"
     ]
    }
   ],
   "source": [
    "print('Probability will be 0.8 for x >' ,stats.norm(100, 15).ppf(0.2))"
   ]
  },
  {
   "cell_type": "code",
   "execution_count": 38,
   "metadata": {},
   "outputs": [
    {
     "name": "stdout",
     "output_type": "stream",
     "text": [
      "Probability will be 0.99 for x < 134.8952181106126\n"
     ]
    }
   ],
   "source": [
    "print('Probability will be 0.99 for x <' ,stats.norm(100, 15).ppf(0.99))"
   ]
  },
  {
   "cell_type": "markdown",
   "metadata": {},
   "source": [
    "### Q7 The average salary for freshmen professors is PKR 50,000. Assume normal distribution with standard deviation 2140.\n",
    "\n",
    "· What is the probability that a randomly selected first-year teacher makes between 15,000 and 35,000 each year?\n",
    "\n",
    "· What is the probability that a randomly selected freshman prof has a salary less than 22,000?\n",
    "\n",
    "· What is the probability that a randomly selected freshman prof has a salary at least 12,000?\n",
    "\n",
    "· What is 90th percentile salary?"
   ]
  },
  {
   "cell_type": "code",
   "execution_count": 39,
   "metadata": {},
   "outputs": [
    {
     "name": "stdout",
     "output_type": "stream",
     "text": [
      "Probability that the first year teacher earns between 35000 and 15000 1.197175112041309e-12\n"
     ]
    }
   ],
   "source": [
    "print('Probability that the first year teacher earns between 35000 and 15000',stats.norm(50000,2140).cdf(35000)-stats.norm(50000,2140).cdf(15000))"
   ]
  },
  {
   "cell_type": "code",
   "execution_count": 40,
   "metadata": {},
   "outputs": [
    {
     "name": "stdout",
     "output_type": "stream",
     "text": [
      "Probability that the first year teacher earns less than 22000 2.029374580583214e-39\n"
     ]
    }
   ],
   "source": [
    "print('Probability that the first year teacher earns less than 22000',stats.norm(50000,2140).cdf(22000))"
   ]
  },
  {
   "cell_type": "code",
   "execution_count": 41,
   "metadata": {},
   "outputs": [
    {
     "name": "stdout",
     "output_type": "stream",
     "text": [
      "Probability that the first year teacher earns atleast more than 12000 is 1.0\n"
     ]
    }
   ],
   "source": [
    "print('Probability that the first year teacher earns atleast more than 12000 is',1-stats.norm(50000,2140).cdf(12000))"
   ]
  },
  {
   "cell_type": "code",
   "execution_count": 43,
   "metadata": {},
   "outputs": [
    {
     "name": "stdout",
     "output_type": "stream",
     "text": [
      "Probability that the first year teacher earns atleast more than 12000 is 52742.52\n"
     ]
    }
   ],
   "source": [
    "print('Probability that the first year teacher earns atleast more than 12000 is', stats.norm(50000, 2140).ppf(0.9).round(2))"
   ]
  },
  {
   "cell_type": "markdown",
   "metadata": {},
   "source": [
    "### Confidence Intervals\n",
    "Q1: Construct a 95% confidence interval for the mean height of male Pakistanis. Forty-nine male Pakistanis are surveyed. The sample mean is 71 inches. The sample standard deviation is 2.8 inches.\n",
    "\n",
    "· State the CI interval\n",
    "\n",
    "· Draw the graph\n",
    "\n",
    "· Calculate the error bound\n",
    "\n",
    "· What will happen to the level of confidence obtained if 2,000 male Pakistanis are surveyed instead of 49? Why?"
   ]
  },
  {
   "cell_type": "code",
   "execution_count": 45,
   "metadata": {},
   "outputs": [
    {
     "name": "stdout",
     "output_type": "stream",
     "text": [
      "Confidence Interval ( 70.22 71.78 )\n"
     ]
    }
   ],
   "source": [
    "lower_bound=stats.norm(71, (2.8/7)).ppf(0.05/2).round(2)\n",
    "upper_bound=stats.norm(71, (2.8/7)).ppf(1-0.05/2).round(2)\n",
    "print('Confidence Interval','(',lower_bound,upper_bound,')')"
   ]
  },
  {
   "cell_type": "code",
   "execution_count": 48,
   "metadata": {},
   "outputs": [
    {
     "data": {
      "image/png": "[encoded data removed]",
      "text/plain": [
       "<Figure size 648x432 with 1 Axes>"
      ]
     },
     "metadata": {},
     "output_type": "display_data"
    }
   ],
   "source": [
    "# define constants\n",
    "mu = 71\n",
    "sigma = 2.8/7\n",
    "x1 = 70.22\n",
    "x2 = 71.78\n",
    "# calculate the z-transform\n",
    "z1 = ( x1 - mu ) / sigma\n",
    "z2 = ( x2 - mu ) / sigma\n",
    "x = np.arange(z1, z2, 0.001) # range of x in spec\n",
    "x_all = np.arange(-10, 10, 0.001) # entire range of x, both in and out of spec\n",
    "# mean = 0, stddev = 1, since Z-transform was calculated\n",
    "y = norm.pdf(x,0,1)\n",
    "y2 = norm.pdf(x_all,0,1)\n",
    "# build the plot\n",
    "fig, ax = plt.subplots(figsize=(9,6))\n",
    "plt.style.use('fivethirtyeight')\n",
    "ax.plot(x_all,y2)\n",
    "\n",
    "ax.fill_between(x,y,0, alpha=0.3, color='b')\n",
    "ax.fill_between(x_all,y2,0, alpha=0.1)\n",
    "ax.set_xlim([-4,4])\n",
    "ax.set_xlabel('# of Standard Deviations Outside the Mean')\n",
    "ax.set_yticklabels([])\n",
    "ax.set_title('Normal Gaussian Curve')\n",
    "\n",
    "plt.savefig('normal_curve.png', dpi=72, bbox_inches='tight')\n",
    "plt.show()"
   ]
  },
  {
   "cell_type": "code",
   "execution_count": 50,
   "metadata": {},
   "outputs": [
    {
     "name": "stdout",
     "output_type": "stream",
     "text": [
      "Error bound : 0.7800000000000011\n"
     ]
    }
   ],
   "source": [
    "print('Error bound :',((upper_bound-lower_bound)/2))"
   ]
  },
  {
   "cell_type": "code",
   "execution_count": null,
   "metadata": {},
   "outputs": [],
   "source": [
    "As we increase the size of n we the confidence interval get more tighter"
   ]
  },
  {
   "cell_type": "markdown",
   "metadata": {},
   "source": [
    "Q2: We do a survey to estimate the time needed to complete one person’s tax forms. We randomly survey 1000 people. The mean is 33.8 hours with sd of 6.5 hours. Assume normality\n",
    "\n",
    "· State the CI interval\n",
    "\n",
    "· Draw the graph\n",
    "\n",
    "· Calculate the error bound"
   ]
  },
  {
   "cell_type": "code",
   "execution_count": 51,
   "metadata": {},
   "outputs": [
    {
     "name": "stdout",
     "output_type": "stream",
     "text": [
      "Confidence Interval ( 33.4 34.2 )\n"
     ]
    }
   ],
   "source": [
    "import math\n",
    "lower_bound=stats.norm(33.8, (6.5/math.sqrt(1000))).ppf(0.05/2).round(2)\n",
    "upper_bound=stats.norm(33.8, (6.5/math.sqrt(1000))).ppf(1-0.05/2).round(2)\n",
    "print('Confidence Interval','(',lower_bound,upper_bound,')')"
   ]
  },
  {
   "cell_type": "code",
   "execution_count": 52,
   "metadata": {},
   "outputs": [
    {
     "data": {
      "image/png": "[encoded data removed]",
      "text/plain": [
       "<Figure size 648x432 with 1 Axes>"
      ]
     },
     "metadata": {},
     "output_type": "display_data"
    }
   ],
   "source": [
    "# define constants\n",
    "mu = 33.8\n",
    "sigma = 6.5/math.sqrt(1000)\n",
    "x1 = lower_bound\n",
    "x2 = upper_bound\n",
    "\n",
    "def plt_normal(mu,sigma,x1,x2):\n",
    "    # calculate the z-transform\n",
    "    z1 = ( x1 - mu ) / sigma\n",
    "    z2 = ( x2 - mu ) / sigma\n",
    "    x = np.arange(z1, z2, 0.001) # range of x in spec\n",
    "    x_all = np.arange(-10, 10, 0.001) # entire range of x, both in and out of spec\n",
    "    # mean = 0, stddev = 1, since Z-transform was calculated\n",
    "    y = norm.pdf(x,0,1)\n",
    "    y2 = norm.pdf(x_all,0,1)\n",
    "    # build the plot\n",
    "    fig, ax = plt.subplots(figsize=(9,6))\n",
    "    plt.style.use('fivethirtyeight')\n",
    "    ax.plot(x_all,y2)\n",
    "\n",
    "    ax.fill_between(x,y,0, alpha=0.3, color='b')\n",
    "    ax.fill_between(x_all,y2,0, alpha=0.1)\n",
    "    ax.set_xlim([-4,4])\n",
    "    ax.set_xlabel('# of Standard Deviations Outside the Mean')\n",
    "    ax.set_yticklabels([])\n",
    "    ax.set_title('Normal Gaussian Curve')\n",
    "\n",
    "    plt.savefig('normal_curve.png', dpi=72, bbox_inches='tight')\n",
    "    plt.show()\n",
    "plt_normal(mu,sigma,x1,x2)"
   ]
  },
  {
   "cell_type": "code",
   "execution_count": 53,
   "metadata": {},
   "outputs": [
    {
     "name": "stdout",
     "output_type": "stream",
     "text": [
      "Error bound : 0.40000000000000213\n"
     ]
    }
   ],
   "source": [
    "print('Error bound :',((upper_bound-lower_bound)/2))"
   ]
  },
  {
   "cell_type": "markdown",
   "metadata": {},
   "source": [
    "Q3: The average height of children has a normal distribution with standard deviation of 3.4 inches. We are interested in estimating the mean height of children at school to within two inches with 93% confidence. How many children must you measure?"
   ]
  },
  {
   "cell_type": "markdown",
   "metadata": {},
   "source": [
    "Formulae : x̄ ± z* σ / (√n)"
   ]
  },
  {
   "cell_type": "code",
   "execution_count": 64,
   "metadata": {},
   "outputs": [
    {
     "name": "stdout",
     "output_type": "stream",
     "text": [
      "10 children\n"
     ]
    }
   ],
   "source": [
    "print(math.ceil(((stats.norm.ppf(0.965)*3.4)/2)**2),'children')"
   ]
  },
  {
   "cell_type": "markdown",
   "metadata": {},
   "source": [
    "### Central Limit Theorem"
   ]
  },
  {
   "cell_type": "code",
   "execution_count": 70,
   "metadata": {},
   "outputs": [
    {
     "data": {
      "image/png": "[encoded data removed]",
      "text/plain": [
       "<Figure size 432x288 with 1 Axes>"
      ]
     },
     "metadata": {},
     "output_type": "display_data"
    },
    {
     "data": {
      "image/png": "[encoded data removed]",
      "text/plain": [
       "<Figure size 432x288 with 1 Axes>"
      ]
     },
     "metadata": {},
     "output_type": "display_data"
    },
    {
     "data": {
      "image/png": "[encoded data removed]",
      "text/plain": [
       "<Figure size 432x288 with 1 Axes>"
      ]
     },
     "metadata": {},
     "output_type": "display_data"
    },
    {
     "data": {
      "image/png": "[encoded data removed]",
      "text/plain": [
       "<Figure size 432x288 with 1 Axes>"
      ]
     },
     "metadata": {},
     "output_type": "display_data"
    }
   ],
   "source": [
    "    \n",
    "# demonstration of the central limit theorem\\n\",\n",
    "from numpy.random import seed\n",
    "from numpy.random import randint\n",
    "from numpy import mean\n",
    "from matplotlib import pyplot\n",
    "\n",
    "seed(1)\n",
    "# calculate the mean of 24 hr readings over 31 days in 5 years\\n\",\n",
    "means = [mean(randint(3, 18, 24)) for _ in range(31*5)]\n",
    "# plot the distribution of sample means\\n\",\n",
    "pyplot.hist(means)\n",
    "pyplot.show()\n",
    "\n",
    "# seed the random number generator\\n\"\n",
    "seed(1),\n",
    "# calculate the mean of 24 hr readings over 31 days in 6 years\\n\",\n",
    "means = [mean(randint(3, 18, 24)) for _ in range(31*6)]\n",
    "# plot the distribution of sample means\\n\",\n",
    "pyplot.hist(means)\n",
    "pyplot.show()\n",
    "\n",
    "\n",
    "seed(1)\n",
    "# calculate the mean of 24 hr readings over 31 days in 7 years\n",
    "means = [mean(randint(3, 18, 24)) for _ in range(31*7)]\n",
    "# plot the distribution of sample means\\n\",\n",
    "pyplot.hist(means),\n",
    "pyplot.show()\n",
    "# seed the random number generator\\n\",\n",
    "seed(1)\n",
    "# calculate the mean of 24 hr readings over 31 days in 7 years\\n\",\n",
    "means = [mean(randint(3, 18, 24)) for _ in range(31*8)]\n",
    "# plot the distribution of sample means\\n\",\n",
    "pyplot.hist(means)\n",
    "pyplot.show()"
   ]
  },
  {
   "cell_type": "markdown",
   "metadata": {},
   "source": [
    "We can see that as we are increasing the number of years the distribution is approaching to be normal the actual mean recorded \n",
    "for Islamabad in the momth of January is 10.5 and the random data generated is also supporting it showing that as\n",
    "we increase the number of readings taken over multiple yaers we reach normal distribution with a mean of 10.5 which is also the actual mean once we have this estimate we can ensure that the crops grown in nearby areas of Islamabad can sustain mean temperatures around 10.5 degrees in month of January such means can be calculated for all months and crops can be grown accordingly."
   ]
  },
  {
   "cell_type": "code",
   "execution_count": null,
   "metadata": {},
   "outputs": [],
   "source": []
  }
 ],
 "metadata": {
  "kernelspec": {
   "display_name": "Python 3",
   "language": "python",
   "name": "python3"
  },
  "language_info": {
   "codemirror_mode": {
    "name": "ipython",
    "version": 3
   },
   "file_extension": ".py",
   "mimetype": "text/x-python",
   "name": "python",
   "nbconvert_exporter": "python",
   "pygments_lexer": "ipython3",
   "version": "3.8.5"
  }
 },
 "nbformat": 4,
 "nbformat_minor": 4
}
