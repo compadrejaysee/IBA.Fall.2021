{
 "cells": [
  {
   "cell_type": "markdown",
   "metadata": {},
   "source": [
    "# Normal Distribution"
   ]
  },
  {
   "cell_type": "code",
   "execution_count": 1,
   "metadata": {},
   "outputs": [],
   "source": [
    "import numpy as np  \n",
    "import matplotlib.pyplot as plt  \n",
    "%matplotlib inline "
   ]
  },
  {
   "cell_type": "code",
   "execution_count": 9,
   "metadata": {},
   "outputs": [
    {
     "name": "stdout",
     "output_type": "stream",
     "text": [
      "Probablity of z score less than 0.75 = 0.7733726476231317\n",
      "Probablity of z score greater than -0.75 = 0.7733726476231317\n",
      "Probablity of z score between -0.6 and 1.2 = 0.6106772120282182\n",
      "Probablity of z score between -0.9 and 1.6 = 0.7611405829536826\n"
     ]
    }
   ],
   "source": [
    "# Question 1 \n",
    "\n",
    "from scipy.stats import norm\n",
    "\n",
    "mu=0\n",
    "sd=1\n",
    "\n",
    "distr=norm(mu,sd) # standard normal distribution\n",
    "\n",
    "# probability of z less than 0.75\n",
    "print('Probablity of z score less than 0.75 = ', end='')\n",
    "print (distr.cdf(0.75))\n",
    "\n",
    "#probability of z greater than -0.75\n",
    "print('Probablity of z score greater than -0.75 = ', end='')\n",
    "print(1-distr.cdf(-0.75))\n",
    "\n",
    "# probability of z between -0.6 and 1.2\n",
    "print('Probablity of z score between -0.6 and 1.2 = ', end='')\n",
    "print(distr.cdf(1.2)-distr.cdf(-0.6))\n",
    "\n",
    "# probability of z between -0.9 and 1.6\n",
    "print('Probablity of z score between -0.9 and 1.6 = ', end='')\n",
    "print(distr.cdf(1.6)-distr.cdf(-0.9))\n"
   ]
  },
  {
   "cell_type": "code",
   "execution_count": 45,
   "metadata": {},
   "outputs": [
    {
     "name": "stdout",
     "output_type": "stream",
     "text": [
      "Probablity of z score less than -5.5 = 1.898956246588768e-08\n",
      "Probablity of z score less than 4.4 = 0.9999945874560923\n",
      "Probablity of z score greater than 29.99 = 0.0\n",
      "Probablity of z score greater than -15.5 = 1.0\n",
      "Probablity of z score between 15 and 40 = 0.0\n",
      "Probablity of z score between -2 and -23 = 0.022750131948179195\n",
      "Probablity of z score greater than 0 = 0.5\n"
     ]
    }
   ],
   "source": [
    "# Question 2\n",
    "\n",
    "# probability of z less than -5.5\n",
    "print('Probablity of z score less than -5.5 = ', end='')\n",
    "print (distr.cdf(-5.5))\n",
    "\n",
    "# probability of z less than 4.4\n",
    "print('Probablity of z score less than 4.4 = ', end='')\n",
    "print (distr.cdf(4.4))\n",
    "\n",
    "# probability of z greater than 29.99\n",
    "print('Probablity of z score greater than 29.99 = ', end='')\n",
    "print (1-distr.cdf(29.99))\n",
    "\n",
    "# probability of z greater than -15.5\n",
    "print('Probablity of z score greater than -15.5 = ', end='')\n",
    "print (1-distr.cdf(-15.5))\n",
    "\n",
    "# probability of z between 15 and 40\n",
    "print('Probablity of z score between 15 and 40 = ', end='')\n",
    "print(distr.cdf(40)-distr.cdf(15))\n",
    "\n",
    "# probability of z between -2 and -23\n",
    "print('Probablity of z score between -2 and -23 = ', end='')\n",
    "print(distr.cdf(-2)-distr.cdf(-23))\n",
    "\n",
    "# probability of z greater than 0\n",
    "print('Probablity of z score greater than 0 = ', end='')\n",
    "print (1-distr.cdf(0))\n",
    "\n"
   ]
  },
  {
   "cell_type": "code",
   "execution_count": 10,
   "metadata": {},
   "outputs": [
    {
     "name": "stdout",
     "output_type": "stream",
     "text": [
      "Probability of  z< 2.0496356380817193 = 0.9798\n",
      "Probability of  z< -0.6600838842403063 = 0.2546\n",
      "Probability of  z> -1.5700649575278007 = 0.9418\n"
     ]
    }
   ],
   "source": [
    "# Question 3\n",
    "\n",
    "z1=distr.ppf(0.9798)\n",
    "print('Probability of  z< {0} = 0.9798'.format(z1))\n",
    "\n",
    "z2=distr.ppf(0.2546)\n",
    "print(end='')\n",
    "print('Probability of  z< {0} = 0.2546'.format(z2))\n",
    "\n",
    "z3=distr.ppf(0.9418)\n",
    "print(end='')\n",
    "print('Probability of  z> {0} = 0.9418'.format(-z3))\n",
    "\n",
    "\n",
    "\n"
   ]
  },
  {
   "cell_type": "code",
   "execution_count": 41,
   "metadata": {},
   "outputs": [
    {
     "name": "stdout",
     "output_type": "stream",
     "text": [
      "Probablity of z score greater than 3.3 = 0.0004834241423837815\n",
      "Probablity of z score between -0.43 and 1.54 = 0.6046220026927305\n",
      "Probablity of z score greater than 3.1 = 0.9990323967867817\n",
      "Probablity of z score less than -4.5 = 3.3976731247300535e-06\n"
     ]
    }
   ],
   "source": [
    "# Question 4\n",
    "\n",
    "# probability of z>3.3\n",
    "print('Probablity of z score greater than 3.3 = ', end='')\n",
    "print (1-distr.cdf(3.3))\n",
    "\n",
    "# probability of z between -0.43 and 1.54\n",
    "print('Probablity of z score between -0.43 and 1.54 = ', end='')\n",
    "print (distr.cdf(1.54)-distr.cdf(-0.43))\n",
    "\n",
    "# probability of z greater than -3.1\n",
    "print('Probablity of z score greater than 3.1 = ', end='')\n",
    "print (1-distr.cdf(-3.1))\n",
    "\n",
    "# probability of z less than -4.5\n",
    "print('Probablity of z score less than -4.5 = ', end='')\n",
    "print (distr.cdf(-4.5))\n",
    "\n",
    "\n"
   ]
  },
  {
   "cell_type": "code",
   "execution_count": 42,
   "metadata": {},
   "outputs": [
    {
     "name": "stdout",
     "output_type": "stream",
     "text": [
      "Probability of  z< 1.8303340685028076 = 0.9664\n",
      "Probability of  z< -0.5100734569685949 = 0.305\n",
      "Probability of  z> 2.4181417132227403 = 0.0078\n"
     ]
    }
   ],
   "source": [
    "# Question 5\n",
    "\n",
    "z1=distr.ppf(0.9664)\n",
    "print('Probability of  z< {0} = 0.9664'.format(z1))\n",
    "\n",
    "z2=distr.ppf(0.305)\n",
    "print(end='')\n",
    "print('Probability of  z< {0} = 0.305'.format(z2))\n",
    "\n",
    "z3=distr.ppf(0.0078)\n",
    "print(end='')\n",
    "print('Probability of  z> {0} = 0.0078'.format(-z3))\n",
    "\n"
   ]
  },
  {
   "cell_type": "code",
   "execution_count": 43,
   "metadata": {},
   "outputs": [
    {
     "name": "stdout",
     "output_type": "stream",
     "text": [
      "Probability of  x< 103.80020654703699 = 0.6\n",
      "Probability of  x> -112.62431850359371 = 0.8\n",
      "Probability of  x< 134.8952181106126 = 0.99\n"
     ]
    }
   ],
   "source": [
    "# Question 6\n",
    "\n",
    "mu2=100\n",
    "sd2=15\n",
    "distr2=norm(mu2,sd2)\n",
    "\n",
    "x1=distr2.ppf(0.6)\n",
    "print('Probability of  x< {0} = 0.6'.format(x1))\n",
    "\n",
    "x2=distr2.ppf(0.8)\n",
    "print('Probability of  x> {0} = 0.8'.format(-x2))\n",
    "\n",
    "x3=distr2.ppf(0.99)\n",
    "print('Probability of  x< {0} = 0.99'.format(x3))\n",
    "\n",
    "\n"
   ]
  },
  {
   "cell_type": "code",
   "execution_count": 53,
   "metadata": {},
   "outputs": [
    {
     "name": "stdout",
     "output_type": "stream",
     "text": [
      "probability that a randomly selected first-year teacher makes between 15,000 and 35,000 each year = 1.197175112041309e-12\n",
      "probability that a randomly selected freshman prof has a salary less than 22,000 = 2.029374580583214e-39\n",
      "probability that a randomly selected freshman prof has a salary at least 12,000 = 1.0\n"
     ]
    }
   ],
   "source": [
    "# Question 7\n",
    "\n",
    "mu3=50000\n",
    "sd3=2140\n",
    "distr3 = norm(mu3,sd3)\n",
    "\n",
    "print('probability that a randomly selected first-year teacher makes between 15,000 and 35,000 each year = ', end='')\n",
    "print(distr3.cdf(35000)-distr3.cdf(15000))\n",
    "\n",
    "print('probability that a randomly selected freshman prof has a salary less than 22,000 = ', end='')\n",
    "print(distr3.cdf(22000))\n",
    "\n",
    "print('probability that a randomly selected freshman prof has a salary at least 12,000 = ', end='')\n",
    "print(1-distr3.cdf(12000))\n",
    "\n"
   ]
  },
  {
   "cell_type": "markdown",
   "metadata": {},
   "source": [
    "# Confidence Interval"
   ]
  },
  {
   "cell_type": "code",
   "execution_count": 95,
   "metadata": {},
   "outputs": [
    {
     "name": "stdout",
     "output_type": "stream",
     "text": [
      "[71.67101552 69.55450989 68.23640253 68.01960745 69.65733124 72.61629186\n",
      " 71.49636023 72.90737159 71.15536705 74.46586385 65.02528508 70.4518989\n",
      " 66.67654532 68.89508853 69.6194189  71.50068795 71.65124476 68.18571236\n",
      " 69.26199185 73.1187899  74.77455766 73.42361641 74.45424972 71.43038563\n",
      " 69.2776127  69.94275177 73.20980703 66.57260258 68.8277577  69.55686417\n",
      " 72.69031201 73.6588813  69.42724502 77.09737694 68.897472   78.0532973\n",
      " 70.31731728 69.96660121 69.41697256 76.46465072 73.94076095 73.82750782\n",
      " 68.62622572 67.70675624 69.1976015  74.30569456 71.43182967 70.03550756\n",
      " 75.28384123]\n",
      "95% confidence interval for 49 random samples: \n",
      "(70.32633161189582, 71.95868233504459)\n"
     ]
    },
    {
     "data": {
      "text/plain": [
       "(array([0.0469945 , 0.        , 0.        , 0.093989  , 0.        ,\n",
       "        0.        , 0.093989  , 0.093989  , 0.18797799, 0.14098349,\n",
       "        0.28196699, 0.14098349, 0.093989  , 0.        , 0.23497249,\n",
       "        0.093989  , 0.        , 0.093989  , 0.14098349, 0.093989  ,\n",
       "        0.093989  , 0.14098349, 0.0469945 , 0.0469945 , 0.        ,\n",
       "        0.        , 0.0469945 , 0.0469945 , 0.        , 0.0469945 ]),\n",
       " array([65.02528508, 65.45955216, 65.89381923, 66.3280863 , 66.76235338,\n",
       "        67.19662045, 67.63088753, 68.0651546 , 68.49942167, 68.93368875,\n",
       "        69.36795582, 69.8022229 , 70.23648997, 70.67075704, 71.10502412,\n",
       "        71.53929119, 71.97355827, 72.40782534, 72.84209241, 73.27635949,\n",
       "        73.71062656, 74.14489364, 74.57916071, 75.01342778, 75.44769486,\n",
       "        75.88196193, 76.31622901, 76.75049608, 77.18476315, 77.61903023,\n",
       "        78.0532973 ]),\n",
       " <BarContainer object of 30 artists>)"
      ]
     },
     "execution_count": 95,
     "metadata": {},
     "output_type": "execute_result"
    },
    {
     "data": {
      "image/png": "[encoded data removed]",
      "text/plain": [
       "<Figure size 432x288 with 1 Axes>"
      ]
     },
     "metadata": {
      "needs_background": "light"
     },
     "output_type": "display_data"
    }
   ],
   "source": [
    "# Question 1\n",
    "\n",
    "from scipy.stats import t, sem\n",
    "from numpy.random import normal\n",
    "\n",
    "mu=71\n",
    "sd=2.8\n",
    "n=49\n",
    "\n",
    "sample=normal(mu,sd,n)\n",
    "print(sample)\n",
    "print(end='')\n",
    "\n",
    "\n",
    "print('95% confidence interval for 49 random samples: ')\n",
    "print(t.interval(0.95, len(sample)-1, np.mean(sample),sem(sample)))\n",
    "\n",
    "plt.hist(sample,30, density=1)\n",
    "\n",
    "\n"
   ]
  },
  {
   "cell_type": "code",
   "execution_count": 96,
   "metadata": {},
   "outputs": [
    {
     "name": "stdout",
     "output_type": "stream",
     "text": [
      "[76.85977222 72.20266475 70.29984859 ... 69.36659096 75.7758215\n",
      " 70.96890295]\n",
      "95% confidence interval for 2000 random samples: \n",
      "(70.95369015112485, 71.1994982735961)\n"
     ]
    },
    {
     "data": {
      "text/plain": [
       "(array([0.00147051, 0.00147051, 0.00294103, 0.00367629, 0.00808783,\n",
       "        0.02058721, 0.03235133, 0.0397039 , 0.06102636, 0.08528986,\n",
       "        0.10293603, 0.12352324, 0.13381685, 0.14411045, 0.12278798,\n",
       "        0.13087582, 0.1294053 , 0.09337769, 0.07646677, 0.05735008,\n",
       "        0.03602761, 0.02352824, 0.01838143, 0.0102936 , 0.00588206,\n",
       "        0.00220577, 0.00147051, 0.00073526, 0.        , 0.00073526]),\n",
       " array([61.62793136, 62.30796532, 62.98799929, 63.66803325, 64.34806722,\n",
       "        65.02810118, 65.70813515, 66.38816911, 67.06820308, 67.74823704,\n",
       "        68.42827101, 69.10830497, 69.78833894, 70.4683729 , 71.14840687,\n",
       "        71.82844083, 72.5084748 , 73.18850876, 73.86854273, 74.54857669,\n",
       "        75.22861066, 75.90864462, 76.58867859, 77.26871255, 77.94874652,\n",
       "        78.62878048, 79.30881445, 79.98884841, 80.66888238, 81.34891634,\n",
       "        82.02895031]),\n",
       " <BarContainer object of 30 artists>)"
      ]
     },
     "execution_count": 96,
     "metadata": {},
     "output_type": "execute_result"
    },
    {
     "data": {
      "image/png": "[encoded data removed]",
      "text/plain": [
       "<Figure size 432x288 with 1 Axes>"
      ]
     },
     "metadata": {
      "needs_background": "light"
     },
     "output_type": "display_data"
    }
   ],
   "source": [
    "from scipy.stats import t, sem\n",
    "from numpy.random import normal\n",
    "\n",
    "mu=71\n",
    "sd=2.8\n",
    "n=2000\n",
    "\n",
    "sample=normal(mu,sd,n)\n",
    "print(sample)\n",
    "print(end='')\n",
    "\n",
    "\n",
    "print('95% confidence interval for 2000 random samples: ')\n",
    "print(t.interval(0.95, len(sample)-1, np.mean(sample),sem(sample)))\n",
    "\n",
    "plt.hist(sample,30, density=1)\n",
    "\n",
    "\n"
   ]
  },
  {
   "cell_type": "markdown",
   "metadata": {},
   "source": [
    "As expected, taking a large number of samples made the graphtend more towards a normal behaviour. It complies with our law of large numbers that the mean is converging towards the expected value. Not only this, but for the same confidence level, our confidence interval became narrower because more values are converging towards the mean. Due to larger number of samples, we can make better claims about the population. "
   ]
  },
  {
   "cell_type": "code",
   "execution_count": 100,
   "metadata": {},
   "outputs": [
    {
     "name": "stdout",
     "output_type": "stream",
     "text": [
      "(33.24377981107244, 34.020693975482956)\n"
     ]
    },
    {
     "data": {
      "text/plain": [
       "(array([0.00238242, 0.        , 0.00119121, 0.00119121, 0.00238242,\n",
       "        0.        , 0.00238242, 0.00357362, 0.00476483, 0.00476483,\n",
       "        0.01191208, 0.0154857 , 0.03216261, 0.02620657, 0.02739778,\n",
       "        0.03454503, 0.05003073, 0.03335382, 0.03930986, 0.05003073,\n",
       "        0.05003073, 0.05717798, 0.06432522, 0.05598677, 0.07266368,\n",
       "        0.07147247, 0.0750461 , 0.03454503, 0.06670764, 0.05360435,\n",
       "        0.03573624, 0.03335382, 0.0309714 , 0.0297802 , 0.01905933,\n",
       "        0.02144174, 0.01905933, 0.02144174, 0.00714725, 0.00833846,\n",
       "        0.00595604, 0.00595604, 0.        , 0.00357362, 0.00119121,\n",
       "        0.00238242, 0.        , 0.        , 0.        , 0.00119121]),\n",
       " array([13.31471202, 14.15419607, 14.99368012, 15.83316417, 16.67264822,\n",
       "        17.51213226, 18.35161631, 19.19110036, 20.03058441, 20.87006846,\n",
       "        21.70955251, 22.54903656, 23.38852061, 24.22800466, 25.0674887 ,\n",
       "        25.90697275, 26.7464568 , 27.58594085, 28.4254249 , 29.26490895,\n",
       "        30.104393  , 30.94387705, 31.7833611 , 32.62284514, 33.46232919,\n",
       "        34.30181324, 35.14129729, 35.98078134, 36.82026539, 37.65974944,\n",
       "        38.49923349, 39.33871754, 40.17820158, 41.01768563, 41.85716968,\n",
       "        42.69665373, 43.53613778, 44.37562183, 45.21510588, 46.05458993,\n",
       "        46.89407397, 47.73355802, 48.57304207, 49.41252612, 50.25201017,\n",
       "        51.09149422, 51.93097827, 52.77046232, 53.60994637, 54.44943041,\n",
       "        55.28891446]),\n",
       " <BarContainer object of 50 artists>)"
      ]
     },
     "execution_count": 100,
     "metadata": {},
     "output_type": "execute_result"
    },
    {
     "data": {
      "image/png": "[encoded data removed]",
      "text/plain": [
       "<Figure size 432x288 with 1 Axes>"
      ]
     },
     "metadata": {
      "needs_background": "light"
     },
     "output_type": "display_data"
    }
   ],
   "source": [
    "# Question 2\n",
    "\n",
    "mu=33.8\n",
    "sd=6.5\n",
    "n=1000\n",
    "\n",
    "sample=normal(mu,sd,n)\n",
    "#print(sample)\n",
    "\n",
    "print(t.interval(0.95, len(sample)-1,np.mean(sample),sem(sample)))\n",
    "\n",
    "plt.hist(sample,50,density=1)\n",
    "\n",
    "\n"
   ]
  },
  {
   "cell_type": "code",
   "execution_count": 101,
   "metadata": {},
   "outputs": [
    {
     "data": {
      "text/plain": [
       "2.499561"
      ]
     },
     "execution_count": 101,
     "metadata": {},
     "output_type": "execute_result"
    }
   ],
   "source": [
    "# Question 3\n",
    "\n",
    "sd=3.4\n",
    "CL=0.93\n",
    "\n",
    "n=((CL*sd)/2) ** 2\n",
    "n\n",
    "\n"
   ]
  },
  {
   "cell_type": "markdown",
   "metadata": {},
   "source": [
    "# Central Limit Theorem"
   ]
  },
  {
   "cell_type": "code",
   "execution_count": 43,
   "metadata": {},
   "outputs": [
    {
     "data": {
      "image/png": "[encoded data removed]",
      "text/plain": [
       "<Figure size 432x288 with 6 Axes>"
      ]
     },
     "metadata": {
      "needs_background": "light"
     },
     "output_type": "display_data"
    }
   ],
   "source": [
    "numIterations = np.asarray([1,2,5,10,50,100]); #number of i.i.d RVs  \n",
    "\n",
    "experiment = 'Apple'\n",
    "\n",
    "maxNumForExperiment = {'Apple':40} #max weight of an apple is 40 grams \n",
    "\n",
    "nSamp=1000000\n",
    "\n",
    "k = maxNumForExperiment[experiment] \n",
    "\n",
    "fig, fig_axes = plt.subplots(ncols=3, nrows=2, constrained_layout=True) \n",
    "\n",
    "for i,N in enumerate(numIterations):  \n",
    "    y = np.random.randint(low=10,high=k+1,size=(N,nSamp)).sum(axis=0)  # minimum weight can be 10 grams \n",
    "    row = i//3;col=i%3;  \n",
    "    bins=np.arange(start=min(y),stop=max(y)+2,step=1)  \n",
    "    fig_axes[row,col].hist(y,bins=bins,density=True)  \n",
    "    fig_axes[row,col].set_title('N={} {}'.format(N,experiment)) \n",
    "    \n",
    "plt.show() \n",
    "\n",
    "# not only higher number of samples but larger samples in size too\n"
   ]
  },
  {
   "cell_type": "raw",
   "metadata": {},
   "source": [
    "For each of the six graphs above, 1000000 trials were performed but in each case, sample size was different. When only one sample was used for each trial, it didn't converge to any value because one sample is not enough to make claims about the population. In order to make accurate claims about the population, larger sample size is needed. As the sample size was increased, the distribution starts to mimick the normal distribution curve. Also, the mean value of this distribution converges to the expected value of the apple weight. According to the graphs, expected value is 25. This is what central limit theorem states as well."
   ]
  },
  {
   "cell_type": "markdown",
   "metadata": {},
   "source": [
    "# Other Probability Distribution\n"
   ]
  },
  {
   "cell_type": "code",
   "execution_count": 39,
   "metadata": {},
   "outputs": [
    {
     "data": {
      "image/png": "[encoded data removed]",
      "text/plain": [
       "<Figure size 432x288 with 1 Axes>"
      ]
     },
     "metadata": {
      "needs_background": "light"
     },
     "output_type": "display_data"
    },
    {
     "data": {
      "image/png": "[encoded data removed]",
      "text/plain": [
       "<Figure size 432x288 with 1 Axes>"
      ]
     },
     "metadata": {
      "needs_background": "light"
     },
     "output_type": "display_data"
    },
    {
     "data": {
      "image/png": "[encoded data removed]",
      "text/plain": [
       "<Figure size 432x288 with 1 Axes>"
      ]
     },
     "metadata": {
      "needs_background": "light"
     },
     "output_type": "display_data"
    },
    {
     "data": {
      "text/plain": [
       "array(1.2)"
      ]
     },
     "execution_count": 39,
     "metadata": {},
     "output_type": "execute_result"
    },
    {
     "data": {
      "image/png": "[encoded data removed]",
      "text/plain": [
       "<Figure size 432x288 with 1 Axes>"
      ]
     },
     "metadata": {
      "needs_background": "light"
     },
     "output_type": "display_data"
    }
   ],
   "source": [
    "# Logistic distribution\n",
    "\n",
    "from scipy.stats import logistic\n",
    "import numpy as np\n",
    "import matplotlib.pyplot as plt\n",
    "\n",
    "values=[]\n",
    "size=1000\n",
    "#x1=np.random.logistic(0,1,size)\n",
    "#x2=np.random.logistic(4,2,size)\n",
    "#x3=np.random.logistic(8,3,size)\n",
    "\n",
    "x1=logistic(0,1)\n",
    "x2=logistic(2,4)\n",
    "x3=logistic(3,8)\n",
    "\n",
    "a = np.linspace(x1.ppf(0.01), x1.ppf(0.99), size)\n",
    "probabilities = [x1.pdf(value) for value in a]\n",
    "\n",
    "plt.plot(a, probabilities) # continous\n",
    "plt.show()\n",
    "\n",
    "b = np.linspace(x2.ppf(0.01), x2.ppf(0.99), size)\n",
    "probabilities = [x2.pdf(value) for value in b]\n",
    "\n",
    "plt.plot(b, probabilities) # continous\n",
    "plt.show()\n",
    "\n",
    "c = np.linspace(x3.ppf(0.01), x3.ppf(0.99), size)\n",
    "probabilities = [x3.pdf(value) for value in c]\n",
    "\n",
    "plt.plot(c, probabilities) # continous\n",
    "plt.show()\n",
    "\n",
    "x4=logistic.rvs(3,8,size)\n",
    "plt.hist(x4,50, density=1)\n",
    "plt.show\n",
    "\n",
    "\n"
   ]
  },
  {
   "cell_type": "raw",
   "metadata": {},
   "source": [
    "As it can be seen, graph represents normal distribution with parameters mean and standard deviation. However, higher kurtosis can be observed."
   ]
  },
  {
   "cell_type": "code",
   "execution_count": 42,
   "metadata": {},
   "outputs": [
    {
     "name": "stdout",
     "output_type": "stream",
     "text": [
      "[       -inf -1.09861229  0.          1.09861229         inf]\n"
     ]
    },
    {
     "data": {
      "image/png": "[encoded data removed]",
      "text/plain": [
       "<Figure size 432x288 with 1 Axes>"
      ]
     },
     "metadata": {
      "needs_background": "light"
     },
     "output_type": "display_data"
    }
   ],
   "source": [
    "# Logit Function\n",
    "\n",
    "from scipy.special import logit, expit\n",
    "\n",
    "print(logit([0, 0.25, 0.5, 0.75, 1]))\n",
    "\n",
    "expit(logit([0.1, 0.75, 0.999]))\n",
    "\n",
    "\n",
    "#Plot logit(x) for x in [0, 1]:\n",
    "\n",
    "x = np.linspace(0, 1, 501)\n",
    "y = logit(x)\n",
    "plt.plot(x, y)\n",
    "plt.grid()\n",
    "plt.ylim(-6, 6)\n",
    "plt.xlabel('x')\n",
    "plt.title('logit(x)')\n",
    "plt.show()\n",
    "\n"
   ]
  },
  {
   "cell_type": "raw",
   "metadata": {},
   "source": [
    "Logit function is teh inverse of standard logic distribution. It also has a shape of CDF of logistic distribution having probabilities scaled between 0 and 1."
   ]
  },
  {
   "cell_type": "code",
   "execution_count": 47,
   "metadata": {},
   "outputs": [
    {
     "name": "stderr",
     "output_type": "stream",
     "text": [
      "<ipython-input-47-a060766194c7>:24: UserWarning: Matplotlib is currently using module://ipykernel.pylab.backend_inline, which is a non-GUI backend, so cannot show the figure.\n",
      "  fig.show()\n",
      "<ipython-input-47-a060766194c7>:24: UserWarning: Matplotlib is currently using module://ipykernel.pylab.backend_inline, which is a non-GUI backend, so cannot show the figure.\n",
      "  fig.show()\n"
     ]
    },
    {
     "data": {
      "image/png": "[encoded data removed]",
      "text/plain": [
       "<Figure size 432x288 with 1 Axes>"
      ]
     },
     "metadata": {
      "needs_background": "light"
     },
     "output_type": "display_data"
    },
    {
     "data": {
      "image/png": "[encoded data removed]",
      "text/plain": [
       "<Figure size 432x288 with 1 Axes>"
      ]
     },
     "metadata": {
      "needs_background": "light"
     },
     "output_type": "display_data"
    }
   ],
   "source": [
    "# Logit normal distribution\n",
    "\n",
    "from scipy.stats import norm, rv_continuous\n",
    "\n",
    "\n",
    "class LogitNormal(rv_continuous):\n",
    "    def __init__(self, scale=1, loc=0):\n",
    "        super().__init__(self)\n",
    "        self.scale = scale\n",
    "        self.loc = loc\n",
    "\n",
    "    def _pdf(self, x):\n",
    "        return norm.pdf(logit(x), loc=self.loc, scale=self.scale)/(x*(1-x))\n",
    "\n",
    "\n",
    "for s in [1.78, 0.32]:    \n",
    "    fig, ax = plt.subplots()\n",
    "    values = np.linspace(10e-10, 1-10e-10, 1000)\n",
    "    sigma, mu = s, 0\n",
    "    ax.plot(\n",
    "        values, LogitNormal(scale=sigma, loc=mu).pdf(values), label='subclassed'\n",
    "    )\n",
    "    ax.legend()\n",
    "    fig.show()"
   ]
  },
  {
   "cell_type": "raw",
   "metadata": {},
   "source": [
    "As seen in the above graph, logit function of a random variable is a normal distribution. Its parameter is sigma. If sigma is decreased, it will become more and more like a normal distribution. Standard normal distribution is taken as a random variable in above example and applying logic function to it will give us a logit normal graph and its shape will depend on sigma. \n",
    "\n"
   ]
  }
 ],
 "metadata": {
  "kernelspec": {
   "display_name": "Python 3",
   "language": "python",
   "name": "python3"
  },
  "language_info": {
   "codemirror_mode": {
    "name": "ipython",
    "version": 3
   },
   "file_extension": ".py",
   "mimetype": "text/x-python",
   "name": "python",
   "nbconvert_exporter": "python",
   "pygments_lexer": "ipython3",
   "version": "3.8.5"
  }
 },
 "nbformat": 4,
 "nbformat_minor": 4
}
