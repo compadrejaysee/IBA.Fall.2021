{
 "cells": [
  {
   "cell_type": "markdown",
   "metadata": {},
   "source": [
    "# Assignment 4 (ML-II)\n",
    "\n",
    "# IRIS Dataset (Example 3)\n",
    "\n",
    "## Wali Ullah (09745)"
   ]
  },
  {
   "cell_type": "code",
   "execution_count": 2,
   "metadata": {
    "_cell_guid": "b1076dfc-b9ad-4769-8c92-a6c4dae69d19",
    "_uuid": "8f2839f25d086af736a60e9eeb907d3b93b6e0e5"
   },
   "outputs": [],
   "source": [
    "import numpy as np  \n",
    "import pandas as pd \n",
    "import matplotlib.pyplot as plt\n",
    "from sklearn.cluster import KMeans, DBSCAN, AffinityPropagation, MeanShift, estimate_bandwidth, SpectralClustering\n",
    "from sklearn.cluster import AgglomerativeClustering, OPTICS, cluster_optics_dbscan, Birch, MiniBatchKMeans\n",
    "from sklearn.preprocessing import MinMaxScaler\n",
    "from sklearn.decomposition import PCA\n",
    "from sklearn import metrics\n",
    "from sklearn.mixture import GaussianMixture"
   ]
  },
  {
   "cell_type": "code",
   "execution_count": 3,
   "metadata": {},
   "outputs": [],
   "source": [
    "# Load Data\n",
    "def load_data(file_name):\n",
    "    def readcsv(file_name):\n",
    "        return pd.read_csv(file_name)\n",
    "    def readexcel(file_name):\n",
    "        return pd.read_excel(file_name)\n",
    "    func_map = {\n",
    "        \"csv\": readcsv,\n",
    "        \"xlsx\": readexcel,\n",
    "    }\n",
    "    \n",
    "    # default reader = readcsv\n",
    "    reader = func_map.get(\"csv\")\n",
    "    \n",
    "    for k,v in func_map.items():\n",
    "        if file_name.endswith(k):\n",
    "            reader = v\n",
    "            break\n",
    "    return reader(file_name)"
   ]
  },
  {
   "cell_type": "markdown",
   "metadata": {},
   "source": [
    "## Data Set"
   ]
  },
  {
   "cell_type": "code",
   "execution_count": 4,
   "metadata": {},
   "outputs": [
    {
     "data": {
      "text/html": [
       "<div>\n",
       "<style scoped>\n",
       "    .dataframe tbody tr th:only-of-type {\n",
       "        vertical-align: middle;\n",
       "    }\n",
       "\n",
       "    .dataframe tbody tr th {\n",
       "        vertical-align: top;\n",
       "    }\n",
       "\n",
       "    .dataframe thead th {\n",
       "        text-align: right;\n",
       "    }\n",
       "</style>\n",
       "<table border=\"1\" class=\"dataframe\">\n",
       "  <thead>\n",
       "    <tr style=\"text-align: right;\">\n",
       "      <th></th>\n",
       "      <th>sepal_length</th>\n",
       "      <th>sepal_width</th>\n",
       "      <th>petal_length</th>\n",
       "      <th>petal_width</th>\n",
       "      <th>species</th>\n",
       "    </tr>\n",
       "  </thead>\n",
       "  <tbody>\n",
       "    <tr>\n",
       "      <th>0</th>\n",
       "      <td>5.1</td>\n",
       "      <td>3.5</td>\n",
       "      <td>1.4</td>\n",
       "      <td>0.2</td>\n",
       "      <td>setosa</td>\n",
       "    </tr>\n",
       "    <tr>\n",
       "      <th>1</th>\n",
       "      <td>4.9</td>\n",
       "      <td>3.0</td>\n",
       "      <td>1.4</td>\n",
       "      <td>0.2</td>\n",
       "      <td>setosa</td>\n",
       "    </tr>\n",
       "    <tr>\n",
       "      <th>2</th>\n",
       "      <td>4.7</td>\n",
       "      <td>3.2</td>\n",
       "      <td>1.3</td>\n",
       "      <td>0.2</td>\n",
       "      <td>setosa</td>\n",
       "    </tr>\n",
       "    <tr>\n",
       "      <th>3</th>\n",
       "      <td>4.6</td>\n",
       "      <td>3.1</td>\n",
       "      <td>1.5</td>\n",
       "      <td>0.2</td>\n",
       "      <td>setosa</td>\n",
       "    </tr>\n",
       "    <tr>\n",
       "      <th>4</th>\n",
       "      <td>5.0</td>\n",
       "      <td>3.6</td>\n",
       "      <td>1.4</td>\n",
       "      <td>0.2</td>\n",
       "      <td>setosa</td>\n",
       "    </tr>\n",
       "  </tbody>\n",
       "</table>\n",
       "</div>"
      ],
      "text/plain": [
       "   sepal_length  sepal_width  petal_length  petal_width species\n",
       "0           5.1          3.5           1.4          0.2  setosa\n",
       "1           4.9          3.0           1.4          0.2  setosa\n",
       "2           4.7          3.2           1.3          0.2  setosa\n",
       "3           4.6          3.1           1.5          0.2  setosa\n",
       "4           5.0          3.6           1.4          0.2  setosa"
      ]
     },
     "metadata": {},
     "output_type": "display_data"
    },
    {
     "name": "stdout",
     "output_type": "stream",
     "text": [
      "(150, 5)\n",
      "sepal_length    float64\n",
      "sepal_width     float64\n",
      "petal_length    float64\n",
      "petal_width     float64\n",
      "species          object\n",
      "dtype: object\n"
     ]
    }
   ],
   "source": [
    "FILE_NAME = \"Iris.csv\"\n",
    "#FILE_NAME = \"banksim_adj.csv\"\n",
    "#LABEL_COL = \"fraud\"\n",
    "df = load_data(FILE_NAME)\n",
    "display(df.head())\n",
    "print(df.shape)\n",
    "print(df.dtypes)"
   ]
  },
  {
   "cell_type": "code",
   "execution_count": 5,
   "metadata": {},
   "outputs": [
    {
     "data": {
      "text/html": [
       "<div>\n",
       "<style scoped>\n",
       "    .dataframe tbody tr th:only-of-type {\n",
       "        vertical-align: middle;\n",
       "    }\n",
       "\n",
       "    .dataframe tbody tr th {\n",
       "        vertical-align: top;\n",
       "    }\n",
       "\n",
       "    .dataframe thead th {\n",
       "        text-align: right;\n",
       "    }\n",
       "</style>\n",
       "<table border=\"1\" class=\"dataframe\">\n",
       "  <thead>\n",
       "    <tr style=\"text-align: right;\">\n",
       "      <th></th>\n",
       "      <th>sepal_length</th>\n",
       "      <th>sepal_width</th>\n",
       "      <th>petal_length</th>\n",
       "      <th>petal_width</th>\n",
       "      <th>species</th>\n",
       "    </tr>\n",
       "  </thead>\n",
       "  <tbody>\n",
       "    <tr>\n",
       "      <th>100</th>\n",
       "      <td>6.3</td>\n",
       "      <td>3.3</td>\n",
       "      <td>6.0</td>\n",
       "      <td>2.5</td>\n",
       "      <td>virginica</td>\n",
       "    </tr>\n",
       "    <tr>\n",
       "      <th>128</th>\n",
       "      <td>6.4</td>\n",
       "      <td>2.8</td>\n",
       "      <td>5.6</td>\n",
       "      <td>2.1</td>\n",
       "      <td>virginica</td>\n",
       "    </tr>\n",
       "    <tr>\n",
       "      <th>31</th>\n",
       "      <td>5.4</td>\n",
       "      <td>3.4</td>\n",
       "      <td>1.5</td>\n",
       "      <td>0.4</td>\n",
       "      <td>setosa</td>\n",
       "    </tr>\n",
       "    <tr>\n",
       "      <th>19</th>\n",
       "      <td>5.1</td>\n",
       "      <td>3.8</td>\n",
       "      <td>1.5</td>\n",
       "      <td>0.3</td>\n",
       "      <td>setosa</td>\n",
       "    </tr>\n",
       "    <tr>\n",
       "      <th>59</th>\n",
       "      <td>5.2</td>\n",
       "      <td>2.7</td>\n",
       "      <td>3.9</td>\n",
       "      <td>1.4</td>\n",
       "      <td>versicolor</td>\n",
       "    </tr>\n",
       "  </tbody>\n",
       "</table>\n",
       "</div>"
      ],
      "text/plain": [
       "     sepal_length  sepal_width  petal_length  petal_width     species\n",
       "100           6.3          3.3           6.0          2.5   virginica\n",
       "128           6.4          2.8           5.6          2.1   virginica\n",
       "31            5.4          3.4           1.5          0.4      setosa\n",
       "19            5.1          3.8           1.5          0.3      setosa\n",
       "59            5.2          2.7           3.9          1.4  versicolor"
      ]
     },
     "execution_count": 5,
     "metadata": {},
     "output_type": "execute_result"
    }
   ],
   "source": [
    "df.sample(5)"
   ]
  },
  {
   "cell_type": "code",
   "execution_count": 6,
   "metadata": {},
   "outputs": [
    {
     "data": {
      "image/png": "[encoded data removed]",
      "text/plain": [
       "<Figure size 432x288 with 1 Axes>"
      ]
     },
     "metadata": {
      "needs_background": "light"
     },
     "output_type": "display_data"
    }
   ],
   "source": [
    "df.groupby('species').size().plot.bar()\n",
    "plt.show()"
   ]
  },
  {
   "cell_type": "code",
   "execution_count": 7,
   "metadata": {},
   "outputs": [
    {
     "data": {
      "text/html": [
       "<div>\n",
       "<style scoped>\n",
       "    .dataframe tbody tr th:only-of-type {\n",
       "        vertical-align: middle;\n",
       "    }\n",
       "\n",
       "    .dataframe tbody tr th {\n",
       "        vertical-align: top;\n",
       "    }\n",
       "\n",
       "    .dataframe thead th {\n",
       "        text-align: right;\n",
       "    }\n",
       "</style>\n",
       "<table border=\"1\" class=\"dataframe\">\n",
       "  <thead>\n",
       "    <tr style=\"text-align: right;\">\n",
       "      <th></th>\n",
       "      <th>sepal_length</th>\n",
       "      <th>sepal_width</th>\n",
       "      <th>petal_length</th>\n",
       "      <th>petal_width</th>\n",
       "    </tr>\n",
       "  </thead>\n",
       "  <tbody>\n",
       "    <tr>\n",
       "      <th>count</th>\n",
       "      <td>150.000000</td>\n",
       "      <td>150.000000</td>\n",
       "      <td>150.000000</td>\n",
       "      <td>150.000000</td>\n",
       "    </tr>\n",
       "    <tr>\n",
       "      <th>mean</th>\n",
       "      <td>5.843333</td>\n",
       "      <td>3.054000</td>\n",
       "      <td>3.758667</td>\n",
       "      <td>1.198667</td>\n",
       "    </tr>\n",
       "    <tr>\n",
       "      <th>std</th>\n",
       "      <td>0.828066</td>\n",
       "      <td>0.433594</td>\n",
       "      <td>1.764420</td>\n",
       "      <td>0.763161</td>\n",
       "    </tr>\n",
       "    <tr>\n",
       "      <th>min</th>\n",
       "      <td>4.300000</td>\n",
       "      <td>2.000000</td>\n",
       "      <td>1.000000</td>\n",
       "      <td>0.100000</td>\n",
       "    </tr>\n",
       "    <tr>\n",
       "      <th>25%</th>\n",
       "      <td>5.100000</td>\n",
       "      <td>2.800000</td>\n",
       "      <td>1.600000</td>\n",
       "      <td>0.300000</td>\n",
       "    </tr>\n",
       "    <tr>\n",
       "      <th>50%</th>\n",
       "      <td>5.800000</td>\n",
       "      <td>3.000000</td>\n",
       "      <td>4.350000</td>\n",
       "      <td>1.300000</td>\n",
       "    </tr>\n",
       "    <tr>\n",
       "      <th>75%</th>\n",
       "      <td>6.400000</td>\n",
       "      <td>3.300000</td>\n",
       "      <td>5.100000</td>\n",
       "      <td>1.800000</td>\n",
       "    </tr>\n",
       "    <tr>\n",
       "      <th>max</th>\n",
       "      <td>7.900000</td>\n",
       "      <td>4.400000</td>\n",
       "      <td>6.900000</td>\n",
       "      <td>2.500000</td>\n",
       "    </tr>\n",
       "  </tbody>\n",
       "</table>\n",
       "</div>"
      ],
      "text/plain": [
       "       sepal_length  sepal_width  petal_length  petal_width\n",
       "count    150.000000   150.000000    150.000000   150.000000\n",
       "mean       5.843333     3.054000      3.758667     1.198667\n",
       "std        0.828066     0.433594      1.764420     0.763161\n",
       "min        4.300000     2.000000      1.000000     0.100000\n",
       "25%        5.100000     2.800000      1.600000     0.300000\n",
       "50%        5.800000     3.000000      4.350000     1.300000\n",
       "75%        6.400000     3.300000      5.100000     1.800000\n",
       "max        7.900000     4.400000      6.900000     2.500000"
      ]
     },
     "execution_count": 7,
     "metadata": {},
     "output_type": "execute_result"
    }
   ],
   "source": [
    "X = df.copy()\n",
    "X = X.drop('species', axis=1)\n",
    "X.describe()"
   ]
  },
  {
   "cell_type": "code",
   "execution_count": 8,
   "metadata": {},
   "outputs": [
    {
     "data": {
      "text/plain": [
       "(150, 4)"
      ]
     },
     "execution_count": 8,
     "metadata": {},
     "output_type": "execute_result"
    }
   ],
   "source": [
    "# Normalize X\n",
    "\n",
    "mms = MinMaxScaler()\n",
    "mms.fit(X)\n",
    "Xnorm = mms.transform(X)\n",
    "Xnorm.shape"
   ]
  },
  {
   "cell_type": "markdown",
   "metadata": {},
   "source": [
    "# K-Mean Clustering\n",
    "ELBOW method for finding the optimal # of clusters k"
   ]
  },
  {
   "cell_type": "code",
   "execution_count": 9,
   "metadata": {},
   "outputs": [
    {
     "name": "stderr",
     "output_type": "stream",
     "text": [
      "C:\\Users\\waliullah\\Anaconda3\\lib\\site-packages\\sklearn\\cluster\\_kmeans.py:881: UserWarning: KMeans is known to have a memory leak on Windows with MKL, when there are less chunks than available threads. You can avoid it by setting the environment variable OMP_NUM_THREADS=1.\n",
      "  warnings.warn(\n"
     ]
    }
   ],
   "source": [
    "# Not knowing the number of clusters (3) we try a range such 1,10\n",
    "# For the ELBOW method check with and without init='k-means++'\n",
    "Sum_of_squared_distances = []\n",
    "for k in range(1,10):\n",
    "    km = KMeans(n_clusters=k, init='k-means++')\n",
    "    km = km.fit(Xnorm)\n",
    "    Sum_of_squared_distances.append(km.inertia_)"
   ]
  },
  {
   "cell_type": "code",
   "execution_count": 10,
   "metadata": {},
   "outputs": [
    {
     "data": {
      "image/png": "[encoded data removed]",
      "text/plain": [
       "<Figure size 432x288 with 1 Axes>"
      ]
     },
     "metadata": {
      "needs_background": "light"
     },
     "output_type": "display_data"
    }
   ],
   "source": [
    "plt.plot(range(1,10), Sum_of_squared_distances, 'bx-')\n",
    "plt.xlabel('k')\n",
    "plt.ylabel('Sum_of_squared_distances')\n",
    "plt.title('Elbow Method For Optimal k')\n",
    "plt.show()"
   ]
  },
  {
   "cell_type": "code",
   "execution_count": 11,
   "metadata": {},
   "outputs": [
    {
     "name": "stdout",
     "output_type": "stream",
     "text": [
      "(150, 2)\n"
     ]
    },
    {
     "data": {
      "text/html": [
       "<div>\n",
       "<style scoped>\n",
       "    .dataframe tbody tr th:only-of-type {\n",
       "        vertical-align: middle;\n",
       "    }\n",
       "\n",
       "    .dataframe tbody tr th {\n",
       "        vertical-align: top;\n",
       "    }\n",
       "\n",
       "    .dataframe thead th {\n",
       "        text-align: right;\n",
       "    }\n",
       "</style>\n",
       "<table border=\"1\" class=\"dataframe\">\n",
       "  <thead>\n",
       "    <tr style=\"text-align: right;\">\n",
       "      <th></th>\n",
       "      <th>species</th>\n",
       "      <th>Cluster</th>\n",
       "    </tr>\n",
       "  </thead>\n",
       "  <tbody>\n",
       "    <tr>\n",
       "      <th>118</th>\n",
       "      <td>virginica</td>\n",
       "      <td>2</td>\n",
       "    </tr>\n",
       "    <tr>\n",
       "      <th>1</th>\n",
       "      <td>setosa</td>\n",
       "      <td>1</td>\n",
       "    </tr>\n",
       "    <tr>\n",
       "      <th>138</th>\n",
       "      <td>virginica</td>\n",
       "      <td>0</td>\n",
       "    </tr>\n",
       "    <tr>\n",
       "      <th>37</th>\n",
       "      <td>setosa</td>\n",
       "      <td>1</td>\n",
       "    </tr>\n",
       "    <tr>\n",
       "      <th>17</th>\n",
       "      <td>setosa</td>\n",
       "      <td>1</td>\n",
       "    </tr>\n",
       "  </tbody>\n",
       "</table>\n",
       "</div>"
      ],
      "text/plain": [
       "       species  Cluster\n",
       "118  virginica        2\n",
       "1       setosa        1\n",
       "138  virginica        0\n",
       "37      setosa        1\n",
       "17      setosa        1"
      ]
     },
     "execution_count": 11,
     "metadata": {},
     "output_type": "execute_result"
    }
   ],
   "source": [
    "# Knowing from the ELBOW method that k=3 ...\n",
    "kmeans3 = KMeans(n_clusters=3, init='k-means++').fit(Xnorm) \n",
    "KM_clustered = Xnorm.copy()\n",
    "KM_clustered = pd.DataFrame(KM_clustered)\n",
    "KM_clustered.loc[:,'Cluster'] = kmeans3.labels_ # append labels to points\n",
    "frames = [df['species'], KM_clustered['Cluster']]\n",
    "result = pd.concat(frames, axis = 1)\n",
    "print(result.shape)\n",
    "result.sample(5)"
   ]
  },
  {
   "cell_type": "markdown",
   "metadata": {},
   "source": [
    "# Assigning a label to each cluster\n",
    "* As there's no relation between a cluster number and the true label we need to map a cluster to the one label which appears most in that cluster\n",
    "\n",
    "* These corrected predicted labels are needed below to calculate model performance vs the the true labels"
   ]
  },
  {
   "cell_type": "code",
   "execution_count": 12,
   "metadata": {},
   "outputs": [
    {
     "name": "stdout",
     "output_type": "stream",
     "text": [
      "0 versicolor\n",
      "1 setosa\n",
      "2 virginica\n"
     ]
    }
   ],
   "source": [
    "for ClusterNum in range(3):\n",
    "    OneCluster = pd.DataFrame(result[result['Cluster'] == ClusterNum].groupby('species').size())\n",
    "    OneCluster.columns=['Size']\n",
    "    NewDigit = OneCluster.index[OneCluster['Size'] == OneCluster['Size'].max()].tolist()\n",
    "    NewDigit[0]\n",
    "    rowIndex = result.index[result['Cluster'] == ClusterNum]\n",
    "    result.loc[rowIndex, 'TransLabel'] = NewDigit[0]\n",
    "    print(ClusterNum, NewDigit[0])"
   ]
  },
  {
   "cell_type": "code",
   "execution_count": 13,
   "metadata": {},
   "outputs": [
    {
     "name": "stdout",
     "output_type": "stream",
     "text": [
      "K-Means performance\n",
      "------------------------------------------------------------\n",
      "Accuracy  0.887\n",
      "silhouette:  0.696\n",
      "homogeneity_score:  0.736\n",
      "completeness_score:  0.747\n",
      "v_measure_score:  0.742\n",
      "adjusted_rand_score:  0.716\n",
      "adjusted_mutual_info_score:  0.739\n"
     ]
    }
   ],
   "source": [
    "# Check performance of classification to 3 clusters\n",
    "print('K-Means performance')\n",
    "print('-'*60)\n",
    "Correct = (df['species'] == result['TransLabel']).sum()\n",
    "Accuracy = round(Correct/df.shape[0],3)\n",
    "print('Accuracy ', Accuracy)\n",
    "# METRICS for clustering algorithms\n",
    "print('silhouette: ', round(metrics.silhouette_score(Xnorm, result['TransLabel'],metric='sqeuclidean'),3))\n",
    "print('homogeneity_score: ', round(metrics.homogeneity_score(df['species'], result['TransLabel']),3))\n",
    "print('completeness_score: ', round(metrics.completeness_score(df['species'], result['TransLabel']),3))\n",
    "print('v_measure_score: ', round(metrics.v_measure_score(df['species'], result['TransLabel']),3))\n",
    "print('adjusted_rand_score: ', round(metrics.adjusted_rand_score(df['species'], result['TransLabel']),3))\n",
    "print('adjusted_mutual_info_score: ', round(metrics.adjusted_mutual_info_score(df['species'], result['TransLabel']),3))"
   ]
  },
  {
   "cell_type": "markdown",
   "metadata": {},
   "source": [
    "# DBSCAN"
   ]
  },
  {
   "cell_type": "code",
   "execution_count": 14,
   "metadata": {},
   "outputs": [
    {
     "name": "stdout",
     "output_type": "stream",
     "text": [
      "Estimated number of clusters: 3\n",
      "Estimated number of noise points: 114\n"
     ]
    }
   ],
   "source": [
    "# Compute DBSCAN\n",
    "# played with eps and min samples ... till I got num clustrers = 3 and lowest number of noise (114 ?!?)\n",
    "db = DBSCAN(eps=0.078).fit(Xnorm)\n",
    "core_samples_mask = np.zeros_like(db.labels_, dtype=bool)\n",
    "core_samples_mask[db.core_sample_indices_] = True\n",
    "labels = db.labels_\n",
    "# Number of clusters in labels, ignoring noise if present.\n",
    "n_clusters_ = len(set(labels)) - (1 if -1 in labels else 0)\n",
    "n_noise_ = list(labels).count(-1)\n",
    "print('Estimated number of clusters: %d' % n_clusters_)\n",
    "print('Estimated number of noise points: %d' % n_noise_)"
   ]
  },
  {
   "cell_type": "markdown",
   "metadata": {},
   "source": [
    "# Affinity Propagation"
   ]
  },
  {
   "cell_type": "code",
   "execution_count": 15,
   "metadata": {},
   "outputs": [
    {
     "name": "stdout",
     "output_type": "stream",
     "text": [
      "Estimated number of clusters: 3\n",
      "0 setosa\n",
      "1 versicolor\n",
      "2 virginica\n"
     ]
    },
    {
     "name": "stderr",
     "output_type": "stream",
     "text": [
      "C:\\Users\\waliullah\\Anaconda3\\lib\\site-packages\\sklearn\\cluster\\_affinity_propagation.py:148: FutureWarning: 'random_state' has been introduced in 0.23. It will be set to None starting from 1.0 (renaming of 0.25) which means that results will differ at every function call. Set 'random_state' to None to silence this warning, or to 0 to keep the behavior of versions <0.23.\n",
      "  warnings.warn(\n"
     ]
    }
   ],
   "source": [
    "af = AffinityPropagation(preference=-3).fit(Xnorm)\n",
    "cluster_centers_indices = af.cluster_centers_indices_\n",
    "labels = af.labels_\n",
    "n_clusters_ = len(cluster_centers_indices)\n",
    "print('Estimated number of clusters: %d' % n_clusters_)\n",
    "Clustered = Xnorm.copy()\n",
    "Clustered = pd.DataFrame(Clustered)\n",
    "Clustered.loc[:,'Cluster'] = af.labels_ # append labels to points\n",
    "frames = [df['species'], Clustered['Cluster']]\n",
    "result = pd.concat(frames, axis = 1)\n",
    "for ClusterNum in range(3):\n",
    "    OneCluster = pd.DataFrame(result[result['Cluster'] == ClusterNum].groupby('species').size())\n",
    "    OneCluster.columns=['Size']\n",
    "    NewDigit = OneCluster.index[OneCluster['Size'] == OneCluster['Size'].max()].tolist()\n",
    "    NewDigit[0]\n",
    "    rowIndex = result.index[result['Cluster'] == ClusterNum]\n",
    "    result.loc[rowIndex, 'TransLabel'] = NewDigit[0]\n",
    "    print(ClusterNum, NewDigit[0])"
   ]
  },
  {
   "cell_type": "code",
   "execution_count": 16,
   "metadata": {},
   "outputs": [
    {
     "name": "stdout",
     "output_type": "stream",
     "text": [
      "Affinity propagation performance\n",
      "------------------------------------------------------------\n",
      "Accuracy  0.9\n",
      "silhouette:  0.696\n",
      "homogeneity_score:  0.77\n",
      "completeness_score:  0.786\n",
      "v_measure_score:  0.778\n",
      "adjusted_rand_score:  0.745\n",
      "adjusted_mutual_info_score:  0.775\n"
     ]
    }
   ],
   "source": [
    "# Check performance of classification to 3 clusters\n",
    "print('Affinity propagation performance')\n",
    "print('-'*60)\n",
    "Correct = (df['species'] == result['TransLabel']).sum()\n",
    "Accuracy = round(Correct/df.shape[0],3)\n",
    "print('Accuracy ', Accuracy)\n",
    "# METRICS for clustering algorithms\n",
    "print('silhouette: ', round(metrics.silhouette_score(Xnorm, result['TransLabel'],metric='sqeuclidean'),3))\n",
    "print('homogeneity_score: ', round(metrics.homogeneity_score(df['species'], result['TransLabel']),3))\n",
    "print('completeness_score: ', round(metrics.completeness_score(df['species'], result['TransLabel']),3))\n",
    "print('v_measure_score: ', round(metrics.v_measure_score(df['species'], result['TransLabel']),3))\n",
    "print('adjusted_rand_score: ', round(metrics.adjusted_rand_score(df['species'], result['TransLabel']),3))\n",
    "print('adjusted_mutual_info_score: ', round(metrics.adjusted_mutual_info_score(df['species'], result['TransLabel']),3))"
   ]
  },
  {
   "cell_type": "markdown",
   "metadata": {},
   "source": [
    "# Mean Shift"
   ]
  },
  {
   "cell_type": "code",
   "execution_count": 17,
   "metadata": {},
   "outputs": [
    {
     "name": "stdout",
     "output_type": "stream",
     "text": [
      "number of estimated clusters : 3\n"
     ]
    }
   ],
   "source": [
    "# Compute clustering with MeanShift\n",
    "# The following bandwidth can be automatically detected using\n",
    "bandwidth = estimate_bandwidth(Xnorm, quantile=0.2) # Manually set the quantile to get num clusters = 3\n",
    "ms = MeanShift(bandwidth=bandwidth, bin_seeding=True)\n",
    "ms.fit(Xnorm)\n",
    "labels = ms.labels_\n",
    "cluster_centers = ms.cluster_centers_\n",
    "labels_unique = np.unique(labels)\n",
    "n_clusters_ = len(labels_unique)\n",
    "print(\"number of estimated clusters : %d\" % n_clusters_)\n",
    "Clustered = Xnorm.copy()\n",
    "Clustered = pd.DataFrame(Clustered)\n",
    "Clustered.loc[:,'Cluster'] = ms.labels_ # append labels to points\n",
    "frames = [df['species'], Clustered['Cluster']]\n",
    "result = pd.concat(frames, axis = 1)"
   ]
  },
  {
   "cell_type": "code",
   "execution_count": 18,
   "metadata": {},
   "outputs": [
    {
     "name": "stdout",
     "output_type": "stream",
     "text": [
      "0 versicolor\n",
      "1 setosa\n",
      "2 virginica\n"
     ]
    }
   ],
   "source": [
    "for ClusterNum in range(3):\n",
    "    OneCluster = pd.DataFrame(result[result['Cluster'] == ClusterNum].groupby('species').size())\n",
    "    OneCluster.columns=['Size']\n",
    "    NewDigit = OneCluster.index[OneCluster['Size'] == OneCluster['Size'].max()].tolist()\n",
    "    NewDigit[0]\n",
    "    rowIndex = result.index[result['Cluster'] == ClusterNum]\n",
    "    result.loc[rowIndex, 'TransLabel'] = NewDigit[0] \n",
    "    print(ClusterNum, NewDigit[0])"
   ]
  },
  {
   "cell_type": "code",
   "execution_count": 19,
   "metadata": {},
   "outputs": [
    {
     "name": "stdout",
     "output_type": "stream",
     "text": [
      "Mean shift performance\n",
      "------------------------------------------------------------\n",
      "Accuracy  0.793\n",
      "silhouette:  0.635\n",
      "homogeneity_score:  0.673\n",
      "completeness_score:  0.77\n",
      "v_measure_score:  0.718\n",
      "adjusted_rand_score:  0.593\n",
      "adjusted_mutual_info_score:  0.714\n"
     ]
    }
   ],
   "source": [
    "# Check performance of classification to 3 clusters\n",
    "print('Mean shift performance')\n",
    "print('-'*60)\n",
    "Correct = (df['species'] == result['TransLabel']).sum()\n",
    "Accuracy = round(Correct/df.shape[0],3)\n",
    "print('Accuracy ', Accuracy)\n",
    "# METRICS for clustering algorithms\n",
    "print('silhouette: ', round(metrics.silhouette_score(Xnorm, result['TransLabel'],metric='sqeuclidean'),3))\n",
    "print('homogeneity_score: ', round(metrics.homogeneity_score(df['species'], result['TransLabel']),3))\n",
    "print('completeness_score: ', round(metrics.completeness_score(df['species'], result['TransLabel']),3))\n",
    "print('v_measure_score: ', round(metrics.v_measure_score(df['species'], result['TransLabel']),3))\n",
    "print('adjusted_rand_score: ', round(metrics.adjusted_rand_score(df['species'], result['TransLabel']),3))\n",
    "print('adjusted_mutual_info_score: ', round(metrics.adjusted_mutual_info_score(df['species'], result['TransLabel']),3))"
   ]
  },
  {
   "cell_type": "markdown",
   "metadata": {},
   "source": [
    "# Spectral Clustering\n"
   ]
  },
  {
   "cell_type": "code",
   "execution_count": 20,
   "metadata": {},
   "outputs": [
    {
     "name": "stdout",
     "output_type": "stream",
     "text": [
      "number of estimated clusters : 3\n",
      "0 versicolor\n",
      "1 setosa\n",
      "2 virginica\n"
     ]
    }
   ],
   "source": [
    "# Compute clustering with SpectralClustering\n",
    "sc = SpectralClustering(n_clusters = 3)\n",
    "sc.fit(Xnorm)\n",
    "labels = ms.labels_\n",
    "labels_unique = np.unique(labels)\n",
    "n_clusters_ = len(labels_unique)\n",
    "print(\"number of estimated clusters : %d\" % n_clusters_)\n",
    "Clustered = Xnorm.copy()\n",
    "Clustered = pd.DataFrame(Clustered)\n",
    "Clustered.loc[:,'Cluster'] = sc.labels_ # append labels to points\n",
    "#Clustered.sample(5)\n",
    "frames = [df['species'], Clustered['Cluster']]\n",
    "result = pd.concat(frames, axis = 1)\n",
    "#print(result.shape)\n",
    "#result.sample(5)\n",
    "for ClusterNum in range(3):\n",
    "    OneCluster = pd.DataFrame(result[result['Cluster'] == ClusterNum].groupby('species').size())\n",
    "    OneCluster.columns=['Size'] \n",
    "    NewDigit = OneCluster.index[OneCluster['Size'] == OneCluster['Size'].max()].tolist()\n",
    "    NewDigit[0]\n",
    "    rowIndex = result.index[result['Cluster'] == ClusterNum]\n",
    "    result.loc[rowIndex, 'TransLabel'] = NewDigit[0] \n",
    "    print(ClusterNum, NewDigit[0])"
   ]
  },
  {
   "cell_type": "code",
   "execution_count": 21,
   "metadata": {},
   "outputs": [
    {
     "name": "stdout",
     "output_type": "stream",
     "text": [
      "Spectral clustering performance\n",
      "------------------------------------------------------------\n",
      "Accuracy  0.84\n",
      "silhouette:  0.661\n",
      "homogeneity_score:  0.651\n",
      "completeness_score:  0.666\n",
      "v_measure_score:  0.658\n",
      "adjusted_rand_score:  0.623\n",
      "adjusted_mutual_info_score:  0.654\n"
     ]
    }
   ],
   "source": [
    "# Check performance of classification to 3 clusters\n",
    "print('Spectral clustering performance')\n",
    "print('-'*60)\n",
    "Correct = (df['species'] == result['TransLabel']).sum()\n",
    "Accuracy = round(Correct/df.shape[0],3)\n",
    "print('Accuracy ', Accuracy)\n",
    "# METRICS for clustering algorithms\n",
    "print('silhouette: ', round(metrics.silhouette_score(Xnorm, result['TransLabel'],metric='sqeuclidean'),3))\n",
    "print('homogeneity_score: ', round(metrics.homogeneity_score(df['species'], result['TransLabel']),3))\n",
    "print('completeness_score: ', round(metrics.completeness_score(df['species'], result['TransLabel']),3))\n",
    "print('v_measure_score: ', round(metrics.v_measure_score(df['species'], result['TransLabel']),3))\n",
    "print('adjusted_rand_score: ', round(metrics.adjusted_rand_score(df['species'], result['TransLabel']),3))\n",
    "print('adjusted_mutual_info_score: ', round(metrics.adjusted_mutual_info_score(df['species'], result['TransLabel']),3))"
   ]
  },
  {
   "cell_type": "code",
   "execution_count": 22,
   "metadata": {},
   "outputs": [
    {
     "name": "stdout",
     "output_type": "stream",
     "text": [
      "number of estimated clusters : 3\n",
      "0 versicolor\n",
      "1 setosa\n",
      "2 virginica\n"
     ]
    }
   ],
   "source": [
    "# Agglomerative Clustering\n",
    "sc = AgglomerativeClustering(n_clusters = 3)\n",
    "sc.fit(Xnorm)\n",
    "labels = sc.labels_\n",
    "labels_unique = np.unique(labels)\n",
    "n_clusters_ = len(labels_unique)\n",
    "print(\"number of estimated clusters : %d\" % n_clusters_)\n",
    "Clustered = Xnorm.copy()\n",
    "Clustered = pd.DataFrame(Clustered)\n",
    "Clustered.loc[:,'Cluster'] = sc.labels_ # append labels to points\n",
    "#Clustered.sample(5)\n",
    "frames = [df['species'], Clustered['Cluster']]\n",
    "result = pd.concat(frames, axis = 1)\n",
    "#print(result.shape)\n",
    "#result.sample(5)\n",
    "for ClusterNum in range(3):\n",
    "    OneCluster = pd.DataFrame(result[result['Cluster'] == ClusterNum].groupby('species').size())\n",
    "    OneCluster.columns=['Size'] \n",
    "    NewDigit = OneCluster.index[OneCluster['Size'] == OneCluster['Size'].max()].tolist()\n",
    "    NewDigit[0]\n",
    "    rowIndex = result.index[result['Cluster'] == ClusterNum]\n",
    "    result.loc[rowIndex, 'TransLabel'] = NewDigit[0]  \n",
    "    print(ClusterNum, NewDigit[0])"
   ]
  },
  {
   "cell_type": "code",
   "execution_count": 23,
   "metadata": {},
   "outputs": [
    {
     "name": "stdout",
     "output_type": "stream",
     "text": [
      "Agglomerative clustering performance\n",
      "------------------------------------------------------------\n",
      "Accuracy  0.887\n",
      "silhouette:  0.688\n",
      "homogeneity_score:  0.77\n",
      "completeness_score:  0.798\n",
      "v_measure_score:  0.784\n",
      "adjusted_rand_score:  0.72\n",
      "adjusted_mutual_info_score:  0.781\n"
     ]
    }
   ],
   "source": [
    "# Check performance of classification to 3 clusters\n",
    "print('Agglomerative clustering performance')\n",
    "print('-'*60)\n",
    "Correct = (df['species'] == result['TransLabel']).sum()\n",
    "Accuracy = round(Correct/df.shape[0],3)\n",
    "print('Accuracy ', Accuracy)\n",
    "# METRICS for clustering algorithms\n",
    "print('silhouette: ', round(metrics.silhouette_score(Xnorm, result['TransLabel'],metric='sqeuclidean'),3))\n",
    "print('homogeneity_score: ', round(metrics.homogeneity_score(df['species'], result['TransLabel']),3))\n",
    "print('completeness_score: ', round(metrics.completeness_score(df['species'], result['TransLabel']),3))\n",
    "print('v_measure_score: ', round(metrics.v_measure_score(df['species'], result['TransLabel']),3))\n",
    "print('adjusted_rand_score: ', round(metrics.adjusted_rand_score(df['species'], result['TransLabel']),3))\n",
    "print('adjusted_mutual_info_score: ', round(metrics.adjusted_mutual_info_score(df['species'], result['TransLabel']),3))"
   ]
  },
  {
   "cell_type": "markdown",
   "metadata": {},
   "source": [
    "# Gaussian Mixture\n",
    "\n",
    "* Tried w covariance_type='tied' acc = 0.9, 'full' DEFAULT acc = 0.97,  'diag' acc = 0.93,  'spherical' acc = 0.89"
   ]
  },
  {
   "cell_type": "code",
   "execution_count": 24,
   "metadata": {},
   "outputs": [
    {
     "name": "stdout",
     "output_type": "stream",
     "text": [
      "number of estimated clusters : 3\n",
      "0 virginica\n",
      "1 versicolor\n",
      "2 setosa\n"
     ]
    }
   ],
   "source": [
    "# Gaussian Mixture clustering\n",
    "sc = GaussianMixture(n_components=3, covariance_type='full')\n",
    "y_pred = sc.fit_predict(Xnorm)\n",
    "print(\"number of estimated clusters : %d\" % len(set(y_pred)))\n",
    "Clustered = Xnorm.copy()\n",
    "Clustered = pd.DataFrame(Clustered)\n",
    "Clustered.loc[:,'Cluster'] = y_pred # append labels to points\n",
    "#Clustered.sample(5)\n",
    "frames = [df['species'], Clustered['Cluster']]\n",
    "result = pd.concat(frames, axis = 1)\n",
    "#print(result.shape)\n",
    "#result.sample(5)\n",
    "for ClusterNum in range(3):\n",
    "    OneCluster = pd.DataFrame(result[result['Cluster'] == ClusterNum].groupby('species').size())\n",
    "    OneCluster.columns=['Size'] \n",
    "    NewDigit = OneCluster.index[OneCluster['Size'] == OneCluster['Size'].max()].tolist()\n",
    "    NewDigit[0]\n",
    "    rowIndex = result.index[result['Cluster'] == ClusterNum]\n",
    "    result.loc[rowIndex, 'TransLabel'] = NewDigit[0] \n",
    "    print(ClusterNum, NewDigit[0])"
   ]
  },
  {
   "cell_type": "code",
   "execution_count": 25,
   "metadata": {},
   "outputs": [
    {
     "name": "stdout",
     "output_type": "stream",
     "text": [
      "Gaussian mixture clustering performance\n",
      "------------------------------------------------------------\n",
      "Accuracy  0.967\n",
      "silhouette:  0.606\n",
      "homogeneity_score:  0.898\n",
      "completeness_score:  0.901\n",
      "v_measure_score:  0.9\n",
      "adjusted_rand_score:  0.904\n",
      "adjusted_mutual_info_score:  0.898\n"
     ]
    }
   ],
   "source": [
    "# Check performance of classification to 3 clusters\n",
    "print('Gaussian mixture clustering performance')\n",
    "print('-'*60)\n",
    "Correct = (df['species'] == result['TransLabel']).sum()\n",
    "Accuracy = round(Correct/df.shape[0],3)\n",
    "print('Accuracy ', Accuracy)\n",
    "# METRICS for clustering algorithms\n",
    "print('silhouette: ', round(metrics.silhouette_score(Xnorm, result['TransLabel'],metric='sqeuclidean'),3))\n",
    "print('homogeneity_score: ', round(metrics.homogeneity_score(df['species'], result['TransLabel']),3))\n",
    "print('completeness_score: ', round(metrics.completeness_score(df['species'], result['TransLabel']),3))\n",
    "print('v_measure_score: ', round(metrics.v_measure_score(df['species'], result['TransLabel']),3))\n",
    "print('adjusted_rand_score: ', round(metrics.adjusted_rand_score(df['species'], result['TransLabel']),3))\n",
    "print('adjusted_mutual_info_score: ', round(metrics.adjusted_mutual_info_score(df['species'], result['TransLabel']),3))"
   ]
  },
  {
   "cell_type": "markdown",
   "metadata": {},
   "source": [
    "# BIRCH Clustering"
   ]
  },
  {
   "cell_type": "code",
   "execution_count": 26,
   "metadata": {},
   "outputs": [
    {
     "name": "stdout",
     "output_type": "stream",
     "text": [
      "number of estimated clusters : 2\n"
     ]
    },
    {
     "name": "stderr",
     "output_type": "stream",
     "text": [
      "C:\\Users\\waliullah\\Anaconda3\\lib\\site-packages\\sklearn\\cluster\\_birch.py:647: ConvergenceWarning: Number of subclusters found (2) by BIRCH is less than (3). Decrease the threshold.\n",
      "  warnings.warn(\n"
     ]
    }
   ],
   "source": [
    "sc = Birch(n_clusters = 3)\n",
    "sc.fit(Xnorm)\n",
    "labels = sc.labels_\n",
    "labels_unique = np.unique(labels)\n",
    "n_clusters_ = len(labels_unique)\n",
    "print(\"number of estimated clusters : %d\" % n_clusters_)"
   ]
  },
  {
   "cell_type": "markdown",
   "metadata": {},
   "source": [
    "# Mini Batch K-Means"
   ]
  },
  {
   "cell_type": "code",
   "execution_count": 27,
   "metadata": {},
   "outputs": [
    {
     "name": "stdout",
     "output_type": "stream",
     "text": [
      "number of estimated clusters : 3\n",
      "0 versicolor\n",
      "1 setosa\n",
      "2 virginica\n"
     ]
    },
    {
     "name": "stderr",
     "output_type": "stream",
     "text": [
      "C:\\Users\\waliullah\\Anaconda3\\lib\\site-packages\\sklearn\\cluster\\_kmeans.py:887: UserWarning: MiniBatchKMeans is known to have a memory leak on Windows with MKL, when there are less chunks than available threads. You can prevent it by setting batch_size >= 2048 or by setting the environment variable OMP_NUM_THREADS=1\n",
      "  warnings.warn(\n"
     ]
    }
   ],
   "source": [
    "# Mini Batch K-Means Clustering\n",
    "sc = MiniBatchKMeans(n_clusters = 3)\n",
    "sc.fit(Xnorm)\n",
    "labels = sc.labels_\n",
    "labels_unique = np.unique(labels)\n",
    "n_clusters_ = len(labels_unique)\n",
    "print(\"number of estimated clusters : %d\" % n_clusters_)\n",
    "Clustered = Xnorm.copy()\n",
    "Clustered = pd.DataFrame(Clustered)\n",
    "Clustered.loc[:,'Cluster'] = sc.labels_ # append labels to points\n",
    "#Clustered.sample(5)\n",
    "frames = [df['species'], Clustered['Cluster']]\n",
    "result = pd.concat(frames, axis = 1)\n",
    "#print(result.shape)\n",
    "#result.sample(5)\n",
    "for ClusterNum in range(3):\n",
    "    OneCluster = pd.DataFrame(result[result['Cluster'] == ClusterNum].groupby('species').size())\n",
    "    OneCluster.columns=['Size'] \n",
    "    NewDigit = OneCluster.index[OneCluster['Size'] == OneCluster['Size'].max()].tolist()\n",
    "    NewDigit[0]\n",
    "    rowIndex = result.index[result['Cluster'] == ClusterNum]\n",
    "    result.loc[rowIndex, 'TransLabel'] = NewDigit[0]\n",
    "    print(ClusterNum, NewDigit[0])"
   ]
  },
  {
   "cell_type": "code",
   "execution_count": 28,
   "metadata": {},
   "outputs": [
    {
     "name": "stdout",
     "output_type": "stream",
     "text": [
      "Mini Batch K-Means clustering performance\n",
      "------------------------------------------------------------\n",
      "Accuracy  0.893\n",
      "silhouette:  0.662\n",
      "homogeneity_score:  0.735\n",
      "completeness_score:  0.736\n",
      "v_measure_score:  0.736\n",
      "adjusted_rand_score:  0.728\n",
      "adjusted_mutual_info_score:  0.732\n"
     ]
    }
   ],
   "source": [
    "# Check performance of classification to 3 clusters\n",
    "print('Mini Batch K-Means clustering performance')\n",
    "print('-'*60)\n",
    "Correct = (df['species'] == result['TransLabel']).sum()\n",
    "Accuracy = round(Correct/df.shape[0],3)\n",
    "print('Accuracy ', Accuracy)\n",
    "# METRICS for clustering algorithms\n",
    "print('silhouette: ', round(metrics.silhouette_score(Xnorm, result['TransLabel'],metric='sqeuclidean'),3))\n",
    "print('homogeneity_score: ', round(metrics.homogeneity_score(df['species'], result['TransLabel']),3))\n",
    "print('completeness_score: ', round(metrics.completeness_score(df['species'], result['TransLabel']),3))\n",
    "print('v_measure_score: ', round(metrics.v_measure_score(df['species'], result['TransLabel']),3))\n",
    "print('adjusted_rand_score: ', round(metrics.adjusted_rand_score(df['species'], result['TransLabel']),3))\n",
    "print('adjusted_mutual_info_score: ', round(metrics.adjusted_mutual_info_score(df['species'], result['TransLabel']),3))"
   ]
  },
  {
   "cell_type": "markdown",
   "metadata": {},
   "source": [
    "# Hierarchial Clustering"
   ]
  },
  {
   "cell_type": "code",
   "execution_count": 29,
   "metadata": {},
   "outputs": [
    {
     "data": {
      "text/html": [
       "<div>\n",
       "<style scoped>\n",
       "    .dataframe tbody tr th:only-of-type {\n",
       "        vertical-align: middle;\n",
       "    }\n",
       "\n",
       "    .dataframe tbody tr th {\n",
       "        vertical-align: top;\n",
       "    }\n",
       "\n",
       "    .dataframe thead th {\n",
       "        text-align: right;\n",
       "    }\n",
       "</style>\n",
       "<table border=\"1\" class=\"dataframe\">\n",
       "  <thead>\n",
       "    <tr style=\"text-align: right;\">\n",
       "      <th></th>\n",
       "      <th>sepal_length</th>\n",
       "      <th>sepal_width</th>\n",
       "      <th>petal_length</th>\n",
       "      <th>petal_width</th>\n",
       "      <th>species</th>\n",
       "    </tr>\n",
       "  </thead>\n",
       "  <tbody>\n",
       "    <tr>\n",
       "      <th>0</th>\n",
       "      <td>5.1</td>\n",
       "      <td>3.5</td>\n",
       "      <td>1.4</td>\n",
       "      <td>0.2</td>\n",
       "      <td>setosa</td>\n",
       "    </tr>\n",
       "    <tr>\n",
       "      <th>1</th>\n",
       "      <td>4.9</td>\n",
       "      <td>3.0</td>\n",
       "      <td>1.4</td>\n",
       "      <td>0.2</td>\n",
       "      <td>setosa</td>\n",
       "    </tr>\n",
       "    <tr>\n",
       "      <th>2</th>\n",
       "      <td>4.7</td>\n",
       "      <td>3.2</td>\n",
       "      <td>1.3</td>\n",
       "      <td>0.2</td>\n",
       "      <td>setosa</td>\n",
       "    </tr>\n",
       "    <tr>\n",
       "      <th>3</th>\n",
       "      <td>4.6</td>\n",
       "      <td>3.1</td>\n",
       "      <td>1.5</td>\n",
       "      <td>0.2</td>\n",
       "      <td>setosa</td>\n",
       "    </tr>\n",
       "    <tr>\n",
       "      <th>4</th>\n",
       "      <td>5.0</td>\n",
       "      <td>3.6</td>\n",
       "      <td>1.4</td>\n",
       "      <td>0.2</td>\n",
       "      <td>setosa</td>\n",
       "    </tr>\n",
       "  </tbody>\n",
       "</table>\n",
       "</div>"
      ],
      "text/plain": [
       "   sepal_length  sepal_width  petal_length  petal_width species\n",
       "0           5.1          3.5           1.4          0.2  setosa\n",
       "1           4.9          3.0           1.4          0.2  setosa\n",
       "2           4.7          3.2           1.3          0.2  setosa\n",
       "3           4.6          3.1           1.5          0.2  setosa\n",
       "4           5.0          3.6           1.4          0.2  setosa"
      ]
     },
     "execution_count": 29,
     "metadata": {},
     "output_type": "execute_result"
    }
   ],
   "source": [
    "iris = pd.read_csv(\"Iris.csv\") \n",
    "iris.head()"
   ]
  },
  {
   "cell_type": "code",
   "execution_count": 30,
   "metadata": {},
   "outputs": [
    {
     "data": {
      "text/plain": [
       "Index(['sepal_length', 'sepal_width', 'petal_length', 'petal_width',\n",
       "       'species'],\n",
       "      dtype='object')"
      ]
     },
     "execution_count": 30,
     "metadata": {},
     "output_type": "execute_result"
    }
   ],
   "source": [
    "iris.columns"
   ]
  },
  {
   "cell_type": "code",
   "execution_count": 31,
   "metadata": {},
   "outputs": [
    {
     "data": {
      "text/html": [
       "<div>\n",
       "<style scoped>\n",
       "    .dataframe tbody tr th:only-of-type {\n",
       "        vertical-align: middle;\n",
       "    }\n",
       "\n",
       "    .dataframe tbody tr th {\n",
       "        vertical-align: top;\n",
       "    }\n",
       "\n",
       "    .dataframe thead th {\n",
       "        text-align: right;\n",
       "    }\n",
       "</style>\n",
       "<table border=\"1\" class=\"dataframe\">\n",
       "  <thead>\n",
       "    <tr style=\"text-align: right;\">\n",
       "      <th></th>\n",
       "      <th>sepal_length</th>\n",
       "      <th>sepal_width</th>\n",
       "      <th>petal_length</th>\n",
       "      <th>petal_width</th>\n",
       "    </tr>\n",
       "  </thead>\n",
       "  <tbody>\n",
       "    <tr>\n",
       "      <th>0</th>\n",
       "      <td>5.1</td>\n",
       "      <td>3.5</td>\n",
       "      <td>1.4</td>\n",
       "      <td>0.2</td>\n",
       "    </tr>\n",
       "    <tr>\n",
       "      <th>1</th>\n",
       "      <td>4.9</td>\n",
       "      <td>3.0</td>\n",
       "      <td>1.4</td>\n",
       "      <td>0.2</td>\n",
       "    </tr>\n",
       "    <tr>\n",
       "      <th>2</th>\n",
       "      <td>4.7</td>\n",
       "      <td>3.2</td>\n",
       "      <td>1.3</td>\n",
       "      <td>0.2</td>\n",
       "    </tr>\n",
       "    <tr>\n",
       "      <th>3</th>\n",
       "      <td>4.6</td>\n",
       "      <td>3.1</td>\n",
       "      <td>1.5</td>\n",
       "      <td>0.2</td>\n",
       "    </tr>\n",
       "    <tr>\n",
       "      <th>4</th>\n",
       "      <td>5.0</td>\n",
       "      <td>3.6</td>\n",
       "      <td>1.4</td>\n",
       "      <td>0.2</td>\n",
       "    </tr>\n",
       "  </tbody>\n",
       "</table>\n",
       "</div>"
      ],
      "text/plain": [
       "   sepal_length  sepal_width  petal_length  petal_width\n",
       "0           5.1          3.5           1.4          0.2\n",
       "1           4.9          3.0           1.4          0.2\n",
       "2           4.7          3.2           1.3          0.2\n",
       "3           4.6          3.1           1.5          0.2\n",
       "4           5.0          3.6           1.4          0.2"
      ]
     },
     "execution_count": 31,
     "metadata": {},
     "output_type": "execute_result"
    }
   ],
   "source": [
    "iris_SP = iris[['sepal_length', 'sepal_width', 'petal_length', 'petal_width']]\n",
    "iris_SP.head()"
   ]
  },
  {
   "cell_type": "code",
   "execution_count": 32,
   "metadata": {},
   "outputs": [
    {
     "data": {
      "text/html": [
       "<div>\n",
       "<style scoped>\n",
       "    .dataframe tbody tr th:only-of-type {\n",
       "        vertical-align: middle;\n",
       "    }\n",
       "\n",
       "    .dataframe tbody tr th {\n",
       "        vertical-align: top;\n",
       "    }\n",
       "\n",
       "    .dataframe thead th {\n",
       "        text-align: right;\n",
       "    }\n",
       "</style>\n",
       "<table border=\"1\" class=\"dataframe\">\n",
       "  <thead>\n",
       "    <tr style=\"text-align: right;\">\n",
       "      <th></th>\n",
       "      <th>sepal_length</th>\n",
       "      <th>sepal_width</th>\n",
       "      <th>petal_length</th>\n",
       "      <th>petal_width</th>\n",
       "    </tr>\n",
       "  </thead>\n",
       "  <tbody>\n",
       "    <tr>\n",
       "      <th>count</th>\n",
       "      <td>150.000000</td>\n",
       "      <td>150.000000</td>\n",
       "      <td>150.000000</td>\n",
       "      <td>150.000000</td>\n",
       "    </tr>\n",
       "    <tr>\n",
       "      <th>mean</th>\n",
       "      <td>5.843333</td>\n",
       "      <td>3.054000</td>\n",
       "      <td>3.758667</td>\n",
       "      <td>1.198667</td>\n",
       "    </tr>\n",
       "    <tr>\n",
       "      <th>std</th>\n",
       "      <td>0.828066</td>\n",
       "      <td>0.433594</td>\n",
       "      <td>1.764420</td>\n",
       "      <td>0.763161</td>\n",
       "    </tr>\n",
       "    <tr>\n",
       "      <th>min</th>\n",
       "      <td>4.300000</td>\n",
       "      <td>2.000000</td>\n",
       "      <td>1.000000</td>\n",
       "      <td>0.100000</td>\n",
       "    </tr>\n",
       "    <tr>\n",
       "      <th>25%</th>\n",
       "      <td>5.100000</td>\n",
       "      <td>2.800000</td>\n",
       "      <td>1.600000</td>\n",
       "      <td>0.300000</td>\n",
       "    </tr>\n",
       "    <tr>\n",
       "      <th>50%</th>\n",
       "      <td>5.800000</td>\n",
       "      <td>3.000000</td>\n",
       "      <td>4.350000</td>\n",
       "      <td>1.300000</td>\n",
       "    </tr>\n",
       "    <tr>\n",
       "      <th>75%</th>\n",
       "      <td>6.400000</td>\n",
       "      <td>3.300000</td>\n",
       "      <td>5.100000</td>\n",
       "      <td>1.800000</td>\n",
       "    </tr>\n",
       "    <tr>\n",
       "      <th>max</th>\n",
       "      <td>7.900000</td>\n",
       "      <td>4.400000</td>\n",
       "      <td>6.900000</td>\n",
       "      <td>2.500000</td>\n",
       "    </tr>\n",
       "  </tbody>\n",
       "</table>\n",
       "</div>"
      ],
      "text/plain": [
       "       sepal_length  sepal_width  petal_length  petal_width\n",
       "count    150.000000   150.000000    150.000000   150.000000\n",
       "mean       5.843333     3.054000      3.758667     1.198667\n",
       "std        0.828066     0.433594      1.764420     0.763161\n",
       "min        4.300000     2.000000      1.000000     0.100000\n",
       "25%        5.100000     2.800000      1.600000     0.300000\n",
       "50%        5.800000     3.000000      4.350000     1.300000\n",
       "75%        6.400000     3.300000      5.100000     1.800000\n",
       "max        7.900000     4.400000      6.900000     2.500000"
      ]
     },
     "execution_count": 32,
     "metadata": {},
     "output_type": "execute_result"
    }
   ],
   "source": [
    "iris_SP.describe()"
   ]
  },
  {
   "cell_type": "code",
   "execution_count": 33,
   "metadata": {},
   "outputs": [
    {
     "data": {
      "image/png": "[encoded data removed]",
      "text/plain": [
       "<Figure size 1800x720 with 1 Axes>"
      ]
     },
     "metadata": {
      "needs_background": "light"
     },
     "output_type": "display_data"
    }
   ],
   "source": [
    "# calculate full dendrogram\n",
    "from scipy.cluster.hierarchy import dendrogram, linkage\n",
    "# generate the linkage matrix\n",
    "Z = linkage(iris_SP, 'ward')\n",
    "# set cut-off to 150\n",
    "max_d = 7.08                # max_d as in max_distance\n",
    "plt.figure(figsize=(25, 10))\n",
    "plt.title('Iris Hierarchical Clustering Dendrogram')\n",
    "plt.xlabel('Species')\n",
    "plt.ylabel('distance')\n",
    "dendrogram(\n",
    "    Z,\n",
    "    truncate_mode='lastp',  # show only the last p merged clusters\n",
    "    p=150,                  # Try changing values of p\n",
    "    leaf_rotation=90.,      # rotates the x axis labels\n",
    "    leaf_font_size=8.,      # font size for the x axis labels\n",
    ")\n",
    "plt.axhline(y=max_d, c='k')\n",
    "plt.show()"
   ]
  },
  {
   "cell_type": "code",
   "execution_count": 34,
   "metadata": {},
   "outputs": [
    {
     "data": {
      "image/png": "[encoded data removed]",
      "text/plain": [
       "<Figure size 1800x720 with 1 Axes>"
      ]
     },
     "metadata": {
      "needs_background": "light"
     },
     "output_type": "display_data"
    }
   ],
   "source": [
    "# calculate full dendrogram for 50\n",
    "from scipy.cluster.hierarchy import dendrogram, linkage\n",
    "# generate the linkage matrix\n",
    "Z = linkage(iris_SP, 'ward')\n",
    "# set cut-off to 50\n",
    "max_d = 7.08                # max_d as in max_distance\n",
    "plt.figure(figsize=(25, 10))\n",
    "plt.title('Iris Hierarchical Clustering Dendrogram')\n",
    "plt.xlabel('Species')\n",
    "plt.ylabel('distance')\n",
    "dendrogram(\n",
    "    Z,\n",
    "    truncate_mode='lastp',  # show only the last p merged clusters\n",
    "    p=50,                  # Try changing values of p\n",
    "    leaf_rotation=90.,      # rotates the x axis labels\n",
    "    leaf_font_size=8.,      # font size for the x axis labels\n",
    ")\n",
    "plt.axhline(y=max_d, c='k')\n",
    "plt.show()"
   ]
  },
  {
   "cell_type": "markdown",
   "metadata": {},
   "source": [
    "### CONCLUSION"
   ]
  },
  {
   "cell_type": "markdown",
   "metadata": {},
   "source": [
    "Even when working on the same dataset, the results obtained from using different hierarchical clustering algorithms can vary a lot. Wich algorithm to use seems to depend on how evident is the grouping criteria between the variables.\n",
    "\n",
    "k-Means and Mini Batch k-Means accuracy: 0.89 ... silhouette: 0.696\n",
    "\n",
    "DBSCAN and Optics accuracy: with 3 clusters there are 114 outliers with DBSCAN and similar w OPTICS (?!)\n",
    "\n",
    "Affinity Propagation accuracy: 0.90 ... silhouette: 0.696\n",
    "\n",
    "Mean Shift accuracy: 0.79 ... silhouette: 0.635\n",
    "\n",
    "Spectral Clustering accuracy: 0.84 ... silhouette: 0.661\n",
    "\n",
    "Agglomerative Clustering accuracy: 0.89 ... silhouette: 0.688\n",
    "\n",
    "Gaussian Mixture Clustering accuracy: 0.97 ... silhouette: 0.606\n",
    "\n",
    "Birch finds only 2 clusters"
   ]
  }
 ],
 "metadata": {
  "kernelspec": {
   "display_name": "Python 3",
   "language": "python",
   "name": "python3"
  },
  "language_info": {
   "codemirror_mode": {
    "name": "ipython",
    "version": 3
   },
   "file_extension": ".py",
   "mimetype": "text/x-python",
   "name": "python",
   "nbconvert_exporter": "python",
   "pygments_lexer": "ipython3",
   "version": "3.8.5"
  }
 },
 "nbformat": 4,
 "nbformat_minor": 4
}
