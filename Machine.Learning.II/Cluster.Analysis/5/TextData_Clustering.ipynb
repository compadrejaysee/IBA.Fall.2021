{
 "cells": [
  {
   "cell_type": "markdown",
   "metadata": {
    "_uuid": "ac282d342d6584347623d859f7e234fd58ab6cd9"
   },
   "source": [
    "# Assignment 4 (ML-II)\n",
    "\n",
    "# Clustering Text (Example 4)\n",
    "\n",
    "## Wali Ullah (09745)"
   ]
  },
  {
   "cell_type": "code",
   "execution_count": 80,
   "metadata": {
    "_uuid": "7f564a72269dfbaf9563f191ad428979ec73878e"
   },
   "outputs": [],
   "source": [
    "import warnings\n",
    "warnings.filterwarnings('ignore')\n",
    "warnings.simplefilter('ignore')\n"
   ]
  },
  {
   "cell_type": "code",
   "execution_count": 1,
   "metadata": {},
   "outputs": [],
   "source": [
    "import pandas as pd\n",
    "import matplotlib.pyplot as plt\n",
    "from matplotlib.patches import Rectangle\n",
    "import numpy as np\n",
    "from pprint import pprint as pp\n",
    "import csv\n",
    "from pathlib import Path\n",
    "import seaborn as sns\n",
    "from itertools import product\n",
    "import string\n",
    "from sklearn.cluster import KMeans\n",
    "from sklearn.cluster import OPTICS\n",
    "import scipy.cluster.hierarchy as sch\n",
    "from matplotlib import pyplot\n",
    "import nltk\n",
    "from nltk.corpus import stopwords\n",
    "from nltk.stem.wordnet import WordNetLemmatizer\n",
    "from imblearn.over_sampling import SMOTE\n",
    "from imblearn.over_sampling import BorderlineSMOTE\n",
    "from imblearn.pipeline import Pipeline \n",
    "from sklearn.linear_model import LinearRegression, LogisticRegression\n",
    "from sklearn.model_selection import train_test_split, GridSearchCV\n",
    "from sklearn.tree import DecisionTreeClassifier\n",
    "from sklearn.metrics import r2_score, classification_report, confusion_matrix, accuracy_score, roc_auc_score, roc_curve, precision_recall_curve, average_precision_score\n",
    "from sklearn.metrics import homogeneity_score, silhouette_score\n",
    "from sklearn.ensemble import RandomForestClassifier, VotingClassifier\n",
    "from sklearn.preprocessing import MinMaxScaler\n",
    "from sklearn.cluster import MiniBatchKMeans, DBSCAN\n",
    "import gensim\n",
    "from gensim import corpora"
   ]
  },
  {
   "cell_type": "code",
   "execution_count": 2,
   "metadata": {},
   "outputs": [],
   "source": [
    "# Load Data\n",
    "def load_data(file_name):\n",
    "    def readcsv(file_name):\n",
    "        return pd.read_csv(file_name)\n",
    "    def readexcel(file_name):\n",
    "        return pd.read_excel(file_name)\n",
    "    func_map = {\n",
    "        \"csv\": readcsv,\n",
    "        \"xlsx\": readexcel,\n",
    "    }\n",
    "    \n",
    "    # default reader = readcsv\n",
    "    reader = func_map.get(\"csv\")\n",
    "    \n",
    "    for k,v in func_map.items():\n",
    "        if file_name.endswith(k):\n",
    "            reader = v\n",
    "            break\n",
    "    return reader(file_name)\n"
   ]
  },
  {
   "cell_type": "markdown",
   "metadata": {},
   "source": [
    "# Data Discription\n",
    "\n",
    "The dataset consists of 13 year’s data which consists of 10 attributes for 568000 reviews. Due to the computational complexity, I am useing a random sample of 10,000 reviews for our analysis.\n",
    "\n",
    "The dataset contains the following columns :\n",
    "\n",
    "1.Id->Review for each ID\n",
    "\n",
    "2.Product Id->Unique identifier for the product\n",
    "\n",
    "3.User Id->Unique identifier for the user\n",
    "\n",
    "4.Profile Name->A user who has given the review\n",
    "\n",
    "5.Helpful Numerator->No. of users who found the review helpful\n",
    "\n",
    "6.Helpful Denominator->No. of users who found the review helpful or not\n",
    "\n",
    "7.Score->Five being is the highest rating and 1 being the lowest rating\n",
    "\n",
    "8.Time->Date and time when the review was given\n",
    "\n",
    "9.Summary->Summary of the review\n",
    "\n",
    "10.Text->Review text"
   ]
  },
  {
   "cell_type": "code",
   "execution_count": 3,
   "metadata": {},
   "outputs": [
    {
     "name": "stderr",
     "output_type": "stream",
     "text": [
      "C:\\Users\\waliullah\\Anaconda3\\lib\\site-packages\\IPython\\core\\interactiveshell.py:3418: DtypeWarning: Columns (1,2,3,8,9) have mixed types.Specify dtype option on import or set low_memory=False.\n",
      "  exec(code_obj, self.user_global_ns, self.user_ns)\n"
     ]
    },
    {
     "data": {
      "text/html": [
       "<div>\n",
       "<style scoped>\n",
       "    .dataframe tbody tr th:only-of-type {\n",
       "        vertical-align: middle;\n",
       "    }\n",
       "\n",
       "    .dataframe tbody tr th {\n",
       "        vertical-align: top;\n",
       "    }\n",
       "\n",
       "    .dataframe thead th {\n",
       "        text-align: right;\n",
       "    }\n",
       "</style>\n",
       "<table border=\"1\" class=\"dataframe\">\n",
       "  <thead>\n",
       "    <tr style=\"text-align: right;\">\n",
       "      <th></th>\n",
       "      <th>Id</th>\n",
       "      <th>ProductId</th>\n",
       "      <th>UserId</th>\n",
       "      <th>ProfileName</th>\n",
       "      <th>HelpfulnessNumerator</th>\n",
       "      <th>HelpfulnessDenominator</th>\n",
       "      <th>Score</th>\n",
       "      <th>Time</th>\n",
       "      <th>Summary</th>\n",
       "      <th>Text</th>\n",
       "    </tr>\n",
       "  </thead>\n",
       "  <tbody>\n",
       "    <tr>\n",
       "      <th>0</th>\n",
       "      <td>1.0</td>\n",
       "      <td>B001E4KFG0</td>\n",
       "      <td>A3SGXH7AUHU8GW</td>\n",
       "      <td>delmartian</td>\n",
       "      <td>1.0</td>\n",
       "      <td>1.0</td>\n",
       "      <td>5.0</td>\n",
       "      <td>1.303862e+09</td>\n",
       "      <td>Good Quality Dog Food</td>\n",
       "      <td>I have bought several of the Vitality canned d...</td>\n",
       "    </tr>\n",
       "    <tr>\n",
       "      <th>1</th>\n",
       "      <td>2.0</td>\n",
       "      <td>B00813GRG4</td>\n",
       "      <td>A1D87F6ZCVE5NK</td>\n",
       "      <td>dll pa</td>\n",
       "      <td>0.0</td>\n",
       "      <td>0.0</td>\n",
       "      <td>1.0</td>\n",
       "      <td>1.346976e+09</td>\n",
       "      <td>Not as Advertised</td>\n",
       "      <td>Product arrived labeled as Jumbo Salted Peanut...</td>\n",
       "    </tr>\n",
       "    <tr>\n",
       "      <th>2</th>\n",
       "      <td>3.0</td>\n",
       "      <td>B000LQOCH0</td>\n",
       "      <td>ABXLMWJIXXAIN</td>\n",
       "      <td>Natalia Corres \"Natalia Corres\"</td>\n",
       "      <td>1.0</td>\n",
       "      <td>1.0</td>\n",
       "      <td>4.0</td>\n",
       "      <td>1.219018e+09</td>\n",
       "      <td>\"Delight\" says it all</td>\n",
       "      <td>This is a confection that has been around a fe...</td>\n",
       "    </tr>\n",
       "    <tr>\n",
       "      <th>3</th>\n",
       "      <td>4.0</td>\n",
       "      <td>B000UA0QIQ</td>\n",
       "      <td>A395BORC6FGVXV</td>\n",
       "      <td>Karl</td>\n",
       "      <td>3.0</td>\n",
       "      <td>3.0</td>\n",
       "      <td>2.0</td>\n",
       "      <td>1.307923e+09</td>\n",
       "      <td>Cough Medicine</td>\n",
       "      <td>If you are looking for the secret ingredient i...</td>\n",
       "    </tr>\n",
       "    <tr>\n",
       "      <th>4</th>\n",
       "      <td>5.0</td>\n",
       "      <td>B006K2ZZ7K</td>\n",
       "      <td>A1UQRSCLF8GW1T</td>\n",
       "      <td>Michael D. Bigham \"M. Wassir\"</td>\n",
       "      <td>0.0</td>\n",
       "      <td>0.0</td>\n",
       "      <td>5.0</td>\n",
       "      <td>1.350778e+09</td>\n",
       "      <td>Great taffy</td>\n",
       "      <td>Great taffy at a great price.  There was a wid...</td>\n",
       "    </tr>\n",
       "  </tbody>\n",
       "</table>\n",
       "</div>"
      ],
      "text/plain": [
       "    Id   ProductId          UserId                      ProfileName  \\\n",
       "0  1.0  B001E4KFG0  A3SGXH7AUHU8GW                       delmartian   \n",
       "1  2.0  B00813GRG4  A1D87F6ZCVE5NK                           dll pa   \n",
       "2  3.0  B000LQOCH0   ABXLMWJIXXAIN  Natalia Corres \"Natalia Corres\"   \n",
       "3  4.0  B000UA0QIQ  A395BORC6FGVXV                             Karl   \n",
       "4  5.0  B006K2ZZ7K  A1UQRSCLF8GW1T    Michael D. Bigham \"M. Wassir\"   \n",
       "\n",
       "   HelpfulnessNumerator  HelpfulnessDenominator  Score          Time  \\\n",
       "0                   1.0                     1.0    5.0  1.303862e+09   \n",
       "1                   0.0                     0.0    1.0  1.346976e+09   \n",
       "2                   1.0                     1.0    4.0  1.219018e+09   \n",
       "3                   3.0                     3.0    2.0  1.307923e+09   \n",
       "4                   0.0                     0.0    5.0  1.350778e+09   \n",
       "\n",
       "                 Summary                                               Text  \n",
       "0  Good Quality Dog Food  I have bought several of the Vitality canned d...  \n",
       "1      Not as Advertised  Product arrived labeled as Jumbo Salted Peanut...  \n",
       "2  \"Delight\" says it all  This is a confection that has been around a fe...  \n",
       "3         Cough Medicine  If you are looking for the secret ingredient i...  \n",
       "4            Great taffy  Great taffy at a great price.  There was a wid...  "
      ]
     },
     "metadata": {},
     "output_type": "display_data"
    },
    {
     "name": "stdout",
     "output_type": "stream",
     "text": [
      "(556249, 10)\n",
      "Id                        float64\n",
      "ProductId                  object\n",
      "UserId                     object\n",
      "ProfileName                object\n",
      "HelpfulnessNumerator      float64\n",
      "HelpfulnessDenominator    float64\n",
      "Score                     float64\n",
      "Time                      float64\n",
      "Summary                    object\n",
      "Text                       object\n",
      "dtype: object\n"
     ]
    }
   ],
   "source": [
    "FILE_NAME = \"reviews1.csv\"\n",
    "#FILE_NAME = \"banksim_adj.csv\"\n",
    "#LABEL_COL = \"fraud\"\n",
    "sample = load_data(FILE_NAME)\n",
    "display(sample.head())\n",
    "print(sample.shape)\n",
    "print(sample.dtypes)"
   ]
  },
  {
   "cell_type": "code",
   "execution_count": 4,
   "metadata": {
    "_uuid": "59ed3e079934cd4ce54270ed6d1094ac6721a9c8"
   },
   "outputs": [
    {
     "name": "stdout",
     "output_type": "stream",
     "text": [
      "(556249, 10)\n"
     ]
    }
   ],
   "source": [
    "#check the loaded data\n",
    "print(sample.shape)"
   ]
  },
  {
   "cell_type": "code",
   "execution_count": 5,
   "metadata": {
    "_uuid": "edad0362c139710bbf130d518c2798ef6426bb45"
   },
   "outputs": [
    {
     "data": {
      "text/html": [
       "<div>\n",
       "<style scoped>\n",
       "    .dataframe tbody tr th:only-of-type {\n",
       "        vertical-align: middle;\n",
       "    }\n",
       "\n",
       "    .dataframe tbody tr th {\n",
       "        vertical-align: top;\n",
       "    }\n",
       "\n",
       "    .dataframe thead th {\n",
       "        text-align: right;\n",
       "    }\n",
       "</style>\n",
       "<table border=\"1\" class=\"dataframe\">\n",
       "  <thead>\n",
       "    <tr style=\"text-align: right;\">\n",
       "      <th></th>\n",
       "      <th>Id</th>\n",
       "      <th>ProductId</th>\n",
       "      <th>UserId</th>\n",
       "      <th>ProfileName</th>\n",
       "      <th>HelpfulnessNumerator</th>\n",
       "      <th>HelpfulnessDenominator</th>\n",
       "      <th>Score</th>\n",
       "      <th>Time</th>\n",
       "      <th>Summary</th>\n",
       "      <th>Text</th>\n",
       "    </tr>\n",
       "  </thead>\n",
       "  <tbody>\n",
       "    <tr>\n",
       "      <th>0</th>\n",
       "      <td>1.0</td>\n",
       "      <td>B001E4KFG0</td>\n",
       "      <td>A3SGXH7AUHU8GW</td>\n",
       "      <td>delmartian</td>\n",
       "      <td>1.0</td>\n",
       "      <td>1.0</td>\n",
       "      <td>5.0</td>\n",
       "      <td>1.303862e+09</td>\n",
       "      <td>Good Quality Dog Food</td>\n",
       "      <td>I have bought several of the Vitality canned d...</td>\n",
       "    </tr>\n",
       "    <tr>\n",
       "      <th>1</th>\n",
       "      <td>2.0</td>\n",
       "      <td>B00813GRG4</td>\n",
       "      <td>A1D87F6ZCVE5NK</td>\n",
       "      <td>dll pa</td>\n",
       "      <td>0.0</td>\n",
       "      <td>0.0</td>\n",
       "      <td>1.0</td>\n",
       "      <td>1.346976e+09</td>\n",
       "      <td>Not as Advertised</td>\n",
       "      <td>Product arrived labeled as Jumbo Salted Peanut...</td>\n",
       "    </tr>\n",
       "    <tr>\n",
       "      <th>2</th>\n",
       "      <td>3.0</td>\n",
       "      <td>B000LQOCH0</td>\n",
       "      <td>ABXLMWJIXXAIN</td>\n",
       "      <td>Natalia Corres \"Natalia Corres\"</td>\n",
       "      <td>1.0</td>\n",
       "      <td>1.0</td>\n",
       "      <td>4.0</td>\n",
       "      <td>1.219018e+09</td>\n",
       "      <td>\"Delight\" says it all</td>\n",
       "      <td>This is a confection that has been around a fe...</td>\n",
       "    </tr>\n",
       "    <tr>\n",
       "      <th>3</th>\n",
       "      <td>4.0</td>\n",
       "      <td>B000UA0QIQ</td>\n",
       "      <td>A395BORC6FGVXV</td>\n",
       "      <td>Karl</td>\n",
       "      <td>3.0</td>\n",
       "      <td>3.0</td>\n",
       "      <td>2.0</td>\n",
       "      <td>1.307923e+09</td>\n",
       "      <td>Cough Medicine</td>\n",
       "      <td>If you are looking for the secret ingredient i...</td>\n",
       "    </tr>\n",
       "    <tr>\n",
       "      <th>4</th>\n",
       "      <td>5.0</td>\n",
       "      <td>B006K2ZZ7K</td>\n",
       "      <td>A1UQRSCLF8GW1T</td>\n",
       "      <td>Michael D. Bigham \"M. Wassir\"</td>\n",
       "      <td>0.0</td>\n",
       "      <td>0.0</td>\n",
       "      <td>5.0</td>\n",
       "      <td>1.350778e+09</td>\n",
       "      <td>Great taffy</td>\n",
       "      <td>Great taffy at a great price.  There was a wid...</td>\n",
       "    </tr>\n",
       "  </tbody>\n",
       "</table>\n",
       "</div>"
      ],
      "text/plain": [
       "    Id   ProductId          UserId                      ProfileName  \\\n",
       "0  1.0  B001E4KFG0  A3SGXH7AUHU8GW                       delmartian   \n",
       "1  2.0  B00813GRG4  A1D87F6ZCVE5NK                           dll pa   \n",
       "2  3.0  B000LQOCH0   ABXLMWJIXXAIN  Natalia Corres \"Natalia Corres\"   \n",
       "3  4.0  B000UA0QIQ  A395BORC6FGVXV                             Karl   \n",
       "4  5.0  B006K2ZZ7K  A1UQRSCLF8GW1T    Michael D. Bigham \"M. Wassir\"   \n",
       "\n",
       "   HelpfulnessNumerator  HelpfulnessDenominator  Score          Time  \\\n",
       "0                   1.0                     1.0    5.0  1.303862e+09   \n",
       "1                   0.0                     0.0    1.0  1.346976e+09   \n",
       "2                   1.0                     1.0    4.0  1.219018e+09   \n",
       "3                   3.0                     3.0    2.0  1.307923e+09   \n",
       "4                   0.0                     0.0    5.0  1.350778e+09   \n",
       "\n",
       "                 Summary                                               Text  \n",
       "0  Good Quality Dog Food  I have bought several of the Vitality canned d...  \n",
       "1      Not as Advertised  Product arrived labeled as Jumbo Salted Peanut...  \n",
       "2  \"Delight\" says it all  This is a confection that has been around a fe...  \n",
       "3         Cough Medicine  If you are looking for the secret ingredient i...  \n",
       "4            Great taffy  Great taffy at a great price.  There was a wid...  "
      ]
     },
     "execution_count": 5,
     "metadata": {},
     "output_type": "execute_result"
    }
   ],
   "source": [
    "#look of the dataset\n",
    "sample.head()"
   ]
  },
  {
   "cell_type": "code",
   "execution_count": 6,
   "metadata": {
    "_uuid": "e9e49bb588ba1b8f4fde1fa39b79f279c61f589f"
   },
   "outputs": [
    {
     "name": "stderr",
     "output_type": "stream",
     "text": [
      "C:\\Users\\waliullah\\Anaconda3\\lib\\site-packages\\seaborn\\_decorators.py:36: FutureWarning: Pass the following variable as a keyword arg: x. From version 0.12, the only valid positional argument will be `data`, and passing other arguments without an explicit keyword will result in an error or misinterpretation.\n",
      "  warnings.warn(\n"
     ]
    },
    {
     "data": {
      "text/plain": [
       "<AxesSubplot:xlabel='Score', ylabel='count'>"
      ]
     },
     "execution_count": 6,
     "metadata": {},
     "output_type": "execute_result"
    },
    {
     "data": {
      "image/png": "[encoded data removed]",
      "text/plain": [
       "<Figure size 432x288 with 1 Axes>"
      ]
     },
     "metadata": {
      "needs_background": "light"
     },
     "output_type": "display_data"
    }
   ],
   "source": [
    "# Understand how customer ratings are distributed\n",
    "import seaborn as sns\n",
    "sns.countplot(sample.Score)"
   ]
  },
  {
   "cell_type": "markdown",
   "metadata": {
    "_uuid": "48049f2669fd2119f4ccf6404fcbc3b29a85e44b"
   },
   "source": [
    " # Data Cleaning"
   ]
  },
  {
   "cell_type": "code",
   "execution_count": 7,
   "metadata": {
    "_uuid": "80457bcb98802fa5bd362e986af87a8113c5f410"
   },
   "outputs": [],
   "source": [
    "#converting the Numerical reviws to categorical reviews on codition above 3 are\n",
    "#positive and below 3 are negative as reviews rating with 3 are not much useful\n",
    "#for analysis\n",
    "\n",
    "#function\n",
    "def partition(x):\n",
    "    if x < 3:\n",
    "        return 'negative'\n",
    "    return 'positive'\n",
    "\n",
    "#changing reviews with score less than 3 to be positive\n",
    "actualScore = sample['Score']\n",
    "positiveNegative = actualScore.map(partition) \n",
    "sample['Score'] = positiveNegative"
   ]
  },
  {
   "cell_type": "code",
   "execution_count": 8,
   "metadata": {
    "_uuid": "b155c3f1830d430e54d996a2d0a285d9c0f22496"
   },
   "outputs": [
    {
     "data": {
      "text/html": [
       "<div>\n",
       "<style scoped>\n",
       "    .dataframe tbody tr th:only-of-type {\n",
       "        vertical-align: middle;\n",
       "    }\n",
       "\n",
       "    .dataframe tbody tr th {\n",
       "        vertical-align: top;\n",
       "    }\n",
       "\n",
       "    .dataframe thead th {\n",
       "        text-align: right;\n",
       "    }\n",
       "</style>\n",
       "<table border=\"1\" class=\"dataframe\">\n",
       "  <thead>\n",
       "    <tr style=\"text-align: right;\">\n",
       "      <th></th>\n",
       "      <th>Id</th>\n",
       "      <th>ProductId</th>\n",
       "      <th>UserId</th>\n",
       "      <th>ProfileName</th>\n",
       "      <th>HelpfulnessNumerator</th>\n",
       "      <th>HelpfulnessDenominator</th>\n",
       "      <th>Score</th>\n",
       "      <th>Time</th>\n",
       "      <th>Summary</th>\n",
       "      <th>Text</th>\n",
       "    </tr>\n",
       "  </thead>\n",
       "  <tbody>\n",
       "    <tr>\n",
       "      <th>0</th>\n",
       "      <td>1.0</td>\n",
       "      <td>B001E4KFG0</td>\n",
       "      <td>A3SGXH7AUHU8GW</td>\n",
       "      <td>delmartian</td>\n",
       "      <td>1.0</td>\n",
       "      <td>1.0</td>\n",
       "      <td>positive</td>\n",
       "      <td>1.303862e+09</td>\n",
       "      <td>Good Quality Dog Food</td>\n",
       "      <td>I have bought several of the Vitality canned d...</td>\n",
       "    </tr>\n",
       "    <tr>\n",
       "      <th>1</th>\n",
       "      <td>2.0</td>\n",
       "      <td>B00813GRG4</td>\n",
       "      <td>A1D87F6ZCVE5NK</td>\n",
       "      <td>dll pa</td>\n",
       "      <td>0.0</td>\n",
       "      <td>0.0</td>\n",
       "      <td>negative</td>\n",
       "      <td>1.346976e+09</td>\n",
       "      <td>Not as Advertised</td>\n",
       "      <td>Product arrived labeled as Jumbo Salted Peanut...</td>\n",
       "    </tr>\n",
       "    <tr>\n",
       "      <th>2</th>\n",
       "      <td>3.0</td>\n",
       "      <td>B000LQOCH0</td>\n",
       "      <td>ABXLMWJIXXAIN</td>\n",
       "      <td>Natalia Corres \"Natalia Corres\"</td>\n",
       "      <td>1.0</td>\n",
       "      <td>1.0</td>\n",
       "      <td>positive</td>\n",
       "      <td>1.219018e+09</td>\n",
       "      <td>\"Delight\" says it all</td>\n",
       "      <td>This is a confection that has been around a fe...</td>\n",
       "    </tr>\n",
       "    <tr>\n",
       "      <th>3</th>\n",
       "      <td>4.0</td>\n",
       "      <td>B000UA0QIQ</td>\n",
       "      <td>A395BORC6FGVXV</td>\n",
       "      <td>Karl</td>\n",
       "      <td>3.0</td>\n",
       "      <td>3.0</td>\n",
       "      <td>negative</td>\n",
       "      <td>1.307923e+09</td>\n",
       "      <td>Cough Medicine</td>\n",
       "      <td>If you are looking for the secret ingredient i...</td>\n",
       "    </tr>\n",
       "    <tr>\n",
       "      <th>4</th>\n",
       "      <td>5.0</td>\n",
       "      <td>B006K2ZZ7K</td>\n",
       "      <td>A1UQRSCLF8GW1T</td>\n",
       "      <td>Michael D. Bigham \"M. Wassir\"</td>\n",
       "      <td>0.0</td>\n",
       "      <td>0.0</td>\n",
       "      <td>positive</td>\n",
       "      <td>1.350778e+09</td>\n",
       "      <td>Great taffy</td>\n",
       "      <td>Great taffy at a great price.  There was a wid...</td>\n",
       "    </tr>\n",
       "  </tbody>\n",
       "</table>\n",
       "</div>"
      ],
      "text/plain": [
       "    Id   ProductId          UserId                      ProfileName  \\\n",
       "0  1.0  B001E4KFG0  A3SGXH7AUHU8GW                       delmartian   \n",
       "1  2.0  B00813GRG4  A1D87F6ZCVE5NK                           dll pa   \n",
       "2  3.0  B000LQOCH0   ABXLMWJIXXAIN  Natalia Corres \"Natalia Corres\"   \n",
       "3  4.0  B000UA0QIQ  A395BORC6FGVXV                             Karl   \n",
       "4  5.0  B006K2ZZ7K  A1UQRSCLF8GW1T    Michael D. Bigham \"M. Wassir\"   \n",
       "\n",
       "   HelpfulnessNumerator  HelpfulnessDenominator     Score          Time  \\\n",
       "0                   1.0                     1.0  positive  1.303862e+09   \n",
       "1                   0.0                     0.0  negative  1.346976e+09   \n",
       "2                   1.0                     1.0  positive  1.219018e+09   \n",
       "3                   3.0                     3.0  negative  1.307923e+09   \n",
       "4                   0.0                     0.0  positive  1.350778e+09   \n",
       "\n",
       "                 Summary                                               Text  \n",
       "0  Good Quality Dog Food  I have bought several of the Vitality canned d...  \n",
       "1      Not as Advertised  Product arrived labeled as Jumbo Salted Peanut...  \n",
       "2  \"Delight\" says it all  This is a confection that has been around a fe...  \n",
       "3         Cough Medicine  If you are looking for the secret ingredient i...  \n",
       "4            Great taffy  Great taffy at a great price.  There was a wid...  "
      ]
     },
     "execution_count": 8,
     "metadata": {},
     "output_type": "execute_result"
    }
   ],
   "source": [
    "sample.head()"
   ]
  },
  {
   "cell_type": "code",
   "execution_count": 9,
   "metadata": {
    "_uuid": "da944962df95336fcab103a85897118bdda3794d"
   },
   "outputs": [
    {
     "data": {
      "text/plain": [
       "positive    555490\n",
       "negative       759\n",
       "Name: Score, dtype: int64"
      ]
     },
     "execution_count": 9,
     "metadata": {},
     "output_type": "execute_result"
    }
   ],
   "source": [
    "# no of positive and negative reviews\n",
    "sample[\"Score\"].value_counts()\n",
    "#here we can say it is a unbalanced data set"
   ]
  },
  {
   "cell_type": "code",
   "execution_count": 10,
   "metadata": {
    "_uuid": "e082408194a1d6f250adfcb6f2dc6eebfba7fff7"
   },
   "outputs": [
    {
     "data": {
      "text/plain": [
       "(4986, 10)"
      ]
     },
     "execution_count": 10,
     "metadata": {},
     "output_type": "execute_result"
    }
   ],
   "source": [
    "#dropping  the duplicates column if any using drop duplicates from pandas\n",
    "sorted_data=sample.sort_values('ProductId', axis=0, ascending=True, inplace=False, kind='quicksort', na_position='last')\n",
    "final=sorted_data.drop_duplicates(subset={\"UserId\",\"ProfileName\",\"Time\",\"Text\"}, keep='first', inplace=False)\n",
    "final.shape"
   ]
  },
  {
   "cell_type": "code",
   "execution_count": 11,
   "metadata": {
    "_uuid": "c941055068b082ebde46dc1d7085c3a0878b137f"
   },
   "outputs": [
    {
     "data": {
      "text/plain": [
       "0.8963611619975945"
      ]
     },
     "execution_count": 11,
     "metadata": {},
     "output_type": "execute_result"
    }
   ],
   "source": [
    "# no duplicate columns found\n",
    "(final['Id'].size*1.0)/(sample['Id'].size*1.0)*100"
   ]
  },
  {
   "cell_type": "code",
   "execution_count": 12,
   "metadata": {
    "_uuid": "2a52bd1a029123c7cdb42f4443d07d63f61cd78f"
   },
   "outputs": [
    {
     "name": "stdout",
     "output_type": "stream",
     "text": [
      "(4985, 10)\n"
     ]
    },
    {
     "data": {
      "text/plain": [
       "positive    4231\n",
       "negative     754\n",
       "Name: Score, dtype: int64"
      ]
     },
     "execution_count": 12,
     "metadata": {},
     "output_type": "execute_result"
    }
   ],
   "source": [
    "final=final[final.HelpfulnessNumerator<=final.HelpfulnessDenominator]\n",
    "# Help..Num is always less than Denom.. as Denom is people who upvote and donwvote\n",
    "#Before understanding text preprocessing lets see the number of entries left\n",
    "print(final.shape)\n",
    "\n",
    "#How many positive and negative reviews are present in our dataset?\n",
    "final['Score'].value_counts()\n",
    "\n",
    "# after removing duplicate rows we found, 8346 positive and 1457 negative"
   ]
  },
  {
   "cell_type": "code",
   "execution_count": 13,
   "metadata": {
    "_uuid": "7fc2d23679328d9d3640029f7a7bc97de0c2369c"
   },
   "outputs": [
    {
     "name": "stderr",
     "output_type": "stream",
     "text": [
      "C:\\Users\\waliullah\\Anaconda3\\lib\\site-packages\\seaborn\\_decorators.py:36: FutureWarning: Pass the following variable as a keyword arg: x. From version 0.12, the only valid positional argument will be `data`, and passing other arguments without an explicit keyword will result in an error or misinterpretation.\n",
      "  warnings.warn(\n"
     ]
    },
    {
     "data": {
      "text/plain": [
       "<AxesSubplot:xlabel='Score', ylabel='count'>"
      ]
     },
     "execution_count": 13,
     "metadata": {},
     "output_type": "execute_result"
    },
    {
     "data": {
      "image/png": "[encoded data removed]",
      "text/plain": [
       "<Figure size 432x288 with 1 Axes>"
      ]
     },
     "metadata": {
      "needs_background": "light"
     },
     "output_type": "display_data"
    }
   ],
   "source": [
    "# After Removing Duplicate rows\n",
    "import seaborn as sns\n",
    "sns.countplot(final.Score)"
   ]
  },
  {
   "cell_type": "markdown",
   "metadata": {
    "_uuid": "d424e7b744fe2be8a5d2bee78fbf54f3c2e6ca1c"
   },
   "source": [
    "# Text Processing\n",
    "\n",
    "To make the text clean by removing HTML tag reviews, stopwords to segregate and adding timestamp"
   ]
  },
  {
   "cell_type": "code",
   "execution_count": 14,
   "metadata": {
    "_uuid": "a0c15a9fd788e3320b6940a8de82a60dd065a2a3"
   },
   "outputs": [
    {
     "name": "stdout",
     "output_type": "stream",
     "text": [
      "1\n",
      "Why is this $[...] when the same product is available for $[...] here?<br />http://www.amazon.com/VICTOR-FLY-MAGNET-BAIT-REFILL/dp/B00004RBDY<br /><br />The Victor M380 and M502 traps are unreal, of course -- total fly genocide. Pretty stinky, but only right nearby.\n"
     ]
    }
   ],
   "source": [
    "# find sentences containing HTML tags\n",
    "import re\n",
    "i=0;\n",
    "for sent in final['Text'].values:\n",
    "    if (len(re.findall('<.*?>', sent))):\n",
    "        print(i)\n",
    "        print(sent)\n",
    "        break;\n",
    "    i += 1;"
   ]
  },
  {
   "cell_type": "code",
   "execution_count": 15,
   "metadata": {
    "_uuid": "df951cb6888aa7e6a8e1ecea90dc41e84bdf4e6c"
   },
   "outputs": [
    {
     "name": "stdout",
     "output_type": "stream",
     "text": [
      "{'my', 'by', \"mightn't\", 't', 'theirs', 'herself', 'our', 'nor', 'here', 'he', 'won', 'under', 'each', 'who', 'off', \"shouldn't\", 'been', 'very', 'i', 'about', 'needn', \"won't\", 'were', 'had', 'if', 'be', 'couldn', 'any', 'once', 'doesn', \"wouldn't\", 'own', \"don't\", 'its', \"couldn't\", 'mustn', 'has', 'to', 'at', 'all', 'those', 'can', 'd', 'them', 'yours', \"that'll\", 'more', 'how', 'himself', \"needn't\", \"you'd\", 'not', 'ours', 'as', 'and', 'a', 'her', 'over', 'or', 'myself', \"you've\", 'of', 'is', 'their', 'from', 'are', 'we', \"you'll\", 'that', 'too', 're', 'me', 'where', 'for', 'such', 'mightn', 'shouldn', 'through', \"she's\", 'ain', 'do', 'yourselves', 'most', 'against', 'being', 'am', 'on', 'themselves', 'after', 'm', 'you', 'hers', \"you're\", 'an', 'don', 'no', 'hasn', 'but', 'into', 'your', 'which', 'didn', 'these', 'until', 'few', 'other', \"wasn't\", 'with', 'in', 'during', 'yourself', \"didn't\", \"it's\", 'wouldn', 'than', 'there', 'wasn', 'because', 's', \"mustn't\", 'o', 'will', 'just', \"hadn't\", \"weren't\", 'y', 'his', 'they', 'itself', 'down', 'same', 'again', \"shan't\", 'now', 'this', 'whom', 'll', 'shan', 'him', 'when', \"hasn't\", \"should've\", 'what', 'weren', 'both', 'she', 'having', 'does', 'while', 'ma', 'up', 'below', \"doesn't\", 'between', 'ourselves', 'before', 've', 'out', 'have', 'should', \"aren't\", 'doing', 'some', \"isn't\", \"haven't\", 'it', 'so', 'above', 'further', 'was', 'did', 'then', 'aren', 'hadn', 'haven', 'isn', 'the', 'only', 'why'}\n",
      "************************************\n",
      "tasti\n"
     ]
    },
    {
     "name": "stderr",
     "output_type": "stream",
     "text": [
      "[nltk_data] Downloading package stopwords to\n",
      "[nltk_data]     C:\\Users\\waliullah\\AppData\\Roaming\\nltk_data...\n",
      "[nltk_data]   Package stopwords is already up-to-date!\n"
     ]
    }
   ],
   "source": [
    "import nltk\n",
    "nltk.download('stopwords')\n",
    "from nltk.corpus import stopwords\n",
    "sno = nltk.stem.SnowballStemmer('english') #initialising the snowball stemmer which is developed in recent years\n",
    "stop=set(stopwords.words('english'))\n",
    "\n",
    "\n",
    "\n",
    "def cleanhtml(sentence): #function to clean the word of any html-tags\n",
    "    cleanr = re.compile('<.*?>')\n",
    "    cleantext = re.sub(cleanr, ' ', sentence)\n",
    "    return cleantext\n",
    "def cleanpunc(sentence): #function to clean the word of any punctuation or special characters\n",
    "    cleaned = re.sub(r'[?|!|\\'|\"|#]',r'',sentence)\n",
    "    cleaned = re.sub(r'[.|,|)|(|\\|/]',r' ',cleaned)\n",
    "    return  cleaned\n",
    "print(stop)\n",
    "print('************************************')\n",
    "print(sno.stem('tasty'))"
   ]
  },
  {
   "cell_type": "code",
   "execution_count": 16,
   "metadata": {
    "_uuid": "ddb8bcb1d99775bae365536e32a92728b306a1f0"
   },
   "outputs": [],
   "source": [
    "i=0\n",
    "str1=' '\n",
    "final_string=[]\n",
    "all_positive_words=[] # store words from +ve reviews here\n",
    "all_negative_words=[] # store words from -ve reviews here.\n",
    "s=''\n",
    "for sent in final['Text'].values:\n",
    "    filtered_sentence=[]\n",
    "    #print(sent);\n",
    "    sent=cleanhtml(sent) # remove HTMl tags\n",
    "    for w in sent.split():\n",
    "        for cleaned_words in cleanpunc(w).split():\n",
    "            if((cleaned_words.isalpha()) & (len(cleaned_words)>2)):    \n",
    "                if(cleaned_words.lower() not in stop):\n",
    "                    s=(sno.stem(cleaned_words.lower())).encode('utf8')\n",
    "                    filtered_sentence.append(s)\n",
    "                    if (final['Score'].values)[i] == 'positive': \n",
    "                        all_positive_words.append(s) #list of all words used to describe positive reviews\n",
    "                    if(final['Score'].values)[i] == 'negative':\n",
    "                        all_negative_words.append(s) #list of all words used to describe negative reviews reviews\n",
    "                else:\n",
    "                    continue\n",
    "            else:\n",
    "                continue \n",
    "    #print(filtered_sentence)\n",
    "    str1 = b\" \".join(filtered_sentence) #final string of cleaned words\n",
    "    #print(\"***********************************************************************\")\n",
    "    \n",
    "    final_string.append(str1)\n",
    "    i+=1"
   ]
  },
  {
   "cell_type": "code",
   "execution_count": 17,
   "metadata": {
    "_uuid": "368155a5dbb82479695879d98b44ee3709e086f2"
   },
   "outputs": [],
   "source": [
    "final['CleanedText']=final_string #adding a column of CleanedText which displays the data after pre-processing of the review \n",
    "final['CleanedText']=final['CleanedText'].str.decode(\"utf-8\")"
   ]
  },
  {
   "cell_type": "code",
   "execution_count": 18,
   "metadata": {
    "_uuid": "c7679df66babf4b107d58866576c5b2f92a67d97"
   },
   "outputs": [
    {
     "data": {
      "text/plain": [
       "(4985, 11)"
      ]
     },
     "execution_count": 18,
     "metadata": {},
     "output_type": "execute_result"
    }
   ],
   "source": [
    "final.shape # cleaned text column added"
   ]
  },
  {
   "cell_type": "code",
   "execution_count": 19,
   "metadata": {
    "_uuid": "85d54e3520926aebddbe5d66ef2e2e4c78feaac9"
   },
   "outputs": [
    {
     "data": {
      "text/html": [
       "<div>\n",
       "<style scoped>\n",
       "    .dataframe tbody tr th:only-of-type {\n",
       "        vertical-align: middle;\n",
       "    }\n",
       "\n",
       "    .dataframe tbody tr th {\n",
       "        vertical-align: top;\n",
       "    }\n",
       "\n",
       "    .dataframe thead th {\n",
       "        text-align: right;\n",
       "    }\n",
       "</style>\n",
       "<table border=\"1\" class=\"dataframe\">\n",
       "  <thead>\n",
       "    <tr style=\"text-align: right;\">\n",
       "      <th></th>\n",
       "      <th>Id</th>\n",
       "      <th>ProductId</th>\n",
       "      <th>UserId</th>\n",
       "      <th>ProfileName</th>\n",
       "      <th>HelpfulnessNumerator</th>\n",
       "      <th>HelpfulnessDenominator</th>\n",
       "      <th>Score</th>\n",
       "      <th>Time</th>\n",
       "      <th>Summary</th>\n",
       "      <th>Text</th>\n",
       "      <th>CleanedText</th>\n",
       "    </tr>\n",
       "  </thead>\n",
       "  <tbody>\n",
       "    <tr>\n",
       "      <th>2774</th>\n",
       "      <td>2775.0</td>\n",
       "      <td>B00002NCJC</td>\n",
       "      <td>A13RRPGE79XFFH</td>\n",
       "      <td>reader48</td>\n",
       "      <td>0.0</td>\n",
       "      <td>0.0</td>\n",
       "      <td>positive</td>\n",
       "      <td>1.281053e+09</td>\n",
       "      <td>Flies Begone</td>\n",
       "      <td>We have used the Victor fly bait for 3 seasons...</td>\n",
       "      <td>use victor fli bait season cant beat great pro...</td>\n",
       "    </tr>\n",
       "    <tr>\n",
       "      <th>2773</th>\n",
       "      <td>2774.0</td>\n",
       "      <td>B00002NCJC</td>\n",
       "      <td>A196AJHU9EASJN</td>\n",
       "      <td>Alex Chaffee</td>\n",
       "      <td>0.0</td>\n",
       "      <td>0.0</td>\n",
       "      <td>positive</td>\n",
       "      <td>1.282954e+09</td>\n",
       "      <td>thirty bucks?</td>\n",
       "      <td>Why is this $[...] when the same product is av...</td>\n",
       "      <td>product avail www amazon com victor trap unrea...</td>\n",
       "    </tr>\n",
       "    <tr>\n",
       "      <th>1243</th>\n",
       "      <td>1244.0</td>\n",
       "      <td>B00002Z754</td>\n",
       "      <td>A3B8RCEI0FXFI6</td>\n",
       "      <td>B G Chase</td>\n",
       "      <td>10.0</td>\n",
       "      <td>10.0</td>\n",
       "      <td>positive</td>\n",
       "      <td>9.622368e+08</td>\n",
       "      <td>WOW Make your own 'slickers' !</td>\n",
       "      <td>I just received my shipment and could hardly w...</td>\n",
       "      <td>receiv shipment could hard wait tri product lo...</td>\n",
       "    </tr>\n",
       "  </tbody>\n",
       "</table>\n",
       "</div>"
      ],
      "text/plain": [
       "          Id   ProductId          UserId   ProfileName  HelpfulnessNumerator  \\\n",
       "2774  2775.0  B00002NCJC  A13RRPGE79XFFH      reader48                   0.0   \n",
       "2773  2774.0  B00002NCJC  A196AJHU9EASJN  Alex Chaffee                   0.0   \n",
       "1243  1244.0  B00002Z754  A3B8RCEI0FXFI6     B G Chase                  10.0   \n",
       "\n",
       "      HelpfulnessDenominator     Score          Time  \\\n",
       "2774                     0.0  positive  1.281053e+09   \n",
       "2773                     0.0  positive  1.282954e+09   \n",
       "1243                    10.0  positive  9.622368e+08   \n",
       "\n",
       "                             Summary  \\\n",
       "2774                    Flies Begone   \n",
       "2773                   thirty bucks?   \n",
       "1243  WOW Make your own 'slickers' !   \n",
       "\n",
       "                                                   Text  \\\n",
       "2774  We have used the Victor fly bait for 3 seasons...   \n",
       "2773  Why is this $[...] when the same product is av...   \n",
       "1243  I just received my shipment and could hardly w...   \n",
       "\n",
       "                                            CleanedText  \n",
       "2774  use victor fli bait season cant beat great pro...  \n",
       "2773  product avail www amazon com victor trap unrea...  \n",
       "1243  receiv shipment could hard wait tri product lo...  "
      ]
     },
     "execution_count": 19,
     "metadata": {},
     "output_type": "execute_result"
    }
   ],
   "source": [
    "final.head(3) #below the processed review can be seen in the CleanedText Column "
   ]
  },
  {
   "cell_type": "code",
   "execution_count": 20,
   "metadata": {
    "_uuid": "f5de930427a9175d44959c989ff3b76063991acd"
   },
   "outputs": [
    {
     "data": {
      "text/html": [
       "<div>\n",
       "<style scoped>\n",
       "    .dataframe tbody tr th:only-of-type {\n",
       "        vertical-align: middle;\n",
       "    }\n",
       "\n",
       "    .dataframe tbody tr th {\n",
       "        vertical-align: top;\n",
       "    }\n",
       "\n",
       "    .dataframe thead th {\n",
       "        text-align: right;\n",
       "    }\n",
       "</style>\n",
       "<table border=\"1\" class=\"dataframe\">\n",
       "  <thead>\n",
       "    <tr style=\"text-align: right;\">\n",
       "      <th></th>\n",
       "      <th>Id</th>\n",
       "      <th>ProductId</th>\n",
       "      <th>UserId</th>\n",
       "      <th>ProfileName</th>\n",
       "      <th>HelpfulnessNumerator</th>\n",
       "      <th>HelpfulnessDenominator</th>\n",
       "      <th>Score</th>\n",
       "      <th>Time</th>\n",
       "      <th>Summary</th>\n",
       "      <th>Text</th>\n",
       "      <th>CleanedText</th>\n",
       "    </tr>\n",
       "  </thead>\n",
       "  <tbody>\n",
       "    <tr>\n",
       "      <th>2774</th>\n",
       "      <td>2775.0</td>\n",
       "      <td>B00002NCJC</td>\n",
       "      <td>A13RRPGE79XFFH</td>\n",
       "      <td>reader48</td>\n",
       "      <td>0.0</td>\n",
       "      <td>0.0</td>\n",
       "      <td>positive</td>\n",
       "      <td>1.281053e+09</td>\n",
       "      <td>Flies Begone</td>\n",
       "      <td>We have used the Victor fly bait for 3 seasons...</td>\n",
       "      <td>use victor fli bait season cant beat great pro...</td>\n",
       "    </tr>\n",
       "    <tr>\n",
       "      <th>2773</th>\n",
       "      <td>2774.0</td>\n",
       "      <td>B00002NCJC</td>\n",
       "      <td>A196AJHU9EASJN</td>\n",
       "      <td>Alex Chaffee</td>\n",
       "      <td>0.0</td>\n",
       "      <td>0.0</td>\n",
       "      <td>positive</td>\n",
       "      <td>1.282954e+09</td>\n",
       "      <td>thirty bucks?</td>\n",
       "      <td>Why is this $[...] when the same product is av...</td>\n",
       "      <td>product avail www amazon com victor trap unrea...</td>\n",
       "    </tr>\n",
       "    <tr>\n",
       "      <th>1243</th>\n",
       "      <td>1244.0</td>\n",
       "      <td>B00002Z754</td>\n",
       "      <td>A3B8RCEI0FXFI6</td>\n",
       "      <td>B G Chase</td>\n",
       "      <td>10.0</td>\n",
       "      <td>10.0</td>\n",
       "      <td>positive</td>\n",
       "      <td>9.622368e+08</td>\n",
       "      <td>WOW Make your own 'slickers' !</td>\n",
       "      <td>I just received my shipment and could hardly w...</td>\n",
       "      <td>receiv shipment could hard wait tri product lo...</td>\n",
       "    </tr>\n",
       "    <tr>\n",
       "      <th>1244</th>\n",
       "      <td>1245.0</td>\n",
       "      <td>B00002Z754</td>\n",
       "      <td>A29Z5PI9BW2PU3</td>\n",
       "      <td>Robbie</td>\n",
       "      <td>7.0</td>\n",
       "      <td>7.0</td>\n",
       "      <td>positive</td>\n",
       "      <td>9.617184e+08</td>\n",
       "      <td>Great Product</td>\n",
       "      <td>This was a really good idea and the final prod...</td>\n",
       "      <td>realli good idea final product outstand use de...</td>\n",
       "    </tr>\n",
       "    <tr>\n",
       "      <th>3202</th>\n",
       "      <td>3203.0</td>\n",
       "      <td>B000084DVR</td>\n",
       "      <td>A3DKGXWUEP1AI2</td>\n",
       "      <td>Glenna E. Bauer \"Puppy Mum\"</td>\n",
       "      <td>3.0</td>\n",
       "      <td>3.0</td>\n",
       "      <td>positive</td>\n",
       "      <td>1.163030e+09</td>\n",
       "      <td>Premium Quality Dog Food!!!</td>\n",
       "      <td>We have been using this food for about 6 month...</td>\n",
       "      <td>use food month find excel fact two dog coton t...</td>\n",
       "    </tr>\n",
       "  </tbody>\n",
       "</table>\n",
       "</div>"
      ],
      "text/plain": [
       "          Id   ProductId          UserId                  ProfileName  \\\n",
       "2774  2775.0  B00002NCJC  A13RRPGE79XFFH                     reader48   \n",
       "2773  2774.0  B00002NCJC  A196AJHU9EASJN                 Alex Chaffee   \n",
       "1243  1244.0  B00002Z754  A3B8RCEI0FXFI6                    B G Chase   \n",
       "1244  1245.0  B00002Z754  A29Z5PI9BW2PU3                       Robbie   \n",
       "3202  3203.0  B000084DVR  A3DKGXWUEP1AI2  Glenna E. Bauer \"Puppy Mum\"   \n",
       "\n",
       "      HelpfulnessNumerator  HelpfulnessDenominator     Score          Time  \\\n",
       "2774                   0.0                     0.0  positive  1.281053e+09   \n",
       "2773                   0.0                     0.0  positive  1.282954e+09   \n",
       "1243                  10.0                    10.0  positive  9.622368e+08   \n",
       "1244                   7.0                     7.0  positive  9.617184e+08   \n",
       "3202                   3.0                     3.0  positive  1.163030e+09   \n",
       "\n",
       "                             Summary  \\\n",
       "2774                    Flies Begone   \n",
       "2773                   thirty bucks?   \n",
       "1243  WOW Make your own 'slickers' !   \n",
       "1244                   Great Product   \n",
       "3202     Premium Quality Dog Food!!!   \n",
       "\n",
       "                                                   Text  \\\n",
       "2774  We have used the Victor fly bait for 3 seasons...   \n",
       "2773  Why is this $[...] when the same product is av...   \n",
       "1243  I just received my shipment and could hardly w...   \n",
       "1244  This was a really good idea and the final prod...   \n",
       "3202  We have been using this food for about 6 month...   \n",
       "\n",
       "                                            CleanedText  \n",
       "2774  use victor fli bait season cant beat great pro...  \n",
       "2773  product avail www amazon com victor trap unrea...  \n",
       "1243  receiv shipment could hard wait tri product lo...  \n",
       "1244  realli good idea final product outstand use de...  \n",
       "3202  use food month find excel fact two dog coton t...  "
      ]
     },
     "execution_count": 20,
     "metadata": {},
     "output_type": "execute_result"
    }
   ],
   "source": [
    "# however, this is not required for clustering, just segregaring positive,negative and storing seperetly\n",
    "data_pos = final[final[\"Score\"] == \"positive\"]\n",
    "data_neg = final[final[\"Score\"] == \"negative\"]\n",
    "final = pd.concat([data_pos, data_neg])\n",
    "score =final[\"Score\"]\n",
    "final.head()\n"
   ]
  },
  {
   "cell_type": "code",
   "execution_count": 21,
   "metadata": {
    "_uuid": "8e9ba5a94375b22ae244352f87e3432f05115eff"
   },
   "outputs": [
    {
     "data": {
      "text/html": [
       "<div>\n",
       "<style scoped>\n",
       "    .dataframe tbody tr th:only-of-type {\n",
       "        vertical-align: middle;\n",
       "    }\n",
       "\n",
       "    .dataframe tbody tr th {\n",
       "        vertical-align: top;\n",
       "    }\n",
       "\n",
       "    .dataframe thead th {\n",
       "        text-align: right;\n",
       "    }\n",
       "</style>\n",
       "<table border=\"1\" class=\"dataframe\">\n",
       "  <thead>\n",
       "    <tr style=\"text-align: right;\">\n",
       "      <th></th>\n",
       "      <th>Id</th>\n",
       "      <th>ProductId</th>\n",
       "      <th>UserId</th>\n",
       "      <th>ProfileName</th>\n",
       "      <th>HelpfulnessNumerator</th>\n",
       "      <th>HelpfulnessDenominator</th>\n",
       "      <th>Score</th>\n",
       "      <th>Time</th>\n",
       "      <th>Summary</th>\n",
       "      <th>Text</th>\n",
       "      <th>CleanedText</th>\n",
       "    </tr>\n",
       "  </thead>\n",
       "  <tbody>\n",
       "    <tr>\n",
       "      <th>1244</th>\n",
       "      <td>1245.0</td>\n",
       "      <td>B00002Z754</td>\n",
       "      <td>A29Z5PI9BW2PU3</td>\n",
       "      <td>Robbie</td>\n",
       "      <td>7.0</td>\n",
       "      <td>7.0</td>\n",
       "      <td>positive</td>\n",
       "      <td>2000-06-23</td>\n",
       "      <td>Great Product</td>\n",
       "      <td>This was a really good idea and the final prod...</td>\n",
       "      <td>realli good idea final product outstand use de...</td>\n",
       "    </tr>\n",
       "    <tr>\n",
       "      <th>1243</th>\n",
       "      <td>1244.0</td>\n",
       "      <td>B00002Z754</td>\n",
       "      <td>A3B8RCEI0FXFI6</td>\n",
       "      <td>B G Chase</td>\n",
       "      <td>10.0</td>\n",
       "      <td>10.0</td>\n",
       "      <td>positive</td>\n",
       "      <td>2000-06-29</td>\n",
       "      <td>WOW Make your own 'slickers' !</td>\n",
       "      <td>I just received my shipment and could hardly w...</td>\n",
       "      <td>receiv shipment could hard wait tri product lo...</td>\n",
       "    </tr>\n",
       "    <tr>\n",
       "      <th>3782</th>\n",
       "      <td>3783.0</td>\n",
       "      <td>B00016UX0K</td>\n",
       "      <td>AF1PV3DIC0XM7</td>\n",
       "      <td>Robert Ashton</td>\n",
       "      <td>1.0</td>\n",
       "      <td>2.0</td>\n",
       "      <td>positive</td>\n",
       "      <td>2004-04-10</td>\n",
       "      <td>Classic Condiment</td>\n",
       "      <td>Mae Ploy Sweet Chili Sauce is becoming a stand...</td>\n",
       "      <td>mae ploy sweet chili sauc becom standard condi...</td>\n",
       "    </tr>\n",
       "    <tr>\n",
       "      <th>1205</th>\n",
       "      <td>1206.0</td>\n",
       "      <td>B005O072PC</td>\n",
       "      <td>A3BD5B8Y8MY25X</td>\n",
       "      <td>J. L. K. \"special_k\"</td>\n",
       "      <td>13.0</td>\n",
       "      <td>14.0</td>\n",
       "      <td>positive</td>\n",
       "      <td>2004-06-29</td>\n",
       "      <td>The best twice baked potatoes you'll ever have!</td>\n",
       "      <td>Perfect year round with just about any meat di...</td>\n",
       "      <td>perfect year round meat dish omaha steak twice...</td>\n",
       "    </tr>\n",
       "    <tr>\n",
       "      <th>1275</th>\n",
       "      <td>1276.0</td>\n",
       "      <td>B000WNJ73Q</td>\n",
       "      <td>A394MHK3CSDGUV</td>\n",
       "      <td>kaleinor</td>\n",
       "      <td>2.0</td>\n",
       "      <td>2.0</td>\n",
       "      <td>positive</td>\n",
       "      <td>2004-08-01</td>\n",
       "      <td>5 Woofs!</td>\n",
       "      <td>Five of my five dogs agree - they'd rather mun...</td>\n",
       "      <td>five five dog agre theyd rather munch liver bi...</td>\n",
       "    </tr>\n",
       "  </tbody>\n",
       "</table>\n",
       "</div>"
      ],
      "text/plain": [
       "          Id   ProductId          UserId           ProfileName  \\\n",
       "1244  1245.0  B00002Z754  A29Z5PI9BW2PU3                Robbie   \n",
       "1243  1244.0  B00002Z754  A3B8RCEI0FXFI6             B G Chase   \n",
       "3782  3783.0  B00016UX0K   AF1PV3DIC0XM7         Robert Ashton   \n",
       "1205  1206.0  B005O072PC  A3BD5B8Y8MY25X  J. L. K. \"special_k\"   \n",
       "1275  1276.0  B000WNJ73Q  A394MHK3CSDGUV              kaleinor   \n",
       "\n",
       "      HelpfulnessNumerator  HelpfulnessDenominator     Score       Time  \\\n",
       "1244                   7.0                     7.0  positive 2000-06-23   \n",
       "1243                  10.0                    10.0  positive 2000-06-29   \n",
       "3782                   1.0                     2.0  positive 2004-04-10   \n",
       "1205                  13.0                    14.0  positive 2004-06-29   \n",
       "1275                   2.0                     2.0  positive 2004-08-01   \n",
       "\n",
       "                                              Summary  \\\n",
       "1244                                    Great Product   \n",
       "1243                   WOW Make your own 'slickers' !   \n",
       "3782                                Classic Condiment   \n",
       "1205  The best twice baked potatoes you'll ever have!   \n",
       "1275                                         5 Woofs!   \n",
       "\n",
       "                                                   Text  \\\n",
       "1244  This was a really good idea and the final prod...   \n",
       "1243  I just received my shipment and could hardly w...   \n",
       "3782  Mae Ploy Sweet Chili Sauce is becoming a stand...   \n",
       "1205  Perfect year round with just about any meat di...   \n",
       "1275  Five of my five dogs agree - they'd rather mun...   \n",
       "\n",
       "                                            CleanedText  \n",
       "1244  realli good idea final product outstand use de...  \n",
       "1243  receiv shipment could hard wait tri product lo...  \n",
       "3782  mae ploy sweet chili sauc becom standard condi...  \n",
       "1205  perfect year round meat dish omaha steak twice...  \n",
       "1275  five five dog agre theyd rather munch liver bi...  "
      ]
     },
     "execution_count": 21,
     "metadata": {},
     "output_type": "execute_result"
    }
   ],
   "source": [
    "#Converting the time frame and sorting in increasing order for easyness\n",
    "final[\"Time\"] = pd.to_datetime(final[\"Time\"], unit = \"s\")\n",
    "final= final.sort_values(by = \"Time\")\n",
    "final.head()"
   ]
  },
  {
   "cell_type": "markdown",
   "metadata": {
    "_uuid": "949d47c499a755e85cb140197369782f2da15d2e"
   },
   "source": [
    "#  Clustering\n",
    "\n",
    "Find Clustering models for both Bag of words, term frequcny/ inverse document frequcny and avg word to vector"
   ]
  },
  {
   "cell_type": "markdown",
   "metadata": {
    "_uuid": "cd887599aabb6d597418777cb9e10fdb84d7e79e"
   },
   "source": [
    "### K means using bag of words"
   ]
  },
  {
   "cell_type": "code",
   "execution_count": 22,
   "metadata": {
    "_uuid": "08ac3f88f6d047719791bf6cdf2b513a83c4d547"
   },
   "outputs": [
    {
     "data": {
      "text/plain": [
       "(4985, 8565)"
      ]
     },
     "execution_count": 22,
     "metadata": {},
     "output_type": "execute_result"
    }
   ],
   "source": [
    "# Generating bag of words features.\n",
    "from sklearn.feature_extraction.text import CountVectorizer\n",
    "count_vect = CountVectorizer()\n",
    "bow = count_vect.fit_transform(final['CleanedText'].values)\n",
    "bow.shape"
   ]
  },
  {
   "cell_type": "code",
   "execution_count": 23,
   "metadata": {
    "_uuid": "5692669eb185fc58039f7b12d3986e3048cd68b2"
   },
   "outputs": [
    {
     "data": {
      "text/plain": [
       "<4985x8565 sparse matrix of type '<class 'numpy.int64'>'\n",
       "\twith 150241 stored elements in Compressed Sparse Row format>"
      ]
     },
     "execution_count": 23,
     "metadata": {},
     "output_type": "execute_result"
    }
   ],
   "source": [
    "bow"
   ]
  },
  {
   "cell_type": "code",
   "execution_count": 24,
   "metadata": {
    "_uuid": "18ec3e0527aa70059d8a6ac537f05052f19e9b7c"
   },
   "outputs": [],
   "source": [
    "# to understand what kind of words generated as columns by BOW\n",
    "terms = count_vect.get_feature_names()"
   ]
  },
  {
   "cell_type": "code",
   "execution_count": 25,
   "metadata": {
    "_uuid": "ca693ebd81f484ce90736e57630815d2a7962fbb"
   },
   "outputs": [
    {
     "data": {
      "text/plain": [
       "['aback',\n",
       " 'abandon',\n",
       " 'abat',\n",
       " 'abbi',\n",
       " 'abbott',\n",
       " 'abdomin',\n",
       " 'abid',\n",
       " 'abil',\n",
       " 'abl']"
      ]
     },
     "execution_count": 25,
     "metadata": {},
     "output_type": "execute_result"
    }
   ],
   "source": [
    "#first 10 columns generated by BOW\n",
    "terms[1:10]"
   ]
  },
  {
   "cell_type": "code",
   "execution_count": 26,
   "metadata": {
    "_uuid": "3121d26680118e8f63009594bd24a2cfb4889108"
   },
   "outputs": [
    {
     "name": "stderr",
     "output_type": "stream",
     "text": [
      "C:\\Users\\waliullah\\Anaconda3\\lib\\site-packages\\sklearn\\cluster\\_kmeans.py:792: FutureWarning: 'n_jobs' was deprecated in version 0.23 and will be removed in 1.0 (renaming of 0.25).\n",
      "  warnings.warn(\"'n_jobs' was deprecated in version 0.23 and will be\"\n"
     ]
    },
    {
     "data": {
      "text/plain": [
       "KMeans(n_clusters=10, n_jobs=-1, random_state=99)"
      ]
     },
     "execution_count": 26,
     "metadata": {},
     "output_type": "execute_result"
    }
   ],
   "source": [
    "#using all processes jobs=-1 and k means++ for starting initilization advantage\n",
    "from sklearn.cluster import KMeans\n",
    "model = KMeans(n_clusters = 10,init='k-means++', n_jobs = -1,random_state=99)\n",
    "model.fit(bow)"
   ]
  },
  {
   "cell_type": "code",
   "execution_count": 27,
   "metadata": {
    "_uuid": "6199151d44d775e1a7d57819acbaa8b3fec7fca5"
   },
   "outputs": [],
   "source": [
    "labels = model.labels_\n",
    "cluster_center=model.cluster_centers_"
   ]
  },
  {
   "cell_type": "code",
   "execution_count": 28,
   "metadata": {
    "_uuid": "a9b06f05923f4f167c011aa7793e65fb92fe5d97"
   },
   "outputs": [
    {
     "data": {
      "text/plain": [
       "array([[0., 0., 0., ..., 0., 0., 0.],\n",
       "       [0., 0., 0., ..., 0., 0., 0.],\n",
       "       [0., 0., 0., ..., 0., 0., 0.],\n",
       "       ...,\n",
       "       [0., 0., 0., ..., 0., 0., 0.],\n",
       "       [0., 0., 0., ..., 0., 0., 0.],\n",
       "       [0., 0., 0., ..., 0., 0., 0.]])"
      ]
     },
     "execution_count": 28,
     "metadata": {},
     "output_type": "execute_result"
    }
   ],
   "source": [
    "cluster_center"
   ]
  },
  {
   "cell_type": "code",
   "execution_count": 29,
   "metadata": {
    "_uuid": "fa134ac51f96b991bf3b9401b8d26c364a4f3d7f"
   },
   "outputs": [],
   "source": [
    "from sklearn import metrics\n",
    "silhouette_score = metrics.silhouette_score(bow, labels, metric='euclidean')"
   ]
  },
  {
   "cell_type": "code",
   "execution_count": 30,
   "metadata": {
    "_uuid": "87f62c820f2f74c56a3d1ae7daed54db5c2468e3"
   },
   "outputs": [
    {
     "data": {
      "text/plain": [
       "0.0738151157266508"
      ]
     },
     "execution_count": 30,
     "metadata": {},
     "output_type": "execute_result"
    }
   ],
   "source": [
    "# which tells us that clusters are far away from each other \n",
    "silhouette_score"
   ]
  },
  {
   "cell_type": "code",
   "execution_count": 31,
   "metadata": {
    "_uuid": "32bc4d90b70f0826f864d89c8c4bff75a9083622"
   },
   "outputs": [
    {
     "data": {
      "text/html": [
       "<div>\n",
       "<style scoped>\n",
       "    .dataframe tbody tr th:only-of-type {\n",
       "        vertical-align: middle;\n",
       "    }\n",
       "\n",
       "    .dataframe tbody tr th {\n",
       "        vertical-align: top;\n",
       "    }\n",
       "\n",
       "    .dataframe thead th {\n",
       "        text-align: right;\n",
       "    }\n",
       "</style>\n",
       "<table border=\"1\" class=\"dataframe\">\n",
       "  <thead>\n",
       "    <tr style=\"text-align: right;\">\n",
       "      <th></th>\n",
       "      <th>Id</th>\n",
       "      <th>ProductId</th>\n",
       "      <th>UserId</th>\n",
       "      <th>ProfileName</th>\n",
       "      <th>HelpfulnessNumerator</th>\n",
       "      <th>HelpfulnessDenominator</th>\n",
       "      <th>Score</th>\n",
       "      <th>Time</th>\n",
       "      <th>Summary</th>\n",
       "      <th>Text</th>\n",
       "      <th>CleanedText</th>\n",
       "      <th>Bow Clus Label</th>\n",
       "    </tr>\n",
       "  </thead>\n",
       "  <tbody>\n",
       "    <tr>\n",
       "      <th>1244</th>\n",
       "      <td>1245.0</td>\n",
       "      <td>B00002Z754</td>\n",
       "      <td>A29Z5PI9BW2PU3</td>\n",
       "      <td>Robbie</td>\n",
       "      <td>7.0</td>\n",
       "      <td>7.0</td>\n",
       "      <td>positive</td>\n",
       "      <td>2000-06-23</td>\n",
       "      <td>Great Product</td>\n",
       "      <td>This was a really good idea and the final prod...</td>\n",
       "      <td>realli good idea final product outstand use de...</td>\n",
       "      <td>4</td>\n",
       "    </tr>\n",
       "    <tr>\n",
       "      <th>1243</th>\n",
       "      <td>1244.0</td>\n",
       "      <td>B00002Z754</td>\n",
       "      <td>A3B8RCEI0FXFI6</td>\n",
       "      <td>B G Chase</td>\n",
       "      <td>10.0</td>\n",
       "      <td>10.0</td>\n",
       "      <td>positive</td>\n",
       "      <td>2000-06-29</td>\n",
       "      <td>WOW Make your own 'slickers' !</td>\n",
       "      <td>I just received my shipment and could hardly w...</td>\n",
       "      <td>receiv shipment could hard wait tri product lo...</td>\n",
       "      <td>4</td>\n",
       "    </tr>\n",
       "  </tbody>\n",
       "</table>\n",
       "</div>"
      ],
      "text/plain": [
       "          Id   ProductId          UserId ProfileName  HelpfulnessNumerator  \\\n",
       "1244  1245.0  B00002Z754  A29Z5PI9BW2PU3      Robbie                   7.0   \n",
       "1243  1244.0  B00002Z754  A3B8RCEI0FXFI6   B G Chase                  10.0   \n",
       "\n",
       "      HelpfulnessDenominator     Score       Time  \\\n",
       "1244                     7.0  positive 2000-06-23   \n",
       "1243                    10.0  positive 2000-06-29   \n",
       "\n",
       "                             Summary  \\\n",
       "1244                   Great Product   \n",
       "1243  WOW Make your own 'slickers' !   \n",
       "\n",
       "                                                   Text  \\\n",
       "1244  This was a really good idea and the final prod...   \n",
       "1243  I just received my shipment and could hardly w...   \n",
       "\n",
       "                                            CleanedText  Bow Clus Label  \n",
       "1244  realli good idea final product outstand use de...               4  \n",
       "1243  receiv shipment could hard wait tri product lo...               4  "
      ]
     },
     "execution_count": 31,
     "metadata": {},
     "output_type": "execute_result"
    }
   ],
   "source": [
    "# Giving Labels/assigning a cluster to each point/text \n",
    "df = final\n",
    "df['Bow Clus Label'] = model.labels_ # the last column you can see the label numebers\n",
    "df.head(2)"
   ]
  },
  {
   "cell_type": "code",
   "execution_count": 32,
   "metadata": {
    "_uuid": "e73165ead78e39fd97d32c33f325d3781b2e5d84"
   },
   "outputs": [
    {
     "data": {
      "text/plain": [
       "Bow Clus Label\n",
       "0     120\n",
       "1     182\n",
       "2       1\n",
       "3      25\n",
       "4    3438\n",
       "5      31\n",
       "6     353\n",
       "7     673\n",
       "8      29\n",
       "9     133\n",
       "Name: Text, dtype: int64"
      ]
     },
     "execution_count": 32,
     "metadata": {},
     "output_type": "execute_result"
    }
   ],
   "source": [
    "# How many points belong to each cluster -> using group by in pandas\n",
    "df.groupby(['Bow Clus Label'])['Text'].count()"
   ]
  },
  {
   "cell_type": "code",
   "execution_count": 33,
   "metadata": {
    "_uuid": "b581a13e7df638f447a62513ba5b77819e729f62"
   },
   "outputs": [
    {
     "name": "stdout",
     "output_type": "stream",
     "text": [
      "Top terms per cluster:\n",
      "Cluster 0: coffe\n",
      " tast\n",
      " flavor\n",
      " like\n",
      " cup\n",
      " decaf\n",
      " good\n",
      " tri\n",
      " drink\n",
      " use\n",
      "Cluster 1: food\n",
      " dog\n",
      " eat\n",
      " love\n",
      " like\n",
      " newman\n",
      " one\n",
      " cat\n",
      " year\n",
      " bag\n",
      "Cluster 2: egg\n",
      " allergi\n",
      " calcium\n",
      " formula\n",
      " babi\n",
      " phosphorus\n",
      " yolk\n",
      " dha\n",
      " food\n",
      " protein\n",
      "Cluster 3: one\n",
      " oreo\n",
      " product\n",
      " like\n",
      " use\n",
      " eat\n",
      " make\n",
      " would\n",
      " get\n",
      " cake\n",
      "Cluster 4: great\n",
      " tast\n",
      " love\n",
      " good\n",
      " like\n",
      " product\n",
      " flavor\n",
      " use\n",
      " one\n",
      " tri\n",
      "Cluster 5: mix\n",
      " pancak\n",
      " make\n",
      " use\n",
      " recip\n",
      " product\n",
      " like\n",
      " tast\n",
      " waffl\n",
      " good\n",
      "Cluster 6: chip\n",
      " flavor\n",
      " bag\n",
      " like\n",
      " tast\n",
      " salt\n",
      " good\n",
      " great\n",
      " potato\n",
      " love\n",
      "Cluster 7: like\n",
      " tast\n",
      " use\n",
      " product\n",
      " one\n",
      " tri\n",
      " good\n",
      " flavor\n",
      " make\n",
      " water\n",
      "Cluster 8: chip\n",
      " bag\n",
      " flavor\n",
      " potato\n",
      " kettl\n",
      " like\n",
      " tast\n",
      " brand\n",
      " salt\n",
      " good\n",
      "Cluster 9: tea\n",
      " green\n",
      " like\n",
      " flavor\n",
      " tast\n",
      " drink\n",
      " use\n",
      " water\n",
      " tri\n",
      " bag\n"
     ]
    }
   ],
   "source": [
    "#Refrence credit - to find the top 10 features of cluster centriod\n",
    "#https://stackoverflow.com/questions/47452119/kmean-clustering-top-terms-in-cluster\n",
    "print(\"Top terms per cluster:\")\n",
    "order_centroids = model.cluster_centers_.argsort()[:, ::-1]\n",
    "terms = count_vect.get_feature_names()\n",
    "for i in range(10):\n",
    "    print(\"Cluster %d:\" % i, end='')\n",
    "    for ind in order_centroids[i, :10]:\n",
    "        print(' %s' % terms[ind], end='')\n",
    "        print()"
   ]
  },
  {
   "cell_type": "code",
   "execution_count": 34,
   "metadata": {
    "_uuid": "6f25e4f3ae5486e46783287ede90081f90b3ff8b"
   },
   "outputs": [
    {
     "data": {
      "image/png": "[encoded data removed]",
      "text/plain": [
       "<Figure size 432x288 with 1 Axes>"
      ]
     },
     "metadata": {
      "needs_background": "light"
     },
     "output_type": "display_data"
    }
   ],
   "source": [
    "# visually how points or reviews are distributed across 10 clusters \n",
    "import matplotlib.pyplot as plt\n",
    "plt.bar([x for x in range(10)], df.groupby(['Bow Clus Label'])['Text'].count(), alpha = 0.4)\n",
    "plt.title('KMeans cluster points')\n",
    "plt.xlabel(\"Cluster number\")\n",
    "plt.ylabel(\"Number of points\")\n",
    "plt.show()"
   ]
  },
  {
   "cell_type": "code",
   "execution_count": 35,
   "metadata": {
    "_uuid": "b5ec6fdbac66547aa264d4fb3857ed6c3e1d0ff2"
   },
   "outputs": [
    {
     "name": "stdout",
     "output_type": "stream",
     "text": [
      "A review of assigned to cluster  0\n",
      "----------------------------------------------------------------------\n",
      "I LOVE THESE CHIPS, I HAVE THEM ON AUTO ORDER EVERY 2 MONTHS, THEY TASTE GREAT, I CAN NOT BELIVE THE WHOLE BAG HAS 100 CALORIES, I HAVE A BAG EVERY DAY, IT SURE HAS HELPED MY WEIGHT LOSS BY HAVEING THEM IN LITTLE BAGS, SO I DO NOT EAT A HUGE AMOUNT\n",
      "\n",
      "\n",
      "______________________________________________________________________\n",
      "A review of assigned to cluster  1\n",
      "----------------------------------------------------------------------\n",
      "Best Bit-O-Honey I have ever eaten.<br />I have always bought this product at a local grocery store and it was always hard, I figured it was suppose to be that way. But after eating the box I bought here I now know better; the candy was soft and delicious.<br />I plan to continue buying Bit-O-Honey from here.\n",
      "\n",
      "\n",
      "______________________________________________________________________\n",
      "A review of assigned to cluster  2\n",
      "----------------------------------------------------------------------\n",
      "These are the best alternative chips I have ever tried. I have shared them with friends and relatives and they all agree. You get enough in the single serve packs to be truly satisfied and if you are a weight watchers customer, they are GREAT, only 2 points for each bag!!!\n",
      "\n",
      "\n",
      "______________________________________________________________________\n",
      "A review of assigned to cluster  3\n",
      "----------------------------------------------------------------------\n",
      "My dogs have been eating this brand for a few years now and having found it available through Amazon I am able to save money per pound and trips to the store. It arrives promptly and is the same quality as always. Harmony Farms is much easier to digest and healthier than most commercial foods. LOVE IT!\n",
      "\n",
      "\n",
      "______________________________________________________________________\n",
      "A review of assigned to cluster  4\n",
      "----------------------------------------------------------------------\n",
      "I have tried many bread machine mixes and most have been okay but this one rates an \"excellent\" because not only is it a very good basic loaf, it also works very well with additives, either prepared entirely in the bread machine, or (after the second rise) removed from the machine, shaped and baked on a stone in the oven.<br />Stretched and flattened with a filling of either savory or sweet ingredients, then rolled and set to rise and then bake in a loaf pan, it produced excellent herb and onion bread, cinnamon raisin bread and a brown butter and seed bread.<br />I buy it via the subscribe-and-save plan as I use it often.\n",
      "\n",
      "\n",
      "______________________________________________________________________\n",
      "A review of assigned to cluster  5\n",
      "----------------------------------------------------------------------\n",
      "This  coffee is the smoothest dark roast coffee I have ever tasted,and it was a pleasure to sip this full bodied coffee before breakfast and after dinner.\n",
      "\n",
      "\n",
      "______________________________________________________________________\n",
      "A review of assigned to cluster  6\n",
      "----------------------------------------------------------------------\n",
      "I was sorely disappointed in these cookies.. They are pretty tasteless and damn hard too.. I wouldn't buy them again and I've certainly tasted much better low-cal cookies.. I definitely recommend saving your money, folks..\n",
      "\n",
      "\n",
      "______________________________________________________________________\n",
      "A review of assigned to cluster  7\n",
      "----------------------------------------------------------------------\n",
      "I love this stuff.  I put it over chicken and even steaks.  It's very sweet, and just a bit spicy.  Just a little goes a long way.\n",
      "\n",
      "\n",
      "______________________________________________________________________\n",
      "A review of assigned to cluster  8\n",
      "----------------------------------------------------------------------\n",
      "this is a great product. Perfect for the celiac searching for biscuit mix or pancake mix that actually tastes good.  Also great topping for chicken pot pie.\n",
      "\n",
      "\n",
      "______________________________________________________________________\n",
      "A review of assigned to cluster  9\n",
      "----------------------------------------------------------------------\n",
      "The number one ingredient is chicken... not organic chicken just the hormone pumped junk you wouldn't eat yourself. I will stick to Natural Balance which is sold here on Amazon as well.\n",
      "\n",
      "\n",
      "______________________________________________________________________\n"
     ]
    }
   ],
   "source": [
    "# Reading a review which belong to each group.\n",
    "for i in range(10):\n",
    "    print(\"A review of assigned to cluster \", i)\n",
    "    print(\"-\" * 70)\n",
    "    print(df.iloc[df.groupby(['Bow Clus Label']).groups[i][0]]['Text'])\n",
    "    print('\\n')\n",
    "    print(\"_\" * 70)"
   ]
  },
  {
   "cell_type": "code",
   "execution_count": 36,
   "metadata": {
    "_uuid": "8dd6e5b81eabe1715e69eca3281343ad4b5220ab"
   },
   "outputs": [
    {
     "name": "stdout",
     "output_type": "stream",
     "text": [
      "I have nothing but good service ever since I started ordering from amazon.com.  Keep up the good work.\n",
      "______________________________________________________________________\n",
      "I am from England and I was raised on this custard. If you like vanilla custard/pudding you will love this. It's rich and creamy and has lots of vanilla taste.  I love that it comes in a big canister and I can make as much as I want to. I would never make a trifle with anything else.\n",
      "______________________________________________________________________\n",
      "It was shipped in a very nice package and I have no complain with the seller. My plant growing bigger and now I am looking for a bigger pot to transplant. It's good....if you are looking for a a workspace plant that needs minimal maintenance this is the plant you might need.\n"
     ]
    }
   ],
   "source": [
    "#considers sample of 3 random reviews for cluster 0\n",
    "\n",
    "print(df.iloc[df.groupby(['Bow Clus Label']).groups[0][3]]['Text'])\n",
    "print(\"_\" * 70)\n",
    "print(df.iloc[df.groupby(['Bow Clus Label']).groups[0][15]]['Text'])\n",
    "print(\"_\" * 70)\n",
    "print(df.iloc[df.groupby(['Bow Clus Label']).groups[0][25]]['Text'])"
   ]
  },
  {
   "cell_type": "code",
   "execution_count": 79,
   "metadata": {
    "_uuid": "7b8f2e6ed10a809d77bb7df5a95a2416cb7b2e13"
   },
   "outputs": [
    {
     "name": "stdout",
     "output_type": "stream",
     "text": [
      "fast and great service, my Cavashon Loves this low fat dog food. Thanks. Arrived in great condition, thank you thank you thank you\n",
      "______________________________________________________________________\n",
      "Tasty, convenient bars for people with celiac disease. They seem to have gotten smaller over time, but the taste and convenience outweigh the reduction in size (and the price).\n",
      "______________________________________________________________________\n",
      "I love these chips. They are so delicious, it is so hard to eat just one bag. All the flavors allow you to taste them all.  My favorite flavor is the cheese ones. Go ahead and try them.  They are so delicious.\n"
     ]
    }
   ],
   "source": [
    "#consider sample of 3 random reviews for cluster 4\n",
    "\n",
    "print(df.iloc[df.groupby(['Bow Clus Label']).groups[3][3]]['Text'])\n",
    "print(\"_\" * 70)\n",
    "print(df.iloc[df.groupby(['Bow Clus Label']).groups[3][15]]['Text'])\n",
    "print(\"_\" * 70)\n",
    "print(df.iloc[df.groupby(['Bow Clus Label']).groups[3][20]]['Text'])"
   ]
  },
  {
   "cell_type": "code",
   "execution_count": 38,
   "metadata": {
    "_uuid": "4571be58396b0c3f39b986760b991c1922a02953"
   },
   "outputs": [
    {
     "name": "stdout",
     "output_type": "stream",
     "text": [
      "I was pleasantly surprised by the stronger than I expected ginger flavor in this product.  It is excellent, if you like ginger, try this.  Best on hot biscuits!  Update.  I've just reordered, wish they sold it by the gallon, its different, something you can't find locally and excellent.\n",
      "______________________________________________________________________\n",
      "The potato bread was easy to mix, rises well in my breadmaker, cooks as it should and best of all was very tasty. The bread has a near white bread texture, and was very good. I purchased all of the Hodgson mixes and this was one of my favorites.\n",
      "______________________________________________________________________\n",
      "My daughter loves these snacks and can't get them in China where she is working now so I ordered them for her. Very satisfied and she was very appreciative.\n"
     ]
    }
   ],
   "source": [
    "#consider sample of 3 random reviews for cluster 4\n",
    "\n",
    "print(df.iloc[df.groupby(['Bow Clus Label']).groups[5][3]]['Text'])\n",
    "print(\"_\" * 70)\n",
    "print(df.iloc[df.groupby(['Bow Clus Label']).groups[5][15]]['Text'])\n",
    "print(\"_\" * 70)\n",
    "print(df.iloc[df.groupby(['Bow Clus Label']).groups[5][25]]['Text'])"
   ]
  },
  {
   "cell_type": "markdown",
   "metadata": {
    "_uuid": "c4bd06d6c2efdeb093f939d04c25467efb518551"
   },
   "source": [
    "__Analysis of K means for BOW:__\n",
    "\n",
    "__Of all the clusters, 0, 4 and 6 accounts to more % of reviews, undertsanding differences between these 3 clusters is key.\n",
    "Also, the clusters 2 and 9 have only 1 review__ \n",
    "\n",
    "If we observe the top terms per cluster, The cluster 4 which consists of LIKE AND LOVE, which are top centroid features and can say this cluster consists of all positive reviews, let us obersve few reviews of each cluster and try to understand the differences\n",
    "\n",
    "By reading the cluster 2 and 9 which contains only one review, which is clearlt negative reviews and we can conluded customers\n",
    "didnt liked the product at all and not word is used extensively\n",
    "\n",
    "By reading random reviews of cluster 0, we can easily say that these reviews are extremly positive of the product usage and customers are very happy with the product\n",
    "\n",
    "By reading random reviews of cluster 4, we can  say that the key word __BUT__ is repeating acorss the review which indicates some kind of peopel agree with most of the things related to the products but their is something which is slightyly disagree with product quality or delivery or  some thing less than their expectation\n",
    "\n"
   ]
  },
  {
   "cell_type": "markdown",
   "metadata": {
    "_uuid": "5e8f367332b91cdc8ab123ef7d8465f321a47bde"
   },
   "source": [
    "##  K means using TFIDF"
   ]
  },
  {
   "cell_type": "code",
   "execution_count": 39,
   "metadata": {
    "_uuid": "31cbdb15e5f0d738d7d3cd54940175bd8a5d6321"
   },
   "outputs": [
    {
     "data": {
      "text/plain": [
       "(4985, 8565)"
      ]
     },
     "execution_count": 39,
     "metadata": {},
     "output_type": "execute_result"
    }
   ],
   "source": [
    "#tfidf vector initililization\n",
    "from sklearn.feature_extraction.text import TfidfVectorizer\n",
    "tfidf_vect = TfidfVectorizer()\n",
    "tfidf = tfidf_vect.fit_transform(final['CleanedText'].values)\n",
    "tfidf.shape"
   ]
  },
  {
   "cell_type": "code",
   "execution_count": 40,
   "metadata": {
    "_uuid": "2948e8b41027c8c3b19910157fdc9e04fde1fbb7"
   },
   "outputs": [
    {
     "name": "stderr",
     "output_type": "stream",
     "text": [
      "C:\\Users\\waliullah\\Anaconda3\\lib\\site-packages\\sklearn\\cluster\\_kmeans.py:792: FutureWarning: 'n_jobs' was deprecated in version 0.23 and will be removed in 1.0 (renaming of 0.25).\n",
      "  warnings.warn(\"'n_jobs' was deprecated in version 0.23 and will be\"\n"
     ]
    },
    {
     "data": {
      "text/plain": [
       "KMeans(n_clusters=10, n_jobs=-1, random_state=99)"
      ]
     },
     "execution_count": 40,
     "metadata": {},
     "output_type": "execute_result"
    }
   ],
   "source": [
    "from sklearn.cluster import KMeans\n",
    "model_tf = KMeans(n_clusters = 10, n_jobs = -1,random_state=99)\n",
    "model_tf.fit(tfidf)"
   ]
  },
  {
   "cell_type": "code",
   "execution_count": 41,
   "metadata": {
    "_uuid": "e56014af60a453b60048c2b8e769cb9a044f29ff"
   },
   "outputs": [],
   "source": [
    "labels_tf = model_tf.labels_\n",
    "cluster_center_tf=model_tf.cluster_centers_"
   ]
  },
  {
   "cell_type": "code",
   "execution_count": 42,
   "metadata": {
    "_uuid": "a2bc5677684680e64f1d695a64dec41f3aeb1d98"
   },
   "outputs": [
    {
     "data": {
      "text/plain": [
       "array([[0.        , 0.        , 0.        , ..., 0.        , 0.        ,\n",
       "        0.        ],\n",
       "       [0.        , 0.        , 0.        , ..., 0.        , 0.        ,\n",
       "        0.        ],\n",
       "       [0.        , 0.        , 0.        , ..., 0.        , 0.        ,\n",
       "        0.        ],\n",
       "       ...,\n",
       "       [0.        , 0.        , 0.        , ..., 0.        , 0.        ,\n",
       "        0.        ],\n",
       "       [0.        , 0.        , 0.        , ..., 0.        , 0.        ,\n",
       "        0.        ],\n",
       "       [0.        , 0.        , 0.        , ..., 0.        , 0.00061507,\n",
       "        0.        ]])"
      ]
     },
     "execution_count": 42,
     "metadata": {},
     "output_type": "execute_result"
    }
   ],
   "source": [
    "cluster_center_tf"
   ]
  },
  {
   "cell_type": "code",
   "execution_count": 43,
   "metadata": {
    "_uuid": "99d72a6cf17d9fa064d583b105d0acfae4506240"
   },
   "outputs": [],
   "source": [
    "# to understand what kind of words generated as columns by BOW\n",
    "terms1 = tfidf_vect.get_feature_names()"
   ]
  },
  {
   "cell_type": "code",
   "execution_count": 44,
   "metadata": {
    "_uuid": "0f3e4313d2123dabe4bd6251ee28a19c28c81c81"
   },
   "outputs": [
    {
     "data": {
      "text/plain": [
       "['aback',\n",
       " 'abandon',\n",
       " 'abat',\n",
       " 'abbi',\n",
       " 'abbott',\n",
       " 'abdomin',\n",
       " 'abid',\n",
       " 'abil',\n",
       " 'abl']"
      ]
     },
     "execution_count": 44,
     "metadata": {},
     "output_type": "execute_result"
    }
   ],
   "source": [
    "terms1[1:10]"
   ]
  },
  {
   "cell_type": "code",
   "execution_count": 45,
   "metadata": {
    "_uuid": "28075b9a20dd6962ee41f58013f64ae7c634b6e1"
   },
   "outputs": [],
   "source": [
    "from sklearn import metrics\n",
    "silhouette_score_tf = metrics.silhouette_score(tfidf, labels_tf, metric='euclidean')"
   ]
  },
  {
   "cell_type": "code",
   "execution_count": 46,
   "metadata": {
    "_uuid": "e6b1b0868a98305537da7fd4a7069c3cce65e5b5"
   },
   "outputs": [
    {
     "data": {
      "text/plain": [
       "0.016420551824604532"
      ]
     },
     "execution_count": 46,
     "metadata": {},
     "output_type": "execute_result"
    }
   ],
   "source": [
    "silhouette_score_tf"
   ]
  },
  {
   "cell_type": "code",
   "execution_count": 47,
   "metadata": {
    "_uuid": "a6ab639394f9cbf894272e56807ec5077c793891"
   },
   "outputs": [
    {
     "data": {
      "text/html": [
       "<div>\n",
       "<style scoped>\n",
       "    .dataframe tbody tr th:only-of-type {\n",
       "        vertical-align: middle;\n",
       "    }\n",
       "\n",
       "    .dataframe tbody tr th {\n",
       "        vertical-align: top;\n",
       "    }\n",
       "\n",
       "    .dataframe thead th {\n",
       "        text-align: right;\n",
       "    }\n",
       "</style>\n",
       "<table border=\"1\" class=\"dataframe\">\n",
       "  <thead>\n",
       "    <tr style=\"text-align: right;\">\n",
       "      <th></th>\n",
       "      <th>Id</th>\n",
       "      <th>ProductId</th>\n",
       "      <th>UserId</th>\n",
       "      <th>ProfileName</th>\n",
       "      <th>HelpfulnessNumerator</th>\n",
       "      <th>HelpfulnessDenominator</th>\n",
       "      <th>Score</th>\n",
       "      <th>Time</th>\n",
       "      <th>Summary</th>\n",
       "      <th>Text</th>\n",
       "      <th>CleanedText</th>\n",
       "      <th>Bow Clus Label</th>\n",
       "      <th>Tfidf Clus Label</th>\n",
       "    </tr>\n",
       "  </thead>\n",
       "  <tbody>\n",
       "    <tr>\n",
       "      <th>1244</th>\n",
       "      <td>1245.0</td>\n",
       "      <td>B00002Z754</td>\n",
       "      <td>A29Z5PI9BW2PU3</td>\n",
       "      <td>Robbie</td>\n",
       "      <td>7.0</td>\n",
       "      <td>7.0</td>\n",
       "      <td>positive</td>\n",
       "      <td>2000-06-23</td>\n",
       "      <td>Great Product</td>\n",
       "      <td>This was a really good idea and the final prod...</td>\n",
       "      <td>realli good idea final product outstand use de...</td>\n",
       "      <td>4</td>\n",
       "      <td>6</td>\n",
       "    </tr>\n",
       "    <tr>\n",
       "      <th>1243</th>\n",
       "      <td>1244.0</td>\n",
       "      <td>B00002Z754</td>\n",
       "      <td>A3B8RCEI0FXFI6</td>\n",
       "      <td>B G Chase</td>\n",
       "      <td>10.0</td>\n",
       "      <td>10.0</td>\n",
       "      <td>positive</td>\n",
       "      <td>2000-06-29</td>\n",
       "      <td>WOW Make your own 'slickers' !</td>\n",
       "      <td>I just received my shipment and could hardly w...</td>\n",
       "      <td>receiv shipment could hard wait tri product lo...</td>\n",
       "      <td>4</td>\n",
       "      <td>6</td>\n",
       "    </tr>\n",
       "    <tr>\n",
       "      <th>3782</th>\n",
       "      <td>3783.0</td>\n",
       "      <td>B00016UX0K</td>\n",
       "      <td>AF1PV3DIC0XM7</td>\n",
       "      <td>Robert Ashton</td>\n",
       "      <td>1.0</td>\n",
       "      <td>2.0</td>\n",
       "      <td>positive</td>\n",
       "      <td>2004-04-10</td>\n",
       "      <td>Classic Condiment</td>\n",
       "      <td>Mae Ploy Sweet Chili Sauce is becoming a stand...</td>\n",
       "      <td>mae ploy sweet chili sauc becom standard condi...</td>\n",
       "      <td>4</td>\n",
       "      <td>6</td>\n",
       "    </tr>\n",
       "    <tr>\n",
       "      <th>1205</th>\n",
       "      <td>1206.0</td>\n",
       "      <td>B005O072PC</td>\n",
       "      <td>A3BD5B8Y8MY25X</td>\n",
       "      <td>J. L. K. \"special_k\"</td>\n",
       "      <td>13.0</td>\n",
       "      <td>14.0</td>\n",
       "      <td>positive</td>\n",
       "      <td>2004-06-29</td>\n",
       "      <td>The best twice baked potatoes you'll ever have!</td>\n",
       "      <td>Perfect year round with just about any meat di...</td>\n",
       "      <td>perfect year round meat dish omaha steak twice...</td>\n",
       "      <td>4</td>\n",
       "      <td>6</td>\n",
       "    </tr>\n",
       "    <tr>\n",
       "      <th>1275</th>\n",
       "      <td>1276.0</td>\n",
       "      <td>B000WNJ73Q</td>\n",
       "      <td>A394MHK3CSDGUV</td>\n",
       "      <td>kaleinor</td>\n",
       "      <td>2.0</td>\n",
       "      <td>2.0</td>\n",
       "      <td>positive</td>\n",
       "      <td>2004-08-01</td>\n",
       "      <td>5 Woofs!</td>\n",
       "      <td>Five of my five dogs agree - they'd rather mun...</td>\n",
       "      <td>five five dog agre theyd rather munch liver bi...</td>\n",
       "      <td>4</td>\n",
       "      <td>6</td>\n",
       "    </tr>\n",
       "  </tbody>\n",
       "</table>\n",
       "</div>"
      ],
      "text/plain": [
       "          Id   ProductId          UserId           ProfileName  \\\n",
       "1244  1245.0  B00002Z754  A29Z5PI9BW2PU3                Robbie   \n",
       "1243  1244.0  B00002Z754  A3B8RCEI0FXFI6             B G Chase   \n",
       "3782  3783.0  B00016UX0K   AF1PV3DIC0XM7         Robert Ashton   \n",
       "1205  1206.0  B005O072PC  A3BD5B8Y8MY25X  J. L. K. \"special_k\"   \n",
       "1275  1276.0  B000WNJ73Q  A394MHK3CSDGUV              kaleinor   \n",
       "\n",
       "      HelpfulnessNumerator  HelpfulnessDenominator     Score       Time  \\\n",
       "1244                   7.0                     7.0  positive 2000-06-23   \n",
       "1243                  10.0                    10.0  positive 2000-06-29   \n",
       "3782                   1.0                     2.0  positive 2004-04-10   \n",
       "1205                  13.0                    14.0  positive 2004-06-29   \n",
       "1275                   2.0                     2.0  positive 2004-08-01   \n",
       "\n",
       "                                              Summary  \\\n",
       "1244                                    Great Product   \n",
       "1243                   WOW Make your own 'slickers' !   \n",
       "3782                                Classic Condiment   \n",
       "1205  The best twice baked potatoes you'll ever have!   \n",
       "1275                                         5 Woofs!   \n",
       "\n",
       "                                                   Text  \\\n",
       "1244  This was a really good idea and the final prod...   \n",
       "1243  I just received my shipment and could hardly w...   \n",
       "3782  Mae Ploy Sweet Chili Sauce is becoming a stand...   \n",
       "1205  Perfect year round with just about any meat di...   \n",
       "1275  Five of my five dogs agree - they'd rather mun...   \n",
       "\n",
       "                                            CleanedText  Bow Clus Label  \\\n",
       "1244  realli good idea final product outstand use de...               4   \n",
       "1243  receiv shipment could hard wait tri product lo...               4   \n",
       "3782  mae ploy sweet chili sauc becom standard condi...               4   \n",
       "1205  perfect year round meat dish omaha steak twice...               4   \n",
       "1275  five five dog agre theyd rather munch liver bi...               4   \n",
       "\n",
       "      Tfidf Clus Label  \n",
       "1244                 6  \n",
       "1243                 6  \n",
       "3782                 6  \n",
       "1205                 6  \n",
       "1275                 6  "
      ]
     },
     "execution_count": 47,
     "metadata": {},
     "output_type": "execute_result"
    }
   ],
   "source": [
    "# Giving Labels/assigning a cluster to each point/text \n",
    "df1 = df\n",
    "df1['Tfidf Clus Label'] = model_tf.labels_\n",
    "df1.head(5)"
   ]
  },
  {
   "cell_type": "code",
   "execution_count": 48,
   "metadata": {
    "_uuid": "a838d51aa844b442dddb520d43e1e619ab5540bc"
   },
   "outputs": [
    {
     "data": {
      "text/plain": [
       "Tfidf Clus Label\n",
       "0     279\n",
       "1     308\n",
       "2     326\n",
       "3     283\n",
       "4     502\n",
       "5     289\n",
       "6    2086\n",
       "7     455\n",
       "8      68\n",
       "9     389\n",
       "Name: Text, dtype: int64"
      ]
     },
     "execution_count": 48,
     "metadata": {},
     "output_type": "execute_result"
    }
   ],
   "source": [
    "# How many points belong to each cluster ->\n",
    "\n",
    "df1.groupby(['Tfidf Clus Label'])['Text'].count()"
   ]
  },
  {
   "cell_type": "code",
   "execution_count": 49,
   "metadata": {
    "_uuid": "af81aac2ef31726af2b6d34e11a3a6ab5d621322"
   },
   "outputs": [
    {
     "name": "stdout",
     "output_type": "stream",
     "text": [
      "Top terms per cluster:\n",
      "Cluster 0: tea\n",
      " green\n",
      " drink\n",
      " ice\n",
      " tast\n",
      " like\n",
      " flavor\n",
      " use\n",
      " water\n",
      " love\n",
      "Cluster 1: pancak\n",
      " mix\n",
      " waffl\n",
      " gluten\n",
      " bisquick\n",
      " make\n",
      " free\n",
      " use\n",
      " product\n",
      " biscuit\n",
      "Cluster 2: coffe\n",
      " tast\n",
      " decaf\n",
      " cup\n",
      " flavor\n",
      " like\n",
      " bitter\n",
      " strong\n",
      " smooth\n",
      " good\n",
      "Cluster 3: chocol\n",
      " hot\n",
      " cocoa\n",
      " cup\n",
      " tast\n",
      " keurig\n",
      " tri\n",
      " dark\n",
      " good\n",
      " grove\n",
      "Cluster 4: love\n",
      " great\n",
      " product\n",
      " snack\n",
      " flavor\n",
      " tast\n",
      " eat\n",
      " good\n",
      " one\n",
      " get\n",
      "Cluster 5: dog\n",
      " food\n",
      " newman\n",
      " love\n",
      " eat\n",
      " organ\n",
      " cat\n",
      " feed\n",
      " year\n",
      " treat\n",
      "Cluster 6: like\n",
      " tast\n",
      " good\n",
      " product\n",
      " flavor\n",
      " use\n",
      " one\n",
      " tri\n",
      " order\n",
      " would\n",
      "Cluster 7: chip\n",
      " flavor\n",
      " bag\n",
      " salt\n",
      " potato\n",
      " kettl\n",
      " like\n",
      " vinegar\n",
      " great\n",
      " love\n",
      "Cluster 8: popcorn\n",
      " pop\n",
      " kernel\n",
      " popper\n",
      " white\n",
      " hull\n",
      " small\n",
      " corn\n",
      " amish\n",
      " tender\n",
      "Cluster 9: store\n",
      " amazon\n",
      " price\n",
      " find\n",
      " local\n",
      " product\n",
      " groceri\n",
      " buy\n",
      " good\n",
      " order\n"
     ]
    }
   ],
   "source": [
    "#Refrence credit - to find the top 10 features of cluster centriod\n",
    "#https://stackoverflow.com/questions/47452119/kmean-clustering-top-terms-in-cluster\n",
    "print(\"Top terms per cluster:\")\n",
    "order_centroids = model_tf.cluster_centers_.argsort()[:, ::-1]\n",
    "for i in range(10):\n",
    "    print(\"Cluster %d:\" % i, end='')\n",
    "    for ind in order_centroids[i, :10]:\n",
    "        print(' %s' % terms1[ind], end='')\n",
    "        print()"
   ]
  },
  {
   "cell_type": "code",
   "execution_count": 50,
   "metadata": {
    "_uuid": "3c4d242e90ccf1ad6e23eba1e7d075b0e98d26b9"
   },
   "outputs": [
    {
     "data": {
      "image/png": "[encoded data removed]",
      "text/plain": [
       "<Figure size 432x288 with 1 Axes>"
      ]
     },
     "metadata": {
      "needs_background": "light"
     },
     "output_type": "display_data"
    }
   ],
   "source": [
    "# visually how points or reviews are distributed across 10 clusters \n",
    "\n",
    "plt.bar([x for x in range(10)], df1.groupby(['Tfidf Clus Label'])['Text'].count(), alpha = 0.4)\n",
    "plt.title('KMeans cluster points')\n",
    "plt.xlabel(\"Cluster number\")\n",
    "plt.ylabel(\"Number of points\")\n",
    "plt.show()"
   ]
  },
  {
   "cell_type": "code",
   "execution_count": 51,
   "metadata": {
    "_uuid": "fb81168ba9721aaea5a17248ce911e6b6215531a"
   },
   "outputs": [
    {
     "name": "stdout",
     "output_type": "stream",
     "text": [
      "4 review of assigned to cluster  0\n",
      "----------------------------------------------------------------------\n",
      "I'm trying several of the Wu Yi teas. I like this one particularly because of the subtle citrus taste. It also has a natural sweetness.<br /><br />The ingredients include Organic Wu-Li Cliff Oolong Tea (700 mg), Organic Black Tea (600 mg), Organic Green Tea Extract (100 mg), Proprietary blend (600 mg), plus some Ginseng (panax), Orange Peel, Lemon Grass, and Guarana. Other Ingredients: Natual Orange and Citrus flavors.<br /><br />My goal is to drink more tea and less coffee. I am enjoying trying a different kind of tea every day. I'll be coming back to this one.\n",
      "\n",
      "\n",
      "The Price is great, The serving is just right for a snack, and ITS A COOKIE. Buy a bunch and they send it to your house!!\n",
      "\n",
      "\n",
      "thank you for this product - we use it all the time and appreciate your promptness and the price was excellent.  Thanks again.\n",
      "\n",
      "\n",
      "______________________________________________________________________\n",
      "4 review of assigned to cluster  1\n",
      "----------------------------------------------------------------------\n",
      "This  coffee is the smoothest dark roast coffee I have ever tasted,and it was a pleasure to sip this full bodied coffee before breakfast and after dinner.\n",
      "\n",
      "\n",
      "This popcorn is much smaller than your average popcorn, and it is virtually hulless.  That is exactly what I was looking for in a popcorn because my 3 year old LOVES popcorn.  With 3 year old children, you have to be concerned with the hulls causing choking or hurting their tender gums.  My son has no trouble eating this popcorn.  It is soft and light, doesn't get stuck in your teeth nearly as much, and has a great flavor.<br /><br />This is now my popcorn of choice for our whole family.  I usually pop it in my 10 year old cheap hot air popper with no problems.  I get very few unpopped kernels. Another reviewer stated that it flies out before popping, but I have not experienced this problem (it could depend on the popper, I suppose).  I have tried microwaving it in a paper bag, but I always seem to end up burning it.  I think it takes a little more trial and error for microwaving to get the time just right, so I just stick with my hot air popper. I get great popcorn every time!\n",
      "\n",
      "\n",
      "My daughter was diagnosed with celiac about 2 years ago, and has gone without pancakes ever since...until I happened to come across this at the grocery store.  Really wasn't expecting good results - but it's very good!  The non-celiac members of the family even prefer the gf version to the regular!  Try it!\n",
      "\n",
      "\n",
      "______________________________________________________________________\n",
      "4 review of assigned to cluster  2\n",
      "----------------------------------------------------------------------\n",
      "I thought it was okay but not Harbanero BBQ sauce from Hell.I would probally not get it again.Also it was not worth the money I thought it was kind of a ripoff it was 10$ for barbque sauce you could have made at home.\n",
      "\n",
      "\n",
      "The first time I tried this product  was 2 years ago at the Venetian spa restaurant in Las Vegas  having  a cup of tea with some friends. We all remarked how delicious and tasty it made our tea.  We've been using it ever since. A little goes a long way and I use it anytime I would ordinarily use a sweetener.  Since the artificial sweeteners are so unsafe and unhealthy and I have a sweet tooth, I felt this was a safe alternative. Not only is it safer, but there's no aftertaste and doesn't raise your blood sugar level. This particular stevia has absolutely no bitter taste to it. I've tried others before and since and there's no comparison.\n",
      "\n",
      "\n",
      "Hands down, by far the absolute worst tasting tea I have ever had.... and I have ALLOT! I am an avid tea drinker and I just can't get it down. The benefits are supposed to be amazing so I'll keep it around to water down and sugar up but wow it's bad. So strong too, tastes like dirt (*that's been pissed on in the woods).\n",
      "\n",
      "\n",
      "______________________________________________________________________\n",
      "4 review of assigned to cluster  3\n",
      "----------------------------------------------------------------------\n",
      "Very disappointed with purchase.  The dates were so dried up where it tasted like leather instead of dates.  Must have been sitting there for a long long time.\n",
      "\n",
      "\n",
      "This was the 2nd time that I ordered the Smokehouse USA Chicken Stix. The 1st order had USA printed right on the bag, this one had a USA sticker over the China sticker.  In addition, the product looked entirely different. Obviously I am concerned. I pay more to ensure I am not feeding my \"fur kids\" products from China. If it happens again, I'll stop ordering all Smokehouse products on-line.\n",
      "\n",
      "\n",
      "I expected from the extremely positive reviews on the site for full flavor healty chips. In reality I get an OKAY taste with a strange aftertaste on basically all of the flavors. Chedder and Salt&Pepper honestly being some of the worst tasting chips I've ever had. If you're just looking for a great tasting brand of chips with health as a #2 on the list there are much much better brands out there. In the end I compare these chips to diet soda vs regular; Some won't tell the difference while some will immediately sense it and hate it.\n",
      "\n",
      "\n",
      "______________________________________________________________________\n",
      "4 review of assigned to cluster  4\n",
      "----------------------------------------------------------------------\n",
      "These sticks definitely don't look like ones in the picture.<br />They are much thinner and IMHO not worth the money. I should have returned it but instead gave my dog (GSD) 5 at a time to keep her busy.<br /><br />I'd stick with the Redbarn or equivalent from another website.\n",
      "\n",
      "\n",
      "First off, I received a bag of this coffee via the Vine Program to review at no cost.  Secondly, I am more of a bold, \"slap-me-in-the-face\" French Roast coffee drinker (or StarBucks Gold Coast), so I had my reservations about this decaf.<br /><br />And ... Well, for me, this coffee had a somewhat stale aroma upon opening the package, an OK flavor once brewed (sort of a nutty strange flavor at first), and once consumed, left an after-taste in my mouth.<br /><br />It is definitely a different roast than I am used to, but it is \"decent\" for a pre-ground Melita decaf.  More of a medium roast as opposed to being a dark bold roast in my opinion.  Overall ... not too bad.<br /><br />I give this coffee a so-so recommendation.\n",
      "\n",
      "\n",
      "Love this product.  Very flavorable to most anything.  Works great on lunch meat, ham, potato salad, more.  Something similar is sold at Honey Baked Ham locations, but this product is much better.\n",
      "\n",
      "\n",
      "______________________________________________________________________\n",
      "4 review of assigned to cluster  5\n",
      "----------------------------------------------------------------------\n",
      "I got this after a mention in the NY Times and immediately became an addict.  It's a little hot but not too much, and it has an amazing depth of flavor -- a lot more than the plain version.  I use it in chicken salad to cut back on the amount of mayo, to add flavor to blah soups and as a substitute for a lot of the oil in salad dressings.  A little bit over steamed veggies and added to yogurt over baked potatoes (instead of sour cream) is also great.\n",
      "\n",
      "\n",
      "Cats are such finicky eaters some times.  My old lady kitty does not like the canned cat foods, but she always went nuts whenever I'd open a can of tuna for myself.  So I gave her some one time.  These Tuna Cups are a great way to keep the tuna fresh enough over a few days, and good for travel.<br /><br />Same items can be purchased at grocery store, but buying in quantity through Amazon saves some $$.  Thank you\n",
      "\n",
      "\n",
      "Pkg says soy free. Ingredients (and my stomach/bladder) say otherwise!<br />Also, lots of fiber in this one. If you can handle fiber (and soy) this food will fill you up like crazy. If you have IBS and have trouble with fiber,or are eating a low residue diet be careful....<br />I'm going back to the bread. Eating a sandwich on it grilled is a fair substitute for the dreaded wheat...\n",
      "\n",
      "\n",
      "______________________________________________________________________\n",
      "4 review of assigned to cluster  6\n",
      "----------------------------------------------------------------------\n",
      "Cutting sugar out of our diet,we went to splenda. Then finding that it was also unhealthy and baking with it made foods flat and dry. We went to stevia no calorie powder, after much research proved that stevia has been used for hundreds of years with no bad health effects. The trick to using stevia is to use tiny amounts and then taste it and add a bit more at a time to suit your taste. I also found that using a stevia that has an 80% ratio is the best tasting and this is the best that I have found. Because of using VERY SMALL amounts this jar lasts for months. This is also the best price ANYWHERE! Swanson is a trusted vendor as is Amazon.\n",
      "\n",
      "\n",
      "I was sorely disappointed in these cookies.. They are pretty tasteless and damn hard too.. I wouldn't buy them again and I've certainly tasted much better low-cal cookies.. I definitely recommend saving your money, folks..\n",
      "\n",
      "\n",
      "I grew up in Ohio and lived in the woods where sassafrass trees were plentiful. I would dig tender roots or \"bark\" a few trees for a delightful tea.  I purchased Breezy Morning Sassafrass tea and although was quite good it was very expensive for only 20 average size tea bags and shipping was as much as the product.  Not a good bargain.  I switched to Pappy's extract.\n",
      "\n",
      "\n",
      "______________________________________________________________________\n",
      "4 review of assigned to cluster  7\n",
      "----------------------------------------------------------------------\n",
      "These are more like a cracker - good for a little fill in for between meals.\n",
      "\n",
      "\n",
      "If you are truly looking for a decaf that will no longer make your heart race, this is not the coffee for you. It is quite flavorful, so I do recommend it to those who can still tolerate a bit of kick in their coffee.\n",
      "\n",
      "\n",
      "I Love these potato chip they r soooo good! =) sweet and spicy but not overwhelming just enough to work up the palate, not salty just enough to balance out the sweetness I will be ordering these again soon. LOVe IT!\n",
      "\n",
      "\n",
      "______________________________________________________________________\n",
      "4 review of assigned to cluster  8\n",
      "----------------------------------------------------------------------\n",
      "My bottle arrived just in time for a sushi dinner and game night planned with friends.  I had three soy sauces to choose from.  After some sampling we were all using the Bluegrass!  Everyone enjoyed the light smoothness a subtle sweetness.  We were splashing right on every piece, rather that dunking/dipping. Friends wanted to know where I found it. I'm going back to order more right now, and I'll be ordering 3 extra bottles because they are going to make a great little gift that's affordable and unique; instead of the traditional bottle of wine that so common it's boring.\n",
      "\n",
      "\n",
      "This is the first time we bought this tea from Amazon, we used to get it directly from Revolution Tea. I don't know if that made any difference, or if it was just a change in the tea's composition (along with the packaging), but what used to be my wife's favorite tea now has a metallic smell and aftertaste, with much less of a pomegranate flavor and now a strong, almost cheap-generic-green-tea flavor. Really disappointing, especially since we're stuck with six boxes.\n",
      "\n",
      "\n",
      "I really liked the taste. It is well priced too. It is a great and healthy alternative to table salt. I even used it on salad.\n",
      "\n",
      "\n",
      "______________________________________________________________________\n",
      "4 review of assigned to cluster  9\n",
      "----------------------------------------------------------------------\n",
      "I really liked these chips as did my entire family. I wish you could pick and choose the flavors in the variety pack. I would love to try the sweet potato and chili lime and leave the salt and pepper behind.\n",
      "\n",
      "\n",
      "As someone who suffers occasionally from digestive difficulties, these Kavli Crispy Thins are among the few things that I can eat at such times.  I always keep these crackers around to add to soups.  However, there are also times when they are the only thing I can properly digest.  This is a great item to have around when having digestive difficulties associated with the flu or stress.  For me they work better than the \"bananas, rice, applesauce or toast\" of the BRAT diet used in relieving IBS. These thin, easy to chew crackers are a really great product.\n",
      "\n",
      "\n",
      "I brought these cookies as a \"dish to pass\" at my family Christmas get together. they were a hit. The cookies were fresh, and unbroken. packaging was well done, and delivery was prompt. my sisters had fun with the fortunes, by adding the phrase, \"while in bed\" after reading each fortune.<br /><br />I will use the Amazon vendor, \"House of Rice\" again.\n",
      "\n",
      "\n",
      "______________________________________________________________________\n"
     ]
    }
   ],
   "source": [
    "# Reading a review which belong to each group.\n",
    "for i in range(10):\n",
    "    print(\"4 review of assigned to cluster \", i)\n",
    "    print(\"-\" * 70)\n",
    "    print(df1.iloc[df1.groupby(['Tfidf Clus Label']).groups[i][5]]['Text'])\n",
    "    print('\\n')\n",
    "    print(df1.iloc[df1.groupby(['Tfidf Clus Label']).groups[i][10]]['Text'])\n",
    "    print('\\n')\n",
    "    print(df1.iloc[df1.groupby(['Tfidf Clus Label']).groups[i][20]]['Text'])\n",
    "    print('\\n')\n",
    "    print(\"_\" * 70)"
   ]
  },
  {
   "cell_type": "markdown",
   "metadata": {
    "_uuid": "7bec9fdbf7f69be72a4793893cbcd2751682a270"
   },
   "source": [
    "__Analysis of K means for TF_IDF:__\n",
    "\n",
    "__Of all the cluster 4  accounts to more % of reviews i,e above 4000.\n",
    "\n",
    "If we observe the top terms per cluster, The clusters based on the products and product wise like and dislikes.\n",
    "for example, if we oberve cluster 8, the reviews talk more about chips, potatos, and other products which are like snacks\n",
    "\n",
    "In these, its better to understand the cluster center top features rather than individual reviews."
   ]
  },
  {
   "cell_type": "markdown",
   "metadata": {
    "_uuid": "3c0a9d4f0869e28e38fb573c37e412c7424af8c2"
   },
   "source": [
    "# Average Word to Vector"
   ]
  },
  {
   "cell_type": "code",
   "execution_count": 52,
   "metadata": {
    "_uuid": "0327906c371acaa309a7155c50e619bbeca1fe3b"
   },
   "outputs": [],
   "source": [
    "# Train your own Word2Vec model using your own text corpus\n",
    "i=0\n",
    "list_of_sent=[]\n",
    "for sent in final['CleanedText'].values:\n",
    "    list_of_sent.append(sent.split())"
   ]
  },
  {
   "cell_type": "code",
   "execution_count": 53,
   "metadata": {
    "_uuid": "bbf2f9b6919ee748d926da5b74e0396abf5284c0"
   },
   "outputs": [
    {
     "name": "stdout",
     "output_type": "stream",
     "text": [
      "realli good idea final product outstand use decal car window everybodi ask bought decal made two thumb\n",
      "*****************************************************************\n",
      "['realli', 'good', 'idea', 'final', 'product', 'outstand', 'use', 'decal', 'car', 'window', 'everybodi', 'ask', 'bought', 'decal', 'made', 'two', 'thumb']\n"
     ]
    }
   ],
   "source": [
    "print(final['CleanedText'].values[0])\n",
    "print(\"*****************************************************************\")\n",
    "print(list_of_sent[0])"
   ]
  },
  {
   "cell_type": "code",
   "execution_count": 54,
   "metadata": {
    "_uuid": "a9640c552a627717a576b42181c514218e8d0c46"
   },
   "outputs": [],
   "source": [
    "\n",
    "# removing html tags and apostrophes if present.\n",
    "import re\n",
    "def cleanhtml(sentence): #function to clean the word of any html-tags\n",
    "    cleanr = re.compile('<.*?>')\n",
    "    cleantext = re.sub(cleanr, ' ', sentence)\n",
    "    return cleantext\n",
    "def cleanpunc(sentence): #function to clean the word of any punctuation or special characters\n",
    "    cleaned = re.sub(r'[?|!|\\'|\"|#]',r'',sentence)\n",
    "    cleaned = re.sub(r'[.|,|)|(|\\|/]',r' ',cleaned)\n",
    "    return  cleaned"
   ]
  },
  {
   "cell_type": "code",
   "execution_count": 55,
   "metadata": {
    "_uuid": "83df91521ad074e5625208c0b38a08fb8a6bc4bc"
   },
   "outputs": [],
   "source": [
    "i=0\n",
    "list_of_sent_train=[]\n",
    "for sent in final['CleanedText'].values:\n",
    "    filtered_sentence=[]\n",
    "    sent=cleanhtml(sent)\n",
    "    for w in sent.split():\n",
    "        for cleaned_words in cleanpunc(w).split():\n",
    "            if(cleaned_words.isalpha()):    \n",
    "                filtered_sentence.append(cleaned_words.lower())\n",
    "            else:\n",
    "                continue \n",
    "    list_of_sent_train.append(filtered_sentence)"
   ]
  },
  {
   "cell_type": "code",
   "execution_count": null,
   "metadata": {},
   "outputs": [],
   "source": [
    "vector_size=100"
   ]
  },
  {
   "cell_type": "code",
   "execution_count": 57,
   "metadata": {
    "_uuid": "a42a539ac97ddc07d4a66949c87c4903431cbc52"
   },
   "outputs": [],
   "source": [
    "import gensim\n",
    "# Training the wor2vec model using train dataset\n",
    "w2v_model=gensim.models.Word2Vec(list_of_sent_train, vector_size=100, workers=4)"
   ]
  },
  {
   "cell_type": "code",
   "execution_count": 58,
   "metadata": {
    "_uuid": "a6d900f47371e98ac8119b6e5997ad797a5b1b0a"
   },
   "outputs": [
    {
     "data": {
      "text/plain": [
       "(4985, 100)"
      ]
     },
     "execution_count": 58,
     "metadata": {},
     "output_type": "execute_result"
    }
   ],
   "source": [
    "import numpy as np\n",
    "sent_vectors = []; # the avg-w2v for each sentence/review is stored in this train\n",
    "for sent in list_of_sent_train: # for each review/sentence\n",
    "    sent_vec = np.zeros(100) # as word vectors are of zero length\n",
    "    cnt_words =0; # num of words with a valid vector in the sentence/review\n",
    "    for word in sent: # for each word in a review/sentence\n",
    "        try:\n",
    "            vec = w2v_model.wv[word]\n",
    "            sent_vec += vec\n",
    "            cnt_words += 1\n",
    "        except:\n",
    "            pass\n",
    "    sent_vec /= cnt_words\n",
    "    sent_vectors.append(sent_vec)\n",
    "sent_vectors = np.array(sent_vectors)\n",
    "sent_vectors = np.nan_to_num(sent_vectors)\n",
    "sent_vectors.shape\n"
   ]
  },
  {
   "cell_type": "markdown",
   "metadata": {
    "_uuid": "39c8eaa87525123bc60bb86a230336b972da62f6"
   },
   "source": [
    "## K Means CLustering for Avg word to vectors"
   ]
  },
  {
   "cell_type": "code",
   "execution_count": 59,
   "metadata": {
    "_uuid": "2520cdb265bffc6779ab95b2e2ea3b0a5b24bb21"
   },
   "outputs": [
    {
     "data": {
      "text/plain": [
       "[3, 4, 5, 6, 7, 8, 9, 10]"
      ]
     },
     "execution_count": 59,
     "metadata": {},
     "output_type": "execute_result"
    }
   ],
   "source": [
    "# Number of clusters to check.\n",
    "num_clus = [x for x in range(3,11)]\n",
    "num_clus"
   ]
  },
  {
   "cell_type": "code",
   "execution_count": 60,
   "metadata": {
    "_uuid": "746c8e4003926d897eb023a70c753ffe7198d127"
   },
   "outputs": [
    {
     "data": {
      "image/png": "[encoded data removed]",
      "text/plain": [
       "<Figure size 432x288 with 1 Axes>"
      ]
     },
     "metadata": {
      "needs_background": "light"
     },
     "output_type": "display_data"
    },
    {
     "name": "stdout",
     "output_type": "stream",
     "text": [
      "The optimal number of clusters obtained is -  9\n",
      "The loss for optimal cluster is -  819.5904005875648\n"
     ]
    }
   ],
   "source": [
    "# Choosing the best cluster using Elbow Method.\n",
    "# source credit,few parts of min squred loss info is taken from different parts of the stakoverflow answers.\n",
    "# this is used to understand to find the optimal clusters in differen way rather than used in BOW, TFIDF\n",
    "squared_errors = []\n",
    "for cluster in num_clus:\n",
    "    kmeans = KMeans(n_clusters = cluster).fit(sent_vectors) # Train Cluster\n",
    "    squared_errors.append(kmeans.inertia_) # Appending the squared loss obtained in the list\n",
    "    \n",
    "optimal_clusters = np.argmin(squared_errors) + 2 # As argmin return the index of minimum loss. \n",
    "plt.plot(num_clus, squared_errors)\n",
    "plt.title(\"Elbow Curve to find the no. of clusters.\")\n",
    "plt.xlabel(\"Number of clusters.\")\n",
    "plt.ylabel(\"Squared Loss.\")\n",
    "xy = (optimal_clusters, min(squared_errors))\n",
    "plt.annotate('(%s, %s)' % xy, xy = xy, textcoords='data')\n",
    "plt.show()\n",
    "\n",
    "print (\"The optimal number of clusters obtained is - \", optimal_clusters)\n",
    "print (\"The loss for optimal cluster is - \", min(squared_errors))"
   ]
  },
  {
   "cell_type": "code",
   "execution_count": 61,
   "metadata": {
    "_uuid": "41d8020c2206a40393b6fa194d0acbf23f009b31"
   },
   "outputs": [
    {
     "data": {
      "text/plain": [
       "KMeans(n_clusters=9)"
      ]
     },
     "execution_count": 61,
     "metadata": {},
     "output_type": "execute_result"
    }
   ],
   "source": [
    "# Training the best model --\n",
    "from sklearn.cluster import KMeans\n",
    "model2 = KMeans(n_clusters = optimal_clusters)\n",
    "model2.fit(sent_vectors)"
   ]
  },
  {
   "cell_type": "code",
   "execution_count": 62,
   "metadata": {
    "_uuid": "5a6d284261aa7ee745164b6b0d6e536abf9a681e"
   },
   "outputs": [],
   "source": [
    "word_cluster_pred=model2.predict(sent_vectors)\n",
    "word_cluster_pred_2=model2.labels_\n",
    "word_cluster_center=model2.cluster_centers_"
   ]
  },
  {
   "cell_type": "code",
   "execution_count": 63,
   "metadata": {
    "_uuid": "c49c69ba0942b49766dc6a466bf0e3e39b7f0660"
   },
   "outputs": [
    {
     "data": {
      "text/plain": [
       "array([[ 2.97770039e-01,  4.33285802e-01,  1.04807388e-03,\n",
       "         1.41850606e-01,  4.85069192e-02, -4.39646394e-01,\n",
       "         3.45700605e-01,  3.93962006e-01, -2.87123992e-01,\n",
       "         9.05883804e-04,  1.95094611e-01, -2.04462879e-01,\n",
       "         6.42368877e-02, -1.03781047e-01,  5.39754948e-02,\n",
       "        -2.22620047e-01,  1.54635033e-01, -4.82459264e-01,\n",
       "        -1.52842011e-01, -8.27133050e-01,  1.04009122e-01,\n",
       "         8.03299383e-02, -9.65052480e-02, -7.62683143e-03,\n",
       "        -4.54422366e-01, -4.99152779e-03, -2.23128314e-01,\n",
       "        -2.52930300e-01, -3.00263015e-02, -1.01688197e-01,\n",
       "         2.90673683e-01,  9.25762006e-02, -5.70009608e-02,\n",
       "        -5.53611791e-02, -1.39321250e-01,  4.17029860e-01,\n",
       "        -1.72431287e-01, -1.43766007e-01, -1.35696035e-01,\n",
       "        -7.84194974e-01,  5.75856137e-02, -3.76448343e-01,\n",
       "        -1.25271509e-01,  1.27192182e-01,  2.27435965e-01,\n",
       "        -1.10459405e-02, -3.71644328e-01,  2.07651520e-02,\n",
       "         3.23662472e-01,  1.66144826e-01,  2.81013745e-02,\n",
       "        -3.99828662e-01,  1.30941917e-01, -2.29755008e-01,\n",
       "        -2.76465574e-01,  1.84475974e-01,  2.20360954e-01,\n",
       "         1.09782180e-01, -5.05657162e-01,  3.27083643e-02,\n",
       "        -3.53201182e-02,  1.93665378e-01, -7.27729599e-02,\n",
       "        -1.68167273e-01, -4.96079563e-01,  4.59261651e-01,\n",
       "         1.09780297e-01,  6.06671145e-02, -3.57360144e-01,\n",
       "         2.80058705e-01, -4.57922284e-01,  1.16778751e-01,\n",
       "         2.32815491e-01, -1.60592215e-01,  4.28951897e-01,\n",
       "         3.39953114e-01,  9.98965812e-02,  2.45811086e-02,\n",
       "        -3.39693043e-01, -1.26303522e-01,  8.47159986e-03,\n",
       "        -6.24809295e-02, -1.18867293e-01,  4.04400039e-01,\n",
       "        -3.31583142e-02, -2.09467503e-01, -1.13615192e-01,\n",
       "         2.34949132e-01,  6.00831357e-01,  2.03904592e-01,\n",
       "         3.01512162e-01,  2.44110647e-01, -6.60909198e-03,\n",
       "         1.90956685e-01,  5.74312300e-01,  2.05615032e-01,\n",
       "         1.55608763e-02, -3.71224923e-01,  2.74746237e-02,\n",
       "         3.46828746e-04]])"
      ]
     },
     "execution_count": 63,
     "metadata": {},
     "output_type": "execute_result"
    }
   ],
   "source": [
    "word_cluster_center[1:2]"
   ]
  },
  {
   "cell_type": "code",
   "execution_count": 64,
   "metadata": {
    "_uuid": "55c09d99fa7ebf76fc372551880d07e71e6d2523"
   },
   "outputs": [
    {
     "data": {
      "text/html": [
       "<div>\n",
       "<style scoped>\n",
       "    .dataframe tbody tr th:only-of-type {\n",
       "        vertical-align: middle;\n",
       "    }\n",
       "\n",
       "    .dataframe tbody tr th {\n",
       "        vertical-align: top;\n",
       "    }\n",
       "\n",
       "    .dataframe thead th {\n",
       "        text-align: right;\n",
       "    }\n",
       "</style>\n",
       "<table border=\"1\" class=\"dataframe\">\n",
       "  <thead>\n",
       "    <tr style=\"text-align: right;\">\n",
       "      <th></th>\n",
       "      <th>Id</th>\n",
       "      <th>ProductId</th>\n",
       "      <th>UserId</th>\n",
       "      <th>ProfileName</th>\n",
       "      <th>HelpfulnessNumerator</th>\n",
       "      <th>HelpfulnessDenominator</th>\n",
       "      <th>Score</th>\n",
       "      <th>Time</th>\n",
       "      <th>Summary</th>\n",
       "      <th>Text</th>\n",
       "      <th>CleanedText</th>\n",
       "      <th>Bow Clus Label</th>\n",
       "      <th>Tfidf Clus Label</th>\n",
       "      <th>AVG-W2V Clus Label</th>\n",
       "    </tr>\n",
       "  </thead>\n",
       "  <tbody>\n",
       "    <tr>\n",
       "      <th>1244</th>\n",
       "      <td>1245.0</td>\n",
       "      <td>B00002Z754</td>\n",
       "      <td>A29Z5PI9BW2PU3</td>\n",
       "      <td>Robbie</td>\n",
       "      <td>7.0</td>\n",
       "      <td>7.0</td>\n",
       "      <td>positive</td>\n",
       "      <td>2000-06-23</td>\n",
       "      <td>Great Product</td>\n",
       "      <td>This was a really good idea and the final prod...</td>\n",
       "      <td>realli good idea final product outstand use de...</td>\n",
       "      <td>4</td>\n",
       "      <td>6</td>\n",
       "      <td>2</td>\n",
       "    </tr>\n",
       "    <tr>\n",
       "      <th>1243</th>\n",
       "      <td>1244.0</td>\n",
       "      <td>B00002Z754</td>\n",
       "      <td>A3B8RCEI0FXFI6</td>\n",
       "      <td>B G Chase</td>\n",
       "      <td>10.0</td>\n",
       "      <td>10.0</td>\n",
       "      <td>positive</td>\n",
       "      <td>2000-06-29</td>\n",
       "      <td>WOW Make your own 'slickers' !</td>\n",
       "      <td>I just received my shipment and could hardly w...</td>\n",
       "      <td>receiv shipment could hard wait tri product lo...</td>\n",
       "      <td>4</td>\n",
       "      <td>6</td>\n",
       "      <td>2</td>\n",
       "    </tr>\n",
       "  </tbody>\n",
       "</table>\n",
       "</div>"
      ],
      "text/plain": [
       "          Id   ProductId          UserId ProfileName  HelpfulnessNumerator  \\\n",
       "1244  1245.0  B00002Z754  A29Z5PI9BW2PU3      Robbie                   7.0   \n",
       "1243  1244.0  B00002Z754  A3B8RCEI0FXFI6   B G Chase                  10.0   \n",
       "\n",
       "      HelpfulnessDenominator     Score       Time  \\\n",
       "1244                     7.0  positive 2000-06-23   \n",
       "1243                    10.0  positive 2000-06-29   \n",
       "\n",
       "                             Summary  \\\n",
       "1244                   Great Product   \n",
       "1243  WOW Make your own 'slickers' !   \n",
       "\n",
       "                                                   Text  \\\n",
       "1244  This was a really good idea and the final prod...   \n",
       "1243  I just received my shipment and could hardly w...   \n",
       "\n",
       "                                            CleanedText  Bow Clus Label  \\\n",
       "1244  realli good idea final product outstand use de...               4   \n",
       "1243  receiv shipment could hard wait tri product lo...               4   \n",
       "\n",
       "      Tfidf Clus Label  AVG-W2V Clus Label  \n",
       "1244                 6                   2  \n",
       "1243                 6                   2  "
      ]
     },
     "execution_count": 64,
     "metadata": {},
     "output_type": "execute_result"
    }
   ],
   "source": [
    "# Giving Labels/assigning a cluster to each point/text \n",
    "dfa = df1\n",
    "dfa['AVG-W2V Clus Label'] = model2.labels_\n",
    "dfa.head(2)"
   ]
  },
  {
   "cell_type": "code",
   "execution_count": 65,
   "metadata": {
    "_uuid": "e15606962925b0e6ebeb110cfa38239b41099ca4"
   },
   "outputs": [
    {
     "data": {
      "text/plain": [
       "AVG-W2V Clus Label\n",
       "0     863\n",
       "1     295\n",
       "2    1002\n",
       "3     223\n",
       "4     357\n",
       "5     294\n",
       "6     398\n",
       "7    1202\n",
       "8     351\n",
       "Name: Text, dtype: int64"
      ]
     },
     "execution_count": 65,
     "metadata": {},
     "output_type": "execute_result"
    }
   ],
   "source": [
    "# How many points belong to each cluster ->\n",
    "dfa.groupby(['AVG-W2V Clus Label'])['Text'].count()"
   ]
  },
  {
   "cell_type": "code",
   "execution_count": 66,
   "metadata": {
    "_uuid": "8cf5020aa768bf0d94563b6f0152e4668c79268a"
   },
   "outputs": [
    {
     "name": "stdout",
     "output_type": "stream",
     "text": [
      "A review of assigned to cluster  0\n",
      "----------------------------------------------------------------------\n",
      "I was given a pack of this coffee as a gift and it had been sitting around for quite a while (over a year) when I decided to try it.  It was without a doubt one of the best coffees that I have tasted.  Very smooth and flavorful.  I would highly recommend this.  After that I ordered a supply from Amazon. They are vacuum packed (I believe much better than store bought coffee).  I may try the decaf version of this to see how that tastes.\n",
      "\n",
      "\n",
      "I love this stuff.  I put it over chicken and even steaks.  It's very sweet, and just a bit spicy.  Just a little goes a long way.\n",
      "\n",
      "\n",
      "______________________________________________________________________\n",
      "A review of assigned to cluster  1\n",
      "----------------------------------------------------------------------\n",
      "They are OK, but my husband only eats them when we are in car. We keep them there for a celiac snack. (Hard to find when roaming around.) He won't eat them otherwise. They are definitely raspberry, but are kind of dry.<br />  We have never tried any other snack bars, so in all honesty they may be the norm. I don't know.<br />  We DO like Enjoy Life's other products.<br />  They are GF, have no MSG or related products or aspartates.\n",
      "\n",
      "\n",
      "It appears a little watery, but the taste is not bad at all.  If you have kids that are as fascinated by the Keurig as you are, they'll probably enjoy this.\n",
      "\n",
      "\n",
      "______________________________________________________________________\n",
      "A review of assigned to cluster  2\n",
      "----------------------------------------------------------------------\n",
      "I have tried many bread machine mixes and most have been okay but this one rates an \"excellent\" because not only is it a very good basic loaf, it also works very well with additives, either prepared entirely in the bread machine, or (after the second rise) removed from the machine, shaped and baked on a stone in the oven.<br />Stretched and flattened with a filling of either savory or sweet ingredients, then rolled and set to rise and then bake in a loaf pan, it produced excellent herb and onion bread, cinnamon raisin bread and a brown butter and seed bread.<br />I buy it via the subscribe-and-save plan as I use it often.\n",
      "\n",
      "\n",
      "I have a 2 year old Portuguese Water Dog who always seemed to have a sensitive stomach, and a 15 year old Shepherd X dog who was beginning to lose weight, she slept almost all the time, and she was getting very fussy about what she'd eat. (I believe that with a dogs sense of smell they KNOW exactly what is in their food; however they have no choice but to eat what we feed them...just Google what is in most commercial dog foods, and you'll see why your dog may not be thrilled to eat it up...if a dog can detect cancer in a person, they can detect all sorts of other things that aren't supposed to be eaten.) Anyway...I used to feed Purina lamb and rice to my dogs, but I was finding my young Porty was having trouble with it, and my 15 yr old would eat a few bits and then leave her dish. So, I started making their food, and came up with a wonderfully nutritious and tasty recipe. The dogs loved my homemade dog food, and my 15 yr old began putting on weight again, but I didn't always have time to make their food. And, homemade dog food is kind of hard on the wallet. So, I started to research all the natural dog foods out there, compare costs etc. I arrived on Harmony Farms, and guess what...my dogs LOVE it just as much as they love my home made dog food. My young Porty no longer has stomach troubles and she looks great; my 15 yr old finishes her meals and looks for more. Both have shiny coats and energy. No one can believe my old girl is 15 years old. I have told my friends about Harmony Farms dog food, and when they've switched over, they've reported similar positive results. My brother-in-law's dog had always been a very fussy eater, and had skin problems with a thinning coat. When they started to feed her Harmony Farms, she became an eager eater, more happy and outgoing, and her skin and coat condition has completely cleared up (...I'm thinking she had an allergy to whatever was in her other food, which I think was Iams). Other friends have commented on how happy their dogs are at meal time now...and they had all been feeding their dogs premium, top of the line dogs foods AND paying top of the line prices. Harmony Farms products are very reasonably priced. Not the cheapest dog food on the shelf, but, in my opinion, you are buying the best quality food on the market, so it's an incredibly GOOD DEAL! It may also mean you make fewer trips to the veterinarian's office. I and my friends are so happy we have found this food for our dogs. :)\n",
      "\n",
      "\n",
      "______________________________________________________________________\n",
      "A review of assigned to cluster  3\n",
      "----------------------------------------------------------------------\n",
      "Awesome little snack treat for your favorite pup/dog.  My two pekeingese just love these.  You can use them for training as well as just a treat.  They come in a variety of flavors.  My pups like the liver the best.  For senior dogs, these are perfect if they don't have the \"jaw\" power or teeth use anymore.  They are easy to carry so you can treat your dog whenever you want to for example on a walk around the neighborhood.  They are just 3 calories each so you don't have to worry about their weight.  Absolutely recommend these to every dog owner!\n",
      "\n",
      "\n",
      "For those who love salt and vinegar potato chips, this is the one to choose. The flavor is zippy and tart, with no unpleasant chemical aftertaste like the less \"natural\" versions of this snack. The 2-ounce bags are just right to share at lunch. The chips are a little greasy, and that's why I've given them 4 stars instead of 5.\n",
      "\n",
      "\n",
      "______________________________________________________________________\n",
      "A review of assigned to cluster  4\n",
      "----------------------------------------------------------------------\n",
      "These things are AWESOME. Perfect size, truly wafer thin, consistent thickness of dark chocolate over minty interior. They are like what would happen if you could run a steamroller over a junior mint. I first tried them when I was living in Germany 16 years ago, and to this day no other mint comes close. And the copycat ones? Disgusting. Go for the original. You won't regret it. Each mint is in its own sleeve, so you can pass them out without ever touching one. Elegant and delicious. Love them!\n",
      "\n",
      "\n",
      "When I got my Keurig brewer last month, I bought two different types of hot chocolate.  The Grove Square Hot Chocolate is far superior.  I have so far brewed it on 6oz and 8oz with good flavor at both sizes.  The flavor is rich and it leaves no residue in the bottom of the kcup (the other brand does, maybe I got a bad batch?).  Overall, I will happily buy this one again.\n",
      "\n",
      "\n",
      "______________________________________________________________________\n",
      "A review of assigned to cluster  5\n",
      "----------------------------------------------------------------------\n",
      "I've tried a few different 'Dirty Martini' mix's, etc. but I prefer the actual juice from the olive jar. Well, as any experienced dirty martini drinker knows; you soon have way too many olives and not enough juice. Boscoli Family Dirty Martini Olive Juice is the real thing. I usually buy 4 of the 25oz. bottles and that'll last me several months. Shipping is pricey but the bottles come not only packed in peanuts but also bubble wrapped. They pack 'em in a sturdy cardboard box and tape it up real well. I live in a rural area and usually get my order in about 4 days. Fantastic experience all the way around.\n",
      "\n",
      "\n",
      "The noodles in the box were all broken.  The sauce was over salted and did not have a good flavor.  I threw out most of the skillet.  I would recommend not purchasing this product.\n",
      "\n",
      "\n",
      "______________________________________________________________________\n",
      "A review of assigned to cluster  6\n",
      "----------------------------------------------------------------------\n",
      "Cutting sugar out of our diet,we went to splenda. Then finding that it was also unhealthy and baking with it made foods flat and dry. We went to stevia no calorie powder, after much research proved that stevia has been used for hundreds of years with no bad health effects. The trick to using stevia is to use tiny amounts and then taste it and add a bit more at a time to suit your taste. I also found that using a stevia that has an 80% ratio is the best tasting and this is the best that I have found. Because of using VERY SMALL amounts this jar lasts for months. This is also the best price ANYWHERE! Swanson is a trusted vendor as is Amazon.\n",
      "\n",
      "\n",
      "High quality coca products do not have a paper wraps since they can harbor dirt and bacteria and the printing ink can change or contaminate the delicate flavor of the tea bags.<br />Organic coca tea bags do not contain preservatives or additives; therefore they must be properly stored. All coca tea  Air Tight Bags are re-sealable with zip lock closures and once opened the bags must be kept closed at all time to avoid contamination in a dry, cool, dark place away from strong-flavored foods.  An extra airtight container is recommended when the tea is stored over one month.<br />Do not store coca tea  products inside a refrigerator if you have produce inside. Many fruits and vegetables, especially if they have been damaged, give off ethylene gas as they ripen. Coca tea bags are very sensitive to the presence of even very low levels of ethylene gas. The refrigerator acts as a trap for the ethylene gas given off by the generating varieties, allowing it to build up to damaging levels. Although not hazardous to humans, the ethylene gas leads to the early aging and rotting of the tea.\n",
      "\n",
      "\n",
      "______________________________________________________________________\n",
      "A review of assigned to cluster  7\n",
      "----------------------------------------------------------------------\n",
      "This is not jerky, this is processed, hard like a rock, very greasy and stale smelling stripe of something that you can't break into anything smaller than 2 inches long and that certainly is not the size of a training treat! The dogs- 45lb dogs that will eat anything- were not impressed, it was hard to chew, and it sounded like they were crunching rocks, most of them spat it out after a few chews, left it there, this would be the first time they would not eat something in their entire lives, these dogs will work for lettuce. Where is a zero star button?\n",
      "\n",
      "\n",
      "This stuff isn't bad at all. But you know how you can just eat spoon after spoon of really good caviar without toast points or crackers or anything? This roe is more for sprinkling over fish dishes, morning eggs or a caesar salad. All in all, for the price, it's pretty good,\n",
      "\n",
      "\n",
      "______________________________________________________________________\n",
      "A review of assigned to cluster  8\n",
      "----------------------------------------------------------------------\n",
      "the pop chips are really incredible. They are very flavorful and crispy. My Favorite is the BBQ, but that is just me, they are all good. I would highly recommend these to anyone who is watching their weight of just for overall better health.\n",
      "\n",
      "\n",
      "4-year old Elkhound loves this food, and it keeps her in great health.  Amazon has the best price I've found for this food, and it's even better with subscribe and save.  I highly recommend it.\n",
      "\n",
      "\n",
      "______________________________________________________________________\n"
     ]
    }
   ],
   "source": [
    "# Reading a review which belong to each group.\n",
    "for i in range(optimal_clusters):\n",
    "    print(\"A review of assigned to cluster \", i)\n",
    "    print(\"-\" * 70)\n",
    "    print(dfa.iloc[dfa.groupby(['AVG-W2V Clus Label']).groups[i][0]]['Text'])\n",
    "    print('\\n')\n",
    "    print(dfa.iloc[dfa.groupby(['AVG-W2V Clus Label']).groups[i][1]]['Text'])\n",
    "    print('\\n')\n",
    "    print(\"_\" * 70)"
   ]
  },
  {
   "cell_type": "markdown",
   "metadata": {
    "_uuid": "0172bf3df2be8959da9a1894f067fe95c712ad4b"
   },
   "source": [
    "## Clustering DBSCAN"
   ]
  },
  {
   "cell_type": "code",
   "execution_count": 67,
   "metadata": {
    "_uuid": "e29eb0561696f61e9bc998efaabf0494f62d81b4"
   },
   "outputs": [],
   "source": [
    "from sklearn.cluster import DBSCAN"
   ]
  },
  {
   "cell_type": "code",
   "execution_count": 68,
   "metadata": {
    "_uuid": "5dd67e2d9623b5bbedf13928a2089e8c06c72faa"
   },
   "outputs": [],
   "source": [
    "# Computing 200th Nearest neighbour distance\n",
    "minPts = 2 * 100\n",
    "# Lower bound function copied from -> https://gist.github.com/m00nlight/0f9306b4d4e61ba0195f\n",
    "def lower_bound(nums, target): # This function return the number in the array just greater than or equal to itself.\n",
    "    l, r = 0, len(nums) - 1\n",
    "    while l <= r: # Binary searching.\n",
    "        mid = int(l + (r - l) / 2)\n",
    "        if nums[mid] >= target:\n",
    "            r = mid - 1\n",
    "        else:\n",
    "            l = mid + 1\n",
    "    return l\n",
    "\n",
    "def compute200thnearestneighbour(x, data): # Returns the distance of 200th nearest neighbour.\n",
    "    dists = []\n",
    "    for val in data:\n",
    "        dist = np.sum((x - val) **2 ) # computing distances.\n",
    "        if(len(dists) == 200 and dists[199] > dist): # If distance is larger than current largest distance found.\n",
    "            l = int(lower_bound(dists, dist)) # Using the lower bound function to get the right position.\n",
    "            if l < 200 and l >= 0 and dists[l] > dist:\n",
    "                dists[l] = dist\n",
    "        else:\n",
    "            dists.append(dist)\n",
    "            dists.sort()\n",
    "    \n",
    "    return dists[199] # Dist 199 contains the distance of 200th nearest neighbour."
   ]
  },
  {
   "cell_type": "code",
   "execution_count": 69,
   "metadata": {
    "_uuid": "704ed70c5ab0f8a15226a2e2115bb26e6831ba89"
   },
   "outputs": [],
   "source": [
    "# Computing the 200th nearest neighbour distance of some point the dataset:\n",
    "twohundrethneigh = []\n",
    "for val in sent_vectors[:1500]:\n",
    "    twohundrethneigh.append( compute200thnearestneighbour(val, sent_vectors[:1500]) )\n",
    "twohundrethneigh.sort()"
   ]
  },
  {
   "cell_type": "code",
   "execution_count": 70,
   "metadata": {
    "_uuid": "bb027c61e72b87a6fc27100ac151989655cb3638"
   },
   "outputs": [
    {
     "data": {
      "image/png": "[encoded data removed]",
      "text/plain": [
       "<Figure size 1008x288 with 1 Axes>"
      ]
     },
     "metadata": {
      "needs_background": "light"
     },
     "output_type": "display_data"
    }
   ],
   "source": [
    "\n",
    "# Plotting for the Elbow Method :\n",
    "plt.figure(figsize=(14,4))\n",
    "plt.title(\"Elbow Method for Finding the right Eps hyperparameter\")\n",
    "plt.plot([x for x in range(len(twohundrethneigh))], twohundrethneigh)\n",
    "plt.xlabel(\"Number of points\")\n",
    "plt.ylabel(\"Distance of 200th Nearest Neighbour\")\n",
    "plt.show()\n"
   ]
  },
  {
   "cell_type": "markdown",
   "metadata": {
    "_uuid": "4bb840cfae15f6a2d2d35a3c318dd1df903329f5"
   },
   "source": [
    "Conclusions for Elbow Method\n",
    "\n",
    "The Knee point seems to be 5. So Eps = 5"
   ]
  },
  {
   "cell_type": "code",
   "execution_count": 71,
   "metadata": {
    "_uuid": "9a7e337a332c40595b404c6cf5477872ac299b88"
   },
   "outputs": [
    {
     "data": {
      "text/plain": [
       "DBSCAN(eps=5, min_samples=200, n_jobs=-1)"
      ]
     },
     "execution_count": 71,
     "metadata": {},
     "output_type": "execute_result"
    }
   ],
   "source": [
    "# Training DBSCAN :\n",
    "model = DBSCAN(eps = 5, min_samples = minPts, n_jobs=-1)\n",
    "model.fit(sent_vectors)"
   ]
  },
  {
   "cell_type": "code",
   "execution_count": 72,
   "metadata": {
    "_uuid": "65f3213e29441af1426b7ada9c034c154942f41b"
   },
   "outputs": [
    {
     "data": {
      "text/html": [
       "<div>\n",
       "<style scoped>\n",
       "    .dataframe tbody tr th:only-of-type {\n",
       "        vertical-align: middle;\n",
       "    }\n",
       "\n",
       "    .dataframe tbody tr th {\n",
       "        vertical-align: top;\n",
       "    }\n",
       "\n",
       "    .dataframe thead th {\n",
       "        text-align: right;\n",
       "    }\n",
       "</style>\n",
       "<table border=\"1\" class=\"dataframe\">\n",
       "  <thead>\n",
       "    <tr style=\"text-align: right;\">\n",
       "      <th></th>\n",
       "      <th>Id</th>\n",
       "      <th>ProductId</th>\n",
       "      <th>UserId</th>\n",
       "      <th>ProfileName</th>\n",
       "      <th>HelpfulnessNumerator</th>\n",
       "      <th>HelpfulnessDenominator</th>\n",
       "      <th>Score</th>\n",
       "      <th>Time</th>\n",
       "      <th>Summary</th>\n",
       "      <th>Text</th>\n",
       "      <th>CleanedText</th>\n",
       "      <th>Bow Clus Label</th>\n",
       "      <th>Tfidf Clus Label</th>\n",
       "      <th>AVG-W2V Clus Label</th>\n",
       "    </tr>\n",
       "  </thead>\n",
       "  <tbody>\n",
       "    <tr>\n",
       "      <th>1244</th>\n",
       "      <td>1245.0</td>\n",
       "      <td>B00002Z754</td>\n",
       "      <td>A29Z5PI9BW2PU3</td>\n",
       "      <td>Robbie</td>\n",
       "      <td>7.0</td>\n",
       "      <td>7.0</td>\n",
       "      <td>positive</td>\n",
       "      <td>2000-06-23</td>\n",
       "      <td>Great Product</td>\n",
       "      <td>This was a really good idea and the final prod...</td>\n",
       "      <td>realli good idea final product outstand use de...</td>\n",
       "      <td>4</td>\n",
       "      <td>6</td>\n",
       "      <td>0</td>\n",
       "    </tr>\n",
       "    <tr>\n",
       "      <th>1243</th>\n",
       "      <td>1244.0</td>\n",
       "      <td>B00002Z754</td>\n",
       "      <td>A3B8RCEI0FXFI6</td>\n",
       "      <td>B G Chase</td>\n",
       "      <td>10.0</td>\n",
       "      <td>10.0</td>\n",
       "      <td>positive</td>\n",
       "      <td>2000-06-29</td>\n",
       "      <td>WOW Make your own 'slickers' !</td>\n",
       "      <td>I just received my shipment and could hardly w...</td>\n",
       "      <td>receiv shipment could hard wait tri product lo...</td>\n",
       "      <td>4</td>\n",
       "      <td>6</td>\n",
       "      <td>0</td>\n",
       "    </tr>\n",
       "  </tbody>\n",
       "</table>\n",
       "</div>"
      ],
      "text/plain": [
       "          Id   ProductId          UserId ProfileName  HelpfulnessNumerator  \\\n",
       "1244  1245.0  B00002Z754  A29Z5PI9BW2PU3      Robbie                   7.0   \n",
       "1243  1244.0  B00002Z754  A3B8RCEI0FXFI6   B G Chase                  10.0   \n",
       "\n",
       "      HelpfulnessDenominator     Score       Time  \\\n",
       "1244                     7.0  positive 2000-06-23   \n",
       "1243                    10.0  positive 2000-06-29   \n",
       "\n",
       "                             Summary  \\\n",
       "1244                   Great Product   \n",
       "1243  WOW Make your own 'slickers' !   \n",
       "\n",
       "                                                   Text  \\\n",
       "1244  This was a really good idea and the final prod...   \n",
       "1243  I just received my shipment and could hardly w...   \n",
       "\n",
       "                                            CleanedText  Bow Clus Label  \\\n",
       "1244  realli good idea final product outstand use de...               4   \n",
       "1243  receiv shipment could hard wait tri product lo...               4   \n",
       "\n",
       "      Tfidf Clus Label  AVG-W2V Clus Label  \n",
       "1244                 6                   0  \n",
       "1243                 6                   0  "
      ]
     },
     "execution_count": 72,
     "metadata": {},
     "output_type": "execute_result"
    }
   ],
   "source": [
    "\n",
    "dfdb = dfa\n",
    "dfdb['AVG-W2V Clus Label'] = model.labels_\n",
    "dfdb.head(2)"
   ]
  },
  {
   "cell_type": "code",
   "execution_count": 73,
   "metadata": {
    "_uuid": "dada783c364017c64e12fcd3a5634bfb2a58240e"
   },
   "outputs": [
    {
     "data": {
      "text/plain": [
       "AVG-W2V Clus Label\n",
       "0    4985\n",
       "Name: Id, dtype: int64"
      ]
     },
     "execution_count": 73,
     "metadata": {},
     "output_type": "execute_result"
    }
   ],
   "source": [
    "dfdb.groupby(['AVG-W2V Clus Label'])['Id'].count()"
   ]
  },
  {
   "cell_type": "markdown",
   "metadata": {
    "_uuid": "03fd97fc2bc1b3792d09e2c44b222e168a09393d"
   },
   "source": [
    "# Clustering Hierarchical"
   ]
  },
  {
   "cell_type": "code",
   "execution_count": 74,
   "metadata": {
    "_uuid": "bb7b9ab11b1d43598b4b926c35a58ad284b1acab"
   },
   "outputs": [
    {
     "data": {
      "text/plain": [
       "<matplotlib.lines.Line2D at 0x1e1810989d0>"
      ]
     },
     "execution_count": 74,
     "metadata": {},
     "output_type": "execute_result"
    },
    {
     "data": {
      "image/png": "[encoded data removed]",
      "text/plain": [
       "<Figure size 432x288 with 1 Axes>"
      ]
     },
     "metadata": {
      "needs_background": "light"
     },
     "output_type": "display_data"
    }
   ],
   "source": [
    "import scipy\n",
    "from scipy.cluster import hierarchy\n",
    "dendro=hierarchy.dendrogram(hierarchy.linkage(sent_vectors,method='ward'))\n",
    "plt.axhline(y=35)# cut at 30 to get 5 clusters"
   ]
  },
  {
   "cell_type": "code",
   "execution_count": 75,
   "metadata": {
    "_uuid": "67dcbcf5447e68f7ea39488be0c99e027f55e979"
   },
   "outputs": [],
   "source": [
    "from sklearn.cluster import AgglomerativeClustering\n",
    "\n",
    "cluster = AgglomerativeClustering(n_clusters=5, affinity='euclidean', linkage='ward')  #took n=5 from dendrogram curve \n",
    "Agg=cluster.fit_predict(sent_vectors)"
   ]
  },
  {
   "cell_type": "code",
   "execution_count": 76,
   "metadata": {
    "_uuid": "8fa76ac472ee7e7c4eb85ca5b311d2ed395f1512"
   },
   "outputs": [
    {
     "data": {
      "text/html": [
       "<div>\n",
       "<style scoped>\n",
       "    .dataframe tbody tr th:only-of-type {\n",
       "        vertical-align: middle;\n",
       "    }\n",
       "\n",
       "    .dataframe tbody tr th {\n",
       "        vertical-align: top;\n",
       "    }\n",
       "\n",
       "    .dataframe thead th {\n",
       "        text-align: right;\n",
       "    }\n",
       "</style>\n",
       "<table border=\"1\" class=\"dataframe\">\n",
       "  <thead>\n",
       "    <tr style=\"text-align: right;\">\n",
       "      <th></th>\n",
       "      <th>Id</th>\n",
       "      <th>ProductId</th>\n",
       "      <th>UserId</th>\n",
       "      <th>ProfileName</th>\n",
       "      <th>HelpfulnessNumerator</th>\n",
       "      <th>HelpfulnessDenominator</th>\n",
       "      <th>Score</th>\n",
       "      <th>Time</th>\n",
       "      <th>Summary</th>\n",
       "      <th>Text</th>\n",
       "      <th>CleanedText</th>\n",
       "      <th>Bow Clus Label</th>\n",
       "      <th>Tfidf Clus Label</th>\n",
       "      <th>AVG-W2V Clus Label</th>\n",
       "    </tr>\n",
       "  </thead>\n",
       "  <tbody>\n",
       "    <tr>\n",
       "      <th>1244</th>\n",
       "      <td>1245.0</td>\n",
       "      <td>B00002Z754</td>\n",
       "      <td>A29Z5PI9BW2PU3</td>\n",
       "      <td>Robbie</td>\n",
       "      <td>7.0</td>\n",
       "      <td>7.0</td>\n",
       "      <td>positive</td>\n",
       "      <td>2000-06-23</td>\n",
       "      <td>Great Product</td>\n",
       "      <td>This was a really good idea and the final prod...</td>\n",
       "      <td>realli good idea final product outstand use de...</td>\n",
       "      <td>4</td>\n",
       "      <td>6</td>\n",
       "      <td>2</td>\n",
       "    </tr>\n",
       "    <tr>\n",
       "      <th>1243</th>\n",
       "      <td>1244.0</td>\n",
       "      <td>B00002Z754</td>\n",
       "      <td>A3B8RCEI0FXFI6</td>\n",
       "      <td>B G Chase</td>\n",
       "      <td>10.0</td>\n",
       "      <td>10.0</td>\n",
       "      <td>positive</td>\n",
       "      <td>2000-06-29</td>\n",
       "      <td>WOW Make your own 'slickers' !</td>\n",
       "      <td>I just received my shipment and could hardly w...</td>\n",
       "      <td>receiv shipment could hard wait tri product lo...</td>\n",
       "      <td>4</td>\n",
       "      <td>6</td>\n",
       "      <td>2</td>\n",
       "    </tr>\n",
       "  </tbody>\n",
       "</table>\n",
       "</div>"
      ],
      "text/plain": [
       "          Id   ProductId          UserId ProfileName  HelpfulnessNumerator  \\\n",
       "1244  1245.0  B00002Z754  A29Z5PI9BW2PU3      Robbie                   7.0   \n",
       "1243  1244.0  B00002Z754  A3B8RCEI0FXFI6   B G Chase                  10.0   \n",
       "\n",
       "      HelpfulnessDenominator     Score       Time  \\\n",
       "1244                     7.0  positive 2000-06-23   \n",
       "1243                    10.0  positive 2000-06-29   \n",
       "\n",
       "                             Summary  \\\n",
       "1244                   Great Product   \n",
       "1243  WOW Make your own 'slickers' !   \n",
       "\n",
       "                                                   Text  \\\n",
       "1244  This was a really good idea and the final prod...   \n",
       "1243  I just received my shipment and could hardly w...   \n",
       "\n",
       "                                            CleanedText  Bow Clus Label  \\\n",
       "1244  realli good idea final product outstand use de...               4   \n",
       "1243  receiv shipment could hard wait tri product lo...               4   \n",
       "\n",
       "      Tfidf Clus Label  AVG-W2V Clus Label  \n",
       "1244                 6                   2  \n",
       "1243                 6                   2  "
      ]
     },
     "execution_count": 76,
     "metadata": {},
     "output_type": "execute_result"
    }
   ],
   "source": [
    "# Giving Labels/assigning a cluster to each point/text \n",
    "aggdfa = dfdb\n",
    "aggdfa['AVG-W2V Clus Label'] = cluster.labels_\n",
    "aggdfa.head(2)"
   ]
  },
  {
   "cell_type": "code",
   "execution_count": 77,
   "metadata": {
    "_uuid": "a924da52203bdf881f4407e2a24b096cea4fbfad"
   },
   "outputs": [
    {
     "data": {
      "text/plain": [
       "AVG-W2V Clus Label\n",
       "0    1065\n",
       "1    1169\n",
       "2    1933\n",
       "3     414\n",
       "4     404\n",
       "Name: Text, dtype: int64"
      ]
     },
     "execution_count": 77,
     "metadata": {},
     "output_type": "execute_result"
    }
   ],
   "source": [
    "# How many points belong to each cluster ->\n",
    "aggdfa.groupby(['AVG-W2V Clus Label'])['Text'].count()"
   ]
  },
  {
   "cell_type": "code",
   "execution_count": 78,
   "metadata": {
    "_uuid": "99ca1966abd463b71c3414d021a385256a4d20f6"
   },
   "outputs": [
    {
     "name": "stdout",
     "output_type": "stream",
     "text": [
      "2 reviews of assigned to cluster  0\n",
      "----------------------------------------------------------------------\n",
      "They are OK, but my husband only eats them when we are in car. We keep them there for a celiac snack. (Hard to find when roaming around.) He won't eat them otherwise. They are definitely raspberry, but are kind of dry.<br />  We have never tried any other snack bars, so in all honesty they may be the norm. I don't know.<br />  We DO like Enjoy Life's other products.<br />  They are GF, have no MSG or related products or aspartates.\n",
      "\n",
      "\n",
      "the pop chips are really incredible. They are very flavorful and crispy. My Favorite is the BBQ, but that is just me, they are all good. I would highly recommend these to anyone who is watching their weight of just for overall better health.\n",
      "\n",
      "\n",
      "______________________________________________________________________\n",
      "2 reviews of assigned to cluster  1\n",
      "----------------------------------------------------------------------\n",
      "I love this stuff.  I put it over chicken and even steaks.  It's very sweet, and just a bit spicy.  Just a little goes a long way.\n",
      "\n",
      "\n",
      "This stuff makes great pancakes and shortcake that I am actually allowed to eat!<br />My doctor tells me I'm celiac- this was three years ago now. I just hope I can continue to find this Bisquick!\n",
      "\n",
      "\n",
      "______________________________________________________________________\n",
      "2 reviews of assigned to cluster  2\n",
      "----------------------------------------------------------------------\n",
      "I have tried many bread machine mixes and most have been okay but this one rates an \"excellent\" because not only is it a very good basic loaf, it also works very well with additives, either prepared entirely in the bread machine, or (after the second rise) removed from the machine, shaped and baked on a stone in the oven.<br />Stretched and flattened with a filling of either savory or sweet ingredients, then rolled and set to rise and then bake in a loaf pan, it produced excellent herb and onion bread, cinnamon raisin bread and a brown butter and seed bread.<br />I buy it via the subscribe-and-save plan as I use it often.\n",
      "\n",
      "\n",
      "I have a 2 year old Portuguese Water Dog who always seemed to have a sensitive stomach, and a 15 year old Shepherd X dog who was beginning to lose weight, she slept almost all the time, and she was getting very fussy about what she'd eat. (I believe that with a dogs sense of smell they KNOW exactly what is in their food; however they have no choice but to eat what we feed them...just Google what is in most commercial dog foods, and you'll see why your dog may not be thrilled to eat it up...if a dog can detect cancer in a person, they can detect all sorts of other things that aren't supposed to be eaten.) Anyway...I used to feed Purina lamb and rice to my dogs, but I was finding my young Porty was having trouble with it, and my 15 yr old would eat a few bits and then leave her dish. So, I started making their food, and came up with a wonderfully nutritious and tasty recipe. The dogs loved my homemade dog food, and my 15 yr old began putting on weight again, but I didn't always have time to make their food. And, homemade dog food is kind of hard on the wallet. So, I started to research all the natural dog foods out there, compare costs etc. I arrived on Harmony Farms, and guess what...my dogs LOVE it just as much as they love my home made dog food. My young Porty no longer has stomach troubles and she looks great; my 15 yr old finishes her meals and looks for more. Both have shiny coats and energy. No one can believe my old girl is 15 years old. I have told my friends about Harmony Farms dog food, and when they've switched over, they've reported similar positive results. My brother-in-law's dog had always been a very fussy eater, and had skin problems with a thinning coat. When they started to feed her Harmony Farms, she became an eager eater, more happy and outgoing, and her skin and coat condition has completely cleared up (...I'm thinking she had an allergy to whatever was in her other food, which I think was Iams). Other friends have commented on how happy their dogs are at meal time now...and they had all been feeding their dogs premium, top of the line dogs foods AND paying top of the line prices. Harmony Farms products are very reasonably priced. Not the cheapest dog food on the shelf, but, in my opinion, you are buying the best quality food on the market, so it's an incredibly GOOD DEAL! It may also mean you make fewer trips to the veterinarian's office. I and my friends are so happy we have found this food for our dogs. :)\n",
      "\n",
      "\n",
      "______________________________________________________________________\n",
      "2 reviews of assigned to cluster  3\n",
      "----------------------------------------------------------------------\n",
      "Cutting sugar out of our diet,we went to splenda. Then finding that it was also unhealthy and baking with it made foods flat and dry. We went to stevia no calorie powder, after much research proved that stevia has been used for hundreds of years with no bad health effects. The trick to using stevia is to use tiny amounts and then taste it and add a bit more at a time to suit your taste. I also found that using a stevia that has an 80% ratio is the best tasting and this is the best that I have found. Because of using VERY SMALL amounts this jar lasts for months. This is also the best price ANYWHERE! Swanson is a trusted vendor as is Amazon.\n",
      "\n",
      "\n",
      "these chips tatse great, and the serving size is good. we especially liked the variety pack with six flavors\n",
      "\n",
      "\n",
      "______________________________________________________________________\n",
      "2 reviews of assigned to cluster  4\n",
      "----------------------------------------------------------------------\n",
      "I love these treats for my two german shepherds. I think these treats are great for even large size dogs. My dogs absolutely go crazy for them, and they are only 3 calories per treat, perfect for training sessions. I also love the texture of them... you can put them in your pocket without a ton of flaking or gross smell. This product also has a simplified ingredient list... opposed to so many other dog treats out there. You can pronounce all the ingredients in the list and you know what they are getting.\n",
      "\n",
      "\n",
      "Stonewall Kitchen products are a big favorite at our house.  This pancake mix makes the best pancakes you will ever eat.  We add fresh blueberries to them, and top them with the Stonewall Blueberry Syrup, which you can buy on their website.  They make wonderful jams and jellies too, as well as sauces, and flavored syrups.  Try this pancake mix though, you won't be disappointed!\n",
      "\n",
      "\n",
      "______________________________________________________________________\n"
     ]
    }
   ],
   "source": [
    "# Reading a review which belong to each group.\n",
    "for i in range(5):\n",
    "    print(\"2 reviews of assigned to cluster \", i)\n",
    "    print(\"-\" * 70)\n",
    "    print(aggdfa.iloc[aggdfa.groupby(['AVG-W2V Clus Label']).groups[i][0]]['Text'])\n",
    "    print('\\n')\n",
    "    print(aggdfa.iloc[aggdfa.groupby(['AVG-W2V Clus Label']).groups[i][1]]['Text'])\n",
    "    print('\\n')\n",
    "    print(\"_\" * 70)"
   ]
  },
  {
   "cell_type": "markdown",
   "metadata": {
    "_uuid": "f2c967368d64ef3dd1a595864d36877cdbca8e65"
   },
   "source": [
    "# Conclusion\n",
    "Kmeans for bag of words and TFIDF\n",
    "1. By using Elbow method, we generated optimal 10 clusters for both the bag of words and tfidf techniques\n",
    "2. In both the cases, one cluster accounts around 6000 reviews which is large chunk from 10k reviews and rest are distributed unevenly\n",
    "3. we can ignore 2 clusters or keep 2 clusters depending upon the business goal for bag of words generation as both contain only 1 review\n",
    "\n",
    "Final Observations:\n",
    "\n",
    "FOR TFIDF K means is best for identification than K MEANS for BOW, all the clusters are clearly refelcting they were grouped based on the categories/products. However, K means did best on the cluster centers top terms but however when we caopare reviews , few places it is not correalting.\n",
    "\n",
    "DBSCAN is very poorly performining on the 10k columns as it is grouping all reviews in one cluster\n",
    "\n",
    "Hierarchical, for BOW and TFIDF, we cannot identify the clusters and not divded unevenly, but for avg word to vectors all are grouped and divided evenly. It is very difficult to identify the type of reveiws based on Hirarchial formation.\n",
    "\n",
    "\n",
    "\n"
   ]
  },
  {
   "cell_type": "code",
   "execution_count": null,
   "metadata": {},
   "outputs": [],
   "source": []
  }
 ],
 "metadata": {
  "kernelspec": {
   "display_name": "Python 3",
   "language": "python",
   "name": "python3"
  },
  "language_info": {
   "codemirror_mode": {
    "name": "ipython",
    "version": 3
   },
   "file_extension": ".py",
   "mimetype": "text/x-python",
   "name": "python",
   "nbconvert_exporter": "python",
   "pygments_lexer": "ipython3",
   "version": "3.8.5"
  }
 },
 "nbformat": 4,
 "nbformat_minor": 4
}
