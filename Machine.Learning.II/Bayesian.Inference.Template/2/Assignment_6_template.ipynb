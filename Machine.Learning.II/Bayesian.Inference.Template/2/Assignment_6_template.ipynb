{
 "cells": [
  {
   "cell_type": "markdown",
   "metadata": {},
   "source": [
    "#### Functions for Regression Model"
   ]
  },
  {
   "cell_type": "code",
   "execution_count": 9,
   "metadata": {},
   "outputs": [],
   "source": [
    "def regmodel(x,y):\n",
    "    \n",
    "    import pymc3 as pm\n",
    "    import arviz as az\n",
    "    \n",
    "    import os\n",
    "    import sys\n",
    "    import glob\n",
    "    import matplotlib.pyplot as plt\n",
    "    import numpy as np\n",
    "    import pandas as pd\n",
    "   # np.random.seed(1234)\n",
    "    import pymc3 as pm\n",
    "    import scipy.stats as stats\n",
    "    with pm.Model() as model:\n",
    "        # define priors\n",
    "        a = pm.Normal('slope', 0, 16)\n",
    "        b = pm.Normal('intercept', 0, 16)\n",
    "        s = pm.Exponential('error', 1)\n",
    "\n",
    "        # predictions\n",
    "        obs = pm.Normal('observation', a*x + b, s, observed=y)\n",
    "\n",
    "        # use MCMC to sample\n",
    "        trace = pm.sample(return_inferencedata=True)\n",
    "        pm.traceplot(trace);\n",
    "        print(pm.summary(trace))\n",
    "        map_estimate = pm.find_MAP(model=model)\n",
    "        print(map_estimate)\n",
    "    az.plot_posterior(trace)\n",
    "    return model,trace\n"
   ]
  },
  {
   "cell_type": "code",
   "execution_count": 12,
   "metadata": {},
   "outputs": [],
   "source": [
    "def ppc(prior,model,trace,*var_names):\n",
    "    import pymc3 as pm\n",
    "    import arviz as az\n",
    "    \n",
    "    import os\n",
    "    import sys\n",
    "    import glob\n",
    "    import matplotlib.pyplot as plt\n",
    "    import numpy as np\n",
    "    import pandas as pd\n",
    "   # np.random.seed(1234)\n",
    "    import pymc3 as pm\n",
    "    import scipy.stats as stats\n",
    "    varss=[]\n",
    "    for i in var_names:\n",
    "        varss.append(i)\n",
    "    RANDOM_SEED = 58\n",
    "    with model:\n",
    "        ppc = pm.sample_posterior_predictive(\n",
    "            trace, var_names=varss, random_seed=RANDOM_SEED\n",
    "        )\n",
    "    az.plot_ppc(az.from_pymc3(prior=prior,posterior_predictive=ppc, model=model))\n",
    "    return ppc"
   ]
  },
  {
   "cell_type": "code",
   "execution_count": 11,
   "metadata": {},
   "outputs": [],
   "source": [
    "def priorpc(model):\n",
    "    import pymc3 as pm\n",
    "    import arviz as az\n",
    "    \n",
    "    import os\n",
    "    import sys\n",
    "    import glob\n",
    "    import matplotlib.pyplot as plt\n",
    "    import numpy as np\n",
    "    import pandas as pd\n",
    "   # np.random.seed(1234)\n",
    "    import pymc3 as pm\n",
    "    import scipy.stats as stats\n",
    "    prior = pm.sample_prior_predictive(model=model)\n",
    "    _, ax = plt.subplots()\n",
    "\n",
    "    x = np.linspace(-2, 2, 50)\n",
    "\n",
    "    for a, b in zip(prior[\"slope\"], prior[\"intercept\"]):\n",
    "        y = a + b * x\n",
    "        ax.plot(x, y, c=\"k\", alpha=0.4)\n",
    "\n",
    "    ax.set_xlabel(\"Predictor (stdz)\")\n",
    "    ax.set_ylabel(\"Mean Outcome (stdz)\")\n",
    "    ax.set_title(\"Prior predictive checks -- Flat priors\")\n",
    "    return prior"
   ]
  },
  {
   "cell_type": "code",
   "execution_count": null,
   "metadata": {},
   "outputs": [],
   "source": []
  }
 ],
 "metadata": {
  "kernelspec": {
   "display_name": "Python 3 (ipykernel)",
   "language": "python",
   "name": "python3"
  },
  "language_info": {
   "codemirror_mode": {
    "name": "ipython",
    "version": 3
   },
   "file_extension": ".py",
   "mimetype": "text/x-python",
   "name": "python",
   "nbconvert_exporter": "python",
   "pygments_lexer": "ipython3",
   "version": "3.7.11"
  }
 },
 "nbformat": 4,
 "nbformat_minor": 2
}
