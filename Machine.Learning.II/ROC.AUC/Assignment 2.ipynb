{
 "cells": [
  {
   "cell_type": "markdown",
   "metadata": {},
   "source": [
    "A receiver operating characteristic curve(ROC), is a graphical plot that illustrates the diagnostic ability of a binary classifier system as its discrimination threshold is varied. "
   ]
  },
  {
   "cell_type": "markdown",
   "metadata": {},
   "source": [
    "This diagnostic ability is represented by the True Positive Rate (TPR) and False Positive Rate (FPR)."
   ]
  },
  {
   "cell_type": "markdown",
   "metadata": {},
   "source": [
    "Area Under the Curve (AUC) is the entire 2D area spanned by the ROC curve.AUC provides an aggregate measure of performance across all possible classification thresholds"
   ]
  },
  {
   "cell_type": "code",
   "execution_count": 1,
   "metadata": {},
   "outputs": [],
   "source": [
    "import numpy as np\n",
    "import pandas as pd\n",
    "from sklearn.linear_model import LogisticRegression\n",
    "from sklearn.metrics import roc_curve, plot_roc_curve\n",
    "import matplotlib.pyplot as plt\n",
    "import seaborn as sns\n",
    "import plotly.express as px\n",
    "sns.set(palette='rainbow', context='talk')"
   ]
  },
  {
   "cell_type": "code",
   "execution_count": 13,
   "metadata": {},
   "outputs": [
    {
     "name": "stdout",
     "output_type": "stream",
     "text": [
      "Collecting drawdata\n",
      "  Downloading https://files.pythonhosted.org/packages/f7/e6/538faee79cccf5449474a68f930da9ff4e8d8e444fc198b45e138562b5b3/drawdata-0.2.0-py2.py3-none-any.whl\n",
      "Collecting ipython>=7.16.1 (from drawdata)\n",
      "  Downloading https://files.pythonhosted.org/packages/50/b1/618daafee1bbc6e7e9dceb105eca919ca8eceeeda8b80282e25d416df39b/ipython-7.27.0-py3-none-any.whl (787kB)\n",
      "Requirement already satisfied: jupyter>=1.0.0 in e:\\programdata\\anaconda3\\lib\\site-packages (from drawdata) (1.0.0)\n",
      "Requirement already satisfied: prompt-toolkit!=3.0.0,!=3.0.1,<3.1.0,>=2.0.0 in e:\\programdata\\anaconda3\\lib\\site-packages (from ipython>=7.16.1->drawdata) (2.0.10)\n",
      "Requirement already satisfied: decorator in e:\\programdata\\anaconda3\\lib\\site-packages (from ipython>=7.16.1->drawdata) (4.4.0)\n",
      "Requirement already satisfied: pickleshare in e:\\programdata\\anaconda3\\lib\\site-packages (from ipython>=7.16.1->drawdata) (0.7.5)\n",
      "Requirement already satisfied: traitlets>=4.2 in e:\\programdata\\anaconda3\\lib\\site-packages (from ipython>=7.16.1->drawdata) (4.3.3)\n",
      "Requirement already satisfied: backcall in e:\\programdata\\anaconda3\\lib\\site-packages (from ipython>=7.16.1->drawdata) (0.1.0)\n",
      "Collecting jedi>=0.16 (from ipython>=7.16.1->drawdata)\n",
      "  Downloading https://files.pythonhosted.org/packages/f9/36/7aa67ae2663025b49e8426ead0bad983fee1b73f472536e9790655da0277/jedi-0.18.0-py2.py3-none-any.whl (1.4MB)\n",
      "Requirement already satisfied: setuptools>=18.5 in e:\\programdata\\anaconda3\\lib\\site-packages (from ipython>=7.16.1->drawdata) (41.4.0)\n",
      "Collecting matplotlib-inline (from ipython>=7.16.1->drawdata)\n",
      "  Downloading https://files.pythonhosted.org/packages/a6/2d/2230afd570c70074e80fd06857ba2bdc5f10c055bd9125665fe276fadb67/matplotlib_inline-0.1.3-py3-none-any.whl\n",
      "Requirement already satisfied: pygments in e:\\programdata\\anaconda3\\lib\\site-packages (from ipython>=7.16.1->drawdata) (2.4.2)\n",
      "Requirement already satisfied: colorama; sys_platform == \"win32\" in e:\\programdata\\anaconda3\\lib\\site-packages (from ipython>=7.16.1->drawdata) (0.4.1)\n",
      "Requirement already satisfied: ipykernel in e:\\programdata\\anaconda3\\lib\\site-packages (from jupyter>=1.0.0->drawdata) (5.1.2)\n",
      "Requirement already satisfied: ipywidgets in e:\\programdata\\anaconda3\\lib\\site-packages (from jupyter>=1.0.0->drawdata) (7.5.1)\n",
      "Requirement already satisfied: notebook in e:\\programdata\\anaconda3\\lib\\site-packages (from jupyter>=1.0.0->drawdata) (6.0.1)\n",
      "Requirement already satisfied: jupyter-console in e:\\programdata\\anaconda3\\lib\\site-packages (from jupyter>=1.0.0->drawdata) (6.0.0)\n",
      "Requirement already satisfied: nbconvert in e:\\programdata\\anaconda3\\lib\\site-packages (from jupyter>=1.0.0->drawdata) (5.6.0)\n",
      "Requirement already satisfied: qtconsole in e:\\programdata\\anaconda3\\lib\\site-packages (from jupyter>=1.0.0->drawdata) (4.5.5)\n",
      "Requirement already satisfied: six>=1.9.0 in e:\\programdata\\anaconda3\\lib\\site-packages (from prompt-toolkit!=3.0.0,!=3.0.1,<3.1.0,>=2.0.0->ipython>=7.16.1->drawdata) (1.12.0)\n",
      "Requirement already satisfied: wcwidth in e:\\programdata\\anaconda3\\lib\\site-packages (from prompt-toolkit!=3.0.0,!=3.0.1,<3.1.0,>=2.0.0->ipython>=7.16.1->drawdata) (0.1.7)\n",
      "Requirement already satisfied: ipython-genutils in e:\\programdata\\anaconda3\\lib\\site-packages (from traitlets>=4.2->ipython>=7.16.1->drawdata) (0.2.0)\n",
      "Collecting parso<0.9.0,>=0.8.0 (from jedi>=0.16->ipython>=7.16.1->drawdata)\n",
      "  Downloading https://files.pythonhosted.org/packages/a9/c4/d5476373088c120ffed82f34c74b266ccae31a68d665b837354d4d8dc8be/parso-0.8.2-py2.py3-none-any.whl (94kB)\n",
      "Requirement already satisfied: tornado>=4.2 in e:\\programdata\\anaconda3\\lib\\site-packages (from ipykernel->jupyter>=1.0.0->drawdata) (6.0.3)\n",
      "Requirement already satisfied: jupyter-client in e:\\programdata\\anaconda3\\lib\\site-packages (from ipykernel->jupyter>=1.0.0->drawdata) (5.3.3)\n",
      "Requirement already satisfied: nbformat>=4.2.0 in e:\\programdata\\anaconda3\\lib\\site-packages (from ipywidgets->jupyter>=1.0.0->drawdata) (4.4.0)\n",
      "Requirement already satisfied: widgetsnbextension~=3.5.0 in e:\\programdata\\anaconda3\\lib\\site-packages (from ipywidgets->jupyter>=1.0.0->drawdata) (3.5.1)\n",
      "Requirement already satisfied: pyzmq>=17 in e:\\programdata\\anaconda3\\lib\\site-packages (from notebook->jupyter>=1.0.0->drawdata) (18.1.0)\n",
      "Requirement already satisfied: jinja2 in e:\\programdata\\anaconda3\\lib\\site-packages (from notebook->jupyter>=1.0.0->drawdata) (2.10.3)\n",
      "Requirement already satisfied: jupyter-core>=4.4.0 in e:\\programdata\\anaconda3\\lib\\site-packages (from notebook->jupyter>=1.0.0->drawdata) (4.5.0)\n",
      "Requirement already satisfied: Send2Trash in e:\\programdata\\anaconda3\\lib\\site-packages (from notebook->jupyter>=1.0.0->drawdata) (1.5.0)\n",
      "Requirement already satisfied: prometheus-client in e:\\programdata\\anaconda3\\lib\\site-packages (from notebook->jupyter>=1.0.0->drawdata) (0.7.1)\n",
      "Requirement already satisfied: terminado>=0.8.1 in e:\\programdata\\anaconda3\\lib\\site-packages (from notebook->jupyter>=1.0.0->drawdata) (0.8.2)\n",
      "Requirement already satisfied: defusedxml in e:\\programdata\\anaconda3\\lib\\site-packages (from nbconvert->jupyter>=1.0.0->drawdata) (0.6.0)\n",
      "Requirement already satisfied: entrypoints>=0.2.2 in e:\\programdata\\anaconda3\\lib\\site-packages (from nbconvert->jupyter>=1.0.0->drawdata) (0.3)\n",
      "Requirement already satisfied: bleach in e:\\programdata\\anaconda3\\lib\\site-packages (from nbconvert->jupyter>=1.0.0->drawdata) (3.1.0)\n",
      "Requirement already satisfied: pandocfilters>=1.4.1 in e:\\programdata\\anaconda3\\lib\\site-packages (from nbconvert->jupyter>=1.0.0->drawdata) (1.4.2)\n",
      "Requirement already satisfied: testpath in e:\\programdata\\anaconda3\\lib\\site-packages (from nbconvert->jupyter>=1.0.0->drawdata) (0.4.2)\n",
      "Requirement already satisfied: mistune<2,>=0.8.1 in e:\\programdata\\anaconda3\\lib\\site-packages (from nbconvert->jupyter>=1.0.0->drawdata) (0.8.4)\n",
      "Requirement already satisfied: pywin32>=1.0; sys_platform == \"win32\" in e:\\programdata\\anaconda3\\lib\\site-packages (from jupyter-client->ipykernel->jupyter>=1.0.0->drawdata) (223)\n",
      "Requirement already satisfied: python-dateutil>=2.1 in e:\\programdata\\anaconda3\\lib\\site-packages (from jupyter-client->ipykernel->jupyter>=1.0.0->drawdata) (2.8.0)\n",
      "Requirement already satisfied: jsonschema!=2.5.0,>=2.4 in e:\\programdata\\anaconda3\\lib\\site-packages (from nbformat>=4.2.0->ipywidgets->jupyter>=1.0.0->drawdata) (3.0.2)\n",
      "Requirement already satisfied: MarkupSafe>=0.23 in e:\\programdata\\anaconda3\\lib\\site-packages (from jinja2->notebook->jupyter>=1.0.0->drawdata) (1.1.1)\n",
      "Requirement already satisfied: webencodings in e:\\programdata\\anaconda3\\lib\\site-packages (from bleach->nbconvert->jupyter>=1.0.0->drawdata) (0.5.1)\n",
      "Requirement already satisfied: attrs>=17.4.0 in e:\\programdata\\anaconda3\\lib\\site-packages (from jsonschema!=2.5.0,>=2.4->nbformat>=4.2.0->ipywidgets->jupyter>=1.0.0->drawdata) (19.2.0)\n",
      "Requirement already satisfied: pyrsistent>=0.14.0 in e:\\programdata\\anaconda3\\lib\\site-packages (from jsonschema!=2.5.0,>=2.4->nbformat>=4.2.0->ipywidgets->jupyter>=1.0.0->drawdata) (0.15.4)\n",
      "Installing collected packages: parso, jedi, matplotlib-inline, ipython, drawdata\n",
      "  Found existing installation: parso 0.5.1\n",
      "    Uninstalling parso-0.5.1:\n",
      "      Successfully uninstalled parso-0.5.1\n",
      "  Found existing installation: jedi 0.15.1\n",
      "    Uninstalling jedi-0.15.1:\n",
      "      Successfully uninstalled jedi-0.15.1\n",
      "  Found existing installation: ipython 7.8.0\n",
      "    Uninstalling ipython-7.8.0:\n",
      "      Successfully uninstalled ipython-7.8.0\n",
      "Successfully installed drawdata-0.2.0 ipython-7.27.0 jedi-0.18.0 matplotlib-inline-0.1.3 parso-0.8.2\n",
      "Note: you may need to restart the kernel to use updated packages.\n"
     ]
    },
    {
     "name": "stderr",
     "output_type": "stream",
     "text": [
      "ERROR: spyder 3.3.6 requires pyqt5<5.13; python_version >= \"3\", which is not installed.\n",
      "ERROR: spyder 3.3.6 requires pyqtwebengine<5.13; python_version >= \"3\", which is not installed.\n"
     ]
    }
   ],
   "source": [
    "pip install drawdata"
   ]
  },
  {
   "cell_type": "code",
   "execution_count": 2,
   "metadata": {},
   "outputs": [],
   "source": [
    "from drawdata import draw_scatter\n",
    "import pandas as pd\n",
    "from sklearn.model_selection import train_test_split\n",
    "from sklearn.linear_model import LogisticRegression\n",
    "from sklearn.metrics import accuracy_score, precision_recall_curve,precision_score, plot_roc_curve"
   ]
  },
  {
   "cell_type": "markdown",
   "metadata": {},
   "source": [
    "The drawdata library has been used to generate a dataset for this task. The target variable is binary in nature."
   ]
  },
  {
   "cell_type": "code",
   "execution_count": 3,
   "metadata": {
    "scrolled": false
   },
   "outputs": [
    {
     "data": {
      "text/html": [
       "\n",
       "        <iframe\n",
       "            width=\"800\"\n",
       "            height=\"550\"\n",
       "            src=\"https://drawdata.xyz/scatter.html\"\n",
       "            frameborder=\"0\"\n",
       "            allowfullscreen\n",
       "        ></iframe>\n",
       "        "
      ],
      "text/plain": [
       "<IPython.lib.display.IFrame at 0x22c93336608>"
      ]
     },
     "execution_count": 3,
     "metadata": {},
     "output_type": "execute_result"
    }
   ],
   "source": [
    "draw_scatter()\n"
   ]
  },
  {
   "cell_type": "code",
   "execution_count": 2,
   "metadata": {},
   "outputs": [],
   "source": [
    "df = pd.read_csv(\"./data.csv\")\n"
   ]
  },
  {
   "cell_type": "code",
   "execution_count": 3,
   "metadata": {},
   "outputs": [
    {
     "data": {
      "text/html": [
       "<div>\n",
       "<style scoped>\n",
       "    .dataframe tbody tr th:only-of-type {\n",
       "        vertical-align: middle;\n",
       "    }\n",
       "\n",
       "    .dataframe tbody tr th {\n",
       "        vertical-align: top;\n",
       "    }\n",
       "\n",
       "    .dataframe thead th {\n",
       "        text-align: right;\n",
       "    }\n",
       "</style>\n",
       "<table border=\"1\" class=\"dataframe\">\n",
       "  <thead>\n",
       "    <tr style=\"text-align: right;\">\n",
       "      <th></th>\n",
       "      <th>x</th>\n",
       "      <th>y</th>\n",
       "      <th>z</th>\n",
       "    </tr>\n",
       "  </thead>\n",
       "  <tbody>\n",
       "    <tr>\n",
       "      <td>0</td>\n",
       "      <td>393.3645</td>\n",
       "      <td>440.6560</td>\n",
       "      <td>a</td>\n",
       "    </tr>\n",
       "    <tr>\n",
       "      <td>1</td>\n",
       "      <td>346.8681</td>\n",
       "      <td>400.9283</td>\n",
       "      <td>a</td>\n",
       "    </tr>\n",
       "    <tr>\n",
       "      <td>2</td>\n",
       "      <td>345.5804</td>\n",
       "      <td>416.0991</td>\n",
       "      <td>a</td>\n",
       "    </tr>\n",
       "    <tr>\n",
       "      <td>3</td>\n",
       "      <td>314.0309</td>\n",
       "      <td>437.9480</td>\n",
       "      <td>a</td>\n",
       "    </tr>\n",
       "    <tr>\n",
       "      <td>4</td>\n",
       "      <td>272.6155</td>\n",
       "      <td>441.5795</td>\n",
       "      <td>a</td>\n",
       "    </tr>\n",
       "    <tr>\n",
       "      <td>...</td>\n",
       "      <td>...</td>\n",
       "      <td>...</td>\n",
       "      <td>...</td>\n",
       "    </tr>\n",
       "    <tr>\n",
       "      <td>287</td>\n",
       "      <td>162.0116</td>\n",
       "      <td>332.8159</td>\n",
       "      <td>b</td>\n",
       "    </tr>\n",
       "    <tr>\n",
       "      <td>288</td>\n",
       "      <td>181.5661</td>\n",
       "      <td>354.3031</td>\n",
       "      <td>b</td>\n",
       "    </tr>\n",
       "    <tr>\n",
       "      <td>289</td>\n",
       "      <td>189.6132</td>\n",
       "      <td>362.8839</td>\n",
       "      <td>b</td>\n",
       "    </tr>\n",
       "    <tr>\n",
       "      <td>290</td>\n",
       "      <td>186.3950</td>\n",
       "      <td>363.9326</td>\n",
       "      <td>b</td>\n",
       "    </tr>\n",
       "    <tr>\n",
       "      <td>291</td>\n",
       "      <td>151.5647</td>\n",
       "      <td>315.8447</td>\n",
       "      <td>b</td>\n",
       "    </tr>\n",
       "  </tbody>\n",
       "</table>\n",
       "<p>292 rows × 3 columns</p>\n",
       "</div>"
      ],
      "text/plain": [
       "           x        y  z\n",
       "0   393.3645 440.6560  a\n",
       "1   346.8681 400.9283  a\n",
       "2   345.5804 416.0991  a\n",
       "3   314.0309 437.9480  a\n",
       "4   272.6155 441.5795  a\n",
       "..       ...      ... ..\n",
       "287 162.0116 332.8159  b\n",
       "288 181.5661 354.3031  b\n",
       "289 189.6132 362.8839  b\n",
       "290 186.3950 363.9326  b\n",
       "291 151.5647 315.8447  b\n",
       "\n",
       "[292 rows x 3 columns]"
      ]
     },
     "execution_count": 3,
     "metadata": {},
     "output_type": "execute_result"
    }
   ],
   "source": [
    "df"
   ]
  },
  {
   "cell_type": "code",
   "execution_count": 4,
   "metadata": {},
   "outputs": [
    {
     "name": "stderr",
     "output_type": "stream",
     "text": [
      "E:\\ProgramData\\Anaconda3\\lib\\site-packages\\pandas\\core\\indexing.py:205: SettingWithCopyWarning:\n",
      "\n",
      "\n",
      "A value is trying to be set on a copy of a slice from a DataFrame\n",
      "\n",
      "See the caveats in the documentation: http://pandas.pydata.org/pandas-docs/stable/user_guide/indexing.html#returning-a-view-versus-a-copy\n",
      "\n"
     ]
    }
   ],
   "source": [
    "df['z'].loc[df['z']=='a']=0\n",
    "df['z'].loc[df['z']=='b']=1"
   ]
  },
  {
   "cell_type": "code",
   "execution_count": 5,
   "metadata": {},
   "outputs": [],
   "source": [
    "from sklearn.model_selection import train_test_split\n",
    "X=df[['x','y']]\n",
    "y=df['z']\n",
    "X_train, X_test, y_train, y_test = train_test_split(X, y, test_size=0.3, random_state=27)#30% test data\n"
   ]
  },
  {
   "cell_type": "code",
   "execution_count": 6,
   "metadata": {},
   "outputs": [],
   "source": [
    "from sklearn.linear_model import LogisticRegression\n",
    "lr=LogisticRegression()\n",
    "lr.fit(X_train,y_train)\n",
    "ypred_prob=lr.predict_proba(X_test)[:,1]\n"
   ]
  },
  {
   "cell_type": "code",
   "execution_count": 7,
   "metadata": {},
   "outputs": [
    {
     "data": {
      "text/plain": [
       "array([0.2180862 , 0.16403832, 0.65406954, 0.05062182, 0.33437513,\n",
       "       0.31198275, 0.06203216, 0.62999975, 0.95017847, 0.11376   ,\n",
       "       0.94399834, 0.49591212, 0.48817412, 0.27223394, 0.04527111,\n",
       "       0.77404235, 0.76826887, 0.44247426, 0.65966286, 0.17546902,\n",
       "       0.11507977, 0.37943748, 0.73120055, 0.97866379, 0.46330659,\n",
       "       0.25249767, 0.18147698, 0.15623988, 0.35550534, 0.88500679,\n",
       "       0.06218244, 0.09344177, 0.10648064, 0.12109094, 0.70423538,\n",
       "       0.63909554, 0.11436526, 0.56362074, 0.88972426, 0.64002583,\n",
       "       0.27223878, 0.96098773, 0.07973709, 0.06459732, 0.0560486 ,\n",
       "       0.94688643, 0.5299175 , 0.73387013, 0.11883595, 0.86988114,\n",
       "       0.1058814 , 0.15786373, 0.02099533, 0.8591572 , 0.03256306,\n",
       "       0.18858343, 0.78264607, 0.46542549, 0.11570155, 0.89403782,\n",
       "       0.58892992, 0.30061057, 0.35862044, 0.38729285, 0.36618761,\n",
       "       0.88028829, 0.97443328, 0.13796599, 0.52414264, 0.1759797 ,\n",
       "       0.36794889, 0.96486547, 0.05045189, 0.54724425, 0.27522858,\n",
       "       0.82856365, 0.411145  , 0.57138021, 0.78183682, 0.48460912,\n",
       "       0.25627948, 0.91530443, 0.19552605, 0.72745249, 0.04997453,\n",
       "       0.95734379, 0.78881088, 0.36318202])"
      ]
     },
     "execution_count": 7,
     "metadata": {},
     "output_type": "execute_result"
    }
   ],
   "source": [
    "ypred_prob#Probabilties obtained as a result of logistic function"
   ]
  },
  {
   "cell_type": "code",
   "execution_count": 8,
   "metadata": {},
   "outputs": [],
   "source": [
    "from sklearn.metrics import roc_curve\n",
    "\n",
    "# roc curve for models\n",
    "fpr, tpr, thresh = roc_curve(y_test, ypred_prob, pos_label=1)"
   ]
  },
  {
   "cell_type": "markdown",
   "metadata": {},
   "source": [
    "Fpr,Tpr and thresholds have been extracted using the built in roc_curve"
   ]
  },
  {
   "cell_type": "code",
   "execution_count": 9,
   "metadata": {},
   "outputs": [
    {
     "data": {
      "text/plain": [
       "array([0.        , 0.02325581, 0.44186047, 0.44186047, 0.48837209,\n",
       "       0.48837209, 0.53488372, 0.53488372, 0.58139535, 0.58139535,\n",
       "       0.69767442, 0.69767442, 0.72093023, 0.72093023, 0.74418605,\n",
       "       0.74418605, 0.76744186, 0.76744186, 0.88372093, 0.88372093,\n",
       "       0.93023256, 0.93023256, 0.95348837, 0.95348837, 0.97674419,\n",
       "       0.97674419, 1.        , 1.        ])"
      ]
     },
     "execution_count": 9,
     "metadata": {},
     "output_type": "execute_result"
    }
   ],
   "source": [
    "tpr"
   ]
  },
  {
   "cell_type": "code",
   "execution_count": 10,
   "metadata": {},
   "outputs": [
    {
     "data": {
      "text/plain": [
       "array([1.97866379, 0.97866379, 0.78183682, 0.77404235, 0.73387013,\n",
       "       0.73120055, 0.70423538, 0.65966286, 0.64002583, 0.63909554,\n",
       "       0.54724425, 0.52414264, 0.49591212, 0.48817412, 0.48460912,\n",
       "       0.46542549, 0.46330659, 0.411145  , 0.36318202, 0.27522858,\n",
       "       0.27223394, 0.25249767, 0.2180862 , 0.1759797 , 0.17546902,\n",
       "       0.15623988, 0.13796599, 0.02099533])"
      ]
     },
     "execution_count": 10,
     "metadata": {},
     "output_type": "execute_result"
    }
   ],
   "source": [
    "thresh#these are the various threshold values according to which the logistic regression classifier has been tested"
   ]
  },
  {
   "cell_type": "code",
   "execution_count": 11,
   "metadata": {},
   "outputs": [],
   "source": [
    "random_probs = [0 for i in range(len(y_test))]\n"
   ]
  },
  {
   "cell_type": "code",
   "execution_count": 22,
   "metadata": {},
   "outputs": [],
   "source": [
    "p_fpr, p_tpr, _ = roc_curve(y_test, random_probs, pos_label=1)"
   ]
  },
  {
   "cell_type": "code",
   "execution_count": 13,
   "metadata": {},
   "outputs": [
    {
     "name": "stdout",
     "output_type": "stream",
     "text": [
      "0.896640826873385\n"
     ]
    }
   ],
   "source": [
    "from sklearn.metrics import roc_auc_score\n",
    "\n",
    "\n",
    "auc_score = roc_auc_score(y_test, ypred_prob)\n",
    "\n",
    "\n",
    "print(auc_score)"
   ]
  },
  {
   "cell_type": "code",
   "execution_count": 14,
   "metadata": {},
   "outputs": [
    {
     "data": {
      "image/png": "[encoded data removed]",
      "text/plain": [
       "<Figure size 640x480 with 1 Axes>"
      ]
     },
     "metadata": {},
     "output_type": "display_data"
    }
   ],
   "source": [
    "plt.plot(fpr, tpr,label='Logistic Regression')\n",
    "\n",
    "plt.plot(p_fpr, p_tpr, linestyle='--', color='blue')\n",
    "# title\n",
    "plt.title('ROC curve')\n",
    "# x label\n",
    "plt.xlabel('False Positive Rate')\n",
    "# y label\n",
    "plt.ylabel('True Positive rate')\n",
    "\n",
    "plt.legend(loc='best')\n",
    "\n",
    "plt.show()"
   ]
  },
  {
   "cell_type": "markdown",
   "metadata": {},
   "source": [
    "In the case of class imbalance, obtaining the best threshold value can greatly improve performance of the classifier. In order to obtain that value geometric mean has been calculated."
   ]
  },
  {
   "cell_type": "code",
   "execution_count": 16,
   "metadata": {},
   "outputs": [],
   "source": [
    "gmeans = np.sqrt(tpr * (1-fpr))"
   ]
  },
  {
   "cell_type": "code",
   "execution_count": 18,
   "metadata": {},
   "outputs": [
    {
     "name": "stdout",
     "output_type": "stream",
     "text": [
      "Best Threshold=0.363182, G-Mean=0.829\n"
     ]
    }
   ],
   "source": [
    "ix = np.argmax(gmeans)\n",
    "print('Best Threshold=%f, G-Mean=%.3f' % (thresh[ix], gmeans[ix]))"
   ]
  },
  {
   "cell_type": "code",
   "execution_count": 21,
   "metadata": {},
   "outputs": [
    {
     "data": {
      "image/png": "[encoded data removed]",
      "text/plain": [
       "<Figure size 640x480 with 1 Axes>"
      ]
     },
     "metadata": {},
     "output_type": "display_data"
    }
   ],
   "source": [
    "plt.plot(fpr, tpr,label='Logistic Regression')\n",
    "\n",
    "plt.plot(p_fpr, p_tpr, linestyle='--', color='blue')\n",
    "plt.scatter(fpr[ix], tpr[ix], marker='o', color='black', label='Best')\n",
    "# title\n",
    "plt.title('ROC curve')\n",
    "# x label\n",
    "plt.xlabel('False Positive Rate')\n",
    "# y label\n",
    "plt.ylabel('True Positive rate')\n",
    "\n",
    "plt.legend(loc='best')\n",
    "\n",
    "plt.show()"
   ]
  },
  {
   "cell_type": "code",
   "execution_count": null,
   "metadata": {},
   "outputs": [],
   "source": []
  }
 ],
 "metadata": {
  "kernelspec": {
   "display_name": "Python 3",
   "language": "python",
   "name": "python3"
  },
  "language_info": {
   "codemirror_mode": {
    "name": "ipython",
    "version": 3
   },
   "file_extension": ".py",
   "mimetype": "text/x-python",
   "name": "python",
   "nbconvert_exporter": "python",
   "pygments_lexer": "ipython3",
   "version": "3.7.4"
  }
 },
 "nbformat": 4,
 "nbformat_minor": 2
}
