{
 "cells": [
  {
   "cell_type": "code",
   "execution_count": 10,
   "metadata": {},
   "outputs": [],
   "source": [
    "#!pip install drawdata\n",
    "from drawdata import draw_scatter # library to draw some random fake data\n",
    "import pandas as pd\n",
    "from sklearn.model_selection import train_test_split\n",
    "from sklearn.linear_model import LogisticRegression\n",
    "from sklearn.metrics import accuracy_score, precision_recall_curve,precision_score, plot_roc_curve\n",
    "import numpy as np\n",
    "from sklearn.metrics import confusion_matrix\n",
    "from sklearn.metrics import roc_auc_score\n",
    "import matplotlib.pyplot as plt  \n",
    "%matplotlib inline\n",
    "\n"
   ]
  },
  {
   "cell_type": "code",
   "execution_count": 11,
   "metadata": {},
   "outputs": [
    {
     "data": {
      "text/html": [
       "\n",
       "        <iframe\n",
       "            width=\"800\"\n",
       "            height=\"550\"\n",
       "            src=\"https://drawdata.xyz/scatter.html\"\n",
       "            frameborder=\"0\"\n",
       "            allowfullscreen\n",
       "        ></iframe>\n",
       "        "
      ],
      "text/plain": [
       "<IPython.lib.display.IFrame at 0x25b0705a460>"
      ]
     },
     "execution_count": 11,
     "metadata": {},
     "output_type": "execute_result"
    }
   ],
   "source": [
    "draw_scatter()"
   ]
  },
  {
   "cell_type": "code",
   "execution_count": 12,
   "metadata": {},
   "outputs": [
    {
     "data": {
      "text/html": [
       "<div>\n",
       "<style scoped>\n",
       "    .dataframe tbody tr th:only-of-type {\n",
       "        vertical-align: middle;\n",
       "    }\n",
       "\n",
       "    .dataframe tbody tr th {\n",
       "        vertical-align: top;\n",
       "    }\n",
       "\n",
       "    .dataframe thead th {\n",
       "        text-align: right;\n",
       "    }\n",
       "</style>\n",
       "<table border=\"1\" class=\"dataframe\">\n",
       "  <thead>\n",
       "    <tr style=\"text-align: right;\">\n",
       "      <th></th>\n",
       "      <th>x</th>\n",
       "      <th>y</th>\n",
       "      <th>z</th>\n",
       "    </tr>\n",
       "  </thead>\n",
       "  <tbody>\n",
       "    <tr>\n",
       "      <th>0</th>\n",
       "      <td>242.745226</td>\n",
       "      <td>366.553286</td>\n",
       "      <td>a</td>\n",
       "    </tr>\n",
       "    <tr>\n",
       "      <th>1</th>\n",
       "      <td>284.548264</td>\n",
       "      <td>340.130610</td>\n",
       "      <td>a</td>\n",
       "    </tr>\n",
       "    <tr>\n",
       "      <th>2</th>\n",
       "      <td>284.214756</td>\n",
       "      <td>372.275147</td>\n",
       "      <td>a</td>\n",
       "    </tr>\n",
       "    <tr>\n",
       "      <th>3</th>\n",
       "      <td>210.031359</td>\n",
       "      <td>363.559344</td>\n",
       "      <td>a</td>\n",
       "    </tr>\n",
       "    <tr>\n",
       "      <th>4</th>\n",
       "      <td>217.955841</td>\n",
       "      <td>344.449570</td>\n",
       "      <td>a</td>\n",
       "    </tr>\n",
       "    <tr>\n",
       "      <th>...</th>\n",
       "      <td>...</td>\n",
       "      <td>...</td>\n",
       "      <td>...</td>\n",
       "    </tr>\n",
       "    <tr>\n",
       "      <th>778</th>\n",
       "      <td>416.863813</td>\n",
       "      <td>198.346559</td>\n",
       "      <td>b</td>\n",
       "    </tr>\n",
       "    <tr>\n",
       "      <th>779</th>\n",
       "      <td>443.455946</td>\n",
       "      <td>180.719149</td>\n",
       "      <td>b</td>\n",
       "    </tr>\n",
       "    <tr>\n",
       "      <th>780</th>\n",
       "      <td>419.750607</td>\n",
       "      <td>201.372412</td>\n",
       "      <td>b</td>\n",
       "    </tr>\n",
       "    <tr>\n",
       "      <th>781</th>\n",
       "      <td>408.263053</td>\n",
       "      <td>191.682185</td>\n",
       "      <td>b</td>\n",
       "    </tr>\n",
       "    <tr>\n",
       "      <th>782</th>\n",
       "      <td>379.496799</td>\n",
       "      <td>232.794113</td>\n",
       "      <td>b</td>\n",
       "    </tr>\n",
       "  </tbody>\n",
       "</table>\n",
       "<p>783 rows × 3 columns</p>\n",
       "</div>"
      ],
      "text/plain": [
       "              x           y  z\n",
       "0    242.745226  366.553286  a\n",
       "1    284.548264  340.130610  a\n",
       "2    284.214756  372.275147  a\n",
       "3    210.031359  363.559344  a\n",
       "4    217.955841  344.449570  a\n",
       "..          ...         ... ..\n",
       "778  416.863813  198.346559  b\n",
       "779  443.455946  180.719149  b\n",
       "780  419.750607  201.372412  b\n",
       "781  408.263053  191.682185  b\n",
       "782  379.496799  232.794113  b\n",
       "\n",
       "[783 rows x 3 columns]"
      ]
     },
     "execution_count": 12,
     "metadata": {},
     "output_type": "execute_result"
    }
   ],
   "source": [
    "# Now we have a random data where we can do an experiment\n",
    "\n",
    "data=pd.read_csv('data.csv')\n",
    "data\n"
   ]
  },
  {
   "cell_type": "raw",
   "metadata": {},
   "source": [
    "It is a binary class probelem with labels a and b. Let's convert them to 1 and 0 respectively."
   ]
  },
  {
   "cell_type": "code",
   "execution_count": 13,
   "metadata": {},
   "outputs": [
    {
     "name": "stderr",
     "output_type": "stream",
     "text": [
      "C:\\Users\\LENOVO\\anaconda3\\envs\\MsDataScience\\lib\\site-packages\\pandas\\core\\indexing.py:670: SettingWithCopyWarning: \n",
      "A value is trying to be set on a copy of a slice from a DataFrame\n",
      "\n",
      "See the caveats in the documentation: https://pandas.pydata.org/pandas-docs/stable/user_guide/indexing.html#returning-a-view-versus-a-copy\n",
      "  iloc._setitem_with_indexer(indexer, value)\n"
     ]
    },
    {
     "data": {
      "text/html": [
       "<div>\n",
       "<style scoped>\n",
       "    .dataframe tbody tr th:only-of-type {\n",
       "        vertical-align: middle;\n",
       "    }\n",
       "\n",
       "    .dataframe tbody tr th {\n",
       "        vertical-align: top;\n",
       "    }\n",
       "\n",
       "    .dataframe thead th {\n",
       "        text-align: right;\n",
       "    }\n",
       "</style>\n",
       "<table border=\"1\" class=\"dataframe\">\n",
       "  <thead>\n",
       "    <tr style=\"text-align: right;\">\n",
       "      <th></th>\n",
       "      <th>x</th>\n",
       "      <th>y</th>\n",
       "      <th>z</th>\n",
       "    </tr>\n",
       "  </thead>\n",
       "  <tbody>\n",
       "    <tr>\n",
       "      <th>0</th>\n",
       "      <td>242.745226</td>\n",
       "      <td>366.553286</td>\n",
       "      <td>1</td>\n",
       "    </tr>\n",
       "    <tr>\n",
       "      <th>1</th>\n",
       "      <td>284.548264</td>\n",
       "      <td>340.130610</td>\n",
       "      <td>1</td>\n",
       "    </tr>\n",
       "    <tr>\n",
       "      <th>2</th>\n",
       "      <td>284.214756</td>\n",
       "      <td>372.275147</td>\n",
       "      <td>1</td>\n",
       "    </tr>\n",
       "    <tr>\n",
       "      <th>3</th>\n",
       "      <td>210.031359</td>\n",
       "      <td>363.559344</td>\n",
       "      <td>1</td>\n",
       "    </tr>\n",
       "    <tr>\n",
       "      <th>4</th>\n",
       "      <td>217.955841</td>\n",
       "      <td>344.449570</td>\n",
       "      <td>1</td>\n",
       "    </tr>\n",
       "    <tr>\n",
       "      <th>...</th>\n",
       "      <td>...</td>\n",
       "      <td>...</td>\n",
       "      <td>...</td>\n",
       "    </tr>\n",
       "    <tr>\n",
       "      <th>778</th>\n",
       "      <td>416.863813</td>\n",
       "      <td>198.346559</td>\n",
       "      <td>0</td>\n",
       "    </tr>\n",
       "    <tr>\n",
       "      <th>779</th>\n",
       "      <td>443.455946</td>\n",
       "      <td>180.719149</td>\n",
       "      <td>0</td>\n",
       "    </tr>\n",
       "    <tr>\n",
       "      <th>780</th>\n",
       "      <td>419.750607</td>\n",
       "      <td>201.372412</td>\n",
       "      <td>0</td>\n",
       "    </tr>\n",
       "    <tr>\n",
       "      <th>781</th>\n",
       "      <td>408.263053</td>\n",
       "      <td>191.682185</td>\n",
       "      <td>0</td>\n",
       "    </tr>\n",
       "    <tr>\n",
       "      <th>782</th>\n",
       "      <td>379.496799</td>\n",
       "      <td>232.794113</td>\n",
       "      <td>0</td>\n",
       "    </tr>\n",
       "  </tbody>\n",
       "</table>\n",
       "<p>783 rows × 3 columns</p>\n",
       "</div>"
      ],
      "text/plain": [
       "              x           y  z\n",
       "0    242.745226  366.553286  1\n",
       "1    284.548264  340.130610  1\n",
       "2    284.214756  372.275147  1\n",
       "3    210.031359  363.559344  1\n",
       "4    217.955841  344.449570  1\n",
       "..          ...         ... ..\n",
       "778  416.863813  198.346559  0\n",
       "779  443.455946  180.719149  0\n",
       "780  419.750607  201.372412  0\n",
       "781  408.263053  191.682185  0\n",
       "782  379.496799  232.794113  0\n",
       "\n",
       "[783 rows x 3 columns]"
      ]
     },
     "execution_count": 13,
     "metadata": {},
     "output_type": "execute_result"
    }
   ],
   "source": [
    "data['z'].loc[data['z']=='a']=1\n",
    "data['z'].loc[data['z']=='b']=0\n",
    "\n",
    "data['z']=pd.to_numeric(data['z'])\n",
    "data\n",
    "\n"
   ]
  },
  {
   "cell_type": "code",
   "execution_count": 14,
   "metadata": {},
   "outputs": [
    {
     "name": "stdout",
     "output_type": "stream",
     "text": [
      "(783, 2)\n",
      "(783, 1)\n"
     ]
    }
   ],
   "source": [
    "Y=data['z']\n",
    "Y=pd.DataFrame(Y)\n",
    "\n",
    "X=data.iloc[:,0:2]\n",
    "\n",
    "print(X.shape)\n",
    "print(Y.shape)\n"
   ]
  },
  {
   "cell_type": "code",
   "execution_count": 15,
   "metadata": {},
   "outputs": [],
   "source": [
    "# Now we are going to use the train_test_split function to split our data into training and testing set.\n",
    "\n",
    "x_train, x_test, y_train, y_test = train_test_split(X,Y,test_size=0.2, random_state=43) # 20% test size used \n",
    "\n"
   ]
  },
  {
   "cell_type": "code",
   "execution_count": 16,
   "metadata": {},
   "outputs": [
    {
     "name": "stderr",
     "output_type": "stream",
     "text": [
      "C:\\Users\\LENOVO\\anaconda3\\envs\\MsDataScience\\lib\\site-packages\\sklearn\\utils\\validation.py:72: DataConversionWarning: A column-vector y was passed when a 1d array was expected. Please change the shape of y to (n_samples, ), for example using ravel().\n",
      "  return f(**kwargs)\n"
     ]
    },
    {
     "data": {
      "text/plain": [
       "LogisticRegression()"
      ]
     },
     "execution_count": 16,
     "metadata": {},
     "output_type": "execute_result"
    }
   ],
   "source": [
    "# training the model with logistic regression\n",
    "model=LogisticRegression()\n",
    "model.fit(x_train, y_train)\n"
   ]
  },
  {
   "cell_type": "code",
   "execution_count": 17,
   "metadata": {},
   "outputs": [
    {
     "data": {
      "text/plain": [
       "array([0.16126132, 0.72754767, 0.86710665, 0.02160761, 0.74566821,\n",
       "       0.80822359, 0.79408023, 0.38017019, 0.22610869, 0.87293516,\n",
       "       0.87053006, 0.73059017, 0.26849732, 0.00233288, 0.02605257,\n",
       "       0.6239457 , 0.00714403, 0.95115358, 0.35977793, 0.98618782,\n",
       "       0.98947613, 0.89611345, 0.8572293 , 0.05506818, 0.77230443,\n",
       "       0.54025085, 0.48449402, 0.67847769, 0.01069465, 0.98849419,\n",
       "       0.35031392, 0.64275089, 0.84599919, 0.50833548, 0.67410086,\n",
       "       0.9566211 , 0.47704588, 0.91894158, 0.47278089, 0.37415361,\n",
       "       0.0116108 , 0.55381463, 0.25654974, 0.60687458, 0.06577826,\n",
       "       0.60109547, 0.98548191, 0.9741303 , 0.17123874, 0.34653003,\n",
       "       0.01144451, 0.76874182, 0.00877285, 0.49335429, 0.19187667,\n",
       "       0.7605902 , 0.00747127, 0.40323899, 0.03145997, 0.83663002,\n",
       "       0.02990249, 0.87983121, 0.11232979, 0.73243067, 0.03095618,\n",
       "       0.06564476, 0.73380218, 0.33383129, 0.73622062, 0.06787818,\n",
       "       0.51364176, 0.27373034, 0.13754428, 0.86325073, 0.56497586,\n",
       "       0.83998793, 0.00695466, 0.04666871, 0.04374076, 0.0759392 ,\n",
       "       0.08586728, 0.56905757, 0.70187863, 0.00141692, 0.47164427,\n",
       "       0.0181416 , 0.91708882, 0.27079156, 0.95546343, 0.77586457,\n",
       "       0.86331673, 0.96588745, 0.14119042, 0.67091947, 0.00366396,\n",
       "       0.01173432, 0.29166839, 0.15846567, 0.78234019, 0.65560989,\n",
       "       0.32317079, 0.53584608, 0.85840248, 0.83670425, 0.00706468,\n",
       "       0.48394428, 0.21701668, 0.04540864, 0.08369233, 0.48303578,\n",
       "       0.06238193, 0.45509009, 0.62372436, 0.77876619, 0.97407357,\n",
       "       0.02227326, 0.20613635, 0.73475965, 0.84399856, 0.00254992,\n",
       "       0.01654132, 0.06253361, 0.07896396, 0.74331167, 0.85346412,\n",
       "       0.09061487, 0.47033411, 0.19996492, 0.70433047, 0.94060664,\n",
       "       0.76901337, 0.84772745, 0.5186327 , 0.71529363, 0.35049773,\n",
       "       0.03490747, 0.1166556 , 0.09025339, 0.88136065, 0.36490826,\n",
       "       0.26287334, 0.00731111, 0.02527814, 0.48181757, 0.26846087,\n",
       "       0.6582018 , 0.87543475, 0.3614401 , 0.20729062, 0.03580428,\n",
       "       0.00882318, 0.12926114, 0.26693794, 0.36518075, 0.31343227,\n",
       "       0.90268214, 0.08323044])"
      ]
     },
     "execution_count": 17,
     "metadata": {},
     "output_type": "execute_result"
    }
   ],
   "source": [
    "y_pred = model.predict_proba(x_test)[:,1]\n",
    "y_pred"
   ]
  },
  {
   "cell_type": "raw",
   "metadata": {},
   "source": [
    "We used predict_proba instead of the usual predict so that we can obtain probabilities ranging from 0 to 1 instead of predicted class. This will help us set a threshold to improve the True Positive Rate and reduce the False Positive Rate."
   ]
  },
  {
   "cell_type": "code",
   "execution_count": 18,
   "metadata": {},
   "outputs": [],
   "source": [
    "thresholds = np.linspace(0,1,100) # taking 100 threshold values between 0 and 1"
   ]
  },
  {
   "cell_type": "code",
   "execution_count": 19,
   "metadata": {},
   "outputs": [],
   "source": [
    "def tp_fp(y_pred, th):\n",
    "    y_pred1 = pd.Series(np.where(y_pred>=th, 1, 0), \n",
    "                     dtype='category')\n",
    "    #for i in range(len(y_pred)):\n",
    "     #   if y_pred[i]>=th:\n",
    "      #      y_pred[i]=1\n",
    "       # else:\n",
    "        #    y_pred[i]=0\n",
    "    tn,fp,fn,tp=confusion_matrix(y_test, y_pred1).ravel()\n",
    "    return tp,fp\n",
    "\n",
    "\n",
    "\n",
    "    \n",
    "    \n",
    "    "
   ]
  },
  {
   "cell_type": "code",
   "execution_count": 20,
   "metadata": {},
   "outputs": [
    {
     "data": {
      "image/png": "[encoded data removed]",
      "text/plain": [
       "<Figure size 432x288 with 1 Axes>"
      ]
     },
     "metadata": {
      "needs_background": "light"
     },
     "output_type": "display_data"
    }
   ],
   "source": [
    "tpr=[]\n",
    "fpr=[]\n",
    "\n",
    "positives = np.sum(y_test==1)\n",
    "negatives = np.sum(y_test==0)\n",
    "\n",
    "for t in thresholds:\n",
    "    tp, fp=tp_fp(y_pred,t)\n",
    "    tpr.append(tp/positives)\n",
    "    fpr.append(fp/negatives)\n",
    "    \n",
    "plt.plot([0, 1], [0, 1], linestyle='--', lw=2, color='r',label='Random', alpha=.8)\n",
    "plt.plot(fpr,tpr, label=\"ROC Curve\",color=\"blue\")\n",
    "plt.text(0.5, 0.5, \"varying threshold scores (0-1)\", rotation=0, size=12,ha=\"center\", va=\"center\",bbox=dict(boxstyle=\"rarrow\"))\n",
    "plt.xlabel(\"False Positve Rate\")\n",
    "plt.ylabel(\"True Positive Rate\")\n",
    "plt.legend()\n",
    "plt.show()"
   ]
  },
  {
   "cell_type": "raw",
   "metadata": {},
   "source": [
    "The red line above shows that true positive and false positive rates are the same and the model is unable to seperate the classes. Anything below this line would mean model is classifying but wrongly. Anything above this line would mean true positive rate is higher than false positive rate. As the threshold moves close to 0 or 1, we get too close to the red line. If we increase the threshold, model will predict positives less frequently which could drop the true positive rate as well as the false positive rate. So we want a trade off threshold value where true positive rate is high and false positive rate is less."
   ]
  },
  {
   "cell_type": "raw",
   "metadata": {},
   "source": [
    "Obviously, the ROC curve gives us the representation of different thresholds and its difficult to quantify the performance of the model for different thresholds based on this graph. For this purpose, we use AUC (Area Under the ROC Curve). Maximum area we can get is 1 and higher the AUC value, better is our model performance. If AUC is high, this would mean, ROC curve will be way above the red line meaning true positive rate will be higher than false positive rate.  "
   ]
  },
  {
   "cell_type": "code",
   "execution_count": 21,
   "metadata": {},
   "outputs": [
    {
     "data": {
      "text/plain": [
       "0.8704560475875743"
      ]
     },
     "execution_count": 21,
     "metadata": {},
     "output_type": "execute_result"
    }
   ],
   "source": [
    "# Checking AUC score\n",
    "\n",
    "auc_score = roc_auc_score(y_test, y_pred)\n",
    "auc_score\n",
    "\n"
   ]
  },
  {
   "cell_type": "raw",
   "metadata": {},
   "source": [
    "To find the optimal threshold, we can calculate the geometric mean of true positive rate and true negative rate. Highest geometric mean amongst all the thresholds will be considered as the optimal threshold."
   ]
  },
  {
   "cell_type": "code",
   "execution_count": 36,
   "metadata": {},
   "outputs": [
    {
     "data": {
      "text/plain": [
       "array([[0.        ],\n",
       "       [0.35156152],\n",
       "       [0.43704832],\n",
       "       [0.49718308],\n",
       "       [0.54049499],\n",
       "       [0.57082633],\n",
       "       [0.58058475],\n",
       "       [0.6271032 ],\n",
       "       [0.64477154],\n",
       "       [0.68695714],\n",
       "       [0.68695714],\n",
       "       [0.68695714],\n",
       "       [0.70312305],\n",
       "       [0.71106819],\n",
       "       [0.72669793],\n",
       "       [0.72669793],\n",
       "       [0.72896816],\n",
       "       [0.73652244],\n",
       "       [0.73652244],\n",
       "       [0.74400001],\n",
       "       [0.7384269 ],\n",
       "       [0.75305064],\n",
       "       [0.76025703],\n",
       "       [0.76739575],\n",
       "       [0.76739575],\n",
       "       [0.76739575],\n",
       "       [0.77446867],\n",
       "       [0.77029706],\n",
       "       [0.77702468],\n",
       "       [0.78369454],\n",
       "       [0.78369454],\n",
       "       [0.78369454],\n",
       "       [0.77115462],\n",
       "       [0.77115462],\n",
       "       [0.77766237],\n",
       "       [0.7968668 ],\n",
       "       [0.79655571],\n",
       "       [0.78316726],\n",
       "       [0.78242847],\n",
       "       [0.78242847],\n",
       "       [0.78842418],\n",
       "       [0.78842418],\n",
       "       [0.78842418],\n",
       "       [0.78842418],\n",
       "       [0.78842418],\n",
       "       [0.78842418],\n",
       "       [0.79437464],\n",
       "       [0.78611547],\n",
       "       [0.78852896],\n",
       "       [0.78105459],\n",
       "       [0.78105459],\n",
       "       [0.76588703],\n",
       "       [0.75818948],\n",
       "       [0.75818948],\n",
       "       [0.75567909],\n",
       "       [0.76090877],\n",
       "       [0.76610275],\n",
       "       [0.75808051],\n",
       "       [0.75808051],\n",
       "       [0.75808051],\n",
       "       [0.74997246],\n",
       "       [0.74177579],\n",
       "       [0.72510455],\n",
       "       [0.72510455],\n",
       "       [0.72998746],\n",
       "       [0.7214493 ],\n",
       "       [0.71280888],\n",
       "       [0.69520594],\n",
       "       [0.68623517],\n",
       "       [0.68623517],\n",
       "       [0.68164491],\n",
       "       [0.68611476],\n",
       "       [0.68611476],\n",
       "       [0.64220374],\n",
       "       [0.65038501],\n",
       "       [0.65038501],\n",
       "       [0.64014209],\n",
       "       [0.65595044],\n",
       "       [0.64911348],\n",
       "       [0.63820324],\n",
       "       [0.63820324],\n",
       "       [0.6271032 ],\n",
       "       [0.6271032 ],\n",
       "       [0.60429177],\n",
       "       [0.55586758],\n",
       "       [0.54943942],\n",
       "       [0.52561612],\n",
       "       [0.5       ],\n",
       "       [0.46966822],\n",
       "       [0.45374261],\n",
       "       [0.43723732],\n",
       "       [0.40219983],\n",
       "       [0.40219983],\n",
       "       [0.40219983],\n",
       "       [0.38348249],\n",
       "       [0.32084447],\n",
       "       [0.29704426],\n",
       "       [0.24253563],\n",
       "       [0.        ],\n",
       "       [0.        ]])"
      ]
     },
     "execution_count": 36,
     "metadata": {},
     "output_type": "execute_result"
    }
   ],
   "source": [
    "tpr1=np.array(tpr)\n",
    "fpr1=np.array(fpr)\n",
    "\n",
    "gmean=np.sqrt(tpr1 * (1-fpr1)) # 1-fpr will give us true negative rate (tnr) or specificity\n",
    "gmean # geometric mean of true positive rate and true negative rate at every threshold"
   ]
  },
  {
   "cell_type": "code",
   "execution_count": 40,
   "metadata": {},
   "outputs": [
    {
     "name": "stdout",
     "output_type": "stream",
     "text": [
      "At index: 35\n",
      "geometric mean is:  [0.7968668]\n"
     ]
    }
   ],
   "source": [
    "# optimal geometric mean and its index\n",
    "index=np.argmax(gmean) # optimal geometric mean would be the highest geometric mean\n",
    "print('At index:',index)\n",
    "print('geometric mean is: ',gmean[index])"
   ]
  },
  {
   "cell_type": "code",
   "execution_count": 33,
   "metadata": {},
   "outputs": [
    {
     "data": {
      "text/plain": [
       "0.3535353535353536"
      ]
     },
     "execution_count": 33,
     "metadata": {},
     "output_type": "execute_result"
    }
   ],
   "source": [
    "# optimal threshold\n",
    "thresholds[index] # threshold of 0.35 will give us the highest mean and best tpr to fpr ratio"
   ]
  },
  {
   "cell_type": "code",
   "execution_count": 34,
   "metadata": {},
   "outputs": [
    {
     "name": "stdout",
     "output_type": "stream",
     "text": [
      "[0.89705882]\n",
      "[0.29213483]\n"
     ]
    }
   ],
   "source": [
    "# calculating true positive rate and false positive rate at optimal threshold\n",
    "print(tpr1[index])\n",
    "print(fpr1[index]) "
   ]
  },
  {
   "cell_type": "code",
   "execution_count": null,
   "metadata": {},
   "outputs": [],
   "source": []
  }
 ],
 "metadata": {
  "kernelspec": {
   "display_name": "Python 3",
   "language": "python",
   "name": "python3"
  },
  "language_info": {
   "codemirror_mode": {
    "name": "ipython",
    "version": 3
   },
   "file_extension": ".py",
   "mimetype": "text/x-python",
   "name": "python",
   "nbconvert_exporter": "python",
   "pygments_lexer": "ipython3",
   "version": "3.8.5"
  }
 },
 "nbformat": 4,
 "nbformat_minor": 4
}
