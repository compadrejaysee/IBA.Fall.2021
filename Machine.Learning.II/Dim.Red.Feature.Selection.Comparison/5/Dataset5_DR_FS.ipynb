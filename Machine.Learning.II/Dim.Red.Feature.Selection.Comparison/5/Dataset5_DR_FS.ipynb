{
 "cells": [
  {
   "cell_type": "markdown",
   "metadata": {
    "id": "E4wdyxgCd1tm"
   },
   "source": [
    "# Regression Dataset 5 (Superconductivty Data)"
   ]
  },
  {
   "cell_type": "code",
   "execution_count": 30,
   "metadata": {
    "id": "ILA5lABEd1tz"
   },
   "outputs": [],
   "source": [
    "import pandas as pd\n",
    "import numpy as np\n",
    "import warnings\n",
    "warnings.filterwarnings(\"ignore\")\n",
    "from sklearn.linear_model import LinearRegression\n",
    "from sklearn.ensemble import RandomForestRegressor\n",
    "from sklearn.ensemble import GradientBoostingRegressor\n",
    "from sklearn.ensemble import AdaBoostRegressor\n",
    "from sklearn.ensemble import VotingRegressor\n",
    "from sklearn.metrics import accuracy_score\n",
    "from sklearn.metrics import confusion_matrix\n",
    "from sklearn.metrics import precision_score\n",
    "from sklearn.metrics import recall_score\n",
    "from sklearn.metrics import roc_auc_score\n",
    "from sklearn.metrics import roc_curve \n",
    "from sklearn.metrics import f1_score\n",
    "from sklearn.metrics import auc\n",
    "from sklearn.metrics import mean_squared_error, r2_score\n",
    "from sklearn.ensemble import VotingRegressor\n",
    "import math"
   ]
  },
  {
   "cell_type": "code",
   "execution_count": 3,
   "metadata": {
    "colab": {
     "base_uri": "https://localhost:8080/",
     "height": 507
    },
    "id": "iM9vhKsxd1t3",
    "outputId": "bedbe32e-4c82-4dcf-f8be-b831e8734f9b"
   },
   "outputs": [
    {
     "data": {
      "text/html": [
       "<div>\n",
       "<style scoped>\n",
       "    .dataframe tbody tr th:only-of-type {\n",
       "        vertical-align: middle;\n",
       "    }\n",
       "\n",
       "    .dataframe tbody tr th {\n",
       "        vertical-align: top;\n",
       "    }\n",
       "\n",
       "    .dataframe thead th {\n",
       "        text-align: right;\n",
       "    }\n",
       "</style>\n",
       "<table border=\"1\" class=\"dataframe\">\n",
       "  <thead>\n",
       "    <tr style=\"text-align: right;\">\n",
       "      <th></th>\n",
       "      <th>number_of_elements</th>\n",
       "      <th>mean_atomic_mass</th>\n",
       "      <th>wtd_mean_atomic_mass</th>\n",
       "      <th>gmean_atomic_mass</th>\n",
       "      <th>wtd_gmean_atomic_mass</th>\n",
       "      <th>entropy_atomic_mass</th>\n",
       "      <th>wtd_entropy_atomic_mass</th>\n",
       "      <th>range_atomic_mass</th>\n",
       "      <th>wtd_range_atomic_mass</th>\n",
       "      <th>std_atomic_mass</th>\n",
       "      <th>...</th>\n",
       "      <th>wtd_mean_Valence</th>\n",
       "      <th>gmean_Valence</th>\n",
       "      <th>wtd_gmean_Valence</th>\n",
       "      <th>entropy_Valence</th>\n",
       "      <th>wtd_entropy_Valence</th>\n",
       "      <th>range_Valence</th>\n",
       "      <th>wtd_range_Valence</th>\n",
       "      <th>std_Valence</th>\n",
       "      <th>wtd_std_Valence</th>\n",
       "      <th>critical_temp</th>\n",
       "    </tr>\n",
       "  </thead>\n",
       "  <tbody>\n",
       "    <tr>\n",
       "      <th>0</th>\n",
       "      <td>4</td>\n",
       "      <td>88.944468</td>\n",
       "      <td>57.862692</td>\n",
       "      <td>66.361592</td>\n",
       "      <td>36.116612</td>\n",
       "      <td>1.181795</td>\n",
       "      <td>1.062396</td>\n",
       "      <td>122.90607</td>\n",
       "      <td>31.794921</td>\n",
       "      <td>51.968828</td>\n",
       "      <td>...</td>\n",
       "      <td>2.257143</td>\n",
       "      <td>2.213364</td>\n",
       "      <td>2.219783</td>\n",
       "      <td>1.368922</td>\n",
       "      <td>1.066221</td>\n",
       "      <td>1</td>\n",
       "      <td>1.085714</td>\n",
       "      <td>0.433013</td>\n",
       "      <td>0.437059</td>\n",
       "      <td>29.00</td>\n",
       "    </tr>\n",
       "    <tr>\n",
       "      <th>1</th>\n",
       "      <td>5</td>\n",
       "      <td>92.729214</td>\n",
       "      <td>58.518416</td>\n",
       "      <td>73.132787</td>\n",
       "      <td>36.396602</td>\n",
       "      <td>1.449309</td>\n",
       "      <td>1.057755</td>\n",
       "      <td>122.90607</td>\n",
       "      <td>36.161939</td>\n",
       "      <td>47.094633</td>\n",
       "      <td>...</td>\n",
       "      <td>2.257143</td>\n",
       "      <td>1.888175</td>\n",
       "      <td>2.210679</td>\n",
       "      <td>1.557113</td>\n",
       "      <td>1.047221</td>\n",
       "      <td>2</td>\n",
       "      <td>1.128571</td>\n",
       "      <td>0.632456</td>\n",
       "      <td>0.468606</td>\n",
       "      <td>26.00</td>\n",
       "    </tr>\n",
       "    <tr>\n",
       "      <th>2</th>\n",
       "      <td>4</td>\n",
       "      <td>88.944468</td>\n",
       "      <td>57.885242</td>\n",
       "      <td>66.361592</td>\n",
       "      <td>36.122509</td>\n",
       "      <td>1.181795</td>\n",
       "      <td>0.975980</td>\n",
       "      <td>122.90607</td>\n",
       "      <td>35.741099</td>\n",
       "      <td>51.968828</td>\n",
       "      <td>...</td>\n",
       "      <td>2.271429</td>\n",
       "      <td>2.213364</td>\n",
       "      <td>2.232679</td>\n",
       "      <td>1.368922</td>\n",
       "      <td>1.029175</td>\n",
       "      <td>1</td>\n",
       "      <td>1.114286</td>\n",
       "      <td>0.433013</td>\n",
       "      <td>0.444697</td>\n",
       "      <td>19.00</td>\n",
       "    </tr>\n",
       "    <tr>\n",
       "      <th>3</th>\n",
       "      <td>4</td>\n",
       "      <td>88.944468</td>\n",
       "      <td>57.873967</td>\n",
       "      <td>66.361592</td>\n",
       "      <td>36.119560</td>\n",
       "      <td>1.181795</td>\n",
       "      <td>1.022291</td>\n",
       "      <td>122.90607</td>\n",
       "      <td>33.768010</td>\n",
       "      <td>51.968828</td>\n",
       "      <td>...</td>\n",
       "      <td>2.264286</td>\n",
       "      <td>2.213364</td>\n",
       "      <td>2.226222</td>\n",
       "      <td>1.368922</td>\n",
       "      <td>1.048834</td>\n",
       "      <td>1</td>\n",
       "      <td>1.100000</td>\n",
       "      <td>0.433013</td>\n",
       "      <td>0.440952</td>\n",
       "      <td>22.00</td>\n",
       "    </tr>\n",
       "    <tr>\n",
       "      <th>4</th>\n",
       "      <td>4</td>\n",
       "      <td>88.944468</td>\n",
       "      <td>57.840143</td>\n",
       "      <td>66.361592</td>\n",
       "      <td>36.110716</td>\n",
       "      <td>1.181795</td>\n",
       "      <td>1.129224</td>\n",
       "      <td>122.90607</td>\n",
       "      <td>27.848743</td>\n",
       "      <td>51.968828</td>\n",
       "      <td>...</td>\n",
       "      <td>2.242857</td>\n",
       "      <td>2.213364</td>\n",
       "      <td>2.206963</td>\n",
       "      <td>1.368922</td>\n",
       "      <td>1.096052</td>\n",
       "      <td>1</td>\n",
       "      <td>1.057143</td>\n",
       "      <td>0.433013</td>\n",
       "      <td>0.428809</td>\n",
       "      <td>23.00</td>\n",
       "    </tr>\n",
       "    <tr>\n",
       "      <th>...</th>\n",
       "      <td>...</td>\n",
       "      <td>...</td>\n",
       "      <td>...</td>\n",
       "      <td>...</td>\n",
       "      <td>...</td>\n",
       "      <td>...</td>\n",
       "      <td>...</td>\n",
       "      <td>...</td>\n",
       "      <td>...</td>\n",
       "      <td>...</td>\n",
       "      <td>...</td>\n",
       "      <td>...</td>\n",
       "      <td>...</td>\n",
       "      <td>...</td>\n",
       "      <td>...</td>\n",
       "      <td>...</td>\n",
       "      <td>...</td>\n",
       "      <td>...</td>\n",
       "      <td>...</td>\n",
       "      <td>...</td>\n",
       "      <td>...</td>\n",
       "    </tr>\n",
       "    <tr>\n",
       "      <th>21258</th>\n",
       "      <td>4</td>\n",
       "      <td>106.957877</td>\n",
       "      <td>53.095769</td>\n",
       "      <td>82.515384</td>\n",
       "      <td>43.135565</td>\n",
       "      <td>1.177145</td>\n",
       "      <td>1.254119</td>\n",
       "      <td>146.88130</td>\n",
       "      <td>15.504479</td>\n",
       "      <td>65.764081</td>\n",
       "      <td>...</td>\n",
       "      <td>3.555556</td>\n",
       "      <td>3.223710</td>\n",
       "      <td>3.519911</td>\n",
       "      <td>1.377820</td>\n",
       "      <td>0.913658</td>\n",
       "      <td>1</td>\n",
       "      <td>2.168889</td>\n",
       "      <td>0.433013</td>\n",
       "      <td>0.496904</td>\n",
       "      <td>2.44</td>\n",
       "    </tr>\n",
       "    <tr>\n",
       "      <th>21259</th>\n",
       "      <td>5</td>\n",
       "      <td>92.266740</td>\n",
       "      <td>49.021367</td>\n",
       "      <td>64.812662</td>\n",
       "      <td>32.867748</td>\n",
       "      <td>1.323287</td>\n",
       "      <td>1.571630</td>\n",
       "      <td>188.38390</td>\n",
       "      <td>7.353333</td>\n",
       "      <td>69.232655</td>\n",
       "      <td>...</td>\n",
       "      <td>2.047619</td>\n",
       "      <td>2.168944</td>\n",
       "      <td>2.038991</td>\n",
       "      <td>1.594167</td>\n",
       "      <td>1.337246</td>\n",
       "      <td>1</td>\n",
       "      <td>0.904762</td>\n",
       "      <td>0.400000</td>\n",
       "      <td>0.212959</td>\n",
       "      <td>122.10</td>\n",
       "    </tr>\n",
       "    <tr>\n",
       "      <th>21260</th>\n",
       "      <td>2</td>\n",
       "      <td>99.663190</td>\n",
       "      <td>95.609104</td>\n",
       "      <td>99.433882</td>\n",
       "      <td>95.464320</td>\n",
       "      <td>0.690847</td>\n",
       "      <td>0.530198</td>\n",
       "      <td>13.51362</td>\n",
       "      <td>53.041104</td>\n",
       "      <td>6.756810</td>\n",
       "      <td>...</td>\n",
       "      <td>4.800000</td>\n",
       "      <td>4.472136</td>\n",
       "      <td>4.781762</td>\n",
       "      <td>0.686962</td>\n",
       "      <td>0.450561</td>\n",
       "      <td>1</td>\n",
       "      <td>3.200000</td>\n",
       "      <td>0.500000</td>\n",
       "      <td>0.400000</td>\n",
       "      <td>1.98</td>\n",
       "    </tr>\n",
       "    <tr>\n",
       "      <th>21261</th>\n",
       "      <td>2</td>\n",
       "      <td>99.663190</td>\n",
       "      <td>97.095602</td>\n",
       "      <td>99.433882</td>\n",
       "      <td>96.901083</td>\n",
       "      <td>0.690847</td>\n",
       "      <td>0.640883</td>\n",
       "      <td>13.51362</td>\n",
       "      <td>31.115202</td>\n",
       "      <td>6.756810</td>\n",
       "      <td>...</td>\n",
       "      <td>4.690000</td>\n",
       "      <td>4.472136</td>\n",
       "      <td>4.665819</td>\n",
       "      <td>0.686962</td>\n",
       "      <td>0.577601</td>\n",
       "      <td>1</td>\n",
       "      <td>2.210000</td>\n",
       "      <td>0.500000</td>\n",
       "      <td>0.462493</td>\n",
       "      <td>1.84</td>\n",
       "    </tr>\n",
       "    <tr>\n",
       "      <th>21262</th>\n",
       "      <td>3</td>\n",
       "      <td>87.468333</td>\n",
       "      <td>86.858500</td>\n",
       "      <td>82.555758</td>\n",
       "      <td>80.458722</td>\n",
       "      <td>1.041270</td>\n",
       "      <td>0.895229</td>\n",
       "      <td>71.75500</td>\n",
       "      <td>43.144000</td>\n",
       "      <td>29.905282</td>\n",
       "      <td>...</td>\n",
       "      <td>4.500000</td>\n",
       "      <td>4.762203</td>\n",
       "      <td>4.242641</td>\n",
       "      <td>1.054920</td>\n",
       "      <td>0.970116</td>\n",
       "      <td>3</td>\n",
       "      <td>1.800000</td>\n",
       "      <td>1.414214</td>\n",
       "      <td>1.500000</td>\n",
       "      <td>12.80</td>\n",
       "    </tr>\n",
       "  </tbody>\n",
       "</table>\n",
       "<p>21263 rows × 82 columns</p>\n",
       "</div>"
      ],
      "text/plain": [
       "       number_of_elements  mean_atomic_mass  wtd_mean_atomic_mass  \\\n",
       "0                       4         88.944468             57.862692   \n",
       "1                       5         92.729214             58.518416   \n",
       "2                       4         88.944468             57.885242   \n",
       "3                       4         88.944468             57.873967   \n",
       "4                       4         88.944468             57.840143   \n",
       "...                   ...               ...                   ...   \n",
       "21258                   4        106.957877             53.095769   \n",
       "21259                   5         92.266740             49.021367   \n",
       "21260                   2         99.663190             95.609104   \n",
       "21261                   2         99.663190             97.095602   \n",
       "21262                   3         87.468333             86.858500   \n",
       "\n",
       "       gmean_atomic_mass  wtd_gmean_atomic_mass  entropy_atomic_mass  \\\n",
       "0              66.361592              36.116612             1.181795   \n",
       "1              73.132787              36.396602             1.449309   \n",
       "2              66.361592              36.122509             1.181795   \n",
       "3              66.361592              36.119560             1.181795   \n",
       "4              66.361592              36.110716             1.181795   \n",
       "...                  ...                    ...                  ...   \n",
       "21258          82.515384              43.135565             1.177145   \n",
       "21259          64.812662              32.867748             1.323287   \n",
       "21260          99.433882              95.464320             0.690847   \n",
       "21261          99.433882              96.901083             0.690847   \n",
       "21262          82.555758              80.458722             1.041270   \n",
       "\n",
       "       wtd_entropy_atomic_mass  range_atomic_mass  wtd_range_atomic_mass  \\\n",
       "0                     1.062396          122.90607              31.794921   \n",
       "1                     1.057755          122.90607              36.161939   \n",
       "2                     0.975980          122.90607              35.741099   \n",
       "3                     1.022291          122.90607              33.768010   \n",
       "4                     1.129224          122.90607              27.848743   \n",
       "...                        ...                ...                    ...   \n",
       "21258                 1.254119          146.88130              15.504479   \n",
       "21259                 1.571630          188.38390               7.353333   \n",
       "21260                 0.530198           13.51362              53.041104   \n",
       "21261                 0.640883           13.51362              31.115202   \n",
       "21262                 0.895229           71.75500              43.144000   \n",
       "\n",
       "       std_atomic_mass  ...  wtd_mean_Valence  gmean_Valence  \\\n",
       "0            51.968828  ...          2.257143       2.213364   \n",
       "1            47.094633  ...          2.257143       1.888175   \n",
       "2            51.968828  ...          2.271429       2.213364   \n",
       "3            51.968828  ...          2.264286       2.213364   \n",
       "4            51.968828  ...          2.242857       2.213364   \n",
       "...                ...  ...               ...            ...   \n",
       "21258        65.764081  ...          3.555556       3.223710   \n",
       "21259        69.232655  ...          2.047619       2.168944   \n",
       "21260         6.756810  ...          4.800000       4.472136   \n",
       "21261         6.756810  ...          4.690000       4.472136   \n",
       "21262        29.905282  ...          4.500000       4.762203   \n",
       "\n",
       "       wtd_gmean_Valence  entropy_Valence  wtd_entropy_Valence  range_Valence  \\\n",
       "0               2.219783         1.368922             1.066221              1   \n",
       "1               2.210679         1.557113             1.047221              2   \n",
       "2               2.232679         1.368922             1.029175              1   \n",
       "3               2.226222         1.368922             1.048834              1   \n",
       "4               2.206963         1.368922             1.096052              1   \n",
       "...                  ...              ...                  ...            ...   \n",
       "21258           3.519911         1.377820             0.913658              1   \n",
       "21259           2.038991         1.594167             1.337246              1   \n",
       "21260           4.781762         0.686962             0.450561              1   \n",
       "21261           4.665819         0.686962             0.577601              1   \n",
       "21262           4.242641         1.054920             0.970116              3   \n",
       "\n",
       "       wtd_range_Valence  std_Valence  wtd_std_Valence  critical_temp  \n",
       "0               1.085714     0.433013         0.437059          29.00  \n",
       "1               1.128571     0.632456         0.468606          26.00  \n",
       "2               1.114286     0.433013         0.444697          19.00  \n",
       "3               1.100000     0.433013         0.440952          22.00  \n",
       "4               1.057143     0.433013         0.428809          23.00  \n",
       "...                  ...          ...              ...            ...  \n",
       "21258           2.168889     0.433013         0.496904           2.44  \n",
       "21259           0.904762     0.400000         0.212959         122.10  \n",
       "21260           3.200000     0.500000         0.400000           1.98  \n",
       "21261           2.210000     0.500000         0.462493           1.84  \n",
       "21262           1.800000     1.414214         1.500000          12.80  \n",
       "\n",
       "[21263 rows x 82 columns]"
      ]
     },
     "execution_count": 3,
     "metadata": {},
     "output_type": "execute_result"
    }
   ],
   "source": [
    "df = pd.read_csv(\"train.csv\")\n",
    "df"
   ]
  },
  {
   "cell_type": "markdown",
   "metadata": {
    "id": "Bpb8Vwy-d1t9"
   },
   "source": [
    "Checking for any null values"
   ]
  },
  {
   "cell_type": "code",
   "execution_count": 4,
   "metadata": {
    "colab": {
     "base_uri": "https://localhost:8080/"
    },
    "id": "BotyT2Xud1t_",
    "outputId": "34b35d18-d568-4a28-a2da-8815387510bb"
   },
   "outputs": [
    {
     "data": {
      "text/plain": [
       "number_of_elements       0\n",
       "mean_atomic_mass         0\n",
       "wtd_mean_atomic_mass     0\n",
       "gmean_atomic_mass        0\n",
       "wtd_gmean_atomic_mass    0\n",
       "                        ..\n",
       "range_Valence            0\n",
       "wtd_range_Valence        0\n",
       "std_Valence              0\n",
       "wtd_std_Valence          0\n",
       "critical_temp            0\n",
       "Length: 82, dtype: int64"
      ]
     },
     "execution_count": 4,
     "metadata": {},
     "output_type": "execute_result"
    }
   ],
   "source": [
    "df.isna().sum()"
   ]
  },
  {
   "cell_type": "markdown",
   "metadata": {
    "id": "F9YBdYrhd1uH"
   },
   "source": [
    "# Data Preprocessing"
   ]
  },
  {
   "cell_type": "code",
   "execution_count": 19,
   "metadata": {
    "id": "peHn0f7fd1uI"
   },
   "outputs": [],
   "source": [
    "copy_df = df.copy(deep=True)\n",
    "y = copy_df['critical_temp']\n",
    "X = copy_df.drop(['critical_temp'], axis=1)"
   ]
  },
  {
   "cell_type": "code",
   "execution_count": 20,
   "metadata": {
    "id": "DlZjiVEed1uJ"
   },
   "outputs": [],
   "source": [
    "from sklearn.model_selection import train_test_split\n",
    "X_train, X_test, y_train, y_test = train_test_split(X, y, test_size=0.2, random_state=0)"
   ]
  },
  {
   "cell_type": "code",
   "execution_count": 21,
   "metadata": {
    "id": "4GNOThx6d1uK"
   },
   "outputs": [],
   "source": [
    "from sklearn.preprocessing import StandardScaler\n",
    "sc = StandardScaler()\n",
    "X_train = sc.fit_transform(X_train)\n",
    "X_test = sc.transform(X_test)"
   ]
  },
  {
   "cell_type": "code",
   "execution_count": 22,
   "metadata": {},
   "outputs": [],
   "source": [
    "#Validation metrics for Regression algorithms\n",
    "def validationmetrics_reg(model,testX,testY, verbose=True):\n",
    "    \n",
    "    predictions = model.predict(testX)\n",
    "       \n",
    "    #y_pred = model.predict(testX)\n",
    "    df = pd.DataFrame({'Actual': testY, 'Predicted': predictions})\n",
    "    \n",
    "    # R-squared\n",
    "    r2 = r2_score(testY,predictions)\n",
    "    \n",
    "    # Adjusted R-squared\n",
    "    r2_adjusted = 1-(1-r2)*(testX.shape[0]-1)/(testX.shape[0]-testX.shape[1]-1)\n",
    "    \n",
    "    # MSE\n",
    "    mse = mean_squared_error(testY,predictions)\n",
    "    \n",
    "    #RMSE\n",
    "    rmse = math.sqrt(mse)\n",
    "    \n",
    "    if verbose:\n",
    "        print(\"R-Squared Value: \", r2)\n",
    "        print(\"Adjusted R-Squared: \", r2_adjusted)\n",
    "        print(\"RMSE: \", rmse)\n",
    "        #print(df)\n",
    "    \n",
    "    res_map = {\n",
    "                \"r2\": r2,\n",
    "                \"r2_adjusted\": r2_adjusted,\n",
    "                \"rmse\": rmse,\n",
    "                \"model_obj\": model,\n",
    "                #\"df\": df\n",
    "              }\n",
    "         "
   ]
  },
  {
   "cell_type": "code",
   "execution_count": 18,
   "metadata": {},
   "outputs": [],
   "source": [
    "# Regression Algorithms\n",
    "def LinearReg(trainX, testX, trainY, testY, verbose=True, clf=None):\n",
    "    if not clf:\n",
    "        clf  = LinearRegression()\n",
    "    clf.fit(trainX , trainY)\n",
    "    return validationmetrics_reg(clf, testX, testY, verbose=verbose)\n",
    "\n",
    "def RandomForestReg(trainX, testX, trainY, testY, verbose=True, clf=None):\n",
    "    if not clf:\n",
    "        clf = RandomForestRegressor(n_estimators=100)\n",
    "    clf.fit(trainX , trainY)\n",
    "    return validationmetrics_reg(clf, testX, testY, verbose=verbose)\n",
    "\n",
    "def GradientBoostingReg(trainX, testX, trainY, testY, verbose=True, clf=None):\n",
    "    if not clf:\n",
    "        clf = GradientBoostingRegressor()\n",
    "    clf.fit(trainX , trainY)\n",
    "    return validationmetrics_reg(clf, testX, testY, verbose=verbose)\n",
    "\n",
    "def AdaBooostReg(trainX, testX, trainY, testY, verbose=True, clf=None):\n",
    "    if not clf:\n",
    "        clf = AdaBoostRegressor(random_state=0, n_estimators=100)\n",
    "    clf.fit(trainX , trainY)\n",
    "    return validationmetrics_reg(clf, testX, testY, verbose=verbose)\n",
    "\n",
    "\n",
    "\n",
    "def VotingReg(trainX, testX, trainY, testY, verbose=True, clf=None):\n",
    "    lr = LinearRegression()\n",
    "    rf = RandomForestRegressor(n_estimators=100)\n",
    "    gb = GradientBoostingRegressor()\n",
    "    ab = AdaBoostRegressor(random_state=0, n_estimators=100)\n",
    "    if not clf:\n",
    "        clf = VotingRegressor([('rf', rf), ('lr', lr), ('gb', gb), ('ab', ab)])\n",
    "    clf.fit(trainX , trainY)\n",
    "    return validationmetrics_reg(clf, testX, testY, verbose=verbose)"
   ]
  },
  {
   "cell_type": "markdown",
   "metadata": {
    "id": "3FDciKHXd1uY"
   },
   "source": [
    "# Principle Component Analysis DR"
   ]
  },
  {
   "cell_type": "code",
   "execution_count": 32,
   "metadata": {
    "id": "FJ2LyYjrd1uY"
   },
   "outputs": [],
   "source": [
    "from sklearn.model_selection import train_test_split\n",
    "from sklearn.preprocessing import StandardScaler\n",
    "\n",
    "copy_df = df.copy(deep=True)\n",
    "\n",
    "y = copy_df['critical_temp']\n",
    "X = copy_df.drop(['critical_temp'], axis=1)\n",
    "\n",
    "X_train, X_test, y_train, y_test = train_test_split(X, y, test_size=0.2, random_state=0)\n",
    "\n",
    "sc = StandardScaler()\n",
    "X_train = sc.fit_transform(X_train)\n",
    "X_test = sc.transform(X_test)"
   ]
  },
  {
   "cell_type": "code",
   "execution_count": 33,
   "metadata": {
    "id": "0hpZrYIfd1uZ"
   },
   "outputs": [],
   "source": [
    "from sklearn.decomposition import PCA\n",
    "pca = PCA()\n",
    "X_train = pca.fit_transform(X_train)\n",
    "X_test = pca.transform(X_test)"
   ]
  },
  {
   "cell_type": "markdown",
   "metadata": {
    "id": "n1oXZeyLd1uM"
   },
   "source": [
    "# MLR"
   ]
  },
  {
   "cell_type": "code",
   "execution_count": 26,
   "metadata": {
    "id": "8ouIkTvkd1uN"
   },
   "outputs": [
    {
     "name": "stdout",
     "output_type": "stream",
     "text": [
      "R-Squared Value:  0.7350976364618504\n",
      "Adjusted R-Squared:  0.729953284640563\n",
      "RMSE:  17.559079451644354\n"
     ]
    }
   ],
   "source": [
    "LinearReg(X_train, X_test, y_train, y_test, verbose=True, clf=None)"
   ]
  },
  {
   "cell_type": "markdown",
   "metadata": {
    "id": "hGWJfcq9d1uQ"
   },
   "source": [
    "# Voting Regression"
   ]
  },
  {
   "cell_type": "code",
   "execution_count": 31,
   "metadata": {
    "id": "xj5oZY1yd1uR"
   },
   "outputs": [
    {
     "name": "stdout",
     "output_type": "stream",
     "text": [
      "R-Squared Value:  0.8547744784575282\n",
      "Adjusted R-Squared:  0.8519542273798633\n",
      "RMSE:  13.001106016947073\n"
     ]
    }
   ],
   "source": [
    "VotingReg(X_train, X_test, y_train, y_test, verbose=True, clf=None)"
   ]
  },
  {
   "cell_type": "markdown",
   "metadata": {
    "id": "oUUGPD1Bd1ud"
   },
   "source": [
    "# t-SNE DR"
   ]
  },
  {
   "cell_type": "code",
   "execution_count": 36,
   "metadata": {
    "id": "QLT4b2j3d1ue"
   },
   "outputs": [],
   "source": [
    "from sklearn.model_selection import train_test_split\n",
    "from sklearn.preprocessing import StandardScaler\n",
    "\n",
    "copy_df = df.copy(deep=True)\n",
    "\n",
    "y = copy_df['critical_temp']\n",
    "X = copy_df.drop(['critical_temp'], axis=1)\n",
    "\n",
    "X_train, X_test, y_train, y_test = train_test_split(X, y, test_size=0.2, random_state=0)\n",
    "\n",
    "sc = StandardScaler()\n",
    "X_train = sc.fit_transform(X_train)\n",
    "X_test = sc.transform(X_test)"
   ]
  },
  {
   "cell_type": "code",
   "execution_count": null,
   "metadata": {
    "id": "X9E_SOdJd1ue"
   },
   "outputs": [],
   "source": [
    "#takes plenty of time to execute\n",
    "from sklearn.manifold import TSNE\n",
    "import time\n",
    "#time_start = time.time()\n",
    "tsne = TSNE(n_components = 2, random_state = 0)\n",
    "#tsne = TSNE()\n",
    "X_train =tsne.fit_transform(X_train)\n",
    "X_test = tsne.fit_transform(X_test)\n",
    "\n",
    "#print('t-SNE done! Time elapsed: {} seconds'.format(time.time()-time_start))"
   ]
  },
  {
   "cell_type": "markdown",
   "metadata": {
    "id": "pRHtYEoOd1uZ"
   },
   "source": [
    "# MLR"
   ]
  },
  {
   "cell_type": "code",
   "execution_count": 34,
   "metadata": {
    "id": "Fm5tN5rpd1uZ"
   },
   "outputs": [
    {
     "name": "stdout",
     "output_type": "stream",
     "text": [
      "R-Squared Value:  0.7350976364618504\n",
      "Adjusted R-Squared:  0.729953284640563\n",
      "RMSE:  17.559079451644358\n"
     ]
    }
   ],
   "source": [
    "LinearReg(X_train, X_test, y_train, y_test, verbose=True, clf=None)"
   ]
  },
  {
   "cell_type": "markdown",
   "metadata": {
    "id": "JeztvBYRglAs"
   },
   "source": [
    "# Voting Regression"
   ]
  },
  {
   "cell_type": "code",
   "execution_count": 39,
   "metadata": {},
   "outputs": [
    {
     "name": "stdout",
     "output_type": "stream",
     "text": [
      "R-Squared Value:  0.8549267900394896\n",
      "Adjusted R-Squared:  0.8521094968228026\n",
      "RMSE:  12.99428649071536\n"
     ]
    }
   ],
   "source": [
    "VotingReg(X_train, X_test, y_train, y_test, verbose=True, clf=None)"
   ]
  },
  {
   "cell_type": "markdown",
   "metadata": {
    "id": "lJCkuRb5hwVU"
   },
   "source": [
    "# Lasso L1 FS"
   ]
  },
  {
   "cell_type": "code",
   "execution_count": 40,
   "metadata": {
    "id": "xtDxZWVUhwZc"
   },
   "outputs": [],
   "source": [
    "from sklearn.linear_model import  Lasso \n",
    "model = Lasso(alpha=0.1)\n",
    "model.fit(X, y)\n",
    "\n",
    "# get importance\n",
    "importance = model.coef_\n",
    "\n",
    "#feat_importances = pd.Series(importance, index=X_train.columns)"
   ]
  },
  {
   "cell_type": "code",
   "execution_count": 43,
   "metadata": {},
   "outputs": [
    {
     "name": "stdout",
     "output_type": "stream",
     "text": [
      "Selected Features =['entropy_ThermalConductivity', 'wtd_range_Valence', 'wtd_entropy_FusionHeat', 'wtd_entropy_ThermalConductivity', 'std_ElectronAffinity', 'wtd_mean_ElectronAffinity', 'std_FusionHeat', 'mean_atomic_radius', 'range_Valence', 'wtd_mean_atomic_radius', 'wtd_mean_ThermalConductivity', 'mean_atomic_mass', 'mean_FusionHeat', 'gmean_ElectronAffinity', 'wtd_std_atomic_radius', 'wtd_range_FusionHeat', 'std_ThermalConductivity', 'range_atomic_mass', 'range_atomic_radius', 'wtd_gmean_FusionHeat']\n"
     ]
    }
   ],
   "source": [
    "res = pd.Series(importance, index=X.columns.values).sort_values(ascending=False)*100\n",
    "res.nlargest(10)\n",
    "#print(res)\n",
    "threshold = 10\n",
    "impftrs = list(res[res > threshold].keys())\n",
    "    #impftrs.append(label_col)\n",
    "    \n",
    "print (\"Selected Features =\" + str(impftrs))\n"
   ]
  },
  {
   "cell_type": "code",
   "execution_count": 44,
   "metadata": {},
   "outputs": [],
   "source": [
    "from sklearn.model_selection import train_test_split\n",
    "\n",
    "Selected_Features =['entropy_ThermalConductivity', 'wtd_range_Valence', 'wtd_entropy_FusionHeat', 'wtd_entropy_ThermalConductivity', 'std_ElectronAffinity', 'wtd_mean_ElectronAffinity', 'std_FusionHeat', 'mean_atomic_radius', 'range_Valence', 'wtd_mean_atomic_radius', 'wtd_mean_ThermalConductivity', 'mean_atomic_mass', 'mean_FusionHeat', 'gmean_ElectronAffinity', 'wtd_std_atomic_radius', 'wtd_range_FusionHeat', 'std_ThermalConductivity', 'range_atomic_mass', 'range_atomic_radius', 'wtd_gmean_FusionHeat']\n",
    "\n",
    "copy_df = df.copy(deep=True)\n",
    "\n",
    "y = copy_df['critical_temp']\n",
    "X = copy_df[Selected_Features]\n",
    "\n",
    " #manual split\n",
    "X_train, X_test, y_train, y_test = train_test_split(X, y, test_size=0.2, random_state=0)\n"
   ]
  },
  {
   "cell_type": "markdown",
   "metadata": {
    "id": "qJqHGdL8hwdK"
   },
   "source": [
    "# MLR"
   ]
  },
  {
   "cell_type": "code",
   "execution_count": 45,
   "metadata": {},
   "outputs": [
    {
     "name": "stdout",
     "output_type": "stream",
     "text": [
      "R-Squared Value:  0.5960356232335577\n",
      "Adjusted R-Squared:  0.5941265288253987\n",
      "RMSE:  21.683548803490755\n"
     ]
    }
   ],
   "source": [
    "LinearReg(X_train, X_test, y_train, y_test, verbose=True, clf=None)"
   ]
  },
  {
   "cell_type": "markdown",
   "metadata": {},
   "source": [
    "# voting Regression"
   ]
  },
  {
   "cell_type": "code",
   "execution_count": 46,
   "metadata": {},
   "outputs": [
    {
     "name": "stdout",
     "output_type": "stream",
     "text": [
      "R-Squared Value:  0.8221514575431634\n",
      "Adjusted R-Squared:  0.821310963486184\n",
      "RMSE:  14.387455139186024\n"
     ]
    }
   ],
   "source": [
    "VotingReg(X_train, X_test, y_train, y_test, verbose=True, clf=None)"
   ]
  },
  {
   "cell_type": "markdown",
   "metadata": {},
   "source": [
    "# Recursive Feature Elimination FS"
   ]
  },
  {
   "cell_type": "code",
   "execution_count": 48,
   "metadata": {},
   "outputs": [],
   "source": [
    "from sklearn.model_selection import train_test_split\n",
    "from sklearn.preprocessing import StandardScaler\n",
    "\n",
    "copy_df = df.copy(deep=True)\n",
    "\n",
    "y = copy_df['critical_temp']\n",
    "X = copy_df.drop(['critical_temp'], axis=1)\n",
    "\n",
    "X_train, X_test, y_train, y_test = train_test_split(X, y, test_size=0.2, random_state=0)\n",
    "\n",
    "sc = StandardScaler()\n",
    "X_train = sc.fit_transform(X_train)\n",
    "X_test = sc.transform(X_test)"
   ]
  },
  {
   "cell_type": "markdown",
   "metadata": {},
   "source": [
    "# MLR"
   ]
  },
  {
   "cell_type": "code",
   "execution_count": 49,
   "metadata": {},
   "outputs": [
    {
     "name": "stdout",
     "output_type": "stream",
     "text": [
      "R-Squared Value:  0.7350976364618504\n",
      "Adjusted R-Squared:  0.729953284640563\n",
      "RMSE:  17.559079451644354\n"
     ]
    }
   ],
   "source": [
    "LinearReg(X_train, X_test, y_train, y_test, verbose=True, clf=None)"
   ]
  },
  {
   "cell_type": "markdown",
   "metadata": {},
   "source": [
    "# voting Regression"
   ]
  },
  {
   "cell_type": "code",
   "execution_count": 50,
   "metadata": {},
   "outputs": [
    {
     "name": "stdout",
     "output_type": "stream",
     "text": [
      "R-Squared Value:  0.8547419753333847\n",
      "Adjusted R-Squared:  0.8519210930514389\n",
      "RMSE:  13.002560833279173\n"
     ]
    }
   ],
   "source": [
    "VotingReg(X_train, X_test, y_train, y_test, verbose=True, clf=None)"
   ]
  },
  {
   "cell_type": "markdown",
   "metadata": {},
   "source": [
    "# Random Forest Feature Selection"
   ]
  },
  {
   "cell_type": "code",
   "execution_count": 52,
   "metadata": {},
   "outputs": [
    {
     "name": "stdout",
     "output_type": "stream",
     "text": [
      "Selected Features =['range_ThermalConductivity', 'wtd_gmean_ThermalConductivity', 'std_atomic_mass', 'wtd_gmean_Valence', 'wtd_entropy_ThermalConductivity', 'std_Density', 'mean_Density', 'range_atomic_radius']\n"
     ]
    }
   ],
   "source": [
    "from sklearn.ensemble import RandomForestRegressor\n",
    "trees=35\n",
    "threshold = 1\n",
    "clf  = RandomForestRegressor(n_estimators=trees, random_state=43)\n",
    "clf.fit(X_train, y_train)\n",
    "#validationmetrics(clf,testX,testY)\n",
    "res = pd.Series(clf.feature_importances_, index=X.columns.values).sort_values(ascending=False)*100\n",
    "res.nlargest(10)\n",
    "\n",
    "impftrs = list(res[res > threshold].keys())\n",
    "    #impftrs.append(label_col)\n",
    "    \n",
    "print (\"Selected Features =\" + str(impftrs))\n"
   ]
  },
  {
   "cell_type": "code",
   "execution_count": 53,
   "metadata": {},
   "outputs": [],
   "source": [
    "Selected_Features =['range_ThermalConductivity', 'wtd_gmean_ThermalConductivity', 'std_atomic_mass', 'wtd_gmean_Valence', 'wtd_entropy_ThermalConductivity', 'std_Density', 'mean_Density', 'range_atomic_radius']"
   ]
  },
  {
   "cell_type": "code",
   "execution_count": 54,
   "metadata": {},
   "outputs": [],
   "source": [
    "from sklearn.model_selection import train_test_split\n",
    "from sklearn.preprocessing import StandardScaler\n",
    "\n",
    "copy_df = df.copy(deep=True)\n",
    "\n",
    "y = copy_df['critical_temp']\n",
    "X = copy_df[Selected_Features]\n",
    "\n",
    "X_train, X_test, y_train, y_test = train_test_split(X, y, test_size=0.2, random_state=0)\n",
    "\n",
    "sc = StandardScaler()\n",
    "X_train = sc.fit_transform(X_train)\n",
    "X_test = sc.transform(X_test)"
   ]
  },
  {
   "cell_type": "markdown",
   "metadata": {},
   "source": [
    "# MLR"
   ]
  },
  {
   "cell_type": "code",
   "execution_count": 55,
   "metadata": {},
   "outputs": [
    {
     "name": "stdout",
     "output_type": "stream",
     "text": [
      "R-Squared Value:  0.5306583882568381\n",
      "Adjusted R-Squared:  0.5297736726833354\n",
      "RMSE:  23.37240254131212\n"
     ]
    }
   ],
   "source": [
    "LinearReg(X_train, X_test, y_train, y_test, verbose=True, clf=None)"
   ]
  },
  {
   "cell_type": "markdown",
   "metadata": {},
   "source": [
    "# Voting Regression"
   ]
  },
  {
   "cell_type": "code",
   "execution_count": 56,
   "metadata": {},
   "outputs": [
    {
     "name": "stdout",
     "output_type": "stream",
     "text": [
      "R-Squared Value:  0.8133072552212592\n",
      "Adjusted R-Squared:  0.8129553367579628\n",
      "RMSE:  14.740850706409313\n"
     ]
    }
   ],
   "source": [
    "VotingReg(X_train, X_test, y_train, y_test, verbose=True, clf=None)"
   ]
  },
  {
   "cell_type": "markdown",
   "metadata": {},
   "source": [
    "# XGBoost FS"
   ]
  },
  {
   "cell_type": "code",
   "execution_count": 58,
   "metadata": {},
   "outputs": [],
   "source": [
    "from sklearn.model_selection import train_test_split\n",
    "from sklearn.preprocessing import StandardScaler\n",
    "\n",
    "copy_df = df.copy(deep=True)\n",
    "\n",
    "y = copy_df['critical_temp']\n",
    "X = copy_df.drop(['critical_temp'], axis=1)"
   ]
  },
  {
   "cell_type": "code",
   "execution_count": 59,
   "metadata": {},
   "outputs": [
    {
     "data": {
      "text/plain": [
       "array([4.2191874e-05, 1.7712238e-04, 4.6843546e-04, 7.7097898e-04,\n",
       "       1.8977236e-03, 4.6787944e-04, 3.4179803e-04, 1.4333441e-03,\n",
       "       1.6497705e-03, 7.9780258e-03, 1.0751603e-03, 9.1478886e-04,\n",
       "       5.6213245e-04, 1.4577749e-03, 6.4081344e-04, 7.0154131e-04,\n",
       "       1.2919659e-03, 2.5012335e-03, 1.7838139e-03, 1.1008037e-03,\n",
       "       6.6611433e-04, 1.2285092e-03, 4.9558200e-04, 9.7456184e-04,\n",
       "       5.1447074e-04, 7.5199036e-04, 5.4272846e-04, 2.5924237e-02,\n",
       "       9.4335625e-04, 3.7393263e-03, 9.7590522e-04, 4.4796518e-03,\n",
       "       1.1236536e-03, 7.1711657e-03, 1.3665581e-03, 3.6313445e-03,\n",
       "       1.2841166e-03, 4.4343213e-04, 9.8304846e-04, 1.3008382e-02,\n",
       "       4.7172917e-04, 8.8417344e-04, 1.1174984e-03, 1.4615644e-02,\n",
       "       2.7600154e-03, 5.8266573e-04, 9.5098867e-04, 8.9433067e-04,\n",
       "       1.2135064e-03, 2.8338931e-03, 3.9688209e-03, 7.0860924e-04,\n",
       "       7.2597258e-04, 1.2870702e-03, 1.1737121e-03, 1.2025309e-03,\n",
       "       1.2831900e-03, 1.4585519e-03, 4.4313032e-04, 1.1323994e-03,\n",
       "       5.2883284e-04, 1.3175247e-03, 4.7307159e-03, 5.1007810e-04,\n",
       "       4.5721494e-02, 6.4663449e-03, 3.8606864e-03, 7.6906061e-01,\n",
       "       7.6988514e-04, 6.4860657e-04, 2.2749312e-03, 8.5563114e-04,\n",
       "       2.6307043e-03, 1.2475771e-03, 1.0031640e-02, 1.0258198e-03,\n",
       "       1.3379641e-03, 1.6340993e-03, 4.7914372e-03, 1.1896859e-03,\n",
       "       2.1518266e-03], dtype=float32)"
      ]
     },
     "execution_count": 59,
     "metadata": {},
     "output_type": "execute_result"
    }
   ],
   "source": [
    "from xgboost import plot_importance\n",
    "from xgboost import XGBRegressor\n",
    "from matplotlib import pyplot\n",
    "# fit model no training data\n",
    "model = XGBRegressor()\n",
    "model.fit(X, y)\n",
    "\n",
    "model.feature_importances_\n",
    "# eval model\n",
    "#X_train = X_train.feature_names"
   ]
  },
  {
   "cell_type": "code",
   "execution_count": 60,
   "metadata": {},
   "outputs": [],
   "source": [
    "feature = []\n",
    "for col,score in zip(X.columns,model.feature_importances_):\n",
    "    feature.append(col)\n",
    "features = pd.Series(feature)"
   ]
  },
  {
   "cell_type": "code",
   "execution_count": 61,
   "metadata": {},
   "outputs": [],
   "source": [
    "X = X[features]"
   ]
  },
  {
   "cell_type": "code",
   "execution_count": 62,
   "metadata": {},
   "outputs": [],
   "source": [
    "X_train, X_test, y_train, y_test = train_test_split(X, y, test_size=0.2, random_state=0)\n",
    "sc = StandardScaler()\n",
    "X_train = sc.fit_transform(X_train)\n",
    "X_test = sc.transform(X_test)"
   ]
  },
  {
   "cell_type": "markdown",
   "metadata": {},
   "source": [
    "# MLR"
   ]
  },
  {
   "cell_type": "code",
   "execution_count": 63,
   "metadata": {},
   "outputs": [
    {
     "name": "stdout",
     "output_type": "stream",
     "text": [
      "R-Squared Value:  0.7350976364618504\n",
      "Adjusted R-Squared:  0.729953284640563\n",
      "RMSE:  17.559079451644354\n"
     ]
    }
   ],
   "source": [
    "LinearReg(X_train, X_test, y_train, y_test, verbose=True, clf=None)"
   ]
  },
  {
   "cell_type": "markdown",
   "metadata": {},
   "source": [
    "# Voting Regression"
   ]
  },
  {
   "cell_type": "code",
   "execution_count": 64,
   "metadata": {},
   "outputs": [
    {
     "name": "stdout",
     "output_type": "stream",
     "text": [
      "R-Squared Value:  0.8549271023778133\n",
      "Adjusted R-Squared:  0.8521098152266752\n",
      "RMSE:  12.994272502550876\n"
     ]
    }
   ],
   "source": [
    "VotingReg(X_train, X_test, y_train, y_test, verbose=True, clf=None)"
   ]
  }
 ],
 "metadata": {
  "accelerator": "GPU",
  "colab": {
   "name": "Dataset1_DR.ipynb",
   "provenance": []
  },
  "kernelspec": {
   "display_name": "Python 3",
   "language": "python",
   "name": "python3"
  },
  "language_info": {
   "codemirror_mode": {
    "name": "ipython",
    "version": 3
   },
   "file_extension": ".py",
   "mimetype": "text/x-python",
   "name": "python",
   "nbconvert_exporter": "python",
   "pygments_lexer": "ipython3",
   "version": "3.8.5"
  }
 },
 "nbformat": 4,
 "nbformat_minor": 1
}
