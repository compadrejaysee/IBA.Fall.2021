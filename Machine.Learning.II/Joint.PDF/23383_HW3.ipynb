{
 "cells": [
  {
   "cell_type": "code",
   "execution_count": 171,
   "source": [
    "from scipy import integrate\r\n",
    "import math\r\n",
    "import pandas as pd"
   ],
   "outputs": [],
   "metadata": {}
  },
  {
   "cell_type": "markdown",
   "source": [
    "# Continuous Probability Distribution"
   ],
   "metadata": {}
  },
  {
   "cell_type": "code",
   "execution_count": 166,
   "source": [
    "class contjointPDF:\r\n",
    "    # constructor to initialize given function, range of x and range of y\r\n",
    "    def __init__(self, probfunc, rangex, rangey):\r\n",
    "\r\n",
    "        self.probfunction = probfunc\r\n",
    "        self.lower_bound_x = rangex[0]\r\n",
    "        self.upper_bound_x = rangex[1]\r\n",
    "        self.lower_bound_y = rangey[0]\r\n",
    "        self.upper_bound_y = rangey[1]\r\n",
    "    \r\n",
    "    # calculate joint probability\r\n",
    "    def jointxy(self, lower_x, upper_x, lower_y, upper_y, func_to_integrate = 1):\r\n",
    "        if func_to_integrate == 1:\r\n",
    "            return integrate.dblquad(self.probfunction, lower_x, upper_x, lambda x: lower_y, lambda x: upper_y)[0]\r\n",
    "        else:\r\n",
    "            return integrate.dblquad(func_to_integrate, lower_x, upper_x, lambda x: lower_y, lambda x: upper_y)[0]\r\n",
    "    \r\n",
    "    #calculate marginal probability of c\r\n",
    "    def marginal_x(self,lower_x, upper_x):\r\n",
    "        return integrate.dblquad(self.probfunction, lower_x, upper_x, lambda x: self.lower_bound_y, lambda x: self.upper_bound_y)[0]\r\n",
    "    \r\n",
    "    #calculate marginal probability of y\r\n",
    "    def marginal_y(self,lower_y, upper_y):\r\n",
    "        return integrate.dblquad(self.probfunction, self.lower_bound_x, self.upper_bound_x, lambda x: lower_y, lambda x: upper_y)[0]\r\n",
    "\r\n",
    "    # caclulate conditional probability of x given y\r\n",
    "    def cond_x_given_y(self, upper_x, upper_y):\r\n",
    "        # f(x | y ) = f(x,y) / f(y)\r\n",
    "        f_y, _ = integrate.quad(self.probfunction, self.lower_bound_x, self.upper_bound_x, args=(upper_y))\r\n",
    "        def resultant_func( x):\r\n",
    "            return (1 / (f_y)) * self.probfunction(upper_y, x)\r\n",
    "        resultant_prob, _ = integrate.quad(resultant_func, self.lower_bound_x, upper_x)\r\n",
    "        return resultant_prob\r\n",
    "\r\n",
    "    #calculate conditional probability of y given x\r\n",
    "    def cond_y_given_x(self,upper_y, upper_x):\r\n",
    "        # f(y | x ) = f(x,y) / f(x)\r\n",
    "        f_x, _ = integrate.quad(self.probfunction, self.lower_bound_y, self.upper_bound_y, args=(upper_x))\r\n",
    "        def resultant_func( y):\r\n",
    "            return (1 / (f_x)) * self.probfunction(y, upper_x)\r\n",
    "        resultant_prob, _ = integrate.quad(resultant_func, self.lower_bound_y, upper_y)\r\n",
    "        return resultant_prob\r\n",
    "\r\n",
    "    #calculate expectation of x\r\n",
    "    def expectation_x(self):\r\n",
    "        def multiply_x(y,x): \r\n",
    "            return x*self.probfunction(y,x)\r\n",
    "        return self.jointxy(self.lower_bound_x, self.upper_bound_x, self.lower_bound_y, self.upper_bound_y, multiply_x)\r\n",
    "\r\n",
    "    #calculate expectation of y     \r\n",
    "    def expectation_y(self): \r\n",
    "        def multiply_y(y,x): \r\n",
    "            return y*self.probfunction(y,x)\r\n",
    "        return self.jointxy(self.lower_bound_x, self.upper_bound_x, self.lower_bound_y, self.upper_bound_y, multiply_y)\r\n",
    "    \r\n",
    "    # calculate conditional expectation of y given x\r\n",
    "    def cond_expect_y_given_x(self, x_value):\r\n",
    "        # f(y | x ) = f(x,y) / f(x)\r\n",
    "        f_x, _ = integrate.quad(self.probfunction, self.lower_bound_y, self.upper_bound_y, args=(x_value))\r\n",
    "        def resultant_func( y):\r\n",
    "            return (y / (f_x)) * self.probfunction(y, x_value)\r\n",
    "        resultant_prob, _ = integrate.quad(resultant_func, self.lower_bound_y, self.upper_bound_y)\r\n",
    "        return resultant_prob\r\n",
    "\r\n",
    "    # calculate conditional ecpectation of x given y\r\n",
    "    def cond_expect_x_given_y(self, y_value):\r\n",
    "         # f(x| y ) = f(x,y) / f(y)\r\n",
    "        f_y, _ = integrate.quad(self.probfunction, self.lower_bound_x, self.upper_bound_x, args=(y_value))\r\n",
    "        def resultant_func( x):\r\n",
    "            return (x / (f_y)) * self.probfunction(y_value, x)\r\n",
    "        resultant_prob, _ = integrate.quad(resultant_func, self.lower_bound_x, self.upper_bound_x)\r\n",
    "        return resultant_prob\r\n",
    "\r\n",
    "    #variance of x\r\n",
    "    def variance_x(self):\r\n",
    "        def multiply_x_squared(y,x): \r\n",
    "            return (x**2)*self.probfunction(y,x)\r\n",
    "        e_x_squared = self.jointxy(self.lower_bound_x, self.upper_bound_x, self.lower_bound_y, self.upper_bound_y, multiply_x_squared)\r\n",
    "        variance_of_x = e_x_squared - (self.expectation_x())**2\r\n",
    "        return variance_of_x\r\n",
    "\r\n",
    "    #variance of y\r\n",
    "    def variance_y(self): \r\n",
    "        def multiply_y_squared(y,x): \r\n",
    "            return (y**2)*self.probfunction(y,x)\r\n",
    "        e_y_squared = self.jointxy(self.lower_bound_x, self.upper_bound_x, self.lower_bound_y, self.upper_bound_y, multiply_y_squared)\r\n",
    "        variance_of_y = e_y_squared - (self.expectation_y())**2\r\n",
    "        return variance_of_y\r\n",
    "\r\n",
    "    # conditional variance of x given y\r\n",
    "    def cond_var_x_given_y(self, y_value):\r\n",
    "        #Var(X|Y) = E[X^2|Y] − (E[X|Y])^2\r\n",
    "        f_y, _ = integrate.quad(self.probfunction, self.lower_bound_x, self.upper_bound_x, args=(y_value))\r\n",
    "        def resultant_func( x):\r\n",
    "            return ((x**2) / (f_y)) * self.probfunction(y_value, x)\r\n",
    "        e_x_squared_given_y , _ = integrate.quad(resultant_func, self.lower_bound_x, self.upper_bound_x)\r\n",
    "        e_x_given_y_squared = ( self.cond_expect_x_given_y( y_value) )**2\r\n",
    "        return e_x_squared_given_y - e_x_given_y_squared\r\n",
    "\r\n",
    "    # conditional variance of y given x\r\n",
    "    def cond_var_y_given_x(self, x_value):\r\n",
    "        #Var(Y|X) = E[Y^2|X] − (E[Y|X])^2\r\n",
    "        f_x, _ = integrate.quad(self.probfunction, self.lower_bound_y, self.upper_bound_y, args=(x_value))\r\n",
    "        def resultant_func( y):\r\n",
    "            return ((y**2) / (f_x)) * self.probfunction(y, x_value)\r\n",
    "        e_y_squared_given_x , _ = integrate.quad(resultant_func, self.lower_bound_x, self.upper_bound_x)\r\n",
    "        e_y_given_x_squared = ( self.cond_expect_y_given_x( x_value) )**2\r\n",
    "        return e_y_squared_given_x - e_y_given_x_squared\r\n",
    "\r\n",
    "    # covariance of x and y\r\n",
    "    def covariance(self):\r\n",
    "        def multiply_x_y(y,x): \r\n",
    "            return y*x*self.probfunction(y,x)\r\n",
    "        e_xy = self.jointxy(self.lower_bound_x, self.upper_bound_x, self.lower_bound_y, self.upper_bound_y, multiply_x_y)\r\n",
    "        covariance_xy = e_xy - (self.expectation_x()*self.expectation_y())\r\n",
    "        return covariance_xy\r\n",
    "    \r\n",
    "    # correlation of x and y\r\n",
    "    def correlation(self):\r\n",
    "        stand_x = math.sqrt(self.variance_x())\r\n",
    "        stand_y = math.sqrt(self.variance_y())\r\n",
    "        return self.covariance() / (stand_x * stand_y)\r\n",
    "    \r\n",
    "    def check_independence\r\n"
   ],
   "outputs": [],
   "metadata": {}
  },
  {
   "cell_type": "code",
   "execution_count": 253,
   "source": [
    "def myfunction(y,x):\r\n",
    "    return x**2+y\r\n",
    "\r\n",
    "# initialise by giving enquation, range of x and range of y\r\n",
    "calc_continuous = contjointPDF(myfunction,  (0,1), (0,0.9))\r\n"
   ],
   "outputs": [
    {
     "output_type": "execute_result",
     "data": {
      "text/plain": [
       "0.5261921197753822"
      ]
     },
     "metadata": {},
     "execution_count": 253
    }
   ],
   "metadata": {}
  },
  {
   "cell_type": "code",
   "execution_count": 254,
   "source": [
    "# find probability 0 < x< 0.5, 0 < y <0.6\r\n",
    "calc_continuous.jointxy(0, 0.5, 0, 0.6)"
   ],
   "outputs": [
    {
     "output_type": "execute_result",
     "data": {
      "text/plain": [
       "0.11499999999999999"
      ]
     },
     "metadata": {},
     "execution_count": 254
    }
   ],
   "metadata": {}
  },
  {
   "cell_type": "code",
   "execution_count": 255,
   "source": [
    "# calculate 0 < x < 1\r\n",
    "calc_continuous.marginal_x(0, 0.7)"
   ],
   "outputs": [
    {
     "output_type": "execute_result",
     "data": {
      "text/plain": [
       "0.3863999999999999"
      ]
     },
     "metadata": {},
     "execution_count": 255
    }
   ],
   "metadata": {}
  },
  {
   "cell_type": "code",
   "execution_count": 256,
   "source": [
    "# calculate 0 < y < 0.3\r\n",
    "calc_continuous.marginal_y(0, 0.3)"
   ],
   "outputs": [
    {
     "output_type": "execute_result",
     "data": {
      "text/plain": [
       "0.14500000000000002"
      ]
     },
     "metadata": {},
     "execution_count": 256
    }
   ],
   "metadata": {}
  },
  {
   "cell_type": "code",
   "execution_count": 257,
   "source": [
    "# prob x < 0.5 given y < 0.6\r\n",
    "calc_continuous.cond_x_given_y(0.5, 0.6) "
   ],
   "outputs": [
    {
     "output_type": "execute_result",
     "data": {
      "text/plain": [
       "0.3972868217054263"
      ]
     },
     "metadata": {},
     "execution_count": 257
    }
   ],
   "metadata": {}
  },
  {
   "cell_type": "code",
   "execution_count": 258,
   "source": [
    "# prob y < 0.7 given x <0.3\r\n",
    "calc_continuous.cond_y_given_x(0.7, 0.3) # 0.7202"
   ],
   "outputs": [
    {
     "output_type": "execute_result",
     "data": {
      "text/plain": [
       "0.6337448559670782"
      ]
     },
     "metadata": {},
     "execution_count": 258
    }
   ],
   "metadata": {}
  },
  {
   "cell_type": "code",
   "execution_count": 259,
   "source": [
    "# expectation of x\r\n",
    "calc_continuous.expectation_x() # 1.1025"
   ],
   "outputs": [
    {
     "output_type": "execute_result",
     "data": {
      "text/plain": [
       "0.4275"
      ]
     },
     "metadata": {},
     "execution_count": 259
    }
   ],
   "metadata": {}
  },
  {
   "cell_type": "code",
   "execution_count": 260,
   "source": [
    "\r\n",
    "# expectation of y\r\n",
    "calc_continuous.expectation_y() # 0.854"
   ],
   "outputs": [
    {
     "output_type": "execute_result",
     "data": {
      "text/plain": [
       "0.37800000000000006"
      ]
     },
     "metadata": {},
     "execution_count": 260
    }
   ],
   "metadata": {}
  },
  {
   "cell_type": "code",
   "execution_count": 261,
   "source": [
    "# conditioal expectation of y given x = 0.3\r\n",
    "calc_continuous.cond_expect_y_given_x(0.3) # 0.5"
   ],
   "outputs": [
    {
     "output_type": "execute_result",
     "data": {
      "text/plain": [
       "0.5750000000000001"
      ]
     },
     "metadata": {},
     "execution_count": 261
    }
   ],
   "metadata": {}
  },
  {
   "cell_type": "code",
   "execution_count": 262,
   "source": [
    "# conditional expectation of x given y = 0.75\r\n",
    "calc_continuous.cond_expect_x_given_y(0.8) # 0.483"
   ],
   "outputs": [
    {
     "output_type": "execute_result",
     "data": {
      "text/plain": [
       "0.5701754385964912"
      ]
     },
     "metadata": {},
     "execution_count": 262
    }
   ],
   "metadata": {}
  },
  {
   "cell_type": "code",
   "execution_count": 263,
   "source": [
    "# variance of x \r\n",
    "calc_continuous.variance_x()"
   ],
   "outputs": [
    {
     "output_type": "execute_result",
     "data": {
      "text/plain": [
       "0.13224374999999997"
      ]
     },
     "metadata": {},
     "execution_count": 263
    }
   ],
   "metadata": {}
  },
  {
   "cell_type": "code",
   "execution_count": 264,
   "source": [
    "#variance y \r\n",
    "calc_continuous.variance_y()"
   ],
   "outputs": [
    {
     "output_type": "execute_result",
     "data": {
      "text/plain": [
       "0.10214100000000001"
      ]
     },
     "metadata": {},
     "execution_count": 264
    }
   ],
   "metadata": {}
  },
  {
   "cell_type": "code",
   "execution_count": 265,
   "source": [
    "#conditional variance of x given y = 0.5\r\n",
    "calc_continuous.cond_var_x_given_y(0.5)"
   ],
   "outputs": [
    {
     "output_type": "execute_result",
     "data": {
      "text/plain": [
       "0.04444444444444451"
      ]
     },
     "metadata": {},
     "execution_count": 265
    }
   ],
   "metadata": {}
  },
  {
   "cell_type": "code",
   "execution_count": 266,
   "source": [
    "#conditional variance of y given x = 0.4\r\n",
    "calc_continuous.cond_var_y_given_x(0.4)"
   ],
   "outputs": [
    {
     "output_type": "execute_result",
     "data": {
      "text/plain": [
       "0.23818487662615595"
      ]
     },
     "metadata": {},
     "execution_count": 266
    }
   ],
   "metadata": {}
  },
  {
   "cell_type": "code",
   "execution_count": 267,
   "source": [
    "#covariance of x and y\r\n",
    "calc_continuous.covariance()"
   ],
   "outputs": [
    {
     "output_type": "execute_result",
     "data": {
      "text/plain": [
       "0.06115500000000004"
      ]
     },
     "metadata": {},
     "execution_count": 267
    }
   ],
   "metadata": {}
  },
  {
   "cell_type": "code",
   "execution_count": 268,
   "source": [
    "# correlation of x and y\r\n",
    "calc_continuous.correlation()"
   ],
   "outputs": [
    {
     "output_type": "execute_result",
     "data": {
      "text/plain": [
       "0.5261921197753822"
      ]
     },
     "metadata": {},
     "execution_count": 268
    }
   ],
   "metadata": {}
  },
  {
   "cell_type": "code",
   "execution_count": 287,
   "source": [
    "class discretejointPMF:\r\n",
    "    \r\n",
    "    def __init__(self, prob_table):\r\n",
    "        self.prob_table = prob_table\r\n",
    "    \r\n",
    "    def jointprob(self,x,y):\r\n",
    "        return self.prob_table[x][y]\r\n",
    "    \r\n",
    "    def marginal_x(self,x_value):\r\n",
    "        return self.prob_table[x_value].sum()\r\n",
    "\r\n",
    "    def marginal_y(self,y_value):\r\n",
    "        return self.prob_table.loc[y_value].sum()\r\n",
    "\r\n",
    "    def cond_y_given_x(self,y,x):\r\n",
    "        joint_prob = self.jointprob(x,y)\r\n",
    "        marginal_of_x = self.marginal_x(x)\r\n",
    "        return joint_prob / marginal_of_x\r\n",
    "    \r\n",
    "    def cond_x_given_y(self,x,y):\r\n",
    "        joint_prob = self.jointprob(x,y)\r\n",
    "        marginal_of_y = self.marginal_y(y)\r\n",
    "        return joint_prob / marginal_of_y\r\n",
    "    \r\n",
    "    def expectation_x(self):\r\n",
    "        x_values = self.prob_table.columns\r\n",
    "        marginal_prob_of_each_x = [self.marginal_x(i) for i in x_values]\r\n",
    "        e_x = sum( [ x_values[i]*marginal_prob_of_each_x[i] for i in range(len(x_values))])\r\n",
    "        return e_x\r\n",
    "\r\n",
    "\r\n",
    "    def expectation_y(self):\r\n",
    "        y_values = self.prob_table.index\r\n",
    "        marginal_prob_of_each_y = [self.marginal_y(i) for i in y_values]\r\n",
    "        e_y = sum( [ y_values[i]*marginal_prob_of_each_y[i] for i in range(len(y_values))])\r\n",
    "        return e_y\r\n",
    "\r\n",
    "    def cond_expect_y_given_x(self, x):\r\n",
    "        # E(Y|X)\r\n",
    "        y_values = self.prob_table.index\r\n",
    "        prob_y_x = [self.cond_y_given_x(i,x) for i in y_values]\r\n",
    "        e_y_given_x = sum([y_values[i] * prob_y_x[i] for i in range(len(y_values)) ])\r\n",
    "        return e_y_given_x\r\n",
    "\r\n",
    "\r\n",
    "    def cond_expect_x_given_y(self, y):\r\n",
    "        # E(X|Y)\r\n",
    "        x_values = self.prob_table.columns\r\n",
    "        prob_x_y = [self.cond_x_given_y(i,y) for i in x_values]\r\n",
    "        e_x_given_y = sum([x_values[i] * prob_x_y[i] for i in range(len(x_values)) ])\r\n",
    "        return e_x_given_y\r\n",
    "\r\n",
    "    def variance_x(self):\r\n",
    "        x_values = self.prob_table.columns\r\n",
    "        marginal_prob_of_each_x = [self.marginal_x(i) for i in x_values]\r\n",
    "        e_x_squared = sum( [ (x_values[i]**2)*marginal_prob_of_each_x[i] for i in range(len(x_values))])\r\n",
    "        return e_x_squared - (self.expectation_x())**2\r\n",
    "\r\n",
    "    def variance_y(self):\r\n",
    "        y_values = self.prob_table.index\r\n",
    "        marginal_prob_of_each_y = [self.marginal_y(i) for i in y_values]\r\n",
    "        e_y_squared = sum( [ (y_values[i]**2)*marginal_prob_of_each_y[i] for i in range(len(y_values))])\r\n",
    "        return e_y_squared - (self.expectation_y())**2\r\n",
    "\r\n",
    "    def cond_var_x_given_y(self,y):\r\n",
    "        #E(X^2|Y) - (E(X|Y)^2)\r\n",
    "        x_values = self.prob_table.columns\r\n",
    "        prob_x_y = [self.cond_x_given_y(i,y) for i in x_values]\r\n",
    "        e_x_squared_given_y = sum([(x_values[i]**2) * prob_x_y[i] for i in range(len(x_values)) ])\r\n",
    "        return e_x_squared_given_y - (self.cond_expect_x_given_y(y)**2)\r\n",
    "\r\n",
    "\r\n",
    "    def cond_var_y_given_x(self,x):\r\n",
    "        y_values = self.prob_table.index\r\n",
    "        prob_y_x = [self.cond_y_given_x(i,x) for i in y_values]\r\n",
    "        e_y_squared_given_x = sum([(y_values[i]**2) * prob_y_x[i] for i in range(len(y_values)) ])\r\n",
    "        return e_y_squared_given_x - (self.cond_expect_y_given_x(x)**2)\r\n",
    "\r\n",
    "    def covariance(self):\r\n",
    "        #E[XY] - E[X]E[Y]\r\n",
    "        x_values = self.prob_table.columns\r\n",
    "        y_values = self.prob_table.index\r\n",
    "\r\n",
    "        xy_multiply_prob = []\r\n",
    "        for i in x_values:\r\n",
    "            for j in y_values:\r\n",
    "                xy_multiply_prob.append(i*j*self.prob_table[i][j])\r\n",
    "        exy = sum(xy_multiply_prob)\r\n",
    "        return exy - (self.expectation_x()* self.expectation_y())\r\n",
    "\r\n",
    "\r\n",
    "    def correlation(self):\r\n",
    "        # corr = cov(x,y)/ standx*standy\r\n",
    "        stand_x = math.sqrt(self.variance_x())\r\n",
    "        stand_y = math.sqrt(self.variance_y())\r\n",
    "        return self.covariance() / (stand_x*stand_y)\r\n",
    "\r\n",
    "    def check_independence(self, x, y):\r\n",
    "        return self.prob_table[x][y] == self.marginal_x(x) * self.marginal_y(y)\r\n",
    "    "
   ],
   "outputs": [],
   "metadata": {}
  },
  {
   "cell_type": "markdown",
   "source": [
    "# Discrete Probability distribution"
   ],
   "metadata": {}
  },
  {
   "cell_type": "code",
   "execution_count": 288,
   "source": [
    "# Discrete Probability distribution\r\n",
    "\r\n",
    "#measurememnt of length and width of a box are rounded to nearest mm\r\n",
    "\r\n",
    "#Let X denote the length\r\n",
    "#Let y denot the width\r\n",
    "\r\n",
    "#The possible values of X are 130, 131, 132\r\n",
    "#The possible values of Y are 20, 21\r\n",
    "# there are six combinations\r\n",
    "\r\n",
    "prob_table = pd.DataFrame({ 130: [0.12, 0.08],\r\n",
    "                131 : [0.42, 0.28],\r\n",
    "                132 : [0.06, 0.04]\r\n",
    "                })\r\n",
    "prob_table = prob_table.rename(index = {0: 20, 1: 21})\r\n",
    "\r\n",
    "prob_table"
   ],
   "outputs": [
    {
     "output_type": "execute_result",
     "data": {
      "text/html": [
       "<div>\n",
       "<style scoped>\n",
       "    .dataframe tbody tr th:only-of-type {\n",
       "        vertical-align: middle;\n",
       "    }\n",
       "\n",
       "    .dataframe tbody tr th {\n",
       "        vertical-align: top;\n",
       "    }\n",
       "\n",
       "    .dataframe thead th {\n",
       "        text-align: right;\n",
       "    }\n",
       "</style>\n",
       "<table border=\"1\" class=\"dataframe\">\n",
       "  <thead>\n",
       "    <tr style=\"text-align: right;\">\n",
       "      <th></th>\n",
       "      <th>130</th>\n",
       "      <th>131</th>\n",
       "      <th>132</th>\n",
       "    </tr>\n",
       "  </thead>\n",
       "  <tbody>\n",
       "    <tr>\n",
       "      <th>20</th>\n",
       "      <td>0.12</td>\n",
       "      <td>0.42</td>\n",
       "      <td>0.06</td>\n",
       "    </tr>\n",
       "    <tr>\n",
       "      <th>21</th>\n",
       "      <td>0.08</td>\n",
       "      <td>0.28</td>\n",
       "      <td>0.04</td>\n",
       "    </tr>\n",
       "  </tbody>\n",
       "</table>\n",
       "</div>"
      ],
      "text/plain": [
       "     130   131   132\n",
       "20  0.12  0.42  0.06\n",
       "21  0.08  0.28  0.04"
      ]
     },
     "metadata": {},
     "execution_count": 288
    }
   ],
   "metadata": {}
  },
  {
   "cell_type": "code",
   "execution_count": 292,
   "source": [
    "calc_discrete = discretejointPMF(prob_table)\r\n",
    "# find the joint probability\r\n",
    "calc_discrete.jointprob(130,20)"
   ],
   "outputs": [
    {
     "output_type": "execute_result",
     "data": {
      "text/plain": [
       "0.12"
      ]
     },
     "metadata": {},
     "execution_count": 292
    }
   ],
   "metadata": {}
  },
  {
   "cell_type": "code",
   "execution_count": 239,
   "source": [
    "# find probability that x = 131\r\n",
    "calc_discrete.marginal_x(131)"
   ],
   "outputs": [
    {
     "output_type": "execute_result",
     "data": {
      "text/plain": [
       "0.7"
      ]
     },
     "metadata": {},
     "execution_count": 239
    }
   ],
   "metadata": {}
  },
  {
   "cell_type": "code",
   "execution_count": 240,
   "source": [
    "# find probability that y = 21\r\n",
    "calc_discrete.marginal_y(21)"
   ],
   "outputs": [
    {
     "output_type": "execute_result",
     "data": {
      "text/plain": [
       "0.4"
      ]
     },
     "metadata": {},
     "execution_count": 240
    }
   ],
   "metadata": {}
  },
  {
   "cell_type": "code",
   "execution_count": 241,
   "source": [
    "# find conditional probability of y =21 given x = 131\r\n",
    "calc_discrete.cond_y_given_x(21,131)"
   ],
   "outputs": [
    {
     "output_type": "execute_result",
     "data": {
      "text/plain": [
       "0.4000000000000001"
      ]
     },
     "metadata": {},
     "execution_count": 241
    }
   ],
   "metadata": {}
  },
  {
   "cell_type": "code",
   "execution_count": 242,
   "source": [
    "# find conditional probability of x =131 given y = 20\r\n",
    "calc_discrete.cond_x_given_y(132, 20)"
   ],
   "outputs": [
    {
     "output_type": "execute_result",
     "data": {
      "text/plain": [
       "0.09999999999999998"
      ]
     },
     "metadata": {},
     "execution_count": 242
    }
   ],
   "metadata": {}
  },
  {
   "cell_type": "code",
   "execution_count": 243,
   "source": [
    "# find expectation of x\r\n",
    "calc_discrete.expectation_x()"
   ],
   "outputs": [
    {
     "output_type": "execute_result",
     "data": {
      "text/plain": [
       "130.89999999999998"
      ]
     },
     "metadata": {},
     "execution_count": 243
    }
   ],
   "metadata": {}
  },
  {
   "cell_type": "code",
   "execution_count": 244,
   "source": [
    "# find expectation of y\r\n",
    "calc_discrete.expectation_y()"
   ],
   "outputs": [
    {
     "output_type": "execute_result",
     "data": {
      "text/plain": [
       "20.400000000000002"
      ]
     },
     "metadata": {},
     "execution_count": 244
    }
   ],
   "metadata": {}
  },
  {
   "cell_type": "code",
   "execution_count": 245,
   "source": [
    "# find conditional expectation of y given x = 130\r\n",
    "calc_discrete.cond_expect_y_given_x(130)"
   ],
   "outputs": [
    {
     "output_type": "execute_result",
     "data": {
      "text/plain": [
       "20.4"
      ]
     },
     "metadata": {},
     "execution_count": 245
    }
   ],
   "metadata": {}
  },
  {
   "cell_type": "code",
   "execution_count": 246,
   "source": [
    "# find conditional expectation of x given y =21\r\n",
    "calc_discrete.cond_expect_x_given_y(21)"
   ],
   "outputs": [
    {
     "output_type": "execute_result",
     "data": {
      "text/plain": [
       "130.9"
      ]
     },
     "metadata": {},
     "execution_count": 246
    }
   ],
   "metadata": {}
  },
  {
   "cell_type": "code",
   "execution_count": 247,
   "source": [
    "# find variance of x\r\n",
    "calc_discrete.variance_x()"
   ],
   "outputs": [
    {
     "output_type": "execute_result",
     "data": {
      "text/plain": [
       "0.2900000000045111"
      ]
     },
     "metadata": {},
     "execution_count": 247
    }
   ],
   "metadata": {}
  },
  {
   "cell_type": "code",
   "execution_count": 248,
   "source": [
    "# find variance of y\r\n",
    "calc_discrete.variance_y()"
   ],
   "outputs": [
    {
     "output_type": "execute_result",
     "data": {
      "text/plain": [
       "0.23999999999995225"
      ]
     },
     "metadata": {},
     "execution_count": 248
    }
   ],
   "metadata": {}
  },
  {
   "cell_type": "code",
   "execution_count": 249,
   "source": [
    "# find conditional variance of x given y =21\r\n",
    "calc_discrete.cond_var_x_given_y(21)"
   ],
   "outputs": [
    {
     "output_type": "execute_result",
     "data": {
      "text/plain": [
       "0.2900000000008731"
      ]
     },
     "metadata": {},
     "execution_count": 249
    }
   ],
   "metadata": {}
  },
  {
   "cell_type": "code",
   "execution_count": 250,
   "source": [
    "# find conditional variance of y given x = 132\r\n",
    "calc_discrete.cond_var_y_given_x(132)"
   ],
   "outputs": [
    {
     "output_type": "execute_result",
     "data": {
      "text/plain": [
       "0.2400000000000091"
      ]
     },
     "metadata": {},
     "execution_count": 250
    }
   ],
   "metadata": {}
  },
  {
   "cell_type": "code",
   "execution_count": 251,
   "source": [
    "# find covariance of x and y\r\n",
    "calc_discrete.covariance()"
   ],
   "outputs": [
    {
     "output_type": "execute_result",
     "data": {
      "text/plain": [
       "4.547473508864641e-13"
      ]
     },
     "metadata": {},
     "execution_count": 251
    }
   ],
   "metadata": {}
  },
  {
   "cell_type": "code",
   "execution_count": 252,
   "source": [
    "# find correlation\r\n",
    "calc_discrete.correlation()"
   ],
   "outputs": [
    {
     "output_type": "execute_result",
     "data": {
      "text/plain": [
       "1.723715385135353e-12"
      ]
     },
     "metadata": {},
     "execution_count": 252
    }
   ],
   "metadata": {}
  },
  {
   "cell_type": "code",
   "execution_count": 293,
   "source": [
    "#check independence\r\n",
    "calc_discrete.check_independence(130,21)"
   ],
   "outputs": [
    {
     "output_type": "execute_result",
     "data": {
      "text/plain": [
       "False"
      ]
     },
     "metadata": {},
     "execution_count": 293
    }
   ],
   "metadata": {}
  }
 ],
 "metadata": {
  "orig_nbformat": 4,
  "language_info": {
   "name": "python",
   "version": "3.9.7",
   "mimetype": "text/x-python",
   "codemirror_mode": {
    "name": "ipython",
    "version": 3
   },
   "pygments_lexer": "ipython3",
   "nbconvert_exporter": "python",
   "file_extension": ".py"
  },
  "kernelspec": {
   "name": "python3",
   "display_name": "Python 3.9.7 64-bit"
  },
  "interpreter": {
   "hash": "ab300e542198f4740520b230a8686cef27802a0ff73f91e4975ff04eb92810d9"
  }
 },
 "nbformat": 4,
 "nbformat_minor": 2
}