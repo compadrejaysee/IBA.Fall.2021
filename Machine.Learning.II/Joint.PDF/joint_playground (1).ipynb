{
 "cells": [
  {
   "cell_type": "code",
   "execution_count": 348,
   "id": "7ebb2e45",
   "metadata": {},
   "outputs": [],
   "source": [
    "import pandas as pd\n",
    "import math"
   ]
  },
  {
   "cell_type": "markdown",
   "id": "8d5e4869",
   "metadata": {},
   "source": [
    "## Give a specific continuous distribution\n",
    "1. https://www.probabilitycourse.com/chapter5/5_2_5_solved_prob.php\n",
    "2. Problem 4 has been solved in this notebook user can enter any joint function of choice"
   ]
  },
  {
   "cell_type": "markdown",
   "id": "6d6eb012",
   "metadata": {},
   "source": [
    "### 1. Acquire probability from a joint pdf"
   ]
  },
  {
   "cell_type": "code",
   "execution_count": 373,
   "id": "0bf03ba0",
   "metadata": {},
   "outputs": [
    {
     "name": "stdout",
     "output_type": "stream",
     "text": [
      "Please enter a Joint PDF function :  6*x*y\n",
      "Please enter a y lower limit :  0\n",
      "Please enter a y upper limit :  sqrt(x)\n",
      "Please enter a x lower limit :  0\n",
      "Please enter a x upper limit :  0.5\n"
     ]
    }
   ],
   "source": [
    "from sympy.parsing.sympy_parser import parse_expr\n",
    "fn=parse_expr(input('Please enter a Joint PDF function :  '))\n",
    "yl=parse_expr(input('Please enter a y lower limit :  '))\n",
    "yh=parse_expr((input('Please enter a y upper limit :  ')))\n",
    "xl=parse_expr(input('Please enter a x lower limit :  '))\n",
    "xh=parse_expr(input('Please enter a x upper limit :  '))\n",
    "from sympy import *\n",
    "x, y = symbols(\"x y\")\n",
    "res = integrate(fn, (y, yl, yh),(x, xl, xh))"
   ]
  },
  {
   "cell_type": "code",
   "execution_count": 375,
   "id": "005860c0",
   "metadata": {},
   "outputs": [
    {
     "name": "stdout",
     "output_type": "stream",
     "text": [
      "Probability is\n"
     ]
    },
    {
     "data": {
      "text/latex": [
       "$\\displaystyle 0.125$"
      ],
      "text/plain": [
       "0.125000000000000"
      ]
     },
     "execution_count": 375,
     "metadata": {},
     "output_type": "execute_result"
    }
   ],
   "source": [
    "print(\"Probability is\")\n",
    "res"
   ]
  },
  {
   "cell_type": "markdown",
   "id": "051d606d",
   "metadata": {},
   "source": [
    "### 2.  Marginal "
   ]
  },
  {
   "cell_type": "code",
   "execution_count": 361,
   "id": "7f061fa8",
   "metadata": {},
   "outputs": [
    {
     "name": "stdout",
     "output_type": "stream",
     "text": [
      "Please enter a y lower limit for marginal y:  y**2\n",
      "Please enter a y upper limit for marginal y :  1\n",
      "Please enter a x lower limit for marginal x:  0\n",
      "Please enter a x upper limit for marginal x :  sqrt(x)\n"
     ]
    }
   ],
   "source": [
    "ylm=parse_expr(input('Please enter a y lower limit for marginal y:  '))\n",
    "yhm=parse_expr((input('Please enter a y upper limit for marginal y :  ')))\n",
    "xlm=parse_expr(input('Please enter a x lower limit for marginal x:  '))\n",
    "xhm=parse_expr(input('Please enter a x upper limit for marginal x :  '))"
   ]
  },
  {
   "cell_type": "code",
   "execution_count": 362,
   "id": "13d44b30",
   "metadata": {},
   "outputs": [
    {
     "name": "stdout",
     "output_type": "stream",
     "text": [
      "Marginal of fx :  3*x**2\n",
      "Marginal of fy :  3*y*(1 - y**4)\n"
     ]
    }
   ],
   "source": [
    "from sympy.abc import x,y\n",
    "from sympy import integrate,simplify\n",
    "fxy = fn\n",
    "fx = integrate(fxy,(y,xlm,xhm))\n",
    "fy = integrate(fxy,(x,ylm,yhm))\n",
    "print('Marginal of fx : ',simplify(fx))\n",
    "print('Marginal of fy : ',simplify(fy))"
   ]
  },
  {
   "cell_type": "code",
   "execution_count": 364,
   "id": "0bf1a5b0",
   "metadata": {},
   "outputs": [
    {
     "data": {
      "text/latex": [
       "$\\displaystyle 3 x^{2}$"
      ],
      "text/plain": [
       "3*x**2"
      ]
     },
     "execution_count": 364,
     "metadata": {},
     "output_type": "execute_result"
    }
   ],
   "source": [
    "simplify(fx)"
   ]
  },
  {
   "cell_type": "code",
   "execution_count": 365,
   "id": "5669e1da",
   "metadata": {},
   "outputs": [
    {
     "data": {
      "text/latex": [
       "$\\displaystyle 3 y \\left(1 - y^{4}\\right)$"
      ],
      "text/plain": [
       "3*y*(1 - y**4)"
      ]
     },
     "execution_count": 365,
     "metadata": {},
     "output_type": "execute_result"
    }
   ],
   "source": [
    "simplify(fy)"
   ]
  },
  {
   "cell_type": "markdown",
   "id": "3d861ea7",
   "metadata": {},
   "source": [
    "### 3.  Conditional Probability"
   ]
  },
  {
   "cell_type": "markdown",
   "id": "64ce5dc3",
   "metadata": {},
   "source": [
    "### Conditional PDF of y given x "
   ]
  },
  {
   "cell_type": "code",
   "execution_count": 366,
   "id": "2bc040d9",
   "metadata": {},
   "outputs": [
    {
     "data": {
      "text/latex": [
       "$\\displaystyle \\frac{2 y}{x}$"
      ],
      "text/plain": [
       "2*y/x"
      ]
     },
     "execution_count": 366,
     "metadata": {},
     "output_type": "execute_result"
    }
   ],
   "source": [
    "cpy=simplify(fn/fx)\n",
    "cpy"
   ]
  },
  {
   "cell_type": "code",
   "execution_count": 353,
   "id": "aa3af82c",
   "metadata": {},
   "outputs": [],
   "source": [
    "#### This is for x given 0.5"
   ]
  },
  {
   "cell_type": "code",
   "execution_count": 367,
   "id": "c2d246d3",
   "metadata": {},
   "outputs": [
    {
     "data": {
      "text/latex": [
       "$\\displaystyle 4.0 y$"
      ],
      "text/plain": [
       "4.0*y"
      ]
     },
     "execution_count": 367,
     "metadata": {},
     "output_type": "execute_result"
    }
   ],
   "source": [
    "cpy.subs({x:0.5})"
   ]
  },
  {
   "cell_type": "markdown",
   "id": "f17a7cbf",
   "metadata": {},
   "source": [
    "### Conditional PDF of x given y"
   ]
  },
  {
   "cell_type": "code",
   "execution_count": 368,
   "id": "b87c083e",
   "metadata": {},
   "outputs": [
    {
     "data": {
      "text/latex": [
       "$\\displaystyle - \\frac{2 x}{y^{4} - 1}$"
      ],
      "text/plain": [
       "-2*x/(y**4 - 1)"
      ]
     },
     "execution_count": 368,
     "metadata": {},
     "output_type": "execute_result"
    }
   ],
   "source": [
    "cpx=simplify(fn/fy)\n",
    "cpx"
   ]
  },
  {
   "cell_type": "markdown",
   "id": "d0dd6390",
   "metadata": {},
   "source": [
    "### 4,5. Conditional Mean and conditional variance"
   ]
  },
  {
   "cell_type": "code",
   "execution_count": 187,
   "id": "776c7951",
   "metadata": {},
   "outputs": [
    {
     "name": "stdout",
     "output_type": "stream",
     "text": [
      "Please enter a y lower limit for conditional y:  sqrt(x)\n",
      "Please enter a y upper limit for conditional y :  1\n",
      "Please enter a x lower limit for conditional x:  y**2\n",
      "Please enter a x upper limit for conditional x :  1\n",
      "Conditional Mean of y at a given x :  2*(1 - x**(3/2))/(3*x)\n",
      "Conditional Variance of y at a given x :  (16*x**(3/2) - 17*x**3 + 9*x - 8)/(18*x**2)\n",
      "Conditional Mean of x at a given y :  2*(y**6 - 1)/(3*(y**4 - 1))\n",
      "Conditional Variance of x at a given y :  (y**8 + 2*y**6 - 6*y**4 + 2*y**2 + 1)/(18*(y**4 + 2*y**2 + 1))\n"
     ]
    }
   ],
   "source": [
    "n1=parse_expr(input('Please enter a y lower limit for conditional y:  '))\n",
    "n2=parse_expr((input('Please enter a y upper limit for conditional y :  ')))\n",
    "n3=parse_expr(input('Please enter a x lower limit for conditional x:  '))\n",
    "n4=parse_expr(input('Please enter a x upper limit for conditional x :  '))\n",
    "ecygx = simplify(integrate(y*cpy,(y,n1,n2)) )\n",
    "cvy= simplify(integrate(y**2*cpy,(y,n1,n2)) - (ecygx**2))\n",
    "ecxgy = simplify(integrate((x*cpx),(x,n3,n4)) )\n",
    "cvx= simplify(integrate(x**2*cpx,(x,n3,n4)) - (ecxgy**2))\n",
    "print('Conditional Mean of y at a given x : ',ecygx)\n",
    "print('Conditional Variance of y at a given x : ',cvy)\n",
    "print('Conditional Mean of x at a given y : ',ecxgy)\n",
    "print('Conditional Variance of x at a given y : ',cvx)"
   ]
  },
  {
   "cell_type": "code",
   "execution_count": 379,
   "id": "2cd35466",
   "metadata": {},
   "outputs": [
    {
     "name": "stdout",
     "output_type": "stream",
     "text": [
      "Conditional Mean Y given X\n"
     ]
    },
    {
     "data": {
      "text/latex": [
       "$\\displaystyle \\frac{2 \\left(1 - x^{\\frac{3}{2}}\\right)}{3 x}$"
      ],
      "text/plain": [
       "2*(1 - x**(3/2))/(3*x)"
      ]
     },
     "execution_count": 379,
     "metadata": {},
     "output_type": "execute_result"
    }
   ],
   "source": [
    "print(\"Conditional Mean Y given X\")\n",
    "ecygx"
   ]
  },
  {
   "cell_type": "code",
   "execution_count": 380,
   "id": "8f04c348",
   "metadata": {},
   "outputs": [
    {
     "name": "stdout",
     "output_type": "stream",
     "text": [
      "Conditional Mean X given Y\n"
     ]
    },
    {
     "data": {
      "text/latex": [
       "$\\displaystyle \\frac{2 \\left(y^{6} - 1\\right)}{3 \\left(y^{4} - 1\\right)}$"
      ],
      "text/plain": [
       "2*(y**6 - 1)/(3*(y**4 - 1))"
      ]
     },
     "execution_count": 380,
     "metadata": {},
     "output_type": "execute_result"
    }
   ],
   "source": [
    "print(\"Conditional Mean X given Y\")\n",
    "ecxgy"
   ]
  },
  {
   "cell_type": "code",
   "execution_count": 381,
   "id": "2b960dc8",
   "metadata": {},
   "outputs": [
    {
     "name": "stdout",
     "output_type": "stream",
     "text": [
      "Conditional Variance X given Y\n"
     ]
    },
    {
     "data": {
      "text/latex": [
       "$\\displaystyle \\frac{y^{8} + 2 y^{6} - 6 y^{4} + 2 y^{2} + 1}{18 \\left(y^{4} + 2 y^{2} + 1\\right)}$"
      ],
      "text/plain": [
       "(y**8 + 2*y**6 - 6*y**4 + 2*y**2 + 1)/(18*(y**4 + 2*y**2 + 1))"
      ]
     },
     "execution_count": 381,
     "metadata": {},
     "output_type": "execute_result"
    }
   ],
   "source": [
    "print(\"Conditional Variance X given Y\")\n",
    "cvx"
   ]
  },
  {
   "cell_type": "code",
   "execution_count": 382,
   "id": "546bab31",
   "metadata": {},
   "outputs": [
    {
     "name": "stdout",
     "output_type": "stream",
     "text": [
      "Conditional Variance y given x\n"
     ]
    },
    {
     "data": {
      "text/latex": [
       "$\\displaystyle \\frac{16 x^{\\frac{3}{2}} - 17 x^{3} + 9 x - 8}{18 x^{2}}$"
      ],
      "text/plain": [
       "(16*x**(3/2) - 17*x**3 + 9*x - 8)/(18*x**2)"
      ]
     },
     "execution_count": 382,
     "metadata": {},
     "output_type": "execute_result"
    }
   ],
   "source": [
    "print(\"Conditional Variance y given x\")\n",
    "cvy"
   ]
  },
  {
   "cell_type": "code",
   "execution_count": 181,
   "id": "dee38a44",
   "metadata": {},
   "outputs": [
    {
     "name": "stdout",
     "output_type": "stream",
     "text": [
      "Please enter a given x to compute the conditional mean and variance value for y at that x:  0.5\n",
      "1.33333333333333\n",
      "-0.777777777777778\n",
      "Please enter a given y to compute the conditional mean and variance value for x at that y:  0.5\n",
      "0.711111111111111\n",
      "0.0276543209876543\n"
     ]
    }
   ],
   "source": [
    "tc=parse_expr(input('Please enter a given x to compute the conditional mean and variance value for y at that x:  '))\n",
    "print(ecygx.subs({x:tc}))\n",
    "print(cvy.subs({x:tc}))\n",
    "tc1=parse_expr(input('Please enter a given y to compute the conditional mean and variance value for x at that y:  '))\n",
    "print(ecxgy.subs({y:tc1}))\n",
    "print(cvx.subs({y:tc1}))"
   ]
  },
  {
   "cell_type": "markdown",
   "id": "60193190",
   "metadata": {},
   "source": [
    "###  6. Covariance"
   ]
  },
  {
   "cell_type": "markdown",
   "id": "8af623b4",
   "metadata": {},
   "source": [
    "### Cov= E[XY]- E[X]E[Y] "
   ]
  },
  {
   "cell_type": "code",
   "execution_count": 369,
   "id": "2fdbe0cf",
   "metadata": {},
   "outputs": [],
   "source": [
    "exy=integrate(x*y*fn,(y,0, sqrt(x)),(x, 0, 1))\n",
    "ex=integrate(x*fx,(x,0,1))\n",
    "ey=integrate(y*fy,(y,0,1))\n",
    "cov=exy-(ex*ey)"
   ]
  },
  {
   "cell_type": "code",
   "execution_count": 370,
   "id": "7d79fba9",
   "metadata": {},
   "outputs": [
    {
     "name": "stdout",
     "output_type": "stream",
     "text": [
      "Covariance is\n"
     ]
    },
    {
     "data": {
      "text/latex": [
       "$\\displaystyle \\frac{1}{63}$"
      ],
      "text/plain": [
       "1/63"
      ]
     },
     "execution_count": 370,
     "metadata": {},
     "output_type": "execute_result"
    }
   ],
   "source": [
    "print('Covariance is')\n",
    "cov"
   ]
  },
  {
   "cell_type": "markdown",
   "id": "2411edbb",
   "metadata": {},
   "source": [
    "### 7.  Correlation \n",
    "Corr=Cov/sqrt(Var[X]*Var[Y])"
   ]
  },
  {
   "cell_type": "code",
   "execution_count": 371,
   "id": "8696cfbb",
   "metadata": {},
   "outputs": [],
   "source": [
    "varx=integrate(x**2*fx,(x,0,1))-ex**2\n",
    "vary=integrate(y**2*fy,(y,0,1))-ey**2\n",
    "sq=sqrt(varx*vary) \n",
    "cor=cov/sq"
   ]
  },
  {
   "cell_type": "code",
   "execution_count": 372,
   "id": "742b4c06",
   "metadata": {},
   "outputs": [
    {
     "name": "stdout",
     "output_type": "stream",
     "text": [
      "Correlation is\n"
     ]
    },
    {
     "data": {
      "text/latex": [
       "$\\displaystyle \\frac{8 \\sqrt{570}}{513}$"
      ],
      "text/plain": [
       "8*sqrt(570)/513"
      ]
     },
     "execution_count": 372,
     "metadata": {},
     "output_type": "execute_result"
    }
   ],
   "source": [
    "print('Correlation is')\n",
    "cor"
   ]
  },
  {
   "cell_type": "markdown",
   "id": "2610afda",
   "metadata": {},
   "source": [
    "### Discrete  Distribution"
   ]
  },
  {
   "cell_type": "markdown",
   "id": "ea6e7db9",
   "metadata": {},
   "source": [
    "In order to display the objective I have taken two columns from the telecom churn dataset you can also use two discrete \n",
    "distribtions like binomials and find the joint distribution first by multipltying the distributions given that both random events are independent"
   ]
  },
  {
   "cell_type": "code",
   "execution_count": 214,
   "id": "8ae26862",
   "metadata": {},
   "outputs": [],
   "source": [
    "telco=pd.read_csv(r'C:\\Users\\NV321DH\\OneDrive - EY\\Practice Data\\WA_Fn-UseC_-Telco-Customer-Churn.csv')"
   ]
  },
  {
   "cell_type": "code",
   "execution_count": 216,
   "id": "efd5aa32",
   "metadata": {},
   "outputs": [
    {
     "data": {
      "text/plain": [
       "Index(['customerID', 'gender', 'SeniorCitizen', 'Partner', 'Dependents',\n",
       "       'tenure', 'PhoneService', 'MultipleLines', 'InternetService',\n",
       "       'OnlineSecurity', 'OnlineBackup', 'DeviceProtection', 'TechSupport',\n",
       "       'StreamingTV', 'StreamingMovies', 'Contract', 'PaperlessBilling',\n",
       "       'PaymentMethod', 'MonthlyCharges', 'TotalCharges', 'Churn'],\n",
       "      dtype='object')"
      ]
     },
     "execution_count": 216,
     "metadata": {},
     "output_type": "execute_result"
    }
   ],
   "source": [
    "telco.columns"
   ]
  },
  {
   "cell_type": "markdown",
   "id": "380c3232",
   "metadata": {},
   "source": [
    "### 1. Acquire probablity of joint pmf discrete"
   ]
  },
  {
   "cell_type": "code",
   "execution_count": 383,
   "id": "fbd5a9ea",
   "metadata": {},
   "outputs": [],
   "source": [
    "matrix=pd.crosstab(index=telco['Partner'],columns=telco['Contract'],margins=True,normalize=True).reset_index()"
   ]
  },
  {
   "cell_type": "code",
   "execution_count": 384,
   "id": "6ebceed8",
   "metadata": {},
   "outputs": [
    {
     "data": {
      "text/html": [
       "<div>\n",
       "<style scoped>\n",
       "    .dataframe tbody tr th:only-of-type {\n",
       "        vertical-align: middle;\n",
       "    }\n",
       "\n",
       "    .dataframe tbody tr th {\n",
       "        vertical-align: top;\n",
       "    }\n",
       "\n",
       "    .dataframe thead th {\n",
       "        text-align: right;\n",
       "    }\n",
       "</style>\n",
       "<table border=\"1\" class=\"dataframe\">\n",
       "  <thead>\n",
       "    <tr style=\"text-align: right;\">\n",
       "      <th>Contract</th>\n",
       "      <th>Partner</th>\n",
       "      <th>Month-to-month</th>\n",
       "      <th>One year</th>\n",
       "      <th>Two year</th>\n",
       "      <th>All</th>\n",
       "    </tr>\n",
       "  </thead>\n",
       "  <tbody>\n",
       "    <tr>\n",
       "      <th>0</th>\n",
       "      <td>No</td>\n",
       "      <td>0.354252</td>\n",
       "      <td>0.091296</td>\n",
       "      <td>0.071418</td>\n",
       "      <td>0.516967</td>\n",
       "    </tr>\n",
       "    <tr>\n",
       "      <th>1</th>\n",
       "      <td>Yes</td>\n",
       "      <td>0.195939</td>\n",
       "      <td>0.117848</td>\n",
       "      <td>0.169246</td>\n",
       "      <td>0.483033</td>\n",
       "    </tr>\n",
       "    <tr>\n",
       "      <th>2</th>\n",
       "      <td>All</td>\n",
       "      <td>0.550192</td>\n",
       "      <td>0.209144</td>\n",
       "      <td>0.240664</td>\n",
       "      <td>1.000000</td>\n",
       "    </tr>\n",
       "  </tbody>\n",
       "</table>\n",
       "</div>"
      ],
      "text/plain": [
       "Contract Partner  Month-to-month  One year  Two year       All\n",
       "0             No        0.354252  0.091296  0.071418  0.516967\n",
       "1            Yes        0.195939  0.117848  0.169246  0.483033\n",
       "2            All        0.550192  0.209144  0.240664  1.000000"
      ]
     },
     "execution_count": 384,
     "metadata": {},
     "output_type": "execute_result"
    }
   ],
   "source": [
    "matrix"
   ]
  },
  {
   "cell_type": "code",
   "execution_count": 385,
   "id": "92a62176",
   "metadata": {},
   "outputs": [],
   "source": [
    "cplans=np.array([1,2,3])\n",
    "y=np.array([0,1])[np.newaxis]"
   ]
  },
  {
   "cell_type": "markdown",
   "id": "51a13647",
   "metadata": {},
   "source": [
    "### 2. Calculating the marginals"
   ]
  },
  {
   "cell_type": "code",
   "execution_count": 386,
   "id": "0e533d26",
   "metadata": {},
   "outputs": [
    {
     "data": {
      "text/plain": [
       "array([0.5501916796819537, 0.20914383075394008, 0.24066448956410622],\n",
       "      dtype=object)"
      ]
     },
     "execution_count": 386,
     "metadata": {},
     "output_type": "execute_result"
    }
   ],
   "source": [
    "mx=matrix.iloc[2]\n",
    "mx=np.array(mx)\n",
    "mx=mx[1:-1]\n",
    "mx"
   ]
  },
  {
   "cell_type": "code",
   "execution_count": 387,
   "id": "bbf38145",
   "metadata": {},
   "outputs": [
    {
     "data": {
      "text/plain": [
       "array([0.5169672, 0.4830328])"
      ]
     },
     "execution_count": 387,
     "metadata": {},
     "output_type": "execute_result"
    }
   ],
   "source": [
    "my=matrix['All']\n",
    "my=np.array(my)\n",
    "my=my[:-1]\n",
    "my"
   ]
  },
  {
   "cell_type": "markdown",
   "id": "c8aab9c7",
   "metadata": {},
   "source": [
    "### 3. Conditional PDF of X given Y "
   ]
  },
  {
   "cell_type": "markdown",
   "id": "1b41efb5",
   "metadata": {},
   "source": [
    "1. Conditional Probability"
   ]
  },
  {
   "cell_type": "code",
   "execution_count": 388,
   "id": "3b23e010",
   "metadata": {},
   "outputs": [
    {
     "data": {
      "text/plain": [
       "0.6852513045866521"
      ]
     },
     "execution_count": 388,
     "metadata": {},
     "output_type": "execute_result"
    }
   ],
   "source": [
    "### Conditional Probability P(X=Month to Month|Partner= No)=P(X = Month to Month intersection Y = No)/P(Y=No)\n",
    "matrix.iloc[0,1]/matrix.iloc[0,4]"
   ]
  },
  {
   "cell_type": "markdown",
   "id": "33b2ee4a",
   "metadata": {},
   "source": [
    "2. Conditional PDF"
   ]
  },
  {
   "cell_type": "code",
   "execution_count": 389,
   "id": "f82aa0ca",
   "metadata": {},
   "outputs": [
    {
     "data": {
      "text/plain": [
       "[0.6852513045866521, 0.17659983521010714, 0.13814886020324088]"
      ]
     },
     "execution_count": 389,
     "metadata": {},
     "output_type": "execute_result"
    }
   ],
   "source": [
    "m1=matrix.iloc[0,1]/matrix.iloc[0,4]\n",
    "m2=matrix.iloc[0,2]/matrix.iloc[0,4]\n",
    "m3=matrix.iloc[0,3]/matrix.iloc[0,4]\n",
    "cpdf=[m1,m2,m3]\n",
    "cpdf\n",
    "cpdf"
   ]
  },
  {
   "cell_type": "markdown",
   "id": "b562044e",
   "metadata": {},
   "source": [
    "### 4. Conditional Mean and Conditional Variance"
   ]
  },
  {
   "cell_type": "code",
   "execution_count": 390,
   "id": "9cae861a",
   "metadata": {},
   "outputs": [
    {
     "name": "stdout",
     "output_type": "stream",
     "text": [
      "Conditional Expectation :  1.452897555616589\n"
     ]
    }
   ],
   "source": [
    "cpdf=np.array(cpdf)\n",
    "exp=np.dot(cpdf, cplans)\n",
    "print('Conditional Expectation : ', exp)"
   ]
  },
  {
   "cell_type": "code",
   "execution_count": 391,
   "id": "e41fa043",
   "metadata": {},
   "outputs": [
    {
     "name": "stdout",
     "output_type": "stream",
     "text": [
      "Conditional Variance :  0.5240790801395891\n"
     ]
    }
   ],
   "source": [
    "ex2=np.dot(np.square(cplans),cpdf)\n",
    "var_cond=ex2-np.square(exp)\n",
    "print('Conditional Variance : ', var_cond)"
   ]
  },
  {
   "cell_type": "markdown",
   "id": "053430d4",
   "metadata": {},
   "source": [
    "### 5. Covarince "
   ]
  },
  {
   "cell_type": "code",
   "execution_count": 392,
   "id": "af7ec2ee",
   "metadata": {},
   "outputs": [],
   "source": [
    "expx=np.dot(cplans,mx)"
   ]
  },
  {
   "cell_type": "code",
   "execution_count": 393,
   "id": "5e9866a2",
   "metadata": {},
   "outputs": [],
   "source": [
    "expy=np.dot(y,my)"
   ]
  },
  {
   "cell_type": "code",
   "execution_count": 394,
   "id": "250341d7",
   "metadata": {},
   "outputs": [],
   "source": [
    "newarr =cplans.reshape(1, 3)"
   ]
  },
  {
   "cell_type": "code",
   "execution_count": 395,
   "id": "31b1c204",
   "metadata": {},
   "outputs": [],
   "source": [
    "a=np.transpose(y).dot(newarr)"
   ]
  },
  {
   "cell_type": "code",
   "execution_count": 396,
   "id": "0093f042",
   "metadata": {},
   "outputs": [],
   "source": [
    "b=np.array(matrix[['Month-to-month', 'One year', 'Two year']][0:2])"
   ]
  },
  {
   "cell_type": "code",
   "execution_count": 397,
   "id": "450d7e37",
   "metadata": {},
   "outputs": [],
   "source": [
    "exy=np.dot(a.reshape(1,6)[0],b.reshape(1,6)[0])"
   ]
  },
  {
   "cell_type": "code",
   "execution_count": 398,
   "id": "33d29aea",
   "metadata": {},
   "outputs": [],
   "source": [
    "covar=exy-(expy*expx)"
   ]
  },
  {
   "cell_type": "code",
   "execution_count": 399,
   "id": "13c237fd",
   "metadata": {},
   "outputs": [
    {
     "name": "stdout",
     "output_type": "stream",
     "text": [
      "Covarinace is:  [0.12281861]\n"
     ]
    }
   ],
   "source": [
    "print('Covarinace is: ',covar)"
   ]
  },
  {
   "cell_type": "markdown",
   "id": "3cad10c3",
   "metadata": {},
   "source": [
    "### 6. Correlation"
   ]
  },
  {
   "cell_type": "code",
   "execution_count": 400,
   "id": "29b49d66",
   "metadata": {},
   "outputs": [
    {
     "name": "stdout",
     "output_type": "stream",
     "text": [
      "Correlation is :  [0.29480622]\n"
     ]
    }
   ],
   "source": [
    "varx=np.dot(np.square(cplans),mx)-np.square(expx)\n",
    "vary=np.dot(np.square(y),my)-np.square(expy)\n",
    "sqr_var=math.sqrt(varx*vary)\n",
    "corre=covar/sqr_var\n",
    "print('Correlation is : ', corre)"
   ]
  },
  {
   "cell_type": "code",
   "execution_count": null,
   "id": "5340abe0",
   "metadata": {},
   "outputs": [],
   "source": []
  }
 ],
 "metadata": {
  "kernelspec": {
   "display_name": "Python 3",
   "language": "python",
   "name": "python3"
  },
  "language_info": {
   "codemirror_mode": {
    "name": "ipython",
    "version": 3
   },
   "file_extension": ".py",
   "mimetype": "text/x-python",
   "name": "python",
   "nbconvert_exporter": "python",
   "pygments_lexer": "ipython3",
   "version": "3.8.8"
  }
 },
 "nbformat": 4,
 "nbformat_minor": 5
}
