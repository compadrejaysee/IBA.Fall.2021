{
 "cells": [
  {
   "cell_type": "markdown",
   "id": "7166ba1f",
   "metadata": {},
   "source": [
    "# Assignment 3 (Wali Ullah-0947)"
   ]
  },
  {
   "cell_type": "code",
   "execution_count": 1,
   "id": "5a927bea",
   "metadata": {},
   "outputs": [],
   "source": [
    "#!pip install prob140\n",
    "#!pip install datascience"
   ]
  },
  {
   "cell_type": "code",
   "execution_count": 2,
   "id": "a6690d3b",
   "metadata": {},
   "outputs": [],
   "source": [
    "import numpy as np\n",
    "from datascience import *\n",
    "from prob140 import *\n",
    "import numpy as np\n",
    "from datascience import *\n",
    "from prob140 import *\n",
    "import array\n",
    "import matplotlib.pyplot as plt\n",
    "import matplotlib.pyplot as plt\n",
    "from scipy.stats import norm\n",
    "import matplotlib.pyplot as plt\n",
    "import math\n",
    "import statistics\n",
    "import numpy as np\n",
    "import scipy.stats\n",
    "import pandas as pd\n",
    "from scipy.stats import norm\n",
    "%matplotlib inline"
   ]
  },
  {
   "cell_type": "markdown",
   "id": "344732da",
   "metadata": {},
   "source": [
    "# Discrete Random Variable"
   ]
  },
  {
   "cell_type": "markdown",
   "id": "85d99132",
   "metadata": {},
   "source": [
    "# Joint PDF"
   ]
  },
  {
   "cell_type": "markdown",
   "id": "56265fe2",
   "metadata": {},
   "source": [
    "Suppose, we have two dices, one of which is fair and each outcome has a probability of 1/6. The other die is biased towards larger numbers of spots. The distribution of the number of spots on the biased die is:\n",
    "\n",
    "value            probability\n",
    "\n",
    "1                   1/16\n",
    "\n",
    "2                   1/16\n",
    "\n",
    "3                   3/16\n",
    "\n",
    "4                   3/16\n",
    "\n",
    "5                   4/16\n",
    "\n",
    "6                   4/16\n"
   ]
  },
  {
   "cell_type": "markdown",
   "id": "c742b9e9",
   "metadata": {},
   "source": [
    "# Making Joint PDF"
   ]
  },
  {
   "cell_type": "code",
   "execution_count": 3,
   "id": "8915c910",
   "metadata": {},
   "outputs": [
    {
     "data": {
      "text/html": [
       "<div>\n",
       "<style scoped>\n",
       "    .dataframe tbody tr th:only-of-type {\n",
       "        vertical-align: middle;\n",
       "    }\n",
       "\n",
       "    .dataframe tbody tr th {\n",
       "        vertical-align: top;\n",
       "    }\n",
       "\n",
       "    .dataframe thead th {\n",
       "        text-align: right;\n",
       "    }\n",
       "</style>\n",
       "<table border=\"1\" class=\"dataframe\">\n",
       "  <thead>\n",
       "    <tr style=\"text-align: right;\">\n",
       "      <th></th>\n",
       "      <th>F=1</th>\n",
       "      <th>F=2</th>\n",
       "      <th>F=3</th>\n",
       "      <th>F=4</th>\n",
       "      <th>F=5</th>\n",
       "      <th>F=6</th>\n",
       "    </tr>\n",
       "  </thead>\n",
       "  <tbody>\n",
       "    <tr>\n",
       "      <th>S=6</th>\n",
       "      <td>0.041667</td>\n",
       "      <td>0.041667</td>\n",
       "      <td>0.041667</td>\n",
       "      <td>0.041667</td>\n",
       "      <td>0.041667</td>\n",
       "      <td>0.041667</td>\n",
       "    </tr>\n",
       "    <tr>\n",
       "      <th>S=5</th>\n",
       "      <td>0.041667</td>\n",
       "      <td>0.041667</td>\n",
       "      <td>0.041667</td>\n",
       "      <td>0.041667</td>\n",
       "      <td>0.041667</td>\n",
       "      <td>0.041667</td>\n",
       "    </tr>\n",
       "    <tr>\n",
       "      <th>S=4</th>\n",
       "      <td>0.031250</td>\n",
       "      <td>0.031250</td>\n",
       "      <td>0.031250</td>\n",
       "      <td>0.031250</td>\n",
       "      <td>0.031250</td>\n",
       "      <td>0.031250</td>\n",
       "    </tr>\n",
       "    <tr>\n",
       "      <th>S=3</th>\n",
       "      <td>0.031250</td>\n",
       "      <td>0.031250</td>\n",
       "      <td>0.031250</td>\n",
       "      <td>0.031250</td>\n",
       "      <td>0.031250</td>\n",
       "      <td>0.031250</td>\n",
       "    </tr>\n",
       "    <tr>\n",
       "      <th>S=2</th>\n",
       "      <td>0.010417</td>\n",
       "      <td>0.010417</td>\n",
       "      <td>0.010417</td>\n",
       "      <td>0.010417</td>\n",
       "      <td>0.010417</td>\n",
       "      <td>0.010417</td>\n",
       "    </tr>\n",
       "    <tr>\n",
       "      <th>S=1</th>\n",
       "      <td>0.010417</td>\n",
       "      <td>0.010417</td>\n",
       "      <td>0.010417</td>\n",
       "      <td>0.010417</td>\n",
       "      <td>0.010417</td>\n",
       "      <td>0.010417</td>\n",
       "    </tr>\n",
       "  </tbody>\n",
       "</table>\n",
       "</div>"
      ],
      "text/plain": [
       "          F=1       F=2       F=3       F=4       F=5       F=6\n",
       "S=6  0.041667  0.041667  0.041667  0.041667  0.041667  0.041667\n",
       "S=5  0.041667  0.041667  0.041667  0.041667  0.041667  0.041667\n",
       "S=4  0.031250  0.031250  0.031250  0.031250  0.031250  0.031250\n",
       "S=3  0.031250  0.031250  0.031250  0.031250  0.031250  0.031250\n",
       "S=2  0.010417  0.010417  0.010417  0.010417  0.010417  0.010417\n",
       "S=1  0.010417  0.010417  0.010417  0.010417  0.010417  0.010417"
      ]
     },
     "execution_count": 3,
     "metadata": {},
     "output_type": "execute_result"
    }
   ],
   "source": [
    "spots = np.arange(1, 7)                     # possible values of F; same set for S\n",
    "s=[1,2,3,4,5,6]\n",
    "f=[1,2,3,4,5,6]\n",
    "fair = (1/6) * np.ones(6)  \n",
    "biased = make_array(1/16, 1/16, 3/16, 3/16, 4/16, 4/16)\n",
    "\n",
    "def joint_probability(i, j):                # returns P(F = i, S = j)\n",
    "    return fair.item(i-1) * biased.item(j-1)\n",
    "\n",
    "# joint distribution table of F and S\n",
    "joint_table = Table().values('F', spots, 'S', spots).probability_function(joint_probability)\n",
    "joint_table"
   ]
  },
  {
   "cell_type": "code",
   "execution_count": 4,
   "id": "e0edf181",
   "metadata": {},
   "outputs": [],
   "source": [
    "#Joint Probabilities of an event"
   ]
  },
  {
   "cell_type": "markdown",
   "id": "05e5ff31",
   "metadata": {},
   "source": [
    "Example#1: Find probability of {S>F+2}:\n",
    "\n",
    "Define the indicator function of the event {S>F+2} and then use the event method."
   ]
  },
  {
   "cell_type": "code",
   "execution_count": 5,
   "id": "6c3f69d6",
   "metadata": {},
   "outputs": [
    {
     "name": "stdout",
     "output_type": "stream",
     "text": [
      "P(Event) = 0.2395833333333333\n"
     ]
    },
    {
     "data": {
      "text/html": [
       "<div>\n",
       "<style scoped>\n",
       "    .dataframe tbody tr th:only-of-type {\n",
       "        vertical-align: middle;\n",
       "    }\n",
       "\n",
       "    .dataframe tbody tr th {\n",
       "        vertical-align: top;\n",
       "    }\n",
       "\n",
       "    .dataframe thead th {\n",
       "        text-align: right;\n",
       "    }\n",
       "</style>\n",
       "<table border=\"1\" class=\"dataframe\">\n",
       "  <thead>\n",
       "    <tr style=\"text-align: right;\">\n",
       "      <th></th>\n",
       "      <th>F=1</th>\n",
       "      <th>F=2</th>\n",
       "      <th>F=3</th>\n",
       "      <th>F=4</th>\n",
       "      <th>F=5</th>\n",
       "      <th>F=6</th>\n",
       "    </tr>\n",
       "  </thead>\n",
       "  <tbody>\n",
       "    <tr>\n",
       "      <th>S=6</th>\n",
       "      <td>0.041667</td>\n",
       "      <td>0.041667</td>\n",
       "      <td>0.041667</td>\n",
       "      <td></td>\n",
       "      <td></td>\n",
       "      <td></td>\n",
       "    </tr>\n",
       "    <tr>\n",
       "      <th>S=5</th>\n",
       "      <td>0.041667</td>\n",
       "      <td>0.041667</td>\n",
       "      <td></td>\n",
       "      <td></td>\n",
       "      <td></td>\n",
       "      <td></td>\n",
       "    </tr>\n",
       "    <tr>\n",
       "      <th>S=4</th>\n",
       "      <td>0.03125</td>\n",
       "      <td></td>\n",
       "      <td></td>\n",
       "      <td></td>\n",
       "      <td></td>\n",
       "      <td></td>\n",
       "    </tr>\n",
       "    <tr>\n",
       "      <th>S=3</th>\n",
       "      <td></td>\n",
       "      <td></td>\n",
       "      <td></td>\n",
       "      <td></td>\n",
       "      <td></td>\n",
       "      <td></td>\n",
       "    </tr>\n",
       "    <tr>\n",
       "      <th>S=2</th>\n",
       "      <td></td>\n",
       "      <td></td>\n",
       "      <td></td>\n",
       "      <td></td>\n",
       "      <td></td>\n",
       "      <td></td>\n",
       "    </tr>\n",
       "    <tr>\n",
       "      <th>S=1</th>\n",
       "      <td></td>\n",
       "      <td></td>\n",
       "      <td></td>\n",
       "      <td></td>\n",
       "      <td></td>\n",
       "      <td></td>\n",
       "    </tr>\n",
       "  </tbody>\n",
       "</table>\n",
       "</div>"
      ],
      "text/plain": [
       "          F=1       F=2       F=3 F=4 F=5 F=6\n",
       "S=6  0.041667  0.041667  0.041667            \n",
       "S=5  0.041667  0.041667                      \n",
       "S=4   0.03125                                \n",
       "S=3                                          \n",
       "S=2                                          \n",
       "S=1                                          "
      ]
     },
     "execution_count": 5,
     "metadata": {},
     "output_type": "execute_result"
    }
   ],
   "source": [
    "def indicator(i, j):\n",
    "    return j > i + 2\n",
    "\n",
    "joint_table.event(indicator, 'F', 'S')"
   ]
  },
  {
   "cell_type": "markdown",
   "id": "f087574c",
   "metadata": {},
   "source": [
    "Example 2: The chance that the numbers on the two dice differ by no more than 1:\n",
    "\n",
    "find P(|F−S|≤1).  "
   ]
  },
  {
   "cell_type": "code",
   "execution_count": 6,
   "id": "400d7bff",
   "metadata": {},
   "outputs": [
    {
     "name": "stdout",
     "output_type": "stream",
     "text": [
      "P(Event) = 0.44791666666666674\n"
     ]
    },
    {
     "data": {
      "text/html": [
       "<div>\n",
       "<style scoped>\n",
       "    .dataframe tbody tr th:only-of-type {\n",
       "        vertical-align: middle;\n",
       "    }\n",
       "\n",
       "    .dataframe tbody tr th {\n",
       "        vertical-align: top;\n",
       "    }\n",
       "\n",
       "    .dataframe thead th {\n",
       "        text-align: right;\n",
       "    }\n",
       "</style>\n",
       "<table border=\"1\" class=\"dataframe\">\n",
       "  <thead>\n",
       "    <tr style=\"text-align: right;\">\n",
       "      <th></th>\n",
       "      <th>F=1</th>\n",
       "      <th>F=2</th>\n",
       "      <th>F=3</th>\n",
       "      <th>F=4</th>\n",
       "      <th>F=5</th>\n",
       "      <th>F=6</th>\n",
       "    </tr>\n",
       "  </thead>\n",
       "  <tbody>\n",
       "    <tr>\n",
       "      <th>S=6</th>\n",
       "      <td></td>\n",
       "      <td></td>\n",
       "      <td></td>\n",
       "      <td></td>\n",
       "      <td>0.041667</td>\n",
       "      <td>0.041667</td>\n",
       "    </tr>\n",
       "    <tr>\n",
       "      <th>S=5</th>\n",
       "      <td></td>\n",
       "      <td></td>\n",
       "      <td></td>\n",
       "      <td>0.041667</td>\n",
       "      <td>0.041667</td>\n",
       "      <td>0.041667</td>\n",
       "    </tr>\n",
       "    <tr>\n",
       "      <th>S=4</th>\n",
       "      <td></td>\n",
       "      <td></td>\n",
       "      <td>0.03125</td>\n",
       "      <td>0.03125</td>\n",
       "      <td>0.03125</td>\n",
       "      <td></td>\n",
       "    </tr>\n",
       "    <tr>\n",
       "      <th>S=3</th>\n",
       "      <td></td>\n",
       "      <td>0.03125</td>\n",
       "      <td>0.03125</td>\n",
       "      <td>0.03125</td>\n",
       "      <td></td>\n",
       "      <td></td>\n",
       "    </tr>\n",
       "    <tr>\n",
       "      <th>S=2</th>\n",
       "      <td>0.010417</td>\n",
       "      <td>0.010417</td>\n",
       "      <td>0.010417</td>\n",
       "      <td></td>\n",
       "      <td></td>\n",
       "      <td></td>\n",
       "    </tr>\n",
       "    <tr>\n",
       "      <th>S=1</th>\n",
       "      <td>0.010417</td>\n",
       "      <td>0.010417</td>\n",
       "      <td></td>\n",
       "      <td></td>\n",
       "      <td></td>\n",
       "      <td></td>\n",
       "    </tr>\n",
       "  </tbody>\n",
       "</table>\n",
       "</div>"
      ],
      "text/plain": [
       "          F=1       F=2       F=3       F=4       F=5       F=6\n",
       "S=6                                          0.041667  0.041667\n",
       "S=5                                0.041667  0.041667  0.041667\n",
       "S=4                       0.03125   0.03125   0.03125          \n",
       "S=3             0.03125   0.03125   0.03125                    \n",
       "S=2  0.010417  0.010417  0.010417                              \n",
       "S=1  0.010417  0.010417                                        "
      ]
     },
     "execution_count": 6,
     "metadata": {},
     "output_type": "execute_result"
    }
   ],
   "source": [
    "def indicator_absdiff_atmost_1(i, j):\n",
    "    return abs(i - j) <= 1\n",
    "\n",
    "joint_table.event(indicator_absdiff_atmost_1, 'F', 'S')"
   ]
  },
  {
   "cell_type": "markdown",
   "id": "a398c5b1",
   "metadata": {},
   "source": [
    "Example 3: The probability that the sum of the numbers on the two dice is 7:\n",
    "\n",
    "The event {F+S=7} consists of all possible pairs (i,j) such that i+j=7. "
   ]
  },
  {
   "cell_type": "code",
   "execution_count": 7,
   "id": "2a512c81",
   "metadata": {},
   "outputs": [
    {
     "name": "stdout",
     "output_type": "stream",
     "text": [
      "P(Event) = 0.16666666666666663\n"
     ]
    },
    {
     "data": {
      "text/html": [
       "<div>\n",
       "<style scoped>\n",
       "    .dataframe tbody tr th:only-of-type {\n",
       "        vertical-align: middle;\n",
       "    }\n",
       "\n",
       "    .dataframe tbody tr th {\n",
       "        vertical-align: top;\n",
       "    }\n",
       "\n",
       "    .dataframe thead th {\n",
       "        text-align: right;\n",
       "    }\n",
       "</style>\n",
       "<table border=\"1\" class=\"dataframe\">\n",
       "  <thead>\n",
       "    <tr style=\"text-align: right;\">\n",
       "      <th></th>\n",
       "      <th>F=1</th>\n",
       "      <th>F=2</th>\n",
       "      <th>F=3</th>\n",
       "      <th>F=4</th>\n",
       "      <th>F=5</th>\n",
       "      <th>F=6</th>\n",
       "    </tr>\n",
       "  </thead>\n",
       "  <tbody>\n",
       "    <tr>\n",
       "      <th>S=6</th>\n",
       "      <td>0.041667</td>\n",
       "      <td></td>\n",
       "      <td></td>\n",
       "      <td></td>\n",
       "      <td></td>\n",
       "      <td></td>\n",
       "    </tr>\n",
       "    <tr>\n",
       "      <th>S=5</th>\n",
       "      <td></td>\n",
       "      <td>0.041667</td>\n",
       "      <td></td>\n",
       "      <td></td>\n",
       "      <td></td>\n",
       "      <td></td>\n",
       "    </tr>\n",
       "    <tr>\n",
       "      <th>S=4</th>\n",
       "      <td></td>\n",
       "      <td></td>\n",
       "      <td>0.03125</td>\n",
       "      <td></td>\n",
       "      <td></td>\n",
       "      <td></td>\n",
       "    </tr>\n",
       "    <tr>\n",
       "      <th>S=3</th>\n",
       "      <td></td>\n",
       "      <td></td>\n",
       "      <td></td>\n",
       "      <td>0.03125</td>\n",
       "      <td></td>\n",
       "      <td></td>\n",
       "    </tr>\n",
       "    <tr>\n",
       "      <th>S=2</th>\n",
       "      <td></td>\n",
       "      <td></td>\n",
       "      <td></td>\n",
       "      <td></td>\n",
       "      <td>0.010417</td>\n",
       "      <td></td>\n",
       "    </tr>\n",
       "    <tr>\n",
       "      <th>S=1</th>\n",
       "      <td></td>\n",
       "      <td></td>\n",
       "      <td></td>\n",
       "      <td></td>\n",
       "      <td></td>\n",
       "      <td>0.010417</td>\n",
       "    </tr>\n",
       "  </tbody>\n",
       "</table>\n",
       "</div>"
      ],
      "text/plain": [
       "          F=1       F=2      F=3      F=4       F=5       F=6\n",
       "S=6  0.041667                                                \n",
       "S=5            0.041667                                      \n",
       "S=4                      0.03125                             \n",
       "S=3                               0.03125                    \n",
       "S=2                                        0.010417          \n",
       "S=1                                                  0.010417"
      ]
     },
     "execution_count": 7,
     "metadata": {},
     "output_type": "execute_result"
    }
   ],
   "source": [
    "def indicator_sum_7(i, j):\n",
    "    return i + j == 7\n",
    "\n",
    "joint_table.event(indicator_sum_7, 'F', 'S')"
   ]
  },
  {
   "cell_type": "markdown",
   "id": "6e88ab6a",
   "metadata": {},
   "source": [
    "# Making Marginal Distribution"
   ]
  },
  {
   "cell_type": "markdown",
   "id": "639ced17",
   "metadata": {},
   "source": [
    "Let’s look at the event {F=1}. The probability of this event is the marginal probability of {F=1}"
   ]
  },
  {
   "cell_type": "code",
   "execution_count": 8,
   "id": "32860c0a",
   "metadata": {},
   "outputs": [
    {
     "name": "stdout",
     "output_type": "stream",
     "text": [
      "P(Event) = 0.16666666666666666\n"
     ]
    },
    {
     "data": {
      "text/html": [
       "<div>\n",
       "<style scoped>\n",
       "    .dataframe tbody tr th:only-of-type {\n",
       "        vertical-align: middle;\n",
       "    }\n",
       "\n",
       "    .dataframe tbody tr th {\n",
       "        vertical-align: top;\n",
       "    }\n",
       "\n",
       "    .dataframe thead th {\n",
       "        text-align: right;\n",
       "    }\n",
       "</style>\n",
       "<table border=\"1\" class=\"dataframe\">\n",
       "  <thead>\n",
       "    <tr style=\"text-align: right;\">\n",
       "      <th></th>\n",
       "      <th>F=1</th>\n",
       "      <th>F=2</th>\n",
       "      <th>F=3</th>\n",
       "      <th>F=4</th>\n",
       "      <th>F=5</th>\n",
       "      <th>F=6</th>\n",
       "    </tr>\n",
       "  </thead>\n",
       "  <tbody>\n",
       "    <tr>\n",
       "      <th>S=6</th>\n",
       "      <td>0.041667</td>\n",
       "      <td></td>\n",
       "      <td></td>\n",
       "      <td></td>\n",
       "      <td></td>\n",
       "      <td></td>\n",
       "    </tr>\n",
       "    <tr>\n",
       "      <th>S=5</th>\n",
       "      <td>0.041667</td>\n",
       "      <td></td>\n",
       "      <td></td>\n",
       "      <td></td>\n",
       "      <td></td>\n",
       "      <td></td>\n",
       "    </tr>\n",
       "    <tr>\n",
       "      <th>S=4</th>\n",
       "      <td>0.031250</td>\n",
       "      <td></td>\n",
       "      <td></td>\n",
       "      <td></td>\n",
       "      <td></td>\n",
       "      <td></td>\n",
       "    </tr>\n",
       "    <tr>\n",
       "      <th>S=3</th>\n",
       "      <td>0.031250</td>\n",
       "      <td></td>\n",
       "      <td></td>\n",
       "      <td></td>\n",
       "      <td></td>\n",
       "      <td></td>\n",
       "    </tr>\n",
       "    <tr>\n",
       "      <th>S=2</th>\n",
       "      <td>0.010417</td>\n",
       "      <td></td>\n",
       "      <td></td>\n",
       "      <td></td>\n",
       "      <td></td>\n",
       "      <td></td>\n",
       "    </tr>\n",
       "    <tr>\n",
       "      <th>S=1</th>\n",
       "      <td>0.010417</td>\n",
       "      <td></td>\n",
       "      <td></td>\n",
       "      <td></td>\n",
       "      <td></td>\n",
       "      <td></td>\n",
       "    </tr>\n",
       "  </tbody>\n",
       "</table>\n",
       "</div>"
      ],
      "text/plain": [
       "          F=1 F=2 F=3 F=4 F=5 F=6\n",
       "S=6  0.041667                    \n",
       "S=5  0.041667                    \n",
       "S=4  0.031250                    \n",
       "S=3  0.031250                    \n",
       "S=2  0.010417                    \n",
       "S=1  0.010417                    "
      ]
     },
     "execution_count": 8,
     "metadata": {},
     "output_type": "execute_result"
    }
   ],
   "source": [
    "def indicator_F_equals_0(i, j):\n",
    "    return i == 1\n",
    "\n",
    "joint_table.event(indicator_F_equals_0, 'F', 'S')"
   ]
  },
  {
   "cell_type": "code",
   "execution_count": 9,
   "id": "27782260",
   "metadata": {},
   "outputs": [],
   "source": [
    "#Marginal Distribution of entire F (row)"
   ]
  },
  {
   "cell_type": "code",
   "execution_count": 10,
   "id": "5faa180c",
   "metadata": {},
   "outputs": [
    {
     "data": {
      "text/html": [
       "<div>\n",
       "<style scoped>\n",
       "    .dataframe tbody tr th:only-of-type {\n",
       "        vertical-align: middle;\n",
       "    }\n",
       "\n",
       "    .dataframe tbody tr th {\n",
       "        vertical-align: top;\n",
       "    }\n",
       "\n",
       "    .dataframe thead th {\n",
       "        text-align: right;\n",
       "    }\n",
       "</style>\n",
       "<table border=\"1\" class=\"dataframe\">\n",
       "  <thead>\n",
       "    <tr style=\"text-align: right;\">\n",
       "      <th></th>\n",
       "      <th>F=1</th>\n",
       "      <th>F=2</th>\n",
       "      <th>F=3</th>\n",
       "      <th>F=4</th>\n",
       "      <th>F=5</th>\n",
       "      <th>F=6</th>\n",
       "    </tr>\n",
       "  </thead>\n",
       "  <tbody>\n",
       "    <tr>\n",
       "      <th>S=6</th>\n",
       "      <td>0.041667</td>\n",
       "      <td>0.041667</td>\n",
       "      <td>0.041667</td>\n",
       "      <td>0.041667</td>\n",
       "      <td>0.041667</td>\n",
       "      <td>0.041667</td>\n",
       "    </tr>\n",
       "    <tr>\n",
       "      <th>S=5</th>\n",
       "      <td>0.041667</td>\n",
       "      <td>0.041667</td>\n",
       "      <td>0.041667</td>\n",
       "      <td>0.041667</td>\n",
       "      <td>0.041667</td>\n",
       "      <td>0.041667</td>\n",
       "    </tr>\n",
       "    <tr>\n",
       "      <th>S=4</th>\n",
       "      <td>0.031250</td>\n",
       "      <td>0.031250</td>\n",
       "      <td>0.031250</td>\n",
       "      <td>0.031250</td>\n",
       "      <td>0.031250</td>\n",
       "      <td>0.031250</td>\n",
       "    </tr>\n",
       "    <tr>\n",
       "      <th>S=3</th>\n",
       "      <td>0.031250</td>\n",
       "      <td>0.031250</td>\n",
       "      <td>0.031250</td>\n",
       "      <td>0.031250</td>\n",
       "      <td>0.031250</td>\n",
       "      <td>0.031250</td>\n",
       "    </tr>\n",
       "    <tr>\n",
       "      <th>S=2</th>\n",
       "      <td>0.010417</td>\n",
       "      <td>0.010417</td>\n",
       "      <td>0.010417</td>\n",
       "      <td>0.010417</td>\n",
       "      <td>0.010417</td>\n",
       "      <td>0.010417</td>\n",
       "    </tr>\n",
       "    <tr>\n",
       "      <th>S=1</th>\n",
       "      <td>0.010417</td>\n",
       "      <td>0.010417</td>\n",
       "      <td>0.010417</td>\n",
       "      <td>0.010417</td>\n",
       "      <td>0.010417</td>\n",
       "      <td>0.010417</td>\n",
       "    </tr>\n",
       "    <tr>\n",
       "      <th>Sum: Marginal of F</th>\n",
       "      <td>0.166667</td>\n",
       "      <td>0.166667</td>\n",
       "      <td>0.166667</td>\n",
       "      <td>0.166667</td>\n",
       "      <td>0.166667</td>\n",
       "      <td>0.166667</td>\n",
       "    </tr>\n",
       "  </tbody>\n",
       "</table>\n",
       "</div>"
      ],
      "text/plain": [
       "                         F=1       F=2       F=3       F=4       F=5       F=6\n",
       "S=6                 0.041667  0.041667  0.041667  0.041667  0.041667  0.041667\n",
       "S=5                 0.041667  0.041667  0.041667  0.041667  0.041667  0.041667\n",
       "S=4                 0.031250  0.031250  0.031250  0.031250  0.031250  0.031250\n",
       "S=3                 0.031250  0.031250  0.031250  0.031250  0.031250  0.031250\n",
       "S=2                 0.010417  0.010417  0.010417  0.010417  0.010417  0.010417\n",
       "S=1                 0.010417  0.010417  0.010417  0.010417  0.010417  0.010417\n",
       "Sum: Marginal of F  0.166667  0.166667  0.166667  0.166667  0.166667  0.166667"
      ]
     },
     "execution_count": 10,
     "metadata": {},
     "output_type": "execute_result"
    }
   ],
   "source": [
    "joint_table.marginal('F')"
   ]
  },
  {
   "cell_type": "code",
   "execution_count": 11,
   "id": "4d970693",
   "metadata": {},
   "outputs": [],
   "source": [
    "#Marginal Distribution of entire S (column)"
   ]
  },
  {
   "cell_type": "code",
   "execution_count": 12,
   "id": "5f9e6140",
   "metadata": {},
   "outputs": [
    {
     "data": {
      "text/html": [
       "<div>\n",
       "<style scoped>\n",
       "    .dataframe tbody tr th:only-of-type {\n",
       "        vertical-align: middle;\n",
       "    }\n",
       "\n",
       "    .dataframe tbody tr th {\n",
       "        vertical-align: top;\n",
       "    }\n",
       "\n",
       "    .dataframe thead th {\n",
       "        text-align: right;\n",
       "    }\n",
       "</style>\n",
       "<table border=\"1\" class=\"dataframe\">\n",
       "  <thead>\n",
       "    <tr style=\"text-align: right;\">\n",
       "      <th></th>\n",
       "      <th>F=1</th>\n",
       "      <th>F=2</th>\n",
       "      <th>F=3</th>\n",
       "      <th>F=4</th>\n",
       "      <th>F=5</th>\n",
       "      <th>F=6</th>\n",
       "      <th>Sum: Marginal of S</th>\n",
       "    </tr>\n",
       "  </thead>\n",
       "  <tbody>\n",
       "    <tr>\n",
       "      <th>S=6</th>\n",
       "      <td>0.041667</td>\n",
       "      <td>0.041667</td>\n",
       "      <td>0.041667</td>\n",
       "      <td>0.041667</td>\n",
       "      <td>0.041667</td>\n",
       "      <td>0.041667</td>\n",
       "      <td>0.2500</td>\n",
       "    </tr>\n",
       "    <tr>\n",
       "      <th>S=5</th>\n",
       "      <td>0.041667</td>\n",
       "      <td>0.041667</td>\n",
       "      <td>0.041667</td>\n",
       "      <td>0.041667</td>\n",
       "      <td>0.041667</td>\n",
       "      <td>0.041667</td>\n",
       "      <td>0.2500</td>\n",
       "    </tr>\n",
       "    <tr>\n",
       "      <th>S=4</th>\n",
       "      <td>0.031250</td>\n",
       "      <td>0.031250</td>\n",
       "      <td>0.031250</td>\n",
       "      <td>0.031250</td>\n",
       "      <td>0.031250</td>\n",
       "      <td>0.031250</td>\n",
       "      <td>0.1875</td>\n",
       "    </tr>\n",
       "    <tr>\n",
       "      <th>S=3</th>\n",
       "      <td>0.031250</td>\n",
       "      <td>0.031250</td>\n",
       "      <td>0.031250</td>\n",
       "      <td>0.031250</td>\n",
       "      <td>0.031250</td>\n",
       "      <td>0.031250</td>\n",
       "      <td>0.1875</td>\n",
       "    </tr>\n",
       "    <tr>\n",
       "      <th>S=2</th>\n",
       "      <td>0.010417</td>\n",
       "      <td>0.010417</td>\n",
       "      <td>0.010417</td>\n",
       "      <td>0.010417</td>\n",
       "      <td>0.010417</td>\n",
       "      <td>0.010417</td>\n",
       "      <td>0.0625</td>\n",
       "    </tr>\n",
       "    <tr>\n",
       "      <th>S=1</th>\n",
       "      <td>0.010417</td>\n",
       "      <td>0.010417</td>\n",
       "      <td>0.010417</td>\n",
       "      <td>0.010417</td>\n",
       "      <td>0.010417</td>\n",
       "      <td>0.010417</td>\n",
       "      <td>0.0625</td>\n",
       "    </tr>\n",
       "  </tbody>\n",
       "</table>\n",
       "</div>"
      ],
      "text/plain": [
       "          F=1       F=2       F=3       F=4       F=5       F=6  \\\n",
       "S=6  0.041667  0.041667  0.041667  0.041667  0.041667  0.041667   \n",
       "S=5  0.041667  0.041667  0.041667  0.041667  0.041667  0.041667   \n",
       "S=4  0.031250  0.031250  0.031250  0.031250  0.031250  0.031250   \n",
       "S=3  0.031250  0.031250  0.031250  0.031250  0.031250  0.031250   \n",
       "S=2  0.010417  0.010417  0.010417  0.010417  0.010417  0.010417   \n",
       "S=1  0.010417  0.010417  0.010417  0.010417  0.010417  0.010417   \n",
       "\n",
       "     Sum: Marginal of S  \n",
       "S=6              0.2500  \n",
       "S=5              0.2500  \n",
       "S=4              0.1875  \n",
       "S=3              0.1875  \n",
       "S=2              0.0625  \n",
       "S=1              0.0625  "
      ]
     },
     "execution_count": 12,
     "metadata": {},
     "output_type": "execute_result"
    }
   ],
   "source": [
    "joint_table.marginal('S')"
   ]
  },
  {
   "cell_type": "code",
   "execution_count": 13,
   "id": "c168f72b",
   "metadata": {},
   "outputs": [],
   "source": [
    "#Marginal Distribution of both F and S "
   ]
  },
  {
   "cell_type": "code",
   "execution_count": 14,
   "id": "f314dc85",
   "metadata": {},
   "outputs": [
    {
     "data": {
      "text/html": [
       "<div>\n",
       "<style scoped>\n",
       "    .dataframe tbody tr th:only-of-type {\n",
       "        vertical-align: middle;\n",
       "    }\n",
       "\n",
       "    .dataframe tbody tr th {\n",
       "        vertical-align: top;\n",
       "    }\n",
       "\n",
       "    .dataframe thead th {\n",
       "        text-align: right;\n",
       "    }\n",
       "</style>\n",
       "<table border=\"1\" class=\"dataframe\">\n",
       "  <thead>\n",
       "    <tr style=\"text-align: right;\">\n",
       "      <th></th>\n",
       "      <th>F=1</th>\n",
       "      <th>F=2</th>\n",
       "      <th>F=3</th>\n",
       "      <th>F=4</th>\n",
       "      <th>F=5</th>\n",
       "      <th>F=6</th>\n",
       "      <th>Sum: Marginal of S</th>\n",
       "    </tr>\n",
       "  </thead>\n",
       "  <tbody>\n",
       "    <tr>\n",
       "      <th>S=6</th>\n",
       "      <td>0.041667</td>\n",
       "      <td>0.041667</td>\n",
       "      <td>0.041667</td>\n",
       "      <td>0.041667</td>\n",
       "      <td>0.041667</td>\n",
       "      <td>0.041667</td>\n",
       "      <td>0.2500</td>\n",
       "    </tr>\n",
       "    <tr>\n",
       "      <th>S=5</th>\n",
       "      <td>0.041667</td>\n",
       "      <td>0.041667</td>\n",
       "      <td>0.041667</td>\n",
       "      <td>0.041667</td>\n",
       "      <td>0.041667</td>\n",
       "      <td>0.041667</td>\n",
       "      <td>0.2500</td>\n",
       "    </tr>\n",
       "    <tr>\n",
       "      <th>S=4</th>\n",
       "      <td>0.031250</td>\n",
       "      <td>0.031250</td>\n",
       "      <td>0.031250</td>\n",
       "      <td>0.031250</td>\n",
       "      <td>0.031250</td>\n",
       "      <td>0.031250</td>\n",
       "      <td>0.1875</td>\n",
       "    </tr>\n",
       "    <tr>\n",
       "      <th>S=3</th>\n",
       "      <td>0.031250</td>\n",
       "      <td>0.031250</td>\n",
       "      <td>0.031250</td>\n",
       "      <td>0.031250</td>\n",
       "      <td>0.031250</td>\n",
       "      <td>0.031250</td>\n",
       "      <td>0.1875</td>\n",
       "    </tr>\n",
       "    <tr>\n",
       "      <th>S=2</th>\n",
       "      <td>0.010417</td>\n",
       "      <td>0.010417</td>\n",
       "      <td>0.010417</td>\n",
       "      <td>0.010417</td>\n",
       "      <td>0.010417</td>\n",
       "      <td>0.010417</td>\n",
       "      <td>0.0625</td>\n",
       "    </tr>\n",
       "    <tr>\n",
       "      <th>S=1</th>\n",
       "      <td>0.010417</td>\n",
       "      <td>0.010417</td>\n",
       "      <td>0.010417</td>\n",
       "      <td>0.010417</td>\n",
       "      <td>0.010417</td>\n",
       "      <td>0.010417</td>\n",
       "      <td>0.0625</td>\n",
       "    </tr>\n",
       "    <tr>\n",
       "      <th>Sum: Marginal of F</th>\n",
       "      <td>0.166667</td>\n",
       "      <td>0.166667</td>\n",
       "      <td>0.166667</td>\n",
       "      <td>0.166667</td>\n",
       "      <td>0.166667</td>\n",
       "      <td>0.166667</td>\n",
       "      <td>1.0000</td>\n",
       "    </tr>\n",
       "  </tbody>\n",
       "</table>\n",
       "</div>"
      ],
      "text/plain": [
       "                         F=1       F=2       F=3       F=4       F=5  \\\n",
       "S=6                 0.041667  0.041667  0.041667  0.041667  0.041667   \n",
       "S=5                 0.041667  0.041667  0.041667  0.041667  0.041667   \n",
       "S=4                 0.031250  0.031250  0.031250  0.031250  0.031250   \n",
       "S=3                 0.031250  0.031250  0.031250  0.031250  0.031250   \n",
       "S=2                 0.010417  0.010417  0.010417  0.010417  0.010417   \n",
       "S=1                 0.010417  0.010417  0.010417  0.010417  0.010417   \n",
       "Sum: Marginal of F  0.166667  0.166667  0.166667  0.166667  0.166667   \n",
       "\n",
       "                         F=6  Sum: Marginal of S  \n",
       "S=6                 0.041667              0.2500  \n",
       "S=5                 0.041667              0.2500  \n",
       "S=4                 0.031250              0.1875  \n",
       "S=3                 0.031250              0.1875  \n",
       "S=2                 0.010417              0.0625  \n",
       "S=1                 0.010417              0.0625  \n",
       "Sum: Marginal of F  0.166667              1.0000  "
      ]
     },
     "execution_count": 14,
     "metadata": {},
     "output_type": "execute_result"
    }
   ],
   "source": [
    "joint_table.both_marginals()"
   ]
  },
  {
   "cell_type": "markdown",
   "id": "59c68eac",
   "metadata": {},
   "source": [
    "# Making Conditional Distributions"
   ]
  },
  {
   "cell_type": "markdown",
   "id": "10d5808a",
   "metadata": {},
   "source": [
    "The conditional_dist method operates on a joint distribution and marginal distributions. It can be computed as the ratio of joint distribution to marginal."
   ]
  },
  {
   "cell_type": "code",
   "execution_count": 15,
   "id": "17666b47",
   "metadata": {},
   "outputs": [
    {
     "data": {
      "text/html": [
       "<div>\n",
       "<style scoped>\n",
       "    .dataframe tbody tr th:only-of-type {\n",
       "        vertical-align: middle;\n",
       "    }\n",
       "\n",
       "    .dataframe tbody tr th {\n",
       "        vertical-align: top;\n",
       "    }\n",
       "\n",
       "    .dataframe thead th {\n",
       "        text-align: right;\n",
       "    }\n",
       "</style>\n",
       "<table border=\"1\" class=\"dataframe\">\n",
       "  <thead>\n",
       "    <tr style=\"text-align: right;\">\n",
       "      <th></th>\n",
       "      <th>F=1</th>\n",
       "      <th>F=2</th>\n",
       "      <th>F=3</th>\n",
       "      <th>F=4</th>\n",
       "      <th>F=5</th>\n",
       "      <th>F=6</th>\n",
       "      <th>Sum</th>\n",
       "    </tr>\n",
       "  </thead>\n",
       "  <tbody>\n",
       "    <tr>\n",
       "      <th>Dist. of F | S=6</th>\n",
       "      <td>0.166667</td>\n",
       "      <td>0.166667</td>\n",
       "      <td>0.166667</td>\n",
       "      <td>0.166667</td>\n",
       "      <td>0.166667</td>\n",
       "      <td>0.166667</td>\n",
       "      <td>1.0</td>\n",
       "    </tr>\n",
       "    <tr>\n",
       "      <th>Dist. of F | S=5</th>\n",
       "      <td>0.166667</td>\n",
       "      <td>0.166667</td>\n",
       "      <td>0.166667</td>\n",
       "      <td>0.166667</td>\n",
       "      <td>0.166667</td>\n",
       "      <td>0.166667</td>\n",
       "      <td>1.0</td>\n",
       "    </tr>\n",
       "    <tr>\n",
       "      <th>Dist. of F | S=4</th>\n",
       "      <td>0.166667</td>\n",
       "      <td>0.166667</td>\n",
       "      <td>0.166667</td>\n",
       "      <td>0.166667</td>\n",
       "      <td>0.166667</td>\n",
       "      <td>0.166667</td>\n",
       "      <td>1.0</td>\n",
       "    </tr>\n",
       "    <tr>\n",
       "      <th>Dist. of F | S=3</th>\n",
       "      <td>0.166667</td>\n",
       "      <td>0.166667</td>\n",
       "      <td>0.166667</td>\n",
       "      <td>0.166667</td>\n",
       "      <td>0.166667</td>\n",
       "      <td>0.166667</td>\n",
       "      <td>1.0</td>\n",
       "    </tr>\n",
       "    <tr>\n",
       "      <th>Dist. of F | S=2</th>\n",
       "      <td>0.166667</td>\n",
       "      <td>0.166667</td>\n",
       "      <td>0.166667</td>\n",
       "      <td>0.166667</td>\n",
       "      <td>0.166667</td>\n",
       "      <td>0.166667</td>\n",
       "      <td>1.0</td>\n",
       "    </tr>\n",
       "    <tr>\n",
       "      <th>Dist. of F | S=1</th>\n",
       "      <td>0.166667</td>\n",
       "      <td>0.166667</td>\n",
       "      <td>0.166667</td>\n",
       "      <td>0.166667</td>\n",
       "      <td>0.166667</td>\n",
       "      <td>0.166667</td>\n",
       "      <td>1.0</td>\n",
       "    </tr>\n",
       "    <tr>\n",
       "      <th>Marginal of F</th>\n",
       "      <td>0.166667</td>\n",
       "      <td>0.166667</td>\n",
       "      <td>0.166667</td>\n",
       "      <td>0.166667</td>\n",
       "      <td>0.166667</td>\n",
       "      <td>0.166667</td>\n",
       "      <td>1.0</td>\n",
       "    </tr>\n",
       "  </tbody>\n",
       "</table>\n",
       "</div>"
      ],
      "text/plain": [
       "                       F=1       F=2       F=3       F=4       F=5       F=6  \\\n",
       "Dist. of F | S=6  0.166667  0.166667  0.166667  0.166667  0.166667  0.166667   \n",
       "Dist. of F | S=5  0.166667  0.166667  0.166667  0.166667  0.166667  0.166667   \n",
       "Dist. of F | S=4  0.166667  0.166667  0.166667  0.166667  0.166667  0.166667   \n",
       "Dist. of F | S=3  0.166667  0.166667  0.166667  0.166667  0.166667  0.166667   \n",
       "Dist. of F | S=2  0.166667  0.166667  0.166667  0.166667  0.166667  0.166667   \n",
       "Dist. of F | S=1  0.166667  0.166667  0.166667  0.166667  0.166667  0.166667   \n",
       "Marginal of F     0.166667  0.166667  0.166667  0.166667  0.166667  0.166667   \n",
       "\n",
       "                  Sum  \n",
       "Dist. of F | S=6  1.0  \n",
       "Dist. of F | S=5  1.0  \n",
       "Dist. of F | S=4  1.0  \n",
       "Dist. of F | S=3  1.0  \n",
       "Dist. of F | S=2  1.0  \n",
       "Dist. of F | S=1  1.0  \n",
       "Marginal of F     1.0  "
      ]
     },
     "execution_count": 15,
     "metadata": {},
     "output_type": "execute_result"
    }
   ],
   "source": [
    "# conditional distribution of F given each different value of S\n",
    "\n",
    "joint_table.conditional_dist('F', 'S') "
   ]
  },
  {
   "cell_type": "code",
   "execution_count": 16,
   "id": "a419ff96",
   "metadata": {},
   "outputs": [
    {
     "data": {
      "text/html": [
       "<div>\n",
       "<style scoped>\n",
       "    .dataframe tbody tr th:only-of-type {\n",
       "        vertical-align: middle;\n",
       "    }\n",
       "\n",
       "    .dataframe tbody tr th {\n",
       "        vertical-align: top;\n",
       "    }\n",
       "\n",
       "    .dataframe thead th {\n",
       "        text-align: right;\n",
       "    }\n",
       "</style>\n",
       "<table border=\"1\" class=\"dataframe\">\n",
       "  <thead>\n",
       "    <tr style=\"text-align: right;\">\n",
       "      <th></th>\n",
       "      <th>Dist. of S | F=1</th>\n",
       "      <th>Dist. of S | F=2</th>\n",
       "      <th>Dist. of S | F=3</th>\n",
       "      <th>Dist. of S | F=4</th>\n",
       "      <th>Dist. of S | F=5</th>\n",
       "      <th>Dist. of S | F=6</th>\n",
       "      <th>Marginal of S</th>\n",
       "    </tr>\n",
       "  </thead>\n",
       "  <tbody>\n",
       "    <tr>\n",
       "      <th>S=6</th>\n",
       "      <td>0.2500</td>\n",
       "      <td>0.2500</td>\n",
       "      <td>0.2500</td>\n",
       "      <td>0.2500</td>\n",
       "      <td>0.2500</td>\n",
       "      <td>0.2500</td>\n",
       "      <td>0.2500</td>\n",
       "    </tr>\n",
       "    <tr>\n",
       "      <th>S=5</th>\n",
       "      <td>0.2500</td>\n",
       "      <td>0.2500</td>\n",
       "      <td>0.2500</td>\n",
       "      <td>0.2500</td>\n",
       "      <td>0.2500</td>\n",
       "      <td>0.2500</td>\n",
       "      <td>0.2500</td>\n",
       "    </tr>\n",
       "    <tr>\n",
       "      <th>S=4</th>\n",
       "      <td>0.1875</td>\n",
       "      <td>0.1875</td>\n",
       "      <td>0.1875</td>\n",
       "      <td>0.1875</td>\n",
       "      <td>0.1875</td>\n",
       "      <td>0.1875</td>\n",
       "      <td>0.1875</td>\n",
       "    </tr>\n",
       "    <tr>\n",
       "      <th>S=3</th>\n",
       "      <td>0.1875</td>\n",
       "      <td>0.1875</td>\n",
       "      <td>0.1875</td>\n",
       "      <td>0.1875</td>\n",
       "      <td>0.1875</td>\n",
       "      <td>0.1875</td>\n",
       "      <td>0.1875</td>\n",
       "    </tr>\n",
       "    <tr>\n",
       "      <th>S=2</th>\n",
       "      <td>0.0625</td>\n",
       "      <td>0.0625</td>\n",
       "      <td>0.0625</td>\n",
       "      <td>0.0625</td>\n",
       "      <td>0.0625</td>\n",
       "      <td>0.0625</td>\n",
       "      <td>0.0625</td>\n",
       "    </tr>\n",
       "    <tr>\n",
       "      <th>S=1</th>\n",
       "      <td>0.0625</td>\n",
       "      <td>0.0625</td>\n",
       "      <td>0.0625</td>\n",
       "      <td>0.0625</td>\n",
       "      <td>0.0625</td>\n",
       "      <td>0.0625</td>\n",
       "      <td>0.0625</td>\n",
       "    </tr>\n",
       "    <tr>\n",
       "      <th>Sum</th>\n",
       "      <td>1.0000</td>\n",
       "      <td>1.0000</td>\n",
       "      <td>1.0000</td>\n",
       "      <td>1.0000</td>\n",
       "      <td>1.0000</td>\n",
       "      <td>1.0000</td>\n",
       "      <td>1.0000</td>\n",
       "    </tr>\n",
       "  </tbody>\n",
       "</table>\n",
       "</div>"
      ],
      "text/plain": [
       "     Dist. of S | F=1  Dist. of S | F=2  Dist. of S | F=3  Dist. of S | F=4  \\\n",
       "S=6            0.2500            0.2500            0.2500            0.2500   \n",
       "S=5            0.2500            0.2500            0.2500            0.2500   \n",
       "S=4            0.1875            0.1875            0.1875            0.1875   \n",
       "S=3            0.1875            0.1875            0.1875            0.1875   \n",
       "S=2            0.0625            0.0625            0.0625            0.0625   \n",
       "S=1            0.0625            0.0625            0.0625            0.0625   \n",
       "Sum            1.0000            1.0000            1.0000            1.0000   \n",
       "\n",
       "     Dist. of S | F=5  Dist. of S | F=6  Marginal of S  \n",
       "S=6            0.2500            0.2500         0.2500  \n",
       "S=5            0.2500            0.2500         0.2500  \n",
       "S=4            0.1875            0.1875         0.1875  \n",
       "S=3            0.1875            0.1875         0.1875  \n",
       "S=2            0.0625            0.0625         0.0625  \n",
       "S=1            0.0625            0.0625         0.0625  \n",
       "Sum            1.0000            1.0000         1.0000  "
      ]
     },
     "execution_count": 16,
     "metadata": {},
     "output_type": "execute_result"
    }
   ],
   "source": [
    "# conditional distribution of S given each different value of F\n",
    "joint_table.conditional_dist('S', 'F') "
   ]
  },
  {
   "cell_type": "markdown",
   "id": "e4add36b",
   "metadata": {},
   "source": [
    "# Dependence and Independence"
   ]
  },
  {
   "cell_type": "markdown",
   "id": "64fd5775",
   "metadata": {},
   "source": [
    "Conditional distributions and marginal distribution to say some thing about the independence and dependence of two events.\n",
    "\n",
    "Two random variables F and S are independent if for every value f of F and s of S,\n",
    "\n",
    "P(Y=y∣X=x)=P(Y=y)\n",
    "\n",
    "The conditional probability is equal to the marginal probability."
   ]
  },
  {
   "cell_type": "markdown",
   "id": "d68224a8",
   "metadata": {},
   "source": [
    "From the above example, if we compute the Marginal and conditional probilities:"
   ]
  },
  {
   "cell_type": "code",
   "execution_count": 17,
   "id": "9d68174b",
   "metadata": {},
   "outputs": [
    {
     "name": "stdout",
     "output_type": "stream",
     "text": [
      "****************************************\n",
      "Margnal\n",
      "****************************************\n",
      "                         F=1       F=2       F=3       F=4       F=5  \\\n",
      "S=6                 0.041667  0.041667  0.041667  0.041667  0.041667   \n",
      "S=5                 0.041667  0.041667  0.041667  0.041667  0.041667   \n",
      "S=4                 0.031250  0.031250  0.031250  0.031250  0.031250   \n",
      "S=3                 0.031250  0.031250  0.031250  0.031250  0.031250   \n",
      "S=2                 0.010417  0.010417  0.010417  0.010417  0.010417   \n",
      "S=1                 0.010417  0.010417  0.010417  0.010417  0.010417   \n",
      "Sum: Marginal of F  0.166667  0.166667  0.166667  0.166667  0.166667   \n",
      "\n",
      "                         F=6  Sum: Marginal of S  \n",
      "S=6                 0.041667              0.2500  \n",
      "S=5                 0.041667              0.2500  \n",
      "S=4                 0.031250              0.1875  \n",
      "S=3                 0.031250              0.1875  \n",
      "S=2                 0.010417              0.0625  \n",
      "S=1                 0.010417              0.0625  \n",
      "Sum: Marginal of F  0.166667              1.0000  \n",
      "****************************************\n",
      "****************************************\n",
      "Conditional of F\n"
     ]
    },
    {
     "data": {
      "text/html": [
       "<div>\n",
       "<style scoped>\n",
       "    .dataframe tbody tr th:only-of-type {\n",
       "        vertical-align: middle;\n",
       "    }\n",
       "\n",
       "    .dataframe tbody tr th {\n",
       "        vertical-align: top;\n",
       "    }\n",
       "\n",
       "    .dataframe thead th {\n",
       "        text-align: right;\n",
       "    }\n",
       "</style>\n",
       "<table border=\"1\" class=\"dataframe\">\n",
       "  <thead>\n",
       "    <tr style=\"text-align: right;\">\n",
       "      <th></th>\n",
       "      <th>Dist. of S | F=1</th>\n",
       "      <th>Dist. of S | F=2</th>\n",
       "      <th>Dist. of S | F=3</th>\n",
       "      <th>Dist. of S | F=4</th>\n",
       "      <th>Dist. of S | F=5</th>\n",
       "      <th>Dist. of S | F=6</th>\n",
       "      <th>Marginal of S</th>\n",
       "    </tr>\n",
       "  </thead>\n",
       "  <tbody>\n",
       "    <tr>\n",
       "      <th>S=6</th>\n",
       "      <td>0.2500</td>\n",
       "      <td>0.2500</td>\n",
       "      <td>0.2500</td>\n",
       "      <td>0.2500</td>\n",
       "      <td>0.2500</td>\n",
       "      <td>0.2500</td>\n",
       "      <td>0.2500</td>\n",
       "    </tr>\n",
       "    <tr>\n",
       "      <th>S=5</th>\n",
       "      <td>0.2500</td>\n",
       "      <td>0.2500</td>\n",
       "      <td>0.2500</td>\n",
       "      <td>0.2500</td>\n",
       "      <td>0.2500</td>\n",
       "      <td>0.2500</td>\n",
       "      <td>0.2500</td>\n",
       "    </tr>\n",
       "    <tr>\n",
       "      <th>S=4</th>\n",
       "      <td>0.1875</td>\n",
       "      <td>0.1875</td>\n",
       "      <td>0.1875</td>\n",
       "      <td>0.1875</td>\n",
       "      <td>0.1875</td>\n",
       "      <td>0.1875</td>\n",
       "      <td>0.1875</td>\n",
       "    </tr>\n",
       "    <tr>\n",
       "      <th>S=3</th>\n",
       "      <td>0.1875</td>\n",
       "      <td>0.1875</td>\n",
       "      <td>0.1875</td>\n",
       "      <td>0.1875</td>\n",
       "      <td>0.1875</td>\n",
       "      <td>0.1875</td>\n",
       "      <td>0.1875</td>\n",
       "    </tr>\n",
       "    <tr>\n",
       "      <th>S=2</th>\n",
       "      <td>0.0625</td>\n",
       "      <td>0.0625</td>\n",
       "      <td>0.0625</td>\n",
       "      <td>0.0625</td>\n",
       "      <td>0.0625</td>\n",
       "      <td>0.0625</td>\n",
       "      <td>0.0625</td>\n",
       "    </tr>\n",
       "    <tr>\n",
       "      <th>S=1</th>\n",
       "      <td>0.0625</td>\n",
       "      <td>0.0625</td>\n",
       "      <td>0.0625</td>\n",
       "      <td>0.0625</td>\n",
       "      <td>0.0625</td>\n",
       "      <td>0.0625</td>\n",
       "      <td>0.0625</td>\n",
       "    </tr>\n",
       "    <tr>\n",
       "      <th>Sum</th>\n",
       "      <td>1.0000</td>\n",
       "      <td>1.0000</td>\n",
       "      <td>1.0000</td>\n",
       "      <td>1.0000</td>\n",
       "      <td>1.0000</td>\n",
       "      <td>1.0000</td>\n",
       "      <td>1.0000</td>\n",
       "    </tr>\n",
       "  </tbody>\n",
       "</table>\n",
       "</div>"
      ],
      "text/plain": [
       "     Dist. of S | F=1  Dist. of S | F=2  Dist. of S | F=3  Dist. of S | F=4  \\\n",
       "S=6            0.2500            0.2500            0.2500            0.2500   \n",
       "S=5            0.2500            0.2500            0.2500            0.2500   \n",
       "S=4            0.1875            0.1875            0.1875            0.1875   \n",
       "S=3            0.1875            0.1875            0.1875            0.1875   \n",
       "S=2            0.0625            0.0625            0.0625            0.0625   \n",
       "S=1            0.0625            0.0625            0.0625            0.0625   \n",
       "Sum            1.0000            1.0000            1.0000            1.0000   \n",
       "\n",
       "     Dist. of S | F=5  Dist. of S | F=6  Marginal of S  \n",
       "S=6            0.2500            0.2500         0.2500  \n",
       "S=5            0.2500            0.2500         0.2500  \n",
       "S=4            0.1875            0.1875         0.1875  \n",
       "S=3            0.1875            0.1875         0.1875  \n",
       "S=2            0.0625            0.0625         0.0625  \n",
       "S=1            0.0625            0.0625         0.0625  \n",
       "Sum            1.0000            1.0000         1.0000  "
      ]
     },
     "execution_count": 17,
     "metadata": {},
     "output_type": "execute_result"
    }
   ],
   "source": [
    "print('****************************************')\n",
    "print('Margnal')\n",
    "print('****************************************')\n",
    "print(joint_table.both_marginals())\n",
    "print('****************************************')\n",
    "print('****************************************')\n",
    "print('Conditional of F')\n",
    "joint_table.conditional_dist('S', 'F') \n"
   ]
  },
  {
   "cell_type": "markdown",
   "id": "ecdce040",
   "metadata": {},
   "source": [
    "In the above table which shows the Marginal distribution of S in last colum and conditional probabilities of S for various values of F, the conditional distribution is exactly equal to the Marginal probabilities of S. Therefore, the F and S are independent"
   ]
  },
  {
   "cell_type": "markdown",
   "id": "38e0f783",
   "metadata": {},
   "source": [
    "Considering the Case of Dependence, we simulate the below experiment\n"
   ]
  },
  {
   "cell_type": "code",
   "execution_count": 18,
   "id": "0285c530",
   "metadata": {},
   "outputs": [
    {
     "name": "stderr",
     "output_type": "stream",
     "text": [
      "C:\\Users\\waliullah\\Anaconda3\\lib\\site-packages\\prob140\\single_variable.py:323: UserWarning: Probabilities sum to 0.833334\n",
      "  warnings.warn('Probabilities sum to {0}'.format(sum(values)))\n",
      "C:\\Users\\waliullah\\Anaconda3\\lib\\site-packages\\prob140\\multi_variable.py:396: UserWarning: Your probabilities sum to 0.833334\n",
      "  warnings.warn('Your probabilities sum to {0}'.format(total))\n"
     ]
    },
    {
     "data": {
      "text/html": [
       "<div>\n",
       "<style scoped>\n",
       "    .dataframe tbody tr th:only-of-type {\n",
       "        vertical-align: middle;\n",
       "    }\n",
       "\n",
       "    .dataframe tbody tr th {\n",
       "        vertical-align: top;\n",
       "    }\n",
       "\n",
       "    .dataframe thead th {\n",
       "        text-align: right;\n",
       "    }\n",
       "</style>\n",
       "<table border=\"1\" class=\"dataframe\">\n",
       "  <thead>\n",
       "    <tr style=\"text-align: right;\">\n",
       "      <th></th>\n",
       "      <th>X=0</th>\n",
       "      <th>X=1</th>\n",
       "      <th>X=2</th>\n",
       "      <th>X=3</th>\n",
       "    </tr>\n",
       "  </thead>\n",
       "  <tbody>\n",
       "    <tr>\n",
       "      <th>Y=3</th>\n",
       "      <td>0.125</td>\n",
       "      <td>0.166667</td>\n",
       "      <td>0.0</td>\n",
       "      <td>0.0</td>\n",
       "    </tr>\n",
       "    <tr>\n",
       "      <th>Y=2</th>\n",
       "      <td>0.125</td>\n",
       "      <td>0.000000</td>\n",
       "      <td>0.0</td>\n",
       "      <td>0.0</td>\n",
       "    </tr>\n",
       "    <tr>\n",
       "      <th>Y=1</th>\n",
       "      <td>0.125</td>\n",
       "      <td>0.166667</td>\n",
       "      <td>0.0</td>\n",
       "      <td>0.0</td>\n",
       "    </tr>\n",
       "    <tr>\n",
       "      <th>Y=0</th>\n",
       "      <td>0.125</td>\n",
       "      <td>0.000000</td>\n",
       "      <td>0.0</td>\n",
       "      <td>0.0</td>\n",
       "    </tr>\n",
       "  </tbody>\n",
       "</table>\n",
       "</div>"
      ],
      "text/plain": [
       "       X=0       X=1  X=2  X=3\n",
       "Y=3  0.125  0.166667  0.0  0.0\n",
       "Y=2  0.125  0.000000  0.0  0.0\n",
       "Y=1  0.125  0.166667  0.0  0.0\n",
       "Y=0  0.125  0.000000  0.0  0.0"
      ]
     },
     "execution_count": 18,
     "metadata": {},
     "output_type": "execute_result"
    }
   ],
   "source": [
    "k = np.arange(4)\n",
    "def joint_probability(x, y):\n",
    "    if x == 0 & y == 0:\n",
    "        return 0.125000\n",
    "    elif x==0 & y==1:\n",
    "        return 0.250000\n",
    "    elif x==0 & y==2:\n",
    "        return 0.166667\n",
    "    elif x==0 & y==3:\n",
    "        return 0.037037\n",
    "    elif x==1 & y==0:\n",
    "        return 0.125000\n",
    "    elif x==1 & y==1:\n",
    "        return 0.166667\n",
    "    elif x==1 & y==2:\n",
    "        return 0.055556\n",
    "    elif x==2 & y==0:\n",
    "        return 0.041667\n",
    "    elif x==2 & y==1:\n",
    "        return 0.027778\n",
    "    elif x==3 & y==0:\n",
    "        return 0.00463\n",
    "    else:\n",
    "        return 0.00000\n",
    "\n",
    "joint_dist1 = Table().values('X', k, 'Y', k).probability_function(joint_probability)\n",
    "joint_dist1"
   ]
  },
  {
   "cell_type": "code",
   "execution_count": 19,
   "id": "692a15b2",
   "metadata": {},
   "outputs": [
    {
     "data": {
      "text/html": [
       "<div>\n",
       "<style scoped>\n",
       "    .dataframe tbody tr th:only-of-type {\n",
       "        vertical-align: middle;\n",
       "    }\n",
       "\n",
       "    .dataframe tbody tr th {\n",
       "        vertical-align: top;\n",
       "    }\n",
       "\n",
       "    .dataframe thead th {\n",
       "        text-align: right;\n",
       "    }\n",
       "</style>\n",
       "<table border=\"1\" class=\"dataframe\">\n",
       "  <thead>\n",
       "    <tr style=\"text-align: right;\">\n",
       "      <th></th>\n",
       "      <th>X=0</th>\n",
       "      <th>X=1</th>\n",
       "      <th>X=2</th>\n",
       "      <th>X=3</th>\n",
       "      <th>Sum</th>\n",
       "    </tr>\n",
       "  </thead>\n",
       "  <tbody>\n",
       "    <tr>\n",
       "      <th>Dist. of X | Y=3</th>\n",
       "      <td>0.428571</td>\n",
       "      <td>0.571429</td>\n",
       "      <td>0.0</td>\n",
       "      <td>0.0</td>\n",
       "      <td>1.0</td>\n",
       "    </tr>\n",
       "    <tr>\n",
       "      <th>Dist. of X | Y=2</th>\n",
       "      <td>1.000000</td>\n",
       "      <td>0.000000</td>\n",
       "      <td>0.0</td>\n",
       "      <td>0.0</td>\n",
       "      <td>1.0</td>\n",
       "    </tr>\n",
       "    <tr>\n",
       "      <th>Dist. of X | Y=1</th>\n",
       "      <td>0.428571</td>\n",
       "      <td>0.571429</td>\n",
       "      <td>0.0</td>\n",
       "      <td>0.0</td>\n",
       "      <td>1.0</td>\n",
       "    </tr>\n",
       "    <tr>\n",
       "      <th>Dist. of X | Y=0</th>\n",
       "      <td>1.000000</td>\n",
       "      <td>0.000000</td>\n",
       "      <td>0.0</td>\n",
       "      <td>0.0</td>\n",
       "      <td>1.0</td>\n",
       "    </tr>\n",
       "    <tr>\n",
       "      <th>Marginal of X</th>\n",
       "      <td>0.600000</td>\n",
       "      <td>0.400000</td>\n",
       "      <td>0.0</td>\n",
       "      <td>0.0</td>\n",
       "      <td>1.0</td>\n",
       "    </tr>\n",
       "  </tbody>\n",
       "</table>\n",
       "</div>"
      ],
      "text/plain": [
       "                       X=0       X=1  X=2  X=3  Sum\n",
       "Dist. of X | Y=3  0.428571  0.571429  0.0  0.0  1.0\n",
       "Dist. of X | Y=2  1.000000  0.000000  0.0  0.0  1.0\n",
       "Dist. of X | Y=1  0.428571  0.571429  0.0  0.0  1.0\n",
       "Dist. of X | Y=0  1.000000  0.000000  0.0  0.0  1.0\n",
       "Marginal of X     0.600000  0.400000  0.0  0.0  1.0"
      ]
     },
     "execution_count": 19,
     "metadata": {},
     "output_type": "execute_result"
    }
   ],
   "source": [
    "joint_dist1.conditional_dist('X', 'Y') "
   ]
  },
  {
   "cell_type": "markdown",
   "id": "590e3fb8",
   "metadata": {},
   "source": [
    "In the above table which shows the Marginal distribution of X in last row and conditional probabilities of X for various values of Y, the conditional distribution is not equal to the Marginal probabilities of X. Therefore, the X and Y are not independent."
   ]
  },
  {
   "cell_type": "markdown",
   "id": "f6abc2fb",
   "metadata": {},
   "source": [
    "# Unconditional Moments"
   ]
  },
  {
   "cell_type": "code",
   "execution_count": 20,
   "id": "fdcd9f84",
   "metadata": {},
   "outputs": [],
   "source": [
    "# Unconditional Expectantion"
   ]
  },
  {
   "cell_type": "code",
   "execution_count": 21,
   "id": "c57ca4c2",
   "metadata": {},
   "outputs": [
    {
     "name": "stderr",
     "output_type": "stream",
     "text": [
      "C:\\Users\\waliullah\\Anaconda3\\lib\\site-packages\\prob140\\single_variable.py:350: UserWarning: .probability() is deprecated - please use .probabilities()\n",
      "  warnings.warn('.probability() is deprecated - please use .probabilities()')\n"
     ]
    },
    {
     "data": {
      "text/html": [
       "<table border=\"1\" class=\"dataframe\">\n",
       "    <thead>\n",
       "        <tr>\n",
       "            <th>S</th> <th>P(S=s)</th>\n",
       "        </tr>\n",
       "    </thead>\n",
       "    <tbody>\n",
       "        <tr>\n",
       "            <td>1   </td> <td>0.25  </td>\n",
       "        </tr>\n",
       "        <tr>\n",
       "            <td>2   </td> <td>0.25  </td>\n",
       "        </tr>\n",
       "        <tr>\n",
       "            <td>3   </td> <td>0.1875</td>\n",
       "        </tr>\n",
       "        <tr>\n",
       "            <td>4   </td> <td>0.1875</td>\n",
       "        </tr>\n",
       "        <tr>\n",
       "            <td>5   </td> <td>0.0625</td>\n",
       "        </tr>\n",
       "        <tr>\n",
       "            <td>6   </td> <td>0.0625</td>\n",
       "        </tr>\n",
       "    </tbody>\n",
       "</table>"
      ],
      "text/plain": [
       "S    | P(S=s)\n",
       "1    | 0.25\n",
       "2    | 0.25\n",
       "3    | 0.1875\n",
       "4    | 0.1875\n",
       "5    | 0.0625\n",
       "6    | 0.0625"
      ]
     },
     "execution_count": 21,
     "metadata": {},
     "output_type": "execute_result"
    }
   ],
   "source": [
    "S = np.arange(1, 7)\n",
    "zz=joint_table.marginal('S') \n",
    "z1=zz['Sum: Marginal of S']\n",
    "z2=np.array(z1)\n",
    "dist = Table().values(S).probability(z2)\n",
    "dist = dist.relabel('Value', 'S').relabel('Probability', 'P(S=s)')\n",
    "dist"
   ]
  },
  {
   "cell_type": "code",
   "execution_count": 22,
   "id": "6d3cb0bc",
   "metadata": {},
   "outputs": [
    {
     "name": "stdout",
     "output_type": "stream",
     "text": [
      "The Uncoditional Expected Value of S = 2.75\n"
     ]
    },
    {
     "data": {
      "text/plain": [
       "2.75"
      ]
     },
     "execution_count": 22,
     "metadata": {},
     "output_type": "execute_result"
    }
   ],
   "source": [
    "uev_S = sum(dist.column('S') * dist.column('P(S=s)'))\n",
    "print('The Uncoditional Expected Value of S =', uev_S)\n",
    "\n",
    "dist.ev()\n"
   ]
  },
  {
   "cell_type": "code",
   "execution_count": 23,
   "id": "dd7876f4",
   "metadata": {},
   "outputs": [],
   "source": [
    "# Unconditional Variance and Standard Deveiation"
   ]
  },
  {
   "cell_type": "code",
   "execution_count": 24,
   "id": "495bbf12",
   "metadata": {},
   "outputs": [
    {
     "data": {
      "text/html": [
       "<table border=\"1\" class=\"dataframe\">\n",
       "    <thead>\n",
       "        <tr>\n",
       "            <th>S</th> <th>(S - uev_S)**2</th> <th>P(S = s)</th>\n",
       "        </tr>\n",
       "    </thead>\n",
       "    <tbody>\n",
       "        <tr>\n",
       "            <td>1   </td> <td>3.0625        </td> <td>0.25    </td>\n",
       "        </tr>\n",
       "        <tr>\n",
       "            <td>2   </td> <td>0.5625        </td> <td>0.25    </td>\n",
       "        </tr>\n",
       "        <tr>\n",
       "            <td>3   </td> <td>0.0625        </td> <td>0.1875  </td>\n",
       "        </tr>\n",
       "        <tr>\n",
       "            <td>4   </td> <td>1.5625        </td> <td>0.1875  </td>\n",
       "        </tr>\n",
       "        <tr>\n",
       "            <td>5   </td> <td>5.0625        </td> <td>0.0625  </td>\n",
       "        </tr>\n",
       "        <tr>\n",
       "            <td>6   </td> <td>10.5625       </td> <td>0.0625  </td>\n",
       "        </tr>\n",
       "    </tbody>\n",
       "</table>"
      ],
      "text/plain": [
       "S    | (S - uev_S)**2 | P(S = s)\n",
       "1    | 3.0625         | 0.25\n",
       "2    | 0.5625         | 0.25\n",
       "3    | 0.0625         | 0.1875\n",
       "4    | 1.5625         | 0.1875\n",
       "5    | 5.0625         | 0.0625\n",
       "6    | 10.5625        | 0.0625"
      ]
     },
     "execution_count": 24,
     "metadata": {},
     "output_type": "execute_result"
    }
   ],
   "source": [
    "sd_table = Table().with_columns(\n",
    "    'S', dist.column(0),\n",
    "    '(S - uev_S)**2', (dist.column(0)-uev_S)**2,\n",
    "    'P(S = s)', dist.column(1)\n",
    ")\n",
    "sd_table"
   ]
  },
  {
   "cell_type": "code",
   "execution_count": 25,
   "id": "db4da74e",
   "metadata": {},
   "outputs": [
    {
     "name": "stdout",
     "output_type": "stream",
     "text": [
      "The Uncoditional Variance of S = 2.1875\n",
      "The Uncoditional SD of S = 1.479019945774904\n"
     ]
    }
   ],
   "source": [
    "uvar_S = (sum(sd_table.column(1)*sd_table.column(2)))\n",
    "print('The Uncoditional Variance of S =', uvar_S)\n",
    "\n",
    "usd_S = np.sqrt(sum(sd_table.column(1)*sd_table.column(2)))\n",
    "print('The Uncoditional SD of S =', usd_S)"
   ]
  },
  {
   "cell_type": "code",
   "execution_count": 26,
   "id": "1bc61873",
   "metadata": {},
   "outputs": [],
   "source": [
    "#Conditional Expection\n"
   ]
  },
  {
   "cell_type": "code",
   "execution_count": 27,
   "id": "084556f0",
   "metadata": {},
   "outputs": [
    {
     "data": {
      "text/html": [
       "<div>\n",
       "<style scoped>\n",
       "    .dataframe tbody tr th:only-of-type {\n",
       "        vertical-align: middle;\n",
       "    }\n",
       "\n",
       "    .dataframe tbody tr th {\n",
       "        vertical-align: top;\n",
       "    }\n",
       "\n",
       "    .dataframe thead th {\n",
       "        text-align: right;\n",
       "    }\n",
       "</style>\n",
       "<table border=\"1\" class=\"dataframe\">\n",
       "  <thead>\n",
       "    <tr style=\"text-align: right;\">\n",
       "      <th></th>\n",
       "      <th>Dist. of S | F=1</th>\n",
       "      <th>Dist. of S | F=2</th>\n",
       "      <th>Dist. of S | F=3</th>\n",
       "      <th>Dist. of S | F=4</th>\n",
       "      <th>Dist. of S | F=5</th>\n",
       "      <th>Dist. of S | F=6</th>\n",
       "      <th>Marginal of S</th>\n",
       "    </tr>\n",
       "  </thead>\n",
       "  <tbody>\n",
       "    <tr>\n",
       "      <th>S=6</th>\n",
       "      <td>0.2500</td>\n",
       "      <td>0.2500</td>\n",
       "      <td>0.2500</td>\n",
       "      <td>0.2500</td>\n",
       "      <td>0.2500</td>\n",
       "      <td>0.2500</td>\n",
       "      <td>0.2500</td>\n",
       "    </tr>\n",
       "    <tr>\n",
       "      <th>S=5</th>\n",
       "      <td>0.2500</td>\n",
       "      <td>0.2500</td>\n",
       "      <td>0.2500</td>\n",
       "      <td>0.2500</td>\n",
       "      <td>0.2500</td>\n",
       "      <td>0.2500</td>\n",
       "      <td>0.2500</td>\n",
       "    </tr>\n",
       "    <tr>\n",
       "      <th>S=4</th>\n",
       "      <td>0.1875</td>\n",
       "      <td>0.1875</td>\n",
       "      <td>0.1875</td>\n",
       "      <td>0.1875</td>\n",
       "      <td>0.1875</td>\n",
       "      <td>0.1875</td>\n",
       "      <td>0.1875</td>\n",
       "    </tr>\n",
       "    <tr>\n",
       "      <th>S=3</th>\n",
       "      <td>0.1875</td>\n",
       "      <td>0.1875</td>\n",
       "      <td>0.1875</td>\n",
       "      <td>0.1875</td>\n",
       "      <td>0.1875</td>\n",
       "      <td>0.1875</td>\n",
       "      <td>0.1875</td>\n",
       "    </tr>\n",
       "    <tr>\n",
       "      <th>S=2</th>\n",
       "      <td>0.0625</td>\n",
       "      <td>0.0625</td>\n",
       "      <td>0.0625</td>\n",
       "      <td>0.0625</td>\n",
       "      <td>0.0625</td>\n",
       "      <td>0.0625</td>\n",
       "      <td>0.0625</td>\n",
       "    </tr>\n",
       "    <tr>\n",
       "      <th>S=1</th>\n",
       "      <td>0.0625</td>\n",
       "      <td>0.0625</td>\n",
       "      <td>0.0625</td>\n",
       "      <td>0.0625</td>\n",
       "      <td>0.0625</td>\n",
       "      <td>0.0625</td>\n",
       "      <td>0.0625</td>\n",
       "    </tr>\n",
       "    <tr>\n",
       "      <th>Sum</th>\n",
       "      <td>1.0000</td>\n",
       "      <td>1.0000</td>\n",
       "      <td>1.0000</td>\n",
       "      <td>1.0000</td>\n",
       "      <td>1.0000</td>\n",
       "      <td>1.0000</td>\n",
       "      <td>1.0000</td>\n",
       "    </tr>\n",
       "    <tr>\n",
       "      <th>EV</th>\n",
       "      <td>4.2500</td>\n",
       "      <td>4.2500</td>\n",
       "      <td>4.2500</td>\n",
       "      <td>4.2500</td>\n",
       "      <td>4.2500</td>\n",
       "      <td>4.2500</td>\n",
       "      <td>4.2500</td>\n",
       "    </tr>\n",
       "  </tbody>\n",
       "</table>\n",
       "</div>"
      ],
      "text/plain": [
       "     Dist. of S | F=1  Dist. of S | F=2  Dist. of S | F=3  Dist. of S | F=4  \\\n",
       "S=6            0.2500            0.2500            0.2500            0.2500   \n",
       "S=5            0.2500            0.2500            0.2500            0.2500   \n",
       "S=4            0.1875            0.1875            0.1875            0.1875   \n",
       "S=3            0.1875            0.1875            0.1875            0.1875   \n",
       "S=2            0.0625            0.0625            0.0625            0.0625   \n",
       "S=1            0.0625            0.0625            0.0625            0.0625   \n",
       "Sum            1.0000            1.0000            1.0000            1.0000   \n",
       "EV             4.2500            4.2500            4.2500            4.2500   \n",
       "\n",
       "     Dist. of S | F=5  Dist. of S | F=6  Marginal of S  \n",
       "S=6            0.2500            0.2500         0.2500  \n",
       "S=5            0.2500            0.2500         0.2500  \n",
       "S=4            0.1875            0.1875         0.1875  \n",
       "S=3            0.1875            0.1875         0.1875  \n",
       "S=2            0.0625            0.0625         0.0625  \n",
       "S=1            0.0625            0.0625         0.0625  \n",
       "Sum            1.0000            1.0000         1.0000  \n",
       "EV             4.2500            4.2500         4.2500  "
      ]
     },
     "execution_count": 27,
     "metadata": {},
     "output_type": "execute_result"
    }
   ],
   "source": [
    "joint_table.conditional_dist('S', 'F', show_ev=True)"
   ]
  },
  {
   "cell_type": "markdown",
   "id": "94f2cfd6",
   "metadata": {},
   "source": [
    "You can see E(S)=4.2500 in the row corresponding to the distribution of S. And you can also see the conditional expectation of S given each possible value of F:\n",
    "\n",
    " E(S∣F=1)=4.2500\n",
    " E(S∣F=2)=4.2500\n",
    " E(S∣F=3)=4.2500\n",
    " E(S∣F=4)=4.2500\n",
    " E(S∣F=5)=4.2500\n",
    " E(S∣F=6)=4.2500\n",
    " This defines a function of S: for each value s of S, the function returns E(S∣F=f)."
   ]
  },
  {
   "cell_type": "code",
   "execution_count": 28,
   "id": "d9019c78",
   "metadata": {},
   "outputs": [
    {
     "data": {
      "text/html": [
       "<table border=\"1\" class=\"dataframe\">\n",
       "    <thead>\n",
       "        <tr>\n",
       "            <th>F</th> <th>E(S | F = f)</th> <th>P(S = s)</th>\n",
       "        </tr>\n",
       "    </thead>\n",
       "    <tbody>\n",
       "        <tr>\n",
       "            <td>1   </td> <td>4.25        </td> <td>0.25    </td>\n",
       "        </tr>\n",
       "        <tr>\n",
       "            <td>2   </td> <td>4.25        </td> <td>0.25    </td>\n",
       "        </tr>\n",
       "        <tr>\n",
       "            <td>3   </td> <td>4.25        </td> <td>0.1875  </td>\n",
       "        </tr>\n",
       "        <tr>\n",
       "            <td>4   </td> <td>4.25        </td> <td>0.1875  </td>\n",
       "        </tr>\n",
       "        <tr>\n",
       "            <td>5   </td> <td>4.25        </td> <td>0.0625  </td>\n",
       "        </tr>\n",
       "        <tr>\n",
       "            <td>6   </td> <td>4.25        </td> <td>0.0625  </td>\n",
       "        </tr>\n",
       "    </tbody>\n",
       "</table>"
      ],
      "text/plain": [
       "F    | E(S | F = f) | P(S = s)\n",
       "1    | 4.25         | 0.25\n",
       "2    | 4.25         | 0.25\n",
       "3    | 4.25         | 0.1875\n",
       "4    | 4.25         | 0.1875\n",
       "5    | 4.25         | 0.0625\n",
       "6    | 4.25         | 0.0625"
      ]
     },
     "execution_count": 28,
     "metadata": {},
     "output_type": "execute_result"
    }
   ],
   "source": [
    "ev_S_given_F = Table().with_columns(\n",
    "    'F', f,\n",
    "    'E(S | F = f)', [4.2500, 4.2500, 4.2500, 4.2500, 4.2500, 4.2500],\n",
    "    'P(S = s)', [0.2500, 0.2500, 0.1875, 0.1875,0.0625,0.0625 ]\n",
    ")\n",
    "ev_S_given_F"
   ]
  },
  {
   "cell_type": "code",
   "execution_count": 29,
   "id": "3e831582",
   "metadata": {},
   "outputs": [
    {
     "name": "stdout",
     "output_type": "stream",
     "text": [
      "The Coditional Expected Value of S = 4.25\n"
     ]
    }
   ],
   "source": [
    "cond_ev_S = sum(ev_S_given_F.column('E(S | F = f)')*ev_S_given_F.column('P(S = s)'))\n",
    "print('The Coditional Expected Value of S =', cond_ev_S)\n"
   ]
  },
  {
   "cell_type": "code",
   "execution_count": 30,
   "id": "def836c8",
   "metadata": {},
   "outputs": [],
   "source": [
    "#Conditional Variance"
   ]
  },
  {
   "cell_type": "code",
   "execution_count": 31,
   "id": "f11f749e",
   "metadata": {},
   "outputs": [
    {
     "data": {
      "text/html": [
       "<table border=\"1\" class=\"dataframe\">\n",
       "    <thead>\n",
       "        <tr>\n",
       "            <th>S</th> <th>(S - cond_ev_S)**2</th> <th>P(S = s)</th>\n",
       "        </tr>\n",
       "    </thead>\n",
       "    <tbody>\n",
       "        <tr>\n",
       "            <td>1   </td> <td>10.5625           </td> <td>0.25    </td>\n",
       "        </tr>\n",
       "        <tr>\n",
       "            <td>2   </td> <td>5.0625            </td> <td>0.25    </td>\n",
       "        </tr>\n",
       "        <tr>\n",
       "            <td>3   </td> <td>1.5625            </td> <td>0.1875  </td>\n",
       "        </tr>\n",
       "        <tr>\n",
       "            <td>4   </td> <td>0.0625            </td> <td>0.1875  </td>\n",
       "        </tr>\n",
       "        <tr>\n",
       "            <td>5   </td> <td>0.5625            </td> <td>0.0625  </td>\n",
       "        </tr>\n",
       "        <tr>\n",
       "            <td>6   </td> <td>3.0625            </td> <td>0.0625  </td>\n",
       "        </tr>\n",
       "    </tbody>\n",
       "</table>"
      ],
      "text/plain": [
       "S    | (S - cond_ev_S)**2 | P(S = s)\n",
       "1    | 10.5625            | 0.25\n",
       "2    | 5.0625             | 0.25\n",
       "3    | 1.5625             | 0.1875\n",
       "4    | 0.0625             | 0.1875\n",
       "5    | 0.5625             | 0.0625\n",
       "6    | 3.0625             | 0.0625"
      ]
     },
     "execution_count": 31,
     "metadata": {},
     "output_type": "execute_result"
    }
   ],
   "source": [
    "sd_table_cond = Table().with_columns(\n",
    "    'S', dist.column(0),\n",
    "    '(S - cond_ev_S)**2', (dist.column(0)-cond_ev_S)**2,\n",
    "    'P(S = s)', dist.column(1)\n",
    ")\n",
    "sd_table_cond"
   ]
  },
  {
   "cell_type": "code",
   "execution_count": 32,
   "id": "122ae601",
   "metadata": {},
   "outputs": [
    {
     "name": "stdout",
     "output_type": "stream",
     "text": [
      "The Coditional Variance of S = 4.437499999999999\n",
      "The Coditional SD of S = 2.1065374432940893\n"
     ]
    }
   ],
   "source": [
    "cond_var_S = (sum(sd_table_cond.column(1)*sd_table_cond.column(2)))\n",
    "print('The Coditional Variance of S =', cond_var_S)\n",
    "cond_sd_S = np.sqrt(sum(sd_table_cond.column(1)*sd_table_cond.column(2)))\n",
    "print('The Coditional SD of S =', cond_sd_S)"
   ]
  },
  {
   "cell_type": "markdown",
   "id": "3ded028f",
   "metadata": {},
   "source": [
    "# Contenous RV"
   ]
  },
  {
   "cell_type": "code",
   "execution_count": 33,
   "id": "bc8bd318",
   "metadata": {},
   "outputs": [],
   "source": [
    "from scipy.stats import norm\n",
    "import matplotlib.pyplot as plt\n",
    "import math\n",
    "import statistics\n",
    "import numpy as np\n",
    "import scipy.stats\n",
    "import pandas as pd\n",
    "from scipy.stats import norm\n",
    "from sympy import *\n",
    "init_printing()"
   ]
  },
  {
   "cell_type": "markdown",
   "id": "f14f3cfd",
   "metadata": {},
   "source": [
    "# Densit\n",
    "Let assume that X has density given by\n",
    "\n",
    "f(x)={105x2(1−x)4   if 0≤x≤1\n",
    "\n",
    "            0         otherwise\n",
    "            \n",
    "As you can see from its graph below, f could be used to model the distribution of a random proportion that you think is likely to be somewhere between 0.2 and 0.4."
   ]
  },
  {
   "cell_type": "code",
   "execution_count": 34,
   "id": "4d687538",
   "metadata": {},
   "outputs": [],
   "source": [
    "from sympy import *\n",
    "init_printing()"
   ]
  },
  {
   "cell_type": "code",
   "execution_count": 35,
   "id": "1ca3e13f",
   "metadata": {},
   "outputs": [],
   "source": [
    "x = Symbol('x')"
   ]
  },
  {
   "cell_type": "code",
   "execution_count": 36,
   "id": "7085a33d",
   "metadata": {},
   "outputs": [
    {
     "data": {
      "image/png": "[encoded data removed]",
      "text/latex": [
       "$\\displaystyle 105 x^{2} \\left(1 - x\\right)^{4}$"
      ],
      "text/plain": [
       "     2        4\n",
       "105⋅x ⋅(1 - x) "
      ]
     },
     "execution_count": 36,
     "metadata": {},
     "output_type": "execute_result"
    }
   ],
   "source": [
    "density = 105 * x**2 * (1-x)**4\n",
    "density"
   ]
  },
  {
   "cell_type": "code",
   "execution_count": 37,
   "id": "635ff1d9",
   "metadata": {},
   "outputs": [
    {
     "data": {
      "image/png": "[encoded data removed]",
      "text/latex": [
       "$\\displaystyle \\int\\limits_{0}^{1} 105 x^{2} \\left(1 - x\\right)^{4}\\, dx$"
      ],
      "text/plain": [
       "1                   \n",
       "⌠                   \n",
       "⎮      2        4   \n",
       "⎮ 105⋅x ⋅(1 - x)  dx\n",
       "⌡                   \n",
       "0                   "
      ]
     },
     "execution_count": 37,
     "metadata": {},
     "output_type": "execute_result"
    }
   ],
   "source": [
    "total_area = Integral(density, (x, 0, 1))\n",
    "total_area"
   ]
  },
  {
   "cell_type": "code",
   "execution_count": 38,
   "id": "7b62c635",
   "metadata": {},
   "outputs": [
    {
     "data": {
      "image/png": "[encoded data removed]",
      "text/latex": [
       "$\\displaystyle 1$"
      ],
      "text/plain": [
       "1"
      ]
     },
     "execution_count": 38,
     "metadata": {},
     "output_type": "execute_result"
    }
   ],
   "source": [
    "total_area.doit()"
   ]
  },
  {
   "cell_type": "markdown",
   "id": "0329ca5c",
   "metadata": {},
   "source": [
    "This confirms that the function f is a density."
   ]
  },
  {
   "cell_type": "markdown",
   "id": "01272185",
   "metadata": {},
   "source": [
    "Use Integral to find the chance that X is in any interval. Here is P(0.2<X<0.4)."
   ]
  },
  {
   "cell_type": "code",
   "execution_count": 39,
   "id": "eeb53f3e",
   "metadata": {},
   "outputs": [
    {
     "data": {
      "image/png": "[encoded data removed]",
      "text/latex": [
       "$\\displaystyle 0.432064000000001$"
      ],
      "text/plain": [
       "0.432064000000001"
      ]
     },
     "execution_count": 39,
     "metadata": {},
     "output_type": "execute_result"
    }
   ],
   "source": [
    "prob_02_04 = Integral(density, (x, 0.2, 0.4)).doit()\n",
    "prob_02_04"
   ]
  },
  {
   "cell_type": "markdown",
   "id": "bbddee97",
   "metadata": {},
   "source": [
    "To get the indefinite integral, integrate the density and there are no limits of integration."
   ]
  },
  {
   "cell_type": "code",
   "execution_count": 40,
   "id": "16b96a55",
   "metadata": {},
   "outputs": [
    {
     "data": {
      "image/png": "[encoded data removed]",
      "text/latex": [
       "$\\displaystyle 15 x^{7} - 70 x^{6} + 126 x^{5} - 105 x^{4} + 35 x^{3}$"
      ],
      "text/plain": [
       "    7       6        5        4       3\n",
       "15⋅x  - 70⋅x  + 126⋅x  - 105⋅x  + 35⋅x "
      ]
     },
     "execution_count": 40,
     "metadata": {},
     "output_type": "execute_result"
    }
   ],
   "source": [
    "indefinite = Integral(density).doit()\n",
    "indefinite"
   ]
  },
  {
   "cell_type": "code",
   "execution_count": 41,
   "id": "0b67ecd4",
   "metadata": {},
   "outputs": [
    {
     "data": {
      "image/png": "[encoded data removed]",
      "text/latex": [
       "$\\displaystyle 0$"
      ],
      "text/plain": [
       "0"
      ]
     },
     "execution_count": 41,
     "metadata": {},
     "output_type": "execute_result"
    }
   ],
   "source": [
    "I_0 = indefinite.subs(x, 0)\n",
    "I_0"
   ]
  },
  {
   "cell_type": "code",
   "execution_count": 42,
   "id": "4fca3e2b",
   "metadata": {},
   "outputs": [
    {
     "data": {
      "image/png": "[encoded data removed]",
      "text/latex": [
       "$\\displaystyle 15 x^{7} - 70 x^{6} + 126 x^{5} - 105 x^{4} + 35 x^{3}$"
      ],
      "text/plain": [
       "    7       6        5        4       3\n",
       "15⋅x  - 70⋅x  + 126⋅x  - 105⋅x  + 35⋅x "
      ]
     },
     "execution_count": 42,
     "metadata": {},
     "output_type": "execute_result"
    }
   ],
   "source": [
    "cdf = indefinite - I_0\n",
    "cdf"
   ]
  },
  {
   "cell_type": "markdown",
   "id": "2b373afc",
   "metadata": {},
   "source": [
    "To find the value of the cdf at a specified point, say 0.4, we have to substitute x with 0.4 in the formula for the cdf."
   ]
  },
  {
   "cell_type": "code",
   "execution_count": 43,
   "id": "a90d5df9",
   "metadata": {},
   "outputs": [
    {
     "data": {
      "image/png": "[encoded data removed]",
      "text/latex": [
       "$\\displaystyle 0.580096000000001$"
      ],
      "text/plain": [
       "0.580096000000001"
      ]
     },
     "execution_count": 43,
     "metadata": {},
     "output_type": "execute_result"
    }
   ],
   "source": [
    "cdf_at_04 = cdf.subs(x, 0.4)\n",
    "cdf_at_04"
   ]
  },
  {
   "cell_type": "markdown",
   "id": "5baaac9f",
   "metadata": {},
   "source": [
    "Calulating P(0.2<X<0.4)"
   ]
  },
  {
   "cell_type": "code",
   "execution_count": 44,
   "id": "ce98a57f",
   "metadata": {},
   "outputs": [
    {
     "data": {
      "image/png": "[encoded data removed]",
      "text/latex": [
       "$\\displaystyle 0.432064000000001$"
      ],
      "text/plain": [
       "0.432064000000001"
      ]
     },
     "execution_count": 44,
     "metadata": {},
     "output_type": "execute_result"
    }
   ],
   "source": [
    "cdf_at_02 = cdf.subs(x, 0.2)\n",
    "cdf_at_04 - cdf_at_02"
   ]
  },
  {
   "cell_type": "markdown",
   "id": "7441824d",
   "metadata": {},
   "source": [
    "# Expected Value\n",
    "The expectation E(X) is a definite integral from 0 to 1"
   ]
  },
  {
   "cell_type": "code",
   "execution_count": 45,
   "id": "635b8e26",
   "metadata": {},
   "outputs": [
    {
     "data": {
      "image/png": "[encoded data removed]",
      "text/latex": [
       "$\\displaystyle \\frac{3}{8}$"
      ],
      "text/plain": [
       "3/8"
      ]
     },
     "execution_count": 45,
     "metadata": {},
     "output_type": "execute_result"
    }
   ],
   "source": [
    "expectation = Integral(x*density, (x, 0, 1)).doit()\n",
    "expectation"
   ]
  },
  {
   "cell_type": "code",
   "execution_count": 46,
   "id": "8b34c18e",
   "metadata": {},
   "outputs": [
    {
     "data": {
      "image/png": "[encoded data removed]",
      "text/latex": [
       "$\\displaystyle \\frac{1}{6}$"
      ],
      "text/plain": [
       "1/6"
      ]
     },
     "execution_count": 46,
     "metadata": {},
     "output_type": "execute_result"
    }
   ],
   "source": [
    "expected_square = Integral((x**2)*density, (x, 0, 1)).doit()\n",
    "expected_square"
   ]
  },
  {
   "cell_type": "markdown",
   "id": "8292c0ed",
   "metadata": {},
   "source": [
    "Finding SD(X)."
   ]
  },
  {
   "cell_type": "code",
   "execution_count": 47,
   "id": "c0f0d501",
   "metadata": {},
   "outputs": [
    {
     "data": {
      "image/png": "[encoded data removed]",
      "text/latex": [
       "$\\displaystyle 0.161374306091976$"
      ],
      "text/plain": [
       "0.161374306091976"
      ]
     },
     "execution_count": 47,
     "metadata": {},
     "output_type": "execute_result"
    }
   ],
   "source": [
    "sd = (expected_square - expectation**2)**0.5\n",
    "sd"
   ]
  },
  {
   "cell_type": "markdown",
   "id": "acddfc42",
   "metadata": {},
   "source": [
    "# Joint, Marginal and Conditional Densities of Contenous Random Variable"
   ]
  },
  {
   "cell_type": "markdown",
   "id": "cb309a8f",
   "metadata": {},
   "source": [
    "Let random variables X and Y have the joint density defined by\n",
    "\n",
    "f(x,y) = {30(y−x)4,   0<x<y<1\n",
    "          \n",
    "          0        otherwise"
   ]
  },
  {
   "cell_type": "code",
   "execution_count": 48,
   "id": "2e4fae69",
   "metadata": {},
   "outputs": [
    {
     "data": {
      "image/png": "[encoded data removed]",
      "text/plain": [
       "<Figure size 864x576 with 1 Axes>"
      ]
     },
     "metadata": {
      "needs_background": "light"
     },
     "output_type": "display_data"
    }
   ],
   "source": [
    "def jt_dens(x,y):\n",
    "    if y < x:\n",
    "        return 0\n",
    "    else:\n",
    "        return 30 * (y-x)**4\n",
    "\n",
    "Plot_3d(x_limits=(0,1), y_limits=(0,1), f=jt_dens, cstride=4, rstride=4)\n"
   ]
  },
  {
   "cell_type": "markdown",
   "id": "db3c0c3f",
   "metadata": {},
   "source": [
    "Defining the function f as a joint density"
   ]
  },
  {
   "cell_type": "code",
   "execution_count": 49,
   "id": "00ef0de5",
   "metadata": {},
   "outputs": [
    {
     "name": "stdout",
     "output_type": "stream",
     "text": [
      "Defining Joint Density\n"
     ]
    }
   ],
   "source": [
    "print('Defining Joint Density')\n",
    "x = Symbol('x', positive=True)\n",
    "y = Symbol('y', positive=True)\n",
    "\n",
    "joint_density = 30*(y-x)**4"
   ]
  },
  {
   "cell_type": "code",
   "execution_count": 50,
   "id": "6ce0fd88",
   "metadata": {},
   "outputs": [
    {
     "name": "stdout",
     "output_type": "stream",
     "text": [
      "Total Area under the Curve\n"
     ]
    },
    {
     "data": {
      "image/png": "[encoded data removed]",
      "text/latex": [
       "$\\displaystyle 1$"
      ],
      "text/plain": [
       "1"
      ]
     },
     "execution_count": 50,
     "metadata": {},
     "output_type": "execute_result"
    }
   ],
   "source": [
    "print('Total Area under the Curve')\n",
    "Integral(joint_density, (y, x, 1), (x, 0, 1)).doit()"
   ]
  },
  {
   "cell_type": "code",
   "execution_count": 51,
   "id": "f72d43ea",
   "metadata": {},
   "outputs": [],
   "source": [
    "#Extracting Marginal Density of X"
   ]
  },
  {
   "cell_type": "markdown",
   "id": "3a014167",
   "metadata": {},
   "source": [
    "the density of X is given by\n",
    "\n",
    "fX(x) = ∫yf(x,y)dy     for all x\n",
    "\n",
    "By analogy with the discrete case, fX is sometimes called the marginal density of X.\n",
    "\n",
    "In our example, the possible values of (X,Y) are the upper left hand triangle as shown above. So for each fixed x, the possible values of Y go from x to 1.\n",
    "\n",
    "Therefore for 0<x<1, the density of X is given by\n",
    "\n",
    "fX(x)=∫1x30(y−x)4dy=30⋅15(y−x)5∣∣1x=6(1−x)5\n",
    "\n",
    "Here is the joint density surface again. You can see that X is much more likely to be near 0 than near 1."
   ]
  },
  {
   "cell_type": "code",
   "execution_count": 52,
   "id": "43ea6776",
   "metadata": {},
   "outputs": [
    {
     "data": {
      "image/png": "[encoded data removed]",
      "text/plain": [
       "<Figure size 864x576 with 1 Axes>"
      ]
     },
     "metadata": {
      "needs_background": "light"
     },
     "output_type": "display_data"
    }
   ],
   "source": [
    "Plot_3d(x_limits=(0,1), y_limits=(0,1), f=jt_dens, cstride=4, rstride=4)\n",
    "plt.show()"
   ]
  },
  {
   "cell_type": "markdown",
   "id": "00225f13",
   "metadata": {},
   "source": [
    "#Extracting Marginal Density of Y"
   ]
  },
  {
   "cell_type": "markdown",
   "id": "eddccf1d",
   "metadata": {},
   "source": [
    "Correspondingly, the density of Y can be found by fixing y and integrating over x as follows:\n",
    "\n",
    "fY(y)=∫xf(x,y)dx    for all y\n",
    "\n",
    "In our example, the joint density surface indicates that Y is more likely to be near 1 than near 0, which is confirmed by calculation. Remember that y>x and therefore for each fixed y, the possible values of x are 0 through y.\n",
    "\n",
    "For 0<y<1,\n",
    "\n",
    "fY(y) = ∫y030(y−x)4dx = 6y5"
   ]
  },
  {
   "cell_type": "markdown",
   "id": "56dfe839",
   "metadata": {},
   "source": [
    "# Conditional Densities"
   ]
  },
  {
   "cell_type": "markdown",
   "id": "d123094a",
   "metadata": {},
   "source": [
    "Consider the conditional probability P(Y∈dy∣X∈dx). "
   ]
  },
  {
   "cell_type": "code",
   "execution_count": 53,
   "id": "2c5a6865",
   "metadata": {},
   "outputs": [
    {
     "data": {
      "image/png": "[encoded data removed]",
      "text/latex": [
       "$\\displaystyle 0.999999999999999$"
      ],
      "text/plain": [
       "0.999999999999999"
      ]
     },
     "execution_count": 53,
     "metadata": {},
     "output_type": "execute_result"
    }
   ],
   "source": [
    "y = Symbol('y', positive=True)\n",
    "\n",
    "conditional_density_Y_given_X_is_04 = (5/(0.6**5)) * (y - 0.4)**4\n",
    "\n",
    "Integral(conditional_density_Y_given_X_is_04, (y, 0.4, 1)).doit()"
   ]
  },
  {
   "cell_type": "code",
   "execution_count": 54,
   "id": "deb0af07",
   "metadata": {},
   "outputs": [
    {
     "data": {
      "image/png": "[encoded data removed]",
      "text/latex": [
       "$\\displaystyle 0.598122427983537$"
      ],
      "text/plain": [
       "0.598122427983537"
      ]
     },
     "execution_count": 54,
     "metadata": {},
     "output_type": "execute_result"
    }
   ],
   "source": [
    "Integral(conditional_density_Y_given_X_is_04, (y, 0.9, 1)).doit()"
   ]
  },
  {
   "cell_type": "code",
   "execution_count": 55,
   "id": "00cec584",
   "metadata": {},
   "outputs": [
    {
     "data": {
      "image/png": "[encoded data removed]",
      "text/latex": [
       "$\\displaystyle 0.899999999999998$"
      ],
      "text/plain": [
       "0.899999999999998"
      ]
     },
     "execution_count": 55,
     "metadata": {},
     "output_type": "execute_result"
    }
   ],
   "source": [
    "Integral(y*conditional_density_Y_given_X_is_04, (y, 0.4, 1)).doit()"
   ]
  },
  {
   "cell_type": "markdown",
   "id": "a60d5da9",
   "metadata": {},
   "source": [
    "# Another Example of Joint, Marginal and Conditional Densities"
   ]
  },
  {
   "cell_type": "code",
   "execution_count": 56,
   "id": "e919c154",
   "metadata": {},
   "outputs": [],
   "source": [
    "def joint(x,y):\n",
    "    if y < x:\n",
    "        return 0\n",
    "    else:\n",
    "        return 120 * x * (y-x) * (1-y)"
   ]
  },
  {
   "cell_type": "code",
   "execution_count": 57,
   "id": "7bb536d1",
   "metadata": {},
   "outputs": [
    {
     "data": {
      "image/png": "[encoded data removed]",
      "text/latex": [
       "$\\displaystyle 120 x \\left(1 - y\\right) \\left(- x + y\\right)$"
      ],
      "text/plain": [
       "120⋅x⋅(1 - y)⋅(-x + y)"
      ]
     },
     "execution_count": 57,
     "metadata": {},
     "output_type": "execute_result"
    }
   ],
   "source": [
    "x = Symbol('x', positive=True)\n",
    "y = Symbol('y', positive=True)\n",
    "\n",
    "f = 120*x*(y-x)*(1-y)\n",
    "f"
   ]
  },
  {
   "cell_type": "code",
   "execution_count": 58,
   "id": "a432b5d6",
   "metadata": {},
   "outputs": [
    {
     "data": {
      "image/png": "[encoded data removed]",
      "text/plain": [
       "<Figure size 864x576 with 1 Axes>"
      ]
     },
     "metadata": {
      "needs_background": "light"
     },
     "output_type": "display_data"
    }
   ],
   "source": [
    "Plot_3d(x_limits=(0,1), y_limits=(0,1), f=joint, cstride=4, rstride=4)"
   ]
  },
  {
   "cell_type": "code",
   "execution_count": 59,
   "id": "3067755b",
   "metadata": {},
   "outputs": [
    {
     "data": {
      "image/png": "[encoded data removed]",
      "text/latex": [
       "$\\displaystyle \\int\\limits_{0}^{1}\\int\\limits_{0}^{y} 120 x \\left(1 - y\\right) \\left(- x + y\\right)\\, dx\\, dy$"
      ],
      "text/plain": [
       "1 y                             \n",
       "⌠ ⌠                             \n",
       "⎮ ⎮ 120⋅x⋅(1 - y)⋅(-x + y) dx dy\n",
       "⌡ ⌡                             \n",
       "0 0                             "
      ]
     },
     "execution_count": 59,
     "metadata": {},
     "output_type": "execute_result"
    }
   ],
   "source": [
    "Integral(f, (x, 0, y), (y, 0, 1))"
   ]
  },
  {
   "cell_type": "code",
   "execution_count": 60,
   "id": "7e06e38f",
   "metadata": {},
   "outputs": [
    {
     "data": {
      "image/png": "[encoded data removed]",
      "text/latex": [
       "$\\displaystyle 1$"
      ],
      "text/plain": [
       "1"
      ]
     },
     "execution_count": 60,
     "metadata": {},
     "output_type": "execute_result"
    }
   ],
   "source": [
    "Integral(f, (x, 0, y), (y, 0, 1)).doit()"
   ]
  },
  {
   "cell_type": "code",
   "execution_count": 61,
   "id": "dbdc1d71",
   "metadata": {},
   "outputs": [
    {
     "data": {
      "image/png": "[encoded data removed]",
      "text/latex": [
       "$\\displaystyle \\int\\limits_{0}^{1}\\int\\limits_{0}^{\\frac{y}{4}} 120 x \\left(1 - y\\right) \\left(- x + y\\right)\\, dx\\, dy$"
      ],
      "text/plain": [
       "  y                             \n",
       "  ─                             \n",
       "1 4                             \n",
       "⌠ ⌠                             \n",
       "⎮ ⎮ 120⋅x⋅(1 - y)⋅(-x + y) dx dy\n",
       "⌡ ⌡                             \n",
       "0 0                             "
      ]
     },
     "execution_count": 61,
     "metadata": {},
     "output_type": "execute_result"
    }
   ],
   "source": [
    "Integral(f, (x, 0, y/4), (y, 0, 1))"
   ]
  },
  {
   "cell_type": "code",
   "execution_count": 62,
   "id": "d2a22d80",
   "metadata": {},
   "outputs": [
    {
     "data": {
      "image/png": "[encoded data removed]",
      "text/latex": [
       "$\\displaystyle \\frac{5}{32}$"
      ],
      "text/plain": [
       "5/32"
      ]
     },
     "execution_count": 62,
     "metadata": {},
     "output_type": "execute_result"
    }
   ],
   "source": [
    "Integral(f, (x, 0, y/4), (y, 0, 1)).doit()"
   ]
  },
  {
   "cell_type": "code",
   "execution_count": 63,
   "id": "dc955793",
   "metadata": {},
   "outputs": [],
   "source": [
    "#Expected Value"
   ]
  },
  {
   "cell_type": "code",
   "execution_count": 64,
   "id": "eca04641",
   "metadata": {},
   "outputs": [
    {
     "data": {
      "image/png": "[encoded data removed]",
      "text/latex": [
       "$\\displaystyle \\int\\limits_{0}^{1}\\int\\limits_{0}^{y} 120 y \\left(1 - y\\right) \\left(- x + y\\right)\\, dx\\, dy$"
      ],
      "text/plain": [
       "1 y                             \n",
       "⌠ ⌠                             \n",
       "⎮ ⎮ 120⋅y⋅(1 - y)⋅(-x + y) dx dy\n",
       "⌡ ⌡                             \n",
       "0 0                             "
      ]
     },
     "execution_count": 64,
     "metadata": {},
     "output_type": "execute_result"
    }
   ],
   "source": [
    "ev_y_over_x = Integral((y/x)*f, (x, 0, y), (y, 0, 1))\n",
    "ev_y_over_x"
   ]
  },
  {
   "cell_type": "code",
   "execution_count": 65,
   "id": "4f7fe19d",
   "metadata": {},
   "outputs": [
    {
     "data": {
      "image/png": "[encoded data removed]",
      "text/latex": [
       "$\\displaystyle 3$"
      ],
      "text/plain": [
       "3"
      ]
     },
     "execution_count": 65,
     "metadata": {},
     "output_type": "execute_result"
    }
   ],
   "source": [
    "ev_y_over_x.doit()"
   ]
  },
  {
   "cell_type": "code",
   "execution_count": null,
   "id": "299e21db",
   "metadata": {},
   "outputs": [],
   "source": []
  }
 ],
 "metadata": {
  "kernelspec": {
   "display_name": "Python 3",
   "language": "python",
   "name": "python3"
  },
  "language_info": {
   "codemirror_mode": {
    "name": "ipython",
    "version": 3
   },
   "file_extension": ".py",
   "mimetype": "text/x-python",
   "name": "python",
   "nbconvert_exporter": "python",
   "pygments_lexer": "ipython3",
   "version": "3.8.8"
  }
 },
 "nbformat": 4,
 "nbformat_minor": 5
}
